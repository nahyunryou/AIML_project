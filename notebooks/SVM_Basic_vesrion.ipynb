{
  "nbformat": 4,
  "nbformat_minor": 0,
  "metadata": {
    "colab": {
      "provenance": [],
      "toc_visible": true,
      "authorship_tag": "ABX9TyOoQzTjVE/C2oBWcADd1Za3",
      "include_colab_link": true
    },
    "kernelspec": {
      "name": "python3",
      "display_name": "Python 3"
    },
    "language_info": {
      "name": "python"
    }
  },
  "cells": [
    {
      "cell_type": "markdown",
      "metadata": {
        "id": "view-in-github",
        "colab_type": "text"
      },
      "source": [
        "<a href=\"https://colab.research.google.com/github/yeray142/AIML_project/blob/master/notebooks/SVM_Basic_vesrion.ipynb\" target=\"_parent\"><img src=\"https://colab.research.google.com/assets/colab-badge.svg\" alt=\"Open In Colab\"/></a>"
      ]
    },
    {
      "cell_type": "markdown",
      "metadata": {
        "id": "2ssFTkoU-jMp"
      },
      "source": [
        "# ML4AI | SVM without \"CODE\" column & old vesrion"
      ]
    },
    {
      "cell_type": "markdown",
      "metadata": {
        "id": "BW-BQCEODJah"
      },
      "source": [
        "### Set up for Project"
      ]
    },
    {
      "cell_type": "markdown",
      "metadata": {
        "id": "WAFYZ7OqDOsw"
      },
      "source": [
        "##### Library"
      ]
    },
    {
      "cell_type": "code",
      "execution_count": 1,
      "metadata": {
        "id": "JA1s3QNaC5i3"
      },
      "outputs": [],
      "source": [
        "import warnings\n",
        "warnings.filterwarnings('ignore')\n",
        "\n",
        "import pandas as pd\n",
        "import numpy as np"
      ]
    },
    {
      "cell_type": "code",
      "execution_count": 2,
      "metadata": {
        "colab": {
          "base_uri": "https://localhost:8080/"
        },
        "id": "ubCEQhsHGnB4",
        "outputId": "efbeac6d-733f-458b-96e0-12186eb6e718"
      },
      "outputs": [
        {
          "output_type": "stream",
          "name": "stdout",
          "text": [
            "Looking in indexes: https://pypi.org/simple, https://us-python.pkg.dev/colab-wheels/public/simple/\n",
            "Collecting optuna\n",
            "  Downloading optuna-3.0.4-py3-none-any.whl (348 kB)\n",
            "\u001b[K     |████████████████████████████████| 348 kB 5.3 MB/s \n",
            "\u001b[?25hRequirement already satisfied: tqdm in /usr/local/lib/python3.8/dist-packages (from optuna) (4.64.1)\n",
            "Requirement already satisfied: numpy in /usr/local/lib/python3.8/dist-packages (from optuna) (1.21.6)\n",
            "Requirement already satisfied: packaging>=20.0 in /usr/local/lib/python3.8/dist-packages (from optuna) (21.3)\n",
            "Requirement already satisfied: scipy<1.9.0,>=1.7.0 in /usr/local/lib/python3.8/dist-packages (from optuna) (1.7.3)\n",
            "Requirement already satisfied: importlib-metadata<5.0.0 in /usr/local/lib/python3.8/dist-packages (from optuna) (4.13.0)\n",
            "Requirement already satisfied: sqlalchemy>=1.3.0 in /usr/local/lib/python3.8/dist-packages (from optuna) (1.4.44)\n",
            "Collecting cliff\n",
            "  Downloading cliff-4.1.0-py3-none-any.whl (81 kB)\n",
            "\u001b[K     |████████████████████████████████| 81 kB 3.9 MB/s \n",
            "\u001b[?25hCollecting alembic>=1.5.0\n",
            "  Downloading alembic-1.8.1-py3-none-any.whl (209 kB)\n",
            "\u001b[K     |████████████████████████████████| 209 kB 7.9 MB/s \n",
            "\u001b[?25hRequirement already satisfied: PyYAML in /usr/local/lib/python3.8/dist-packages (from optuna) (6.0)\n",
            "Collecting colorlog\n",
            "  Downloading colorlog-6.7.0-py2.py3-none-any.whl (11 kB)\n",
            "Collecting cmaes>=0.8.2\n",
            "  Downloading cmaes-0.9.0-py3-none-any.whl (23 kB)\n",
            "Collecting Mako\n",
            "  Downloading Mako-1.2.4-py3-none-any.whl (78 kB)\n",
            "\u001b[K     |████████████████████████████████| 78 kB 2.8 MB/s \n",
            "\u001b[?25hRequirement already satisfied: importlib-resources in /usr/local/lib/python3.8/dist-packages (from alembic>=1.5.0->optuna) (5.10.0)\n",
            "Requirement already satisfied: zipp>=0.5 in /usr/local/lib/python3.8/dist-packages (from importlib-metadata<5.0.0->optuna) (3.11.0)\n",
            "Requirement already satisfied: pyparsing!=3.0.5,>=2.0.2 in /usr/local/lib/python3.8/dist-packages (from packaging>=20.0->optuna) (3.0.9)\n",
            "Requirement already satisfied: greenlet!=0.4.17 in /usr/local/lib/python3.8/dist-packages (from sqlalchemy>=1.3.0->optuna) (2.0.1)\n",
            "Collecting stevedore>=2.0.1\n",
            "  Downloading stevedore-4.1.1-py3-none-any.whl (50 kB)\n",
            "\u001b[K     |████████████████████████████████| 50 kB 2.8 MB/s \n",
            "\u001b[?25hRequirement already satisfied: PrettyTable>=0.7.2 in /usr/local/lib/python3.8/dist-packages (from cliff->optuna) (3.5.0)\n",
            "Collecting cmd2>=1.0.0\n",
            "  Downloading cmd2-2.4.2-py3-none-any.whl (147 kB)\n",
            "\u001b[K     |████████████████████████████████| 147 kB 11.3 MB/s \n",
            "\u001b[?25hCollecting autopage>=0.4.0\n",
            "  Downloading autopage-0.5.1-py3-none-any.whl (29 kB)\n",
            "Collecting pyperclip>=1.6\n",
            "  Downloading pyperclip-1.8.2.tar.gz (20 kB)\n",
            "Requirement already satisfied: attrs>=16.3.0 in /usr/local/lib/python3.8/dist-packages (from cmd2>=1.0.0->cliff->optuna) (22.1.0)\n",
            "Requirement already satisfied: wcwidth>=0.1.7 in /usr/local/lib/python3.8/dist-packages (from cmd2>=1.0.0->cliff->optuna) (0.2.5)\n",
            "Collecting pbr!=2.1.0,>=2.0.0\n",
            "  Downloading pbr-5.11.0-py2.py3-none-any.whl (112 kB)\n",
            "\u001b[K     |████████████████████████████████| 112 kB 16.3 MB/s \n",
            "\u001b[?25hRequirement already satisfied: MarkupSafe>=0.9.2 in /usr/local/lib/python3.8/dist-packages (from Mako->alembic>=1.5.0->optuna) (2.0.1)\n",
            "Building wheels for collected packages: pyperclip\n",
            "  Building wheel for pyperclip (setup.py) ... \u001b[?25l\u001b[?25hdone\n",
            "  Created wheel for pyperclip: filename=pyperclip-1.8.2-py3-none-any.whl size=11136 sha256=625b06557a456a99a28b4dabcc94a52697b44679d654eedb9d22b8d341902c7e\n",
            "  Stored in directory: /root/.cache/pip/wheels/7f/1a/65/84ff8c386bec21fca6d220ea1f5498a0367883a78dd5ba6122\n",
            "Successfully built pyperclip\n",
            "Installing collected packages: pyperclip, pbr, stevedore, Mako, cmd2, autopage, colorlog, cmaes, cliff, alembic, optuna\n",
            "Successfully installed Mako-1.2.4 alembic-1.8.1 autopage-0.5.1 cliff-4.1.0 cmaes-0.9.0 cmd2-2.4.2 colorlog-6.7.0 optuna-3.0.4 pbr-5.11.0 pyperclip-1.8.2 stevedore-4.1.1\n"
          ]
        }
      ],
      "source": [
        "!pip install optuna"
      ]
    },
    {
      "cell_type": "code",
      "execution_count": 3,
      "metadata": {
        "id": "y8XmfCE3Du9M"
      },
      "outputs": [],
      "source": [
        "# Modeling\n",
        "import sklearn\n",
        "assert sklearn.__version__ >= \"0.20\"\n",
        "\n",
        "from sklearn.model_selection import train_test_split,GridSearchCV,cross_val_score, KFold,StratifiedKFold\n",
        "from sklearn.preprocessing import OrdinalEncoder, StandardScaler\n",
        "\n",
        "from sklearn.svm import SVC\n",
        "from sklearn.metrics import log_loss"
      ]
    },
    {
      "cell_type": "code",
      "execution_count": 4,
      "metadata": {
        "id": "4343iVLWVSRZ"
      },
      "outputs": [],
      "source": [
        "import optuna\n",
        "from optuna import Trial\n",
        "from optuna.samplers import TPESampler"
      ]
    },
    {
      "cell_type": "markdown",
      "metadata": {
        "id": "PzlktMVQDqXV"
      },
      "source": [
        "#### Data Load"
      ]
    },
    {
      "cell_type": "code",
      "execution_count": 5,
      "metadata": {
        "colab": {
          "base_uri": "https://localhost:8080/"
        },
        "id": "v-59SRrFjAJh",
        "outputId": "323614eb-544b-4408-d433-3241469d2b32"
      },
      "outputs": [
        {
          "output_type": "stream",
          "name": "stdout",
          "text": [
            "Mounted at /content/drive\n"
          ]
        }
      ],
      "source": [
        "from google.colab import drive\n",
        "drive.mount('/content/drive')"
      ]
    },
    {
      "cell_type": "code",
      "execution_count": 6,
      "metadata": {
        "id": "dcZ_TQnSCBKm"
      },
      "outputs": [],
      "source": [
        "df_train = pd.read_csv(\"/content/drive/MyDrive/ML4AI/cleaned_train.csv\")\n",
        "df_test = pd.read_csv(\"/content/drive/MyDrive/ML4AI/cleaned_test.csv\")"
      ]
    },
    {
      "cell_type": "code",
      "execution_count": 7,
      "metadata": {
        "id": "-Js03bfQXcE9"
      },
      "outputs": [],
      "source": [
        "df_train = df_train.drop(['Unnamed: 0','CODE'], axis=1)\n",
        "df_test = df_test.drop(['index','CODE'],axis =1)"
      ]
    },
    {
      "cell_type": "markdown",
      "metadata": {
        "id": "t3-kgbpl2XFt"
      },
      "source": [
        "## Data EDA"
      ]
    },
    {
      "cell_type": "markdown",
      "metadata": {
        "id": "BsDYaW5hGsnI"
      },
      "source": [
        "#### **Basic EDA**"
      ]
    },
    {
      "cell_type": "code",
      "execution_count": 8,
      "metadata": {
        "colab": {
          "base_uri": "https://localhost:8080/",
          "height": 427
        },
        "id": "bIryZtbYy-7n",
        "outputId": "e2478ab0-abe1-4fb4-b8e4-a142e7a90f70"
      },
      "outputs": [
        {
          "output_type": "execute_result",
          "data": {
            "text/plain": [
              "  gender car reality  child_num  income_total           income_type  \\\n",
              "0      F   N       N          0      202500.0  Commercial associate   \n",
              "1      F   N       Y          1      247500.0  Commercial associate   \n",
              "2      M   Y       Y          0      450000.0               Working   \n",
              "3      F   N       Y          0      202500.0  Commercial associate   \n",
              "4      F   Y       Y          0      157500.0         State servant   \n",
              "\n",
              "                        edu_type     family_type           house_type  \\\n",
              "0               Higher education         Married  Municipal apartment   \n",
              "1  Secondary / secondary special  Civil marriage    House / apartment   \n",
              "2               Higher education         Married    House / apartment   \n",
              "3  Secondary / secondary special         Married    House / apartment   \n",
              "4               Higher education         Married    House / apartment   \n",
              "\n",
              "   days_birth  days_employed  work_phone  home_phone  email   occup_type  \\\n",
              "0       13899           4709           0           0      0       No job   \n",
              "1       11380           1540           0           0      1     Laborers   \n",
              "2       19087           4434           0           1      0     Managers   \n",
              "3       15088           2092           0           1      0  Sales staff   \n",
              "4       15037           2105           0           0      0     Managers   \n",
              "\n",
              "   family_size  begin_month  credit  \n",
              "0          2.0            6     1.0  \n",
              "1          3.0            5     1.0  \n",
              "2          2.0           22     2.0  \n",
              "3          2.0           37     0.0  \n",
              "4          2.0           26     2.0  "
            ],
            "text/html": [
              "\n",
              "  <div id=\"df-aef8e661-74dd-45b4-87ba-72428be6b43d\">\n",
              "    <div class=\"colab-df-container\">\n",
              "      <div>\n",
              "<style scoped>\n",
              "    .dataframe tbody tr th:only-of-type {\n",
              "        vertical-align: middle;\n",
              "    }\n",
              "\n",
              "    .dataframe tbody tr th {\n",
              "        vertical-align: top;\n",
              "    }\n",
              "\n",
              "    .dataframe thead th {\n",
              "        text-align: right;\n",
              "    }\n",
              "</style>\n",
              "<table border=\"1\" class=\"dataframe\">\n",
              "  <thead>\n",
              "    <tr style=\"text-align: right;\">\n",
              "      <th></th>\n",
              "      <th>gender</th>\n",
              "      <th>car</th>\n",
              "      <th>reality</th>\n",
              "      <th>child_num</th>\n",
              "      <th>income_total</th>\n",
              "      <th>income_type</th>\n",
              "      <th>edu_type</th>\n",
              "      <th>family_type</th>\n",
              "      <th>house_type</th>\n",
              "      <th>days_birth</th>\n",
              "      <th>days_employed</th>\n",
              "      <th>work_phone</th>\n",
              "      <th>home_phone</th>\n",
              "      <th>email</th>\n",
              "      <th>occup_type</th>\n",
              "      <th>family_size</th>\n",
              "      <th>begin_month</th>\n",
              "      <th>credit</th>\n",
              "    </tr>\n",
              "  </thead>\n",
              "  <tbody>\n",
              "    <tr>\n",
              "      <th>0</th>\n",
              "      <td>F</td>\n",
              "      <td>N</td>\n",
              "      <td>N</td>\n",
              "      <td>0</td>\n",
              "      <td>202500.0</td>\n",
              "      <td>Commercial associate</td>\n",
              "      <td>Higher education</td>\n",
              "      <td>Married</td>\n",
              "      <td>Municipal apartment</td>\n",
              "      <td>13899</td>\n",
              "      <td>4709</td>\n",
              "      <td>0</td>\n",
              "      <td>0</td>\n",
              "      <td>0</td>\n",
              "      <td>No job</td>\n",
              "      <td>2.0</td>\n",
              "      <td>6</td>\n",
              "      <td>1.0</td>\n",
              "    </tr>\n",
              "    <tr>\n",
              "      <th>1</th>\n",
              "      <td>F</td>\n",
              "      <td>N</td>\n",
              "      <td>Y</td>\n",
              "      <td>1</td>\n",
              "      <td>247500.0</td>\n",
              "      <td>Commercial associate</td>\n",
              "      <td>Secondary / secondary special</td>\n",
              "      <td>Civil marriage</td>\n",
              "      <td>House / apartment</td>\n",
              "      <td>11380</td>\n",
              "      <td>1540</td>\n",
              "      <td>0</td>\n",
              "      <td>0</td>\n",
              "      <td>1</td>\n",
              "      <td>Laborers</td>\n",
              "      <td>3.0</td>\n",
              "      <td>5</td>\n",
              "      <td>1.0</td>\n",
              "    </tr>\n",
              "    <tr>\n",
              "      <th>2</th>\n",
              "      <td>M</td>\n",
              "      <td>Y</td>\n",
              "      <td>Y</td>\n",
              "      <td>0</td>\n",
              "      <td>450000.0</td>\n",
              "      <td>Working</td>\n",
              "      <td>Higher education</td>\n",
              "      <td>Married</td>\n",
              "      <td>House / apartment</td>\n",
              "      <td>19087</td>\n",
              "      <td>4434</td>\n",
              "      <td>0</td>\n",
              "      <td>1</td>\n",
              "      <td>0</td>\n",
              "      <td>Managers</td>\n",
              "      <td>2.0</td>\n",
              "      <td>22</td>\n",
              "      <td>2.0</td>\n",
              "    </tr>\n",
              "    <tr>\n",
              "      <th>3</th>\n",
              "      <td>F</td>\n",
              "      <td>N</td>\n",
              "      <td>Y</td>\n",
              "      <td>0</td>\n",
              "      <td>202500.0</td>\n",
              "      <td>Commercial associate</td>\n",
              "      <td>Secondary / secondary special</td>\n",
              "      <td>Married</td>\n",
              "      <td>House / apartment</td>\n",
              "      <td>15088</td>\n",
              "      <td>2092</td>\n",
              "      <td>0</td>\n",
              "      <td>1</td>\n",
              "      <td>0</td>\n",
              "      <td>Sales staff</td>\n",
              "      <td>2.0</td>\n",
              "      <td>37</td>\n",
              "      <td>0.0</td>\n",
              "    </tr>\n",
              "    <tr>\n",
              "      <th>4</th>\n",
              "      <td>F</td>\n",
              "      <td>Y</td>\n",
              "      <td>Y</td>\n",
              "      <td>0</td>\n",
              "      <td>157500.0</td>\n",
              "      <td>State servant</td>\n",
              "      <td>Higher education</td>\n",
              "      <td>Married</td>\n",
              "      <td>House / apartment</td>\n",
              "      <td>15037</td>\n",
              "      <td>2105</td>\n",
              "      <td>0</td>\n",
              "      <td>0</td>\n",
              "      <td>0</td>\n",
              "      <td>Managers</td>\n",
              "      <td>2.0</td>\n",
              "      <td>26</td>\n",
              "      <td>2.0</td>\n",
              "    </tr>\n",
              "  </tbody>\n",
              "</table>\n",
              "</div>\n",
              "      <button class=\"colab-df-convert\" onclick=\"convertToInteractive('df-aef8e661-74dd-45b4-87ba-72428be6b43d')\"\n",
              "              title=\"Convert this dataframe to an interactive table.\"\n",
              "              style=\"display:none;\">\n",
              "        \n",
              "  <svg xmlns=\"http://www.w3.org/2000/svg\" height=\"24px\"viewBox=\"0 0 24 24\"\n",
              "       width=\"24px\">\n",
              "    <path d=\"M0 0h24v24H0V0z\" fill=\"none\"/>\n",
              "    <path d=\"M18.56 5.44l.94 2.06.94-2.06 2.06-.94-2.06-.94-.94-2.06-.94 2.06-2.06.94zm-11 1L8.5 8.5l.94-2.06 2.06-.94-2.06-.94L8.5 2.5l-.94 2.06-2.06.94zm10 10l.94 2.06.94-2.06 2.06-.94-2.06-.94-.94-2.06-.94 2.06-2.06.94z\"/><path d=\"M17.41 7.96l-1.37-1.37c-.4-.4-.92-.59-1.43-.59-.52 0-1.04.2-1.43.59L10.3 9.45l-7.72 7.72c-.78.78-.78 2.05 0 2.83L4 21.41c.39.39.9.59 1.41.59.51 0 1.02-.2 1.41-.59l7.78-7.78 2.81-2.81c.8-.78.8-2.07 0-2.86zM5.41 20L4 18.59l7.72-7.72 1.47 1.35L5.41 20z\"/>\n",
              "  </svg>\n",
              "      </button>\n",
              "      \n",
              "  <style>\n",
              "    .colab-df-container {\n",
              "      display:flex;\n",
              "      flex-wrap:wrap;\n",
              "      gap: 12px;\n",
              "    }\n",
              "\n",
              "    .colab-df-convert {\n",
              "      background-color: #E8F0FE;\n",
              "      border: none;\n",
              "      border-radius: 50%;\n",
              "      cursor: pointer;\n",
              "      display: none;\n",
              "      fill: #1967D2;\n",
              "      height: 32px;\n",
              "      padding: 0 0 0 0;\n",
              "      width: 32px;\n",
              "    }\n",
              "\n",
              "    .colab-df-convert:hover {\n",
              "      background-color: #E2EBFA;\n",
              "      box-shadow: 0px 1px 2px rgba(60, 64, 67, 0.3), 0px 1px 3px 1px rgba(60, 64, 67, 0.15);\n",
              "      fill: #174EA6;\n",
              "    }\n",
              "\n",
              "    [theme=dark] .colab-df-convert {\n",
              "      background-color: #3B4455;\n",
              "      fill: #D2E3FC;\n",
              "    }\n",
              "\n",
              "    [theme=dark] .colab-df-convert:hover {\n",
              "      background-color: #434B5C;\n",
              "      box-shadow: 0px 1px 3px 1px rgba(0, 0, 0, 0.15);\n",
              "      filter: drop-shadow(0px 1px 2px rgba(0, 0, 0, 0.3));\n",
              "      fill: #FFFFFF;\n",
              "    }\n",
              "  </style>\n",
              "\n",
              "      <script>\n",
              "        const buttonEl =\n",
              "          document.querySelector('#df-aef8e661-74dd-45b4-87ba-72428be6b43d button.colab-df-convert');\n",
              "        buttonEl.style.display =\n",
              "          google.colab.kernel.accessAllowed ? 'block' : 'none';\n",
              "\n",
              "        async function convertToInteractive(key) {\n",
              "          const element = document.querySelector('#df-aef8e661-74dd-45b4-87ba-72428be6b43d');\n",
              "          const dataTable =\n",
              "            await google.colab.kernel.invokeFunction('convertToInteractive',\n",
              "                                                     [key], {});\n",
              "          if (!dataTable) return;\n",
              "\n",
              "          const docLinkHtml = 'Like what you see? Visit the ' +\n",
              "            '<a target=\"_blank\" href=https://colab.research.google.com/notebooks/data_table.ipynb>data table notebook</a>'\n",
              "            + ' to learn more about interactive tables.';\n",
              "          element.innerHTML = '';\n",
              "          dataTable['output_type'] = 'display_data';\n",
              "          await google.colab.output.renderOutput(dataTable, element);\n",
              "          const docLink = document.createElement('div');\n",
              "          docLink.innerHTML = docLinkHtml;\n",
              "          element.appendChild(docLink);\n",
              "        }\n",
              "      </script>\n",
              "    </div>\n",
              "  </div>\n",
              "  "
            ]
          },
          "metadata": {},
          "execution_count": 8
        }
      ],
      "source": [
        "df_train.head()"
      ]
    },
    {
      "cell_type": "code",
      "execution_count": 9,
      "metadata": {
        "colab": {
          "base_uri": "https://localhost:8080/",
          "height": 461
        },
        "id": "0jS6pvKbX8-d",
        "outputId": "ab555b9d-8c1e-4a25-fac1-fb3c34a5f2d3"
      },
      "outputs": [
        {
          "output_type": "execute_result",
          "data": {
            "text/plain": [
              "  gender car reality  child_num  income_total           income_type  \\\n",
              "0      M   Y       N          0      112500.0             Pensioner   \n",
              "1      F   N       Y          0      135000.0         State servant   \n",
              "2      F   N       Y          0       69372.0               Working   \n",
              "3      M   Y       N          0      112500.0  Commercial associate   \n",
              "4      F   Y       Y          0      225000.0         State servant   \n",
              "\n",
              "                        edu_type     family_type         house_type  \\\n",
              "0  Secondary / secondary special  Civil marriage  House / apartment   \n",
              "1               Higher education         Married  House / apartment   \n",
              "2  Secondary / secondary special         Married  House / apartment   \n",
              "3  Secondary / secondary special         Married  House / apartment   \n",
              "4               Higher education         Married  House / apartment   \n",
              "\n",
              "   days_birth  days_employed  work_phone  home_phone  email  occup_type  \\\n",
              "0       21990              0           0           1      0      No job   \n",
              "1       18964           8671           0           1      0  Core staff   \n",
              "2       15887            217           1           1      0    Laborers   \n",
              "3       19270           2531           1           0      0     Drivers   \n",
              "4       17822           9385           1           0      0    Managers   \n",
              "\n",
              "   family_size  begin_month  \n",
              "0          2.0           60  \n",
              "1          2.0           36  \n",
              "2          2.0           40  \n",
              "3          2.0           41  \n",
              "4          2.0            8  "
            ],
            "text/html": [
              "\n",
              "  <div id=\"df-22f9554d-0138-4788-aa3d-53c42be6649e\">\n",
              "    <div class=\"colab-df-container\">\n",
              "      <div>\n",
              "<style scoped>\n",
              "    .dataframe tbody tr th:only-of-type {\n",
              "        vertical-align: middle;\n",
              "    }\n",
              "\n",
              "    .dataframe tbody tr th {\n",
              "        vertical-align: top;\n",
              "    }\n",
              "\n",
              "    .dataframe thead th {\n",
              "        text-align: right;\n",
              "    }\n",
              "</style>\n",
              "<table border=\"1\" class=\"dataframe\">\n",
              "  <thead>\n",
              "    <tr style=\"text-align: right;\">\n",
              "      <th></th>\n",
              "      <th>gender</th>\n",
              "      <th>car</th>\n",
              "      <th>reality</th>\n",
              "      <th>child_num</th>\n",
              "      <th>income_total</th>\n",
              "      <th>income_type</th>\n",
              "      <th>edu_type</th>\n",
              "      <th>family_type</th>\n",
              "      <th>house_type</th>\n",
              "      <th>days_birth</th>\n",
              "      <th>days_employed</th>\n",
              "      <th>work_phone</th>\n",
              "      <th>home_phone</th>\n",
              "      <th>email</th>\n",
              "      <th>occup_type</th>\n",
              "      <th>family_size</th>\n",
              "      <th>begin_month</th>\n",
              "    </tr>\n",
              "  </thead>\n",
              "  <tbody>\n",
              "    <tr>\n",
              "      <th>0</th>\n",
              "      <td>M</td>\n",
              "      <td>Y</td>\n",
              "      <td>N</td>\n",
              "      <td>0</td>\n",
              "      <td>112500.0</td>\n",
              "      <td>Pensioner</td>\n",
              "      <td>Secondary / secondary special</td>\n",
              "      <td>Civil marriage</td>\n",
              "      <td>House / apartment</td>\n",
              "      <td>21990</td>\n",
              "      <td>0</td>\n",
              "      <td>0</td>\n",
              "      <td>1</td>\n",
              "      <td>0</td>\n",
              "      <td>No job</td>\n",
              "      <td>2.0</td>\n",
              "      <td>60</td>\n",
              "    </tr>\n",
              "    <tr>\n",
              "      <th>1</th>\n",
              "      <td>F</td>\n",
              "      <td>N</td>\n",
              "      <td>Y</td>\n",
              "      <td>0</td>\n",
              "      <td>135000.0</td>\n",
              "      <td>State servant</td>\n",
              "      <td>Higher education</td>\n",
              "      <td>Married</td>\n",
              "      <td>House / apartment</td>\n",
              "      <td>18964</td>\n",
              "      <td>8671</td>\n",
              "      <td>0</td>\n",
              "      <td>1</td>\n",
              "      <td>0</td>\n",
              "      <td>Core staff</td>\n",
              "      <td>2.0</td>\n",
              "      <td>36</td>\n",
              "    </tr>\n",
              "    <tr>\n",
              "      <th>2</th>\n",
              "      <td>F</td>\n",
              "      <td>N</td>\n",
              "      <td>Y</td>\n",
              "      <td>0</td>\n",
              "      <td>69372.0</td>\n",
              "      <td>Working</td>\n",
              "      <td>Secondary / secondary special</td>\n",
              "      <td>Married</td>\n",
              "      <td>House / apartment</td>\n",
              "      <td>15887</td>\n",
              "      <td>217</td>\n",
              "      <td>1</td>\n",
              "      <td>1</td>\n",
              "      <td>0</td>\n",
              "      <td>Laborers</td>\n",
              "      <td>2.0</td>\n",
              "      <td>40</td>\n",
              "    </tr>\n",
              "    <tr>\n",
              "      <th>3</th>\n",
              "      <td>M</td>\n",
              "      <td>Y</td>\n",
              "      <td>N</td>\n",
              "      <td>0</td>\n",
              "      <td>112500.0</td>\n",
              "      <td>Commercial associate</td>\n",
              "      <td>Secondary / secondary special</td>\n",
              "      <td>Married</td>\n",
              "      <td>House / apartment</td>\n",
              "      <td>19270</td>\n",
              "      <td>2531</td>\n",
              "      <td>1</td>\n",
              "      <td>0</td>\n",
              "      <td>0</td>\n",
              "      <td>Drivers</td>\n",
              "      <td>2.0</td>\n",
              "      <td>41</td>\n",
              "    </tr>\n",
              "    <tr>\n",
              "      <th>4</th>\n",
              "      <td>F</td>\n",
              "      <td>Y</td>\n",
              "      <td>Y</td>\n",
              "      <td>0</td>\n",
              "      <td>225000.0</td>\n",
              "      <td>State servant</td>\n",
              "      <td>Higher education</td>\n",
              "      <td>Married</td>\n",
              "      <td>House / apartment</td>\n",
              "      <td>17822</td>\n",
              "      <td>9385</td>\n",
              "      <td>1</td>\n",
              "      <td>0</td>\n",
              "      <td>0</td>\n",
              "      <td>Managers</td>\n",
              "      <td>2.0</td>\n",
              "      <td>8</td>\n",
              "    </tr>\n",
              "  </tbody>\n",
              "</table>\n",
              "</div>\n",
              "      <button class=\"colab-df-convert\" onclick=\"convertToInteractive('df-22f9554d-0138-4788-aa3d-53c42be6649e')\"\n",
              "              title=\"Convert this dataframe to an interactive table.\"\n",
              "              style=\"display:none;\">\n",
              "        \n",
              "  <svg xmlns=\"http://www.w3.org/2000/svg\" height=\"24px\"viewBox=\"0 0 24 24\"\n",
              "       width=\"24px\">\n",
              "    <path d=\"M0 0h24v24H0V0z\" fill=\"none\"/>\n",
              "    <path d=\"M18.56 5.44l.94 2.06.94-2.06 2.06-.94-2.06-.94-.94-2.06-.94 2.06-2.06.94zm-11 1L8.5 8.5l.94-2.06 2.06-.94-2.06-.94L8.5 2.5l-.94 2.06-2.06.94zm10 10l.94 2.06.94-2.06 2.06-.94-2.06-.94-.94-2.06-.94 2.06-2.06.94z\"/><path d=\"M17.41 7.96l-1.37-1.37c-.4-.4-.92-.59-1.43-.59-.52 0-1.04.2-1.43.59L10.3 9.45l-7.72 7.72c-.78.78-.78 2.05 0 2.83L4 21.41c.39.39.9.59 1.41.59.51 0 1.02-.2 1.41-.59l7.78-7.78 2.81-2.81c.8-.78.8-2.07 0-2.86zM5.41 20L4 18.59l7.72-7.72 1.47 1.35L5.41 20z\"/>\n",
              "  </svg>\n",
              "      </button>\n",
              "      \n",
              "  <style>\n",
              "    .colab-df-container {\n",
              "      display:flex;\n",
              "      flex-wrap:wrap;\n",
              "      gap: 12px;\n",
              "    }\n",
              "\n",
              "    .colab-df-convert {\n",
              "      background-color: #E8F0FE;\n",
              "      border: none;\n",
              "      border-radius: 50%;\n",
              "      cursor: pointer;\n",
              "      display: none;\n",
              "      fill: #1967D2;\n",
              "      height: 32px;\n",
              "      padding: 0 0 0 0;\n",
              "      width: 32px;\n",
              "    }\n",
              "\n",
              "    .colab-df-convert:hover {\n",
              "      background-color: #E2EBFA;\n",
              "      box-shadow: 0px 1px 2px rgba(60, 64, 67, 0.3), 0px 1px 3px 1px rgba(60, 64, 67, 0.15);\n",
              "      fill: #174EA6;\n",
              "    }\n",
              "\n",
              "    [theme=dark] .colab-df-convert {\n",
              "      background-color: #3B4455;\n",
              "      fill: #D2E3FC;\n",
              "    }\n",
              "\n",
              "    [theme=dark] .colab-df-convert:hover {\n",
              "      background-color: #434B5C;\n",
              "      box-shadow: 0px 1px 3px 1px rgba(0, 0, 0, 0.15);\n",
              "      filter: drop-shadow(0px 1px 2px rgba(0, 0, 0, 0.3));\n",
              "      fill: #FFFFFF;\n",
              "    }\n",
              "  </style>\n",
              "\n",
              "      <script>\n",
              "        const buttonEl =\n",
              "          document.querySelector('#df-22f9554d-0138-4788-aa3d-53c42be6649e button.colab-df-convert');\n",
              "        buttonEl.style.display =\n",
              "          google.colab.kernel.accessAllowed ? 'block' : 'none';\n",
              "\n",
              "        async function convertToInteractive(key) {\n",
              "          const element = document.querySelector('#df-22f9554d-0138-4788-aa3d-53c42be6649e');\n",
              "          const dataTable =\n",
              "            await google.colab.kernel.invokeFunction('convertToInteractive',\n",
              "                                                     [key], {});\n",
              "          if (!dataTable) return;\n",
              "\n",
              "          const docLinkHtml = 'Like what you see? Visit the ' +\n",
              "            '<a target=\"_blank\" href=https://colab.research.google.com/notebooks/data_table.ipynb>data table notebook</a>'\n",
              "            + ' to learn more about interactive tables.';\n",
              "          element.innerHTML = '';\n",
              "          dataTable['output_type'] = 'display_data';\n",
              "          await google.colab.output.renderOutput(dataTable, element);\n",
              "          const docLink = document.createElement('div');\n",
              "          docLink.innerHTML = docLinkHtml;\n",
              "          element.appendChild(docLink);\n",
              "        }\n",
              "      </script>\n",
              "    </div>\n",
              "  </div>\n",
              "  "
            ]
          },
          "metadata": {},
          "execution_count": 9
        }
      ],
      "source": [
        "df_test.head()"
      ]
    },
    {
      "cell_type": "code",
      "execution_count": 10,
      "metadata": {
        "colab": {
          "base_uri": "https://localhost:8080/",
          "height": 300
        },
        "id": "m_qCqRbClW09",
        "outputId": "20824c94-d064-48dc-9004-3c0ac09e6b64"
      },
      "outputs": [
        {
          "output_type": "execute_result",
          "data": {
            "text/plain": [
              "          child_num  income_total    days_birth  days_employed    work_phone  \\\n",
              "count  24817.000000  2.481700e+04  24817.000000   24817.000000  24817.000000   \n",
              "mean       0.430874  1.868744e+05  15951.287625    2198.272112      0.225249   \n",
              "std        0.750609  1.008656e+05   4205.102462    2371.033103      0.417754   \n",
              "min        0.000000  2.700000e+04   7705.000000       0.000000      0.000000   \n",
              "25%        0.000000  1.215000e+05  12443.000000     407.000000      0.000000   \n",
              "50%        0.000000  1.575000e+05  15536.000000    1539.000000      0.000000   \n",
              "75%        1.000000  2.250000e+05  19428.000000    3153.000000      0.000000   \n",
              "max       19.000000  1.575000e+06  25152.000000   15713.000000      1.000000   \n",
              "\n",
              "         home_phone         email   family_size   begin_month        credit  \n",
              "count  24817.000000  24817.000000  24817.000000  24817.000000  24817.000000  \n",
              "mean       0.294274      0.091510      2.199057     26.054318      1.514325  \n",
              "std        0.455725      0.288339      0.919132     16.532853      0.704571  \n",
              "min        0.000000      0.000000      1.000000      0.000000      0.000000  \n",
              "25%        0.000000      0.000000      2.000000     12.000000      1.000000  \n",
              "50%        0.000000      0.000000      2.000000     24.000000      2.000000  \n",
              "75%        1.000000      0.000000      3.000000     39.000000      2.000000  \n",
              "max        1.000000      1.000000     20.000000     60.000000      2.000000  "
            ],
            "text/html": [
              "\n",
              "  <div id=\"df-1f3c8bee-2a1f-4cad-ba4e-705b3b62bccf\">\n",
              "    <div class=\"colab-df-container\">\n",
              "      <div>\n",
              "<style scoped>\n",
              "    .dataframe tbody tr th:only-of-type {\n",
              "        vertical-align: middle;\n",
              "    }\n",
              "\n",
              "    .dataframe tbody tr th {\n",
              "        vertical-align: top;\n",
              "    }\n",
              "\n",
              "    .dataframe thead th {\n",
              "        text-align: right;\n",
              "    }\n",
              "</style>\n",
              "<table border=\"1\" class=\"dataframe\">\n",
              "  <thead>\n",
              "    <tr style=\"text-align: right;\">\n",
              "      <th></th>\n",
              "      <th>child_num</th>\n",
              "      <th>income_total</th>\n",
              "      <th>days_birth</th>\n",
              "      <th>days_employed</th>\n",
              "      <th>work_phone</th>\n",
              "      <th>home_phone</th>\n",
              "      <th>email</th>\n",
              "      <th>family_size</th>\n",
              "      <th>begin_month</th>\n",
              "      <th>credit</th>\n",
              "    </tr>\n",
              "  </thead>\n",
              "  <tbody>\n",
              "    <tr>\n",
              "      <th>count</th>\n",
              "      <td>24817.000000</td>\n",
              "      <td>2.481700e+04</td>\n",
              "      <td>24817.000000</td>\n",
              "      <td>24817.000000</td>\n",
              "      <td>24817.000000</td>\n",
              "      <td>24817.000000</td>\n",
              "      <td>24817.000000</td>\n",
              "      <td>24817.000000</td>\n",
              "      <td>24817.000000</td>\n",
              "      <td>24817.000000</td>\n",
              "    </tr>\n",
              "    <tr>\n",
              "      <th>mean</th>\n",
              "      <td>0.430874</td>\n",
              "      <td>1.868744e+05</td>\n",
              "      <td>15951.287625</td>\n",
              "      <td>2198.272112</td>\n",
              "      <td>0.225249</td>\n",
              "      <td>0.294274</td>\n",
              "      <td>0.091510</td>\n",
              "      <td>2.199057</td>\n",
              "      <td>26.054318</td>\n",
              "      <td>1.514325</td>\n",
              "    </tr>\n",
              "    <tr>\n",
              "      <th>std</th>\n",
              "      <td>0.750609</td>\n",
              "      <td>1.008656e+05</td>\n",
              "      <td>4205.102462</td>\n",
              "      <td>2371.033103</td>\n",
              "      <td>0.417754</td>\n",
              "      <td>0.455725</td>\n",
              "      <td>0.288339</td>\n",
              "      <td>0.919132</td>\n",
              "      <td>16.532853</td>\n",
              "      <td>0.704571</td>\n",
              "    </tr>\n",
              "    <tr>\n",
              "      <th>min</th>\n",
              "      <td>0.000000</td>\n",
              "      <td>2.700000e+04</td>\n",
              "      <td>7705.000000</td>\n",
              "      <td>0.000000</td>\n",
              "      <td>0.000000</td>\n",
              "      <td>0.000000</td>\n",
              "      <td>0.000000</td>\n",
              "      <td>1.000000</td>\n",
              "      <td>0.000000</td>\n",
              "      <td>0.000000</td>\n",
              "    </tr>\n",
              "    <tr>\n",
              "      <th>25%</th>\n",
              "      <td>0.000000</td>\n",
              "      <td>1.215000e+05</td>\n",
              "      <td>12443.000000</td>\n",
              "      <td>407.000000</td>\n",
              "      <td>0.000000</td>\n",
              "      <td>0.000000</td>\n",
              "      <td>0.000000</td>\n",
              "      <td>2.000000</td>\n",
              "      <td>12.000000</td>\n",
              "      <td>1.000000</td>\n",
              "    </tr>\n",
              "    <tr>\n",
              "      <th>50%</th>\n",
              "      <td>0.000000</td>\n",
              "      <td>1.575000e+05</td>\n",
              "      <td>15536.000000</td>\n",
              "      <td>1539.000000</td>\n",
              "      <td>0.000000</td>\n",
              "      <td>0.000000</td>\n",
              "      <td>0.000000</td>\n",
              "      <td>2.000000</td>\n",
              "      <td>24.000000</td>\n",
              "      <td>2.000000</td>\n",
              "    </tr>\n",
              "    <tr>\n",
              "      <th>75%</th>\n",
              "      <td>1.000000</td>\n",
              "      <td>2.250000e+05</td>\n",
              "      <td>19428.000000</td>\n",
              "      <td>3153.000000</td>\n",
              "      <td>0.000000</td>\n",
              "      <td>1.000000</td>\n",
              "      <td>0.000000</td>\n",
              "      <td>3.000000</td>\n",
              "      <td>39.000000</td>\n",
              "      <td>2.000000</td>\n",
              "    </tr>\n",
              "    <tr>\n",
              "      <th>max</th>\n",
              "      <td>19.000000</td>\n",
              "      <td>1.575000e+06</td>\n",
              "      <td>25152.000000</td>\n",
              "      <td>15713.000000</td>\n",
              "      <td>1.000000</td>\n",
              "      <td>1.000000</td>\n",
              "      <td>1.000000</td>\n",
              "      <td>20.000000</td>\n",
              "      <td>60.000000</td>\n",
              "      <td>2.000000</td>\n",
              "    </tr>\n",
              "  </tbody>\n",
              "</table>\n",
              "</div>\n",
              "      <button class=\"colab-df-convert\" onclick=\"convertToInteractive('df-1f3c8bee-2a1f-4cad-ba4e-705b3b62bccf')\"\n",
              "              title=\"Convert this dataframe to an interactive table.\"\n",
              "              style=\"display:none;\">\n",
              "        \n",
              "  <svg xmlns=\"http://www.w3.org/2000/svg\" height=\"24px\"viewBox=\"0 0 24 24\"\n",
              "       width=\"24px\">\n",
              "    <path d=\"M0 0h24v24H0V0z\" fill=\"none\"/>\n",
              "    <path d=\"M18.56 5.44l.94 2.06.94-2.06 2.06-.94-2.06-.94-.94-2.06-.94 2.06-2.06.94zm-11 1L8.5 8.5l.94-2.06 2.06-.94-2.06-.94L8.5 2.5l-.94 2.06-2.06.94zm10 10l.94 2.06.94-2.06 2.06-.94-2.06-.94-.94-2.06-.94 2.06-2.06.94z\"/><path d=\"M17.41 7.96l-1.37-1.37c-.4-.4-.92-.59-1.43-.59-.52 0-1.04.2-1.43.59L10.3 9.45l-7.72 7.72c-.78.78-.78 2.05 0 2.83L4 21.41c.39.39.9.59 1.41.59.51 0 1.02-.2 1.41-.59l7.78-7.78 2.81-2.81c.8-.78.8-2.07 0-2.86zM5.41 20L4 18.59l7.72-7.72 1.47 1.35L5.41 20z\"/>\n",
              "  </svg>\n",
              "      </button>\n",
              "      \n",
              "  <style>\n",
              "    .colab-df-container {\n",
              "      display:flex;\n",
              "      flex-wrap:wrap;\n",
              "      gap: 12px;\n",
              "    }\n",
              "\n",
              "    .colab-df-convert {\n",
              "      background-color: #E8F0FE;\n",
              "      border: none;\n",
              "      border-radius: 50%;\n",
              "      cursor: pointer;\n",
              "      display: none;\n",
              "      fill: #1967D2;\n",
              "      height: 32px;\n",
              "      padding: 0 0 0 0;\n",
              "      width: 32px;\n",
              "    }\n",
              "\n",
              "    .colab-df-convert:hover {\n",
              "      background-color: #E2EBFA;\n",
              "      box-shadow: 0px 1px 2px rgba(60, 64, 67, 0.3), 0px 1px 3px 1px rgba(60, 64, 67, 0.15);\n",
              "      fill: #174EA6;\n",
              "    }\n",
              "\n",
              "    [theme=dark] .colab-df-convert {\n",
              "      background-color: #3B4455;\n",
              "      fill: #D2E3FC;\n",
              "    }\n",
              "\n",
              "    [theme=dark] .colab-df-convert:hover {\n",
              "      background-color: #434B5C;\n",
              "      box-shadow: 0px 1px 3px 1px rgba(0, 0, 0, 0.15);\n",
              "      filter: drop-shadow(0px 1px 2px rgba(0, 0, 0, 0.3));\n",
              "      fill: #FFFFFF;\n",
              "    }\n",
              "  </style>\n",
              "\n",
              "      <script>\n",
              "        const buttonEl =\n",
              "          document.querySelector('#df-1f3c8bee-2a1f-4cad-ba4e-705b3b62bccf button.colab-df-convert');\n",
              "        buttonEl.style.display =\n",
              "          google.colab.kernel.accessAllowed ? 'block' : 'none';\n",
              "\n",
              "        async function convertToInteractive(key) {\n",
              "          const element = document.querySelector('#df-1f3c8bee-2a1f-4cad-ba4e-705b3b62bccf');\n",
              "          const dataTable =\n",
              "            await google.colab.kernel.invokeFunction('convertToInteractive',\n",
              "                                                     [key], {});\n",
              "          if (!dataTable) return;\n",
              "\n",
              "          const docLinkHtml = 'Like what you see? Visit the ' +\n",
              "            '<a target=\"_blank\" href=https://colab.research.google.com/notebooks/data_table.ipynb>data table notebook</a>'\n",
              "            + ' to learn more about interactive tables.';\n",
              "          element.innerHTML = '';\n",
              "          dataTable['output_type'] = 'display_data';\n",
              "          await google.colab.output.renderOutput(dataTable, element);\n",
              "          const docLink = document.createElement('div');\n",
              "          docLink.innerHTML = docLinkHtml;\n",
              "          element.appendChild(docLink);\n",
              "        }\n",
              "      </script>\n",
              "    </div>\n",
              "  </div>\n",
              "  "
            ]
          },
          "metadata": {},
          "execution_count": 10
        }
      ],
      "source": [
        "df_train.describe()"
      ]
    },
    {
      "cell_type": "markdown",
      "metadata": {
        "id": "m4Wwr_K11PVn"
      },
      "source": [
        "## Data modeling"
      ]
    },
    {
      "cell_type": "markdown",
      "metadata": {
        "id": "NQH6i5QJh6ZO"
      },
      "source": [
        "### Data Preprocessing for construct model"
      ]
    },
    {
      "cell_type": "markdown",
      "metadata": {
        "id": "Ah-aoJN5h6ZZ"
      },
      "source": [
        "1) Encoding of categorical features"
      ]
    },
    {
      "cell_type": "code",
      "execution_count": 11,
      "metadata": {
        "id": "uIjYtXpBfMGW"
      },
      "outputs": [],
      "source": [
        "num_col = df_train.dtypes[df_train.dtypes != \"object\"].index.tolist()\n",
        "num_col.remove('credit')\n",
        "\n",
        "cat_col = df_train.dtypes[df_train.dtypes == \"object\"].index.tolist()"
      ]
    },
    {
      "cell_type": "code",
      "execution_count": 12,
      "metadata": {
        "colab": {
          "base_uri": "https://localhost:8080/"
        },
        "id": "ArvzsMlUfMqU",
        "outputId": "36416b20-2154-455b-8696-62dc9113dc76"
      },
      "outputs": [
        {
          "output_type": "execute_result",
          "data": {
            "text/plain": [
              "['child_num',\n",
              " 'income_total',\n",
              " 'days_birth',\n",
              " 'days_employed',\n",
              " 'work_phone',\n",
              " 'home_phone',\n",
              " 'email',\n",
              " 'family_size',\n",
              " 'begin_month']"
            ]
          },
          "metadata": {},
          "execution_count": 12
        }
      ],
      "source": [
        "num_col"
      ]
    },
    {
      "cell_type": "code",
      "execution_count": 13,
      "metadata": {
        "colab": {
          "base_uri": "https://localhost:8080/"
        },
        "id": "660fenxXfSNQ",
        "outputId": "734e2d83-71e0-4d76-ce2a-12fa4a8dc383"
      },
      "outputs": [
        {
          "output_type": "execute_result",
          "data": {
            "text/plain": [
              "['gender',\n",
              " 'car',\n",
              " 'reality',\n",
              " 'income_type',\n",
              " 'edu_type',\n",
              " 'family_type',\n",
              " 'house_type',\n",
              " 'occup_type']"
            ]
          },
          "metadata": {},
          "execution_count": 13
        }
      ],
      "source": [
        "cat_col"
      ]
    },
    {
      "cell_type": "code",
      "execution_count": 14,
      "metadata": {
        "id": "VpjmdD-ZfaT2"
      },
      "outputs": [],
      "source": [
        "# StandardScaler\n",
        "scaler = StandardScaler()\n",
        "df_train[num_col] = scaler.fit_transform(df_train[num_col])\n",
        "df_test[num_col] = scaler.fit_transform(df_test[num_col])"
      ]
    },
    {
      "cell_type": "code",
      "execution_count": 15,
      "metadata": {
        "id": "dQcGysPXfdbr"
      },
      "outputs": [],
      "source": [
        "# OrdinalEncoding\n",
        "Encoder = OrdinalEncoder()\n",
        "df_train[cat_col] = Encoder.fit_transform(df_train[cat_col], df_train['credit'])\n",
        "df_test[cat_col] = Encoder.fit_transform(df_test[cat_col])\n"
      ]
    },
    {
      "cell_type": "code",
      "execution_count": 16,
      "metadata": {
        "colab": {
          "base_uri": "https://localhost:8080/"
        },
        "id": "s-LZP42sh6Zc",
        "outputId": "63c42d71-152d-45df-9726-10f5e494660a"
      },
      "outputs": [
        {
          "output_type": "stream",
          "name": "stdout",
          "text": [
            "<class 'pandas.core.frame.DataFrame'>\n",
            "RangeIndex: 24817 entries, 0 to 24816\n",
            "Data columns (total 18 columns):\n",
            " #   Column         Non-Null Count  Dtype  \n",
            "---  ------         --------------  -----  \n",
            " 0   gender         24817 non-null  float64\n",
            " 1   car            24817 non-null  float64\n",
            " 2   reality        24817 non-null  float64\n",
            " 3   child_num      24817 non-null  float64\n",
            " 4   income_total   24817 non-null  float64\n",
            " 5   income_type    24817 non-null  float64\n",
            " 6   edu_type       24817 non-null  float64\n",
            " 7   family_type    24817 non-null  float64\n",
            " 8   house_type     24817 non-null  float64\n",
            " 9   days_birth     24817 non-null  float64\n",
            " 10  days_employed  24817 non-null  float64\n",
            " 11  work_phone     24817 non-null  float64\n",
            " 12  home_phone     24817 non-null  float64\n",
            " 13  email          24817 non-null  float64\n",
            " 14  occup_type     24817 non-null  float64\n",
            " 15  family_size    24817 non-null  float64\n",
            " 16  begin_month    24817 non-null  float64\n",
            " 17  credit         24817 non-null  float64\n",
            "dtypes: float64(18)\n",
            "memory usage: 3.4 MB\n"
          ]
        }
      ],
      "source": [
        "df_train.info()"
      ]
    },
    {
      "cell_type": "markdown",
      "metadata": {
        "id": "hy6uWiZWh6Zd"
      },
      "source": [
        "3) Data Split ⇒ We need to split with stratified split"
      ]
    },
    {
      "cell_type": "code",
      "execution_count": 17,
      "metadata": {
        "id": "baOyCZtyh6Ze"
      },
      "outputs": [],
      "source": [
        "X_train, X_val, y_train, y_val = train_test_split(df_train.loc[:,df_train.columns != 'credit'], df_train['credit'], test_size = 0.2)"
      ]
    },
    {
      "cell_type": "code",
      "execution_count": 18,
      "metadata": {
        "colab": {
          "base_uri": "https://localhost:8080/",
          "height": 270
        },
        "id": "W_Ip29UFh6Ze",
        "outputId": "a4a5f7e6-c86d-4171-a3a4-ba498cc2361b"
      },
      "outputs": [
        {
          "output_type": "execute_result",
          "data": {
            "text/plain": [
              "       gender  car  reality  child_num  income_total  income_type  edu_type  \\\n",
              "5798      0.0  1.0      1.0  -0.574044      0.377992          4.0       1.0   \n",
              "17563     0.0  0.0      0.0   2.090514     -0.871220          2.0       4.0   \n",
              "14527     1.0  1.0      1.0  -0.574044     -0.960450          4.0       4.0   \n",
              "19995     0.0  0.0      0.0  -0.574044     -1.138909          4.0       4.0   \n",
              "17773     0.0  1.0      1.0  -0.574044     -0.960450          2.0       4.0   \n",
              "\n",
              "       family_type  house_type  days_birth  days_employed  work_phone  \\\n",
              "5798           1.0         1.0    0.344996       0.402671   -0.539200   \n",
              "17563          1.0         1.0   -0.378426       1.038272   -0.539200   \n",
              "14527          0.0         1.0   -0.744417      -0.861782   -0.539200   \n",
              "19995          3.0         1.0    0.677218      -0.308847    1.854598   \n",
              "17773          1.0         1.0    0.792556       0.171122    1.854598   \n",
              "\n",
              "       home_phone     email  occup_type  family_size  begin_month  \n",
              "5798      1.54861 -0.317376         3.0    -0.216575    -0.245233  \n",
              "17563     1.54861  3.150839         1.0     1.959434     0.722557  \n",
              "14527    -0.64574 -0.317376         8.0    -0.216575    -0.910588  \n",
              "19995    -0.64574 -0.317376         1.0    -1.304580    -0.063772  \n",
              "17773     1.54861 -0.317376         3.0    -0.216575     0.662070  "
            ],
            "text/html": [
              "\n",
              "  <div id=\"df-151b9b09-e8d7-43b9-8161-71fc34f909fb\">\n",
              "    <div class=\"colab-df-container\">\n",
              "      <div>\n",
              "<style scoped>\n",
              "    .dataframe tbody tr th:only-of-type {\n",
              "        vertical-align: middle;\n",
              "    }\n",
              "\n",
              "    .dataframe tbody tr th {\n",
              "        vertical-align: top;\n",
              "    }\n",
              "\n",
              "    .dataframe thead th {\n",
              "        text-align: right;\n",
              "    }\n",
              "</style>\n",
              "<table border=\"1\" class=\"dataframe\">\n",
              "  <thead>\n",
              "    <tr style=\"text-align: right;\">\n",
              "      <th></th>\n",
              "      <th>gender</th>\n",
              "      <th>car</th>\n",
              "      <th>reality</th>\n",
              "      <th>child_num</th>\n",
              "      <th>income_total</th>\n",
              "      <th>income_type</th>\n",
              "      <th>edu_type</th>\n",
              "      <th>family_type</th>\n",
              "      <th>house_type</th>\n",
              "      <th>days_birth</th>\n",
              "      <th>days_employed</th>\n",
              "      <th>work_phone</th>\n",
              "      <th>home_phone</th>\n",
              "      <th>email</th>\n",
              "      <th>occup_type</th>\n",
              "      <th>family_size</th>\n",
              "      <th>begin_month</th>\n",
              "    </tr>\n",
              "  </thead>\n",
              "  <tbody>\n",
              "    <tr>\n",
              "      <th>5798</th>\n",
              "      <td>0.0</td>\n",
              "      <td>1.0</td>\n",
              "      <td>1.0</td>\n",
              "      <td>-0.574044</td>\n",
              "      <td>0.377992</td>\n",
              "      <td>4.0</td>\n",
              "      <td>1.0</td>\n",
              "      <td>1.0</td>\n",
              "      <td>1.0</td>\n",
              "      <td>0.344996</td>\n",
              "      <td>0.402671</td>\n",
              "      <td>-0.539200</td>\n",
              "      <td>1.54861</td>\n",
              "      <td>-0.317376</td>\n",
              "      <td>3.0</td>\n",
              "      <td>-0.216575</td>\n",
              "      <td>-0.245233</td>\n",
              "    </tr>\n",
              "    <tr>\n",
              "      <th>17563</th>\n",
              "      <td>0.0</td>\n",
              "      <td>0.0</td>\n",
              "      <td>0.0</td>\n",
              "      <td>2.090514</td>\n",
              "      <td>-0.871220</td>\n",
              "      <td>2.0</td>\n",
              "      <td>4.0</td>\n",
              "      <td>1.0</td>\n",
              "      <td>1.0</td>\n",
              "      <td>-0.378426</td>\n",
              "      <td>1.038272</td>\n",
              "      <td>-0.539200</td>\n",
              "      <td>1.54861</td>\n",
              "      <td>3.150839</td>\n",
              "      <td>1.0</td>\n",
              "      <td>1.959434</td>\n",
              "      <td>0.722557</td>\n",
              "    </tr>\n",
              "    <tr>\n",
              "      <th>14527</th>\n",
              "      <td>1.0</td>\n",
              "      <td>1.0</td>\n",
              "      <td>1.0</td>\n",
              "      <td>-0.574044</td>\n",
              "      <td>-0.960450</td>\n",
              "      <td>4.0</td>\n",
              "      <td>4.0</td>\n",
              "      <td>0.0</td>\n",
              "      <td>1.0</td>\n",
              "      <td>-0.744417</td>\n",
              "      <td>-0.861782</td>\n",
              "      <td>-0.539200</td>\n",
              "      <td>-0.64574</td>\n",
              "      <td>-0.317376</td>\n",
              "      <td>8.0</td>\n",
              "      <td>-0.216575</td>\n",
              "      <td>-0.910588</td>\n",
              "    </tr>\n",
              "    <tr>\n",
              "      <th>19995</th>\n",
              "      <td>0.0</td>\n",
              "      <td>0.0</td>\n",
              "      <td>0.0</td>\n",
              "      <td>-0.574044</td>\n",
              "      <td>-1.138909</td>\n",
              "      <td>4.0</td>\n",
              "      <td>4.0</td>\n",
              "      <td>3.0</td>\n",
              "      <td>1.0</td>\n",
              "      <td>0.677218</td>\n",
              "      <td>-0.308847</td>\n",
              "      <td>1.854598</td>\n",
              "      <td>-0.64574</td>\n",
              "      <td>-0.317376</td>\n",
              "      <td>1.0</td>\n",
              "      <td>-1.304580</td>\n",
              "      <td>-0.063772</td>\n",
              "    </tr>\n",
              "    <tr>\n",
              "      <th>17773</th>\n",
              "      <td>0.0</td>\n",
              "      <td>1.0</td>\n",
              "      <td>1.0</td>\n",
              "      <td>-0.574044</td>\n",
              "      <td>-0.960450</td>\n",
              "      <td>2.0</td>\n",
              "      <td>4.0</td>\n",
              "      <td>1.0</td>\n",
              "      <td>1.0</td>\n",
              "      <td>0.792556</td>\n",
              "      <td>0.171122</td>\n",
              "      <td>1.854598</td>\n",
              "      <td>1.54861</td>\n",
              "      <td>-0.317376</td>\n",
              "      <td>3.0</td>\n",
              "      <td>-0.216575</td>\n",
              "      <td>0.662070</td>\n",
              "    </tr>\n",
              "  </tbody>\n",
              "</table>\n",
              "</div>\n",
              "      <button class=\"colab-df-convert\" onclick=\"convertToInteractive('df-151b9b09-e8d7-43b9-8161-71fc34f909fb')\"\n",
              "              title=\"Convert this dataframe to an interactive table.\"\n",
              "              style=\"display:none;\">\n",
              "        \n",
              "  <svg xmlns=\"http://www.w3.org/2000/svg\" height=\"24px\"viewBox=\"0 0 24 24\"\n",
              "       width=\"24px\">\n",
              "    <path d=\"M0 0h24v24H0V0z\" fill=\"none\"/>\n",
              "    <path d=\"M18.56 5.44l.94 2.06.94-2.06 2.06-.94-2.06-.94-.94-2.06-.94 2.06-2.06.94zm-11 1L8.5 8.5l.94-2.06 2.06-.94-2.06-.94L8.5 2.5l-.94 2.06-2.06.94zm10 10l.94 2.06.94-2.06 2.06-.94-2.06-.94-.94-2.06-.94 2.06-2.06.94z\"/><path d=\"M17.41 7.96l-1.37-1.37c-.4-.4-.92-.59-1.43-.59-.52 0-1.04.2-1.43.59L10.3 9.45l-7.72 7.72c-.78.78-.78 2.05 0 2.83L4 21.41c.39.39.9.59 1.41.59.51 0 1.02-.2 1.41-.59l7.78-7.78 2.81-2.81c.8-.78.8-2.07 0-2.86zM5.41 20L4 18.59l7.72-7.72 1.47 1.35L5.41 20z\"/>\n",
              "  </svg>\n",
              "      </button>\n",
              "      \n",
              "  <style>\n",
              "    .colab-df-container {\n",
              "      display:flex;\n",
              "      flex-wrap:wrap;\n",
              "      gap: 12px;\n",
              "    }\n",
              "\n",
              "    .colab-df-convert {\n",
              "      background-color: #E8F0FE;\n",
              "      border: none;\n",
              "      border-radius: 50%;\n",
              "      cursor: pointer;\n",
              "      display: none;\n",
              "      fill: #1967D2;\n",
              "      height: 32px;\n",
              "      padding: 0 0 0 0;\n",
              "      width: 32px;\n",
              "    }\n",
              "\n",
              "    .colab-df-convert:hover {\n",
              "      background-color: #E2EBFA;\n",
              "      box-shadow: 0px 1px 2px rgba(60, 64, 67, 0.3), 0px 1px 3px 1px rgba(60, 64, 67, 0.15);\n",
              "      fill: #174EA6;\n",
              "    }\n",
              "\n",
              "    [theme=dark] .colab-df-convert {\n",
              "      background-color: #3B4455;\n",
              "      fill: #D2E3FC;\n",
              "    }\n",
              "\n",
              "    [theme=dark] .colab-df-convert:hover {\n",
              "      background-color: #434B5C;\n",
              "      box-shadow: 0px 1px 3px 1px rgba(0, 0, 0, 0.15);\n",
              "      filter: drop-shadow(0px 1px 2px rgba(0, 0, 0, 0.3));\n",
              "      fill: #FFFFFF;\n",
              "    }\n",
              "  </style>\n",
              "\n",
              "      <script>\n",
              "        const buttonEl =\n",
              "          document.querySelector('#df-151b9b09-e8d7-43b9-8161-71fc34f909fb button.colab-df-convert');\n",
              "        buttonEl.style.display =\n",
              "          google.colab.kernel.accessAllowed ? 'block' : 'none';\n",
              "\n",
              "        async function convertToInteractive(key) {\n",
              "          const element = document.querySelector('#df-151b9b09-e8d7-43b9-8161-71fc34f909fb');\n",
              "          const dataTable =\n",
              "            await google.colab.kernel.invokeFunction('convertToInteractive',\n",
              "                                                     [key], {});\n",
              "          if (!dataTable) return;\n",
              "\n",
              "          const docLinkHtml = 'Like what you see? Visit the ' +\n",
              "            '<a target=\"_blank\" href=https://colab.research.google.com/notebooks/data_table.ipynb>data table notebook</a>'\n",
              "            + ' to learn more about interactive tables.';\n",
              "          element.innerHTML = '';\n",
              "          dataTable['output_type'] = 'display_data';\n",
              "          await google.colab.output.renderOutput(dataTable, element);\n",
              "          const docLink = document.createElement('div');\n",
              "          docLink.innerHTML = docLinkHtml;\n",
              "          element.appendChild(docLink);\n",
              "        }\n",
              "      </script>\n",
              "    </div>\n",
              "  </div>\n",
              "  "
            ]
          },
          "metadata": {},
          "execution_count": 18
        }
      ],
      "source": [
        "X_train.head()"
      ]
    },
    {
      "cell_type": "code",
      "execution_count": 19,
      "metadata": {
        "colab": {
          "base_uri": "https://localhost:8080/"
        },
        "id": "Ka2hqjKXh6Zf",
        "outputId": "d458b31e-d854-4863-fa1a-a980cb7e816e"
      },
      "outputs": [
        {
          "output_type": "execute_result",
          "data": {
            "text/plain": [
              "5798     1.0\n",
              "17563    2.0\n",
              "14527    2.0\n",
              "19995    2.0\n",
              "17773    2.0\n",
              "        ... \n",
              "4369     2.0\n",
              "2624     2.0\n",
              "18203    0.0\n",
              "16757    1.0\n",
              "1014     2.0\n",
              "Name: credit, Length: 19853, dtype: float64"
            ]
          },
          "metadata": {},
          "execution_count": 19
        }
      ],
      "source": [
        "y_train"
      ]
    },
    {
      "cell_type": "markdown",
      "metadata": {
        "id": "yZ-GsuXDn4ez"
      },
      "source": [
        "### Modeling"
      ]
    },
    {
      "cell_type": "markdown",
      "metadata": {
        "id": "bv2l3xujblA7"
      },
      "source": [
        "- Optuna"
      ]
    },
    {
      "cell_type": "code",
      "execution_count": 20,
      "metadata": {
        "id": "XdS60s_l2NxY"
      },
      "outputs": [],
      "source": [
        "def objective(trial: Trial) -> float:\n",
        "    params_svc = {\n",
        "        \"random_state\": 42,\n",
        "        'kernel': 'rbf',\n",
        "        'C' : trial.suggest_loguniform('C', 1e-5,1e+5),\n",
        "        'gamma' : trial.suggest_loguniform('gamma', 1e-5,1e+5),\n",
        "        'probability' : True,\n",
        "    }\n",
        "    model = sklearn.svm.SVC(**params_svc)\n",
        "    model.fit(\n",
        "        X_train,\n",
        "        y_train\n",
        "    )\n",
        "\n",
        "    svc_pred = model.predict_proba(X_val)\n",
        "    log_score = log_loss(y_val, svc_pred)\n",
        "    \n",
        "    return log_score"
      ]
    },
    {
      "cell_type": "code",
      "execution_count": 21,
      "metadata": {
        "colab": {
          "base_uri": "https://localhost:8080/"
        },
        "id": "b9-V4cpv-5kb",
        "outputId": "534be3bd-cc47-4700-9cc4-c221d717f998"
      },
      "outputs": [
        {
          "output_type": "stream",
          "name": "stderr",
          "text": [
            "\u001b[32m[I 2022-12-11 10:05:50,330]\u001b[0m A new study created in memory with name: svc_parameter_opt\u001b[0m\n",
            "\u001b[32m[I 2022-12-11 10:13:06,495]\u001b[0m Trial 0 finished with value: 0.8644425539006468 and parameters: {'C': 0.05564180225431373, 'gamma': 32147.193482816965}. Best is trial 0 with value: 0.8644425539006468.\u001b[0m\n",
            "\u001b[32m[I 2022-12-11 10:26:26,232]\u001b[0m Trial 1 finished with value: 0.8797192548974977 and parameters: {'C': 208.90047049266641, 'gamma': 9.695826644515218}. Best is trial 0 with value: 0.8644425539006468.\u001b[0m\n",
            "\u001b[32m[I 2022-12-11 10:28:22,044]\u001b[0m Trial 2 finished with value: 0.9592704268115463 and parameters: {'C': 0.0003632339256943143, 'gamma': 0.0003630322466779861}. Best is trial 0 with value: 0.8644425539006468.\u001b[0m\n",
            "\u001b[32m[I 2022-12-11 10:30:03,950]\u001b[0m Trial 3 finished with value: 0.8763995789423636 and parameters: {'C': 3.809220577048033e-05, 'gamma': 4589.458612326462}. Best is trial 0 with value: 0.8644425539006468.\u001b[0m\n",
            "\u001b[32m[I 2022-12-11 10:42:55,610]\u001b[0m Trial 4 finished with value: 0.8898465595391098 and parameters: {'C': 10.260065124896771, 'gamma': 120.4275297251682}. Best is trial 0 with value: 0.8644425539006468.\u001b[0m\n",
            "\u001b[32m[I 2022-12-11 10:44:34,345]\u001b[0m Trial 5 finished with value: 0.8771397406686897 and parameters: {'C': 1.6063676259174505e-05, 'gamma': 50014.798288569255}. Best is trial 0 with value: 0.8644425539006468.\u001b[0m\n",
            "\u001b[32m[I 2022-12-11 11:43:55,274]\u001b[0m Trial 6 finished with value: 0.8471623956285406 and parameters: {'C': 2110.6995036049584, 'gamma': 0.001328590390054419}. Best is trial 6 with value: 0.8471623956285406.\u001b[0m\n",
            "\u001b[32m[I 2022-12-11 11:46:03,981]\u001b[0m Trial 7 finished with value: 0.9010516808166843 and parameters: {'C': 0.0006580360277501316, 'gamma': 0.0006824095540630409}. Best is trial 6 with value: 0.8471623956285406.\u001b[0m\n",
            "\u001b[32m[I 2022-12-11 11:51:30,685]\u001b[0m Trial 8 finished with value: 0.8410280841565297 and parameters: {'C': 0.011026112761510002, 'gamma': 1.7683340776662542}. Best is trial 8 with value: 0.8410280841565297.\u001b[0m\n",
            "\u001b[32m[I 2022-12-11 11:54:33,634]\u001b[0m Trial 9 finished with value: 0.851432316729875 and parameters: {'C': 0.20866527711063718, 'gamma': 0.008171304639059409}. Best is trial 8 with value: 0.8410280841565297.\u001b[0m\n"
          ]
        },
        {
          "output_type": "stream",
          "name": "stdout",
          "text": [
            "Best Score: 0.8410280841565297\n",
            "Best trial: {'C': 0.011026112761510002, 'gamma': 1.7683340776662542}\n"
          ]
        }
      ],
      "source": [
        "sampler = TPESampler(seed=42)\n",
        "study = optuna.create_study(\n",
        "    study_name=\"svc_parameter_opt\",\n",
        "    direction=\"minimize\",\n",
        "    sampler=sampler,\n",
        ")\n",
        "study.optimize(objective, n_trials=10)\n",
        "print(\"Best Score:\", study.best_value)\n",
        "print(\"Best trial:\", study.best_trial.params)"
      ]
    },
    {
      "cell_type": "code",
      "source": [
        "study.best_params['C']"
      ],
      "metadata": {
        "id": "TbrUkTrZsWJz",
        "colab": {
          "base_uri": "https://localhost:8080/"
        },
        "outputId": "4aff0133-e2a2-4bc3-a653-ebda2ec402fd"
      },
      "execution_count": 22,
      "outputs": [
        {
          "output_type": "execute_result",
          "data": {
            "text/plain": [
              "0.011026112761510002"
            ]
          },
          "metadata": {},
          "execution_count": 22
        }
      ]
    },
    {
      "cell_type": "code",
      "source": [
        "study.best_params['gamma']"
      ],
      "metadata": {
        "id": "_EJoY_w1vhEg",
        "colab": {
          "base_uri": "https://localhost:8080/"
        },
        "outputId": "4d84ef4f-309e-4c47-89c1-56b0a2eac89d"
      },
      "execution_count": 23,
      "outputs": [
        {
          "output_type": "execute_result",
          "data": {
            "text/plain": [
              "1.7683340776662542"
            ]
          },
          "metadata": {},
          "execution_count": 23
        }
      ]
    },
    {
      "cell_type": "markdown",
      "source": [
        "--- \n",
        "K Fold"
      ],
      "metadata": {
        "id": "9F2JU4yRkvFS"
      }
    },
    {
      "cell_type": "code",
      "source": [
        "p_optuna = {\n",
        "    'kernel' : 'rbf',\n",
        "    \"random_state\": 42,\n",
        "    'C' : study.best_params['C'],\n",
        "    'gamma' : study.best_params['gamma'],\n",
        "    'probability' : True,\n",
        "}"
      ],
      "metadata": {
        "id": "vZ9hhzHdvo0i"
      },
      "execution_count": 24,
      "outputs": []
    },
    {
      "cell_type": "code",
      "source": [
        "def stratified_kfold_svc(p, n_fold, X, y, X_test):\n",
        "    # Declaring Stratified K-Fold:\n",
        "    folds = StratifiedKFold(n_splits=n_fold, shuffle=True, random_state=42)\n",
        "    splits = folds.split(X, y)\n",
        "    \n",
        "    # Initializing arrays:\n",
        "    svc_oof = np.zeros((X.shape[0], 3))\n",
        "    svc_preds = np.zeros((X_test.shape[0], 3))\n",
        "\n",
        "    # Main loop:\n",
        "    for fold, (train_idx, valid_idx) in enumerate(splits):\n",
        "        print(f\"============ Fold {fold} ============\")\n",
        "        \n",
        "        X_train, X_valid = X.iloc[train_idx], X.iloc[valid_idx]\n",
        "        y_train, y_valid = y.iloc[train_idx], y.iloc[valid_idx]\n",
        "        \n",
        "        # Model fit:\n",
        "        model = SVC(**p)\n",
        "        model.fit(X_train, y_train)\n",
        "\n",
        "        svc_oof[valid_idx] = model.predict_proba(X_valid) # Infers the class probability of train dataset\n",
        "        svc_preds += model.predict_proba(X_test) / n_fold # Infers the class probability of test dataset\n",
        "        print(f\"Log Loss Score: {log_loss(y_valid, svc_oof[valid_idx]):.5f}\")\n",
        "\n",
        "    log_score = log_loss(y, svc_oof)\n",
        "    print(f\"\\nLog Loss Score: {log_score:.5f}\")\n",
        "\n",
        "    return svc_oof, svc_preds"
      ],
      "metadata": {
        "id": "LcvLNDKBxkP-"
      },
      "execution_count": 25,
      "outputs": []
    },
    {
      "cell_type": "code",
      "source": [
        "svc_oof_optuna, svc_preds_optuna = stratified_kfold_svc(p_optuna, 10, df_train.drop(\"credit\", axis=1),df_train['credit'] , df_test)"
      ],
      "metadata": {
        "id": "f78Yel1KxkP-",
        "colab": {
          "base_uri": "https://localhost:8080/"
        },
        "outputId": "cbbc9fb0-c28f-474a-c5c7-6d254f12702c"
      },
      "execution_count": 26,
      "outputs": [
        {
          "output_type": "stream",
          "name": "stdout",
          "text": [
            "============ Fold 0 ============\n",
            "Log Loss Score: 0.83010\n",
            "============ Fold 1 ============\n",
            "Log Loss Score: 0.83507\n",
            "============ Fold 2 ============\n",
            "Log Loss Score: 0.83305\n",
            "============ Fold 3 ============\n",
            "Log Loss Score: 0.84527\n",
            "============ Fold 4 ============\n",
            "Log Loss Score: 0.84105\n",
            "============ Fold 5 ============\n",
            "Log Loss Score: 0.82761\n",
            "============ Fold 6 ============\n",
            "Log Loss Score: 0.83344\n",
            "============ Fold 7 ============\n",
            "Log Loss Score: 0.83781\n",
            "============ Fold 8 ============\n",
            "Log Loss Score: 0.83072\n",
            "============ Fold 9 ============\n",
            "Log Loss Score: 0.84204\n",
            "\n",
            "Log Loss Score: 0.83562\n"
          ]
        }
      ]
    },
    {
      "cell_type": "code",
      "source": [
        "p_grid = {\n",
        "    'kernel' : 'rbf',\n",
        "    \"random_state\": 42,\n",
        "    'C' : 10.0,\n",
        "    'gamma' : 0.1,\n",
        "    'probability' : True,\n",
        "}"
      ],
      "metadata": {
        "id": "yq_Y7Nn1cjuT"
      },
      "execution_count": 27,
      "outputs": []
    },
    {
      "cell_type": "code",
      "source": [
        "svc_oof_grid, svc_preds_grid = stratified_kfold_svc(p_grid, 10, df_train.drop(\"credit\", axis=1),df_train['credit'] , df_test)"
      ],
      "metadata": {
        "id": "ILjV10QYvkbl",
        "colab": {
          "base_uri": "https://localhost:8080/"
        },
        "outputId": "1880f24e-b111-4a3b-aee5-b001e85a708c"
      },
      "execution_count": 28,
      "outputs": [
        {
          "output_type": "stream",
          "name": "stdout",
          "text": [
            "============ Fold 0 ============\n",
            "Log Loss Score: 0.80175\n",
            "============ Fold 1 ============\n",
            "Log Loss Score: 0.81615\n",
            "============ Fold 2 ============\n",
            "Log Loss Score: 0.80739\n",
            "============ Fold 3 ============\n",
            "Log Loss Score: 0.80799\n",
            "============ Fold 4 ============\n",
            "Log Loss Score: 0.81509\n",
            "============ Fold 5 ============\n",
            "Log Loss Score: 0.79904\n",
            "============ Fold 6 ============\n",
            "Log Loss Score: 0.81455\n",
            "============ Fold 7 ============\n",
            "Log Loss Score: 0.80565\n",
            "============ Fold 8 ============\n",
            "Log Loss Score: 0.80913\n",
            "============ Fold 9 ============\n",
            "Log Loss Score: 0.81197\n",
            "\n",
            "Log Loss Score: 0.80887\n"
          ]
        }
      ]
    },
    {
      "cell_type": "code",
      "source": [
        "df_submission = pd.read_csv('/content/drive/MyDrive/ML4AI/sample_submission.csv')"
      ],
      "metadata": {
        "id": "QiPz8DguyAXi"
      },
      "execution_count": 29,
      "outputs": []
    },
    {
      "cell_type": "code",
      "execution_count": 30,
      "metadata": {
        "id": "5DIX0DHCyAXj",
        "colab": {
          "base_uri": "https://localhost:8080/",
          "height": 708
        },
        "outputId": "70b4c752-0279-45f1-9878-0cd87159b695"
      },
      "outputs": [
        {
          "output_type": "execute_result",
          "data": {
            "text/plain": [
              "              0         1         2\n",
              "index                              \n",
              "26457  0.116412  0.165037  0.718551\n",
              "26458  0.303468  0.216466  0.480066\n",
              "26459  0.094742  0.170666  0.734592\n",
              "26460  0.079404  0.177906  0.742690\n",
              "26461  0.102681  0.373569  0.523749\n",
              "26462  0.074945  0.206909  0.718146\n",
              "26463  0.287796  0.122792  0.589412\n",
              "26464  0.115077  0.201079  0.683843\n",
              "26465  0.106574  0.082342  0.811084\n",
              "26466  0.052019  0.378499  0.569482\n",
              "26467  0.109040  0.188183  0.702778\n",
              "26468  0.115126  0.157622  0.727252\n",
              "26469  0.384218  0.264880  0.350902\n",
              "26470  0.139642  0.169433  0.690926\n",
              "26471  0.092742  0.192785  0.714473\n",
              "26472  0.104292  0.254443  0.641264\n",
              "26473  0.099653  0.165264  0.735084\n",
              "26474  0.240988  0.460381  0.298631\n",
              "26475  0.296128  0.316491  0.387381\n",
              "26476  0.093601  0.172429  0.733970"
            ],
            "text/html": [
              "\n",
              "  <div id=\"df-fe7d267c-d7dc-47a7-9571-0109f1b992b9\">\n",
              "    <div class=\"colab-df-container\">\n",
              "      <div>\n",
              "<style scoped>\n",
              "    .dataframe tbody tr th:only-of-type {\n",
              "        vertical-align: middle;\n",
              "    }\n",
              "\n",
              "    .dataframe tbody tr th {\n",
              "        vertical-align: top;\n",
              "    }\n",
              "\n",
              "    .dataframe thead th {\n",
              "        text-align: right;\n",
              "    }\n",
              "</style>\n",
              "<table border=\"1\" class=\"dataframe\">\n",
              "  <thead>\n",
              "    <tr style=\"text-align: right;\">\n",
              "      <th></th>\n",
              "      <th>0</th>\n",
              "      <th>1</th>\n",
              "      <th>2</th>\n",
              "    </tr>\n",
              "    <tr>\n",
              "      <th>index</th>\n",
              "      <th></th>\n",
              "      <th></th>\n",
              "      <th></th>\n",
              "    </tr>\n",
              "  </thead>\n",
              "  <tbody>\n",
              "    <tr>\n",
              "      <th>26457</th>\n",
              "      <td>0.116412</td>\n",
              "      <td>0.165037</td>\n",
              "      <td>0.718551</td>\n",
              "    </tr>\n",
              "    <tr>\n",
              "      <th>26458</th>\n",
              "      <td>0.303468</td>\n",
              "      <td>0.216466</td>\n",
              "      <td>0.480066</td>\n",
              "    </tr>\n",
              "    <tr>\n",
              "      <th>26459</th>\n",
              "      <td>0.094742</td>\n",
              "      <td>0.170666</td>\n",
              "      <td>0.734592</td>\n",
              "    </tr>\n",
              "    <tr>\n",
              "      <th>26460</th>\n",
              "      <td>0.079404</td>\n",
              "      <td>0.177906</td>\n",
              "      <td>0.742690</td>\n",
              "    </tr>\n",
              "    <tr>\n",
              "      <th>26461</th>\n",
              "      <td>0.102681</td>\n",
              "      <td>0.373569</td>\n",
              "      <td>0.523749</td>\n",
              "    </tr>\n",
              "    <tr>\n",
              "      <th>26462</th>\n",
              "      <td>0.074945</td>\n",
              "      <td>0.206909</td>\n",
              "      <td>0.718146</td>\n",
              "    </tr>\n",
              "    <tr>\n",
              "      <th>26463</th>\n",
              "      <td>0.287796</td>\n",
              "      <td>0.122792</td>\n",
              "      <td>0.589412</td>\n",
              "    </tr>\n",
              "    <tr>\n",
              "      <th>26464</th>\n",
              "      <td>0.115077</td>\n",
              "      <td>0.201079</td>\n",
              "      <td>0.683843</td>\n",
              "    </tr>\n",
              "    <tr>\n",
              "      <th>26465</th>\n",
              "      <td>0.106574</td>\n",
              "      <td>0.082342</td>\n",
              "      <td>0.811084</td>\n",
              "    </tr>\n",
              "    <tr>\n",
              "      <th>26466</th>\n",
              "      <td>0.052019</td>\n",
              "      <td>0.378499</td>\n",
              "      <td>0.569482</td>\n",
              "    </tr>\n",
              "    <tr>\n",
              "      <th>26467</th>\n",
              "      <td>0.109040</td>\n",
              "      <td>0.188183</td>\n",
              "      <td>0.702778</td>\n",
              "    </tr>\n",
              "    <tr>\n",
              "      <th>26468</th>\n",
              "      <td>0.115126</td>\n",
              "      <td>0.157622</td>\n",
              "      <td>0.727252</td>\n",
              "    </tr>\n",
              "    <tr>\n",
              "      <th>26469</th>\n",
              "      <td>0.384218</td>\n",
              "      <td>0.264880</td>\n",
              "      <td>0.350902</td>\n",
              "    </tr>\n",
              "    <tr>\n",
              "      <th>26470</th>\n",
              "      <td>0.139642</td>\n",
              "      <td>0.169433</td>\n",
              "      <td>0.690926</td>\n",
              "    </tr>\n",
              "    <tr>\n",
              "      <th>26471</th>\n",
              "      <td>0.092742</td>\n",
              "      <td>0.192785</td>\n",
              "      <td>0.714473</td>\n",
              "    </tr>\n",
              "    <tr>\n",
              "      <th>26472</th>\n",
              "      <td>0.104292</td>\n",
              "      <td>0.254443</td>\n",
              "      <td>0.641264</td>\n",
              "    </tr>\n",
              "    <tr>\n",
              "      <th>26473</th>\n",
              "      <td>0.099653</td>\n",
              "      <td>0.165264</td>\n",
              "      <td>0.735084</td>\n",
              "    </tr>\n",
              "    <tr>\n",
              "      <th>26474</th>\n",
              "      <td>0.240988</td>\n",
              "      <td>0.460381</td>\n",
              "      <td>0.298631</td>\n",
              "    </tr>\n",
              "    <tr>\n",
              "      <th>26475</th>\n",
              "      <td>0.296128</td>\n",
              "      <td>0.316491</td>\n",
              "      <td>0.387381</td>\n",
              "    </tr>\n",
              "    <tr>\n",
              "      <th>26476</th>\n",
              "      <td>0.093601</td>\n",
              "      <td>0.172429</td>\n",
              "      <td>0.733970</td>\n",
              "    </tr>\n",
              "  </tbody>\n",
              "</table>\n",
              "</div>\n",
              "      <button class=\"colab-df-convert\" onclick=\"convertToInteractive('df-fe7d267c-d7dc-47a7-9571-0109f1b992b9')\"\n",
              "              title=\"Convert this dataframe to an interactive table.\"\n",
              "              style=\"display:none;\">\n",
              "        \n",
              "  <svg xmlns=\"http://www.w3.org/2000/svg\" height=\"24px\"viewBox=\"0 0 24 24\"\n",
              "       width=\"24px\">\n",
              "    <path d=\"M0 0h24v24H0V0z\" fill=\"none\"/>\n",
              "    <path d=\"M18.56 5.44l.94 2.06.94-2.06 2.06-.94-2.06-.94-.94-2.06-.94 2.06-2.06.94zm-11 1L8.5 8.5l.94-2.06 2.06-.94-2.06-.94L8.5 2.5l-.94 2.06-2.06.94zm10 10l.94 2.06.94-2.06 2.06-.94-2.06-.94-.94-2.06-.94 2.06-2.06.94z\"/><path d=\"M17.41 7.96l-1.37-1.37c-.4-.4-.92-.59-1.43-.59-.52 0-1.04.2-1.43.59L10.3 9.45l-7.72 7.72c-.78.78-.78 2.05 0 2.83L4 21.41c.39.39.9.59 1.41.59.51 0 1.02-.2 1.41-.59l7.78-7.78 2.81-2.81c.8-.78.8-2.07 0-2.86zM5.41 20L4 18.59l7.72-7.72 1.47 1.35L5.41 20z\"/>\n",
              "  </svg>\n",
              "      </button>\n",
              "      \n",
              "  <style>\n",
              "    .colab-df-container {\n",
              "      display:flex;\n",
              "      flex-wrap:wrap;\n",
              "      gap: 12px;\n",
              "    }\n",
              "\n",
              "    .colab-df-convert {\n",
              "      background-color: #E8F0FE;\n",
              "      border: none;\n",
              "      border-radius: 50%;\n",
              "      cursor: pointer;\n",
              "      display: none;\n",
              "      fill: #1967D2;\n",
              "      height: 32px;\n",
              "      padding: 0 0 0 0;\n",
              "      width: 32px;\n",
              "    }\n",
              "\n",
              "    .colab-df-convert:hover {\n",
              "      background-color: #E2EBFA;\n",
              "      box-shadow: 0px 1px 2px rgba(60, 64, 67, 0.3), 0px 1px 3px 1px rgba(60, 64, 67, 0.15);\n",
              "      fill: #174EA6;\n",
              "    }\n",
              "\n",
              "    [theme=dark] .colab-df-convert {\n",
              "      background-color: #3B4455;\n",
              "      fill: #D2E3FC;\n",
              "    }\n",
              "\n",
              "    [theme=dark] .colab-df-convert:hover {\n",
              "      background-color: #434B5C;\n",
              "      box-shadow: 0px 1px 3px 1px rgba(0, 0, 0, 0.15);\n",
              "      filter: drop-shadow(0px 1px 2px rgba(0, 0, 0, 0.3));\n",
              "      fill: #FFFFFF;\n",
              "    }\n",
              "  </style>\n",
              "\n",
              "      <script>\n",
              "        const buttonEl =\n",
              "          document.querySelector('#df-fe7d267c-d7dc-47a7-9571-0109f1b992b9 button.colab-df-convert');\n",
              "        buttonEl.style.display =\n",
              "          google.colab.kernel.accessAllowed ? 'block' : 'none';\n",
              "\n",
              "        async function convertToInteractive(key) {\n",
              "          const element = document.querySelector('#df-fe7d267c-d7dc-47a7-9571-0109f1b992b9');\n",
              "          const dataTable =\n",
              "            await google.colab.kernel.invokeFunction('convertToInteractive',\n",
              "                                                     [key], {});\n",
              "          if (!dataTable) return;\n",
              "\n",
              "          const docLinkHtml = 'Like what you see? Visit the ' +\n",
              "            '<a target=\"_blank\" href=https://colab.research.google.com/notebooks/data_table.ipynb>data table notebook</a>'\n",
              "            + ' to learn more about interactive tables.';\n",
              "          element.innerHTML = '';\n",
              "          dataTable['output_type'] = 'display_data';\n",
              "          await google.colab.output.renderOutput(dataTable, element);\n",
              "          const docLink = document.createElement('div');\n",
              "          docLink.innerHTML = docLinkHtml;\n",
              "          element.appendChild(docLink);\n",
              "        }\n",
              "      </script>\n",
              "    </div>\n",
              "  </div>\n",
              "  "
            ]
          },
          "metadata": {},
          "execution_count": 30
        }
      ],
      "source": [
        "df_submission.set_index(\"index\", inplace=True)\n",
        "df_submission[:] = svc_preds_grid\n",
        "df_submission.head(20)"
      ]
    },
    {
      "cell_type": "code",
      "execution_count": 31,
      "metadata": {
        "id": "WV4lLKI7yAXj"
      },
      "outputs": [],
      "source": [
        "df_submission.to_csv('/content/drive/MyDrive/ML4AI/SVC_Basic.csv',index=False)"
      ]
    }
  ]
}