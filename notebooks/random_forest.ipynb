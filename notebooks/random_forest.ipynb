{
  "cells": [
    {
      "attachments": {},
      "cell_type": "markdown",
      "metadata": {
        "id": "b_jW88MfqChJ"
      },
      "source": [
        "# **Random Forest**\n",
        "\n",
        "**Reference: Manual/Tuned**\n",
        "\n",
        "Base: 0.69893 / 0.71938\n",
        "\n",
        "New: **0.68189** / 0.69952\n"
      ]
    },
    {
      "cell_type": "markdown",
      "metadata": {
        "id": "BDQtW1H-pz4q"
      },
      "source": [
        "## **Setup**"
      ]
    },
    {
      "cell_type": "code",
      "execution_count": 1,
      "metadata": {
        "colab": {
          "base_uri": "https://localhost:8080/"
        },
        "id": "wKP_D8hFpzU2",
        "outputId": "68298b6b-2efc-49f6-dd41-976f47905192"
      },
      "outputs": [
        {
          "name": "stdout",
          "output_type": "stream",
          "text": [
            "Cloning into 'AIML_project'...\n",
            "remote: Enumerating objects: 53, done.\u001b[K\n",
            "remote: Counting objects: 100% (53/53), done.\u001b[K\n",
            "remote: Compressing objects: 100% (49/49), done.\u001b[K\n",
            "remote: Total 53 (delta 17), reused 16 (delta 1), pack-reused 0\u001b[K\n",
            "Unpacking objects: 100% (53/53), done.\n"
          ]
        }
      ],
      "source": [
        "!git clone https://github.com/yeray142/AIML_project"
      ]
    },
    {
      "cell_type": "code",
      "execution_count": 1,
      "metadata": {
        "colab": {
          "base_uri": "https://localhost:8080/"
        },
        "id": "rQXrN0Qopowu",
        "outputId": "31376de3-aa63-45ca-baee-88f7b8b26450"
      },
      "outputs": [
        {
          "name": "stdout",
          "output_type": "stream",
          "text": [
            "[WinError 2] El sistema no puede encontrar el archivo especificado: 'AIML_project'\n",
            "c:\\Users\\david\\Documents\\GitHub\\AIML_project\\notebooks\n"
          ]
        }
      ],
      "source": [
        "cd AIML_project"
      ]
    },
    {
      "cell_type": "code",
      "execution_count": 38,
      "metadata": {
        "id": "ksCMzojhp38H"
      },
      "outputs": [],
      "source": [
        "import pandas as pd\n",
        "import numpy as np\n",
        "\n",
        "train = pd.read_csv(\"../data/new_train.csv\", index_col=0)\n",
        "test = pd.read_csv(\"../data/new_test.csv\", index_col=0)"
      ]
    },
    {
      "cell_type": "code",
      "execution_count": 39,
      "metadata": {
        "id": "rLZ8IPrJqxEV"
      },
      "outputs": [],
      "source": [
        "from sklearn.preprocessing import LabelEncoder, OrdinalEncoder, StandardScaler, OneHotEncoder\n",
        "from sklearn.model_selection import StratifiedKFold\n",
        "from sklearn.ensemble import RandomForestClassifier\n",
        "from sklearn.metrics import log_loss"
      ]
    },
    {
      "cell_type": "markdown",
      "metadata": {
        "id": "_VSGnFRTrf5L"
      },
      "source": [
        "## **Data preprocessing**"
      ]
    },
    {
      "cell_type": "code",
      "execution_count": 40,
      "metadata": {
        "colab": {
          "base_uri": "https://localhost:8080/",
          "height": 320
        },
        "id": "UK7Ot8ZZrfJd",
        "outputId": "38f1179a-7181-4efb-9b2d-105eb78ba68d"
      },
      "outputs": [
        {
          "data": {
            "text/html": [
              "<div>\n",
              "<style scoped>\n",
              "    .dataframe tbody tr th:only-of-type {\n",
              "        vertical-align: middle;\n",
              "    }\n",
              "\n",
              "    .dataframe tbody tr th {\n",
              "        vertical-align: top;\n",
              "    }\n",
              "\n",
              "    .dataframe thead th {\n",
              "        text-align: right;\n",
              "    }\n",
              "</style>\n",
              "<table border=\"1\" class=\"dataframe\">\n",
              "  <thead>\n",
              "    <tr style=\"text-align: right;\">\n",
              "      <th></th>\n",
              "      <th>gender</th>\n",
              "      <th>car</th>\n",
              "      <th>reality</th>\n",
              "      <th>income_total</th>\n",
              "      <th>income_type</th>\n",
              "      <th>edu_type</th>\n",
              "      <th>family_type</th>\n",
              "      <th>house_type</th>\n",
              "      <th>work_phone</th>\n",
              "      <th>home_phone</th>\n",
              "      <th>...</th>\n",
              "      <th>Age</th>\n",
              "      <th>birth_month</th>\n",
              "      <th>birth_week</th>\n",
              "      <th>ages_employed</th>\n",
              "      <th>employ_month</th>\n",
              "      <th>employ_week</th>\n",
              "      <th>ages_unemployed</th>\n",
              "      <th>unemploy_month</th>\n",
              "      <th>unemploy_week</th>\n",
              "      <th>income_family</th>\n",
              "    </tr>\n",
              "  </thead>\n",
              "  <tbody>\n",
              "    <tr>\n",
              "      <th>0</th>\n",
              "      <td>F</td>\n",
              "      <td>N</td>\n",
              "      <td>N</td>\n",
              "      <td>202500.0</td>\n",
              "      <td>Commercial associate</td>\n",
              "      <td>Higher education</td>\n",
              "      <td>Married</td>\n",
              "      <td>Municipal apartment</td>\n",
              "      <td>0</td>\n",
              "      <td>0</td>\n",
              "      <td>...</td>\n",
              "      <td>38</td>\n",
              "      <td>7.0</td>\n",
              "      <td>1.0</td>\n",
              "      <td>12</td>\n",
              "      <td>0.0</td>\n",
              "      <td>0.0</td>\n",
              "      <td>25</td>\n",
              "      <td>6.0</td>\n",
              "      <td>0.0</td>\n",
              "      <td>101250.0</td>\n",
              "    </tr>\n",
              "    <tr>\n",
              "      <th>1</th>\n",
              "      <td>F</td>\n",
              "      <td>N</td>\n",
              "      <td>Y</td>\n",
              "      <td>202500.0</td>\n",
              "      <td>Commercial associate</td>\n",
              "      <td>Secondary / secondary special</td>\n",
              "      <td>Married</td>\n",
              "      <td>House / apartment</td>\n",
              "      <td>0</td>\n",
              "      <td>1</td>\n",
              "      <td>...</td>\n",
              "      <td>41</td>\n",
              "      <td>10.0</td>\n",
              "      <td>3.0</td>\n",
              "      <td>5</td>\n",
              "      <td>9.0</td>\n",
              "      <td>2.0</td>\n",
              "      <td>35</td>\n",
              "      <td>1.0</td>\n",
              "      <td>0.0</td>\n",
              "      <td>101250.0</td>\n",
              "    </tr>\n",
              "    <tr>\n",
              "      <th>2</th>\n",
              "      <td>F</td>\n",
              "      <td>Y</td>\n",
              "      <td>Y</td>\n",
              "      <td>157500.0</td>\n",
              "      <td>State servant</td>\n",
              "      <td>Higher education</td>\n",
              "      <td>Married</td>\n",
              "      <td>House / apartment</td>\n",
              "      <td>0</td>\n",
              "      <td>0</td>\n",
              "      <td>...</td>\n",
              "      <td>41</td>\n",
              "      <td>9.0</td>\n",
              "      <td>0.0</td>\n",
              "      <td>5</td>\n",
              "      <td>10.0</td>\n",
              "      <td>0.0</td>\n",
              "      <td>35</td>\n",
              "      <td>11.0</td>\n",
              "      <td>3.0</td>\n",
              "      <td>78750.0</td>\n",
              "    </tr>\n",
              "    <tr>\n",
              "      <th>3</th>\n",
              "      <td>F</td>\n",
              "      <td>N</td>\n",
              "      <td>Y</td>\n",
              "      <td>270000.0</td>\n",
              "      <td>Working</td>\n",
              "      <td>Secondary / secondary special</td>\n",
              "      <td>Married</td>\n",
              "      <td>House / apartment</td>\n",
              "      <td>0</td>\n",
              "      <td>0</td>\n",
              "      <td>...</td>\n",
              "      <td>36</td>\n",
              "      <td>3.0</td>\n",
              "      <td>0.0</td>\n",
              "      <td>13</td>\n",
              "      <td>10.0</td>\n",
              "      <td>1.0</td>\n",
              "      <td>23</td>\n",
              "      <td>4.0</td>\n",
              "      <td>2.0</td>\n",
              "      <td>67500.0</td>\n",
              "    </tr>\n",
              "    <tr>\n",
              "      <th>4</th>\n",
              "      <td>F</td>\n",
              "      <td>N</td>\n",
              "      <td>N</td>\n",
              "      <td>315000.0</td>\n",
              "      <td>Working</td>\n",
              "      <td>Secondary / secondary special</td>\n",
              "      <td>Separated</td>\n",
              "      <td>House / apartment</td>\n",
              "      <td>0</td>\n",
              "      <td>0</td>\n",
              "      <td>...</td>\n",
              "      <td>48</td>\n",
              "      <td>9.0</td>\n",
              "      <td>2.0</td>\n",
              "      <td>5</td>\n",
              "      <td>5.0</td>\n",
              "      <td>2.0</td>\n",
              "      <td>42</td>\n",
              "      <td>3.0</td>\n",
              "      <td>3.0</td>\n",
              "      <td>315000.0</td>\n",
              "    </tr>\n",
              "  </tbody>\n",
              "</table>\n",
              "<p>5 rows × 27 columns</p>\n",
              "</div>"
            ],
            "text/plain": [
              "  gender car reality  income_total           income_type  \\\n",
              "0      F   N       N      202500.0  Commercial associate   \n",
              "1      F   N       Y      202500.0  Commercial associate   \n",
              "2      F   Y       Y      157500.0         State servant   \n",
              "3      F   N       Y      270000.0               Working   \n",
              "4      F   N       N      315000.0               Working   \n",
              "\n",
              "                        edu_type family_type           house_type  work_phone  \\\n",
              "0               Higher education     Married  Municipal apartment           0   \n",
              "1  Secondary / secondary special     Married    House / apartment           0   \n",
              "2               Higher education     Married    House / apartment           0   \n",
              "3  Secondary / secondary special     Married    House / apartment           0   \n",
              "4  Secondary / secondary special   Separated    House / apartment           0   \n",
              "\n",
              "   home_phone  ...  Age birth_month  birth_week  ages_employed  employ_month  \\\n",
              "0           0  ...   38         7.0         1.0             12           0.0   \n",
              "1           1  ...   41        10.0         3.0              5           9.0   \n",
              "2           0  ...   41         9.0         0.0              5          10.0   \n",
              "3           0  ...   36         3.0         0.0             13          10.0   \n",
              "4           0  ...   48         9.0         2.0              5           5.0   \n",
              "\n",
              "   employ_week  ages_unemployed  unemploy_month  unemploy_week  income_family  \n",
              "0          0.0               25             6.0            0.0       101250.0  \n",
              "1          2.0               35             1.0            0.0       101250.0  \n",
              "2          0.0               35            11.0            3.0        78750.0  \n",
              "3          1.0               23             4.0            2.0        67500.0  \n",
              "4          2.0               42             3.0            3.0       315000.0  \n",
              "\n",
              "[5 rows x 27 columns]"
            ]
          },
          "execution_count": 40,
          "metadata": {},
          "output_type": "execute_result"
        }
      ],
      "source": [
        "train.head()"
      ]
    },
    {
      "cell_type": "code",
      "execution_count": 41,
      "metadata": {
        "colab": {
          "base_uri": "https://localhost:8080/",
          "height": 282
        },
        "id": "H2TaDfl7rmV1",
        "outputId": "5fb573c2-5de3-4675-bdb5-23655b1e8e10"
      },
      "outputs": [
        {
          "data": {
            "text/html": [
              "<div>\n",
              "<style scoped>\n",
              "    .dataframe tbody tr th:only-of-type {\n",
              "        vertical-align: middle;\n",
              "    }\n",
              "\n",
              "    .dataframe tbody tr th {\n",
              "        vertical-align: top;\n",
              "    }\n",
              "\n",
              "    .dataframe thead th {\n",
              "        text-align: right;\n",
              "    }\n",
              "</style>\n",
              "<table border=\"1\" class=\"dataframe\">\n",
              "  <thead>\n",
              "    <tr style=\"text-align: right;\">\n",
              "      <th></th>\n",
              "      <th>gender</th>\n",
              "      <th>car</th>\n",
              "      <th>reality</th>\n",
              "      <th>income_total</th>\n",
              "      <th>income_type</th>\n",
              "      <th>edu_type</th>\n",
              "      <th>family_type</th>\n",
              "      <th>house_type</th>\n",
              "      <th>work_phone</th>\n",
              "      <th>home_phone</th>\n",
              "      <th>...</th>\n",
              "      <th>Age</th>\n",
              "      <th>birth_month</th>\n",
              "      <th>birth_week</th>\n",
              "      <th>ages_employed</th>\n",
              "      <th>employ_month</th>\n",
              "      <th>employ_week</th>\n",
              "      <th>ages_unemployed</th>\n",
              "      <th>unemploy_month</th>\n",
              "      <th>unemploy_week</th>\n",
              "      <th>income_family</th>\n",
              "    </tr>\n",
              "    <tr>\n",
              "      <th>index</th>\n",
              "      <th></th>\n",
              "      <th></th>\n",
              "      <th></th>\n",
              "      <th></th>\n",
              "      <th></th>\n",
              "      <th></th>\n",
              "      <th></th>\n",
              "      <th></th>\n",
              "      <th></th>\n",
              "      <th></th>\n",
              "      <th></th>\n",
              "      <th></th>\n",
              "      <th></th>\n",
              "      <th></th>\n",
              "      <th></th>\n",
              "      <th></th>\n",
              "      <th></th>\n",
              "      <th></th>\n",
              "      <th></th>\n",
              "      <th></th>\n",
              "      <th></th>\n",
              "    </tr>\n",
              "  </thead>\n",
              "  <tbody>\n",
              "    <tr>\n",
              "      <th>26457</th>\n",
              "      <td>M</td>\n",
              "      <td>Y</td>\n",
              "      <td>N</td>\n",
              "      <td>112500.0</td>\n",
              "      <td>Pensioner</td>\n",
              "      <td>Secondary / secondary special</td>\n",
              "      <td>Civil marriage</td>\n",
              "      <td>House / apartment</td>\n",
              "      <td>0</td>\n",
              "      <td>1</td>\n",
              "      <td>...</td>\n",
              "      <td>60</td>\n",
              "      <td>1.0</td>\n",
              "      <td>1.0</td>\n",
              "      <td>0</td>\n",
              "      <td>0.0</td>\n",
              "      <td>0.0</td>\n",
              "      <td>60</td>\n",
              "      <td>1.0</td>\n",
              "      <td>1.0</td>\n",
              "      <td>56250.0</td>\n",
              "    </tr>\n",
              "    <tr>\n",
              "      <th>26458</th>\n",
              "      <td>F</td>\n",
              "      <td>N</td>\n",
              "      <td>Y</td>\n",
              "      <td>135000.0</td>\n",
              "      <td>State servant</td>\n",
              "      <td>Higher education</td>\n",
              "      <td>Married</td>\n",
              "      <td>House / apartment</td>\n",
              "      <td>0</td>\n",
              "      <td>1</td>\n",
              "      <td>...</td>\n",
              "      <td>51</td>\n",
              "      <td>8.0</td>\n",
              "      <td>1.0</td>\n",
              "      <td>23</td>\n",
              "      <td>1.0</td>\n",
              "      <td>2.0</td>\n",
              "      <td>28</td>\n",
              "      <td>7.0</td>\n",
              "      <td>2.0</td>\n",
              "      <td>67500.0</td>\n",
              "    </tr>\n",
              "    <tr>\n",
              "      <th>26459</th>\n",
              "      <td>F</td>\n",
              "      <td>N</td>\n",
              "      <td>Y</td>\n",
              "      <td>69372.0</td>\n",
              "      <td>Working</td>\n",
              "      <td>Secondary / secondary special</td>\n",
              "      <td>Married</td>\n",
              "      <td>House / apartment</td>\n",
              "      <td>1</td>\n",
              "      <td>1</td>\n",
              "      <td>...</td>\n",
              "      <td>43</td>\n",
              "      <td>1.0</td>\n",
              "      <td>1.0</td>\n",
              "      <td>0</td>\n",
              "      <td>7.0</td>\n",
              "      <td>3.0</td>\n",
              "      <td>42</td>\n",
              "      <td>6.0</td>\n",
              "      <td>2.0</td>\n",
              "      <td>34686.0</td>\n",
              "    </tr>\n",
              "    <tr>\n",
              "      <th>26460</th>\n",
              "      <td>M</td>\n",
              "      <td>Y</td>\n",
              "      <td>N</td>\n",
              "      <td>112500.0</td>\n",
              "      <td>Commercial associate</td>\n",
              "      <td>Secondary / secondary special</td>\n",
              "      <td>Married</td>\n",
              "      <td>House / apartment</td>\n",
              "      <td>1</td>\n",
              "      <td>0</td>\n",
              "      <td>...</td>\n",
              "      <td>52</td>\n",
              "      <td>6.0</td>\n",
              "      <td>0.0</td>\n",
              "      <td>6</td>\n",
              "      <td>0.0</td>\n",
              "      <td>1.0</td>\n",
              "      <td>45</td>\n",
              "      <td>5.0</td>\n",
              "      <td>3.0</td>\n",
              "      <td>56250.0</td>\n",
              "    </tr>\n",
              "    <tr>\n",
              "      <th>26461</th>\n",
              "      <td>F</td>\n",
              "      <td>Y</td>\n",
              "      <td>Y</td>\n",
              "      <td>225000.0</td>\n",
              "      <td>State servant</td>\n",
              "      <td>Higher education</td>\n",
              "      <td>Married</td>\n",
              "      <td>House / apartment</td>\n",
              "      <td>1</td>\n",
              "      <td>0</td>\n",
              "      <td>...</td>\n",
              "      <td>48</td>\n",
              "      <td>6.0</td>\n",
              "      <td>2.0</td>\n",
              "      <td>25</td>\n",
              "      <td>0.0</td>\n",
              "      <td>0.0</td>\n",
              "      <td>23</td>\n",
              "      <td>5.0</td>\n",
              "      <td>1.0</td>\n",
              "      <td>112500.0</td>\n",
              "    </tr>\n",
              "  </tbody>\n",
              "</table>\n",
              "<p>5 rows × 26 columns</p>\n",
              "</div>"
            ],
            "text/plain": [
              "      gender car reality  income_total           income_type  \\\n",
              "index                                                          \n",
              "26457      M   Y       N      112500.0             Pensioner   \n",
              "26458      F   N       Y      135000.0         State servant   \n",
              "26459      F   N       Y       69372.0               Working   \n",
              "26460      M   Y       N      112500.0  Commercial associate   \n",
              "26461      F   Y       Y      225000.0         State servant   \n",
              "\n",
              "                            edu_type     family_type         house_type  \\\n",
              "index                                                                     \n",
              "26457  Secondary / secondary special  Civil marriage  House / apartment   \n",
              "26458               Higher education         Married  House / apartment   \n",
              "26459  Secondary / secondary special         Married  House / apartment   \n",
              "26460  Secondary / secondary special         Married  House / apartment   \n",
              "26461               Higher education         Married  House / apartment   \n",
              "\n",
              "       work_phone  home_phone  ...  Age birth_month  birth_week  \\\n",
              "index                          ...                                \n",
              "26457           0           1  ...   60         1.0         1.0   \n",
              "26458           0           1  ...   51         8.0         1.0   \n",
              "26459           1           1  ...   43         1.0         1.0   \n",
              "26460           1           0  ...   52         6.0         0.0   \n",
              "26461           1           0  ...   48         6.0         2.0   \n",
              "\n",
              "       ages_employed  employ_month  employ_week  ages_unemployed  \\\n",
              "index                                                              \n",
              "26457              0           0.0          0.0               60   \n",
              "26458             23           1.0          2.0               28   \n",
              "26459              0           7.0          3.0               42   \n",
              "26460              6           0.0          1.0               45   \n",
              "26461             25           0.0          0.0               23   \n",
              "\n",
              "       unemploy_month  unemploy_week  income_family  \n",
              "index                                                \n",
              "26457             1.0            1.0        56250.0  \n",
              "26458             7.0            2.0        67500.0  \n",
              "26459             6.0            2.0        34686.0  \n",
              "26460             5.0            3.0        56250.0  \n",
              "26461             5.0            1.0       112500.0  \n",
              "\n",
              "[5 rows x 26 columns]"
            ]
          },
          "execution_count": 41,
          "metadata": {},
          "output_type": "execute_result"
        }
      ],
      "source": [
        "test.head()"
      ]
    },
    {
      "cell_type": "markdown",
      "metadata": {},
      "source": [
        "### Feature Engineering"
      ]
    },
    {
      "cell_type": "code",
      "execution_count": 7,
      "metadata": {},
      "outputs": [],
      "source": [
        "for x in [train, test]:\n",
        "    # Just adding some features about unemployment:\n",
        "    x['days_unemployed'] = x['days_birth'] - x['days_employed']\n",
        "    x['income_unemployed'] = x['income_total'] / x['days_unemployed']\n",
        "\n",
        "    # Adding Age, birth month and birth week. Birth_month: Month when the person born, etc.\n",
        "    x['Age'] = x['days_birth'] // 365\n",
        "    x['birth_month'] = np.floor(x['days_birth'] / 30) - ((np.floor(x['days_birth'] / 30) / 12).astype(int) * 12)\n",
        "    x['birth_week'] = np.floor(x['days_birth'] / 7) - ((np.floor(x['days_birth'] / 7) / 4).astype(int) * 4)\n",
        "\n",
        "    # Same with days_birth but with days_employed.\n",
        "    x['ages_employed'] = x['days_employed'] // 365\n",
        "    x['employ_month'] = np.floor(x['days_employed'] / 30) - ((np.floor(x['days_employed'] / 30) / 12).astype(int) * 12)\n",
        "    x['employ_week'] = np.floor(x['days_employed'] / 7) - ((np.floor(x['days_employed'] / 7) / 4).astype(int) * 4)\n",
        "\n",
        "    # Same but with days unemployed:\n",
        "    x['ages_unemployed'] = x['days_unemployed'] // 365\n",
        "    x['unemploy_month'] = np.floor(x['days_unemployed'] / 30) - ((np.floor(x['days_unemployed'] / 30) / 12).astype(int) * 12)\n",
        "    x['unemploy_week'] = np.floor(x['days_unemployed'] / 7) - ((np.floor(x['days_unemployed'] / 7) / 4).astype(int) * 4)\n",
        "\n",
        "    # Actual income per family member.\n",
        "    x[\"income_family\"] = x[\"income_total\"] / x[\"family_size\"]\n",
        "\n",
        "    # Handling with multicollinearity\n",
        "    cols = ['child_num', 'days_birth', 'days_employed']\n",
        "    x.drop(cols, axis=1, inplace=True)"
      ]
    },
    {
      "cell_type": "code",
      "execution_count": 42,
      "metadata": {},
      "outputs": [
        {
          "data": {
            "text/plain": [
              "Index(['gender', 'car', 'reality', 'income_total', 'income_type', 'edu_type',\n",
              "       'family_type', 'house_type', 'work_phone', 'home_phone', 'email',\n",
              "       'occup_type', 'family_size', 'begin_month', 'credit', 'days_unemployed',\n",
              "       'income_unemployed', 'Age', 'birth_month', 'birth_week',\n",
              "       'ages_employed', 'employ_month', 'employ_week', 'ages_unemployed',\n",
              "       'unemploy_month', 'unemploy_week', 'income_family'],\n",
              "      dtype='object')"
            ]
          },
          "execution_count": 42,
          "metadata": {},
          "output_type": "execute_result"
        }
      ],
      "source": [
        "train.columns"
      ]
    },
    {
      "cell_type": "code",
      "execution_count": 43,
      "metadata": {},
      "outputs": [
        {
          "data": {
            "text/plain": [
              "Index(['gender', 'car', 'reality', 'income_total', 'income_type', 'edu_type',\n",
              "       'family_type', 'house_type', 'work_phone', 'home_phone', 'email',\n",
              "       'occup_type', 'family_size', 'begin_month', 'days_unemployed',\n",
              "       'income_unemployed', 'Age', 'birth_month', 'birth_week',\n",
              "       'ages_employed', 'employ_month', 'employ_week', 'ages_unemployed',\n",
              "       'unemploy_month', 'unemploy_week', 'income_family'],\n",
              "      dtype='object')"
            ]
          },
          "execution_count": 43,
          "metadata": {},
          "output_type": "execute_result"
        }
      ],
      "source": [
        "test.columns"
      ]
    },
    {
      "cell_type": "markdown",
      "metadata": {},
      "source": [
        "### Encoding"
      ]
    },
    {
      "cell_type": "code",
      "execution_count": 44,
      "metadata": {},
      "outputs": [],
      "source": [
        "# Separate numerical and categorical features\n",
        "num = train.dtypes[train.dtypes != \"object\"].index.tolist()\n",
        "num.remove('credit')\n",
        "\n",
        "cat = train.dtypes[train.dtypes == \"object\"].index.tolist()"
      ]
    },
    {
      "cell_type": "code",
      "execution_count": 10,
      "metadata": {},
      "outputs": [
        {
          "data": {
            "text/plain": [
              "['income_total',\n",
              " 'work_phone',\n",
              " 'home_phone',\n",
              " 'email',\n",
              " 'family_size',\n",
              " 'begin_month',\n",
              " 'days_unemployed',\n",
              " 'income_unemployed',\n",
              " 'Age',\n",
              " 'birth_month',\n",
              " 'birth_week',\n",
              " 'ages_employed',\n",
              " 'employ_month',\n",
              " 'employ_week',\n",
              " 'ages_unemployed',\n",
              " 'unemploy_month',\n",
              " 'unemploy_week',\n",
              " 'income_family']"
            ]
          },
          "execution_count": 10,
          "metadata": {},
          "output_type": "execute_result"
        }
      ],
      "source": [
        "num"
      ]
    },
    {
      "cell_type": "code",
      "execution_count": 11,
      "metadata": {},
      "outputs": [
        {
          "data": {
            "text/plain": [
              "['gender',\n",
              " 'car',\n",
              " 'reality',\n",
              " 'income_type',\n",
              " 'edu_type',\n",
              " 'family_type',\n",
              " 'house_type',\n",
              " 'occup_type']"
            ]
          },
          "execution_count": 11,
          "metadata": {},
          "output_type": "execute_result"
        }
      ],
      "source": [
        "cat"
      ]
    },
    {
      "cell_type": "code",
      "execution_count": 45,
      "metadata": {},
      "outputs": [],
      "source": [
        "# StandardScaler\n",
        "scaler = StandardScaler()\n",
        "train[num] = scaler.fit_transform(train[num])\n",
        "test[num] = scaler.transform(test[num])"
      ]
    },
    {
      "cell_type": "markdown",
      "metadata": {},
      "source": [
        "The result using OrdinalEncoding and LabelEncoding is exactly the same, there's no difference:"
      ]
    },
    {
      "cell_type": "code",
      "execution_count": 46,
      "metadata": {},
      "outputs": [],
      "source": [
        "# OrdinalEncoding\n",
        "oenc = OrdinalEncoder()\n",
        "train[cat] = oenc.fit_transform(train[cat], train['credit'])\n",
        "test[cat] = oenc.transform(test[cat])"
      ]
    },
    {
      "cell_type": "code",
      "execution_count": 139,
      "metadata": {
        "id": "_eHzQ0Kgrvuo"
      },
      "outputs": [],
      "source": [
        "# THIS CODE IS DEPRECATED AND SHOULD NOT BE USED ANYMORE\n",
        "\n",
        "# LabelEncoding\n",
        "for x in cat:\n",
        "  lenc = LabelEncoder()\n",
        "  lenc = lenc.fit(train[x])\n",
        "  train[x] = lenc.transform(train[x])\n",
        "  test[x] = lenc.transform(test[x])"
      ]
    },
    {
      "cell_type": "markdown",
      "metadata": {
        "id": "X-ujXrBmu5I2"
      },
      "source": [
        "## **Model and train**"
      ]
    },
    {
      "cell_type": "code",
      "execution_count": 47,
      "metadata": {
        "id": "nCnFbE0uu4eb"
      },
      "outputs": [],
      "source": [
        "def stratified_kfold_rf(p, n_fold, X, y, X_test):\n",
        "    # Declaring Stratified K-Fold:\n",
        "    folds = StratifiedKFold(n_splits=n_fold, shuffle=True, random_state=42)\n",
        "    splits = folds.split(X, y)\n",
        "    \n",
        "    # Initializing arrays:\n",
        "    rf_oof = np.zeros((X.shape[0], 3))\n",
        "    rf_preds = np.zeros((X_test.shape[0], 3))\n",
        "\n",
        "    # Main loop:\n",
        "    for fold, (train_idx, valid_idx) in enumerate(splits):\n",
        "        print(f\"============ Fold {fold} ============\")\n",
        "        \n",
        "        X_train, X_valid = X.iloc[train_idx], X.iloc[valid_idx]\n",
        "        y_train, y_valid = y.iloc[train_idx], y.iloc[valid_idx]\n",
        "        \n",
        "        # Model fit:\n",
        "        model = RandomForestClassifier(**p)\n",
        "        model.fit(X_train, y_train)\n",
        "\n",
        "        rf_oof[valid_idx] = model.predict_proba(X_valid) # Infers the class probability of train dataset\n",
        "        rf_preds += model.predict_proba(X_test) / n_fold # Infers the class probability of test dataset\n",
        "        print(f\"Log Loss Score: {log_loss(y_valid, rf_oof[valid_idx]):.5f}\")\n",
        "\n",
        "    log_score = log_loss(y, rf_oof)\n",
        "    print(f\"\\nLog Loss Score: {log_score:.5f}\")\n",
        "\n",
        "    return rf_oof, rf_preds"
      ]
    },
    {
      "cell_type": "code",
      "execution_count": 48,
      "metadata": {
        "id": "dKtewjUpwJ9F"
      },
      "outputs": [],
      "source": [
        "# Manual hyperparameterization\n",
        "p = {\n",
        "  \"criterion\": \"entropy\",\n",
        "  \"n_estimators\": 300,\n",
        "  \"min_samples_split\": 10,\n",
        "  \"min_samples_leaf\": 2,\n",
        "  \"max_features\": \"sqrt\",\n",
        "  \"oob_score\": True,\n",
        "  \"random_state\": 42,\n",
        "  \"n_jobs\": -1,\n",
        "  }"
      ]
    },
    {
      "cell_type": "code",
      "execution_count": 49,
      "metadata": {
        "id": "IDnpC5-Twycy"
      },
      "outputs": [],
      "source": [
        "X = train.drop(\"credit\", axis=1)\n",
        "y = train[\"credit\"]\n",
        "X_test = test.copy()"
      ]
    },
    {
      "cell_type": "code",
      "execution_count": 50,
      "metadata": {
        "colab": {
          "base_uri": "https://localhost:8080/"
        },
        "id": "_wRTzXDxxMAg",
        "outputId": "e2c3d474-5e46-4634-8d41-8f9e867ddc2d"
      },
      "outputs": [
        {
          "name": "stdout",
          "output_type": "stream",
          "text": [
            "============ Fold 0 ============\n",
            "Log Loss Score: 0.68736\n",
            "============ Fold 1 ============\n",
            "Log Loss Score: 0.68164\n",
            "============ Fold 2 ============\n",
            "Log Loss Score: 0.66641\n",
            "============ Fold 3 ============\n",
            "Log Loss Score: 0.66620\n",
            "============ Fold 4 ============\n",
            "Log Loss Score: 0.68641\n",
            "============ Fold 5 ============\n",
            "Log Loss Score: 0.67191\n",
            "============ Fold 6 ============\n",
            "Log Loss Score: 0.70074\n",
            "============ Fold 7 ============\n",
            "Log Loss Score: 0.68104\n",
            "============ Fold 8 ============\n",
            "Log Loss Score: 0.68441\n",
            "============ Fold 9 ============\n",
            "Log Loss Score: 0.69283\n",
            "\n",
            "Log Loss Score: 0.68189\n"
          ]
        }
      ],
      "source": [
        "rf_oof, rf_preds = stratified_kfold_rf(p, 10, X, y, X_test)"
      ]
    },
    {
      "cell_type": "markdown",
      "metadata": {},
      "source": [
        "Now, let's try using Optuna to find best hyperparameters:"
      ]
    },
    {
      "cell_type": "code",
      "execution_count": 51,
      "metadata": {},
      "outputs": [],
      "source": [
        "from sklearn.model_selection import cross_val_score\n",
        "\n",
        "def objective(trial):\n",
        "    p = {\n",
        "        \"max_depth\": trial.suggest_int('max_depth', 1, 10),\n",
        "        \"max_leaf_nodes\": trial.suggest_int('max_leaf_nodes', 2, 1000),\n",
        "        \"n_estimators\": trial.suggest_int('n_estimators', 100, 500),\n",
        "        \"min_samples_split\": trial.suggest_int('min_samples_split', 2, 30),\n",
        "        \"min_samples_leaf\": trial.suggest_int('min_samples_leaf', 1, 10),\n",
        "    }\n",
        "\n",
        "    rf = RandomForestClassifier(**p)\n",
        "    rf.fit(X, y)\n",
        "\n",
        "    score = cross_val_score(rf, X, y, cv=5, scoring=\"neg_log_loss\")\n",
        "    log_loss = score.mean()\n",
        "\n",
        "    return log_loss"
      ]
    },
    {
      "cell_type": "code",
      "execution_count": 52,
      "metadata": {},
      "outputs": [
        {
          "name": "stderr",
          "output_type": "stream",
          "text": [
            "\u001b[32m[I 2022-12-14 22:02:01,585]\u001b[0m A new study created in memory with name: no-name-bf17c096-9558-45b6-91aa-2ab4de3ca123\u001b[0m\n",
            "\u001b[32m[I 2022-12-14 22:02:10,066]\u001b[0m Trial 0 finished with value: -0.8472836619682053 and parameters: {'max_depth': 1, 'max_leaf_nodes': 156, 'n_estimators': 423, 'min_samples_split': 7, 'min_samples_leaf': 3}. Best is trial 0 with value: -0.8472836619682053.\u001b[0m\n",
            "\u001b[32m[I 2022-12-14 22:02:36,148]\u001b[0m Trial 1 finished with value: -0.7832537702382482 and parameters: {'max_depth': 8, 'max_leaf_nodes': 809, 'n_estimators': 332, 'min_samples_split': 14, 'min_samples_leaf': 2}. Best is trial 1 with value: -0.7832537702382482.\u001b[0m\n",
            "\u001b[32m[I 2022-12-14 22:03:03,304]\u001b[0m Trial 2 finished with value: -0.7896294025031103 and parameters: {'max_depth': 7, 'max_leaf_nodes': 284, 'n_estimators': 376, 'min_samples_split': 7, 'min_samples_leaf': 2}. Best is trial 1 with value: -0.7832537702382482.\u001b[0m\n",
            "\u001b[32m[I 2022-12-14 22:03:21,764]\u001b[0m Trial 3 finished with value: -0.8205707610991295 and parameters: {'max_depth': 3, 'max_leaf_nodes': 902, 'n_estimators': 484, 'min_samples_split': 30, 'min_samples_leaf': 10}. Best is trial 1 with value: -0.7832537702382482.\u001b[0m\n",
            "\u001b[32m[I 2022-12-14 22:03:37,659]\u001b[0m Trial 4 finished with value: -0.8199278802124885 and parameters: {'max_depth': 3, 'max_leaf_nodes': 412, 'n_estimators': 431, 'min_samples_split': 5, 'min_samples_leaf': 5}. Best is trial 1 with value: -0.7832537702382482.\u001b[0m\n",
            "\u001b[32m[I 2022-12-14 22:04:21,392]\u001b[0m Trial 5 finished with value: -0.7700081934941353 and parameters: {'max_depth': 10, 'max_leaf_nodes': 431, 'n_estimators': 466, 'min_samples_split': 25, 'min_samples_leaf': 1}. Best is trial 5 with value: -0.7700081934941353.\u001b[0m\n",
            "\u001b[32m[I 2022-12-14 22:04:37,518]\u001b[0m Trial 6 finished with value: -0.7833283456295048 and parameters: {'max_depth': 8, 'max_leaf_nodes': 908, 'n_estimators': 211, 'min_samples_split': 5, 'min_samples_leaf': 5}. Best is trial 5 with value: -0.7700081934941353.\u001b[0m\n",
            "\u001b[32m[I 2022-12-14 22:04:52,081]\u001b[0m Trial 7 finished with value: -0.803931880762869 and parameters: {'max_depth': 5, 'max_leaf_nodes': 838, 'n_estimators': 277, 'min_samples_split': 14, 'min_samples_leaf': 3}. Best is trial 5 with value: -0.7700081934941353.\u001b[0m\n",
            "\u001b[32m[I 2022-12-14 22:05:03,199]\u001b[0m Trial 8 finished with value: -0.8296013646681359 and parameters: {'max_depth': 2, 'max_leaf_nodes': 6, 'n_estimators': 395, 'min_samples_split': 2, 'min_samples_leaf': 8}. Best is trial 5 with value: -0.7700081934941353.\u001b[0m\n",
            "\u001b[32m[I 2022-12-14 22:05:06,126]\u001b[0m Trial 9 finished with value: -0.8448893657993846 and parameters: {'max_depth': 1, 'max_leaf_nodes': 615, 'n_estimators': 147, 'min_samples_split': 20, 'min_samples_leaf': 10}. Best is trial 5 with value: -0.7700081934941353.\u001b[0m\n"
          ]
        },
        {
          "name": "stdout",
          "output_type": "stream",
          "text": [
            "Best Score: -0.7700081934941353\n",
            "Best trial {'max_depth': 10, 'max_leaf_nodes': 431, 'n_estimators': 466, 'min_samples_split': 25, 'min_samples_leaf': 1}\n"
          ]
        }
      ],
      "source": [
        "import optuna\n",
        "\n",
        "rf_study = optuna.create_study(direction='maximize')\n",
        "rf_study.optimize(objective, n_trials=10)\n",
        "\n",
        "print(\"Best Score:\",rf_study.best_value)\n",
        "print(\"Best trial\",rf_study.best_trial.params)"
      ]
    },
    {
      "cell_type": "code",
      "execution_count": 55,
      "metadata": {},
      "outputs": [],
      "source": [
        "# Optuna hyperparameterization\n",
        "p_optuna = {\n",
        "  \"criterion\": \"entropy\",\n",
        "  \"max_features\": \"sqrt\",\n",
        "  \"oob_score\": True,\n",
        "  \"random_state\": 42,\n",
        "  \"n_jobs\": -1,\n",
        "\n",
        "  # \"max_leaf_nodes\": 431,\n",
        "  \"n_estimators\": 466,\n",
        "  \"min_samples_split\": 25,\n",
        "  \"min_samples_leaf\": 1,\n",
        "  }"
      ]
    },
    {
      "cell_type": "code",
      "execution_count": 56,
      "metadata": {},
      "outputs": [
        {
          "name": "stdout",
          "output_type": "stream",
          "text": [
            "============ Fold 0 ============\n",
            "Log Loss Score: 0.70227\n",
            "============ Fold 1 ============\n",
            "Log Loss Score: 0.69876\n",
            "============ Fold 2 ============\n",
            "Log Loss Score: 0.68893\n",
            "============ Fold 3 ============\n",
            "Log Loss Score: 0.68872\n",
            "============ Fold 4 ============\n",
            "Log Loss Score: 0.70318\n",
            "============ Fold 5 ============\n",
            "Log Loss Score: 0.69329\n",
            "============ Fold 6 ============\n",
            "Log Loss Score: 0.71338\n",
            "============ Fold 7 ============\n",
            "Log Loss Score: 0.69996\n",
            "============ Fold 8 ============\n",
            "Log Loss Score: 0.69830\n",
            "============ Fold 9 ============\n",
            "Log Loss Score: 0.70844\n",
            "\n",
            "Log Loss Score: 0.69952\n"
          ]
        }
      ],
      "source": [
        "rf_oof_optuna, rf_preds_optuna = stratified_kfold_rf(p_optuna, 10, X, y, X_test)"
      ]
    },
    {
      "cell_type": "markdown",
      "metadata": {},
      "source": [
        "The result using manual hyperparameterization is better, so let's save this configuration:"
      ]
    },
    {
      "cell_type": "code",
      "execution_count": 19,
      "metadata": {
        "colab": {
          "base_uri": "https://localhost:8080/"
        },
        "id": "NMjvOp1YzTo4",
        "outputId": "45e9ae79-e7a6-49ca-fbf5-e50f15edd45a"
      },
      "outputs": [
        {
          "data": {
            "text/plain": [
              "(10000, 3)"
            ]
          },
          "execution_count": 19,
          "metadata": {},
          "output_type": "execute_result"
        }
      ],
      "source": [
        "rf_preds.shape"
      ]
    },
    {
      "cell_type": "code",
      "execution_count": 20,
      "metadata": {
        "colab": {
          "base_uri": "https://localhost:8080/"
        },
        "id": "9k_NP8ht7Y8v",
        "outputId": "c728788e-2fda-4021-d4c7-233039f45d4b"
      },
      "outputs": [
        {
          "data": {
            "text/plain": [
              "(23392, 3)"
            ]
          },
          "execution_count": 20,
          "metadata": {},
          "output_type": "execute_result"
        }
      ],
      "source": [
        "rf_oof.shape"
      ]
    },
    {
      "cell_type": "markdown",
      "metadata": {
        "id": "2SKtlMYK05ny"
      },
      "source": [
        "## **Save results**"
      ]
    },
    {
      "cell_type": "code",
      "execution_count": 21,
      "metadata": {
        "id": "goaoEjPE05Uv"
      },
      "outputs": [
        {
          "data": {
            "text/html": [
              "<div>\n",
              "<style scoped>\n",
              "    .dataframe tbody tr th:only-of-type {\n",
              "        vertical-align: middle;\n",
              "    }\n",
              "\n",
              "    .dataframe tbody tr th {\n",
              "        vertical-align: top;\n",
              "    }\n",
              "\n",
              "    .dataframe thead th {\n",
              "        text-align: right;\n",
              "    }\n",
              "</style>\n",
              "<table border=\"1\" class=\"dataframe\">\n",
              "  <thead>\n",
              "    <tr style=\"text-align: right;\">\n",
              "      <th></th>\n",
              "      <th>0</th>\n",
              "      <th>1</th>\n",
              "      <th>2</th>\n",
              "    </tr>\n",
              "    <tr>\n",
              "      <th>index</th>\n",
              "      <th></th>\n",
              "      <th></th>\n",
              "      <th></th>\n",
              "    </tr>\n",
              "  </thead>\n",
              "  <tbody>\n",
              "    <tr>\n",
              "      <th>26457</th>\n",
              "      <td>0.068513</td>\n",
              "      <td>0.216909</td>\n",
              "      <td>0.714578</td>\n",
              "    </tr>\n",
              "    <tr>\n",
              "      <th>26458</th>\n",
              "      <td>0.303931</td>\n",
              "      <td>0.274497</td>\n",
              "      <td>0.421573</td>\n",
              "    </tr>\n",
              "    <tr>\n",
              "      <th>26459</th>\n",
              "      <td>0.039117</td>\n",
              "      <td>0.066872</td>\n",
              "      <td>0.894011</td>\n",
              "    </tr>\n",
              "    <tr>\n",
              "      <th>26460</th>\n",
              "      <td>0.081644</td>\n",
              "      <td>0.083682</td>\n",
              "      <td>0.834674</td>\n",
              "    </tr>\n",
              "    <tr>\n",
              "      <th>26461</th>\n",
              "      <td>0.114849</td>\n",
              "      <td>0.172174</td>\n",
              "      <td>0.712977</td>\n",
              "    </tr>\n",
              "  </tbody>\n",
              "</table>\n",
              "</div>"
            ],
            "text/plain": [
              "              0         1         2\n",
              "index                              \n",
              "26457  0.068513  0.216909  0.714578\n",
              "26458  0.303931  0.274497  0.421573\n",
              "26459  0.039117  0.066872  0.894011\n",
              "26460  0.081644  0.083682  0.834674\n",
              "26461  0.114849  0.172174  0.712977"
            ]
          },
          "execution_count": 21,
          "metadata": {},
          "output_type": "execute_result"
        }
      ],
      "source": [
        "submission = pd.read_csv(\"../data/sample_submission.csv\")\n",
        "submission.set_index(\"index\", inplace=True)\n",
        "submission[:] = rf_preds\n",
        "submission.head()"
      ]
    }
  ],
  "metadata": {
    "colab": {
      "provenance": []
    },
    "kernelspec": {
      "display_name": "Python 3.10.8 64-bit (microsoft store)",
      "language": "python",
      "name": "python3"
    },
    "language_info": {
      "codemirror_mode": {
        "name": "ipython",
        "version": 3
      },
      "file_extension": ".py",
      "mimetype": "text/x-python",
      "name": "python",
      "nbconvert_exporter": "python",
      "pygments_lexer": "ipython3",
      "version": "3.10.9"
    },
    "vscode": {
      "interpreter": {
        "hash": "2df53de82fe139b23b9a340061c8527273b7fa86551030a1983ff618b17018eb"
      }
    }
  },
  "nbformat": 4,
  "nbformat_minor": 0
}
