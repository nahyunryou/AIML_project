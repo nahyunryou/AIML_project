{
  "cells": [
    {
      "cell_type": "markdown",
      "metadata": {
        "id": "b_jW88MfqChJ"
      },
      "source": [
        "# **Random Forest**\n",
        "\n",
        "Log-loss Score obtained: **0.68696**"
      ]
    },
    {
      "cell_type": "markdown",
      "metadata": {
        "id": "BDQtW1H-pz4q"
      },
      "source": [
        "## **Setup**"
      ]
    },
    {
      "cell_type": "code",
      "execution_count": 1,
      "metadata": {
        "colab": {
          "base_uri": "https://localhost:8080/"
        },
        "id": "wKP_D8hFpzU2",
        "outputId": "68298b6b-2efc-49f6-dd41-976f47905192"
      },
      "outputs": [
        {
          "name": "stdout",
          "output_type": "stream",
          "text": [
            "Cloning into 'AIML_project'...\n",
            "remote: Enumerating objects: 53, done.\u001b[K\n",
            "remote: Counting objects: 100% (53/53), done.\u001b[K\n",
            "remote: Compressing objects: 100% (49/49), done.\u001b[K\n",
            "remote: Total 53 (delta 17), reused 16 (delta 1), pack-reused 0\u001b[K\n",
            "Unpacking objects: 100% (53/53), done.\n"
          ]
        }
      ],
      "source": [
        "!git clone https://github.com/yeray142/AIML_project"
      ]
    },
    {
      "cell_type": "code",
      "execution_count": 2,
      "metadata": {
        "colab": {
          "base_uri": "https://localhost:8080/"
        },
        "id": "rQXrN0Qopowu",
        "outputId": "31376de3-aa63-45ca-baee-88f7b8b26450"
      },
      "outputs": [
        {
          "name": "stdout",
          "output_type": "stream",
          "text": [
            "/content/AIML_project\n"
          ]
        }
      ],
      "source": [
        "cd AIML_project"
      ]
    },
    {
      "cell_type": "code",
      "execution_count": 175,
      "metadata": {
        "id": "ksCMzojhp38H"
      },
      "outputs": [],
      "source": [
        "import pandas as pd\n",
        "import numpy as np\n",
        "\n",
        "train = pd.read_csv(\"../data/rf_train.csv\", index_col=0)\n",
        "test = pd.read_csv(\"../data/rf_test.csv\", index_col=0)"
      ]
    },
    {
      "cell_type": "code",
      "execution_count": 176,
      "metadata": {
        "id": "rLZ8IPrJqxEV"
      },
      "outputs": [],
      "source": [
        "from sklearn.preprocessing import LabelEncoder, OrdinalEncoder, StandardScaler, OneHotEncoder\n",
        "from sklearn.model_selection import StratifiedKFold\n",
        "from sklearn.ensemble import RandomForestClassifier\n",
        "from sklearn.metrics import log_loss"
      ]
    },
    {
      "cell_type": "markdown",
      "metadata": {
        "id": "_VSGnFRTrf5L"
      },
      "source": [
        "## **Data preprocessing**"
      ]
    },
    {
      "cell_type": "code",
      "execution_count": 177,
      "metadata": {
        "colab": {
          "base_uri": "https://localhost:8080/",
          "height": 320
        },
        "id": "UK7Ot8ZZrfJd",
        "outputId": "38f1179a-7181-4efb-9b2d-105eb78ba68d"
      },
      "outputs": [
        {
          "data": {
            "text/html": [
              "<div>\n",
              "<style scoped>\n",
              "    .dataframe tbody tr th:only-of-type {\n",
              "        vertical-align: middle;\n",
              "    }\n",
              "\n",
              "    .dataframe tbody tr th {\n",
              "        vertical-align: top;\n",
              "    }\n",
              "\n",
              "    .dataframe thead th {\n",
              "        text-align: right;\n",
              "    }\n",
              "</style>\n",
              "<table border=\"1\" class=\"dataframe\">\n",
              "  <thead>\n",
              "    <tr style=\"text-align: right;\">\n",
              "      <th></th>\n",
              "      <th>gender</th>\n",
              "      <th>car</th>\n",
              "      <th>reality</th>\n",
              "      <th>child_num</th>\n",
              "      <th>income_total</th>\n",
              "      <th>income_type</th>\n",
              "      <th>edu_type</th>\n",
              "      <th>family_type</th>\n",
              "      <th>house_type</th>\n",
              "      <th>days_birth</th>\n",
              "      <th>days_employed</th>\n",
              "      <th>work_phone</th>\n",
              "      <th>home_phone</th>\n",
              "      <th>email</th>\n",
              "      <th>occup_type</th>\n",
              "      <th>family_size</th>\n",
              "      <th>begin_month</th>\n",
              "      <th>credit</th>\n",
              "    </tr>\n",
              "  </thead>\n",
              "  <tbody>\n",
              "    <tr>\n",
              "      <th>0</th>\n",
              "      <td>F</td>\n",
              "      <td>N</td>\n",
              "      <td>N</td>\n",
              "      <td>0</td>\n",
              "      <td>202500.0</td>\n",
              "      <td>Commercial associate</td>\n",
              "      <td>Higher education</td>\n",
              "      <td>Married</td>\n",
              "      <td>Municipal apartment</td>\n",
              "      <td>13899</td>\n",
              "      <td>4709</td>\n",
              "      <td>0</td>\n",
              "      <td>0</td>\n",
              "      <td>0</td>\n",
              "      <td>No job</td>\n",
              "      <td>2.0</td>\n",
              "      <td>6</td>\n",
              "      <td>1.0</td>\n",
              "    </tr>\n",
              "    <tr>\n",
              "      <th>1</th>\n",
              "      <td>F</td>\n",
              "      <td>N</td>\n",
              "      <td>Y</td>\n",
              "      <td>0</td>\n",
              "      <td>202500.0</td>\n",
              "      <td>Commercial associate</td>\n",
              "      <td>Secondary / secondary special</td>\n",
              "      <td>Married</td>\n",
              "      <td>House / apartment</td>\n",
              "      <td>15088</td>\n",
              "      <td>2092</td>\n",
              "      <td>0</td>\n",
              "      <td>1</td>\n",
              "      <td>0</td>\n",
              "      <td>Sales staff</td>\n",
              "      <td>2.0</td>\n",
              "      <td>37</td>\n",
              "      <td>0.0</td>\n",
              "    </tr>\n",
              "    <tr>\n",
              "      <th>2</th>\n",
              "      <td>F</td>\n",
              "      <td>Y</td>\n",
              "      <td>Y</td>\n",
              "      <td>0</td>\n",
              "      <td>157500.0</td>\n",
              "      <td>State servant</td>\n",
              "      <td>Higher education</td>\n",
              "      <td>Married</td>\n",
              "      <td>House / apartment</td>\n",
              "      <td>15037</td>\n",
              "      <td>2105</td>\n",
              "      <td>0</td>\n",
              "      <td>0</td>\n",
              "      <td>0</td>\n",
              "      <td>Managers</td>\n",
              "      <td>2.0</td>\n",
              "      <td>26</td>\n",
              "      <td>2.0</td>\n",
              "    </tr>\n",
              "    <tr>\n",
              "      <th>3</th>\n",
              "      <td>F</td>\n",
              "      <td>N</td>\n",
              "      <td>Y</td>\n",
              "      <td>2</td>\n",
              "      <td>270000.0</td>\n",
              "      <td>Working</td>\n",
              "      <td>Secondary / secondary special</td>\n",
              "      <td>Married</td>\n",
              "      <td>House / apartment</td>\n",
              "      <td>13413</td>\n",
              "      <td>4996</td>\n",
              "      <td>0</td>\n",
              "      <td>0</td>\n",
              "      <td>1</td>\n",
              "      <td>High skill tech staff</td>\n",
              "      <td>4.0</td>\n",
              "      <td>18</td>\n",
              "      <td>1.0</td>\n",
              "    </tr>\n",
              "    <tr>\n",
              "      <th>4</th>\n",
              "      <td>F</td>\n",
              "      <td>N</td>\n",
              "      <td>N</td>\n",
              "      <td>0</td>\n",
              "      <td>315000.0</td>\n",
              "      <td>Working</td>\n",
              "      <td>Secondary / secondary special</td>\n",
              "      <td>Separated</td>\n",
              "      <td>House / apartment</td>\n",
              "      <td>17570</td>\n",
              "      <td>1978</td>\n",
              "      <td>0</td>\n",
              "      <td>0</td>\n",
              "      <td>1</td>\n",
              "      <td>Core staff</td>\n",
              "      <td>1.0</td>\n",
              "      <td>41</td>\n",
              "      <td>2.0</td>\n",
              "    </tr>\n",
              "  </tbody>\n",
              "</table>\n",
              "</div>"
            ],
            "text/plain": [
              "  gender car reality  child_num  income_total           income_type  \\\n",
              "0      F   N       N          0      202500.0  Commercial associate   \n",
              "1      F   N       Y          0      202500.0  Commercial associate   \n",
              "2      F   Y       Y          0      157500.0         State servant   \n",
              "3      F   N       Y          2      270000.0               Working   \n",
              "4      F   N       N          0      315000.0               Working   \n",
              "\n",
              "                        edu_type family_type           house_type  days_birth  \\\n",
              "0               Higher education     Married  Municipal apartment       13899   \n",
              "1  Secondary / secondary special     Married    House / apartment       15088   \n",
              "2               Higher education     Married    House / apartment       15037   \n",
              "3  Secondary / secondary special     Married    House / apartment       13413   \n",
              "4  Secondary / secondary special   Separated    House / apartment       17570   \n",
              "\n",
              "   days_employed  work_phone  home_phone  email             occup_type  \\\n",
              "0           4709           0           0      0                 No job   \n",
              "1           2092           0           1      0            Sales staff   \n",
              "2           2105           0           0      0               Managers   \n",
              "3           4996           0           0      1  High skill tech staff   \n",
              "4           1978           0           0      1             Core staff   \n",
              "\n",
              "   family_size  begin_month  credit  \n",
              "0          2.0            6     1.0  \n",
              "1          2.0           37     0.0  \n",
              "2          2.0           26     2.0  \n",
              "3          4.0           18     1.0  \n",
              "4          1.0           41     2.0  "
            ]
          },
          "execution_count": 177,
          "metadata": {},
          "output_type": "execute_result"
        }
      ],
      "source": [
        "train.head()"
      ]
    },
    {
      "cell_type": "code",
      "execution_count": 178,
      "metadata": {
        "colab": {
          "base_uri": "https://localhost:8080/",
          "height": 282
        },
        "id": "H2TaDfl7rmV1",
        "outputId": "5fb573c2-5de3-4675-bdb5-23655b1e8e10"
      },
      "outputs": [
        {
          "data": {
            "text/html": [
              "<div>\n",
              "<style scoped>\n",
              "    .dataframe tbody tr th:only-of-type {\n",
              "        vertical-align: middle;\n",
              "    }\n",
              "\n",
              "    .dataframe tbody tr th {\n",
              "        vertical-align: top;\n",
              "    }\n",
              "\n",
              "    .dataframe thead th {\n",
              "        text-align: right;\n",
              "    }\n",
              "</style>\n",
              "<table border=\"1\" class=\"dataframe\">\n",
              "  <thead>\n",
              "    <tr style=\"text-align: right;\">\n",
              "      <th></th>\n",
              "      <th>gender</th>\n",
              "      <th>car</th>\n",
              "      <th>reality</th>\n",
              "      <th>child_num</th>\n",
              "      <th>income_total</th>\n",
              "      <th>income_type</th>\n",
              "      <th>edu_type</th>\n",
              "      <th>family_type</th>\n",
              "      <th>house_type</th>\n",
              "      <th>days_birth</th>\n",
              "      <th>days_employed</th>\n",
              "      <th>work_phone</th>\n",
              "      <th>home_phone</th>\n",
              "      <th>email</th>\n",
              "      <th>occup_type</th>\n",
              "      <th>family_size</th>\n",
              "      <th>begin_month</th>\n",
              "    </tr>\n",
              "    <tr>\n",
              "      <th>index</th>\n",
              "      <th></th>\n",
              "      <th></th>\n",
              "      <th></th>\n",
              "      <th></th>\n",
              "      <th></th>\n",
              "      <th></th>\n",
              "      <th></th>\n",
              "      <th></th>\n",
              "      <th></th>\n",
              "      <th></th>\n",
              "      <th></th>\n",
              "      <th></th>\n",
              "      <th></th>\n",
              "      <th></th>\n",
              "      <th></th>\n",
              "      <th></th>\n",
              "      <th></th>\n",
              "    </tr>\n",
              "  </thead>\n",
              "  <tbody>\n",
              "    <tr>\n",
              "      <th>26457</th>\n",
              "      <td>M</td>\n",
              "      <td>Y</td>\n",
              "      <td>N</td>\n",
              "      <td>0</td>\n",
              "      <td>112500.0</td>\n",
              "      <td>Pensioner</td>\n",
              "      <td>Secondary / secondary special</td>\n",
              "      <td>Civil marriage</td>\n",
              "      <td>House / apartment</td>\n",
              "      <td>21990</td>\n",
              "      <td>0</td>\n",
              "      <td>0</td>\n",
              "      <td>1</td>\n",
              "      <td>0</td>\n",
              "      <td>No job</td>\n",
              "      <td>2.0</td>\n",
              "      <td>60</td>\n",
              "    </tr>\n",
              "    <tr>\n",
              "      <th>26458</th>\n",
              "      <td>F</td>\n",
              "      <td>N</td>\n",
              "      <td>Y</td>\n",
              "      <td>0</td>\n",
              "      <td>135000.0</td>\n",
              "      <td>State servant</td>\n",
              "      <td>Higher education</td>\n",
              "      <td>Married</td>\n",
              "      <td>House / apartment</td>\n",
              "      <td>18964</td>\n",
              "      <td>8671</td>\n",
              "      <td>0</td>\n",
              "      <td>1</td>\n",
              "      <td>0</td>\n",
              "      <td>Core staff</td>\n",
              "      <td>2.0</td>\n",
              "      <td>36</td>\n",
              "    </tr>\n",
              "    <tr>\n",
              "      <th>26459</th>\n",
              "      <td>F</td>\n",
              "      <td>N</td>\n",
              "      <td>Y</td>\n",
              "      <td>0</td>\n",
              "      <td>69372.0</td>\n",
              "      <td>Working</td>\n",
              "      <td>Secondary / secondary special</td>\n",
              "      <td>Married</td>\n",
              "      <td>House / apartment</td>\n",
              "      <td>15887</td>\n",
              "      <td>217</td>\n",
              "      <td>1</td>\n",
              "      <td>1</td>\n",
              "      <td>0</td>\n",
              "      <td>Laborers</td>\n",
              "      <td>2.0</td>\n",
              "      <td>40</td>\n",
              "    </tr>\n",
              "    <tr>\n",
              "      <th>26460</th>\n",
              "      <td>M</td>\n",
              "      <td>Y</td>\n",
              "      <td>N</td>\n",
              "      <td>0</td>\n",
              "      <td>112500.0</td>\n",
              "      <td>Commercial associate</td>\n",
              "      <td>Secondary / secondary special</td>\n",
              "      <td>Married</td>\n",
              "      <td>House / apartment</td>\n",
              "      <td>19270</td>\n",
              "      <td>2531</td>\n",
              "      <td>1</td>\n",
              "      <td>0</td>\n",
              "      <td>0</td>\n",
              "      <td>Drivers</td>\n",
              "      <td>2.0</td>\n",
              "      <td>41</td>\n",
              "    </tr>\n",
              "    <tr>\n",
              "      <th>26461</th>\n",
              "      <td>F</td>\n",
              "      <td>Y</td>\n",
              "      <td>Y</td>\n",
              "      <td>0</td>\n",
              "      <td>225000.0</td>\n",
              "      <td>State servant</td>\n",
              "      <td>Higher education</td>\n",
              "      <td>Married</td>\n",
              "      <td>House / apartment</td>\n",
              "      <td>17822</td>\n",
              "      <td>9385</td>\n",
              "      <td>1</td>\n",
              "      <td>0</td>\n",
              "      <td>0</td>\n",
              "      <td>Managers</td>\n",
              "      <td>2.0</td>\n",
              "      <td>8</td>\n",
              "    </tr>\n",
              "  </tbody>\n",
              "</table>\n",
              "</div>"
            ],
            "text/plain": [
              "      gender car reality  child_num  income_total           income_type  \\\n",
              "index                                                                     \n",
              "26457      M   Y       N          0      112500.0             Pensioner   \n",
              "26458      F   N       Y          0      135000.0         State servant   \n",
              "26459      F   N       Y          0       69372.0               Working   \n",
              "26460      M   Y       N          0      112500.0  Commercial associate   \n",
              "26461      F   Y       Y          0      225000.0         State servant   \n",
              "\n",
              "                            edu_type     family_type         house_type  \\\n",
              "index                                                                     \n",
              "26457  Secondary / secondary special  Civil marriage  House / apartment   \n",
              "26458               Higher education         Married  House / apartment   \n",
              "26459  Secondary / secondary special         Married  House / apartment   \n",
              "26460  Secondary / secondary special         Married  House / apartment   \n",
              "26461               Higher education         Married  House / apartment   \n",
              "\n",
              "       days_birth  days_employed  work_phone  home_phone  email  occup_type  \\\n",
              "index                                                                         \n",
              "26457       21990              0           0           1      0      No job   \n",
              "26458       18964           8671           0           1      0  Core staff   \n",
              "26459       15887            217           1           1      0    Laborers   \n",
              "26460       19270           2531           1           0      0     Drivers   \n",
              "26461       17822           9385           1           0      0    Managers   \n",
              "\n",
              "       family_size  begin_month  \n",
              "index                            \n",
              "26457          2.0           60  \n",
              "26458          2.0           36  \n",
              "26459          2.0           40  \n",
              "26460          2.0           41  \n",
              "26461          2.0            8  "
            ]
          },
          "execution_count": 178,
          "metadata": {},
          "output_type": "execute_result"
        }
      ],
      "source": [
        "test.head()"
      ]
    },
    {
      "cell_type": "markdown",
      "metadata": {},
      "source": [
        "### Feature Engineering"
      ]
    },
    {
      "cell_type": "code",
      "execution_count": 179,
      "metadata": {},
      "outputs": [],
      "source": [
        "for x in [train, test]:\n",
        "    # Adding Age, birth month and birth week.\n",
        "    x['Age'] = x['days_birth'] // 365\n",
        "    x['birth_month'] = np.floor(x['days_birth'] / 30) - ((np.floor(x['days_birth'] / 30) / 12).astype(int) * 12)\n",
        "    x['birth_week'] = np.floor(x['days_birth'] / 7) - ((np.floor(x['days_birth'] / 7) / 4).astype(int) * 4)\n",
        "\n",
        "    # Same with days_birth but with days_employed.\n",
        "    x['ages_employed'] = x['days_employed'] // 365\n",
        "    x['employ_month'] = np.floor(x['days_employed'] / 30) - ((np.floor(x['days_employed'] / 30) / 12).astype(int) * 12)\n",
        "    x['employ_week'] = np.floor(x['days_employed'] / 7) - ((np.floor(x['days_employed'] / 7) / 4).astype(int) * 4)\n",
        "\n",
        "    # Actual income per family member.\n",
        "    x[\"income_family\"] = x[\"income_total\"] / x[\"family_size\"]\n",
        "\n",
        "    # Handling with multicollinearity\n",
        "    cols = ['child_num', 'days_birth', 'days_employed']\n",
        "    x.drop(cols, axis=1, inplace=True)"
      ]
    },
    {
      "cell_type": "code",
      "execution_count": 150,
      "metadata": {},
      "outputs": [
        {
          "data": {
            "text/plain": [
              "Index(['gender', 'car', 'reality', 'income_total', 'income_type', 'edu_type',\n",
              "       'family_type', 'house_type', 'work_phone', 'home_phone', 'email',\n",
              "       'occup_type', 'family_size', 'begin_month', 'credit', 'Age',\n",
              "       'birth_month', 'birth_week', 'ages_employed', 'employ_month',\n",
              "       'employ_week', 'income_family'],\n",
              "      dtype='object')"
            ]
          },
          "execution_count": 150,
          "metadata": {},
          "output_type": "execute_result"
        }
      ],
      "source": [
        "train.columns"
      ]
    },
    {
      "cell_type": "code",
      "execution_count": 151,
      "metadata": {},
      "outputs": [
        {
          "data": {
            "text/plain": [
              "Index(['gender', 'car', 'reality', 'income_total', 'income_type', 'edu_type',\n",
              "       'family_type', 'house_type', 'work_phone', 'home_phone', 'email',\n",
              "       'occup_type', 'family_size', 'begin_month', 'Age', 'birth_month',\n",
              "       'birth_week', 'ages_employed', 'employ_month', 'employ_week',\n",
              "       'income_family'],\n",
              "      dtype='object')"
            ]
          },
          "execution_count": 151,
          "metadata": {},
          "output_type": "execute_result"
        }
      ],
      "source": [
        "test.columns"
      ]
    },
    {
      "cell_type": "markdown",
      "metadata": {},
      "source": [
        "### Encoding"
      ]
    },
    {
      "cell_type": "code",
      "execution_count": 180,
      "metadata": {},
      "outputs": [],
      "source": [
        "# Separate numerical and categorical features\n",
        "num = train.dtypes[train.dtypes != \"object\"].index.tolist()\n",
        "num.remove('credit')\n",
        "\n",
        "cat = train.dtypes[train.dtypes == \"object\"].index.tolist()"
      ]
    },
    {
      "cell_type": "code",
      "execution_count": 153,
      "metadata": {},
      "outputs": [
        {
          "data": {
            "text/plain": [
              "['income_total',\n",
              " 'work_phone',\n",
              " 'home_phone',\n",
              " 'email',\n",
              " 'family_size',\n",
              " 'begin_month',\n",
              " 'Age',\n",
              " 'birth_month',\n",
              " 'birth_week',\n",
              " 'ages_employed',\n",
              " 'employ_month',\n",
              " 'employ_week',\n",
              " 'income_family']"
            ]
          },
          "execution_count": 153,
          "metadata": {},
          "output_type": "execute_result"
        }
      ],
      "source": [
        "num"
      ]
    },
    {
      "cell_type": "code",
      "execution_count": 154,
      "metadata": {},
      "outputs": [
        {
          "data": {
            "text/plain": [
              "['gender',\n",
              " 'car',\n",
              " 'reality',\n",
              " 'income_type',\n",
              " 'edu_type',\n",
              " 'family_type',\n",
              " 'house_type',\n",
              " 'occup_type']"
            ]
          },
          "execution_count": 154,
          "metadata": {},
          "output_type": "execute_result"
        }
      ],
      "source": [
        "cat"
      ]
    },
    {
      "cell_type": "code",
      "execution_count": 155,
      "metadata": {},
      "outputs": [
        {
          "data": {
            "text/html": [
              "<div>\n",
              "<style scoped>\n",
              "    .dataframe tbody tr th:only-of-type {\n",
              "        vertical-align: middle;\n",
              "    }\n",
              "\n",
              "    .dataframe tbody tr th {\n",
              "        vertical-align: top;\n",
              "    }\n",
              "\n",
              "    .dataframe thead th {\n",
              "        text-align: right;\n",
              "    }\n",
              "</style>\n",
              "<table border=\"1\" class=\"dataframe\">\n",
              "  <thead>\n",
              "    <tr style=\"text-align: right;\">\n",
              "      <th></th>\n",
              "      <th>gender</th>\n",
              "      <th>car</th>\n",
              "      <th>reality</th>\n",
              "      <th>income_total</th>\n",
              "      <th>income_type</th>\n",
              "      <th>edu_type</th>\n",
              "      <th>family_type</th>\n",
              "      <th>house_type</th>\n",
              "      <th>work_phone</th>\n",
              "      <th>home_phone</th>\n",
              "      <th>...</th>\n",
              "      <th>family_size</th>\n",
              "      <th>begin_month</th>\n",
              "      <th>credit</th>\n",
              "      <th>Age</th>\n",
              "      <th>birth_month</th>\n",
              "      <th>birth_week</th>\n",
              "      <th>ages_employed</th>\n",
              "      <th>employ_month</th>\n",
              "      <th>employ_week</th>\n",
              "      <th>income_family</th>\n",
              "    </tr>\n",
              "  </thead>\n",
              "  <tbody>\n",
              "    <tr>\n",
              "      <th>0</th>\n",
              "      <td>F</td>\n",
              "      <td>N</td>\n",
              "      <td>N</td>\n",
              "      <td>202500.0</td>\n",
              "      <td>Commercial associate</td>\n",
              "      <td>Higher education</td>\n",
              "      <td>Married</td>\n",
              "      <td>Municipal apartment</td>\n",
              "      <td>0</td>\n",
              "      <td>0</td>\n",
              "      <td>...</td>\n",
              "      <td>2.0</td>\n",
              "      <td>6</td>\n",
              "      <td>1.0</td>\n",
              "      <td>38</td>\n",
              "      <td>7.0</td>\n",
              "      <td>1.0</td>\n",
              "      <td>12</td>\n",
              "      <td>0.0</td>\n",
              "      <td>0.0</td>\n",
              "      <td>101250.0</td>\n",
              "    </tr>\n",
              "    <tr>\n",
              "      <th>1</th>\n",
              "      <td>F</td>\n",
              "      <td>N</td>\n",
              "      <td>Y</td>\n",
              "      <td>202500.0</td>\n",
              "      <td>Commercial associate</td>\n",
              "      <td>Secondary / secondary special</td>\n",
              "      <td>Married</td>\n",
              "      <td>House / apartment</td>\n",
              "      <td>0</td>\n",
              "      <td>1</td>\n",
              "      <td>...</td>\n",
              "      <td>2.0</td>\n",
              "      <td>37</td>\n",
              "      <td>0.0</td>\n",
              "      <td>41</td>\n",
              "      <td>10.0</td>\n",
              "      <td>3.0</td>\n",
              "      <td>5</td>\n",
              "      <td>9.0</td>\n",
              "      <td>2.0</td>\n",
              "      <td>101250.0</td>\n",
              "    </tr>\n",
              "    <tr>\n",
              "      <th>2</th>\n",
              "      <td>F</td>\n",
              "      <td>Y</td>\n",
              "      <td>Y</td>\n",
              "      <td>157500.0</td>\n",
              "      <td>State servant</td>\n",
              "      <td>Higher education</td>\n",
              "      <td>Married</td>\n",
              "      <td>House / apartment</td>\n",
              "      <td>0</td>\n",
              "      <td>0</td>\n",
              "      <td>...</td>\n",
              "      <td>2.0</td>\n",
              "      <td>26</td>\n",
              "      <td>2.0</td>\n",
              "      <td>41</td>\n",
              "      <td>9.0</td>\n",
              "      <td>0.0</td>\n",
              "      <td>5</td>\n",
              "      <td>10.0</td>\n",
              "      <td>0.0</td>\n",
              "      <td>78750.0</td>\n",
              "    </tr>\n",
              "    <tr>\n",
              "      <th>3</th>\n",
              "      <td>F</td>\n",
              "      <td>N</td>\n",
              "      <td>Y</td>\n",
              "      <td>270000.0</td>\n",
              "      <td>Working</td>\n",
              "      <td>Secondary / secondary special</td>\n",
              "      <td>Married</td>\n",
              "      <td>House / apartment</td>\n",
              "      <td>0</td>\n",
              "      <td>0</td>\n",
              "      <td>...</td>\n",
              "      <td>4.0</td>\n",
              "      <td>18</td>\n",
              "      <td>1.0</td>\n",
              "      <td>36</td>\n",
              "      <td>3.0</td>\n",
              "      <td>0.0</td>\n",
              "      <td>13</td>\n",
              "      <td>10.0</td>\n",
              "      <td>1.0</td>\n",
              "      <td>67500.0</td>\n",
              "    </tr>\n",
              "    <tr>\n",
              "      <th>4</th>\n",
              "      <td>F</td>\n",
              "      <td>N</td>\n",
              "      <td>N</td>\n",
              "      <td>315000.0</td>\n",
              "      <td>Working</td>\n",
              "      <td>Secondary / secondary special</td>\n",
              "      <td>Separated</td>\n",
              "      <td>House / apartment</td>\n",
              "      <td>0</td>\n",
              "      <td>0</td>\n",
              "      <td>...</td>\n",
              "      <td>1.0</td>\n",
              "      <td>41</td>\n",
              "      <td>2.0</td>\n",
              "      <td>48</td>\n",
              "      <td>9.0</td>\n",
              "      <td>2.0</td>\n",
              "      <td>5</td>\n",
              "      <td>5.0</td>\n",
              "      <td>2.0</td>\n",
              "      <td>315000.0</td>\n",
              "    </tr>\n",
              "  </tbody>\n",
              "</table>\n",
              "<p>5 rows × 22 columns</p>\n",
              "</div>"
            ],
            "text/plain": [
              "  gender car reality  income_total           income_type  \\\n",
              "0      F   N       N      202500.0  Commercial associate   \n",
              "1      F   N       Y      202500.0  Commercial associate   \n",
              "2      F   Y       Y      157500.0         State servant   \n",
              "3      F   N       Y      270000.0               Working   \n",
              "4      F   N       N      315000.0               Working   \n",
              "\n",
              "                        edu_type family_type           house_type  work_phone  \\\n",
              "0               Higher education     Married  Municipal apartment           0   \n",
              "1  Secondary / secondary special     Married    House / apartment           0   \n",
              "2               Higher education     Married    House / apartment           0   \n",
              "3  Secondary / secondary special     Married    House / apartment           0   \n",
              "4  Secondary / secondary special   Separated    House / apartment           0   \n",
              "\n",
              "   home_phone  ...  family_size begin_month  credit  Age  birth_month  \\\n",
              "0           0  ...          2.0           6     1.0   38          7.0   \n",
              "1           1  ...          2.0          37     0.0   41         10.0   \n",
              "2           0  ...          2.0          26     2.0   41          9.0   \n",
              "3           0  ...          4.0          18     1.0   36          3.0   \n",
              "4           0  ...          1.0          41     2.0   48          9.0   \n",
              "\n",
              "   birth_week  ages_employed  employ_month  employ_week  income_family  \n",
              "0         1.0             12           0.0          0.0       101250.0  \n",
              "1         3.0              5           9.0          2.0       101250.0  \n",
              "2         0.0              5          10.0          0.0        78750.0  \n",
              "3         0.0             13          10.0          1.0        67500.0  \n",
              "4         2.0              5           5.0          2.0       315000.0  \n",
              "\n",
              "[5 rows x 22 columns]"
            ]
          },
          "execution_count": 155,
          "metadata": {},
          "output_type": "execute_result"
        }
      ],
      "source": [
        "train.head()"
      ]
    },
    {
      "cell_type": "markdown",
      "metadata": {},
      "source": [
        "The result using OrdinalEncoding and LabelEncoding is exactly the same, there's no difference:"
      ]
    },
    {
      "cell_type": "code",
      "execution_count": 181,
      "metadata": {},
      "outputs": [],
      "source": [
        "# OrdinalEncoding\n",
        "oenc = OrdinalEncoder()\n",
        "train[cat] = oenc.fit_transform(train[cat], train['credit'])\n",
        "test[cat] = oenc.transform(test[cat])"
      ]
    },
    {
      "cell_type": "code",
      "execution_count": 139,
      "metadata": {
        "id": "_eHzQ0Kgrvuo"
      },
      "outputs": [],
      "source": [
        "# THIS CODE IS DEPRECATED AND SHOULD NOT BE USED ANYMORE\n",
        "\n",
        "# LabelEncoding\n",
        "for x in cat:\n",
        "  lenc = LabelEncoder()\n",
        "  lenc = lenc.fit(train[x])\n",
        "  train[x] = lenc.transform(train[x])\n",
        "  test[x] = lenc.transform(test[x])"
      ]
    },
    {
      "cell_type": "code",
      "execution_count": 182,
      "metadata": {},
      "outputs": [],
      "source": [
        "# StandardScaler\n",
        "scaler = StandardScaler()\n",
        "train[num] = scaler.fit_transform(train[num])\n",
        "test[num] = scaler.transform(test[num])"
      ]
    },
    {
      "cell_type": "markdown",
      "metadata": {
        "id": "X-ujXrBmu5I2"
      },
      "source": [
        "## **Model and train**"
      ]
    },
    {
      "cell_type": "code",
      "execution_count": 183,
      "metadata": {
        "id": "nCnFbE0uu4eb"
      },
      "outputs": [],
      "source": [
        "def stratified_kfold_rf(p, n_fold, X, y, X_test):\n",
        "    # Declaring Stratified K-Fold:\n",
        "    folds = StratifiedKFold(n_splits=n_fold, shuffle=True, random_state=42)\n",
        "    splits = folds.split(X, y)\n",
        "    \n",
        "    # Initializing arrays:\n",
        "    rf_oof = np.zeros((X.shape[0], 3))\n",
        "    rf_preds = np.zeros((X_test.shape[0], 3))\n",
        "\n",
        "    # Main loop:\n",
        "    for fold, (train_idx, valid_idx) in enumerate(splits):\n",
        "        print(f\"============ Fold {fold} ============\")\n",
        "        \n",
        "        X_train, X_valid = X.iloc[train_idx], X.iloc[valid_idx]\n",
        "        y_train, y_valid = y.iloc[train_idx], y.iloc[valid_idx]\n",
        "        \n",
        "        # Model fit:\n",
        "        model = RandomForestClassifier(**p)\n",
        "        model.fit(X_train, y_train)\n",
        "\n",
        "        rf_oof[valid_idx] = model.predict_proba(X_valid) # Infers the class probability of train dataset\n",
        "        rf_preds += model.predict_proba(X_test) / n_fold # Infers the class probability of test dataset\n",
        "        print(f\"Log Loss Score: {log_loss(y_valid, rf_oof[valid_idx]):.5f}\")\n",
        "\n",
        "    log_score = log_loss(y, rf_oof)\n",
        "    print(f\"\\nLog Loss Score: {log_score:.5f}\")\n",
        "\n",
        "    return rf_oof, rf_preds"
      ]
    },
    {
      "cell_type": "code",
      "execution_count": 184,
      "metadata": {
        "id": "dKtewjUpwJ9F"
      },
      "outputs": [],
      "source": [
        "p = {\n",
        "  \"criterion\": \"entropy\",\n",
        "  \"n_estimators\": 300,\n",
        "  \"min_samples_split\": 10,\n",
        "  \"min_samples_leaf\": 2,\n",
        "  \"max_features\": \"sqrt\",\n",
        "  \"oob_score\": True,\n",
        "  \"random_state\": 42,\n",
        "  \"n_jobs\": -1,\n",
        "  }"
      ]
    },
    {
      "cell_type": "code",
      "execution_count": 185,
      "metadata": {
        "id": "IDnpC5-Twycy"
      },
      "outputs": [],
      "source": [
        "X = train.drop(\"credit\", axis=1)\n",
        "y = train[\"credit\"]\n",
        "X_test = test.copy()"
      ]
    },
    {
      "cell_type": "code",
      "execution_count": 186,
      "metadata": {
        "colab": {
          "base_uri": "https://localhost:8080/"
        },
        "id": "_wRTzXDxxMAg",
        "outputId": "e2c3d474-5e46-4634-8d41-8f9e867ddc2d"
      },
      "outputs": [
        {
          "name": "stdout",
          "output_type": "stream",
          "text": [
            "============ Fold 0 ============\n",
            "Log Loss Score: 0.69228\n",
            "============ Fold 1 ============\n",
            "Log Loss Score: 0.69004\n",
            "============ Fold 2 ============\n",
            "Log Loss Score: 0.67080\n",
            "============ Fold 3 ============\n",
            "Log Loss Score: 0.67265\n",
            "============ Fold 4 ============\n",
            "Log Loss Score: 0.69034\n",
            "============ Fold 5 ============\n",
            "Log Loss Score: 0.67926\n",
            "============ Fold 6 ============\n",
            "Log Loss Score: 0.70519\n",
            "============ Fold 7 ============\n",
            "Log Loss Score: 0.68649\n",
            "============ Fold 8 ============\n",
            "Log Loss Score: 0.68658\n",
            "============ Fold 9 ============\n",
            "Log Loss Score: 0.69597\n",
            "\n",
            "Log Loss Score: 0.68696\n"
          ]
        }
      ],
      "source": [
        "rf_oof, rf_preds = stratified_kfold_rf(p, 10, X, y, X_test)"
      ]
    },
    {
      "cell_type": "code",
      "execution_count": 187,
      "metadata": {
        "colab": {
          "base_uri": "https://localhost:8080/"
        },
        "id": "NMjvOp1YzTo4",
        "outputId": "45e9ae79-e7a6-49ca-fbf5-e50f15edd45a"
      },
      "outputs": [
        {
          "data": {
            "text/plain": [
              "(10000, 3)"
            ]
          },
          "execution_count": 187,
          "metadata": {},
          "output_type": "execute_result"
        }
      ],
      "source": [
        "rf_preds.shape"
      ]
    },
    {
      "cell_type": "code",
      "execution_count": 188,
      "metadata": {
        "colab": {
          "base_uri": "https://localhost:8080/"
        },
        "id": "9k_NP8ht7Y8v",
        "outputId": "c728788e-2fda-4021-d4c7-233039f45d4b"
      },
      "outputs": [
        {
          "data": {
            "text/plain": [
              "(23392, 3)"
            ]
          },
          "execution_count": 188,
          "metadata": {},
          "output_type": "execute_result"
        }
      ],
      "source": [
        "rf_oof.shape"
      ]
    },
    {
      "cell_type": "markdown",
      "metadata": {
        "id": "2SKtlMYK05ny"
      },
      "source": [
        "## **Save results**"
      ]
    },
    {
      "cell_type": "code",
      "execution_count": 189,
      "metadata": {
        "id": "goaoEjPE05Uv"
      },
      "outputs": [
        {
          "data": {
            "text/html": [
              "<div>\n",
              "<style scoped>\n",
              "    .dataframe tbody tr th:only-of-type {\n",
              "        vertical-align: middle;\n",
              "    }\n",
              "\n",
              "    .dataframe tbody tr th {\n",
              "        vertical-align: top;\n",
              "    }\n",
              "\n",
              "    .dataframe thead th {\n",
              "        text-align: right;\n",
              "    }\n",
              "</style>\n",
              "<table border=\"1\" class=\"dataframe\">\n",
              "  <thead>\n",
              "    <tr style=\"text-align: right;\">\n",
              "      <th></th>\n",
              "      <th>0</th>\n",
              "      <th>1</th>\n",
              "      <th>2</th>\n",
              "    </tr>\n",
              "    <tr>\n",
              "      <th>index</th>\n",
              "      <th></th>\n",
              "      <th></th>\n",
              "      <th></th>\n",
              "    </tr>\n",
              "  </thead>\n",
              "  <tbody>\n",
              "    <tr>\n",
              "      <th>26457</th>\n",
              "      <td>0.095201</td>\n",
              "      <td>0.193054</td>\n",
              "      <td>0.711744</td>\n",
              "    </tr>\n",
              "    <tr>\n",
              "      <th>26458</th>\n",
              "      <td>0.291735</td>\n",
              "      <td>0.244377</td>\n",
              "      <td>0.463888</td>\n",
              "    </tr>\n",
              "    <tr>\n",
              "      <th>26459</th>\n",
              "      <td>0.048889</td>\n",
              "      <td>0.093058</td>\n",
              "      <td>0.858053</td>\n",
              "    </tr>\n",
              "    <tr>\n",
              "      <th>26460</th>\n",
              "      <td>0.087341</td>\n",
              "      <td>0.088834</td>\n",
              "      <td>0.823825</td>\n",
              "    </tr>\n",
              "    <tr>\n",
              "      <th>26461</th>\n",
              "      <td>0.113591</td>\n",
              "      <td>0.170563</td>\n",
              "      <td>0.715846</td>\n",
              "    </tr>\n",
              "  </tbody>\n",
              "</table>\n",
              "</div>"
            ],
            "text/plain": [
              "              0         1         2\n",
              "index                              \n",
              "26457  0.095201  0.193054  0.711744\n",
              "26458  0.291735  0.244377  0.463888\n",
              "26459  0.048889  0.093058  0.858053\n",
              "26460  0.087341  0.088834  0.823825\n",
              "26461  0.113591  0.170563  0.715846"
            ]
          },
          "execution_count": 189,
          "metadata": {},
          "output_type": "execute_result"
        }
      ],
      "source": [
        "submission = pd.read_csv(\"../data/sample_submission.csv\")\n",
        "submission.set_index(\"index\", inplace=True)\n",
        "submission[:] = rf_preds\n",
        "submission.head()"
      ]
    }
  ],
  "metadata": {
    "colab": {
      "provenance": []
    },
    "kernelspec": {
      "display_name": "Python 3.10.8 64-bit (microsoft store)",
      "language": "python",
      "name": "python3"
    },
    "language_info": {
      "codemirror_mode": {
        "name": "ipython",
        "version": 3
      },
      "file_extension": ".py",
      "mimetype": "text/x-python",
      "name": "python",
      "nbconvert_exporter": "python",
      "pygments_lexer": "ipython3",
      "version": "3.10.8"
    },
    "vscode": {
      "interpreter": {
        "hash": "2df53de82fe139b23b9a340061c8527273b7fa86551030a1983ff618b17018eb"
      }
    }
  },
  "nbformat": 4,
  "nbformat_minor": 0
}
