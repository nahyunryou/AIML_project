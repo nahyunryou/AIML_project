{
 "cells": [
  {
   "cell_type": "markdown",
   "id": "3bb0d1f7-fdb4-48b6-9fcd-f7d9f579c99a",
   "metadata": {
    "id": "3bb0d1f7-fdb4-48b6-9fcd-f7d9f579c99a"
   },
   "source": [
    "# Stacking Ensemble"
   ]
  },
  {
   "cell_type": "markdown",
   "id": "6e728b35-a6dd-4327-9715-8bfa8f5c5996",
   "metadata": {
    "id": "6e728b35-a6dd-4327-9715-8bfa8f5c5996"
   },
   "source": [
    "## Data"
   ]
  },
  {
   "cell_type": "code",
   "execution_count": 46,
   "id": "f83ce26c-3dfd-40e2-be26-4c8779413f21",
   "metadata": {
    "id": "f83ce26c-3dfd-40e2-be26-4c8779413f21"
   },
   "outputs": [],
   "source": [
    "from typing import Dict, Tuple, Union, List\n",
    "from tqdm import tqdm\n",
    "import pandas as pd\n",
    "import numpy as np\n",
    "from tqdm import tqdm\n",
    "import matplotlib.pyplot as plt\n",
    "import seaborn as sns\n",
    "import os, glob, warnings\n",
    "from itertools import combinations\n",
    "from sklearn.preprocessing import OneHotEncoder\n",
    "from sklearn.model_selection import StratifiedKFold\n",
    "from sklearn.metrics import log_loss, accuracy_score\n",
    "from sklearn.preprocessing import StandardScaler\n",
    "from sklearn.model_selection import cross_val_score\n",
    "from sklearn.ensemble import RandomForestClassifier\n",
    "from lightgbm import LGBMClassifier\n",
    "from sklearn.svm import SVC\n",
    "from catboost import CatBoostClassifier\n",
    "from sklearn.ensemble import StackingClassifier\n",
    "import lightgbm as lgb\n",
    "from sklearn.model_selection import RepeatedStratifiedKFold\n",
    "import optuna\n",
    "import sklearn\n",
    "warnings.filterwarnings('ignore')"
   ]
  },
  {
   "cell_type": "code",
   "execution_count": 2,
   "id": "5996df80-8d54-4e82-bc40-61b2199a8304",
   "metadata": {
    "colab": {
     "base_uri": "https://localhost:8080/",
     "height": 461
    },
    "id": "5996df80-8d54-4e82-bc40-61b2199a8304",
    "outputId": "81cc301b-319b-4fb1-9441-a188fbf4a81c"
   },
   "outputs": [
    {
     "data": {
      "text/html": [
       "<div>\n",
       "<style scoped>\n",
       "    .dataframe tbody tr th:only-of-type {\n",
       "        vertical-align: middle;\n",
       "    }\n",
       "\n",
       "    .dataframe tbody tr th {\n",
       "        vertical-align: top;\n",
       "    }\n",
       "\n",
       "    .dataframe thead th {\n",
       "        text-align: right;\n",
       "    }\n",
       "</style>\n",
       "<table border=\"1\" class=\"dataframe\">\n",
       "  <thead>\n",
       "    <tr style=\"text-align: right;\">\n",
       "      <th></th>\n",
       "      <th>Unnamed: 0</th>\n",
       "      <th>gender</th>\n",
       "      <th>car</th>\n",
       "      <th>reality</th>\n",
       "      <th>child_num</th>\n",
       "      <th>income_total</th>\n",
       "      <th>income_type</th>\n",
       "      <th>edu_type</th>\n",
       "      <th>family_type</th>\n",
       "      <th>house_type</th>\n",
       "      <th>days_birth</th>\n",
       "      <th>days_employed</th>\n",
       "      <th>work_phone</th>\n",
       "      <th>home_phone</th>\n",
       "      <th>email</th>\n",
       "      <th>occup_type</th>\n",
       "      <th>family_size</th>\n",
       "      <th>begin_month</th>\n",
       "      <th>credit</th>\n",
       "      <th>CODE</th>\n",
       "    </tr>\n",
       "  </thead>\n",
       "  <tbody>\n",
       "    <tr>\n",
       "      <th>0</th>\n",
       "      <td>0</td>\n",
       "      <td>F</td>\n",
       "      <td>N</td>\n",
       "      <td>N</td>\n",
       "      <td>0</td>\n",
       "      <td>202500.0</td>\n",
       "      <td>Commercial associate</td>\n",
       "      <td>Higher education</td>\n",
       "      <td>Married</td>\n",
       "      <td>Municipal apartment</td>\n",
       "      <td>13899</td>\n",
       "      <td>4709</td>\n",
       "      <td>0</td>\n",
       "      <td>0</td>\n",
       "      <td>0</td>\n",
       "      <td>No job</td>\n",
       "      <td>2.0</td>\n",
       "      <td>6</td>\n",
       "      <td>1.0</td>\n",
       "      <td>F-13899202500.0Commercial associate</td>\n",
       "    </tr>\n",
       "    <tr>\n",
       "      <th>1</th>\n",
       "      <td>1</td>\n",
       "      <td>F</td>\n",
       "      <td>N</td>\n",
       "      <td>Y</td>\n",
       "      <td>1</td>\n",
       "      <td>247500.0</td>\n",
       "      <td>Commercial associate</td>\n",
       "      <td>Secondary / secondary special</td>\n",
       "      <td>Civil marriage</td>\n",
       "      <td>House / apartment</td>\n",
       "      <td>11380</td>\n",
       "      <td>1540</td>\n",
       "      <td>0</td>\n",
       "      <td>0</td>\n",
       "      <td>1</td>\n",
       "      <td>Laborers</td>\n",
       "      <td>3.0</td>\n",
       "      <td>5</td>\n",
       "      <td>1.0</td>\n",
       "      <td>F-11380247500.0Commercial associate</td>\n",
       "    </tr>\n",
       "    <tr>\n",
       "      <th>2</th>\n",
       "      <td>2</td>\n",
       "      <td>M</td>\n",
       "      <td>Y</td>\n",
       "      <td>Y</td>\n",
       "      <td>0</td>\n",
       "      <td>450000.0</td>\n",
       "      <td>Working</td>\n",
       "      <td>Higher education</td>\n",
       "      <td>Married</td>\n",
       "      <td>House / apartment</td>\n",
       "      <td>19087</td>\n",
       "      <td>4434</td>\n",
       "      <td>0</td>\n",
       "      <td>1</td>\n",
       "      <td>0</td>\n",
       "      <td>Managers</td>\n",
       "      <td>2.0</td>\n",
       "      <td>22</td>\n",
       "      <td>2.0</td>\n",
       "      <td>M-19087450000.0Working</td>\n",
       "    </tr>\n",
       "    <tr>\n",
       "      <th>3</th>\n",
       "      <td>3</td>\n",
       "      <td>F</td>\n",
       "      <td>N</td>\n",
       "      <td>Y</td>\n",
       "      <td>0</td>\n",
       "      <td>202500.0</td>\n",
       "      <td>Commercial associate</td>\n",
       "      <td>Secondary / secondary special</td>\n",
       "      <td>Married</td>\n",
       "      <td>House / apartment</td>\n",
       "      <td>15088</td>\n",
       "      <td>2092</td>\n",
       "      <td>0</td>\n",
       "      <td>1</td>\n",
       "      <td>0</td>\n",
       "      <td>Sales staff</td>\n",
       "      <td>2.0</td>\n",
       "      <td>37</td>\n",
       "      <td>0.0</td>\n",
       "      <td>F-15088202500.0Commercial associate</td>\n",
       "    </tr>\n",
       "    <tr>\n",
       "      <th>4</th>\n",
       "      <td>4</td>\n",
       "      <td>F</td>\n",
       "      <td>Y</td>\n",
       "      <td>Y</td>\n",
       "      <td>0</td>\n",
       "      <td>157500.0</td>\n",
       "      <td>State servant</td>\n",
       "      <td>Higher education</td>\n",
       "      <td>Married</td>\n",
       "      <td>House / apartment</td>\n",
       "      <td>15037</td>\n",
       "      <td>2105</td>\n",
       "      <td>0</td>\n",
       "      <td>0</td>\n",
       "      <td>0</td>\n",
       "      <td>Managers</td>\n",
       "      <td>2.0</td>\n",
       "      <td>26</td>\n",
       "      <td>2.0</td>\n",
       "      <td>F-15037157500.0State servant</td>\n",
       "    </tr>\n",
       "  </tbody>\n",
       "</table>\n",
       "</div>"
      ],
      "text/plain": [
       "   Unnamed: 0 gender car reality  child_num  income_total  \\\n",
       "0           0      F   N       N          0      202500.0   \n",
       "1           1      F   N       Y          1      247500.0   \n",
       "2           2      M   Y       Y          0      450000.0   \n",
       "3           3      F   N       Y          0      202500.0   \n",
       "4           4      F   Y       Y          0      157500.0   \n",
       "\n",
       "            income_type                       edu_type     family_type  \\\n",
       "0  Commercial associate               Higher education         Married   \n",
       "1  Commercial associate  Secondary / secondary special  Civil marriage   \n",
       "2               Working               Higher education         Married   \n",
       "3  Commercial associate  Secondary / secondary special         Married   \n",
       "4         State servant               Higher education         Married   \n",
       "\n",
       "            house_type  days_birth  days_employed  work_phone  home_phone  \\\n",
       "0  Municipal apartment       13899           4709           0           0   \n",
       "1    House / apartment       11380           1540           0           0   \n",
       "2    House / apartment       19087           4434           0           1   \n",
       "3    House / apartment       15088           2092           0           1   \n",
       "4    House / apartment       15037           2105           0           0   \n",
       "\n",
       "   email   occup_type  family_size  begin_month  credit  \\\n",
       "0      0       No job          2.0            6     1.0   \n",
       "1      1     Laborers          3.0            5     1.0   \n",
       "2      0     Managers          2.0           22     2.0   \n",
       "3      0  Sales staff          2.0           37     0.0   \n",
       "4      0     Managers          2.0           26     2.0   \n",
       "\n",
       "                                  CODE  \n",
       "0  F-13899202500.0Commercial associate  \n",
       "1  F-11380247500.0Commercial associate  \n",
       "2               M-19087450000.0Working  \n",
       "3  F-15088202500.0Commercial associate  \n",
       "4         F-15037157500.0State servant  "
      ]
     },
     "execution_count": 2,
     "metadata": {},
     "output_type": "execute_result"
    }
   ],
   "source": [
    "train_df=pd.read_csv(\"../data/cleaned_train.csv\")\n",
    "test_df=pd.read_csv(\"../data/cleaned_test.csv\")\n",
    "\n",
    "train_df.head()"
   ]
  },
  {
   "cell_type": "markdown",
   "id": "3153ab41-bd52-4f6b-b942-bddacc461c0b",
   "metadata": {
    "id": "3153ab41-bd52-4f6b-b942-bddacc461c0b"
   },
   "source": [
    "## Preprocessing"
   ]
  },
  {
   "cell_type": "markdown",
   "id": "c6beb9b5-1f99-43e7-95da-b1aa2e3f4984",
   "metadata": {
    "id": "c6beb9b5-1f99-43e7-95da-b1aa2e3f4984"
   },
   "source": [
    "### Numerical Data: Scaling"
   ]
  },
  {
   "cell_type": "code",
   "execution_count": 7,
   "id": "d9ecd7f4-7d09-4121-9beb-6a6113cc3a1e",
   "metadata": {
    "id": "d9ecd7f4-7d09-4121-9beb-6a6113cc3a1e"
   },
   "outputs": [],
   "source": [
    "def num_data_scale(train_df, test_df, scaling_cols=None):\n",
    "    \n",
    "    scaling_cols = ['child_num','income_total','days_birth','days_employed','family_size','begin_month']\n",
    "\n",
    "    std_scaler = StandardScaler()\n",
    "    std_scaler.fit(train_df[scaling_cols])\n",
    "\n",
    "    train_scaled = std_scaler.transform(train_df[scaling_cols])\n",
    "    test_scaled = std_scaler.transform(test_df[scaling_cols]) # Apply to the test set using the scaler that was fitted with train data!!\n",
    "\n",
    "    train_scaled = pd.DataFrame(train_scaled, columns=scaling_cols)\n",
    "    test_scaled = pd.DataFrame(test_scaled, columns=scaling_cols)\n",
    "\n",
    "    train_scaled.shape, test_scaled.shape\n",
    "    \n",
    "    return train_scaled, test_scaled"
   ]
  },
  {
   "cell_type": "code",
   "execution_count": 8,
   "id": "a40509c9-b9a2-483e-b7de-2a42a47f0a99",
   "metadata": {
    "id": "a40509c9-b9a2-483e-b7de-2a42a47f0a99"
   },
   "outputs": [],
   "source": [
    "train_scaled, test_scaled = num_data_scale(train_df, test_df)"
   ]
  },
  {
   "cell_type": "markdown",
   "id": "5d7082e6-5b3b-47b5-836e-1fab433a3caa",
   "metadata": {
    "id": "5d7082e6-5b3b-47b5-836e-1fab433a3caa"
   },
   "source": [
    "### Categorical Data: One-hot Encoding"
   ]
  },
  {
   "cell_type": "code",
   "execution_count": 9,
   "id": "839b3a86-98c0-4fde-96c4-0e8603bb7028",
   "metadata": {},
   "outputs": [],
   "source": [
    "def cat_data_encode(train_df, test_df, onehot_cols=None):\n",
    "    \n",
    "    onehot_cols = ['gender','car','reality','income_type','edu_type','family_type','house_type','occup_type','work_phone','home_phone','email']\n",
    "    data = pd.concat([train_df[onehot_cols], test_df[onehot_cols]]) # One-hot encoding using the combination of train and test data\n",
    "    data = pd.get_dummies(data)\n",
    "\n",
    "    # data separation\n",
    "    data = data.reset_index(drop=True)\n",
    "    train_encoded = data.loc[:train_df.shape[0]-1]\n",
    "    test_encoded = data.loc[train_df.shape[0]:]\n",
    "    test_encoded = test_encoded.reset_index(drop=True)\n",
    "    \n",
    "    train_encoded.shape, test_encoded.shape\n",
    "    \n",
    "    return train_encoded, test_encoded"
   ]
  },
  {
   "cell_type": "code",
   "execution_count": 10,
   "id": "9a1847ab-25d3-4e8c-b7c2-2011147cf713",
   "metadata": {},
   "outputs": [],
   "source": [
    "train_encoded, test_encoded = cat_data_encode(train_df, test_df)"
   ]
  },
  {
   "cell_type": "markdown",
   "id": "31be44a5-9009-426b-85e3-794722ec960b",
   "metadata": {
    "id": "31be44a5-9009-426b-85e3-794722ec960b"
   },
   "source": [
    "### Merge scaled numerical data with categorical data"
   ]
  },
  {
   "cell_type": "code",
   "execution_count": 11,
   "id": "69f1fb29-0810-4ac7-b4d9-343a68ac191b",
   "metadata": {
    "id": "69f1fb29-0810-4ac7-b4d9-343a68ac191b"
   },
   "outputs": [],
   "source": [
    "def merge_scaled_encoded(train_scaled, test_scaled, train_encoded, test_encoded):\n",
    "    \n",
    "    Train = pd.concat([train_scaled,train_encoded],axis=1)\n",
    "    Train = pd.concat([Train,train_df['credit']],axis=1)\n",
    "\n",
    "    Test = pd.concat([test_scaled,test_encoded],axis=1)\n",
    "\n",
    "    Train.shape, Test.shape\n",
    "    \n",
    "    return Train, Test"
   ]
  },
  {
   "cell_type": "code",
   "execution_count": 12,
   "id": "0e80a91d-a145-46f8-810d-3c027739f6b5",
   "metadata": {
    "id": "0e80a91d-a145-46f8-810d-3c027739f6b5"
   },
   "outputs": [],
   "source": [
    "Train, Test = merge_scaled_encoded(train_scaled, test_scaled, train_encoded, test_encoded)"
   ]
  },
  {
   "cell_type": "markdown",
   "id": "570651c1-6d02-483e-952c-90fabd5a5f7a",
   "metadata": {
    "id": "570651c1-6d02-483e-952c-90fabd5a5f7a"
   },
   "source": [
    "## Split Training and Validation set"
   ]
  },
  {
   "cell_type": "code",
   "execution_count": 13,
   "id": "c4783507-8f94-4764-b221-a80c55f126cd",
   "metadata": {
    "id": "c4783507-8f94-4764-b221-a80c55f126cd"
   },
   "outputs": [],
   "source": [
    "x = Train.drop(['credit'], axis=1)\n",
    "y = Train['credit']"
   ]
  },
  {
   "cell_type": "code",
   "execution_count": 14,
   "id": "0e017752-d0fd-452f-9e97-cb36a49f5117",
   "metadata": {
    "id": "0e017752-d0fd-452f-9e97-cb36a49f5117"
   },
   "outputs": [],
   "source": [
    "from sklearn.model_selection import train_test_split\n",
    "train_x, valid_x, train_y, valid_y = train_test_split(x, y, test_size=0.25)"
   ]
  },
  {
   "cell_type": "markdown",
   "id": "79bb01c1-70b9-4f72-8a16-26c4e60c03b6",
   "metadata": {
    "id": "79bb01c1-70b9-4f72-8a16-26c4e60c03b6"
   },
   "source": [
    "## Model Train\n"
   ]
  },
  {
   "cell_type": "markdown",
   "id": "023b752b-666e-4927-913a-bbdaca1e23aa",
   "metadata": {
    "id": "023b752b-666e-4927-913a-bbdaca1e23aa"
   },
   "source": [
    "### CatBoost"
   ]
  },
  {
   "cell_type": "code",
   "execution_count": 17,
   "id": "TWuEHHQIPdZ4",
   "metadata": {
    "colab": {
     "base_uri": "https://localhost:8080/"
    },
    "id": "TWuEHHQIPdZ4",
    "outputId": "0eea2efb-c8c5-4218-91c7-b82e221e29b6"
   },
   "outputs": [
    {
     "name": "stderr",
     "output_type": "stream",
     "text": [
      "\u001b[32m[I 2022-12-15 18:14:58,162]\u001b[0m A new study created in memory with name: no-name-dc85c19a-eb72-467b-869c-2bbdbb4738d9\u001b[0m\n"
     ]
    },
    {
     "name": "stdout",
     "output_type": "stream",
     "text": [
      "0:\tlearn: 1.0672086\ttest: 1.0672086\ttest1: 1.0662014\tbest: 1.0662014 (0)\ttotal: 67.8ms\tremaining: 11m 1s\n",
      "100:\tlearn: 0.7375954\ttest: 0.7375954\ttest1: 0.8115862\tbest: 0.8115820 (99)\ttotal: 19.5s\tremaining: 31m 6s\n",
      "200:\tlearn: 0.5115608\ttest: 0.5115608\ttest1: 0.7667450\tbest: 0.7667450 (200)\ttotal: 54.3s\tremaining: 43m 5s\n"
     ]
    },
    {
     "name": "stderr",
     "output_type": "stream",
     "text": [
      "\u001b[32m[I 2022-12-15 18:16:14,006]\u001b[0m Trial 0 finished with value: 0.7665590837045069 and parameters: {'learning_rate': 0.07498459696609935, 'bagging_temperature': 1.0141741449885584, 'n_estimators': 9766, 'max_depth': 14, 'random_strength': 98, 'colsample_bylevel': 0.45146408420149864, 'l2_leaf_reg': 0.0013874349852284987, 'min_child_samples': 86, 'max_bin': 271, 'od_type': 'Iter'}. Best is trial 0 with value: 0.7665590837045069.\u001b[0m\n"
     ]
    },
    {
     "name": "stdout",
     "output_type": "stream",
     "text": [
      "Stopped by overfitting detector  (35 iterations wait)\n",
      "\n",
      "bestTest = 0.7665590837\n",
      "bestIteration = 201\n",
      "\n",
      "Shrink model to first 202 iterations.\n",
      "0:\tlearn: 1.0706522\ttest: 1.0706522\ttest1: 1.0702351\tbest: 1.0702351 (0)\ttotal: 18.1ms\tremaining: 34.8s\n",
      "100:\tlearn: 0.7990077\ttest: 0.7990077\ttest1: 0.8171776\tbest: 0.8171776 (100)\ttotal: 1.45s\tremaining: 26.2s\n",
      "200:\tlearn: 0.7454025\ttest: 0.7454025\ttest1: 0.7912791\tbest: 0.7912791 (200)\ttotal: 2.83s\tremaining: 24.3s\n",
      "300:\tlearn: 0.6503473\ttest: 0.6503473\ttest1: 0.7662786\tbest: 0.7662786 (300)\ttotal: 4.62s\tremaining: 24.9s\n",
      "400:\tlearn: 0.5722687\ttest: 0.5722687\ttest1: 0.7572788\tbest: 0.7572107 (399)\ttotal: 6.47s\tremaining: 24.6s\n"
     ]
    },
    {
     "name": "stderr",
     "output_type": "stream",
     "text": [
      "\u001b[32m[I 2022-12-15 18:16:22,141]\u001b[0m Trial 1 finished with value: 0.7551179672659409 and parameters: {'learning_rate': 0.06308556583612851, 'bagging_temperature': 0.01655546331831464, 'n_estimators': 1923, 'max_depth': 9, 'random_strength': 65, 'colsample_bylevel': 0.5510295128259061, 'l2_leaf_reg': 0.0016472289045823443, 'min_child_samples': 80, 'max_bin': 360, 'od_type': 'IncToDec'}. Best is trial 1 with value: 0.7551179672659409.\u001b[0m\n"
     ]
    },
    {
     "name": "stdout",
     "output_type": "stream",
     "text": [
      "Stopped by overfitting detector  (35 iterations wait)\n",
      "\n",
      "bestTest = 0.7551179673\n",
      "bestIteration = 448\n",
      "\n",
      "Shrink model to first 449 iterations.\n",
      "0:\tlearn: 0.9817978\ttest: 0.9817978\ttest1: 0.9782965\tbest: 0.9782965 (0)\ttotal: 8.15ms\tremaining: 12.5s\n",
      "100:\tlearn: 0.6636840\ttest: 0.6636840\ttest1: 0.7962251\tbest: 0.7952509 (90)\ttotal: 812ms\tremaining: 11.5s\n"
     ]
    },
    {
     "name": "stderr",
     "output_type": "stream",
     "text": [
      "\u001b[32m[I 2022-12-15 18:16:23,403]\u001b[0m Trial 2 finished with value: 0.7947247055500212 and parameters: {'learning_rate': 0.2602335786049685, 'bagging_temperature': 11.557558072606138, 'n_estimators': 1536, 'max_depth': 7, 'random_strength': 8, 'colsample_bylevel': 0.8648488925091118, 'l2_leaf_reg': 0.0006991590295044917, 'min_child_samples': 62, 'max_bin': 298, 'od_type': 'IncToDec'}. Best is trial 1 with value: 0.7551179672659409.\u001b[0m\n"
     ]
    },
    {
     "name": "stdout",
     "output_type": "stream",
     "text": [
      "Stopped by overfitting detector  (35 iterations wait)\n",
      "\n",
      "bestTest = 0.7947247056\n",
      "bestIteration = 113\n",
      "\n",
      "Shrink model to first 114 iterations.\n",
      "0:\tlearn: 1.0748744\ttest: 1.0748744\ttest1: 1.0742167\tbest: 1.0742167 (0)\ttotal: 33.6ms\tremaining: 4m 6s\n",
      "100:\tlearn: 0.7400227\ttest: 0.7400227\ttest1: 0.7857190\tbest: 0.7857190 (100)\ttotal: 4.68s\tremaining: 5m 36s\n",
      "200:\tlearn: 0.6524437\ttest: 0.6524437\ttest1: 0.7650401\tbest: 0.7650401 (200)\ttotal: 10.2s\tremaining: 6m 2s\n",
      "300:\tlearn: 0.5639483\ttest: 0.5639483\ttest1: 0.7556993\tbest: 0.7555858 (299)\ttotal: 16.2s\tremaining: 6m 20s\n"
     ]
    },
    {
     "name": "stderr",
     "output_type": "stream",
     "text": [
      "\u001b[32m[I 2022-12-15 18:16:43,324]\u001b[0m Trial 3 finished with value: 0.7549759143950338 and parameters: {'learning_rate': 0.042795888636142115, 'bagging_temperature': 0.012516199463848217, 'n_estimators': 7350, 'max_depth': 11, 'random_strength': 4, 'colsample_bylevel': 0.8924853307078848, 'l2_leaf_reg': 0.0006480235409587292, 'min_child_samples': 10, 'max_bin': 280, 'od_type': 'IncToDec'}. Best is trial 3 with value: 0.7549759143950338.\u001b[0m\n"
     ]
    },
    {
     "name": "stdout",
     "output_type": "stream",
     "text": [
      "Stopped by overfitting detector  (35 iterations wait)\n",
      "\n",
      "bestTest = 0.7549759144\n",
      "bestIteration = 318\n",
      "\n",
      "Shrink model to first 319 iterations.\n",
      "0:\tlearn: 1.0895262\ttest: 1.0895262\ttest1: 1.0893745\tbest: 1.0893745 (0)\ttotal: 7.77ms\tremaining: 42.2s\n",
      "100:\tlearn: 0.8073430\ttest: 0.8073430\ttest1: 0.8176143\tbest: 0.8176143 (100)\ttotal: 4.53s\tremaining: 3m 59s\n",
      "200:\tlearn: 0.7466176\ttest: 0.7466176\ttest1: 0.7878772\tbest: 0.7878772 (200)\ttotal: 9.37s\tremaining: 4m 3s\n",
      "300:\tlearn: 0.7020431\ttest: 0.7020431\ttest1: 0.7755873\tbest: 0.7755873 (300)\ttotal: 14.2s\tremaining: 4m 1s\n",
      "400:\tlearn: 0.6666198\ttest: 0.6666198\ttest1: 0.7676396\tbest: 0.7676396 (400)\ttotal: 19.2s\tremaining: 4m 1s\n",
      "500:\tlearn: 0.6382858\ttest: 0.6382858\ttest1: 0.7625549\tbest: 0.7625549 (500)\ttotal: 24.3s\tremaining: 3m 59s\n",
      "600:\tlearn: 0.6090822\ttest: 0.6090822\ttest1: 0.7588867\tbest: 0.7588697 (599)\ttotal: 29.5s\tremaining: 3m 56s\n",
      "700:\tlearn: 0.5765298\ttest: 0.5765298\ttest1: 0.7551934\tbest: 0.7551925 (699)\ttotal: 35s\tremaining: 3m 56s\n",
      "800:\tlearn: 0.5429845\ttest: 0.5429845\ttest1: 0.7541958\tbest: 0.7539686 (781)\ttotal: 40.7s\tremaining: 3m 55s\n"
     ]
    },
    {
     "name": "stderr",
     "output_type": "stream",
     "text": [
      "\u001b[32m[I 2022-12-15 18:17:25,254]\u001b[0m Trial 4 finished with value: 0.7539686287809098 and parameters: {'learning_rate': 0.015778207856230707, 'bagging_temperature': 0.1872474191063101, 'n_estimators': 5431, 'max_depth': 11, 'random_strength': 2, 'colsample_bylevel': 0.4416172828184351, 'l2_leaf_reg': 0.0006604407155321971, 'min_child_samples': 24, 'max_bin': 206, 'od_type': 'Iter'}. Best is trial 4 with value: 0.7539686287809098.\u001b[0m\n"
     ]
    },
    {
     "name": "stdout",
     "output_type": "stream",
     "text": [
      "Stopped by overfitting detector  (35 iterations wait)\n",
      "\n",
      "bestTest = 0.7539686288\n",
      "bestIteration = 781\n",
      "\n",
      "Shrink model to first 782 iterations.\n",
      "0:\tlearn: 1.0924319\ttest: 1.0924319\ttest1: 1.0925456\tbest: 1.0925456 (0)\ttotal: 32.1ms\tremaining: 2m 56s\n",
      "100:\tlearn: 0.8261885\ttest: 0.8261885\ttest1: 0.8531450\tbest: 0.8531450 (100)\ttotal: 3.31s\tremaining: 2m 57s\n",
      "200:\tlearn: 0.7568892\ttest: 0.7568892\ttest1: 0.8130616\tbest: 0.8130616 (200)\ttotal: 6.56s\tremaining: 2m 53s\n",
      "300:\tlearn: 0.7098303\ttest: 0.7098303\ttest1: 0.7977846\tbest: 0.7977846 (300)\ttotal: 9.8s\tremaining: 2m 49s\n",
      "400:\tlearn: 0.6705345\ttest: 0.6705345\ttest1: 0.7895124\tbest: 0.7895124 (400)\ttotal: 13.2s\tremaining: 2m 47s\n",
      "500:\tlearn: 0.6374684\ttest: 0.6374684\ttest1: 0.7846334\tbest: 0.7846334 (500)\ttotal: 16.4s\tremaining: 2m 44s\n",
      "600:\tlearn: 0.6075267\ttest: 0.6075267\ttest1: 0.7809959\tbest: 0.7809959 (600)\ttotal: 19.7s\tremaining: 2m 41s\n",
      "700:\tlearn: 0.5820582\ttest: 0.5820582\ttest1: 0.7795404\tbest: 0.7795005 (699)\ttotal: 23s\tremaining: 2m 38s\n",
      "800:\tlearn: 0.5579544\ttest: 0.5579544\ttest1: 0.7780132\tbest: 0.7780132 (800)\ttotal: 26.3s\tremaining: 2m 34s\n"
     ]
    },
    {
     "name": "stderr",
     "output_type": "stream",
     "text": [
      "\u001b[32m[I 2022-12-15 18:17:54,737]\u001b[0m Trial 5 finished with value: 0.7776652211255483 and parameters: {'learning_rate': 0.012201216981876524, 'bagging_temperature': 24.95877211332135, 'n_estimators': 5515, 'max_depth': 10, 'random_strength': 67, 'colsample_bylevel': 0.5816305876465406, 'l2_leaf_reg': 0.0017271629731267543, 'min_child_samples': 14, 'max_bin': 432, 'od_type': 'IncToDec'}. Best is trial 4 with value: 0.7539686287809098.\u001b[0m\n"
     ]
    },
    {
     "name": "stdout",
     "output_type": "stream",
     "text": [
      "Stopped by overfitting detector  (35 iterations wait)\n",
      "\n",
      "bestTest = 0.7776652211\n",
      "bestIteration = 843\n",
      "\n",
      "Shrink model to first 844 iterations.\n",
      "0:\tlearn: 1.0329190\ttest: 1.0329190\ttest1: 1.0306789\tbest: 1.0306789 (0)\ttotal: 3.7ms\tremaining: 12.6s\n",
      "100:\tlearn: 0.5459826\ttest: 0.5459826\ttest1: 0.7718150\tbest: 0.7709278 (93)\ttotal: 7.79s\tremaining: 4m 15s\n"
     ]
    },
    {
     "name": "stderr",
     "output_type": "stream",
     "text": [
      "\u001b[32m[I 2022-12-15 18:18:07,997]\u001b[0m Trial 6 finished with value: 0.7708870865124886 and parameters: {'learning_rate': 0.1668062288030721, 'bagging_temperature': 0.0918319529630366, 'n_estimators': 3414, 'max_depth': 12, 'random_strength': 92, 'colsample_bylevel': 0.9412915653593551, 'l2_leaf_reg': 0.0014805560040949488, 'min_child_samples': 71, 'max_bin': 312, 'od_type': 'IncToDec'}. Best is trial 4 with value: 0.7539686287809098.\u001b[0m\n"
     ]
    },
    {
     "name": "stdout",
     "output_type": "stream",
     "text": [
      "Stopped by overfitting detector  (35 iterations wait)\n",
      "\n",
      "bestTest = 0.7708870865\n",
      "bestIteration = 105\n",
      "\n",
      "Shrink model to first 106 iterations.\n",
      "0:\tlearn: 1.0882605\ttest: 1.0882605\ttest1: 1.0879429\tbest: 1.0879429 (0)\ttotal: 8.88ms\tremaining: 57.4s\n",
      "100:\tlearn: 0.8493564\ttest: 0.8493564\ttest1: 0.8432098\tbest: 0.8432098 (100)\ttotal: 734ms\tremaining: 46.2s\n",
      "200:\tlearn: 0.8287447\ttest: 0.8287447\ttest1: 0.8279774\tbest: 0.8279774 (200)\ttotal: 1.46s\tremaining: 45.4s\n",
      "300:\tlearn: 0.8112567\ttest: 0.8112567\ttest1: 0.8168343\tbest: 0.8168343 (300)\ttotal: 2.17s\tremaining: 44.5s\n",
      "400:\tlearn: 0.7953953\ttest: 0.7953953\ttest1: 0.8087880\tbest: 0.8087880 (400)\ttotal: 2.91s\tremaining: 44s\n",
      "500:\tlearn: 0.7790147\ttest: 0.7790147\ttest1: 0.7986636\tbest: 0.7986636 (500)\ttotal: 3.64s\tremaining: 43.3s\n",
      "600:\tlearn: 0.7577475\ttest: 0.7577475\ttest1: 0.7874985\tbest: 0.7874985 (600)\ttotal: 4.4s\tremaining: 43s\n",
      "700:\tlearn: 0.7384633\ttest: 0.7384633\ttest1: 0.7823263\tbest: 0.7822925 (698)\ttotal: 5.19s\tremaining: 42.7s\n",
      "800:\tlearn: 0.7178304\ttest: 0.7178304\ttest1: 0.7766939\tbest: 0.7766939 (800)\ttotal: 5.99s\tremaining: 42.3s\n",
      "900:\tlearn: 0.6989229\ttest: 0.6989229\ttest1: 0.7719869\tbest: 0.7719869 (900)\ttotal: 6.78s\tremaining: 41.9s\n",
      "1000:\tlearn: 0.6824971\ttest: 0.6824971\ttest1: 0.7685618\tbest: 0.7685618 (1000)\ttotal: 7.57s\tremaining: 41.3s\n",
      "1100:\tlearn: 0.6661795\ttest: 0.6661795\ttest1: 0.7656144\tbest: 0.7655925 (1099)\ttotal: 8.37s\tremaining: 40.8s\n",
      "1200:\tlearn: 0.6515700\ttest: 0.6515700\ttest1: 0.7636496\tbest: 0.7636493 (1199)\ttotal: 9.21s\tremaining: 40.4s\n",
      "1300:\tlearn: 0.6381049\ttest: 0.6381049\ttest1: 0.7616787\tbest: 0.7616787 (1300)\ttotal: 10s\tremaining: 39.8s\n",
      "1400:\tlearn: 0.6248518\ttest: 0.6248518\ttest1: 0.7599785\tbest: 0.7599757 (1399)\ttotal: 10.9s\tremaining: 39.2s\n",
      "1500:\tlearn: 0.6128254\ttest: 0.6128254\ttest1: 0.7587501\tbest: 0.7587499 (1499)\ttotal: 11.7s\tremaining: 38.5s\n",
      "1600:\tlearn: 0.6012389\ttest: 0.6012389\ttest1: 0.7577340\tbest: 0.7577340 (1600)\ttotal: 12.4s\tremaining: 37.8s\n"
     ]
    },
    {
     "name": "stderr",
     "output_type": "stream",
     "text": [
      "\u001b[32m[I 2022-12-15 18:18:21,163]\u001b[0m Trial 7 finished with value: 0.7576801868500359 and parameters: {'learning_rate': 0.024158736401305638, 'bagging_temperature': 0.26797773730639146, 'n_estimators': 6463, 'max_depth': 7, 'random_strength': 60, 'colsample_bylevel': 0.8278471812583295, 'l2_leaf_reg': 0.0015691370950467202, 'min_child_samples': 51, 'max_bin': 302, 'od_type': 'Iter'}. Best is trial 4 with value: 0.7539686287809098.\u001b[0m\n"
     ]
    },
    {
     "name": "stdout",
     "output_type": "stream",
     "text": [
      "Stopped by overfitting detector  (35 iterations wait)\n",
      "\n",
      "bestTest = 0.7576801869\n",
      "bestIteration = 1618\n",
      "\n",
      "Shrink model to first 1619 iterations.\n",
      "0:\tlearn: 1.0699959\ttest: 1.0699959\ttest1: 1.0691036\tbest: 1.0691036 (0)\ttotal: 4.43ms\tremaining: 30.3s\n",
      "100:\tlearn: 0.8289677\ttest: 0.8289677\ttest1: 0.8197615\tbest: 0.8197615 (100)\ttotal: 413ms\tremaining: 27.6s\n",
      "200:\tlearn: 0.8030510\ttest: 0.8030510\ttest1: 0.7989665\tbest: 0.7989665 (200)\ttotal: 828ms\tremaining: 27.4s\n",
      "300:\tlearn: 0.7846055\ttest: 0.7846055\ttest1: 0.7929187\tbest: 0.7928913 (294)\ttotal: 1.24s\tremaining: 26.9s\n",
      "400:\tlearn: 0.7699205\ttest: 0.7699205\ttest1: 0.7893603\tbest: 0.7893603 (400)\ttotal: 1.66s\tremaining: 26.7s\n",
      "500:\tlearn: 0.7561472\ttest: 0.7561472\ttest1: 0.7862187\tbest: 0.7862187 (500)\ttotal: 2.07s\tremaining: 26.3s\n",
      "600:\tlearn: 0.7440447\ttest: 0.7440447\ttest1: 0.7840709\tbest: 0.7840154 (597)\ttotal: 2.48s\tremaining: 25.8s\n",
      "700:\tlearn: 0.7331979\ttest: 0.7331979\ttest1: 0.7824757\tbest: 0.7824757 (700)\ttotal: 2.89s\tremaining: 25.4s\n",
      "800:\tlearn: 0.7231742\ttest: 0.7231742\ttest1: 0.7805958\tbest: 0.7805958 (800)\ttotal: 3.31s\tremaining: 25s\n",
      "900:\tlearn: 0.7135239\ttest: 0.7135239\ttest1: 0.7784581\tbest: 0.7783104 (895)\ttotal: 3.72s\tremaining: 24.5s\n",
      "1000:\tlearn: 0.7044384\ttest: 0.7044384\ttest1: 0.7769613\tbest: 0.7769613 (1000)\ttotal: 4.14s\tremaining: 24.2s\n",
      "1100:\tlearn: 0.6961406\ttest: 0.6961406\ttest1: 0.7762091\tbest: 0.7762091 (1100)\ttotal: 4.56s\tremaining: 23.8s\n"
     ]
    },
    {
     "name": "stderr",
     "output_type": "stream",
     "text": [
      "\u001b[32m[I 2022-12-15 18:18:26,206]\u001b[0m Trial 8 finished with value: 0.776053727549929 and parameters: {'learning_rate': 0.0685586287146963, 'bagging_temperature': 0.016107689845353945, 'n_estimators': 6848, 'max_depth': 4, 'random_strength': 27, 'colsample_bylevel': 0.4235080732783042, 'l2_leaf_reg': 0.002271037583092516, 'min_child_samples': 16, 'max_bin': 259, 'od_type': 'IncToDec'}. Best is trial 4 with value: 0.7539686287809098.\u001b[0m\n"
     ]
    },
    {
     "name": "stdout",
     "output_type": "stream",
     "text": [
      "Stopped by overfitting detector  (35 iterations wait)\n",
      "\n",
      "bestTest = 0.7760537275\n",
      "bestIteration = 1124\n",
      "\n",
      "Shrink model to first 1125 iterations.\n",
      "0:\tlearn: 1.0881492\ttest: 1.0881492\ttest1: 1.0878897\tbest: 1.0878897 (0)\ttotal: 19.4ms\tremaining: 1m 24s\n",
      "100:\tlearn: 0.8225873\ttest: 0.8225873\ttest1: 0.8314689\tbest: 0.8314689 (100)\ttotal: 5.95s\tremaining: 4m 10s\n",
      "200:\tlearn: 0.7766992\ttest: 0.7766992\ttest1: 0.8094082\tbest: 0.8094082 (200)\ttotal: 12.9s\tremaining: 4m 26s\n",
      "300:\tlearn: 0.7375567\ttest: 0.7375567\ttest1: 0.7947204\tbest: 0.7947204 (300)\ttotal: 20s\tremaining: 4m 29s\n",
      "400:\tlearn: 0.7063150\ttest: 0.7063150\ttest1: 0.7862887\tbest: 0.7862508 (399)\ttotal: 26.4s\tremaining: 4m 19s\n",
      "500:\tlearn: 0.6662467\ttest: 0.6662467\ttest1: 0.7751208\tbest: 0.7751208 (500)\ttotal: 34.5s\tremaining: 4m 24s\n",
      "600:\tlearn: 0.5798445\ttest: 0.5798445\ttest1: 0.7597683\tbest: 0.7597515 (599)\ttotal: 46.3s\tremaining: 4m 48s\n",
      "700:\tlearn: 0.5085711\ttest: 0.5085711\ttest1: 0.7571824\tbest: 0.7567951 (670)\ttotal: 1m\tremaining: 5m 13s\n"
     ]
    },
    {
     "name": "stderr",
     "output_type": "stream",
     "text": [
      "\u001b[32m[I 2022-12-15 18:19:27,343]\u001b[0m Trial 9 finished with value: 0.7567950619304605 and parameters: {'learning_rate': 0.02434293552638627, 'bagging_temperature': 0.03157187684966995, 'n_estimators': 4349, 'max_depth': 12, 'random_strength': 39, 'colsample_bylevel': 0.8963114454863341, 'l2_leaf_reg': 0.0003202313875545556, 'min_child_samples': 16, 'max_bin': 257, 'od_type': 'IncToDec'}. Best is trial 4 with value: 0.7539686287809098.\u001b[0m\n"
     ]
    },
    {
     "name": "stdout",
     "output_type": "stream",
     "text": [
      "Stopped by overfitting detector  (35 iterations wait)\n",
      "\n",
      "bestTest = 0.7567950619\n",
      "bestIteration = 670\n",
      "\n",
      "Shrink model to first 671 iterations.\n",
      "Number of finished trials: 10\n",
      "Best trial:\n",
      "  Value: 0.7539686287809098\n",
      "  Params: \n",
      "    learning_rate: 0.015778207856230707\n",
      "    bagging_temperature: 0.1872474191063101\n",
      "    n_estimators: 5431\n",
      "    max_depth: 11\n",
      "    random_strength: 2\n",
      "    colsample_bylevel: 0.4416172828184351\n",
      "    l2_leaf_reg: 0.0006604407155321971\n",
      "    min_child_samples: 24\n",
      "    max_bin: 206\n",
      "    od_type: Iter\n"
     ]
    }
   ],
   "source": [
    "# FYI: Objective functions can take additional arguments\n",
    "# (https://optuna.readthedocs.io/en/stable/faq.html#objective-func-additional-args).\n",
    "\n",
    "from sklearn.metrics import log_loss\n",
    "\n",
    "def objective(trial):\n",
    "    param = {\n",
    "      \"random_state\":42,\n",
    "      'learning_rate' : trial.suggest_loguniform('learning_rate', 0.01, 0.3),\n",
    "      'bagging_temperature' :trial.suggest_loguniform('bagging_temperature', 0.01, 100.00),\n",
    "      \"n_estimators\":trial.suggest_int(\"n_estimators\", 1000, 10000),\n",
    "      \"max_depth\":trial.suggest_int(\"max_depth\", 4, 16),\n",
    "      'random_strength' :trial.suggest_int('random_strength', 0, 100),\n",
    "      \"colsample_bylevel\":trial.suggest_float(\"colsample_bylevel\", 0.4, 1.0),\n",
    "      \"l2_leaf_reg\":trial.suggest_float(\"l2_leaf_reg\",1e-5,3e-3),\n",
    "      \"min_child_samples\": trial.suggest_int(\"min_child_samples\", 5, 100),\n",
    "      \"max_bin\": trial.suggest_int(\"max_bin\", 200, 500),\n",
    "      'od_type': trial.suggest_categorical('od_type', ['IncToDec', 'Iter']),\n",
    "  }\n",
    "    #cat_features = [6, 7, 8, 9, 10, 11, 12, 13, 14, 15, 16]\n",
    "\n",
    "    cat = CatBoostClassifier(**param)\n",
    "    cat.fit(train_x, train_y,\n",
    "          eval_set=[(train_x, train_y), (valid_x,valid_y)],\n",
    "          early_stopping_rounds=35,#cat_features=cat_features,\n",
    "          verbose=100)\n",
    "    preds = cat.predict_proba(valid_x)\n",
    "    log_score = log_loss(valid_y, preds)\n",
    "    # pred_labels = []\n",
    "    # for i in range(0,len(preds)):\n",
    "    #     pred_labels.append(np.argmax(preds[i]))\n",
    "    # accuracy = cal_acc(valid_y_label, pred_labels)\n",
    "    return log_score\n",
    "\n",
    "# def cal_acc(true, pred):\n",
    "#     return np.mean(true==pred)\n",
    "\n",
    "study = optuna.create_study(direction=\"minimize\")\n",
    "study.optimize(objective, n_trials=10)\n",
    "\n",
    "print(\"Number of finished trials: {}\".format(len(study.trials)))\n",
    "\n",
    "print(\"Best trial:\")\n",
    "trial = study.best_trial\n",
    "\n",
    "print(\"  Value: {}\".format(trial.value))\n",
    "\n",
    "print(\"  Params: \")\n",
    "for key, value in trial.params.items():\n",
    "    print(\"    {}: {}\".format(key, value))"
   ]
  },
  {
   "cell_type": "code",
   "execution_count": 18,
   "id": "9518bf4a-1320-4187-89e0-93b3e129b277",
   "metadata": {
    "colab": {
     "base_uri": "https://localhost:8080/"
    },
    "id": "9518bf4a-1320-4187-89e0-93b3e129b277",
    "outputId": "57b507cc-8adb-4bb2-de53-89ee17f1a0b1"
   },
   "outputs": [
    {
     "data": {
      "text/plain": [
       "{'learning_rate': 0.015778207856230707,\n",
       " 'bagging_temperature': 0.1872474191063101,\n",
       " 'n_estimators': 5431,\n",
       " 'max_depth': 11,\n",
       " 'random_strength': 2,\n",
       " 'colsample_bylevel': 0.4416172828184351,\n",
       " 'l2_leaf_reg': 0.0006604407155321971,\n",
       " 'min_child_samples': 24,\n",
       " 'max_bin': 206,\n",
       " 'od_type': 'Iter'}"
      ]
     },
     "execution_count": 18,
     "metadata": {},
     "output_type": "execute_result"
    }
   ],
   "source": [
    "ctb_best = study.best_params\n",
    "ctb_best"
   ]
  },
  {
   "cell_type": "markdown",
   "id": "cd6891f2-194f-4c50-80eb-434a9e6683cf",
   "metadata": {
    "id": "cd6891f2-194f-4c50-80eb-434a9e6683cf"
   },
   "source": [
    "### Random Forest"
   ]
  },
  {
   "cell_type": "code",
   "execution_count": 22,
   "id": "bf49ac27-05fa-450c-9b07-ae007a2a368f",
   "metadata": {
    "colab": {
     "base_uri": "https://localhost:8080/"
    },
    "id": "bf49ac27-05fa-450c-9b07-ae007a2a368f",
    "outputId": "7af564cb-06e9-4aca-cc67-41a9c5652d6f"
   },
   "outputs": [
    {
     "name": "stderr",
     "output_type": "stream",
     "text": [
      "\u001b[32m[I 2022-12-15 18:25:12,788]\u001b[0m A new study created in memory with name: no-name-59517974-4da2-4450-b5fc-9dc753ddc526\u001b[0m\n",
      "\u001b[32m[I 2022-12-15 18:25:13,011]\u001b[0m Trial 0 finished with value: -0.8303965578982959 and parameters: {'max_depth': 7}. Best is trial 0 with value: -0.8303965578982959.\u001b[0m\n",
      "\u001b[32m[I 2022-12-15 18:25:13,198]\u001b[0m Trial 1 finished with value: -0.8449653121070199 and parameters: {'max_depth': 5}. Best is trial 0 with value: -0.8303965578982959.\u001b[0m\n",
      "\u001b[32m[I 2022-12-15 18:25:13,366]\u001b[0m Trial 2 finished with value: -0.8608352091460677 and parameters: {'max_depth': 2}. Best is trial 0 with value: -0.8303965578982959.\u001b[0m\n",
      "\u001b[32m[I 2022-12-15 18:25:13,529]\u001b[0m Trial 3 finished with value: -0.8492335878365365 and parameters: {'max_depth': 3}. Best is trial 0 with value: -0.8303965578982959.\u001b[0m\n",
      "\u001b[32m[I 2022-12-15 18:25:13,776]\u001b[0m Trial 4 finished with value: -0.8080498239122331 and parameters: {'max_depth': 12}. Best is trial 4 with value: -0.8080498239122331.\u001b[0m\n",
      "\u001b[32m[I 2022-12-15 18:25:13,970]\u001b[0m Trial 5 finished with value: -0.8446476392891082 and parameters: {'max_depth': 5}. Best is trial 4 with value: -0.8080498239122331.\u001b[0m\n",
      "\u001b[32m[I 2022-12-15 18:25:14,134]\u001b[0m Trial 6 finished with value: -0.8654370599884735 and parameters: {'max_depth': 2}. Best is trial 4 with value: -0.8080498239122331.\u001b[0m\n",
      "\u001b[32m[I 2022-12-15 18:25:14,355]\u001b[0m Trial 7 finished with value: -0.8308157115423448 and parameters: {'max_depth': 7}. Best is trial 4 with value: -0.8080498239122331.\u001b[0m\n",
      "\u001b[32m[I 2022-12-15 18:25:14,666]\u001b[0m Trial 8 finished with value: -0.8091679772703013 and parameters: {'max_depth': 16}. Best is trial 4 with value: -0.8080498239122331.\u001b[0m\n",
      "\u001b[32m[I 2022-12-15 18:25:14,899]\u001b[0m Trial 9 finished with value: -0.8182482516438471 and parameters: {'max_depth': 9}. Best is trial 4 with value: -0.8080498239122331.\u001b[0m\n",
      "\u001b[32m[I 2022-12-15 18:25:15,290]\u001b[0m Trial 10 finished with value: -1.7062708463803105 and parameters: {'max_depth': 28}. Best is trial 4 with value: -0.8080498239122331.\u001b[0m\n",
      "\u001b[32m[I 2022-12-15 18:25:15,597]\u001b[0m Trial 11 finished with value: -0.7945033519326452 and parameters: {'max_depth': 17}. Best is trial 11 with value: -0.7945033519326452.\u001b[0m\n",
      "\u001b[32m[I 2022-12-15 18:25:15,903]\u001b[0m Trial 12 finished with value: -0.8124213351722414 and parameters: {'max_depth': 17}. Best is trial 11 with value: -0.7945033519326452.\u001b[0m\n",
      "\u001b[32m[I 2022-12-15 18:25:16,173]\u001b[0m Trial 13 finished with value: -0.8012325677665084 and parameters: {'max_depth': 14}. Best is trial 11 with value: -0.7945033519326452.\u001b[0m\n",
      "\u001b[32m[I 2022-12-15 18:25:16,545]\u001b[0m Trial 14 finished with value: -1.5528978678168586 and parameters: {'max_depth': 27}. Best is trial 11 with value: -0.7945033519326452.\u001b[0m\n",
      "\u001b[32m[I 2022-12-15 18:25:16,861]\u001b[0m Trial 15 finished with value: -0.8197592868870729 and parameters: {'max_depth': 18}. Best is trial 11 with value: -0.7945033519326452.\u001b[0m\n",
      "\u001b[32m[I 2022-12-15 18:25:17,120]\u001b[0m Trial 16 finished with value: -0.8060439872718025 and parameters: {'max_depth': 12}. Best is trial 11 with value: -0.7945033519326452.\u001b[0m\n",
      "\u001b[32m[I 2022-12-15 18:25:17,472]\u001b[0m Trial 17 finished with value: -0.986573415275511 and parameters: {'max_depth': 22}. Best is trial 11 with value: -0.7945033519326452.\u001b[0m\n",
      "\u001b[32m[I 2022-12-15 18:25:17,713]\u001b[0m Trial 18 finished with value: -0.8097112350581801 and parameters: {'max_depth': 11}. Best is trial 11 with value: -0.7945033519326452.\u001b[0m\n",
      "\u001b[32m[I 2022-12-15 18:25:18,103]\u001b[0m Trial 19 finished with value: -2.096692408468228 and parameters: {'max_depth': 31}. Best is trial 11 with value: -0.7945033519326452.\u001b[0m\n",
      "\u001b[32m[I 2022-12-15 18:25:18,284]\u001b[0m Trial 20 finished with value: -0.8490376250729117 and parameters: {'max_depth': 4}. Best is trial 11 with value: -0.7945033519326452.\u001b[0m\n",
      "\u001b[32m[I 2022-12-15 18:25:18,517]\u001b[0m Trial 21 finished with value: -0.8159806709631445 and parameters: {'max_depth': 10}. Best is trial 11 with value: -0.7945033519326452.\u001b[0m\n",
      "\u001b[32m[I 2022-12-15 18:25:18,786]\u001b[0m Trial 22 finished with value: -0.8004247200497208 and parameters: {'max_depth': 14}. Best is trial 11 with value: -0.7945033519326452.\u001b[0m\n",
      "\u001b[32m[I 2022-12-15 18:25:19,080]\u001b[0m Trial 23 finished with value: -0.802550530450673 and parameters: {'max_depth': 16}. Best is trial 11 with value: -0.7945033519326452.\u001b[0m\n",
      "\u001b[32m[I 2022-12-15 18:25:19,530]\u001b[0m Trial 24 finished with value: -1.0754584011029276 and parameters: {'max_depth': 23}. Best is trial 11 with value: -0.7945033519326452.\u001b[0m\n",
      "\u001b[32m[I 2022-12-15 18:25:19,794]\u001b[0m Trial 25 finished with value: -0.8011432185108053 and parameters: {'max_depth': 14}. Best is trial 11 with value: -0.7945033519326452.\u001b[0m\n",
      "\u001b[32m[I 2022-12-15 18:25:20,125]\u001b[0m Trial 26 finished with value: -0.9380597630578782 and parameters: {'max_depth': 21}. Best is trial 11 with value: -0.7945033519326452.\u001b[0m\n",
      "\u001b[32m[I 2022-12-15 18:25:20,344]\u001b[0m Trial 27 finished with value: -0.8236662919571556 and parameters: {'max_depth': 8}. Best is trial 11 with value: -0.7945033519326452.\u001b[0m\n",
      "\u001b[32m[I 2022-12-15 18:25:20,602]\u001b[0m Trial 28 finished with value: -0.8038838124529736 and parameters: {'max_depth': 13}. Best is trial 11 with value: -0.7945033519326452.\u001b[0m\n",
      "\u001b[32m[I 2022-12-15 18:25:20,803]\u001b[0m Trial 29 finished with value: -0.83703464230856 and parameters: {'max_depth': 6}. Best is trial 11 with value: -0.7945033519326452.\u001b[0m\n",
      "\u001b[32m[I 2022-12-15 18:25:21,029]\u001b[0m Trial 30 finished with value: -0.8190326504889504 and parameters: {'max_depth': 9}. Best is trial 11 with value: -0.7945033519326452.\u001b[0m\n",
      "\u001b[32m[I 2022-12-15 18:25:21,333]\u001b[0m Trial 31 finished with value: -0.8037564234318291 and parameters: {'max_depth': 14}. Best is trial 11 with value: -0.7945033519326452.\u001b[0m\n",
      "\u001b[32m[I 2022-12-15 18:25:21,659]\u001b[0m Trial 32 finished with value: -0.8543966155928592 and parameters: {'max_depth': 19}. Best is trial 11 with value: -0.7945033519326452.\u001b[0m\n",
      "\u001b[32m[I 2022-12-15 18:25:21,963]\u001b[0m Trial 33 finished with value: -0.801048730573149 and parameters: {'max_depth': 14}. Best is trial 11 with value: -0.7945033519326452.\u001b[0m\n",
      "\u001b[32m[I 2022-12-15 18:25:22,340]\u001b[0m Trial 34 finished with value: -1.2336353566573117 and parameters: {'max_depth': 24}. Best is trial 11 with value: -0.7945033519326452.\u001b[0m\n",
      "\u001b[32m[I 2022-12-15 18:25:22,649]\u001b[0m Trial 35 finished with value: -0.8022848315385277 and parameters: {'max_depth': 15}. Best is trial 11 with value: -0.7945033519326452.\u001b[0m\n",
      "\u001b[32m[I 2022-12-15 18:25:22,899]\u001b[0m Trial 36 finished with value: -0.8113323203817178 and parameters: {'max_depth': 11}. Best is trial 11 with value: -0.7945033519326452.\u001b[0m\n",
      "\u001b[32m[I 2022-12-15 18:25:23,137]\u001b[0m Trial 37 finished with value: -0.8263719977283523 and parameters: {'max_depth': 7}. Best is trial 11 with value: -0.7945033519326452.\u001b[0m\n",
      "\u001b[32m[I 2022-12-15 18:25:23,499]\u001b[0m Trial 38 finished with value: -0.857813729215858 and parameters: {'max_depth': 19}. Best is trial 11 with value: -0.7945033519326452.\u001b[0m\n",
      "\u001b[32m[I 2022-12-15 18:25:23,688]\u001b[0m Trial 39 finished with value: -0.843000395800734 and parameters: {'max_depth': 5}. Best is trial 11 with value: -0.7945033519326452.\u001b[0m\n",
      "\u001b[32m[I 2022-12-15 18:25:23,874]\u001b[0m Trial 40 finished with value: -0.8545869893971207 and parameters: {'max_depth': 3}. Best is trial 11 with value: -0.7945033519326452.\u001b[0m\n",
      "\u001b[32m[I 2022-12-15 18:25:24,168]\u001b[0m Trial 41 finished with value: -0.8001139386531039 and parameters: {'max_depth': 14}. Best is trial 11 with value: -0.7945033519326452.\u001b[0m\n",
      "\u001b[32m[I 2022-12-15 18:25:24,454]\u001b[0m Trial 42 finished with value: -0.8039371900117883 and parameters: {'max_depth': 13}. Best is trial 11 with value: -0.7945033519326452.\u001b[0m\n",
      "\u001b[32m[I 2022-12-15 18:25:24,687]\u001b[0m Trial 43 finished with value: -0.8212693915630291 and parameters: {'max_depth': 9}. Best is trial 11 with value: -0.7945033519326452.\u001b[0m\n",
      "\u001b[32m[I 2022-12-15 18:25:24,976]\u001b[0m Trial 44 finished with value: -0.8031642340765979 and parameters: {'max_depth': 16}. Best is trial 11 with value: -0.7945033519326452.\u001b[0m\n",
      "\u001b[32m[I 2022-12-15 18:25:25,234]\u001b[0m Trial 45 finished with value: -0.8128053269775881 and parameters: {'max_depth': 11}. Best is trial 11 with value: -0.7945033519326452.\u001b[0m\n",
      "\u001b[32m[I 2022-12-15 18:25:25,576]\u001b[0m Trial 46 finished with value: -0.8760463789051396 and parameters: {'max_depth': 20}. Best is trial 11 with value: -0.7945033519326452.\u001b[0m\n",
      "\u001b[32m[I 2022-12-15 18:25:25,945]\u001b[0m Trial 47 finished with value: -1.3493293901217014 and parameters: {'max_depth': 25}. Best is trial 11 with value: -0.7945033519326452.\u001b[0m\n",
      "\u001b[32m[I 2022-12-15 18:25:26,158]\u001b[0m Trial 48 finished with value: -0.8261034158212739 and parameters: {'max_depth': 8}. Best is trial 11 with value: -0.7945033519326452.\u001b[0m\n",
      "\u001b[32m[I 2022-12-15 18:25:26,419]\u001b[0m Trial 49 finished with value: -0.8018044740834244 and parameters: {'max_depth': 13}. Best is trial 11 with value: -0.7945033519326452.\u001b[0m\n",
      "\u001b[32m[I 2022-12-15 18:25:26,734]\u001b[0m Trial 50 finished with value: -0.805162811584211 and parameters: {'max_depth': 17}. Best is trial 11 with value: -0.7945033519326452.\u001b[0m\n",
      "\u001b[32m[I 2022-12-15 18:25:27,030]\u001b[0m Trial 51 finished with value: -0.7965246970907943 and parameters: {'max_depth': 14}. Best is trial 11 with value: -0.7945033519326452.\u001b[0m\n",
      "\u001b[32m[I 2022-12-15 18:25:27,327]\u001b[0m Trial 52 finished with value: -0.8008624592134683 and parameters: {'max_depth': 15}. Best is trial 11 with value: -0.7945033519326452.\u001b[0m\n",
      "\u001b[32m[I 2022-12-15 18:25:27,593]\u001b[0m Trial 53 finished with value: -0.8091574380505934 and parameters: {'max_depth': 12}. Best is trial 11 with value: -0.7945033519326452.\u001b[0m\n",
      "\u001b[32m[I 2022-12-15 18:25:27,837]\u001b[0m Trial 54 finished with value: -0.8142392934974287 and parameters: {'max_depth': 10}. Best is trial 11 with value: -0.7945033519326452.\u001b[0m\n",
      "\u001b[32m[I 2022-12-15 18:25:28,137]\u001b[0m Trial 55 finished with value: -0.7940336016880484 and parameters: {'max_depth': 15}. Best is trial 55 with value: -0.7940336016880484.\u001b[0m\n",
      "\u001b[32m[I 2022-12-15 18:25:28,470]\u001b[0m Trial 56 finished with value: -0.8026958054933452 and parameters: {'max_depth': 16}. Best is trial 55 with value: -0.7940336016880484.\u001b[0m\n",
      "\u001b[32m[I 2022-12-15 18:25:28,899]\u001b[0m Trial 57 finished with value: -2.1521583517493887 and parameters: {'max_depth': 30}. Best is trial 55 with value: -0.7940336016880484.\u001b[0m\n",
      "\u001b[32m[I 2022-12-15 18:25:29,226]\u001b[0m Trial 58 finished with value: -0.8219632475577099 and parameters: {'max_depth': 18}. Best is trial 55 with value: -0.7940336016880484.\u001b[0m\n",
      "\u001b[32m[I 2022-12-15 18:25:29,578]\u001b[0m Trial 59 finished with value: -0.9193170112568694 and parameters: {'max_depth': 21}. Best is trial 55 with value: -0.7940336016880484.\u001b[0m\n",
      "\u001b[32m[I 2022-12-15 18:25:29,959]\u001b[0m Trial 60 finished with value: -1.3290361162233368 and parameters: {'max_depth': 26}. Best is trial 55 with value: -0.7940336016880484.\u001b[0m\n",
      "\u001b[32m[I 2022-12-15 18:25:30,234]\u001b[0m Trial 61 finished with value: -0.7989114299067948 and parameters: {'max_depth': 14}. Best is trial 55 with value: -0.7940336016880484.\u001b[0m\n",
      "\u001b[32m[I 2022-12-15 18:25:30,541]\u001b[0m Trial 62 finished with value: -0.8066135749241296 and parameters: {'max_depth': 15}. Best is trial 55 with value: -0.7940336016880484.\u001b[0m\n",
      "\u001b[32m[I 2022-12-15 18:25:30,795]\u001b[0m Trial 63 finished with value: -0.8029596531646958 and parameters: {'max_depth': 12}. Best is trial 55 with value: -0.7940336016880484.\u001b[0m\n",
      "\u001b[32m[I 2022-12-15 18:25:31,105]\u001b[0m Trial 64 finished with value: -0.8077355362665457 and parameters: {'max_depth': 17}. Best is trial 55 with value: -0.7940336016880484.\u001b[0m\n",
      "\u001b[32m[I 2022-12-15 18:25:31,347]\u001b[0m Trial 65 finished with value: -0.8153428643122969 and parameters: {'max_depth': 10}. Best is trial 55 with value: -0.7940336016880484.\u001b[0m\n",
      "\u001b[32m[I 2022-12-15 18:25:31,705]\u001b[0m Trial 66 finished with value: -0.9658728046614653 and parameters: {'max_depth': 22}. Best is trial 55 with value: -0.7940336016880484.\u001b[0m\n",
      "\u001b[32m[I 2022-12-15 18:25:31,995]\u001b[0m Trial 67 finished with value: -0.7971282588091925 and parameters: {'max_depth': 15}. Best is trial 55 with value: -0.7940336016880484.\u001b[0m\n",
      "\u001b[32m[I 2022-12-15 18:25:32,214]\u001b[0m Trial 68 finished with value: -0.8267676295443342 and parameters: {'max_depth': 8}. Best is trial 55 with value: -0.7940336016880484.\u001b[0m\n",
      "\u001b[32m[I 2022-12-15 18:25:32,487]\u001b[0m Trial 69 finished with value: -0.8047569634355021 and parameters: {'max_depth': 13}. Best is trial 55 with value: -0.7940336016880484.\u001b[0m\n",
      "\u001b[32m[I 2022-12-15 18:25:32,838]\u001b[0m Trial 70 finished with value: -0.848193394879685 and parameters: {'max_depth': 19}. Best is trial 55 with value: -0.7940336016880484.\u001b[0m\n",
      "\u001b[32m[I 2022-12-15 18:25:33,143]\u001b[0m Trial 71 finished with value: -0.8060995696664308 and parameters: {'max_depth': 15}. Best is trial 55 with value: -0.7940336016880484.\u001b[0m\n",
      "\u001b[32m[I 2022-12-15 18:25:33,417]\u001b[0m Trial 72 finished with value: -0.8125158086333147 and parameters: {'max_depth': 11}. Best is trial 55 with value: -0.7940336016880484.\u001b[0m\n",
      "\u001b[32m[I 2022-12-15 18:25:33,720]\u001b[0m Trial 73 finished with value: -0.82801687443615 and parameters: {'max_depth': 17}. Best is trial 55 with value: -0.7940336016880484.\u001b[0m\n",
      "\u001b[32m[I 2022-12-15 18:25:34,021]\u001b[0m Trial 74 finished with value: -0.8042773147906248 and parameters: {'max_depth': 14}. Best is trial 55 with value: -0.7940336016880484.\u001b[0m\n",
      "\u001b[32m[I 2022-12-15 18:25:34,307]\u001b[0m Trial 75 finished with value: -0.8064811376922428 and parameters: {'max_depth': 15}. Best is trial 55 with value: -0.7940336016880484.\u001b[0m\n",
      "\u001b[32m[I 2022-12-15 18:25:34,577]\u001b[0m Trial 76 finished with value: -0.8011168753275726 and parameters: {'max_depth': 13}. Best is trial 55 with value: -0.7940336016880484.\u001b[0m\n",
      "\u001b[32m[I 2022-12-15 18:25:34,924]\u001b[0m Trial 77 finished with value: -0.8817073162140098 and parameters: {'max_depth': 20}. Best is trial 55 with value: -0.7940336016880484.\u001b[0m\n",
      "\u001b[32m[I 2022-12-15 18:25:35,241]\u001b[0m Trial 78 finished with value: -0.8204678926297827 and parameters: {'max_depth': 18}. Best is trial 55 with value: -0.7940336016880484.\u001b[0m\n",
      "\u001b[32m[I 2022-12-15 18:25:35,443]\u001b[0m Trial 79 finished with value: -0.8369701123114096 and parameters: {'max_depth': 6}. Best is trial 55 with value: -0.7940336016880484.\u001b[0m\n",
      "\u001b[32m[I 2022-12-15 18:25:35,703]\u001b[0m Trial 80 finished with value: -0.8080913368854379 and parameters: {'max_depth': 12}. Best is trial 55 with value: -0.7940336016880484.\u001b[0m\n",
      "\u001b[32m[I 2022-12-15 18:25:35,989]\u001b[0m Trial 81 finished with value: -0.7988870607417147 and parameters: {'max_depth': 14}. Best is trial 55 with value: -0.7940336016880484.\u001b[0m\n",
      "\u001b[32m[I 2022-12-15 18:25:36,316]\u001b[0m Trial 82 finished with value: -0.8028882416911941 and parameters: {'max_depth': 16}. Best is trial 55 with value: -0.7940336016880484.\u001b[0m\n",
      "\u001b[32m[I 2022-12-15 18:25:36,623]\u001b[0m Trial 83 finished with value: -0.8018082489307264 and parameters: {'max_depth': 14}. Best is trial 55 with value: -0.7940336016880484.\u001b[0m\n",
      "\u001b[32m[I 2022-12-15 18:25:36,849]\u001b[0m Trial 84 finished with value: -0.8179011579698935 and parameters: {'max_depth': 9}. Best is trial 55 with value: -0.7940336016880484.\u001b[0m\n",
      "\u001b[32m[I 2022-12-15 18:25:37,096]\u001b[0m Trial 85 finished with value: -0.8149143442838694 and parameters: {'max_depth': 10}. Best is trial 55 with value: -0.7940336016880484.\u001b[0m\n",
      "\u001b[32m[I 2022-12-15 18:25:37,353]\u001b[0m Trial 86 finished with value: -0.8086666459988935 and parameters: {'max_depth': 11}. Best is trial 55 with value: -0.7940336016880484.\u001b[0m\n",
      "\u001b[32m[I 2022-12-15 18:25:37,634]\u001b[0m Trial 87 finished with value: -0.8004476998469341 and parameters: {'max_depth': 14}. Best is trial 55 with value: -0.7940336016880484.\u001b[0m\n",
      "\u001b[32m[I 2022-12-15 18:25:37,890]\u001b[0m Trial 88 finished with value: -0.8084688533389766 and parameters: {'max_depth': 12}. Best is trial 55 with value: -0.7940336016880484.\u001b[0m\n",
      "\u001b[32m[I 2022-12-15 18:25:38,186]\u001b[0m Trial 89 finished with value: -0.8044180433085343 and parameters: {'max_depth': 16}. Best is trial 55 with value: -0.7940336016880484.\u001b[0m\n",
      "\u001b[32m[I 2022-12-15 18:25:38,351]\u001b[0m Trial 90 finished with value: -0.8548502315004493 and parameters: {'max_depth': 2}. Best is trial 55 with value: -0.7940336016880484.\u001b[0m\n",
      "\u001b[32m[I 2022-12-15 18:25:38,665]\u001b[0m Trial 91 finished with value: -0.806332025814144 and parameters: {'max_depth': 15}. Best is trial 55 with value: -0.7940336016880484.\u001b[0m\n",
      "\u001b[32m[I 2022-12-15 18:25:38,934]\u001b[0m Trial 92 finished with value: -0.8020219977012994 and parameters: {'max_depth': 13}. Best is trial 55 with value: -0.7940336016880484.\u001b[0m\n",
      "\u001b[32m[I 2022-12-15 18:25:39,263]\u001b[0m Trial 93 finished with value: -0.8335311155634958 and parameters: {'max_depth': 18}. Best is trial 55 with value: -0.7940336016880484.\u001b[0m\n",
      "\u001b[32m[I 2022-12-15 18:25:39,554]\u001b[0m Trial 94 finished with value: -0.7986441540822324 and parameters: {'max_depth': 14}. Best is trial 55 with value: -0.7940336016880484.\u001b[0m\n",
      "\u001b[32m[I 2022-12-15 18:25:39,888]\u001b[0m Trial 95 finished with value: -0.8155977173748982 and parameters: {'max_depth': 17}. Best is trial 55 with value: -0.7940336016880484.\u001b[0m\n",
      "\u001b[32m[I 2022-12-15 18:25:40,164]\u001b[0m Trial 96 finished with value: -0.8023460207798664 and parameters: {'max_depth': 14}. Best is trial 55 with value: -0.7940336016880484.\u001b[0m\n",
      "\u001b[32m[I 2022-12-15 18:25:40,520]\u001b[0m Trial 97 finished with value: -1.0263379335345737 and parameters: {'max_depth': 23}. Best is trial 55 with value: -0.7940336016880484.\u001b[0m\n",
      "\u001b[32m[I 2022-12-15 18:25:40,772]\u001b[0m Trial 98 finished with value: -0.8109510898029267 and parameters: {'max_depth': 11}. Best is trial 55 with value: -0.7940336016880484.\u001b[0m\n",
      "\u001b[32m[I 2022-12-15 18:25:41,104]\u001b[0m Trial 99 finished with value: -0.8641532357215856 and parameters: {'max_depth': 20}. Best is trial 55 with value: -0.7940336016880484.\u001b[0m\n"
     ]
    },
    {
     "name": "stdout",
     "output_type": "stream",
     "text": [
      "Number of finished trials: 100\n",
      "Best trial:\n",
      "  Value: -0.7940336016880484\n",
      "  Params: \n",
      "    max_depth: 15\n"
     ]
    }
   ],
   "source": [
    "def objective(trial):\n",
    "\n",
    "    rf_max_depth = trial.suggest_int(\"max_depth\", 2, 32, log=True)\n",
    "    classifier_obj = sklearn.ensemble.RandomForestClassifier(\n",
    "        max_depth=rf_max_depth, n_estimators=10)\n",
    "    score = sklearn.model_selection.cross_val_score(classifier_obj, train_x, train_y, n_jobs=-1, cv=5, scoring=\"neg_log_loss\")\n",
    "    log_score = score.mean()\n",
    "    return log_score\n",
    "\n",
    "study = optuna.create_study(direction=\"maximize\")\n",
    "study.optimize(objective, n_trials=100)\n",
    "\n",
    "print(\"Number of finished trials: {}\".format(len(study.trials)))\n",
    "\n",
    "print(\"Best trial:\")\n",
    "trial = study.best_trial\n",
    "\n",
    "print(\"  Value: {}\".format(trial.value))\n",
    "\n",
    "print(\"  Params: \")\n",
    "for key, value in trial.params.items():\n",
    "    print(\"    {}: {}\".format(key, value))"
   ]
  },
  {
   "cell_type": "code",
   "execution_count": null,
   "id": "958a85ae-a31c-48e8-b3a2-62c94af560e0",
   "metadata": {
    "colab": {
     "base_uri": "https://localhost:8080/"
    },
    "id": "958a85ae-a31c-48e8-b3a2-62c94af560e0",
    "outputId": "e7490092-6fde-4b58-aaf1-eaf261f84e62"
   },
   "outputs": [
    {
     "data": {
      "text/plain": [
       "{'max_depth': 16}"
      ]
     },
     "execution_count": 21,
     "metadata": {},
     "output_type": "execute_result"
    }
   ],
   "source": [
    "rf_best = study.best_params\n",
    "rf_best"
   ]
  },
  {
   "cell_type": "markdown",
   "id": "2e0a65a9-cd01-47ad-82ac-15a710dbc1df",
   "metadata": {
    "id": "2e0a65a9-cd01-47ad-82ac-15a710dbc1df"
   },
   "source": [
    "### LightGBM"
   ]
  },
  {
   "cell_type": "code",
   "execution_count": 47,
   "id": "5e38664c-1539-4279-9807-c6e1345bcabc",
   "metadata": {},
   "outputs": [
    {
     "name": "stderr",
     "output_type": "stream",
     "text": [
      "\u001b[32m[I 2022-12-15 18:50:57,532]\u001b[0m A new study created in memory with name: no-name-dba5e72e-8cd9-4cd6-8b8e-70c2a91acb7a\u001b[0m\n",
      "\u001b[32m[I 2022-12-15 18:50:58,790]\u001b[0m Trial 0 finished with value: 0.7720157378336393 and parameters: {'lambda_l1': 2.02603704994206e-05, 'lambda_l2': 0.24790956599470865, 'num_leaves': 185, 'feature_fraction': 0.931809772602863, 'bagging_fraction': 0.5554747825790305, 'bagging_freq': 5, 'min_child_samples': 33}. Best is trial 0 with value: 0.7720157378336393.\u001b[0m\n"
     ]
    },
    {
     "name": "stdout",
     "output_type": "stream",
     "text": [
      "[LightGBM] [Warning] feature_fraction is set=0.5620514552713423, colsample_bytree=1.0 will be ignored. Current value: feature_fraction=0.5620514552713423\n",
      "[LightGBM] [Warning] lambda_l1 is set=0.9691114810152355, reg_alpha=0.0 will be ignored. Current value: lambda_l1=0.9691114810152355\n",
      "[LightGBM] [Warning] bagging_fraction is set=0.6038150134948687, subsample=1.0 will be ignored. Current value: bagging_fraction=0.6038150134948687\n",
      "[LightGBM] [Warning] lambda_l2 is set=0.08751782841466708, reg_lambda=0.0 will be ignored. Current value: lambda_l2=0.08751782841466708\n",
      "[LightGBM] [Warning] bagging_freq is set=7, subsample_freq=0 will be ignored. Current value: bagging_freq=7\n"
     ]
    },
    {
     "name": "stderr",
     "output_type": "stream",
     "text": [
      "\u001b[32m[I 2022-12-15 18:50:59,863]\u001b[0m Trial 1 finished with value: 0.7697706556805556 and parameters: {'lambda_l1': 0.9691114810152355, 'lambda_l2': 0.08751782841466708, 'num_leaves': 63, 'feature_fraction': 0.5620514552713423, 'bagging_fraction': 0.6038150134948687, 'bagging_freq': 7, 'min_child_samples': 44}. Best is trial 0 with value: 0.7720157378336393.\u001b[0m\n"
     ]
    },
    {
     "name": "stdout",
     "output_type": "stream",
     "text": [
      "[LightGBM] [Warning] feature_fraction is set=0.6833710932120509, colsample_bytree=1.0 will be ignored. Current value: feature_fraction=0.6833710932120509\n",
      "[LightGBM] [Warning] lambda_l1 is set=0.0017121352525293265, reg_alpha=0.0 will be ignored. Current value: lambda_l1=0.0017121352525293265\n",
      "[LightGBM] [Warning] bagging_fraction is set=0.9176934233675403, subsample=1.0 will be ignored. Current value: bagging_fraction=0.9176934233675403\n",
      "[LightGBM] [Warning] lambda_l2 is set=0.7778849208240544, reg_lambda=0.0 will be ignored. Current value: lambda_l2=0.7778849208240544\n",
      "[LightGBM] [Warning] bagging_freq is set=2, subsample_freq=0 will be ignored. Current value: bagging_freq=2\n"
     ]
    },
    {
     "name": "stderr",
     "output_type": "stream",
     "text": [
      "\u001b[32m[I 2022-12-15 18:51:01,091]\u001b[0m Trial 2 finished with value: 0.7585220423780756 and parameters: {'lambda_l1': 0.0017121352525293265, 'lambda_l2': 0.7778849208240544, 'num_leaves': 85, 'feature_fraction': 0.6833710932120509, 'bagging_fraction': 0.9176934233675403, 'bagging_freq': 2, 'min_child_samples': 49}. Best is trial 0 with value: 0.7720157378336393.\u001b[0m\n"
     ]
    },
    {
     "name": "stdout",
     "output_type": "stream",
     "text": [
      "[LightGBM] [Warning] feature_fraction is set=0.42325565373157337, colsample_bytree=1.0 will be ignored. Current value: feature_fraction=0.42325565373157337\n",
      "[LightGBM] [Warning] lambda_l1 is set=3.4669676380158024e-06, reg_alpha=0.0 will be ignored. Current value: lambda_l1=3.4669676380158024e-06\n",
      "[LightGBM] [Warning] bagging_fraction is set=0.9799662193284819, subsample=1.0 will be ignored. Current value: bagging_fraction=0.9799662193284819\n",
      "[LightGBM] [Warning] lambda_l2 is set=0.00287751733880868, reg_lambda=0.0 will be ignored. Current value: lambda_l2=0.00287751733880868\n",
      "[LightGBM] [Warning] bagging_freq is set=2, subsample_freq=0 will be ignored. Current value: bagging_freq=2\n"
     ]
    },
    {
     "name": "stderr",
     "output_type": "stream",
     "text": [
      "\u001b[32m[I 2022-12-15 18:51:01,829]\u001b[0m Trial 3 finished with value: 0.7590864936755586 and parameters: {'lambda_l1': 3.4669676380158024e-06, 'lambda_l2': 0.00287751733880868, 'num_leaves': 50, 'feature_fraction': 0.42325565373157337, 'bagging_fraction': 0.9799662193284819, 'bagging_freq': 2, 'min_child_samples': 11}. Best is trial 0 with value: 0.7720157378336393.\u001b[0m\n"
     ]
    },
    {
     "name": "stdout",
     "output_type": "stream",
     "text": [
      "[LightGBM] [Warning] feature_fraction is set=0.41757967999122875, colsample_bytree=1.0 will be ignored. Current value: feature_fraction=0.41757967999122875\n",
      "[LightGBM] [Warning] lambda_l1 is set=0.0002521136935581783, reg_alpha=0.0 will be ignored. Current value: lambda_l1=0.0002521136935581783\n",
      "[LightGBM] [Warning] bagging_fraction is set=0.7407411479849748, subsample=1.0 will be ignored. Current value: bagging_fraction=0.7407411479849748\n",
      "[LightGBM] [Warning] lambda_l2 is set=0.10162621690857757, reg_lambda=0.0 will be ignored. Current value: lambda_l2=0.10162621690857757\n",
      "[LightGBM] [Warning] bagging_freq is set=1, subsample_freq=0 will be ignored. Current value: bagging_freq=1\n"
     ]
    },
    {
     "name": "stderr",
     "output_type": "stream",
     "text": [
      "\u001b[32m[I 2022-12-15 18:51:03,160]\u001b[0m Trial 4 finished with value: 0.7627574979561658 and parameters: {'lambda_l1': 0.0002521136935581783, 'lambda_l2': 0.10162621690857757, 'num_leaves': 220, 'feature_fraction': 0.41757967999122875, 'bagging_fraction': 0.7407411479849748, 'bagging_freq': 1, 'min_child_samples': 90}. Best is trial 0 with value: 0.7720157378336393.\u001b[0m\n"
     ]
    },
    {
     "name": "stdout",
     "output_type": "stream",
     "text": [
      "[LightGBM] [Warning] feature_fraction is set=0.9349832059903507, colsample_bytree=1.0 will be ignored. Current value: feature_fraction=0.9349832059903507\n",
      "[LightGBM] [Warning] lambda_l1 is set=0.0003732053922929046, reg_alpha=0.0 will be ignored. Current value: lambda_l1=0.0003732053922929046\n",
      "[LightGBM] [Warning] bagging_fraction is set=0.7961769878033156, subsample=1.0 will be ignored. Current value: bagging_fraction=0.7961769878033156\n",
      "[LightGBM] [Warning] lambda_l2 is set=3.427873328225747, reg_lambda=0.0 will be ignored. Current value: lambda_l2=3.427873328225747\n",
      "[LightGBM] [Warning] bagging_freq is set=3, subsample_freq=0 will be ignored. Current value: bagging_freq=3\n"
     ]
    },
    {
     "name": "stderr",
     "output_type": "stream",
     "text": [
      "\u001b[32m[I 2022-12-15 18:51:03,875]\u001b[0m Trial 5 finished with value: 0.7730691533669225 and parameters: {'lambda_l1': 0.0003732053922929046, 'lambda_l2': 3.427873328225747, 'num_leaves': 31, 'feature_fraction': 0.9349832059903507, 'bagging_fraction': 0.7961769878033156, 'bagging_freq': 3, 'min_child_samples': 61}. Best is trial 5 with value: 0.7730691533669225.\u001b[0m\n"
     ]
    },
    {
     "name": "stdout",
     "output_type": "stream",
     "text": [
      "[LightGBM] [Warning] feature_fraction is set=0.50251646884241, colsample_bytree=1.0 will be ignored. Current value: feature_fraction=0.50251646884241\n",
      "[LightGBM] [Warning] lambda_l1 is set=1.2183836406407462, reg_alpha=0.0 will be ignored. Current value: lambda_l1=1.2183836406407462\n",
      "[LightGBM] [Warning] bagging_fraction is set=0.7532248532274184, subsample=1.0 will be ignored. Current value: bagging_fraction=0.7532248532274184\n",
      "[LightGBM] [Warning] lambda_l2 is set=0.00038694134242734545, reg_lambda=0.0 will be ignored. Current value: lambda_l2=0.00038694134242734545\n",
      "[LightGBM] [Warning] bagging_freq is set=2, subsample_freq=0 will be ignored. Current value: bagging_freq=2\n"
     ]
    },
    {
     "name": "stderr",
     "output_type": "stream",
     "text": [
      "\u001b[32m[I 2022-12-15 18:51:04,918]\u001b[0m Trial 6 finished with value: 0.7646751336585955 and parameters: {'lambda_l1': 1.2183836406407462, 'lambda_l2': 0.00038694134242734545, 'num_leaves': 60, 'feature_fraction': 0.50251646884241, 'bagging_fraction': 0.7532248532274184, 'bagging_freq': 2, 'min_child_samples': 36}. Best is trial 5 with value: 0.7730691533669225.\u001b[0m\n"
     ]
    },
    {
     "name": "stdout",
     "output_type": "stream",
     "text": [
      "[LightGBM] [Warning] feature_fraction is set=0.81446136035442, colsample_bytree=1.0 will be ignored. Current value: feature_fraction=0.81446136035442\n",
      "[LightGBM] [Warning] lambda_l1 is set=0.0009240719231285304, reg_alpha=0.0 will be ignored. Current value: lambda_l1=0.0009240719231285304\n",
      "[LightGBM] [Warning] bagging_fraction is set=0.814276402810749, subsample=1.0 will be ignored. Current value: bagging_fraction=0.814276402810749\n",
      "[LightGBM] [Warning] lambda_l2 is set=6.75721656349328, reg_lambda=0.0 will be ignored. Current value: lambda_l2=6.75721656349328\n",
      "[LightGBM] [Warning] bagging_freq is set=1, subsample_freq=0 will be ignored. Current value: bagging_freq=1\n"
     ]
    },
    {
     "name": "stderr",
     "output_type": "stream",
     "text": [
      "\u001b[32m[I 2022-12-15 18:51:05,241]\u001b[0m Trial 7 finished with value: 0.7909243313375242 and parameters: {'lambda_l1': 0.0009240719231285304, 'lambda_l2': 6.75721656349328, 'num_leaves': 8, 'feature_fraction': 0.81446136035442, 'bagging_fraction': 0.814276402810749, 'bagging_freq': 1, 'min_child_samples': 42}. Best is trial 7 with value: 0.7909243313375242.\u001b[0m\n"
     ]
    },
    {
     "name": "stdout",
     "output_type": "stream",
     "text": [
      "[LightGBM] [Warning] feature_fraction is set=0.5379354446901716, colsample_bytree=1.0 will be ignored. Current value: feature_fraction=0.5379354446901716\n",
      "[LightGBM] [Warning] lambda_l1 is set=2.0194259361853073e-06, reg_alpha=0.0 will be ignored. Current value: lambda_l1=2.0194259361853073e-06\n",
      "[LightGBM] [Warning] bagging_fraction is set=0.5494301324326556, subsample=1.0 will be ignored. Current value: bagging_fraction=0.5494301324326556\n",
      "[LightGBM] [Warning] lambda_l2 is set=4.888202969390247, reg_lambda=0.0 will be ignored. Current value: lambda_l2=4.888202969390247\n",
      "[LightGBM] [Warning] bagging_freq is set=4, subsample_freq=0 will be ignored. Current value: bagging_freq=4\n"
     ]
    },
    {
     "name": "stderr",
     "output_type": "stream",
     "text": [
      "\u001b[32m[I 2022-12-15 18:51:06,764]\u001b[0m Trial 8 finished with value: 0.767937982166321 and parameters: {'lambda_l1': 2.0194259361853073e-06, 'lambda_l2': 4.888202969390247, 'num_leaves': 213, 'feature_fraction': 0.5379354446901716, 'bagging_fraction': 0.5494301324326556, 'bagging_freq': 4, 'min_child_samples': 55}. Best is trial 7 with value: 0.7909243313375242.\u001b[0m\n"
     ]
    },
    {
     "name": "stdout",
     "output_type": "stream",
     "text": [
      "[LightGBM] [Warning] feature_fraction is set=0.47752927993974653, colsample_bytree=1.0 will be ignored. Current value: feature_fraction=0.47752927993974653\n",
      "[LightGBM] [Warning] lambda_l1 is set=1.6947849895822253e-05, reg_alpha=0.0 will be ignored. Current value: lambda_l1=1.6947849895822253e-05\n",
      "[LightGBM] [Warning] bagging_fraction is set=0.7401244423781161, subsample=1.0 will be ignored. Current value: bagging_fraction=0.7401244423781161\n",
      "[LightGBM] [Warning] lambda_l2 is set=2.4888248169161127, reg_lambda=0.0 will be ignored. Current value: lambda_l2=2.4888248169161127\n",
      "[LightGBM] [Warning] bagging_freq is set=6, subsample_freq=0 will be ignored. Current value: bagging_freq=6\n"
     ]
    },
    {
     "name": "stderr",
     "output_type": "stream",
     "text": [
      "\u001b[32m[I 2022-12-15 18:51:08,903]\u001b[0m Trial 9 finished with value: 0.754188146073907 and parameters: {'lambda_l1': 1.6947849895822253e-05, 'lambda_l2': 2.4888248169161127, 'num_leaves': 245, 'feature_fraction': 0.47752927993974653, 'bagging_fraction': 0.7401244423781161, 'bagging_freq': 6, 'min_child_samples': 44}. Best is trial 7 with value: 0.7909243313375242.\u001b[0m\n"
     ]
    },
    {
     "name": "stdout",
     "output_type": "stream",
     "text": [
      "[LightGBM] [Warning] feature_fraction is set=0.8050287545874311, colsample_bytree=1.0 will be ignored. Current value: feature_fraction=0.8050287545874311\n",
      "[LightGBM] [Warning] lambda_l1 is set=1.861065614911919e-08, reg_alpha=0.0 will be ignored. Current value: lambda_l1=1.861065614911919e-08\n",
      "[LightGBM] [Warning] bagging_fraction is set=0.42047429272605885, subsample=1.0 will be ignored. Current value: bagging_fraction=0.42047429272605885\n",
      "[LightGBM] [Warning] lambda_l2 is set=1.0261877939472529e-07, reg_lambda=0.0 will be ignored. Current value: lambda_l2=1.0261877939472529e-07\n",
      "[LightGBM] [Warning] bagging_freq is set=1, subsample_freq=0 will be ignored. Current value: bagging_freq=1\n"
     ]
    },
    {
     "name": "stderr",
     "output_type": "stream",
     "text": [
      "\u001b[32m[I 2022-12-15 18:51:10,066]\u001b[0m Trial 10 finished with value: 0.7765033516167378 and parameters: {'lambda_l1': 1.861065614911919e-08, 'lambda_l2': 1.0261877939472529e-07, 'num_leaves': 133, 'feature_fraction': 0.8050287545874311, 'bagging_fraction': 0.42047429272605885, 'bagging_freq': 1, 'min_child_samples': 79}. Best is trial 7 with value: 0.7909243313375242.\u001b[0m\n"
     ]
    },
    {
     "name": "stdout",
     "output_type": "stream",
     "text": [
      "[LightGBM] [Warning] feature_fraction is set=0.8210135496312251, colsample_bytree=1.0 will be ignored. Current value: feature_fraction=0.8210135496312251\n",
      "[LightGBM] [Warning] lambda_l1 is set=2.3868731801841837e-08, reg_alpha=0.0 will be ignored. Current value: lambda_l1=2.3868731801841837e-08\n",
      "[LightGBM] [Warning] bagging_fraction is set=0.40002702893884223, subsample=1.0 will be ignored. Current value: bagging_fraction=0.40002702893884223\n",
      "[LightGBM] [Warning] lambda_l2 is set=3.582554426598959e-08, reg_lambda=0.0 will be ignored. Current value: lambda_l2=3.582554426598959e-08\n",
      "[LightGBM] [Warning] bagging_freq is set=1, subsample_freq=0 will be ignored. Current value: bagging_freq=1\n"
     ]
    },
    {
     "name": "stderr",
     "output_type": "stream",
     "text": [
      "\u001b[32m[I 2022-12-15 18:51:11,263]\u001b[0m Trial 11 finished with value: 0.7778100963022849 and parameters: {'lambda_l1': 2.3868731801841837e-08, 'lambda_l2': 3.582554426598959e-08, 'num_leaves': 132, 'feature_fraction': 0.8210135496312251, 'bagging_fraction': 0.40002702893884223, 'bagging_freq': 1, 'min_child_samples': 82}. Best is trial 7 with value: 0.7909243313375242.\u001b[0m\n"
     ]
    },
    {
     "name": "stdout",
     "output_type": "stream",
     "text": [
      "[LightGBM] [Warning] feature_fraction is set=0.7892636805362532, colsample_bytree=1.0 will be ignored. Current value: feature_fraction=0.7892636805362532\n",
      "[LightGBM] [Warning] lambda_l1 is set=0.05227008680212248, reg_alpha=0.0 will be ignored. Current value: lambda_l1=0.05227008680212248\n",
      "[LightGBM] [Warning] bagging_fraction is set=0.866055225491706, subsample=1.0 will be ignored. Current value: bagging_fraction=0.866055225491706\n",
      "[LightGBM] [Warning] lambda_l2 is set=1.2868372561697906e-07, reg_lambda=0.0 will be ignored. Current value: lambda_l2=1.2868372561697906e-07\n",
      "[LightGBM] [Warning] bagging_freq is set=1, subsample_freq=0 will be ignored. Current value: bagging_freq=1\n"
     ]
    },
    {
     "name": "stderr",
     "output_type": "stream",
     "text": [
      "\u001b[32m[I 2022-12-15 18:51:12,925]\u001b[0m Trial 12 finished with value: 0.7664337224658224 and parameters: {'lambda_l1': 0.05227008680212248, 'lambda_l2': 1.2868372561697906e-07, 'num_leaves': 127, 'feature_fraction': 0.7892636805362532, 'bagging_fraction': 0.866055225491706, 'bagging_freq': 1, 'min_child_samples': 99}. Best is trial 7 with value: 0.7909243313375242.\u001b[0m\n"
     ]
    },
    {
     "name": "stdout",
     "output_type": "stream",
     "text": [
      "[LightGBM] [Warning] feature_fraction is set=0.8241716395730663, colsample_bytree=1.0 will be ignored. Current value: feature_fraction=0.8241716395730663\n",
      "[LightGBM] [Warning] lambda_l1 is set=1.1324617650439915e-08, reg_alpha=0.0 will be ignored. Current value: lambda_l1=1.1324617650439915e-08\n",
      "[LightGBM] [Warning] bagging_fraction is set=0.6384738308291739, subsample=1.0 will be ignored. Current value: bagging_fraction=0.6384738308291739\n",
      "[LightGBM] [Warning] lambda_l2 is set=5.664190557742895e-06, reg_lambda=0.0 will be ignored. Current value: lambda_l2=5.664190557742895e-06\n",
      "[LightGBM] [Warning] bagging_freq is set=3, subsample_freq=0 will be ignored. Current value: bagging_freq=3\n"
     ]
    },
    {
     "name": "stderr",
     "output_type": "stream",
     "text": [
      "\u001b[32m[I 2022-12-15 18:51:14,565]\u001b[0m Trial 13 finished with value: 0.7737014331793293 and parameters: {'lambda_l1': 1.1324617650439915e-08, 'lambda_l2': 5.664190557742895e-06, 'num_leaves': 127, 'feature_fraction': 0.8241716395730663, 'bagging_fraction': 0.6384738308291739, 'bagging_freq': 3, 'min_child_samples': 71}. Best is trial 7 with value: 0.7909243313375242.\u001b[0m\n"
     ]
    },
    {
     "name": "stdout",
     "output_type": "stream",
     "text": [
      "[LightGBM] [Warning] feature_fraction is set=0.6913146495215396, colsample_bytree=1.0 will be ignored. Current value: feature_fraction=0.6913146495215396\n",
      "[LightGBM] [Warning] lambda_l1 is set=0.014109483893042413, reg_alpha=0.0 will be ignored. Current value: lambda_l1=0.014109483893042413\n",
      "[LightGBM] [Warning] bagging_fraction is set=0.42061723516425154, subsample=1.0 will be ignored. Current value: bagging_fraction=0.42061723516425154\n",
      "[LightGBM] [Warning] lambda_l2 is set=3.3262201613438575e-06, reg_lambda=0.0 will be ignored. Current value: lambda_l2=3.3262201613438575e-06\n",
      "[LightGBM] [Warning] bagging_freq is set=3, subsample_freq=0 will be ignored. Current value: bagging_freq=3\n"
     ]
    },
    {
     "name": "stderr",
     "output_type": "stream",
     "text": [
      "\u001b[32m[I 2022-12-15 18:51:15,970]\u001b[0m Trial 14 finished with value: 0.766195172599556 and parameters: {'lambda_l1': 0.014109483893042413, 'lambda_l2': 3.3262201613438575e-06, 'num_leaves': 160, 'feature_fraction': 0.6913146495215396, 'bagging_fraction': 0.42061723516425154, 'bagging_freq': 3, 'min_child_samples': 14}. Best is trial 7 with value: 0.7909243313375242.\u001b[0m\n"
     ]
    },
    {
     "name": "stdout",
     "output_type": "stream",
     "text": [
      "[LightGBM] [Warning] feature_fraction is set=0.8661258141977498, colsample_bytree=1.0 will be ignored. Current value: feature_fraction=0.8661258141977498\n",
      "[LightGBM] [Warning] lambda_l1 is set=8.3600986135819e-08, reg_alpha=0.0 will be ignored. Current value: lambda_l1=8.3600986135819e-08\n",
      "[LightGBM] [Warning] bagging_fraction is set=0.8344123946879398, subsample=1.0 will be ignored. Current value: bagging_fraction=0.8344123946879398\n",
      "[LightGBM] [Warning] lambda_l2 is set=7.18866927672458e-06, reg_lambda=0.0 will be ignored. Current value: lambda_l2=7.18866927672458e-06\n",
      "[LightGBM] [Warning] bagging_freq is set=4, subsample_freq=0 will be ignored. Current value: bagging_freq=4\n"
     ]
    },
    {
     "name": "stderr",
     "output_type": "stream",
     "text": [
      "\u001b[32m[I 2022-12-15 18:51:16,485]\u001b[0m Trial 15 finished with value: 0.7770019070125717 and parameters: {'lambda_l1': 8.3600986135819e-08, 'lambda_l2': 7.18866927672458e-06, 'num_leaves': 17, 'feature_fraction': 0.8661258141977498, 'bagging_fraction': 0.8344123946879398, 'bagging_freq': 4, 'min_child_samples': 25}. Best is trial 7 with value: 0.7909243313375242.\u001b[0m\n"
     ]
    },
    {
     "name": "stdout",
     "output_type": "stream",
     "text": [
      "[LightGBM] [Warning] feature_fraction is set=0.999134819448968, colsample_bytree=1.0 will be ignored. Current value: feature_fraction=0.999134819448968\n",
      "[LightGBM] [Warning] lambda_l1 is set=3.900385301947187e-07, reg_alpha=0.0 will be ignored. Current value: lambda_l1=3.900385301947187e-07\n",
      "[LightGBM] [Warning] bagging_fraction is set=0.6699608033315231, subsample=1.0 will be ignored. Current value: bagging_fraction=0.6699608033315231\n",
      "[LightGBM] [Warning] lambda_l2 is set=0.008850802204940564, reg_lambda=0.0 will be ignored. Current value: lambda_l2=0.008850802204940564\n",
      "[LightGBM] [Warning] bagging_freq is set=1, subsample_freq=0 will be ignored. Current value: bagging_freq=1\n"
     ]
    },
    {
     "name": "stderr",
     "output_type": "stream",
     "text": [
      "\u001b[32m[I 2022-12-15 18:51:17,933]\u001b[0m Trial 16 finished with value: 0.7665930447275515 and parameters: {'lambda_l1': 3.900385301947187e-07, 'lambda_l2': 0.008850802204940564, 'num_leaves': 98, 'feature_fraction': 0.999134819448968, 'bagging_fraction': 0.6699608033315231, 'bagging_freq': 1, 'min_child_samples': 70}. Best is trial 7 with value: 0.7909243313375242.\u001b[0m\n",
      "\u001b[32m[I 2022-12-15 18:51:18,191]\u001b[0m Trial 17 finished with value: 0.8022905592432766 and parameters: {'lambda_l1': 0.03430525603501319, 'lambda_l2': 2.2150469529945426e-08, 'num_leaves': 2, 'feature_fraction': 0.61877827369964, 'bagging_fraction': 0.5001351781202945, 'bagging_freq': 2, 'min_child_samples': 82}. Best is trial 17 with value: 0.8022905592432766.\u001b[0m\n"
     ]
    },
    {
     "name": "stdout",
     "output_type": "stream",
     "text": [
      "[LightGBM] [Warning] feature_fraction is set=0.61877827369964, colsample_bytree=1.0 will be ignored. Current value: feature_fraction=0.61877827369964\n",
      "[LightGBM] [Warning] lambda_l1 is set=0.03430525603501319, reg_alpha=0.0 will be ignored. Current value: lambda_l1=0.03430525603501319\n",
      "[LightGBM] [Warning] bagging_fraction is set=0.5001351781202945, subsample=1.0 will be ignored. Current value: bagging_fraction=0.5001351781202945\n",
      "[LightGBM] [Warning] lambda_l2 is set=2.2150469529945426e-08, reg_lambda=0.0 will be ignored. Current value: lambda_l2=2.2150469529945426e-08\n",
      "[LightGBM] [Warning] bagging_freq is set=2, subsample_freq=0 will be ignored. Current value: bagging_freq=2\n"
     ]
    },
    {
     "name": "stderr",
     "output_type": "stream",
     "text": [
      "\u001b[32m[I 2022-12-15 18:51:18,448]\u001b[0m Trial 18 finished with value: 0.802248982458427 and parameters: {'lambda_l1': 0.0862431802407741, 'lambda_l2': 6.0223591889251264e-05, 'num_leaves': 2, 'feature_fraction': 0.5908264749960053, 'bagging_fraction': 0.5027591350301815, 'bagging_freq': 2, 'min_child_samples': 62}. Best is trial 17 with value: 0.8022905592432766.\u001b[0m\n"
     ]
    },
    {
     "name": "stdout",
     "output_type": "stream",
     "text": [
      "[LightGBM] [Warning] feature_fraction is set=0.5908264749960053, colsample_bytree=1.0 will be ignored. Current value: feature_fraction=0.5908264749960053\n",
      "[LightGBM] [Warning] lambda_l1 is set=0.0862431802407741, reg_alpha=0.0 will be ignored. Current value: lambda_l1=0.0862431802407741\n",
      "[LightGBM] [Warning] bagging_fraction is set=0.5027591350301815, subsample=1.0 will be ignored. Current value: bagging_fraction=0.5027591350301815\n",
      "[LightGBM] [Warning] lambda_l2 is set=6.0223591889251264e-05, reg_lambda=0.0 will be ignored. Current value: lambda_l2=6.0223591889251264e-05\n",
      "[LightGBM] [Warning] bagging_freq is set=2, subsample_freq=0 will be ignored. Current value: bagging_freq=2\n",
      "[LightGBM] [Warning] feature_fraction is set=0.6102683125006841, colsample_bytree=1.0 will be ignored. Current value: feature_fraction=0.6102683125006841\n",
      "[LightGBM] [Warning] lambda_l1 is set=0.16952342090045736, reg_alpha=0.0 will be ignored. Current value: lambda_l1=0.16952342090045736\n",
      "[LightGBM] [Warning] bagging_fraction is set=0.516399207755715, subsample=1.0 will be ignored. Current value: bagging_fraction=0.516399207755715\n",
      "[LightGBM] [Warning] lambda_l2 is set=6.179553927399714e-05, reg_lambda=0.0 will be ignored. Current value: lambda_l2=6.179553927399714e-05\n",
      "[LightGBM] [Warning] bagging_freq is set=5, subsample_freq=0 will be ignored. Current value: bagging_freq=5\n"
     ]
    },
    {
     "name": "stderr",
     "output_type": "stream",
     "text": [
      "\u001b[32m[I 2022-12-15 18:51:18,780]\u001b[0m Trial 19 finished with value: 0.7963179937267381 and parameters: {'lambda_l1': 0.16952342090045736, 'lambda_l2': 6.179553927399714e-05, 'num_leaves': 6, 'feature_fraction': 0.6102683125006841, 'bagging_fraction': 0.516399207755715, 'bagging_freq': 5, 'min_child_samples': 64}. Best is trial 17 with value: 0.8022905592432766.\u001b[0m\n"
     ]
    },
    {
     "name": "stdout",
     "output_type": "stream",
     "text": [
      "[LightGBM] [Warning] feature_fraction is set=0.6260605914974222, colsample_bytree=1.0 will be ignored. Current value: feature_fraction=0.6260605914974222\n",
      "[LightGBM] [Warning] lambda_l1 is set=5.39873795975037, reg_alpha=0.0 will be ignored. Current value: lambda_l1=5.39873795975037\n",
      "[LightGBM] [Warning] bagging_fraction is set=0.48588206120294813, subsample=1.0 will be ignored. Current value: bagging_fraction=0.48588206120294813\n",
      "[LightGBM] [Warning] lambda_l2 is set=1.5462994605647305e-06, reg_lambda=0.0 will be ignored. Current value: lambda_l2=1.5462994605647305e-06\n",
      "[LightGBM] [Warning] bagging_freq is set=3, subsample_freq=0 will be ignored. Current value: bagging_freq=3\n"
     ]
    },
    {
     "name": "stderr",
     "output_type": "stream",
     "text": [
      "\u001b[32m[I 2022-12-15 18:51:19,503]\u001b[0m Trial 20 finished with value: 0.7838148845718811 and parameters: {'lambda_l1': 5.39873795975037, 'lambda_l2': 1.5462994605647305e-06, 'num_leaves': 37, 'feature_fraction': 0.6260605914974222, 'bagging_fraction': 0.48588206120294813, 'bagging_freq': 3, 'min_child_samples': 87}. Best is trial 17 with value: 0.8022905592432766.\u001b[0m\n",
      "\u001b[32m[I 2022-12-15 18:51:19,741]\u001b[0m Trial 21 finished with value: 0.800595361889237 and parameters: {'lambda_l1': 0.08823665004987445, 'lambda_l2': 5.8982639900425385e-05, 'num_leaves': 3, 'feature_fraction': 0.6137575111030517, 'bagging_fraction': 0.48766547719250497, 'bagging_freq': 5, 'min_child_samples': 64}. Best is trial 17 with value: 0.8022905592432766.\u001b[0m\n"
     ]
    },
    {
     "name": "stdout",
     "output_type": "stream",
     "text": [
      "[LightGBM] [Warning] feature_fraction is set=0.6137575111030517, colsample_bytree=1.0 will be ignored. Current value: feature_fraction=0.6137575111030517\n",
      "[LightGBM] [Warning] lambda_l1 is set=0.08823665004987445, reg_alpha=0.0 will be ignored. Current value: lambda_l1=0.08823665004987445\n",
      "[LightGBM] [Warning] bagging_fraction is set=0.48766547719250497, subsample=1.0 will be ignored. Current value: bagging_fraction=0.48766547719250497\n",
      "[LightGBM] [Warning] lambda_l2 is set=5.8982639900425385e-05, reg_lambda=0.0 will be ignored. Current value: lambda_l2=5.8982639900425385e-05\n",
      "[LightGBM] [Warning] bagging_freq is set=5, subsample_freq=0 will be ignored. Current value: bagging_freq=5\n",
      "[LightGBM] [Warning] feature_fraction is set=0.6306977321327898, colsample_bytree=1.0 will be ignored. Current value: feature_fraction=0.6306977321327898\n",
      "[LightGBM] [Warning] lambda_l1 is set=0.011294141142875833, reg_alpha=0.0 will be ignored. Current value: lambda_l1=0.011294141142875833\n",
      "[LightGBM] [Warning] bagging_fraction is set=0.4684694322769757, subsample=1.0 will be ignored. Current value: bagging_fraction=0.4684694322769757\n",
      "[LightGBM] [Warning] lambda_l2 is set=0.00012600126609294056, reg_lambda=0.0 will be ignored. Current value: lambda_l2=0.00012600126609294056\n",
      "[LightGBM] [Warning] bagging_freq is set=5, subsample_freq=0 will be ignored. Current value: bagging_freq=5\n"
     ]
    },
    {
     "name": "stderr",
     "output_type": "stream",
     "text": [
      "\u001b[32m[I 2022-12-15 18:51:20,342]\u001b[0m Trial 22 finished with value: 0.7826164944949394 and parameters: {'lambda_l1': 0.011294141142875833, 'lambda_l2': 0.00012600126609294056, 'num_leaves': 29, 'feature_fraction': 0.6306977321327898, 'bagging_fraction': 0.4684694322769757, 'bagging_freq': 5, 'min_child_samples': 76}. Best is trial 17 with value: 0.8022905592432766.\u001b[0m\n"
     ]
    },
    {
     "name": "stdout",
     "output_type": "stream",
     "text": [
      "[LightGBM] [Warning] feature_fraction is set=0.7464372354924906, colsample_bytree=1.0 will be ignored. Current value: feature_fraction=0.7464372354924906\n",
      "[LightGBM] [Warning] lambda_l1 is set=0.3329305774360476, reg_alpha=0.0 will be ignored. Current value: lambda_l1=0.3329305774360476\n",
      "[LightGBM] [Warning] bagging_fraction is set=0.5815244530017076, subsample=1.0 will be ignored. Current value: bagging_fraction=0.5815244530017076\n",
      "[LightGBM] [Warning] lambda_l2 is set=6.400428985403004e-07, reg_lambda=0.0 will be ignored. Current value: lambda_l2=6.400428985403004e-07\n",
      "[LightGBM] [Warning] bagging_freq is set=4, subsample_freq=0 will be ignored. Current value: bagging_freq=4\n"
     ]
    },
    {
     "name": "stderr",
     "output_type": "stream",
     "text": [
      "\u001b[32m[I 2022-12-15 18:51:20,664]\u001b[0m Trial 23 finished with value: 0.7989928082806839 and parameters: {'lambda_l1': 0.3329305774360476, 'lambda_l2': 6.400428985403004e-07, 'num_leaves': 4, 'feature_fraction': 0.7464372354924906, 'bagging_fraction': 0.5815244530017076, 'bagging_freq': 4, 'min_child_samples': 58}. Best is trial 17 with value: 0.8022905592432766.\u001b[0m\n"
     ]
    },
    {
     "name": "stdout",
     "output_type": "stream",
     "text": [
      "[LightGBM] [Warning] feature_fraction is set=0.5809339329494899, colsample_bytree=1.0 will be ignored. Current value: feature_fraction=0.5809339329494899\n",
      "[LightGBM] [Warning] lambda_l1 is set=0.007821071279746142, reg_alpha=0.0 will be ignored. Current value: lambda_l1=0.007821071279746142\n",
      "[LightGBM] [Warning] bagging_fraction is set=0.4809962994445632, subsample=1.0 will be ignored. Current value: bagging_fraction=0.4809962994445632\n",
      "[LightGBM] [Warning] lambda_l2 is set=2.149360903247633e-05, reg_lambda=0.0 will be ignored. Current value: lambda_l2=2.149360903247633e-05\n",
      "[LightGBM] [Warning] bagging_freq is set=6, subsample_freq=0 will be ignored. Current value: bagging_freq=6\n"
     ]
    },
    {
     "name": "stderr",
     "output_type": "stream",
     "text": [
      "\u001b[32m[I 2022-12-15 18:51:21,813]\u001b[0m Trial 24 finished with value: 0.7686094963530263 and parameters: {'lambda_l1': 0.007821071279746142, 'lambda_l2': 2.149360903247633e-05, 'num_leaves': 81, 'feature_fraction': 0.5809339329494899, 'bagging_fraction': 0.4809962994445632, 'bagging_freq': 6, 'min_child_samples': 67}. Best is trial 17 with value: 0.8022905592432766.\u001b[0m\n"
     ]
    },
    {
     "name": "stdout",
     "output_type": "stream",
     "text": [
      "[LightGBM] [Warning] feature_fraction is set=0.6652567241125324, colsample_bytree=1.0 will be ignored. Current value: feature_fraction=0.6652567241125324\n",
      "[LightGBM] [Warning] lambda_l1 is set=0.077582381944296, reg_alpha=0.0 will be ignored. Current value: lambda_l1=0.077582381944296\n",
      "[LightGBM] [Warning] bagging_fraction is set=0.6291864408073811, subsample=1.0 will be ignored. Current value: bagging_fraction=0.6291864408073811\n",
      "[LightGBM] [Warning] lambda_l2 is set=1.2417898964500283e-08, reg_lambda=0.0 will be ignored. Current value: lambda_l2=1.2417898964500283e-08\n",
      "[LightGBM] [Warning] bagging_freq is set=2, subsample_freq=0 will be ignored. Current value: bagging_freq=2\n"
     ]
    },
    {
     "name": "stderr",
     "output_type": "stream",
     "text": [
      "\u001b[32m[I 2022-12-15 18:51:22,621]\u001b[0m Trial 25 finished with value: 0.7749488873425598 and parameters: {'lambda_l1': 0.077582381944296, 'lambda_l2': 1.2417898964500283e-08, 'num_leaves': 44, 'feature_fraction': 0.6652567241125324, 'bagging_fraction': 0.6291864408073811, 'bagging_freq': 2, 'min_child_samples': 99}. Best is trial 17 with value: 0.8022905592432766.\u001b[0m\n"
     ]
    },
    {
     "name": "stdout",
     "output_type": "stream",
     "text": [
      "[LightGBM] [Warning] feature_fraction is set=0.5122170540071678, colsample_bytree=1.0 will be ignored. Current value: feature_fraction=0.5122170540071678\n",
      "[LightGBM] [Warning] lambda_l1 is set=7.397704030825397, reg_alpha=0.0 will be ignored. Current value: lambda_l1=7.397704030825397\n",
      "[LightGBM] [Warning] bagging_fraction is set=0.5239381139716371, subsample=1.0 will be ignored. Current value: bagging_fraction=0.5239381139716371\n",
      "[LightGBM] [Warning] lambda_l2 is set=0.0012148326116533438, reg_lambda=0.0 will be ignored. Current value: lambda_l2=0.0012148326116533438\n",
      "[LightGBM] [Warning] bagging_freq is set=6, subsample_freq=0 will be ignored. Current value: bagging_freq=6\n"
     ]
    },
    {
     "name": "stderr",
     "output_type": "stream",
     "text": [
      "\u001b[32m[I 2022-12-15 18:51:23,163]\u001b[0m Trial 26 finished with value: 0.790742503291143 and parameters: {'lambda_l1': 7.397704030825397, 'lambda_l2': 0.0012148326116533438, 'num_leaves': 23, 'feature_fraction': 0.5122170540071678, 'bagging_fraction': 0.5239381139716371, 'bagging_freq': 6, 'min_child_samples': 89}. Best is trial 17 with value: 0.8022905592432766.\u001b[0m\n"
     ]
    },
    {
     "name": "stdout",
     "output_type": "stream",
     "text": [
      "[LightGBM] [Warning] feature_fraction is set=0.7247850231615787, colsample_bytree=1.0 will be ignored. Current value: feature_fraction=0.7247850231615787\n",
      "[LightGBM] [Warning] lambda_l1 is set=0.04010725419795958, reg_alpha=0.0 will be ignored. Current value: lambda_l1=0.04010725419795958\n",
      "[LightGBM] [Warning] bagging_fraction is set=0.44805552585470365, subsample=1.0 will be ignored. Current value: bagging_fraction=0.44805552585470365\n",
      "[LightGBM] [Warning] lambda_l2 is set=0.01632759533542642, reg_lambda=0.0 will be ignored. Current value: lambda_l2=0.01632759533542642\n",
      "[LightGBM] [Warning] bagging_freq is set=4, subsample_freq=0 will be ignored. Current value: bagging_freq=4\n"
     ]
    },
    {
     "name": "stderr",
     "output_type": "stream",
     "text": [
      "\u001b[32m[I 2022-12-15 18:51:24,102]\u001b[0m Trial 27 finished with value: 0.7784798692103487 and parameters: {'lambda_l1': 0.04010725419795958, 'lambda_l2': 0.01632759533542642, 'num_leaves': 64, 'feature_fraction': 0.7247850231615787, 'bagging_fraction': 0.44805552585470365, 'bagging_freq': 4, 'min_child_samples': 72}. Best is trial 17 with value: 0.8022905592432766.\u001b[0m\n"
     ]
    },
    {
     "name": "stdout",
     "output_type": "stream",
     "text": [
      "[LightGBM] [Warning] feature_fraction is set=0.5760521701397345, colsample_bytree=1.0 will be ignored. Current value: feature_fraction=0.5760521701397345\n",
      "[LightGBM] [Warning] lambda_l1 is set=0.004101655225065596, reg_alpha=0.0 will be ignored. Current value: lambda_l1=0.004101655225065596\n",
      "[LightGBM] [Warning] bagging_fraction is set=0.6886800567565232, subsample=1.0 will be ignored. Current value: bagging_fraction=0.6886800567565232\n",
      "[LightGBM] [Warning] lambda_l2 is set=4.908187250184218e-07, reg_lambda=0.0 will be ignored. Current value: lambda_l2=4.908187250184218e-07\n",
      "[LightGBM] [Warning] bagging_freq is set=2, subsample_freq=0 will be ignored. Current value: bagging_freq=2\n"
     ]
    },
    {
     "name": "stderr",
     "output_type": "stream",
     "text": [
      "\u001b[32m[I 2022-12-15 18:51:25,667]\u001b[0m Trial 28 finished with value: 0.762500547487926 and parameters: {'lambda_l1': 0.004101655225065596, 'lambda_l2': 4.908187250184218e-07, 'num_leaves': 97, 'feature_fraction': 0.5760521701397345, 'bagging_fraction': 0.6886800567565232, 'bagging_freq': 2, 'min_child_samples': 52}. Best is trial 17 with value: 0.8022905592432766.\u001b[0m\n"
     ]
    },
    {
     "name": "stdout",
     "output_type": "stream",
     "text": [
      "[LightGBM] [Warning] feature_fraction is set=0.4669527319978215, colsample_bytree=1.0 will be ignored. Current value: feature_fraction=0.4669527319978215\n",
      "[LightGBM] [Warning] lambda_l1 is set=7.987704926928166e-05, reg_alpha=0.0 will be ignored. Current value: lambda_l1=7.987704926928166e-05\n",
      "[LightGBM] [Warning] bagging_fraction is set=0.568219167382087, subsample=1.0 will be ignored. Current value: bagging_fraction=0.568219167382087\n",
      "[LightGBM] [Warning] lambda_l2 is set=2.2467098114519307e-05, reg_lambda=0.0 will be ignored. Current value: lambda_l2=2.2467098114519307e-05\n",
      "[LightGBM] [Warning] bagging_freq is set=5, subsample_freq=0 will be ignored. Current value: bagging_freq=5\n"
     ]
    },
    {
     "name": "stderr",
     "output_type": "stream",
     "text": [
      "\u001b[32m[I 2022-12-15 18:51:26,268]\u001b[0m Trial 29 finished with value: 0.7840299452729602 and parameters: {'lambda_l1': 7.987704926928166e-05, 'lambda_l2': 2.2467098114519307e-05, 'num_leaves': 21, 'feature_fraction': 0.4669527319978215, 'bagging_fraction': 0.568219167382087, 'bagging_freq': 5, 'min_child_samples': 83}. Best is trial 17 with value: 0.8022905592432766.\u001b[0m\n"
     ]
    },
    {
     "name": "stdout",
     "output_type": "stream",
     "text": [
      "[LightGBM] [Warning] feature_fraction is set=0.6597059705588689, colsample_bytree=1.0 will be ignored. Current value: feature_fraction=0.6597059705588689\n",
      "[LightGBM] [Warning] lambda_l1 is set=0.6952524378237971, reg_alpha=0.0 will be ignored. Current value: lambda_l1=0.6952524378237971\n",
      "[LightGBM] [Warning] bagging_fraction is set=0.5192277564468468, subsample=1.0 will be ignored. Current value: bagging_fraction=0.5192277564468468\n",
      "[LightGBM] [Warning] lambda_l2 is set=0.0003622159619703267, reg_lambda=0.0 will be ignored. Current value: lambda_l2=0.0003622159619703267\n",
      "[LightGBM] [Warning] bagging_freq is set=4, subsample_freq=0 will be ignored. Current value: bagging_freq=4\n"
     ]
    },
    {
     "name": "stderr",
     "output_type": "stream",
     "text": [
      "\u001b[32m[I 2022-12-15 18:51:27,539]\u001b[0m Trial 30 finished with value: 0.7721796529608255 and parameters: {'lambda_l1': 0.6952524378237971, 'lambda_l2': 0.0003622159619703267, 'num_leaves': 165, 'feature_fraction': 0.6597059705588689, 'bagging_fraction': 0.5192277564468468, 'bagging_freq': 4, 'min_child_samples': 62}. Best is trial 17 with value: 0.8022905592432766.\u001b[0m\n"
     ]
    },
    {
     "name": "stdout",
     "output_type": "stream",
     "text": [
      "[LightGBM] [Warning] feature_fraction is set=0.7473179375015856, colsample_bytree=1.0 will be ignored. Current value: feature_fraction=0.7473179375015856\n",
      "[LightGBM] [Warning] lambda_l1 is set=0.23431337577392752, reg_alpha=0.0 will be ignored. Current value: lambda_l1=0.23431337577392752\n",
      "[LightGBM] [Warning] bagging_fraction is set=0.5891474462226366, subsample=1.0 will be ignored. Current value: bagging_fraction=0.5891474462226366\n",
      "[LightGBM] [Warning] lambda_l2 is set=2.285262498072875e-07, reg_lambda=0.0 will be ignored. Current value: lambda_l2=2.285262498072875e-07\n",
      "[LightGBM] [Warning] bagging_freq is set=3, subsample_freq=0 will be ignored. Current value: bagging_freq=3\n"
     ]
    },
    {
     "name": "stderr",
     "output_type": "stream",
     "text": [
      "\u001b[32m[I 2022-12-15 18:51:27,878]\u001b[0m Trial 31 finished with value: 0.7969644638212776 and parameters: {'lambda_l1': 0.23431337577392752, 'lambda_l2': 2.285262498072875e-07, 'num_leaves': 5, 'feature_fraction': 0.7473179375015856, 'bagging_fraction': 0.5891474462226366, 'bagging_freq': 3, 'min_child_samples': 56}. Best is trial 17 with value: 0.8022905592432766.\u001b[0m\n",
      "\u001b[32m[I 2022-12-15 18:51:28,113]\u001b[0m Trial 32 finished with value: 0.8004026353282552 and parameters: {'lambda_l1': 0.3325514727216603, 'lambda_l2': 1.196437486975511e-06, 'num_leaves': 3, 'feature_fraction': 0.7451936843814382, 'bagging_fraction': 0.5522322322309956, 'bagging_freq': 7, 'min_child_samples': 59}. Best is trial 17 with value: 0.8022905592432766.\u001b[0m\n"
     ]
    },
    {
     "name": "stdout",
     "output_type": "stream",
     "text": [
      "[LightGBM] [Warning] feature_fraction is set=0.7451936843814382, colsample_bytree=1.0 will be ignored. Current value: feature_fraction=0.7451936843814382\n",
      "[LightGBM] [Warning] lambda_l1 is set=0.3325514727216603, reg_alpha=0.0 will be ignored. Current value: lambda_l1=0.3325514727216603\n",
      "[LightGBM] [Warning] bagging_fraction is set=0.5522322322309956, subsample=1.0 will be ignored. Current value: bagging_fraction=0.5522322322309956\n",
      "[LightGBM] [Warning] lambda_l2 is set=1.196437486975511e-06, reg_lambda=0.0 will be ignored. Current value: lambda_l2=1.196437486975511e-06\n",
      "[LightGBM] [Warning] bagging_freq is set=7, subsample_freq=0 will be ignored. Current value: bagging_freq=7\n",
      "[LightGBM] [Warning] feature_fraction is set=0.5983265277035534, colsample_bytree=1.0 will be ignored. Current value: feature_fraction=0.5983265277035534\n",
      "[LightGBM] [Warning] lambda_l1 is set=1.046622542497851, reg_alpha=0.0 will be ignored. Current value: lambda_l1=1.046622542497851\n",
      "[LightGBM] [Warning] bagging_fraction is set=0.5340516737467553, subsample=1.0 will be ignored. Current value: bagging_fraction=0.5340516737467553\n",
      "[LightGBM] [Warning] lambda_l2 is set=1.0411828401159935e-08, reg_lambda=0.0 will be ignored. Current value: lambda_l2=1.0411828401159935e-08\n",
      "[LightGBM] [Warning] bagging_freq is set=7, subsample_freq=0 will be ignored. Current value: bagging_freq=7\n"
     ]
    },
    {
     "name": "stderr",
     "output_type": "stream",
     "text": [
      "\u001b[32m[I 2022-12-15 18:51:28,914]\u001b[0m Trial 33 finished with value: 0.7721471755201648 and parameters: {'lambda_l1': 1.046622542497851, 'lambda_l2': 1.0411828401159935e-08, 'num_leaves': 47, 'feature_fraction': 0.5983265277035534, 'bagging_fraction': 0.5340516737467553, 'bagging_freq': 7, 'min_child_samples': 48}. Best is trial 17 with value: 0.8022905592432766.\u001b[0m\n"
     ]
    },
    {
     "name": "stdout",
     "output_type": "stream",
     "text": [
      "[LightGBM] [Warning] feature_fraction is set=0.6553043579552859, colsample_bytree=1.0 will be ignored. Current value: feature_fraction=0.6553043579552859\n",
      "[LightGBM] [Warning] lambda_l1 is set=3.173378225515395, reg_alpha=0.0 will be ignored. Current value: lambda_l1=3.173378225515395\n",
      "[LightGBM] [Warning] bagging_fraction is set=0.48911174964981896, subsample=1.0 will be ignored. Current value: bagging_fraction=0.48911174964981896\n",
      "[LightGBM] [Warning] lambda_l2 is set=2.1792156688078193e-05, reg_lambda=0.0 will be ignored. Current value: lambda_l2=2.1792156688078193e-05\n",
      "[LightGBM] [Warning] bagging_freq is set=6, subsample_freq=0 will be ignored. Current value: bagging_freq=6\n"
     ]
    },
    {
     "name": "stderr",
     "output_type": "stream",
     "text": [
      "\u001b[32m[I 2022-12-15 18:51:29,474]\u001b[0m Trial 34 finished with value: 0.7849412558536032 and parameters: {'lambda_l1': 3.173378225515395, 'lambda_l2': 2.1792156688078193e-05, 'num_leaves': 22, 'feature_fraction': 0.6553043579552859, 'bagging_fraction': 0.48911174964981896, 'bagging_freq': 6, 'min_child_samples': 74}. Best is trial 17 with value: 0.8022905592432766.\u001b[0m\n"
     ]
    },
    {
     "name": "stdout",
     "output_type": "stream",
     "text": [
      "[LightGBM] [Warning] feature_fraction is set=0.5513361788561102, colsample_bytree=1.0 will be ignored. Current value: feature_fraction=0.5513361788561102\n",
      "[LightGBM] [Warning] lambda_l1 is set=0.028109433970390917, reg_alpha=0.0 will be ignored. Current value: lambda_l1=0.028109433970390917\n",
      "[LightGBM] [Warning] bagging_fraction is set=0.4481162424552184, subsample=1.0 will be ignored. Current value: bagging_fraction=0.4481162424552184\n",
      "[LightGBM] [Warning] lambda_l2 is set=2.090057649933327e-06, reg_lambda=0.0 will be ignored. Current value: lambda_l2=2.090057649933327e-06\n",
      "[LightGBM] [Warning] bagging_freq is set=7, subsample_freq=0 will be ignored. Current value: bagging_freq=7\n"
     ]
    },
    {
     "name": "stderr",
     "output_type": "stream",
     "text": [
      "\u001b[32m[I 2022-12-15 18:51:30,547]\u001b[0m Trial 35 finished with value: 0.776173050074382 and parameters: {'lambda_l1': 0.028109433970390917, 'lambda_l2': 2.090057649933327e-06, 'num_leaves': 68, 'feature_fraction': 0.5513361788561102, 'bagging_fraction': 0.4481162424552184, 'bagging_freq': 7, 'min_child_samples': 66}. Best is trial 17 with value: 0.8022905592432766.\u001b[0m\n"
     ]
    },
    {
     "name": "stdout",
     "output_type": "stream",
     "text": [
      "[LightGBM] [Warning] feature_fraction is set=0.707107413770959, colsample_bytree=1.0 will be ignored. Current value: feature_fraction=0.707107413770959\n",
      "[LightGBM] [Warning] lambda_l1 is set=0.1325061284588082, reg_alpha=0.0 will be ignored. Current value: lambda_l1=0.1325061284588082\n",
      "[LightGBM] [Warning] bagging_fraction is set=0.605818069916373, subsample=1.0 will be ignored. Current value: bagging_fraction=0.605818069916373\n",
      "[LightGBM] [Warning] lambda_l2 is set=8.961583744278789e-05, reg_lambda=0.0 will be ignored. Current value: lambda_l2=8.961583744278789e-05\n",
      "[LightGBM] [Warning] bagging_freq is set=7, subsample_freq=0 will be ignored. Current value: bagging_freq=7\n"
     ]
    },
    {
     "name": "stderr",
     "output_type": "stream",
     "text": [
      "\u001b[32m[I 2022-12-15 18:51:31,340]\u001b[0m Trial 36 finished with value: 0.7701195276314502 and parameters: {'lambda_l1': 0.1325061284588082, 'lambda_l2': 8.961583744278789e-05, 'num_leaves': 41, 'feature_fraction': 0.707107413770959, 'bagging_fraction': 0.605818069916373, 'bagging_freq': 7, 'min_child_samples': 35}. Best is trial 17 with value: 0.8022905592432766.\u001b[0m\n"
     ]
    },
    {
     "name": "stdout",
     "output_type": "stream",
     "text": [
      "[LightGBM] [Warning] feature_fraction is set=0.7720987796052607, colsample_bytree=1.0 will be ignored. Current value: feature_fraction=0.7720987796052607\n",
      "[LightGBM] [Warning] lambda_l1 is set=2.1530135872773863, reg_alpha=0.0 will be ignored. Current value: lambda_l1=2.1530135872773863\n",
      "[LightGBM] [Warning] bagging_fraction is set=0.5478393723438637, subsample=1.0 will be ignored. Current value: bagging_fraction=0.5478393723438637\n",
      "[LightGBM] [Warning] lambda_l2 is set=0.0015281228878248482, reg_lambda=0.0 will be ignored. Current value: lambda_l2=0.0015281228878248482\n",
      "[LightGBM] [Warning] bagging_freq is set=2, subsample_freq=0 will be ignored. Current value: bagging_freq=2\n"
     ]
    },
    {
     "name": "stderr",
     "output_type": "stream",
     "text": [
      "\u001b[32m[I 2022-12-15 18:51:32,347]\u001b[0m Trial 37 finished with value: 0.7735875820457455 and parameters: {'lambda_l1': 2.1530135872773863, 'lambda_l2': 0.0015281228878248482, 'num_leaves': 55, 'feature_fraction': 0.7720987796052607, 'bagging_fraction': 0.5478393723438637, 'bagging_freq': 2, 'min_child_samples': 48}. Best is trial 17 with value: 0.8022905592432766.\u001b[0m\n",
      "\u001b[32m[I 2022-12-15 18:51:32,587]\u001b[0m Trial 38 finished with value: 0.8018202696957937 and parameters: {'lambda_l1': 0.0012099908988553489, 'lambda_l2': 3.656634648982239e-08, 'num_leaves': 2, 'feature_fraction': 0.6396542076677577, 'bagging_fraction': 0.9967228117017704, 'bagging_freq': 5, 'min_child_samples': 93}. Best is trial 17 with value: 0.8022905592432766.\u001b[0m\n"
     ]
    },
    {
     "name": "stdout",
     "output_type": "stream",
     "text": [
      "[LightGBM] [Warning] feature_fraction is set=0.6396542076677577, colsample_bytree=1.0 will be ignored. Current value: feature_fraction=0.6396542076677577\n",
      "[LightGBM] [Warning] lambda_l1 is set=0.0012099908988553489, reg_alpha=0.0 will be ignored. Current value: lambda_l1=0.0012099908988553489\n",
      "[LightGBM] [Warning] bagging_fraction is set=0.9967228117017704, subsample=1.0 will be ignored. Current value: bagging_fraction=0.9967228117017704\n",
      "[LightGBM] [Warning] lambda_l2 is set=3.656634648982239e-08, reg_lambda=0.0 will be ignored. Current value: lambda_l2=3.656634648982239e-08\n",
      "[LightGBM] [Warning] bagging_freq is set=5, subsample_freq=0 will be ignored. Current value: bagging_freq=5\n",
      "[LightGBM] [Warning] feature_fraction is set=0.5230746901991384, colsample_bytree=1.0 will be ignored. Current value: feature_fraction=0.5230746901991384\n",
      "[LightGBM] [Warning] lambda_l1 is set=0.0023613088446970965, reg_alpha=0.0 will be ignored. Current value: lambda_l1=0.0023613088446970965\n",
      "[LightGBM] [Warning] bagging_fraction is set=0.9433411157536272, subsample=1.0 will be ignored. Current value: bagging_fraction=0.9433411157536272\n",
      "[LightGBM] [Warning] lambda_l2 is set=4.55314869865808e-08, reg_lambda=0.0 will be ignored. Current value: lambda_l2=4.55314869865808e-08\n",
      "[LightGBM] [Warning] bagging_freq is set=5, subsample_freq=0 will be ignored. Current value: bagging_freq=5\n"
     ]
    },
    {
     "name": "stderr",
     "output_type": "stream",
     "text": [
      "\u001b[32m[I 2022-12-15 18:51:33,880]\u001b[0m Trial 39 finished with value: 0.7615048359193208 and parameters: {'lambda_l1': 0.0023613088446970965, 'lambda_l2': 4.55314869865808e-08, 'num_leaves': 77, 'feature_fraction': 0.5230746901991384, 'bagging_fraction': 0.9433411157536272, 'bagging_freq': 5, 'min_child_samples': 96}. Best is trial 17 with value: 0.8022905592432766.\u001b[0m\n"
     ]
    },
    {
     "name": "stdout",
     "output_type": "stream",
     "text": [
      "[LightGBM] [Warning] feature_fraction is set=0.6329157742216821, colsample_bytree=1.0 will be ignored. Current value: feature_fraction=0.6329157742216821\n",
      "[LightGBM] [Warning] lambda_l1 is set=0.0008697613292991712, reg_alpha=0.0 will be ignored. Current value: lambda_l1=0.0008697613292991712\n",
      "[LightGBM] [Warning] bagging_fraction is set=0.894888943675737, subsample=1.0 will be ignored. Current value: bagging_fraction=0.894888943675737\n",
      "[LightGBM] [Warning] lambda_l2 is set=0.1685985993544566, reg_lambda=0.0 will be ignored. Current value: lambda_l2=0.1685985993544566\n",
      "[LightGBM] [Warning] bagging_freq is set=5, subsample_freq=0 will be ignored. Current value: bagging_freq=5\n"
     ]
    },
    {
     "name": "stderr",
     "output_type": "stream",
     "text": [
      "\u001b[32m[I 2022-12-15 18:51:34,555]\u001b[0m Trial 40 finished with value: 0.7718930781612171 and parameters: {'lambda_l1': 0.0008697613292991712, 'lambda_l2': 0.1685985993544566, 'num_leaves': 31, 'feature_fraction': 0.6329157742216821, 'bagging_fraction': 0.894888943675737, 'bagging_freq': 5, 'min_child_samples': 94}. Best is trial 17 with value: 0.8022905592432766.\u001b[0m\n"
     ]
    },
    {
     "name": "stdout",
     "output_type": "stream",
     "text": [
      "[LightGBM] [Warning] feature_fraction is set=0.6967919613912686, colsample_bytree=1.0 will be ignored. Current value: feature_fraction=0.6967919613912686\n",
      "[LightGBM] [Warning] lambda_l1 is set=0.00016888129214634375, reg_alpha=0.0 will be ignored. Current value: lambda_l1=0.00016888129214634375\n",
      "[LightGBM] [Warning] bagging_fraction is set=0.4935818506726224, subsample=1.0 will be ignored. Current value: bagging_fraction=0.4935818506726224\n",
      "[LightGBM] [Warning] lambda_l2 is set=8.645721436513003e-07, reg_lambda=0.0 will be ignored. Current value: lambda_l2=8.645721436513003e-07\n",
      "[LightGBM] [Warning] bagging_freq is set=6, subsample_freq=0 will be ignored. Current value: bagging_freq=6\n"
     ]
    },
    {
     "name": "stderr",
     "output_type": "stream",
     "text": [
      "\u001b[32m[I 2022-12-15 18:51:34,975]\u001b[0m Trial 41 finished with value: 0.7912148974174424 and parameters: {'lambda_l1': 0.00016888129214634375, 'lambda_l2': 8.645721436513003e-07, 'num_leaves': 14, 'feature_fraction': 0.6967919613912686, 'bagging_fraction': 0.4935818506726224, 'bagging_freq': 6, 'min_child_samples': 84}. Best is trial 17 with value: 0.8022905592432766.\u001b[0m\n"
     ]
    },
    {
     "name": "stdout",
     "output_type": "stream",
     "text": [
      "[LightGBM] [Warning] feature_fraction is set=0.5648195804478641, colsample_bytree=1.0 will be ignored. Current value: feature_fraction=0.5648195804478641\n",
      "[LightGBM] [Warning] lambda_l1 is set=0.4235685609942681, reg_alpha=0.0 will be ignored. Current value: lambda_l1=0.4235685609942681\n",
      "[LightGBM] [Warning] bagging_fraction is set=0.9925556275830645, subsample=1.0 will be ignored. Current value: bagging_fraction=0.9925556275830645\n",
      "[LightGBM] [Warning] lambda_l2 is set=3.000430497247025e-08, reg_lambda=0.0 will be ignored. Current value: lambda_l2=3.000430497247025e-08\n",
      "[LightGBM] [Warning] bagging_freq is set=2, subsample_freq=0 will be ignored. Current value: bagging_freq=2\n"
     ]
    },
    {
     "name": "stderr",
     "output_type": "stream",
     "text": [
      "\u001b[32m[I 2022-12-15 18:51:35,272]\u001b[0m Trial 42 finished with value: 0.7984261788156837 and parameters: {'lambda_l1': 0.4235685609942681, 'lambda_l2': 3.000430497247025e-08, 'num_leaves': 4, 'feature_fraction': 0.5648195804478641, 'bagging_fraction': 0.9925556275830645, 'bagging_freq': 2, 'min_child_samples': 92}. Best is trial 17 with value: 0.8022905592432766.\u001b[0m\n"
     ]
    },
    {
     "name": "stdout",
     "output_type": "stream",
     "text": [
      "[LightGBM] [Warning] feature_fraction is set=0.5977202632945693, colsample_bytree=1.0 will be ignored. Current value: feature_fraction=0.5977202632945693\n",
      "[LightGBM] [Warning] lambda_l1 is set=0.023651211212001394, reg_alpha=0.0 will be ignored. Current value: lambda_l1=0.023651211212001394\n",
      "[LightGBM] [Warning] bagging_fraction is set=0.4401872415222018, subsample=1.0 will be ignored. Current value: bagging_fraction=0.4401872415222018\n",
      "[LightGBM] [Warning] lambda_l2 is set=2.5267338686032967e-07, reg_lambda=0.0 will be ignored. Current value: lambda_l2=2.5267338686032967e-07\n",
      "[LightGBM] [Warning] bagging_freq is set=3, subsample_freq=0 will be ignored. Current value: bagging_freq=3\n"
     ]
    },
    {
     "name": "stderr",
     "output_type": "stream",
     "text": [
      "\u001b[32m[I 2022-12-15 18:51:35,741]\u001b[0m Trial 43 finished with value: 0.7881813504764515 and parameters: {'lambda_l1': 0.023651211212001394, 'lambda_l2': 2.5267338686032967e-07, 'num_leaves': 17, 'feature_fraction': 0.5977202632945693, 'bagging_fraction': 0.4401872415222018, 'bagging_freq': 3, 'min_child_samples': 77}. Best is trial 17 with value: 0.8022905592432766.\u001b[0m\n",
      "\u001b[32m[I 2022-12-15 18:51:35,959]\u001b[0m Trial 44 finished with value: 0.8014863417113371 and parameters: {'lambda_l1': 0.0008510058165513936, 'lambda_l2': 5.092105709755918e-08, 'num_leaves': 2, 'feature_fraction': 0.6674699630031121, 'bagging_fraction': 0.7798052221695047, 'bagging_freq': 5, 'min_child_samples': 59}. Best is trial 17 with value: 0.8022905592432766.\u001b[0m\n"
     ]
    },
    {
     "name": "stdout",
     "output_type": "stream",
     "text": [
      "[LightGBM] [Warning] feature_fraction is set=0.6674699630031121, colsample_bytree=1.0 will be ignored. Current value: feature_fraction=0.6674699630031121\n",
      "[LightGBM] [Warning] lambda_l1 is set=0.0008510058165513936, reg_alpha=0.0 will be ignored. Current value: lambda_l1=0.0008510058165513936\n",
      "[LightGBM] [Warning] bagging_fraction is set=0.7798052221695047, subsample=1.0 will be ignored. Current value: bagging_fraction=0.7798052221695047\n",
      "[LightGBM] [Warning] lambda_l2 is set=5.092105709755918e-08, reg_lambda=0.0 will be ignored. Current value: lambda_l2=5.092105709755918e-08\n",
      "[LightGBM] [Warning] bagging_freq is set=5, subsample_freq=0 will be ignored. Current value: bagging_freq=5\n",
      "[LightGBM] [Warning] feature_fraction is set=0.6683883283534396, colsample_bytree=1.0 will be ignored. Current value: feature_fraction=0.6683883283534396\n",
      "[LightGBM] [Warning] lambda_l1 is set=2.3074480155805052e-05, reg_alpha=0.0 will be ignored. Current value: lambda_l1=2.3074480155805052e-05\n",
      "[LightGBM] [Warning] bagging_fraction is set=0.782961896524413, subsample=1.0 will be ignored. Current value: bagging_fraction=0.782961896524413\n",
      "[LightGBM] [Warning] lambda_l2 is set=8.582786979827071e-08, reg_lambda=0.0 will be ignored. Current value: lambda_l2=8.582786979827071e-08\n",
      "[LightGBM] [Warning] bagging_freq is set=5, subsample_freq=0 will be ignored. Current value: bagging_freq=5\n"
     ]
    },
    {
     "name": "stderr",
     "output_type": "stream",
     "text": [
      "\u001b[32m[I 2022-12-15 18:51:36,563]\u001b[0m Trial 45 finished with value: 0.7735989211392453 and parameters: {'lambda_l1': 2.3074480155805052e-05, 'lambda_l2': 8.582786979827071e-08, 'num_leaves': 31, 'feature_fraction': 0.6683883283534396, 'bagging_fraction': 0.782961896524413, 'bagging_freq': 5, 'min_child_samples': 51}. Best is trial 17 with value: 0.8022905592432766.\u001b[0m\n"
     ]
    },
    {
     "name": "stdout",
     "output_type": "stream",
     "text": [
      "[LightGBM] [Warning] feature_fraction is set=0.44772271654733586, colsample_bytree=1.0 will be ignored. Current value: feature_fraction=0.44772271654733586\n",
      "[LightGBM] [Warning] lambda_l1 is set=0.0013581475792563164, reg_alpha=0.0 will be ignored. Current value: lambda_l1=0.0013581475792563164\n",
      "[LightGBM] [Warning] bagging_fraction is set=0.7228096524369593, subsample=1.0 will be ignored. Current value: bagging_fraction=0.7228096524369593\n",
      "[LightGBM] [Warning] lambda_l2 is set=5.538747570722616e-08, reg_lambda=0.0 will be ignored. Current value: lambda_l2=5.538747570722616e-08\n",
      "[LightGBM] [Warning] bagging_freq is set=4, subsample_freq=0 will be ignored. Current value: bagging_freq=4\n"
     ]
    },
    {
     "name": "stderr",
     "output_type": "stream",
     "text": [
      "\u001b[32m[I 2022-12-15 18:51:37,403]\u001b[0m Trial 46 finished with value: 0.7695928742823779 and parameters: {'lambda_l1': 0.0013581475792563164, 'lambda_l2': 5.538747570722616e-08, 'num_leaves': 52, 'feature_fraction': 0.44772271654733586, 'bagging_fraction': 0.7228096524369593, 'bagging_freq': 4, 'min_child_samples': 81}. Best is trial 17 with value: 0.8022905592432766.\u001b[0m\n"
     ]
    },
    {
     "name": "stdout",
     "output_type": "stream",
     "text": [
      "[LightGBM] [Warning] feature_fraction is set=0.5385985471572002, colsample_bytree=1.0 will be ignored. Current value: feature_fraction=0.5385985471572002\n",
      "[LightGBM] [Warning] lambda_l1 is set=0.000530171177825128, reg_alpha=0.0 will be ignored. Current value: lambda_l1=0.000530171177825128\n",
      "[LightGBM] [Warning] bagging_fraction is set=0.9558996301198297, subsample=1.0 will be ignored. Current value: bagging_fraction=0.9558996301198297\n",
      "[LightGBM] [Warning] lambda_l2 is set=2.379818475936784e-08, reg_lambda=0.0 will be ignored. Current value: lambda_l2=2.379818475936784e-08\n",
      "[LightGBM] [Warning] bagging_freq is set=5, subsample_freq=0 will be ignored. Current value: bagging_freq=5\n"
     ]
    },
    {
     "name": "stderr",
     "output_type": "stream",
     "text": [
      "\u001b[32m[I 2022-12-15 18:51:37,834]\u001b[0m Trial 47 finished with value: 0.7836921520638584 and parameters: {'lambda_l1': 0.000530171177825128, 'lambda_l2': 2.379818475936784e-08, 'num_leaves': 13, 'feature_fraction': 0.5385985471572002, 'bagging_fraction': 0.9558996301198297, 'bagging_freq': 5, 'min_child_samples': 30}. Best is trial 17 with value: 0.8022905592432766.\u001b[0m\n"
     ]
    },
    {
     "name": "stdout",
     "output_type": "stream",
     "text": [
      "[LightGBM] [Warning] feature_fraction is set=0.6408200817494558, colsample_bytree=1.0 will be ignored. Current value: feature_fraction=0.6408200817494558\n",
      "[LightGBM] [Warning] lambda_l1 is set=0.004841309700827688, reg_alpha=0.0 will be ignored. Current value: lambda_l1=0.004841309700827688\n",
      "[LightGBM] [Warning] bagging_fraction is set=0.8813812044697508, subsample=1.0 will be ignored. Current value: bagging_fraction=0.8813812044697508\n",
      "[LightGBM] [Warning] lambda_l2 is set=2.4774983222474696e-07, reg_lambda=0.0 will be ignored. Current value: lambda_l2=2.4774983222474696e-07\n",
      "[LightGBM] [Warning] bagging_freq is set=6, subsample_freq=0 will be ignored. Current value: bagging_freq=6\n"
     ]
    },
    {
     "name": "stderr",
     "output_type": "stream",
     "text": [
      "\u001b[32m[I 2022-12-15 18:51:39,810]\u001b[0m Trial 48 finished with value: 0.7567240253799618 and parameters: {'lambda_l1': 0.004841309700827688, 'lambda_l2': 2.4774983222474696e-07, 'num_leaves': 201, 'feature_fraction': 0.6408200817494558, 'bagging_fraction': 0.8813812044697508, 'bagging_freq': 6, 'min_child_samples': 43}. Best is trial 17 with value: 0.8022905592432766.\u001b[0m\n"
     ]
    },
    {
     "name": "stdout",
     "output_type": "stream",
     "text": [
      "[LightGBM] [Warning] feature_fraction is set=0.6038612716145885, colsample_bytree=1.0 will be ignored. Current value: feature_fraction=0.6038612716145885\n",
      "[LightGBM] [Warning] lambda_l1 is set=5.177480708178251e-05, reg_alpha=0.0 will be ignored. Current value: lambda_l1=5.177480708178251e-05\n",
      "[LightGBM] [Warning] bagging_fraction is set=0.8506937248644926, subsample=1.0 will be ignored. Current value: bagging_fraction=0.8506937248644926\n",
      "[LightGBM] [Warning] lambda_l2 is set=8.877189702300172e-06, reg_lambda=0.0 will be ignored. Current value: lambda_l2=8.877189702300172e-06\n",
      "[LightGBM] [Warning] bagging_freq is set=4, subsample_freq=0 will be ignored. Current value: bagging_freq=4\n"
     ]
    },
    {
     "name": "stderr",
     "output_type": "stream",
     "text": [
      "\u001b[32m[I 2022-12-15 18:51:41,332]\u001b[0m Trial 49 finished with value: 0.7585645270430653 and parameters: {'lambda_l1': 5.177480708178251e-05, 'lambda_l2': 8.877189702300172e-06, 'num_leaves': 245, 'feature_fraction': 0.6038612716145885, 'bagging_fraction': 0.8506937248644926, 'bagging_freq': 4, 'min_child_samples': 69}. Best is trial 17 with value: 0.8022905592432766.\u001b[0m\n"
     ]
    },
    {
     "name": "stdout",
     "output_type": "stream",
     "text": [
      "[LightGBM] [Warning] feature_fraction is set=0.495701033558888, colsample_bytree=1.0 will be ignored. Current value: feature_fraction=0.495701033558888\n",
      "[LightGBM] [Warning] lambda_l1 is set=4.6538628445039566e-06, reg_alpha=0.0 will be ignored. Current value: lambda_l1=4.6538628445039566e-06\n",
      "[LightGBM] [Warning] bagging_fraction is set=0.7603926690554468, subsample=1.0 will be ignored. Current value: bagging_fraction=0.7603926690554468\n",
      "[LightGBM] [Warning] lambda_l2 is set=0.03294597962612415, reg_lambda=0.0 will be ignored. Current value: lambda_l2=0.03294597962612415\n",
      "[LightGBM] [Warning] bagging_freq is set=5, subsample_freq=0 will be ignored. Current value: bagging_freq=5\n"
     ]
    },
    {
     "name": "stderr",
     "output_type": "stream",
     "text": [
      "\u001b[32m[I 2022-12-15 18:51:42,102]\u001b[0m Trial 50 finished with value: 0.7713658559626188 and parameters: {'lambda_l1': 4.6538628445039566e-06, 'lambda_l2': 0.03294597962612415, 'num_leaves': 36, 'feature_fraction': 0.495701033558888, 'bagging_fraction': 0.7603926690554468, 'bagging_freq': 5, 'min_child_samples': 87}. Best is trial 17 with value: 0.8022905592432766.\u001b[0m\n"
     ]
    },
    {
     "name": "stdout",
     "output_type": "stream",
     "text": [
      "[LightGBM] [Warning] feature_fraction is set=0.7140398840536261, colsample_bytree=1.0 will be ignored. Current value: feature_fraction=0.7140398840536261\n",
      "[LightGBM] [Warning] lambda_l1 is set=0.0026164701917846976, reg_alpha=0.0 will be ignored. Current value: lambda_l1=0.0026164701917846976\n",
      "[LightGBM] [Warning] bagging_fraction is set=0.6629396916320087, subsample=1.0 will be ignored. Current value: bagging_fraction=0.6629396916320087\n",
      "[LightGBM] [Warning] lambda_l2 is set=1.6203779985189573e-07, reg_lambda=0.0 will be ignored. Current value: lambda_l2=1.6203779985189573e-07\n",
      "[LightGBM] [Warning] bagging_freq is set=6, subsample_freq=0 will be ignored. Current value: bagging_freq=6\n"
     ]
    },
    {
     "name": "stderr",
     "output_type": "stream",
     "text": [
      "\u001b[32m[I 2022-12-15 18:51:42,398]\u001b[0m Trial 51 finished with value: 0.7967141012931032 and parameters: {'lambda_l1': 0.0026164701917846976, 'lambda_l2': 1.6203779985189573e-07, 'num_leaves': 5, 'feature_fraction': 0.7140398840536261, 'bagging_fraction': 0.6629396916320087, 'bagging_freq': 6, 'min_child_samples': 59}. Best is trial 17 with value: 0.8022905592432766.\u001b[0m\n",
      "\u001b[32m[I 2022-12-15 18:51:42,657]\u001b[0m Trial 52 finished with value: 0.8018542518560705 and parameters: {'lambda_l1': 0.07509379939009629, 'lambda_l2': 1.793756175426102e-08, 'num_leaves': 2, 'feature_fraction': 0.6758224573799325, 'bagging_fraction': 0.6139361480326542, 'bagging_freq': 2, 'min_child_samples': 54}. Best is trial 17 with value: 0.8022905592432766.\u001b[0m\n"
     ]
    },
    {
     "name": "stdout",
     "output_type": "stream",
     "text": [
      "[LightGBM] [Warning] feature_fraction is set=0.6758224573799325, colsample_bytree=1.0 will be ignored. Current value: feature_fraction=0.6758224573799325\n",
      "[LightGBM] [Warning] lambda_l1 is set=0.07509379939009629, reg_alpha=0.0 will be ignored. Current value: lambda_l1=0.07509379939009629\n",
      "[LightGBM] [Warning] bagging_fraction is set=0.6139361480326542, subsample=1.0 will be ignored. Current value: bagging_fraction=0.6139361480326542\n",
      "[LightGBM] [Warning] lambda_l2 is set=1.793756175426102e-08, reg_lambda=0.0 will be ignored. Current value: lambda_l2=1.793756175426102e-08\n",
      "[LightGBM] [Warning] bagging_freq is set=2, subsample_freq=0 will be ignored. Current value: bagging_freq=2\n",
      "[LightGBM] [Warning] feature_fraction is set=0.6844096871760216, colsample_bytree=1.0 will be ignored. Current value: feature_fraction=0.6844096871760216\n",
      "[LightGBM] [Warning] lambda_l1 is set=0.01273247121810264, reg_alpha=0.0 will be ignored. Current value: lambda_l1=0.01273247121810264\n",
      "[LightGBM] [Warning] bagging_fraction is set=0.6195577613351736, subsample=1.0 will be ignored. Current value: bagging_fraction=0.6195577613351736\n",
      "[LightGBM] [Warning] lambda_l2 is set=0.5486670820681385, reg_lambda=0.0 will be ignored. Current value: lambda_l2=0.5486670820681385\n",
      "[LightGBM] [Warning] bagging_freq is set=2, subsample_freq=0 will be ignored. Current value: bagging_freq=2\n"
     ]
    },
    {
     "name": "stderr",
     "output_type": "stream",
     "text": [
      "\u001b[32m[I 2022-12-15 18:51:43,338]\u001b[0m Trial 53 finished with value: 0.7754707667461453 and parameters: {'lambda_l1': 0.01273247121810264, 'lambda_l2': 0.5486670820681385, 'num_leaves': 26, 'feature_fraction': 0.6844096871760216, 'bagging_fraction': 0.6195577613351736, 'bagging_freq': 2, 'min_child_samples': 40}. Best is trial 17 with value: 0.8022905592432766.\u001b[0m\n"
     ]
    },
    {
     "name": "stdout",
     "output_type": "stream",
     "text": [
      "[LightGBM] [Warning] feature_fraction is set=0.6315235893505105, colsample_bytree=1.0 will be ignored. Current value: feature_fraction=0.6315235893505105\n",
      "[LightGBM] [Warning] lambda_l1 is set=0.06460821959029417, reg_alpha=0.0 will be ignored. Current value: lambda_l1=0.06460821959029417\n",
      "[LightGBM] [Warning] bagging_fraction is set=0.5043940400922075, subsample=1.0 will be ignored. Current value: bagging_fraction=0.5043940400922075\n",
      "[LightGBM] [Warning] lambda_l2 is set=1.8439571967089826e-08, reg_lambda=0.0 will be ignored. Current value: lambda_l2=1.8439571967089826e-08\n",
      "[LightGBM] [Warning] bagging_freq is set=1, subsample_freq=0 will be ignored. Current value: bagging_freq=1\n"
     ]
    },
    {
     "name": "stderr",
     "output_type": "stream",
     "text": [
      "\u001b[32m[I 2022-12-15 18:51:43,859]\u001b[0m Trial 54 finished with value: 0.7865004339904513 and parameters: {'lambda_l1': 0.06460821959029417, 'lambda_l2': 1.8439571967089826e-08, 'num_leaves': 15, 'feature_fraction': 0.6315235893505105, 'bagging_fraction': 0.5043940400922075, 'bagging_freq': 1, 'min_child_samples': 55}. Best is trial 17 with value: 0.8022905592432766.\u001b[0m\n"
     ]
    },
    {
     "name": "stdout",
     "output_type": "stream",
     "text": [
      "[LightGBM] [Warning] feature_fraction is set=0.5778486326197255, colsample_bytree=1.0 will be ignored. Current value: feature_fraction=0.5778486326197255\n",
      "[LightGBM] [Warning] lambda_l1 is set=0.08498055313308688, reg_alpha=0.0 will be ignored. Current value: lambda_l1=0.08498055313308688\n",
      "[LightGBM] [Warning] bagging_fraction is set=0.8090022374971906, subsample=1.0 will be ignored. Current value: bagging_fraction=0.8090022374971906\n",
      "[LightGBM] [Warning] lambda_l2 is set=5.987504191330212e-08, reg_lambda=0.0 will be ignored. Current value: lambda_l2=5.987504191330212e-08\n",
      "[LightGBM] [Warning] bagging_freq is set=2, subsample_freq=0 will be ignored. Current value: bagging_freq=2\n"
     ]
    },
    {
     "name": "stderr",
     "output_type": "stream",
     "text": [
      "\u001b[32m[I 2022-12-15 18:51:44,402]\u001b[0m Trial 55 finished with value: 0.7827028588308615 and parameters: {'lambda_l1': 0.08498055313308688, 'lambda_l2': 5.987504191330212e-08, 'num_leaves': 18, 'feature_fraction': 0.5778486326197255, 'bagging_fraction': 0.8090022374971906, 'bagging_freq': 2, 'min_child_samples': 64}. Best is trial 17 with value: 0.8022905592432766.\u001b[0m\n"
     ]
    },
    {
     "name": "stdout",
     "output_type": "stream",
     "text": [
      "[LightGBM] [Warning] feature_fraction is set=0.6142354336865855, colsample_bytree=1.0 will be ignored. Current value: feature_fraction=0.6142354336865855\n",
      "[LightGBM] [Warning] lambda_l1 is set=0.0002693128384255598, reg_alpha=0.0 will be ignored. Current value: lambda_l1=0.0002693128384255598\n",
      "[LightGBM] [Warning] bagging_fraction is set=0.40637149608787254, subsample=1.0 will be ignored. Current value: bagging_fraction=0.40637149608787254\n",
      "[LightGBM] [Warning] lambda_l2 is set=0.0001716415463876536, reg_lambda=0.0 will be ignored. Current value: lambda_l2=0.0001716415463876536\n",
      "[LightGBM] [Warning] bagging_freq is set=2, subsample_freq=0 will be ignored. Current value: bagging_freq=2\n"
     ]
    },
    {
     "name": "stderr",
     "output_type": "stream",
     "text": [
      "\u001b[32m[I 2022-12-15 18:51:45,493]\u001b[0m Trial 56 finished with value: 0.762056791940733 and parameters: {'lambda_l1': 0.0002693128384255598, 'lambda_l2': 0.0001716415463876536, 'num_leaves': 115, 'feature_fraction': 0.6142354336865855, 'bagging_fraction': 0.40637149608787254, 'bagging_freq': 2, 'min_child_samples': 6}. Best is trial 17 with value: 0.8022905592432766.\u001b[0m\n",
      "\u001b[32m[I 2022-12-15 18:51:45,714]\u001b[0m Trial 57 finished with value: 0.8023305924189872 and parameters: {'lambda_l1': 0.007126164404763664, 'lambda_l2': 4.1692885689581436e-05, 'num_leaves': 2, 'feature_fraction': 0.6771867289323904, 'bagging_fraction': 0.45980640944345696, 'bagging_freq': 3, 'min_child_samples': 63}. Best is trial 57 with value: 0.8023305924189872.\u001b[0m\n"
     ]
    },
    {
     "name": "stdout",
     "output_type": "stream",
     "text": [
      "[LightGBM] [Warning] feature_fraction is set=0.6771867289323904, colsample_bytree=1.0 will be ignored. Current value: feature_fraction=0.6771867289323904\n",
      "[LightGBM] [Warning] lambda_l1 is set=0.007126164404763664, reg_alpha=0.0 will be ignored. Current value: lambda_l1=0.007126164404763664\n",
      "[LightGBM] [Warning] bagging_fraction is set=0.45980640944345696, subsample=1.0 will be ignored. Current value: bagging_fraction=0.45980640944345696\n",
      "[LightGBM] [Warning] lambda_l2 is set=4.1692885689581436e-05, reg_lambda=0.0 will be ignored. Current value: lambda_l2=4.1692885689581436e-05\n",
      "[LightGBM] [Warning] bagging_freq is set=3, subsample_freq=0 will be ignored. Current value: bagging_freq=3\n",
      "[LightGBM] [Warning] feature_fraction is set=0.6777824969841686, colsample_bytree=1.0 will be ignored. Current value: feature_fraction=0.6777824969841686\n",
      "[LightGBM] [Warning] lambda_l1 is set=0.005010517227240021, reg_alpha=0.0 will be ignored. Current value: lambda_l1=0.005010517227240021\n",
      "[LightGBM] [Warning] bagging_fraction is set=0.4655928662482421, subsample=1.0 will be ignored. Current value: bagging_fraction=0.4655928662482421\n",
      "[LightGBM] [Warning] lambda_l2 is set=1.0505606584429511e-08, reg_lambda=0.0 will be ignored. Current value: lambda_l2=1.0505606584429511e-08\n",
      "[LightGBM] [Warning] bagging_freq is set=3, subsample_freq=0 will be ignored. Current value: bagging_freq=3\n"
     ]
    },
    {
     "name": "stderr",
     "output_type": "stream",
     "text": [
      "\u001b[32m[I 2022-12-15 18:51:46,852]\u001b[0m Trial 58 finished with value: 0.7759378414265631 and parameters: {'lambda_l1': 0.005010517227240021, 'lambda_l2': 1.0505606584429511e-08, 'num_leaves': 33, 'feature_fraction': 0.6777824969841686, 'bagging_fraction': 0.4655928662482421, 'bagging_freq': 3, 'min_child_samples': 47}. Best is trial 57 with value: 0.8023305924189872.\u001b[0m\n"
     ]
    },
    {
     "name": "stdout",
     "output_type": "stream",
     "text": [
      "[LightGBM] [Warning] feature_fraction is set=0.7291003076097254, colsample_bytree=1.0 will be ignored. Current value: feature_fraction=0.7291003076097254\n",
      "[LightGBM] [Warning] lambda_l1 is set=0.02441897116120964, reg_alpha=0.0 will be ignored. Current value: lambda_l1=0.02441897116120964\n",
      "[LightGBM] [Warning] bagging_fraction is set=0.42866099493955256, subsample=1.0 will be ignored. Current value: bagging_fraction=0.42866099493955256\n",
      "[LightGBM] [Warning] lambda_l2 is set=5.449279071868634e-07, reg_lambda=0.0 will be ignored. Current value: lambda_l2=5.449279071868634e-07\n",
      "[LightGBM] [Warning] bagging_freq is set=3, subsample_freq=0 will be ignored. Current value: bagging_freq=3\n"
     ]
    },
    {
     "name": "stderr",
     "output_type": "stream",
     "text": [
      "\u001b[32m[I 2022-12-15 18:51:47,321]\u001b[0m Trial 59 finished with value: 0.7892166799987308 and parameters: {'lambda_l1': 0.02441897116120964, 'lambda_l2': 5.449279071868634e-07, 'num_leaves': 13, 'feature_fraction': 0.7291003076097254, 'bagging_fraction': 0.42866099493955256, 'bagging_freq': 3, 'min_child_samples': 54}. Best is trial 57 with value: 0.8023305924189872.\u001b[0m\n"
     ]
    },
    {
     "name": "stdout",
     "output_type": "stream",
     "text": [
      "[LightGBM] [Warning] feature_fraction is set=0.6451460713489746, colsample_bytree=1.0 will be ignored. Current value: feature_fraction=0.6451460713489746\n",
      "[LightGBM] [Warning] lambda_l1 is set=0.0007918288544996565, reg_alpha=0.0 will be ignored. Current value: lambda_l1=0.0007918288544996565\n",
      "[LightGBM] [Warning] bagging_fraction is set=0.7090459505980112, subsample=1.0 will be ignored. Current value: bagging_fraction=0.7090459505980112\n",
      "[LightGBM] [Warning] lambda_l2 is set=1.0771241135172962e-07, reg_lambda=0.0 will be ignored. Current value: lambda_l2=1.0771241135172962e-07\n",
      "[LightGBM] [Warning] bagging_freq is set=1, subsample_freq=0 will be ignored. Current value: bagging_freq=1\n"
     ]
    },
    {
     "name": "stderr",
     "output_type": "stream",
     "text": [
      "\u001b[32m[I 2022-12-15 18:51:48,194]\u001b[0m Trial 60 finished with value: 0.7643189349483188 and parameters: {'lambda_l1': 0.0007918288544996565, 'lambda_l2': 1.0771241135172962e-07, 'num_leaves': 42, 'feature_fraction': 0.6451460713489746, 'bagging_fraction': 0.7090459505980112, 'bagging_freq': 1, 'min_child_samples': 39}. Best is trial 57 with value: 0.8023305924189872.\u001b[0m\n"
     ]
    },
    {
     "name": "stdout",
     "output_type": "stream",
     "text": [
      "[LightGBM] [Warning] feature_fraction is set=0.6800293087113221, colsample_bytree=1.0 will be ignored. Current value: feature_fraction=0.6800293087113221\n",
      "[LightGBM] [Warning] lambda_l1 is set=0.009795642953323145, reg_alpha=0.0 will be ignored. Current value: lambda_l1=0.009795642953323145\n",
      "[LightGBM] [Warning] bagging_fraction is set=0.46563025485482634, subsample=1.0 will be ignored. Current value: bagging_fraction=0.46563025485482634\n",
      "[LightGBM] [Warning] lambda_l2 is set=3.874460656387212e-06, reg_lambda=0.0 will be ignored. Current value: lambda_l2=3.874460656387212e-06\n",
      "[LightGBM] [Warning] bagging_freq is set=2, subsample_freq=0 will be ignored. Current value: bagging_freq=2\n"
     ]
    },
    {
     "name": "stderr",
     "output_type": "stream",
     "text": [
      "\u001b[32m[I 2022-12-15 18:51:48,457]\u001b[0m Trial 61 finished with value: 0.8020475733123672 and parameters: {'lambda_l1': 0.009795642953323145, 'lambda_l2': 3.874460656387212e-06, 'num_leaves': 2, 'feature_fraction': 0.6800293087113221, 'bagging_fraction': 0.46563025485482634, 'bagging_freq': 2, 'min_child_samples': 61}. Best is trial 57 with value: 0.8023305924189872.\u001b[0m\n"
     ]
    },
    {
     "name": "stdout",
     "output_type": "stream",
     "text": [
      "[LightGBM] [Warning] feature_fraction is set=0.6868480980429692, colsample_bytree=1.0 will be ignored. Current value: feature_fraction=0.6868480980429692\n",
      "[LightGBM] [Warning] lambda_l1 is set=0.008688362415842858, reg_alpha=0.0 will be ignored. Current value: lambda_l1=0.008688362415842858\n",
      "[LightGBM] [Warning] bagging_fraction is set=0.4652604796894982, subsample=1.0 will be ignored. Current value: bagging_fraction=0.4652604796894982\n",
      "[LightGBM] [Warning] lambda_l2 is set=3.5715296791747163e-05, reg_lambda=0.0 will be ignored. Current value: lambda_l2=3.5715296791747163e-05\n",
      "[LightGBM] [Warning] bagging_freq is set=2, subsample_freq=0 will be ignored. Current value: bagging_freq=2\n"
     ]
    },
    {
     "name": "stderr",
     "output_type": "stream",
     "text": [
      "\u001b[32m[I 2022-12-15 18:51:48,964]\u001b[0m Trial 62 finished with value: 0.7901697712620038 and parameters: {'lambda_l1': 0.008688362415842858, 'lambda_l2': 3.5715296791747163e-05, 'num_leaves': 13, 'feature_fraction': 0.6868480980429692, 'bagging_fraction': 0.4652604796894982, 'bagging_freq': 2, 'min_child_samples': 61}. Best is trial 57 with value: 0.8023305924189872.\u001b[0m\n"
     ]
    },
    {
     "name": "stdout",
     "output_type": "stream",
     "text": [
      "[LightGBM] [Warning] feature_fraction is set=0.6562955611948925, colsample_bytree=1.0 will be ignored. Current value: feature_fraction=0.6562955611948925\n",
      "[LightGBM] [Warning] lambda_l1 is set=0.0017151253460442949, reg_alpha=0.0 will be ignored. Current value: lambda_l1=0.0017151253460442949\n",
      "[LightGBM] [Warning] bagging_fraction is set=0.577901439663205, subsample=1.0 will be ignored. Current value: bagging_fraction=0.577901439663205\n",
      "[LightGBM] [Warning] lambda_l2 is set=4.3359337372548165e-06, reg_lambda=0.0 will be ignored. Current value: lambda_l2=4.3359337372548165e-06\n",
      "[LightGBM] [Warning] bagging_freq is set=2, subsample_freq=0 will be ignored. Current value: bagging_freq=2\n"
     ]
    },
    {
     "name": "stderr",
     "output_type": "stream",
     "text": [
      "\u001b[32m[I 2022-12-15 18:51:49,637]\u001b[0m Trial 63 finished with value: 0.7786795114322694 and parameters: {'lambda_l1': 0.0017151253460442949, 'lambda_l2': 4.3359337372548165e-06, 'num_leaves': 25, 'feature_fraction': 0.6562955611948925, 'bagging_fraction': 0.577901439663205, 'bagging_freq': 2, 'min_child_samples': 73}. Best is trial 57 with value: 0.8023305924189872.\u001b[0m\n",
      "\u001b[32m[I 2022-12-15 18:51:49,869]\u001b[0m Trial 64 finished with value: 0.8020874754865807 and parameters: {'lambda_l1': 0.022219710417899847, 'lambda_l2': 0.0008005370802028491, 'num_leaves': 2, 'feature_fraction': 0.7681472384097381, 'bagging_fraction': 0.5054189490693662, 'bagging_freq': 3, 'min_child_samples': 68}. Best is trial 57 with value: 0.8023305924189872.\u001b[0m\n"
     ]
    },
    {
     "name": "stdout",
     "output_type": "stream",
     "text": [
      "[LightGBM] [Warning] feature_fraction is set=0.7681472384097381, colsample_bytree=1.0 will be ignored. Current value: feature_fraction=0.7681472384097381\n",
      "[LightGBM] [Warning] lambda_l1 is set=0.022219710417899847, reg_alpha=0.0 will be ignored. Current value: lambda_l1=0.022219710417899847\n",
      "[LightGBM] [Warning] bagging_fraction is set=0.5054189490693662, subsample=1.0 will be ignored. Current value: bagging_fraction=0.5054189490693662\n",
      "[LightGBM] [Warning] lambda_l2 is set=0.0008005370802028491, reg_lambda=0.0 will be ignored. Current value: lambda_l2=0.0008005370802028491\n",
      "[LightGBM] [Warning] bagging_freq is set=3, subsample_freq=0 will be ignored. Current value: bagging_freq=3\n",
      "[LightGBM] [Warning] feature_fraction is set=0.7963972923372138, colsample_bytree=1.0 will be ignored. Current value: feature_fraction=0.7963972923372138\n",
      "[LightGBM] [Warning] lambda_l1 is set=0.015828454983029597, reg_alpha=0.0 will be ignored. Current value: lambda_l1=0.015828454983029597\n",
      "[LightGBM] [Warning] bagging_fraction is set=0.5255944660808044, subsample=1.0 will be ignored. Current value: bagging_fraction=0.5255944660808044\n",
      "[LightGBM] [Warning] lambda_l2 is set=5.0058838611382296e-05, reg_lambda=0.0 will be ignored. Current value: lambda_l2=5.0058838611382296e-05\n",
      "[LightGBM] [Warning] bagging_freq is set=3, subsample_freq=0 will be ignored. Current value: bagging_freq=3\n"
     ]
    },
    {
     "name": "stderr",
     "output_type": "stream",
     "text": [
      "\u001b[32m[I 2022-12-15 18:51:50,306]\u001b[0m Trial 65 finished with value: 0.7905844236682413 and parameters: {'lambda_l1': 0.015828454983029597, 'lambda_l2': 5.0058838611382296e-05, 'num_leaves': 11, 'feature_fraction': 0.7963972923372138, 'bagging_fraction': 0.5255944660808044, 'bagging_freq': 3, 'min_child_samples': 79}. Best is trial 57 with value: 0.8023305924189872.\u001b[0m\n"
     ]
    },
    {
     "name": "stdout",
     "output_type": "stream",
     "text": [
      "[LightGBM] [Warning] feature_fraction is set=0.8326322819813177, colsample_bytree=1.0 will be ignored. Current value: feature_fraction=0.8326322819813177\n",
      "[LightGBM] [Warning] lambda_l1 is set=0.03243164732989703, reg_alpha=0.0 will be ignored. Current value: lambda_l1=0.03243164732989703\n",
      "[LightGBM] [Warning] bagging_fraction is set=0.5054721273255224, subsample=1.0 will be ignored. Current value: bagging_fraction=0.5054721273255224\n",
      "[LightGBM] [Warning] lambda_l2 is set=0.0008444658456833209, reg_lambda=0.0 will be ignored. Current value: lambda_l2=0.0008444658456833209\n",
      "[LightGBM] [Warning] bagging_freq is set=3, subsample_freq=0 will be ignored. Current value: bagging_freq=3\n"
     ]
    },
    {
     "name": "stderr",
     "output_type": "stream",
     "text": [
      "\u001b[32m[I 2022-12-15 18:51:51,007]\u001b[0m Trial 66 finished with value: 0.7805606587792977 and parameters: {'lambda_l1': 0.03243164732989703, 'lambda_l2': 0.0008444658456833209, 'num_leaves': 23, 'feature_fraction': 0.8326322819813177, 'bagging_fraction': 0.5054721273255224, 'bagging_freq': 3, 'min_child_samples': 69}. Best is trial 57 with value: 0.8023305924189872.\u001b[0m\n"
     ]
    },
    {
     "name": "stdout",
     "output_type": "stream",
     "text": [
      "[LightGBM] [Warning] feature_fraction is set=0.7717606482483771, colsample_bytree=1.0 will be ignored. Current value: feature_fraction=0.7717606482483771\n",
      "[LightGBM] [Warning] lambda_l1 is set=0.0065788918828124385, reg_alpha=0.0 will be ignored. Current value: lambda_l1=0.0065788918828124385\n",
      "[LightGBM] [Warning] bagging_fraction is set=0.5412034417014241, subsample=1.0 will be ignored. Current value: bagging_fraction=0.5412034417014241\n",
      "[LightGBM] [Warning] lambda_l2 is set=0.00020524536831870602, reg_lambda=0.0 will be ignored. Current value: lambda_l2=0.00020524536831870602\n",
      "[LightGBM] [Warning] bagging_freq is set=2, subsample_freq=0 will be ignored. Current value: bagging_freq=2\n"
     ]
    },
    {
     "name": "stderr",
     "output_type": "stream",
     "text": [
      "\u001b[32m[I 2022-12-15 18:51:52,852]\u001b[0m Trial 67 finished with value: 0.7696355501471968 and parameters: {'lambda_l1': 0.0065788918828124385, 'lambda_l2': 0.00020524536831870602, 'num_leaves': 228, 'feature_fraction': 0.7717606482483771, 'bagging_fraction': 0.5412034417014241, 'bagging_freq': 2, 'min_child_samples': 67}. Best is trial 57 with value: 0.8023305924189872.\u001b[0m\n"
     ]
    },
    {
     "name": "stdout",
     "output_type": "stream",
     "text": [
      "[LightGBM] [Warning] feature_fraction is set=0.8522768064057055, colsample_bytree=1.0 will be ignored. Current value: feature_fraction=0.8522768064057055\n",
      "[LightGBM] [Warning] lambda_l1 is set=0.0486104632202476, reg_alpha=0.0 will be ignored. Current value: lambda_l1=0.0486104632202476\n",
      "[LightGBM] [Warning] bagging_fraction is set=0.4614394729930187, subsample=1.0 will be ignored. Current value: bagging_fraction=0.4614394729930187\n",
      "[LightGBM] [Warning] lambda_l2 is set=0.0007089345333386687, reg_lambda=0.0 will be ignored. Current value: lambda_l2=0.0007089345333386687\n",
      "[LightGBM] [Warning] bagging_freq is set=1, subsample_freq=0 will be ignored. Current value: bagging_freq=1\n"
     ]
    },
    {
     "name": "stderr",
     "output_type": "stream",
     "text": [
      "\u001b[32m[I 2022-12-15 18:51:54,316]\u001b[0m Trial 68 finished with value: 0.7773156502258497 and parameters: {'lambda_l1': 0.0486104632202476, 'lambda_l2': 0.0007089345333386687, 'num_leaves': 158, 'feature_fraction': 0.8522768064057055, 'bagging_fraction': 0.4614394729930187, 'bagging_freq': 1, 'min_child_samples': 62}. Best is trial 57 with value: 0.8023305924189872.\u001b[0m\n"
     ]
    },
    {
     "name": "stdout",
     "output_type": "stream",
     "text": [
      "[LightGBM] [Warning] feature_fraction is set=0.9191008101901335, colsample_bytree=1.0 will be ignored. Current value: feature_fraction=0.9191008101901335\n",
      "[LightGBM] [Warning] lambda_l1 is set=0.13408280203295955, reg_alpha=0.0 will be ignored. Current value: lambda_l1=0.13408280203295955\n",
      "[LightGBM] [Warning] bagging_fraction is set=0.6566663113470115, subsample=1.0 will be ignored. Current value: bagging_fraction=0.6566663113470115\n",
      "[LightGBM] [Warning] lambda_l2 is set=0.003897300788091464, reg_lambda=0.0 will be ignored. Current value: lambda_l2=0.003897300788091464\n",
      "[LightGBM] [Warning] bagging_freq is set=3, subsample_freq=0 will be ignored. Current value: bagging_freq=3\n"
     ]
    },
    {
     "name": "stderr",
     "output_type": "stream",
     "text": [
      "\u001b[32m[I 2022-12-15 18:51:54,768]\u001b[0m Trial 69 finished with value: 0.7895226494084795 and parameters: {'lambda_l1': 0.13408280203295955, 'lambda_l2': 0.003897300788091464, 'num_leaves': 10, 'feature_fraction': 0.9191008101901335, 'bagging_fraction': 0.6566663113470115, 'bagging_freq': 3, 'min_child_samples': 85}. Best is trial 57 with value: 0.8023305924189872.\u001b[0m\n"
     ]
    },
    {
     "name": "stdout",
     "output_type": "stream",
     "text": [
      "[LightGBM] [Warning] feature_fraction is set=0.7673375444525082, colsample_bytree=1.0 will be ignored. Current value: feature_fraction=0.7673375444525082\n",
      "[LightGBM] [Warning] lambda_l1 is set=0.003336921080553357, reg_alpha=0.0 will be ignored. Current value: lambda_l1=0.003336921080553357\n",
      "[LightGBM] [Warning] bagging_fraction is set=0.43293232164749107, subsample=1.0 will be ignored. Current value: bagging_fraction=0.43293232164749107\n",
      "[LightGBM] [Warning] lambda_l2 is set=0.0036241692858514254, reg_lambda=0.0 will be ignored. Current value: lambda_l2=0.0036241692858514254\n",
      "[LightGBM] [Warning] bagging_freq is set=2, subsample_freq=0 will be ignored. Current value: bagging_freq=2\n"
     ]
    },
    {
     "name": "stderr",
     "output_type": "stream",
     "text": [
      "\u001b[32m[I 2022-12-15 18:51:55,500]\u001b[0m Trial 70 finished with value: 0.7824320350464158 and parameters: {'lambda_l1': 0.003336921080553357, 'lambda_l2': 0.0036241692858514254, 'num_leaves': 28, 'feature_fraction': 0.7673375444525082, 'bagging_fraction': 0.43293232164749107, 'bagging_freq': 2, 'min_child_samples': 75}. Best is trial 57 with value: 0.8023305924189872.\u001b[0m\n"
     ]
    },
    {
     "name": "stdout",
     "output_type": "stream",
     "text": [
      "[LightGBM] [Warning] feature_fraction is set=0.7318361636720406, colsample_bytree=1.0 will be ignored. Current value: feature_fraction=0.7318361636720406\n",
      "[LightGBM] [Warning] lambda_l1 is set=0.011725192981341438, reg_alpha=0.0 will be ignored. Current value: lambda_l1=0.011725192981341438\n",
      "[LightGBM] [Warning] bagging_fraction is set=0.47354097723022426, subsample=1.0 will be ignored. Current value: bagging_fraction=0.47354097723022426\n",
      "[LightGBM] [Warning] lambda_l2 is set=1.919860236042511e-08, reg_lambda=0.0 will be ignored. Current value: lambda_l2=1.919860236042511e-08\n",
      "[LightGBM] [Warning] bagging_freq is set=2, subsample_freq=0 will be ignored. Current value: bagging_freq=2\n"
     ]
    },
    {
     "name": "stderr",
     "output_type": "stream",
     "text": [
      "\u001b[32m[I 2022-12-15 18:51:55,782]\u001b[0m Trial 71 finished with value: 0.8021866976168234 and parameters: {'lambda_l1': 0.011725192981341438, 'lambda_l2': 1.919860236042511e-08, 'num_leaves': 2, 'feature_fraction': 0.7318361636720406, 'bagging_fraction': 0.47354097723022426, 'bagging_freq': 2, 'min_child_samples': 56}. Best is trial 57 with value: 0.8023305924189872.\u001b[0m\n",
      "\u001b[32m[I 2022-12-15 18:51:56,038]\u001b[0m Trial 72 finished with value: 0.8017720504263436 and parameters: {'lambda_l1': 0.015199334122216964, 'lambda_l2': 2.025582599406631e-08, 'num_leaves': 2, 'feature_fraction': 0.7211705131554883, 'bagging_fraction': 0.5659937140663983, 'bagging_freq': 2, 'min_child_samples': 52}. Best is trial 57 with value: 0.8023305924189872.\u001b[0m\n"
     ]
    },
    {
     "name": "stdout",
     "output_type": "stream",
     "text": [
      "[LightGBM] [Warning] feature_fraction is set=0.7211705131554883, colsample_bytree=1.0 will be ignored. Current value: feature_fraction=0.7211705131554883\n",
      "[LightGBM] [Warning] lambda_l1 is set=0.015199334122216964, reg_alpha=0.0 will be ignored. Current value: lambda_l1=0.015199334122216964\n",
      "[LightGBM] [Warning] bagging_fraction is set=0.5659937140663983, subsample=1.0 will be ignored. Current value: bagging_fraction=0.5659937140663983\n",
      "[LightGBM] [Warning] lambda_l2 is set=2.025582599406631e-08, reg_lambda=0.0 will be ignored. Current value: lambda_l2=2.025582599406631e-08\n",
      "[LightGBM] [Warning] bagging_freq is set=2, subsample_freq=0 will be ignored. Current value: bagging_freq=2\n",
      "[LightGBM] [Warning] feature_fraction is set=0.7358927844720013, colsample_bytree=1.0 will be ignored. Current value: feature_fraction=0.7358927844720013\n",
      "[LightGBM] [Warning] lambda_l1 is set=0.2467111261921254, reg_alpha=0.0 will be ignored. Current value: lambda_l1=0.2467111261921254\n",
      "[LightGBM] [Warning] bagging_fraction is set=0.4149025941746959, subsample=1.0 will be ignored. Current value: bagging_fraction=0.4149025941746959\n",
      "[LightGBM] [Warning] lambda_l2 is set=9.687422482201935e-06, reg_lambda=0.0 will be ignored. Current value: lambda_l2=9.687422482201935e-06\n",
      "[LightGBM] [Warning] bagging_freq is set=2, subsample_freq=0 will be ignored. Current value: bagging_freq=2\n"
     ]
    },
    {
     "name": "stderr",
     "output_type": "stream",
     "text": [
      "\u001b[32m[I 2022-12-15 18:51:56,471]\u001b[0m Trial 73 finished with value: 0.7917118496664812 and parameters: {'lambda_l1': 0.2467111261921254, 'lambda_l2': 9.687422482201935e-06, 'num_leaves': 10, 'feature_fraction': 0.7358927844720013, 'bagging_fraction': 0.4149025941746959, 'bagging_freq': 2, 'min_child_samples': 56}. Best is trial 57 with value: 0.8023305924189872.\u001b[0m\n"
     ]
    },
    {
     "name": "stdout",
     "output_type": "stream",
     "text": [
      "[LightGBM] [Warning] feature_fraction is set=0.6998193282218677, colsample_bytree=1.0 will be ignored. Current value: feature_fraction=0.6998193282218677\n",
      "[LightGBM] [Warning] lambda_l1 is set=0.0485716243755495, reg_alpha=0.0 will be ignored. Current value: lambda_l1=0.0485716243755495\n",
      "[LightGBM] [Warning] bagging_fraction is set=0.5068275431930933, subsample=1.0 will be ignored. Current value: bagging_fraction=0.5068275431930933\n",
      "[LightGBM] [Warning] lambda_l2 is set=0.0004923191860478673, reg_lambda=0.0 will be ignored. Current value: lambda_l2=0.0004923191860478673\n",
      "[LightGBM] [Warning] bagging_freq is set=1, subsample_freq=0 will be ignored. Current value: bagging_freq=1\n"
     ]
    },
    {
     "name": "stderr",
     "output_type": "stream",
     "text": [
      "\u001b[32m[I 2022-12-15 18:51:57,059]\u001b[0m Trial 74 finished with value: 0.7823799645738716 and parameters: {'lambda_l1': 0.0485716243755495, 'lambda_l2': 0.0004923191860478673, 'num_leaves': 20, 'feature_fraction': 0.6998193282218677, 'bagging_fraction': 0.5068275431930933, 'bagging_freq': 1, 'min_child_samples': 65}. Best is trial 57 with value: 0.8023305924189872.\u001b[0m\n"
     ]
    },
    {
     "name": "stdout",
     "output_type": "stream",
     "text": [
      "[LightGBM] [Warning] feature_fraction is set=0.763437886650093, colsample_bytree=1.0 will be ignored. Current value: feature_fraction=0.763437886650093\n",
      "[LightGBM] [Warning] lambda_l1 is set=0.01919914658279428, reg_alpha=0.0 will be ignored. Current value: lambda_l1=0.01919914658279428\n",
      "[LightGBM] [Warning] bagging_fraction is set=0.4842651034438577, subsample=1.0 will be ignored. Current value: bagging_fraction=0.4842651034438577\n",
      "[LightGBM] [Warning] lambda_l2 is set=3.928875940985369e-07, reg_lambda=0.0 will be ignored. Current value: lambda_l2=3.928875940985369e-07\n",
      "[LightGBM] [Warning] bagging_freq is set=3, subsample_freq=0 will be ignored. Current value: bagging_freq=3\n"
     ]
    },
    {
     "name": "stderr",
     "output_type": "stream",
     "text": [
      "\u001b[32m[I 2022-12-15 18:51:58,057]\u001b[0m Trial 75 finished with value: 0.780700251610017 and parameters: {'lambda_l1': 0.01919914658279428, 'lambda_l2': 3.928875940985369e-07, 'num_leaves': 35, 'feature_fraction': 0.763437886650093, 'bagging_fraction': 0.4842651034438577, 'bagging_freq': 3, 'min_child_samples': 100}. Best is trial 57 with value: 0.8023305924189872.\u001b[0m\n"
     ]
    },
    {
     "name": "stdout",
     "output_type": "stream",
     "text": [
      "[LightGBM] [Warning] feature_fraction is set=0.5898485339345916, colsample_bytree=1.0 will be ignored. Current value: feature_fraction=0.5898485339345916\n",
      "[LightGBM] [Warning] lambda_l1 is set=0.14046424326009718, reg_alpha=0.0 will be ignored. Current value: lambda_l1=0.14046424326009718\n",
      "[LightGBM] [Warning] bagging_fraction is set=0.44778729314943816, subsample=1.0 will be ignored. Current value: bagging_fraction=0.44778729314943816\n",
      "[LightGBM] [Warning] lambda_l2 is set=2.2775434570607206e-06, reg_lambda=0.0 will be ignored. Current value: lambda_l2=2.2775434570607206e-06\n",
      "[LightGBM] [Warning] bagging_freq is set=2, subsample_freq=0 will be ignored. Current value: bagging_freq=2\n"
     ]
    },
    {
     "name": "stderr",
     "output_type": "stream",
     "text": [
      "\u001b[32m[I 2022-12-15 18:51:58,547]\u001b[0m Trial 76 finished with value: 0.7944842397171569 and parameters: {'lambda_l1': 0.14046424326009718, 'lambda_l2': 2.2775434570607206e-06, 'num_leaves': 9, 'feature_fraction': 0.5898485339345916, 'bagging_fraction': 0.44778729314943816, 'bagging_freq': 2, 'min_child_samples': 45}. Best is trial 57 with value: 0.8023305924189872.\u001b[0m\n",
      "\u001b[32m[I 2022-12-15 18:51:58,796]\u001b[0m Trial 77 finished with value: 0.8021171063744362 and parameters: {'lambda_l1': 0.008083349620334305, 'lambda_l2': 1.663173415908346e-08, 'num_leaves': 2, 'feature_fraction': 0.6236958968799288, 'bagging_fraction': 0.5341795296923494, 'bagging_freq': 4, 'min_child_samples': 57}. Best is trial 57 with value: 0.8023305924189872.\u001b[0m\n"
     ]
    },
    {
     "name": "stdout",
     "output_type": "stream",
     "text": [
      "[LightGBM] [Warning] feature_fraction is set=0.6236958968799288, colsample_bytree=1.0 will be ignored. Current value: feature_fraction=0.6236958968799288\n",
      "[LightGBM] [Warning] lambda_l1 is set=0.008083349620334305, reg_alpha=0.0 will be ignored. Current value: lambda_l1=0.008083349620334305\n",
      "[LightGBM] [Warning] bagging_fraction is set=0.5341795296923494, subsample=1.0 will be ignored. Current value: bagging_fraction=0.5341795296923494\n",
      "[LightGBM] [Warning] lambda_l2 is set=1.663173415908346e-08, reg_lambda=0.0 will be ignored. Current value: lambda_l2=1.663173415908346e-08\n",
      "[LightGBM] [Warning] bagging_freq is set=4, subsample_freq=0 will be ignored. Current value: bagging_freq=4\n",
      "[LightGBM] [Warning] feature_fraction is set=0.7083512291420644, colsample_bytree=1.0 will be ignored. Current value: feature_fraction=0.7083512291420644\n",
      "[LightGBM] [Warning] lambda_l1 is set=0.6589368362262595, reg_alpha=0.0 will be ignored. Current value: lambda_l1=0.6589368362262595\n",
      "[LightGBM] [Warning] bagging_fraction is set=0.47453514835214755, subsample=1.0 will be ignored. Current value: bagging_fraction=0.47453514835214755\n",
      "[LightGBM] [Warning] lambda_l2 is set=8.75274322599498e-05, reg_lambda=0.0 will be ignored. Current value: lambda_l2=8.75274322599498e-05\n",
      "[LightGBM] [Warning] bagging_freq is set=3, subsample_freq=0 will be ignored. Current value: bagging_freq=3\n"
     ]
    },
    {
     "name": "stderr",
     "output_type": "stream",
     "text": [
      "\u001b[32m[I 2022-12-15 18:51:59,399]\u001b[0m Trial 78 finished with value: 0.7815229710421044 and parameters: {'lambda_l1': 0.6589368362262595, 'lambda_l2': 8.75274322599498e-05, 'num_leaves': 20, 'feature_fraction': 0.7083512291420644, 'bagging_fraction': 0.47453514835214755, 'bagging_freq': 3, 'min_child_samples': 51}. Best is trial 57 with value: 0.8023305924189872.\u001b[0m\n"
     ]
    },
    {
     "name": "stdout",
     "output_type": "stream",
     "text": [
      "[LightGBM] [Warning] feature_fraction is set=0.613955282684204, colsample_bytree=1.0 will be ignored. Current value: feature_fraction=0.613955282684204\n",
      "[LightGBM] [Warning] lambda_l1 is set=0.008953446332155522, reg_alpha=0.0 will be ignored. Current value: lambda_l1=0.008953446332155522\n",
      "[LightGBM] [Warning] bagging_fraction is set=0.6034180722805952, subsample=1.0 will be ignored. Current value: bagging_fraction=0.6034180722805952\n",
      "[LightGBM] [Warning] lambda_l2 is set=1.3407453312731072e-05, reg_lambda=0.0 will be ignored. Current value: lambda_l2=1.3407453312731072e-05\n",
      "[LightGBM] [Warning] bagging_freq is set=4, subsample_freq=0 will be ignored. Current value: bagging_freq=4\n"
     ]
    },
    {
     "name": "stderr",
     "output_type": "stream",
     "text": [
      "\u001b[32m[I 2022-12-15 18:52:00,229]\u001b[0m Trial 79 finished with value: 0.7760373057899688 and parameters: {'lambda_l1': 0.008953446332155522, 'lambda_l2': 1.3407453312731072e-05, 'num_leaves': 39, 'feature_fraction': 0.613955282684204, 'bagging_fraction': 0.6034180722805952, 'bagging_freq': 4, 'min_child_samples': 62}. Best is trial 57 with value: 0.8023305924189872.\u001b[0m\n"
     ]
    },
    {
     "name": "stdout",
     "output_type": "stream",
     "text": [
      "[LightGBM] [Warning] feature_fraction is set=0.5590526301420752, colsample_bytree=1.0 will be ignored. Current value: feature_fraction=0.5590526301420752\n",
      "[LightGBM] [Warning] lambda_l1 is set=0.08309265608867819, reg_alpha=0.0 will be ignored. Current value: lambda_l1=0.08309265608867819\n",
      "[LightGBM] [Warning] bagging_fraction is set=0.561516636755659, subsample=1.0 will be ignored. Current value: bagging_fraction=0.561516636755659\n",
      "[LightGBM] [Warning] lambda_l2 is set=1.879317625631206e-08, reg_lambda=0.0 will be ignored. Current value: lambda_l2=1.879317625631206e-08\n",
      "[LightGBM] [Warning] bagging_freq is set=2, subsample_freq=0 will be ignored. Current value: bagging_freq=2\n"
     ]
    },
    {
     "name": "stderr",
     "output_type": "stream",
     "text": [
      "\u001b[32m[I 2022-12-15 18:52:00,988]\u001b[0m Trial 80 finished with value: 0.778662355547196 and parameters: {'lambda_l1': 0.08309265608867819, 'lambda_l2': 1.879317625631206e-08, 'num_leaves': 27, 'feature_fraction': 0.5590526301420752, 'bagging_fraction': 0.561516636755659, 'bagging_freq': 2, 'min_child_samples': 57}. Best is trial 57 with value: 0.8023305924189872.\u001b[0m\n",
      "\u001b[32m[I 2022-12-15 18:52:01,243]\u001b[0m Trial 81 finished with value: 0.8009372776737218 and parameters: {'lambda_l1': 0.0015906633137008988, 'lambda_l2': 3.633332828224949e-08, 'num_leaves': 3, 'feature_fraction': 0.6238849798527195, 'bagging_fraction': 0.5296938806007961, 'bagging_freq': 3, 'min_child_samples': 70}. Best is trial 57 with value: 0.8023305924189872.\u001b[0m\n"
     ]
    },
    {
     "name": "stdout",
     "output_type": "stream",
     "text": [
      "[LightGBM] [Warning] feature_fraction is set=0.6238849798527195, colsample_bytree=1.0 will be ignored. Current value: feature_fraction=0.6238849798527195\n",
      "[LightGBM] [Warning] lambda_l1 is set=0.0015906633137008988, reg_alpha=0.0 will be ignored. Current value: lambda_l1=0.0015906633137008988\n",
      "[LightGBM] [Warning] bagging_fraction is set=0.5296938806007961, subsample=1.0 will be ignored. Current value: bagging_fraction=0.5296938806007961\n",
      "[LightGBM] [Warning] lambda_l2 is set=3.633332828224949e-08, reg_lambda=0.0 will be ignored. Current value: lambda_l2=3.633332828224949e-08\n",
      "[LightGBM] [Warning] bagging_freq is set=3, subsample_freq=0 will be ignored. Current value: bagging_freq=3\n",
      "[LightGBM] [Warning] feature_fraction is set=0.644987497973182, colsample_bytree=1.0 will be ignored. Current value: feature_fraction=0.644987497973182\n",
      "[LightGBM] [Warning] lambda_l1 is set=0.03568788999899787, reg_alpha=0.0 will be ignored. Current value: lambda_l1=0.03568788999899787\n",
      "[LightGBM] [Warning] bagging_fraction is set=0.5000015278677769, subsample=1.0 will be ignored. Current value: bagging_fraction=0.5000015278677769\n",
      "[LightGBM] [Warning] lambda_l2 is set=8.294535396303365e-08, reg_lambda=0.0 will be ignored. Current value: lambda_l2=8.294535396303365e-08\n",
      "[LightGBM] [Warning] bagging_freq is set=4, subsample_freq=0 will be ignored. Current value: bagging_freq=4\n"
     ]
    },
    {
     "name": "stderr",
     "output_type": "stream",
     "text": [
      "\u001b[32m[I 2022-12-15 18:52:01,820]\u001b[0m Trial 82 finished with value: 0.7929422030140213 and parameters: {'lambda_l1': 0.03568788999899787, 'lambda_l2': 8.294535396303365e-08, 'num_leaves': 10, 'feature_fraction': 0.644987497973182, 'bagging_fraction': 0.5000015278677769, 'bagging_freq': 4, 'min_child_samples': 60}. Best is trial 57 with value: 0.8023305924189872.\u001b[0m\n"
     ]
    },
    {
     "name": "stdout",
     "output_type": "stream",
     "text": [
      "[LightGBM] [Warning] feature_fraction is set=0.6763528545189862, colsample_bytree=1.0 will be ignored. Current value: feature_fraction=0.6763528545189862\n",
      "[LightGBM] [Warning] lambda_l1 is set=0.0038430544445036316, reg_alpha=0.0 will be ignored. Current value: lambda_l1=0.0038430544445036316\n",
      "[LightGBM] [Warning] bagging_fraction is set=0.45456305205173375, subsample=1.0 will be ignored. Current value: bagging_fraction=0.45456305205173375\n",
      "[LightGBM] [Warning] lambda_l2 is set=1.3191541118662013e-08, reg_lambda=0.0 will be ignored. Current value: lambda_l2=1.3191541118662013e-08\n",
      "[LightGBM] [Warning] bagging_freq is set=2, subsample_freq=0 will be ignored. Current value: bagging_freq=2\n"
     ]
    },
    {
     "name": "stderr",
     "output_type": "stream",
     "text": [
      "\u001b[32m[I 2022-12-15 18:52:02,380]\u001b[0m Trial 83 finished with value: 0.7863187432466417 and parameters: {'lambda_l1': 0.0038430544445036316, 'lambda_l2': 1.3191541118662013e-08, 'num_leaves': 16, 'feature_fraction': 0.6763528545189862, 'bagging_fraction': 0.45456305205173375, 'bagging_freq': 2, 'min_child_samples': 54}. Best is trial 57 with value: 0.8023305924189872.\u001b[0m\n"
     ]
    },
    {
     "name": "stdout",
     "output_type": "stream",
     "text": [
      "[LightGBM] [Warning] feature_fraction is set=0.7537887445087437, colsample_bytree=1.0 will be ignored. Current value: feature_fraction=0.7537887445087437\n",
      "[LightGBM] [Warning] lambda_l1 is set=0.007169841264940123, reg_alpha=0.0 will be ignored. Current value: lambda_l1=0.007169841264940123\n",
      "[LightGBM] [Warning] bagging_fraction is set=0.5145639668367235, subsample=1.0 will be ignored. Current value: bagging_fraction=0.5145639668367235\n",
      "[LightGBM] [Warning] lambda_l2 is set=3.0567024383841946e-08, reg_lambda=0.0 will be ignored. Current value: lambda_l2=3.0567024383841946e-08\n",
      "[LightGBM] [Warning] bagging_freq is set=2, subsample_freq=0 will be ignored. Current value: bagging_freq=2\n"
     ]
    },
    {
     "name": "stderr",
     "output_type": "stream",
     "text": [
      "\u001b[32m[I 2022-12-15 18:52:02,839]\u001b[0m Trial 84 finished with value: 0.7958997814513443 and parameters: {'lambda_l1': 0.007169841264940123, 'lambda_l2': 3.0567024383841946e-08, 'num_leaves': 7, 'feature_fraction': 0.7537887445087437, 'bagging_fraction': 0.5145639668367235, 'bagging_freq': 2, 'min_child_samples': 63}. Best is trial 57 with value: 0.8023305924189872.\u001b[0m\n"
     ]
    },
    {
     "name": "stdout",
     "output_type": "stream",
     "text": [
      "[LightGBM] [Warning] feature_fraction is set=0.7837148532074049, colsample_bytree=1.0 will be ignored. Current value: feature_fraction=0.7837148532074049\n",
      "[LightGBM] [Warning] lambda_l1 is set=0.011404314948589562, reg_alpha=0.0 will be ignored. Current value: lambda_l1=0.011404314948589562\n",
      "[LightGBM] [Warning] bagging_fraction is set=0.48050667056860796, subsample=1.0 will be ignored. Current value: bagging_fraction=0.48050667056860796\n",
      "[LightGBM] [Warning] lambda_l2 is set=5.4912660161622013e-08, reg_lambda=0.0 will be ignored. Current value: lambda_l2=5.4912660161622013e-08\n",
      "[LightGBM] [Warning] bagging_freq is set=1, subsample_freq=0 will be ignored. Current value: bagging_freq=1\n"
     ]
    },
    {
     "name": "stderr",
     "output_type": "stream",
     "text": [
      "\u001b[32m[I 2022-12-15 18:52:03,434]\u001b[0m Trial 85 finished with value: 0.7849230624347979 and parameters: {'lambda_l1': 0.011404314948589562, 'lambda_l2': 5.4912660161622013e-08, 'num_leaves': 20, 'feature_fraction': 0.7837148532074049, 'bagging_fraction': 0.48050667056860796, 'bagging_freq': 1, 'min_child_samples': 96}. Best is trial 57 with value: 0.8023305924189872.\u001b[0m\n"
     ]
    },
    {
     "name": "stdout",
     "output_type": "stream",
     "text": [
      "[LightGBM] [Warning] feature_fraction is set=0.6920914733548879, colsample_bytree=1.0 will be ignored. Current value: feature_fraction=0.6920914733548879\n",
      "[LightGBM] [Warning] lambda_l1 is set=0.002201135828762299, reg_alpha=0.0 will be ignored. Current value: lambda_l1=0.002201135828762299\n",
      "[LightGBM] [Warning] bagging_fraction is set=0.5422048746773172, subsample=1.0 will be ignored. Current value: bagging_fraction=0.5422048746773172\n",
      "[LightGBM] [Warning] lambda_l2 is set=2.106471182641442e-07, reg_lambda=0.0 will be ignored. Current value: lambda_l2=2.106471182641442e-07\n",
      "[LightGBM] [Warning] bagging_freq is set=3, subsample_freq=0 will be ignored. Current value: bagging_freq=3\n"
     ]
    },
    {
     "name": "stderr",
     "output_type": "stream",
     "text": [
      "\u001b[32m[I 2022-12-15 18:52:03,758]\u001b[0m Trial 86 finished with value: 0.8006596989886507 and parameters: {'lambda_l1': 0.002201135828762299, 'lambda_l2': 2.106471182641442e-07, 'num_leaves': 3, 'feature_fraction': 0.6920914733548879, 'bagging_fraction': 0.5422048746773172, 'bagging_freq': 3, 'min_child_samples': 49}. Best is trial 57 with value: 0.8023305924189872.\u001b[0m\n"
     ]
    },
    {
     "name": "stdout",
     "output_type": "stream",
     "text": [
      "[LightGBM] [Warning] feature_fraction is set=0.6586695292846244, colsample_bytree=1.0 will be ignored. Current value: feature_fraction=0.6586695292846244\n",
      "[LightGBM] [Warning] lambda_l1 is set=0.022373982618552307, reg_alpha=0.0 will be ignored. Current value: lambda_l1=0.022373982618552307\n",
      "[LightGBM] [Warning] bagging_fraction is set=0.5976735794741461, subsample=1.0 will be ignored. Current value: bagging_fraction=0.5976735794741461\n",
      "[LightGBM] [Warning] lambda_l2 is set=0.0018696106316735005, reg_lambda=0.0 will be ignored. Current value: lambda_l2=0.0018696106316735005\n",
      "[LightGBM] [Warning] bagging_freq is set=4, subsample_freq=0 will be ignored. Current value: bagging_freq=4\n"
     ]
    },
    {
     "name": "stderr",
     "output_type": "stream",
     "text": [
      "\u001b[32m[I 2022-12-15 18:52:05,161]\u001b[0m Trial 87 finished with value: 0.7745183523379714 and parameters: {'lambda_l1': 0.022373982618552307, 'lambda_l2': 0.0018696106316735005, 'num_leaves': 46, 'feature_fraction': 0.6586695292846244, 'bagging_fraction': 0.5976735794741461, 'bagging_freq': 4, 'min_child_samples': 67}. Best is trial 57 with value: 0.8023305924189872.\u001b[0m\n"
     ]
    },
    {
     "name": "stdout",
     "output_type": "stream",
     "text": [
      "[LightGBM] [Warning] feature_fraction is set=0.583967943053624, colsample_bytree=1.0 will be ignored. Current value: feature_fraction=0.583967943053624\n",
      "[LightGBM] [Warning] lambda_l1 is set=0.0001549004298346282, reg_alpha=0.0 will be ignored. Current value: lambda_l1=0.0001549004298346282\n",
      "[LightGBM] [Warning] bagging_fraction is set=0.4934121584925065, subsample=1.0 will be ignored. Current value: bagging_fraction=0.4934121584925065\n",
      "[LightGBM] [Warning] lambda_l2 is set=1.0722368975857091e-07, reg_lambda=0.0 will be ignored. Current value: lambda_l2=1.0722368975857091e-07\n",
      "[LightGBM] [Warning] bagging_freq is set=2, subsample_freq=0 will be ignored. Current value: bagging_freq=2\n"
     ]
    },
    {
     "name": "stderr",
     "output_type": "stream",
     "text": [
      "\u001b[32m[I 2022-12-15 18:52:06,398]\u001b[0m Trial 88 finished with value: 0.7702352106609311 and parameters: {'lambda_l1': 0.0001549004298346282, 'lambda_l2': 1.0722368975857091e-07, 'num_leaves': 57, 'feature_fraction': 0.583967943053624, 'bagging_fraction': 0.4934121584925065, 'bagging_freq': 2, 'min_child_samples': 57}. Best is trial 57 with value: 0.8023305924189872.\u001b[0m\n",
      "\u001b[32m[I 2022-12-15 18:52:06,633]\u001b[0m Trial 89 finished with value: 0.8024360473313946 and parameters: {'lambda_l1': 0.20294875538671048, 'lambda_l2': 1.641420137329384e-08, 'num_leaves': 2, 'feature_fraction': 0.6223600146497766, 'bagging_fraction': 0.4400452648019314, 'bagging_freq': 3, 'min_child_samples': 78}. Best is trial 89 with value: 0.8024360473313946.\u001b[0m\n"
     ]
    },
    {
     "name": "stdout",
     "output_type": "stream",
     "text": [
      "[LightGBM] [Warning] feature_fraction is set=0.6223600146497766, colsample_bytree=1.0 will be ignored. Current value: feature_fraction=0.6223600146497766\n",
      "[LightGBM] [Warning] lambda_l1 is set=0.20294875538671048, reg_alpha=0.0 will be ignored. Current value: lambda_l1=0.20294875538671048\n",
      "[LightGBM] [Warning] bagging_fraction is set=0.4400452648019314, subsample=1.0 will be ignored. Current value: bagging_fraction=0.4400452648019314\n",
      "[LightGBM] [Warning] lambda_l2 is set=1.641420137329384e-08, reg_lambda=0.0 will be ignored. Current value: lambda_l2=1.641420137329384e-08\n",
      "[LightGBM] [Warning] bagging_freq is set=3, subsample_freq=0 will be ignored. Current value: bagging_freq=3\n",
      "[LightGBM] [Warning] feature_fraction is set=0.6208534252436195, colsample_bytree=1.0 will be ignored. Current value: feature_fraction=0.6208534252436195\n",
      "[LightGBM] [Warning] lambda_l1 is set=0.5481708575138052, reg_alpha=0.0 will be ignored. Current value: lambda_l1=0.5481708575138052\n",
      "[LightGBM] [Warning] bagging_fraction is set=0.4193004230243798, subsample=1.0 will be ignored. Current value: bagging_fraction=0.4193004230243798\n",
      "[LightGBM] [Warning] lambda_l2 is set=1.0474700912815005e-08, reg_lambda=0.0 will be ignored. Current value: lambda_l2=1.0474700912815005e-08\n",
      "[LightGBM] [Warning] bagging_freq is set=3, subsample_freq=0 will be ignored. Current value: bagging_freq=3\n"
     ]
    },
    {
     "name": "stderr",
     "output_type": "stream",
     "text": [
      "\u001b[32m[I 2022-12-15 18:52:07,028]\u001b[0m Trial 90 finished with value: 0.7961729701870504 and parameters: {'lambda_l1': 0.5481708575138052, 'lambda_l2': 1.0474700912815005e-08, 'num_leaves': 9, 'feature_fraction': 0.6208534252436195, 'bagging_fraction': 0.4193004230243798, 'bagging_freq': 3, 'min_child_samples': 78}. Best is trial 89 with value: 0.8024360473313946.\u001b[0m\n"
     ]
    },
    {
     "name": "stdout",
     "output_type": "stream",
     "text": [
      "[LightGBM] [Warning] feature_fraction is set=0.6464446627611903, colsample_bytree=1.0 will be ignored. Current value: feature_fraction=0.6464446627611903\n",
      "[LightGBM] [Warning] lambda_l1 is set=0.0005063630263210941, reg_alpha=0.0 will be ignored. Current value: lambda_l1=0.0005063630263210941\n",
      "[LightGBM] [Warning] bagging_fraction is set=0.4748134045898769, subsample=1.0 will be ignored. Current value: bagging_fraction=0.4748134045898769\n",
      "[LightGBM] [Warning] lambda_l2 is set=2.8089771049894153e-08, reg_lambda=0.0 will be ignored. Current value: lambda_l2=2.8089771049894153e-08\n",
      "[LightGBM] [Warning] bagging_freq is set=3, subsample_freq=0 will be ignored. Current value: bagging_freq=3\n"
     ]
    },
    {
     "name": "stderr",
     "output_type": "stream",
     "text": [
      "\u001b[32m[I 2022-12-15 18:52:07,552]\u001b[0m Trial 91 finished with value: 0.7895496642339634 and parameters: {'lambda_l1': 0.0005063630263210941, 'lambda_l2': 2.8089771049894153e-08, 'num_leaves': 16, 'feature_fraction': 0.6464446627611903, 'bagging_fraction': 0.4748134045898769, 'bagging_freq': 3, 'min_child_samples': 72}. Best is trial 89 with value: 0.8024360473313946.\u001b[0m\n",
      "\u001b[32m[I 2022-12-15 18:52:07,799]\u001b[0m Trial 92 finished with value: 0.8022545543200593 and parameters: {'lambda_l1': 0.09766904226247343, 'lambda_l2': 0.00022120669862434479, 'num_leaves': 2, 'feature_fraction': 0.5675091689416573, 'bagging_fraction': 0.44021364425083537, 'bagging_freq': 2, 'min_child_samples': 87}. Best is trial 89 with value: 0.8024360473313946.\u001b[0m\n"
     ]
    },
    {
     "name": "stdout",
     "output_type": "stream",
     "text": [
      "[LightGBM] [Warning] feature_fraction is set=0.5675091689416573, colsample_bytree=1.0 will be ignored. Current value: feature_fraction=0.5675091689416573\n",
      "[LightGBM] [Warning] lambda_l1 is set=0.09766904226247343, reg_alpha=0.0 will be ignored. Current value: lambda_l1=0.09766904226247343\n",
      "[LightGBM] [Warning] bagging_fraction is set=0.44021364425083537, subsample=1.0 will be ignored. Current value: bagging_fraction=0.44021364425083537\n",
      "[LightGBM] [Warning] lambda_l2 is set=0.00022120669862434479, reg_lambda=0.0 will be ignored. Current value: lambda_l2=0.00022120669862434479\n",
      "[LightGBM] [Warning] bagging_freq is set=2, subsample_freq=0 will be ignored. Current value: bagging_freq=2\n"
     ]
    },
    {
     "name": "stderr",
     "output_type": "stream",
     "text": [
      "\u001b[32m[I 2022-12-15 18:52:08,047]\u001b[0m Trial 93 finished with value: 0.8021336149569042 and parameters: {'lambda_l1': 0.23134243645488958, 'lambda_l2': 0.000363553233388717, 'num_leaves': 2, 'feature_fraction': 0.5311904747004098, 'bagging_fraction': 0.4410393678592854, 'bagging_freq': 2, 'min_child_samples': 90}. Best is trial 89 with value: 0.8024360473313946.\u001b[0m\n"
     ]
    },
    {
     "name": "stdout",
     "output_type": "stream",
     "text": [
      "[LightGBM] [Warning] feature_fraction is set=0.5311904747004098, colsample_bytree=1.0 will be ignored. Current value: feature_fraction=0.5311904747004098\n",
      "[LightGBM] [Warning] lambda_l1 is set=0.23134243645488958, reg_alpha=0.0 will be ignored. Current value: lambda_l1=0.23134243645488958\n",
      "[LightGBM] [Warning] bagging_fraction is set=0.4410393678592854, subsample=1.0 will be ignored. Current value: bagging_fraction=0.4410393678592854\n",
      "[LightGBM] [Warning] lambda_l2 is set=0.000363553233388717, reg_lambda=0.0 will be ignored. Current value: lambda_l2=0.000363553233388717\n",
      "[LightGBM] [Warning] bagging_freq is set=2, subsample_freq=0 will be ignored. Current value: bagging_freq=2\n",
      "[LightGBM] [Warning] feature_fraction is set=0.5344870109215211, colsample_bytree=1.0 will be ignored. Current value: feature_fraction=0.5344870109215211\n",
      "[LightGBM] [Warning] lambda_l1 is set=0.38248408234296793, reg_alpha=0.0 will be ignored. Current value: lambda_l1=0.38248408234296793\n",
      "[LightGBM] [Warning] bagging_fraction is set=0.4400254067604911, subsample=1.0 will be ignored. Current value: bagging_fraction=0.4400254067604911\n",
      "[LightGBM] [Warning] lambda_l2 is set=0.0003975283594523491, reg_lambda=0.0 will be ignored. Current value: lambda_l2=0.0003975283594523491\n",
      "[LightGBM] [Warning] bagging_freq is set=2, subsample_freq=0 will be ignored. Current value: bagging_freq=2\n"
     ]
    },
    {
     "name": "stderr",
     "output_type": "stream",
     "text": [
      "\u001b[32m[I 2022-12-15 18:52:08,462]\u001b[0m Trial 94 finished with value: 0.793996029090352 and parameters: {'lambda_l1': 0.38248408234296793, 'lambda_l2': 0.0003975283594523491, 'num_leaves': 9, 'feature_fraction': 0.5344870109215211, 'bagging_fraction': 0.4400254067604911, 'bagging_freq': 2, 'min_child_samples': 91}. Best is trial 89 with value: 0.8024360473313946.\u001b[0m\n"
     ]
    },
    {
     "name": "stdout",
     "output_type": "stream",
     "text": [
      "[LightGBM] [Warning] feature_fraction is set=0.569928376513589, colsample_bytree=1.0 will be ignored. Current value: feature_fraction=0.569928376513589\n",
      "[LightGBM] [Warning] lambda_l1 is set=1.218231813490096, reg_alpha=0.0 will be ignored. Current value: lambda_l1=1.218231813490096\n",
      "[LightGBM] [Warning] bagging_fraction is set=0.425220491843999, subsample=1.0 will be ignored. Current value: bagging_fraction=0.425220491843999\n",
      "[LightGBM] [Warning] lambda_l2 is set=0.00014634156258766517, reg_lambda=0.0 will be ignored. Current value: lambda_l2=0.00014634156258766517\n",
      "[LightGBM] [Warning] bagging_freq is set=2, subsample_freq=0 will be ignored. Current value: bagging_freq=2\n"
     ]
    },
    {
     "name": "stderr",
     "output_type": "stream",
     "text": [
      "\u001b[32m[I 2022-12-15 18:52:09,248]\u001b[0m Trial 95 finished with value: 0.7842462673814397 and parameters: {'lambda_l1': 1.218231813490096, 'lambda_l2': 0.00014634156258766517, 'num_leaves': 27, 'feature_fraction': 0.569928376513589, 'bagging_fraction': 0.425220491843999, 'bagging_freq': 2, 'min_child_samples': 88}. Best is trial 89 with value: 0.8024360473313946.\u001b[0m\n"
     ]
    },
    {
     "name": "stdout",
     "output_type": "stream",
     "text": [
      "[LightGBM] [Warning] feature_fraction is set=0.4903059181829976, colsample_bytree=1.0 will be ignored. Current value: feature_fraction=0.4903059181829976\n",
      "[LightGBM] [Warning] lambda_l1 is set=0.22450302769078134, reg_alpha=0.0 will be ignored. Current value: lambda_l1=0.22450302769078134\n",
      "[LightGBM] [Warning] bagging_fraction is set=0.4557454078550722, subsample=1.0 will be ignored. Current value: bagging_fraction=0.4557454078550722\n",
      "[LightGBM] [Warning] lambda_l2 is set=0.0002261661821333799, reg_lambda=0.0 will be ignored. Current value: lambda_l2=0.0002261661821333799\n",
      "[LightGBM] [Warning] bagging_freq is set=2, subsample_freq=0 will be ignored. Current value: bagging_freq=2\n"
     ]
    },
    {
     "name": "stderr",
     "output_type": "stream",
     "text": [
      "\u001b[32m[I 2022-12-15 18:52:09,827]\u001b[0m Trial 96 finished with value: 0.7898807042128756 and parameters: {'lambda_l1': 0.22450302769078134, 'lambda_l2': 0.0002261661821333799, 'num_leaves': 16, 'feature_fraction': 0.4903059181829976, 'bagging_fraction': 0.4557454078550722, 'bagging_freq': 2, 'min_child_samples': 81}. Best is trial 89 with value: 0.8024360473313946.\u001b[0m\n"
     ]
    },
    {
     "name": "stdout",
     "output_type": "stream",
     "text": [
      "[LightGBM] [Warning] feature_fraction is set=0.5271504467516269, colsample_bytree=1.0 will be ignored. Current value: feature_fraction=0.5271504467516269\n",
      "[LightGBM] [Warning] lambda_l1 is set=0.13408649726117725, reg_alpha=0.0 will be ignored. Current value: lambda_l1=0.13408649726117725\n",
      "[LightGBM] [Warning] bagging_fraction is set=0.4015748030392243, subsample=1.0 will be ignored. Current value: bagging_fraction=0.4015748030392243\n",
      "[LightGBM] [Warning] lambda_l2 is set=3.389968207452664e-05, reg_lambda=0.0 will be ignored. Current value: lambda_l2=3.389968207452664e-05\n",
      "[LightGBM] [Warning] bagging_freq is set=3, subsample_freq=0 will be ignored. Current value: bagging_freq=3\n"
     ]
    },
    {
     "name": "stderr",
     "output_type": "stream",
     "text": [
      "\u001b[32m[I 2022-12-15 18:52:10,425]\u001b[0m Trial 97 finished with value: 0.7881450950237503 and parameters: {'lambda_l1': 0.13408649726117725, 'lambda_l2': 3.389968207452664e-05, 'num_leaves': 22, 'feature_fraction': 0.5271504467516269, 'bagging_fraction': 0.4015748030392243, 'bagging_freq': 3, 'min_child_samples': 80}. Best is trial 89 with value: 0.8024360473313946.\u001b[0m\n"
     ]
    },
    {
     "name": "stdout",
     "output_type": "stream",
     "text": [
      "[LightGBM] [Warning] feature_fraction is set=0.6003320678352664, colsample_bytree=1.0 will be ignored. Current value: feature_fraction=0.6003320678352664\n",
      "[LightGBM] [Warning] lambda_l1 is set=0.03959414247462695, reg_alpha=0.0 will be ignored. Current value: lambda_l1=0.03959414247462695\n",
      "[LightGBM] [Warning] bagging_fraction is set=0.43915815815766396, subsample=1.0 will be ignored. Current value: bagging_fraction=0.43915815815766396\n",
      "[LightGBM] [Warning] lambda_l2 is set=0.00010341823372380767, reg_lambda=0.0 will be ignored. Current value: lambda_l2=0.00010341823372380767\n",
      "[LightGBM] [Warning] bagging_freq is set=1, subsample_freq=0 will be ignored. Current value: bagging_freq=1\n"
     ]
    },
    {
     "name": "stderr",
     "output_type": "stream",
     "text": [
      "\u001b[32m[I 2022-12-15 18:52:10,789]\u001b[0m Trial 98 finished with value: 0.7965850105559902 and parameters: {'lambda_l1': 0.03959414247462695, 'lambda_l2': 0.00010341823372380767, 'num_leaves': 7, 'feature_fraction': 0.6003320678352664, 'bagging_fraction': 0.43915815815766396, 'bagging_freq': 1, 'min_child_samples': 85}. Best is trial 89 with value: 0.8024360473313946.\u001b[0m\n"
     ]
    },
    {
     "name": "stdout",
     "output_type": "stream",
     "text": [
      "[LightGBM] [Warning] feature_fraction is set=0.552484638805519, colsample_bytree=1.0 will be ignored. Current value: feature_fraction=0.552484638805519\n",
      "[LightGBM] [Warning] lambda_l1 is set=3.5502822366859292, reg_alpha=0.0 will be ignored. Current value: lambda_l1=3.5502822366859292\n",
      "[LightGBM] [Warning] bagging_fraction is set=0.5153626786540089, subsample=1.0 will be ignored. Current value: bagging_fraction=0.5153626786540089\n",
      "[LightGBM] [Warning] lambda_l2 is set=0.0006313714689846409, reg_lambda=0.0 will be ignored. Current value: lambda_l2=0.0006313714689846409\n",
      "[LightGBM] [Warning] bagging_freq is set=2, subsample_freq=0 will be ignored. Current value: bagging_freq=2\n"
     ]
    },
    {
     "name": "stderr",
     "output_type": "stream",
     "text": [
      "\u001b[32m[I 2022-12-15 18:52:11,502]\u001b[0m Trial 99 finished with value: 0.7839031166201903 and parameters: {'lambda_l1': 3.5502822366859292, 'lambda_l2': 0.0006313714689846409, 'num_leaves': 32, 'feature_fraction': 0.552484638805519, 'bagging_fraction': 0.5153626786540089, 'bagging_freq': 2, 'min_child_samples': 83}. Best is trial 89 with value: 0.8024360473313946.\u001b[0m\n"
     ]
    },
    {
     "name": "stdout",
     "output_type": "stream",
     "text": [
      "Number of finished trials: 100\n",
      "Best trial:\n",
      "  Value: 0.8024360473313946\n",
      "  Params: \n",
      "    lambda_l1: 0.20294875538671048\n",
      "    lambda_l2: 1.641420137329384e-08\n",
      "    num_leaves: 2\n",
      "    feature_fraction: 0.6223600146497766\n",
      "    bagging_fraction: 0.4400452648019314\n",
      "    bagging_freq: 3\n",
      "    min_child_samples: 78\n"
     ]
    }
   ],
   "source": [
    "x_data = Train.drop(['credit'], axis=1)\n",
    "y_data = Train['credit']\n",
    "\n",
    "train_y_label = train_y\n",
    "valid_y_label = valid_y\n",
    "dtrain = lgb.Dataset(train_x, label=train_y_label)\n",
    "\n",
    "# FYI: Objective functions can take additional arguments\n",
    "# (https://optuna.readthedocs.io/en/stable/faq.html#objective-func-additional-args).\n",
    "def objective(trial):\n",
    "    param = {\n",
    "        \"objective\": \"multiclass\",\n",
    "        \"metric\": \"multi_logloss\",\n",
    "        \"verbosity\": -1,\n",
    "        \"boosting_type\": \"gbdt\",\n",
    "        \"lambda_l1\": trial.suggest_float(\"lambda_l1\", 1e-8, 10.0, log=True),\n",
    "        \"lambda_l2\": trial.suggest_float(\"lambda_l2\", 1e-8, 10.0, log=True),\n",
    "        \"num_leaves\": trial.suggest_int(\"num_leaves\", 2, 256),\n",
    "        \"feature_fraction\": trial.suggest_float(\"feature_fraction\", 0.4, 1.0),\n",
    "        \"bagging_fraction\": trial.suggest_float(\"bagging_fraction\", 0.4, 1.0),\n",
    "        \"bagging_freq\": trial.suggest_int(\"bagging_freq\", 1, 7),\n",
    "        \"min_child_samples\": trial.suggest_int(\"min_child_samples\", 5, 100),\n",
    "        'num_class': 3,\n",
    "    }\n",
    "\n",
    "    # gbm = lgb.train(param, dtrain)\n",
    "    # preds = gbm.predict(valid_x)\n",
    "    # log_score = log_loss(valid_y, preds)\n",
    "    \n",
    "    model = LGBMClassifier(**param)\n",
    "    lgb_model = model.fit(train_x, train_y, eval_set=[(valid_x, valid_y)], verbose=0, early_stopping_rounds=25)\n",
    "\n",
    "    preds = lgb_model.predict_proba(valid_x)\n",
    "    log_score = log_loss(valid_y, preds)\n",
    "    \n",
    "    return log_score\n",
    "\n",
    "study = optuna.create_study(direction=\"maximize\")\n",
    "study.optimize(objective, n_trials=100)\n",
    "\n",
    "print(\"Number of finished trials: {}\".format(len(study.trials)))\n",
    "\n",
    "print(\"Best trial:\")\n",
    "trial = study.best_trial\n",
    "\n",
    "print(\"  Value: {}\".format(trial.value))\n",
    "\n",
    "print(\"  Params: \")\n",
    "for key, value in trial.params.items():\n",
    "    print(\"    {}: {}\".format(key, value))"
   ]
  },
  {
   "cell_type": "code",
   "execution_count": 48,
   "id": "e421edf6-11b4-4bdf-9a0f-c9355562997b",
   "metadata": {
    "colab": {
     "base_uri": "https://localhost:8080/"
    },
    "id": "e421edf6-11b4-4bdf-9a0f-c9355562997b",
    "outputId": "d40a72bd-7f7b-445f-b9ae-3adce31a7301"
   },
   "outputs": [
    {
     "data": {
      "text/plain": [
       "{'lambda_l1': 0.20294875538671048,\n",
       " 'lambda_l2': 1.641420137329384e-08,\n",
       " 'num_leaves': 2,\n",
       " 'feature_fraction': 0.6223600146497766,\n",
       " 'bagging_fraction': 0.4400452648019314,\n",
       " 'bagging_freq': 3,\n",
       " 'min_child_samples': 78}"
      ]
     },
     "execution_count": 48,
     "metadata": {},
     "output_type": "execute_result"
    }
   ],
   "source": [
    "lgb_best = study.best_params\n",
    "lgb_best"
   ]
  },
  {
   "cell_type": "markdown",
   "id": "21325b47-7c44-403c-a0d1-bd1b14ec4217",
   "metadata": {
    "id": "21325b47-7c44-403c-a0d1-bd1b14ec4217"
   },
   "source": [
    "### Stacking Ensemble"
   ]
  },
  {
   "cell_type": "code",
   "execution_count": 49,
   "id": "b96962ff-a9ce-4e56-8d2a-eeead9866713",
   "metadata": {
    "id": "OamRsI9E195g"
   },
   "outputs": [],
   "source": [
    "\n",
    "ctb_best = {'learning_rate': 0.015778207856230707,\n",
    "             'bagging_temperature': 0.1872474191063101,\n",
    "             'n_estimators': 5431,\n",
    "             'max_depth': 11,\n",
    "             'random_strength': 2,\n",
    "             'colsample_bylevel': 0.4416172828184351,\n",
    "             'l2_leaf_reg': 0.0006604407155321971,\n",
    "             'min_child_samples': 24,\n",
    "             'max_bin': 206,\n",
    "             'od_type': 'Iter'}\n",
    "\n",
    "rf_best = {'max_depth': 16}\n",
    "\n",
    "lgb_best = {'lambda_l1': 0.20294875538671048,\n",
    "             'lambda_l2': 1.641420137329384e-08,\n",
    "             'num_leaves': 2,\n",
    "             'feature_fraction': 0.6223600146497766,\n",
    "             'bagging_fraction': 0.4400452648019314,\n",
    "             'bagging_freq': 3,\n",
    "             'min_child_samples': 78}"
   ]
  },
  {
   "cell_type": "code",
   "execution_count": null,
   "id": "472c2d85-4391-4234-9e3f-328af240758d",
   "metadata": {
    "id": "472c2d85-4391-4234-9e3f-328af240758d"
   },
   "outputs": [],
   "source": [
    "from sklearn.linear_model import LogisticRegression\n",
    "\n",
    "# get a stacking ensemble of models\n",
    "def get_stacking():\n",
    "\t# define the base models\n",
    "\tlevel0 = list()\n",
    "\tlevel0.append(('cat', CatBoostClassifier(**ctb_best)))\n",
    "\tlevel0.append(('rf', sklearn.ensemble.RandomForestClassifier(**rf_best)))\n",
    "\tlevel0.append(('lgb', lgb.LGBMClassifier(**lgb_best)))\n",
    "\t# define meta learner model\n",
    "\tlevel1 = LogisticRegression(max_iter=4000)\n",
    "\t# define the stacking ensemble\n",
    "\tmodel = StackingClassifier(estimators=level0, final_estimator=level1, cv=5)\n",
    "\treturn model\n",
    " \n",
    "# get a list of models to evaluate\n",
    "def get_models():\n",
    "\tmodels = dict()\n",
    "\t#models['svc'] = CatBoostClassifier(**ctb_best)\n",
    "\t#models['rf'] = sklearn.ensemble.RandomForestClassifier(**rf_best)\n",
    "\t#models['lgb'] = lgb.LGBMClassifier(**lgb_best)\n",
    "\tmodels['stacking'] = get_stacking()\n",
    "\treturn models\n",
    " \n",
    "# evaluate a give model using cross-validation\n",
    "def evaluate_model(model, x, y):\n",
    "\tcv = RepeatedStratifiedKFold(n_splits=5, n_repeats=3, random_state=1)\n",
    "\tscores = cross_val_score(model, x, y, scoring='neg_log_loss', cv=cv, n_jobs=-1)\n",
    "\treturn scores\n",
    " \n",
    "# get the models to evaluate\n",
    "models = get_models()\n",
    "\n",
    "# evaluate the models and store results\n",
    "results, names = list(), list()\n",
    "for name, model in models.items():\n",
    "\tscores = evaluate_model(model, x, y)\n",
    "\tresults.append(scores)\n",
    "\tnames.append(name)\n",
    "\tprint('>%s %.3f (%.3f)' % (name, np.mean(scores), np.std(scores)))\n"
   ]
  },
  {
   "cell_type": "code",
   "execution_count": null,
   "id": "2a4f6a5c-424f-405f-a5ff-aeeefe887d0a",
   "metadata": {
    "id": "2a4f6a5c-424f-405f-a5ff-aeeefe887d0a"
   },
   "outputs": [],
   "source": []
  },
  {
   "cell_type": "code",
   "execution_count": null,
   "id": "d7313cad-6a4d-457b-a811-491be980d810",
   "metadata": {
    "id": "d7313cad-6a4d-457b-a811-491be980d810"
   },
   "outputs": [],
   "source": []
  },
  {
   "cell_type": "code",
   "execution_count": null,
   "id": "5c692eea-426f-42d6-8441-ed589c3d97ce",
   "metadata": {
    "id": "5c692eea-426f-42d6-8441-ed589c3d97ce"
   },
   "outputs": [],
   "source": []
  },
  {
   "cell_type": "markdown",
   "id": "7e9e7698-f8cc-4ff3-baa6-69e7e3a88a9e",
   "metadata": {
    "id": "7e9e7698-f8cc-4ff3-baa6-69e7e3a88a9e"
   },
   "source": [
    "# plot model performance for comparison\n",
    "pyplot.boxplot(results, labels=names, showmeans=True)\n",
    "pyplot.show()"
   ]
  }
 ],
 "metadata": {
  "colab": {
   "provenance": []
  },
  "kernelspec": {
   "display_name": "Python 3 (ipykernel)",
   "language": "python",
   "name": "python3"
  },
  "language_info": {
   "codemirror_mode": {
    "name": "ipython",
    "version": 3
   },
   "file_extension": ".py",
   "mimetype": "text/x-python",
   "name": "python",
   "nbconvert_exporter": "python",
   "pygments_lexer": "ipython3",
   "version": "3.8.0"
  }
 },
 "nbformat": 4,
 "nbformat_minor": 5
}
