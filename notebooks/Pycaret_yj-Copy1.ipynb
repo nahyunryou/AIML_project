{
 "cells": [
  {
   "cell_type": "markdown",
   "metadata": {
    "id": "d_u2UqRwr0qH"
   },
   "source": [
    "# Pycaret with cleaned data"
   ]
  },
  {
   "cell_type": "markdown",
   "metadata": {
    "id": "oCDpNNMa2RuZ"
   },
   "source": [
    "## Virtual environment (to prevent version conflict)"
   ]
  },
  {
   "cell_type": "raw",
   "metadata": {
    "colab": {
     "base_uri": "https://localhost:8080/"
    },
    "id": "zXB_70rI2ybN",
    "outputId": "81097b23-d40f-47bc-ae86-adf57d03d05d"
   },
   "source": [
    "!which python # should return /usr/local/bin/python\n",
    "!python --version"
   ]
  },
  {
   "cell_type": "raw",
   "metadata": {
    "colab": {
     "base_uri": "https://localhost:8080/"
    },
    "id": "rtwH_Jvs20MX",
    "outputId": "5c7b6fb3-9760-4cb2-b1fe-946ee55036cf"
   },
   "source": [
    "!echo $PYTHONPATH # /env/python"
   ]
  },
  {
   "cell_type": "raw",
   "metadata": {
    "colab": {
     "base_uri": "https://localhost:8080/"
    },
    "id": "Q0HEQxuE20N-",
    "outputId": "a325a2f7-e6b8-4f7a-938d-d04f6ec00af8"
   },
   "source": [
    "%env PYTHONPATH="
   ]
  },
  {
   "cell_type": "raw",
   "metadata": {
    "colab": {
     "base_uri": "https://localhost:8080/"
    },
    "id": "pS0Iy24V20Pn",
    "outputId": "8996a2e5-1108-4ac2-f752-cd78c0815bc8"
   },
   "source": [
    "################################################################################\n",
    "# INSTALL CONDA ON GOOGLE COLAB\n",
    "################################################################################\n",
    "! wget https://repo.anaconda.com/miniconda/Miniconda3-py37_4.9.2-Linux-x86_64.sh\n",
    "! chmod +x Miniconda3-py37_4.9.2-Linux-x86_64.sh\n",
    "! bash ./Miniconda3-py37_4.9.2-Linux-x86_64.sh -b -f -p /usr/local\n",
    "import sys\n",
    "sys.path.append('/usr/local/lib/python3.7/site-packages/')\n",
    "!which conda  # should return /usr/local/bin/conda\n",
    "!conda --version"
   ]
  },
  {
   "cell_type": "raw",
   "metadata": {
    "colab": {
     "base_uri": "https://localhost:8080/"
    },
    "id": "pJX3BT8c20TW",
    "outputId": "33911c0a-9602-4da5-fea5-34c59b116455"
   },
   "source": [
    "!conda create -n new11 python==3.8"
   ]
  },
  {
   "cell_type": "raw",
   "metadata": {
    "colab": {
     "base_uri": "https://localhost:8080/"
    },
    "id": "GyETsJzt3DmP",
    "outputId": "3c884eef-0f19-4d3a-b1a4-eb32a015a299"
   },
   "source": [
    "!source activate new11 && conda env list"
   ]
  },
  {
   "cell_type": "raw",
   "metadata": {
    "colab": {
     "base_uri": "https://localhost:8080/"
    },
    "id": "h4IqMgVv3dN1",
    "outputId": "30b69247-f9ae-4009-f707-b92b03f2f910"
   },
   "source": [
    "#!conda uninstall scikit-learn\n",
    "#!conda install scikit-learn==0.23.2\n",
    "!pip install pip install imbalanced-learn==0.7.0 \n",
    "!pip install pycaret==2.3.10\n",
    "\n",
    "\n",
    "#!pip install pandas==1.2.4\n",
    "#!pip install numpy==1.19.5\n",
    "\n",
    "# --use-feature=2020-resolver # Even if there is an error, you can just proceed.\n"
   ]
  },
  {
   "cell_type": "code",
   "execution_count": 1,
   "metadata": {
    "id": "YL2g4a5xDCL5"
   },
   "outputs": [
    {
     "name": "stdout",
     "output_type": "stream",
     "text": [
      "Requirement already satisfied: pycaret in /Users/ojoo/opt/anaconda3/envs/new1/lib/python3.8/site-packages (2.3.10)\n",
      "Requirement already satisfied: umap-learn in /Users/ojoo/opt/anaconda3/envs/new1/lib/python3.8/site-packages (from pycaret) (0.5.3)\n",
      "Requirement already satisfied: pyyaml<6.0.0 in /Users/ojoo/opt/anaconda3/envs/new1/lib/python3.8/site-packages (from pycaret) (5.4.1)\n",
      "Requirement already satisfied: plotly>=4.4.1 in /Users/ojoo/opt/anaconda3/envs/new1/lib/python3.8/site-packages (from pycaret) (5.11.0)\n",
      "Requirement already satisfied: cufflinks>=0.17.0 in /Users/ojoo/opt/anaconda3/envs/new1/lib/python3.8/site-packages (from pycaret) (0.17.3)\n",
      "Requirement already satisfied: scikit-plot in /Users/ojoo/opt/anaconda3/envs/new1/lib/python3.8/site-packages (from pycaret) (0.3.7)\n",
      "Requirement already satisfied: pandas in /Users/ojoo/opt/anaconda3/envs/new1/lib/python3.8/site-packages (from pycaret) (1.5.2)\n",
      "Requirement already satisfied: scipy<=1.5.4 in /Users/ojoo/opt/anaconda3/envs/new1/lib/python3.8/site-packages (from pycaret) (1.5.4)\n",
      "Requirement already satisfied: seaborn in /Users/ojoo/opt/anaconda3/envs/new1/lib/python3.8/site-packages (from pycaret) (0.12.1)\n",
      "Requirement already satisfied: numba<0.55 in /Users/ojoo/opt/anaconda3/envs/new1/lib/python3.8/site-packages (from pycaret) (0.54.1)\n",
      "Requirement already satisfied: mlxtend>=0.17.0 in /Users/ojoo/opt/anaconda3/envs/new1/lib/python3.8/site-packages (from pycaret) (0.19.0)\n",
      "Requirement already satisfied: pandas-profiling>=2.8.0 in /Users/ojoo/opt/anaconda3/envs/new1/lib/python3.8/site-packages (from pycaret) (3.5.0)\n",
      "Requirement already satisfied: Boruta in /Users/ojoo/opt/anaconda3/envs/new1/lib/python3.8/site-packages (from pycaret) (0.3)\n",
      "Requirement already satisfied: mlflow in /Users/ojoo/opt/anaconda3/envs/new1/lib/python3.8/site-packages (from pycaret) (2.0.1)\n",
      "Requirement already satisfied: scikit-learn==0.23.2 in /Users/ojoo/opt/anaconda3/envs/new1/lib/python3.8/site-packages (from pycaret) (0.23.2)\n",
      "Requirement already satisfied: pyLDAvis in /Users/ojoo/opt/anaconda3/envs/new1/lib/python3.8/site-packages (from pycaret) (3.3.1)\n",
      "Requirement already satisfied: spacy<2.4.0 in /Users/ojoo/opt/anaconda3/envs/new1/lib/python3.8/site-packages (from pycaret) (2.3.8)\n",
      "Requirement already satisfied: pyod in /Users/ojoo/opt/anaconda3/envs/new1/lib/python3.8/site-packages (from pycaret) (1.0.6)\n",
      "Requirement already satisfied: joblib in /Users/ojoo/opt/anaconda3/envs/new1/lib/python3.8/site-packages (from pycaret) (1.2.0)\n",
      "Requirement already satisfied: kmodes>=0.10.1 in /Users/ojoo/opt/anaconda3/envs/new1/lib/python3.8/site-packages (from pycaret) (0.12.2)\n",
      "Requirement already satisfied: nltk in /Users/ojoo/opt/anaconda3/envs/new1/lib/python3.8/site-packages (from pycaret) (3.7)\n",
      "Requirement already satisfied: textblob in /Users/ojoo/opt/anaconda3/envs/new1/lib/python3.8/site-packages (from pycaret) (0.17.1)\n",
      "Requirement already satisfied: imbalanced-learn==0.7.0 in /Users/ojoo/opt/anaconda3/envs/new1/lib/python3.8/site-packages (from pycaret) (0.7.0)\n",
      "Requirement already satisfied: matplotlib in /Users/ojoo/opt/anaconda3/envs/new1/lib/python3.8/site-packages (from pycaret) (3.6.2)\n",
      "Requirement already satisfied: yellowbrick>=1.0.1 in /Users/ojoo/opt/anaconda3/envs/new1/lib/python3.8/site-packages (from pycaret) (1.2.1)\n",
      "Requirement already satisfied: IPython in /Users/ojoo/opt/anaconda3/envs/new1/lib/python3.8/site-packages (from pycaret) (8.7.0)\n",
      "Requirement already satisfied: gensim<4.0.0 in /Users/ojoo/opt/anaconda3/envs/new1/lib/python3.8/site-packages (from pycaret) (3.8.3)\n",
      "Requirement already satisfied: ipywidgets in /Users/ojoo/opt/anaconda3/envs/new1/lib/python3.8/site-packages (from pycaret) (8.0.2)\n",
      "Requirement already satisfied: wordcloud in /Users/ojoo/opt/anaconda3/envs/new1/lib/python3.8/site-packages (from pycaret) (1.8.2.2)\n",
      "Requirement already satisfied: lightgbm>=2.3.1 in /Users/ojoo/opt/anaconda3/envs/new1/lib/python3.8/site-packages (from pycaret) (3.3.3)\n",
      "Requirement already satisfied: numpy>=1.13.3 in /Users/ojoo/opt/anaconda3/envs/new1/lib/python3.8/site-packages (from imbalanced-learn==0.7.0->pycaret) (1.20.3)\n",
      "Requirement already satisfied: threadpoolctl>=2.0.0 in /Users/ojoo/opt/anaconda3/envs/new1/lib/python3.8/site-packages (from scikit-learn==0.23.2->pycaret) (3.1.0)\n",
      "Requirement already satisfied: colorlover>=0.2.1 in /Users/ojoo/opt/anaconda3/envs/new1/lib/python3.8/site-packages (from cufflinks>=0.17.0->pycaret) (0.3.0)\n",
      "Requirement already satisfied: six>=1.9.0 in /Users/ojoo/opt/anaconda3/envs/new1/lib/python3.8/site-packages (from cufflinks>=0.17.0->pycaret) (1.16.0)\n",
      "Requirement already satisfied: setuptools>=34.4.1 in /Users/ojoo/opt/anaconda3/envs/new1/lib/python3.8/site-packages (from cufflinks>=0.17.0->pycaret) (65.5.0)\n",
      "Requirement already satisfied: smart-open>=1.8.1 in /Users/ojoo/opt/anaconda3/envs/new1/lib/python3.8/site-packages (from gensim<4.0.0->pycaret) (6.2.0)\n",
      "Requirement already satisfied: pygments>=2.4.0 in /Users/ojoo/opt/anaconda3/envs/new1/lib/python3.8/site-packages (from IPython->pycaret) (2.13.0)\n",
      "Requirement already satisfied: matplotlib-inline in /Users/ojoo/opt/anaconda3/envs/new1/lib/python3.8/site-packages (from IPython->pycaret) (0.1.6)\n",
      "Requirement already satisfied: backcall in /Users/ojoo/opt/anaconda3/envs/new1/lib/python3.8/site-packages (from IPython->pycaret) (0.2.0)\n",
      "Requirement already satisfied: stack-data in /Users/ojoo/opt/anaconda3/envs/new1/lib/python3.8/site-packages (from IPython->pycaret) (0.6.2)\n",
      "Requirement already satisfied: decorator in /Users/ojoo/opt/anaconda3/envs/new1/lib/python3.8/site-packages (from IPython->pycaret) (5.1.1)\n",
      "Requirement already satisfied: jedi>=0.16 in /Users/ojoo/opt/anaconda3/envs/new1/lib/python3.8/site-packages (from IPython->pycaret) (0.18.2)\n",
      "Requirement already satisfied: pickleshare in /Users/ojoo/opt/anaconda3/envs/new1/lib/python3.8/site-packages (from IPython->pycaret) (0.7.5)\n",
      "Requirement already satisfied: traitlets>=5 in /Users/ojoo/opt/anaconda3/envs/new1/lib/python3.8/site-packages (from IPython->pycaret) (5.6.0)\n",
      "Requirement already satisfied: pexpect>4.3 in /Users/ojoo/opt/anaconda3/envs/new1/lib/python3.8/site-packages (from IPython->pycaret) (4.8.0)\n",
      "Requirement already satisfied: prompt-toolkit<3.1.0,>=3.0.11 in /Users/ojoo/opt/anaconda3/envs/new1/lib/python3.8/site-packages (from IPython->pycaret) (3.0.33)\n",
      "Requirement already satisfied: appnope in /Users/ojoo/opt/anaconda3/envs/new1/lib/python3.8/site-packages (from IPython->pycaret) (0.1.3)\n",
      "Requirement already satisfied: jupyterlab-widgets~=3.0 in /Users/ojoo/opt/anaconda3/envs/new1/lib/python3.8/site-packages (from ipywidgets->pycaret) (3.0.3)\n",
      "Requirement already satisfied: widgetsnbextension~=4.0 in /Users/ojoo/opt/anaconda3/envs/new1/lib/python3.8/site-packages (from ipywidgets->pycaret) (4.0.3)\n",
      "Requirement already satisfied: ipykernel>=4.5.1 in /Users/ojoo/opt/anaconda3/envs/new1/lib/python3.8/site-packages (from ipywidgets->pycaret) (6.17.1)\n",
      "Requirement already satisfied: wheel in /Users/ojoo/opt/anaconda3/envs/new1/lib/python3.8/site-packages (from lightgbm>=2.3.1->pycaret) (0.37.1)\n",
      "Requirement already satisfied: packaging>=20.0 in /Users/ojoo/opt/anaconda3/envs/new1/lib/python3.8/site-packages (from matplotlib->pycaret) (21.3)\n",
      "Requirement already satisfied: kiwisolver>=1.0.1 in /Users/ojoo/opt/anaconda3/envs/new1/lib/python3.8/site-packages (from matplotlib->pycaret) (1.4.4)\n",
      "Requirement already satisfied: fonttools>=4.22.0 in /Users/ojoo/opt/anaconda3/envs/new1/lib/python3.8/site-packages (from matplotlib->pycaret) (4.38.0)\n",
      "Requirement already satisfied: python-dateutil>=2.7 in /Users/ojoo/opt/anaconda3/envs/new1/lib/python3.8/site-packages (from matplotlib->pycaret) (2.8.2)\n",
      "Requirement already satisfied: pillow>=6.2.0 in /Users/ojoo/opt/anaconda3/envs/new1/lib/python3.8/site-packages (from matplotlib->pycaret) (9.3.0)\n",
      "Requirement already satisfied: cycler>=0.10 in /Users/ojoo/opt/anaconda3/envs/new1/lib/python3.8/site-packages (from matplotlib->pycaret) (0.11.0)\n",
      "Requirement already satisfied: contourpy>=1.0.1 in /Users/ojoo/opt/anaconda3/envs/new1/lib/python3.8/site-packages (from matplotlib->pycaret) (1.0.6)\n",
      "Requirement already satisfied: pyparsing>=2.2.1 in /Users/ojoo/opt/anaconda3/envs/new1/lib/python3.8/site-packages (from matplotlib->pycaret) (3.0.9)\n",
      "Requirement already satisfied: llvmlite<0.38,>=0.37.0rc1 in /Users/ojoo/opt/anaconda3/envs/new1/lib/python3.8/site-packages (from numba<0.55->pycaret) (0.37.0)\n",
      "Requirement already satisfied: pytz>=2020.1 in /Users/ojoo/opt/anaconda3/envs/new1/lib/python3.8/site-packages (from pandas->pycaret) (2022.6)\n",
      "Requirement already satisfied: statsmodels<0.14,>=0.13.2 in /Users/ojoo/opt/anaconda3/envs/new1/lib/python3.8/site-packages (from pandas-profiling>=2.8.0->pycaret) (0.13.5)\n",
      "Requirement already satisfied: htmlmin==0.1.12 in /Users/ojoo/opt/anaconda3/envs/new1/lib/python3.8/site-packages (from pandas-profiling>=2.8.0->pycaret) (0.1.12)\n",
      "Requirement already satisfied: tqdm<4.65,>=4.48.2 in /Users/ojoo/opt/anaconda3/envs/new1/lib/python3.8/site-packages (from pandas-profiling>=2.8.0->pycaret) (4.64.1)\n",
      "Requirement already satisfied: typeguard<2.14,>=2.13.2 in /Users/ojoo/opt/anaconda3/envs/new1/lib/python3.8/site-packages (from pandas-profiling>=2.8.0->pycaret) (2.13.3)\n",
      "Requirement already satisfied: pydantic<1.11,>=1.8.1 in /Users/ojoo/opt/anaconda3/envs/new1/lib/python3.8/site-packages (from pandas-profiling>=2.8.0->pycaret) (1.10.2)\n",
      "Requirement already satisfied: phik<0.13,>=0.11.1 in /Users/ojoo/opt/anaconda3/envs/new1/lib/python3.8/site-packages (from pandas-profiling>=2.8.0->pycaret) (0.12.2)\n",
      "Requirement already satisfied: multimethod<1.10,>=1.4 in /Users/ojoo/opt/anaconda3/envs/new1/lib/python3.8/site-packages (from pandas-profiling>=2.8.0->pycaret) (1.9)\n",
      "Requirement already satisfied: jinja2<3.2,>=2.11.1 in /Users/ojoo/opt/anaconda3/envs/new1/lib/python3.8/site-packages (from pandas-profiling>=2.8.0->pycaret) (3.1.2)\n",
      "Requirement already satisfied: requests<2.29,>=2.24.0 in /Users/ojoo/opt/anaconda3/envs/new1/lib/python3.8/site-packages (from pandas-profiling>=2.8.0->pycaret) (2.28.1)\n",
      "Requirement already satisfied: visions[type_image_path]==0.7.5 in /Users/ojoo/opt/anaconda3/envs/new1/lib/python3.8/site-packages (from pandas-profiling>=2.8.0->pycaret) (0.7.5)\n",
      "Requirement already satisfied: networkx>=2.4 in /Users/ojoo/opt/anaconda3/envs/new1/lib/python3.8/site-packages (from visions[type_image_path]==0.7.5->pandas-profiling>=2.8.0->pycaret) (2.8.8)\n",
      "Requirement already satisfied: attrs>=19.3.0 in /Users/ojoo/opt/anaconda3/envs/new1/lib/python3.8/site-packages (from visions[type_image_path]==0.7.5->pandas-profiling>=2.8.0->pycaret) (22.1.0)\n",
      "Requirement already satisfied: tangled-up-in-unicode>=0.0.4 in /Users/ojoo/opt/anaconda3/envs/new1/lib/python3.8/site-packages (from visions[type_image_path]==0.7.5->pandas-profiling>=2.8.0->pycaret) (0.2.0)\n",
      "Requirement already satisfied: imagehash in /Users/ojoo/opt/anaconda3/envs/new1/lib/python3.8/site-packages (from visions[type_image_path]==0.7.5->pandas-profiling>=2.8.0->pycaret) (4.3.1)\n",
      "Requirement already satisfied: tenacity>=6.2.0 in /Users/ojoo/opt/anaconda3/envs/new1/lib/python3.8/site-packages (from plotly>=4.4.1->pycaret) (8.1.0)\n",
      "Requirement already satisfied: murmurhash<1.1.0,>=0.28.0 in /Users/ojoo/opt/anaconda3/envs/new1/lib/python3.8/site-packages (from spacy<2.4.0->pycaret) (1.0.9)\n",
      "Requirement already satisfied: blis<0.8.0,>=0.4.0 in /Users/ojoo/opt/anaconda3/envs/new1/lib/python3.8/site-packages (from spacy<2.4.0->pycaret) (0.7.9)\n",
      "Requirement already satisfied: catalogue<1.1.0,>=0.0.7 in /Users/ojoo/opt/anaconda3/envs/new1/lib/python3.8/site-packages (from spacy<2.4.0->pycaret) (1.0.2)\n",
      "Requirement already satisfied: wasabi<1.1.0,>=0.4.0 in /Users/ojoo/opt/anaconda3/envs/new1/lib/python3.8/site-packages (from spacy<2.4.0->pycaret) (0.10.1)\n",
      "Requirement already satisfied: srsly<1.1.0,>=1.0.2 in /Users/ojoo/opt/anaconda3/envs/new1/lib/python3.8/site-packages (from spacy<2.4.0->pycaret) (1.0.6)\n",
      "Requirement already satisfied: thinc<7.5.0,>=7.4.1 in /Users/ojoo/opt/anaconda3/envs/new1/lib/python3.8/site-packages (from spacy<2.4.0->pycaret) (7.4.6)\n",
      "Requirement already satisfied: preshed<3.1.0,>=3.0.2 in /Users/ojoo/opt/anaconda3/envs/new1/lib/python3.8/site-packages (from spacy<2.4.0->pycaret) (3.0.8)\n",
      "Requirement already satisfied: plac<1.2.0,>=0.9.6 in /Users/ojoo/opt/anaconda3/envs/new1/lib/python3.8/site-packages (from spacy<2.4.0->pycaret) (1.1.3)\n",
      "Requirement already satisfied: cymem<2.1.0,>=2.0.2 in /Users/ojoo/opt/anaconda3/envs/new1/lib/python3.8/site-packages (from spacy<2.4.0->pycaret) (2.0.7)\n",
      "Requirement already satisfied: protobuf<5,>=3.12.0 in /Users/ojoo/opt/anaconda3/envs/new1/lib/python3.8/site-packages (from mlflow->pycaret) (4.21.9)\n",
      "Requirement already satisfied: shap<1,>=0.40 in /Users/ojoo/opt/anaconda3/envs/new1/lib/python3.8/site-packages (from mlflow->pycaret) (0.41.0)\n",
      "Requirement already satisfied: docker<7,>=4.0.0 in /Users/ojoo/opt/anaconda3/envs/new1/lib/python3.8/site-packages (from mlflow->pycaret) (6.0.1)\n",
      "Requirement already satisfied: sqlalchemy<2,>=1.4.0 in /Users/ojoo/opt/anaconda3/envs/new1/lib/python3.8/site-packages (from mlflow->pycaret) (1.4.44)\n",
      "Requirement already satisfied: sqlparse<1,>=0.4.0 in /Users/ojoo/opt/anaconda3/envs/new1/lib/python3.8/site-packages (from mlflow->pycaret) (0.4.3)\n",
      "Requirement already satisfied: Flask<3 in /Users/ojoo/opt/anaconda3/envs/new1/lib/python3.8/site-packages (from mlflow->pycaret) (2.2.2)\n",
      "Requirement already satisfied: databricks-cli<1,>=0.8.7 in /Users/ojoo/opt/anaconda3/envs/new1/lib/python3.8/site-packages (from mlflow->pycaret) (0.17.3)\n",
      "Requirement already satisfied: pyarrow<11,>=4.0.0 in /Users/ojoo/opt/anaconda3/envs/new1/lib/python3.8/site-packages (from mlflow->pycaret) (10.0.1)\n",
      "Requirement already satisfied: cloudpickle<3 in /Users/ojoo/opt/anaconda3/envs/new1/lib/python3.8/site-packages (from mlflow->pycaret) (2.2.0)\n",
      "Requirement already satisfied: markdown<4,>=3.3 in /Users/ojoo/opt/anaconda3/envs/new1/lib/python3.8/site-packages (from mlflow->pycaret) (3.4.1)\n",
      "Requirement already satisfied: entrypoints<1 in /Users/ojoo/opt/anaconda3/envs/new1/lib/python3.8/site-packages (from mlflow->pycaret) (0.4)\n",
      "Requirement already satisfied: importlib-metadata!=4.7.0,<6,>=3.7.0 in /Users/ojoo/opt/anaconda3/envs/new1/lib/python3.8/site-packages (from mlflow->pycaret) (5.1.0)\n",
      "Requirement already satisfied: gunicorn<21 in /Users/ojoo/opt/anaconda3/envs/new1/lib/python3.8/site-packages (from mlflow->pycaret) (20.1.0)\n",
      "Requirement already satisfied: click<9,>=7.0 in /Users/ojoo/opt/anaconda3/envs/new1/lib/python3.8/site-packages (from mlflow->pycaret) (8.1.3)\n",
      "Requirement already satisfied: querystring-parser<2 in /Users/ojoo/opt/anaconda3/envs/new1/lib/python3.8/site-packages (from mlflow->pycaret) (1.2.4)\n",
      "Requirement already satisfied: alembic<2 in /Users/ojoo/opt/anaconda3/envs/new1/lib/python3.8/site-packages (from mlflow->pycaret) (1.8.1)\n",
      "Requirement already satisfied: gitpython<4,>=2.1.0 in /Users/ojoo/opt/anaconda3/envs/new1/lib/python3.8/site-packages (from mlflow->pycaret) (3.1.29)\n",
      "Requirement already satisfied: regex>=2021.8.3 in /Users/ojoo/opt/anaconda3/envs/new1/lib/python3.8/site-packages (from nltk->pycaret) (2022.10.31)\n",
      "Requirement already satisfied: future in /Users/ojoo/opt/anaconda3/envs/new1/lib/python3.8/site-packages (from pyLDAvis->pycaret) (0.18.2)\n",
      "Requirement already satisfied: sklearn in /Users/ojoo/opt/anaconda3/envs/new1/lib/python3.8/site-packages (from pyLDAvis->pycaret) (0.0.post1)\n",
      "Requirement already satisfied: funcy in /Users/ojoo/opt/anaconda3/envs/new1/lib/python3.8/site-packages (from pyLDAvis->pycaret) (1.17)\n",
      "Requirement already satisfied: numexpr in /Users/ojoo/opt/anaconda3/envs/new1/lib/python3.8/site-packages (from pyLDAvis->pycaret) (2.8.4)\n",
      "Requirement already satisfied: pynndescent>=0.5 in /Users/ojoo/opt/anaconda3/envs/new1/lib/python3.8/site-packages (from umap-learn->pycaret) (0.5.8)\n",
      "Requirement already satisfied: importlib-resources in /Users/ojoo/opt/anaconda3/envs/new1/lib/python3.8/site-packages (from alembic<2->mlflow->pycaret) (5.10.0)\n",
      "Requirement already satisfied: Mako in /Users/ojoo/opt/anaconda3/envs/new1/lib/python3.8/site-packages (from alembic<2->mlflow->pycaret) (1.2.4)\n",
      "Requirement already satisfied: pyjwt>=1.7.0 in /Users/ojoo/opt/anaconda3/envs/new1/lib/python3.8/site-packages (from databricks-cli<1,>=0.8.7->mlflow->pycaret) (2.6.0)\n",
      "Requirement already satisfied: oauthlib>=3.1.0 in /Users/ojoo/opt/anaconda3/envs/new1/lib/python3.8/site-packages (from databricks-cli<1,>=0.8.7->mlflow->pycaret) (3.2.2)\n",
      "Requirement already satisfied: tabulate>=0.7.7 in /Users/ojoo/opt/anaconda3/envs/new1/lib/python3.8/site-packages (from databricks-cli<1,>=0.8.7->mlflow->pycaret) (0.9.0)\n",
      "Requirement already satisfied: websocket-client>=0.32.0 in /Users/ojoo/opt/anaconda3/envs/new1/lib/python3.8/site-packages (from docker<7,>=4.0.0->mlflow->pycaret) (1.4.2)\n",
      "Requirement already satisfied: urllib3>=1.26.0 in /Users/ojoo/opt/anaconda3/envs/new1/lib/python3.8/site-packages (from docker<7,>=4.0.0->mlflow->pycaret) (1.26.13)\n",
      "Requirement already satisfied: itsdangerous>=2.0 in /Users/ojoo/opt/anaconda3/envs/new1/lib/python3.8/site-packages (from Flask<3->mlflow->pycaret) (2.1.2)\n",
      "Requirement already satisfied: Werkzeug>=2.2.2 in /Users/ojoo/opt/anaconda3/envs/new1/lib/python3.8/site-packages (from Flask<3->mlflow->pycaret) (2.2.2)\n",
      "Requirement already satisfied: gitdb<5,>=4.0.1 in /Users/ojoo/opt/anaconda3/envs/new1/lib/python3.8/site-packages (from gitpython<4,>=2.1.0->mlflow->pycaret) (4.0.10)\n",
      "Requirement already satisfied: zipp>=0.5 in /Users/ojoo/opt/anaconda3/envs/new1/lib/python3.8/site-packages (from importlib-metadata!=4.7.0,<6,>=3.7.0->mlflow->pycaret) (3.11.0)\n",
      "Requirement already satisfied: debugpy>=1.0 in /Users/ojoo/opt/anaconda3/envs/new1/lib/python3.8/site-packages (from ipykernel>=4.5.1->ipywidgets->pycaret) (1.6.4)\n",
      "Requirement already satisfied: tornado>=6.1 in /Users/ojoo/opt/anaconda3/envs/new1/lib/python3.8/site-packages (from ipykernel>=4.5.1->ipywidgets->pycaret) (6.2)\n",
      "Requirement already satisfied: psutil in /Users/ojoo/opt/anaconda3/envs/new1/lib/python3.8/site-packages (from ipykernel>=4.5.1->ipywidgets->pycaret) (5.9.4)\n",
      "Requirement already satisfied: nest-asyncio in /Users/ojoo/opt/anaconda3/envs/new1/lib/python3.8/site-packages (from ipykernel>=4.5.1->ipywidgets->pycaret) (1.5.6)\n",
      "Requirement already satisfied: pyzmq>=17 in /Users/ojoo/opt/anaconda3/envs/new1/lib/python3.8/site-packages (from ipykernel>=4.5.1->ipywidgets->pycaret) (24.0.1)\n",
      "Requirement already satisfied: jupyter-client>=6.1.12 in /Users/ojoo/opt/anaconda3/envs/new1/lib/python3.8/site-packages (from ipykernel>=4.5.1->ipywidgets->pycaret) (7.4.7)\n",
      "Requirement already satisfied: parso<0.9.0,>=0.8.0 in /Users/ojoo/opt/anaconda3/envs/new1/lib/python3.8/site-packages (from jedi>=0.16->IPython->pycaret) (0.8.3)\n",
      "Requirement already satisfied: MarkupSafe>=2.0 in /Users/ojoo/opt/anaconda3/envs/new1/lib/python3.8/site-packages (from jinja2<3.2,>=2.11.1->pandas-profiling>=2.8.0->pycaret) (2.1.1)\n",
      "Requirement already satisfied: ptyprocess>=0.5 in /Users/ojoo/opt/anaconda3/envs/new1/lib/python3.8/site-packages (from pexpect>4.3->IPython->pycaret) (0.7.0)\n",
      "Requirement already satisfied: wcwidth in /Users/ojoo/opt/anaconda3/envs/new1/lib/python3.8/site-packages (from prompt-toolkit<3.1.0,>=3.0.11->IPython->pycaret) (0.2.5)\n",
      "Requirement already satisfied: typing-extensions>=4.1.0 in /Users/ojoo/opt/anaconda3/envs/new1/lib/python3.8/site-packages (from pydantic<1.11,>=1.8.1->pandas-profiling>=2.8.0->pycaret) (4.4.0)\n",
      "Requirement already satisfied: charset-normalizer<3,>=2 in /Users/ojoo/opt/anaconda3/envs/new1/lib/python3.8/site-packages (from requests<2.29,>=2.24.0->pandas-profiling>=2.8.0->pycaret) (2.1.1)\n",
      "Requirement already satisfied: idna<4,>=2.5 in /Users/ojoo/opt/anaconda3/envs/new1/lib/python3.8/site-packages (from requests<2.29,>=2.24.0->pandas-profiling>=2.8.0->pycaret) (3.4)\n",
      "Requirement already satisfied: certifi>=2017.4.17 in /Users/ojoo/opt/anaconda3/envs/new1/lib/python3.8/site-packages (from requests<2.29,>=2.24.0->pandas-profiling>=2.8.0->pycaret) (2022.9.24)\n",
      "Requirement already satisfied: slicer==0.0.7 in /Users/ojoo/opt/anaconda3/envs/new1/lib/python3.8/site-packages (from shap<1,>=0.40->mlflow->pycaret) (0.0.7)\n",
      "Requirement already satisfied: greenlet!=0.4.17 in /Users/ojoo/opt/anaconda3/envs/new1/lib/python3.8/site-packages (from sqlalchemy<2,>=1.4.0->mlflow->pycaret) (2.0.1)\n",
      "Requirement already satisfied: patsy>=0.5.2 in /Users/ojoo/opt/anaconda3/envs/new1/lib/python3.8/site-packages (from statsmodels<0.14,>=0.13.2->pandas-profiling>=2.8.0->pycaret) (0.5.3)\n",
      "Requirement already satisfied: pure-eval in /Users/ojoo/opt/anaconda3/envs/new1/lib/python3.8/site-packages (from stack-data->IPython->pycaret) (0.2.2)\n",
      "Requirement already satisfied: executing>=1.2.0 in /Users/ojoo/opt/anaconda3/envs/new1/lib/python3.8/site-packages (from stack-data->IPython->pycaret) (1.2.0)\n",
      "Requirement already satisfied: asttokens>=2.1.0 in /Users/ojoo/opt/anaconda3/envs/new1/lib/python3.8/site-packages (from stack-data->IPython->pycaret) (2.2.0)\n",
      "Requirement already satisfied: smmap<6,>=3.0.1 in /Users/ojoo/opt/anaconda3/envs/new1/lib/python3.8/site-packages (from gitdb<5,>=4.0.1->gitpython<4,>=2.1.0->mlflow->pycaret) (5.0.0)\n",
      "Requirement already satisfied: jupyter-core>=4.9.2 in /Users/ojoo/opt/anaconda3/envs/new1/lib/python3.8/site-packages (from jupyter-client>=6.1.12->ipykernel>=4.5.1->ipywidgets->pycaret) (5.1.0)\n",
      "Requirement already satisfied: PyWavelets in /Users/ojoo/opt/anaconda3/envs/new1/lib/python3.8/site-packages (from imagehash->visions[type_image_path]==0.7.5->pandas-profiling>=2.8.0->pycaret) (1.4.1)\n",
      "Requirement already satisfied: platformdirs>=2.5 in /Users/ojoo/opt/anaconda3/envs/new1/lib/python3.8/site-packages (from jupyter-core>=4.9.2->jupyter-client>=6.1.12->ipykernel>=4.5.1->ipywidgets->pycaret) (2.5.4)\n"
     ]
    }
   ],
   "source": [
    "!pip install pycaret"
   ]
  },
  {
   "cell_type": "markdown",
   "metadata": {
    "id": "1HMftmxf5Xzs"
   },
   "source": [
    "## Data"
   ]
  },
  {
   "cell_type": "code",
   "execution_count": 2,
   "metadata": {
    "id": "4tKOXLwR20cP"
   },
   "outputs": [],
   "source": [
    "import pandas as pd"
   ]
  },
  {
   "cell_type": "code",
   "execution_count": 3,
   "metadata": {
    "colab": {
     "base_uri": "https://localhost:8080/",
     "height": 478
    },
    "id": "iN94SXVqmtTm",
    "outputId": "649b3613-dc7a-4e2a-98c7-755e5ba6048d"
   },
   "outputs": [
    {
     "data": {
      "text/html": [
       "<div>\n",
       "<style scoped>\n",
       "    .dataframe tbody tr th:only-of-type {\n",
       "        vertical-align: middle;\n",
       "    }\n",
       "\n",
       "    .dataframe tbody tr th {\n",
       "        vertical-align: top;\n",
       "    }\n",
       "\n",
       "    .dataframe thead th {\n",
       "        text-align: right;\n",
       "    }\n",
       "</style>\n",
       "<table border=\"1\" class=\"dataframe\">\n",
       "  <thead>\n",
       "    <tr style=\"text-align: right;\">\n",
       "      <th></th>\n",
       "      <th>Unnamed: 0</th>\n",
       "      <th>gender</th>\n",
       "      <th>car</th>\n",
       "      <th>reality</th>\n",
       "      <th>child_num</th>\n",
       "      <th>income_total</th>\n",
       "      <th>income_type</th>\n",
       "      <th>edu_type</th>\n",
       "      <th>family_type</th>\n",
       "      <th>house_type</th>\n",
       "      <th>days_birth</th>\n",
       "      <th>days_employed</th>\n",
       "      <th>work_phone</th>\n",
       "      <th>home_phone</th>\n",
       "      <th>email</th>\n",
       "      <th>occup_type</th>\n",
       "      <th>family_size</th>\n",
       "      <th>begin_month</th>\n",
       "      <th>credit</th>\n",
       "    </tr>\n",
       "  </thead>\n",
       "  <tbody>\n",
       "    <tr>\n",
       "      <th>0</th>\n",
       "      <td>0</td>\n",
       "      <td>F</td>\n",
       "      <td>N</td>\n",
       "      <td>N</td>\n",
       "      <td>0</td>\n",
       "      <td>202500.0</td>\n",
       "      <td>Commercial associate</td>\n",
       "      <td>Higher education</td>\n",
       "      <td>Married</td>\n",
       "      <td>Municipal apartment</td>\n",
       "      <td>13899</td>\n",
       "      <td>4709</td>\n",
       "      <td>0</td>\n",
       "      <td>0</td>\n",
       "      <td>0</td>\n",
       "      <td>No job</td>\n",
       "      <td>2.0</td>\n",
       "      <td>6</td>\n",
       "      <td>1.0</td>\n",
       "    </tr>\n",
       "    <tr>\n",
       "      <th>1</th>\n",
       "      <td>1</td>\n",
       "      <td>F</td>\n",
       "      <td>N</td>\n",
       "      <td>Y</td>\n",
       "      <td>0</td>\n",
       "      <td>202500.0</td>\n",
       "      <td>Commercial associate</td>\n",
       "      <td>Secondary / secondary special</td>\n",
       "      <td>Married</td>\n",
       "      <td>House / apartment</td>\n",
       "      <td>15088</td>\n",
       "      <td>2092</td>\n",
       "      <td>0</td>\n",
       "      <td>1</td>\n",
       "      <td>0</td>\n",
       "      <td>Sales staff</td>\n",
       "      <td>2.0</td>\n",
       "      <td>37</td>\n",
       "      <td>0.0</td>\n",
       "    </tr>\n",
       "    <tr>\n",
       "      <th>2</th>\n",
       "      <td>2</td>\n",
       "      <td>F</td>\n",
       "      <td>Y</td>\n",
       "      <td>Y</td>\n",
       "      <td>0</td>\n",
       "      <td>157500.0</td>\n",
       "      <td>State servant</td>\n",
       "      <td>Higher education</td>\n",
       "      <td>Married</td>\n",
       "      <td>House / apartment</td>\n",
       "      <td>15037</td>\n",
       "      <td>2105</td>\n",
       "      <td>0</td>\n",
       "      <td>0</td>\n",
       "      <td>0</td>\n",
       "      <td>Managers</td>\n",
       "      <td>2.0</td>\n",
       "      <td>26</td>\n",
       "      <td>2.0</td>\n",
       "    </tr>\n",
       "    <tr>\n",
       "      <th>3</th>\n",
       "      <td>3</td>\n",
       "      <td>F</td>\n",
       "      <td>N</td>\n",
       "      <td>Y</td>\n",
       "      <td>2</td>\n",
       "      <td>270000.0</td>\n",
       "      <td>Working</td>\n",
       "      <td>Secondary / secondary special</td>\n",
       "      <td>Married</td>\n",
       "      <td>House / apartment</td>\n",
       "      <td>13413</td>\n",
       "      <td>4996</td>\n",
       "      <td>0</td>\n",
       "      <td>0</td>\n",
       "      <td>1</td>\n",
       "      <td>High skill tech staff</td>\n",
       "      <td>4.0</td>\n",
       "      <td>18</td>\n",
       "      <td>1.0</td>\n",
       "    </tr>\n",
       "    <tr>\n",
       "      <th>4</th>\n",
       "      <td>4</td>\n",
       "      <td>F</td>\n",
       "      <td>N</td>\n",
       "      <td>N</td>\n",
       "      <td>0</td>\n",
       "      <td>315000.0</td>\n",
       "      <td>Working</td>\n",
       "      <td>Secondary / secondary special</td>\n",
       "      <td>Separated</td>\n",
       "      <td>House / apartment</td>\n",
       "      <td>17570</td>\n",
       "      <td>1978</td>\n",
       "      <td>0</td>\n",
       "      <td>0</td>\n",
       "      <td>1</td>\n",
       "      <td>Core staff</td>\n",
       "      <td>1.0</td>\n",
       "      <td>41</td>\n",
       "      <td>2.0</td>\n",
       "    </tr>\n",
       "  </tbody>\n",
       "</table>\n",
       "</div>"
      ],
      "text/plain": [
       "   Unnamed: 0 gender car reality  child_num  income_total  \\\n",
       "0           0      F   N       N          0      202500.0   \n",
       "1           1      F   N       Y          0      202500.0   \n",
       "2           2      F   Y       Y          0      157500.0   \n",
       "3           3      F   N       Y          2      270000.0   \n",
       "4           4      F   N       N          0      315000.0   \n",
       "\n",
       "            income_type                       edu_type family_type  \\\n",
       "0  Commercial associate               Higher education     Married   \n",
       "1  Commercial associate  Secondary / secondary special     Married   \n",
       "2         State servant               Higher education     Married   \n",
       "3               Working  Secondary / secondary special     Married   \n",
       "4               Working  Secondary / secondary special   Separated   \n",
       "\n",
       "            house_type  days_birth  days_employed  work_phone  home_phone  \\\n",
       "0  Municipal apartment       13899           4709           0           0   \n",
       "1    House / apartment       15088           2092           0           1   \n",
       "2    House / apartment       15037           2105           0           0   \n",
       "3    House / apartment       13413           4996           0           0   \n",
       "4    House / apartment       17570           1978           0           0   \n",
       "\n",
       "   email             occup_type  family_size  begin_month  credit  \n",
       "0      0                 No job          2.0            6     1.0  \n",
       "1      0            Sales staff          2.0           37     0.0  \n",
       "2      0               Managers          2.0           26     2.0  \n",
       "3      1  High skill tech staff          4.0           18     1.0  \n",
       "4      1             Core staff          1.0           41     2.0  "
      ]
     },
     "execution_count": 3,
     "metadata": {},
     "output_type": "execute_result"
    }
   ],
   "source": [
    "train_df=pd.read_csv(\"../data/cleaned_train.csv\")\n",
    "test_df=pd.read_csv(\"../data/cleaned_test.csv\")\n",
    "\n",
    "train_df.head()"
   ]
  },
  {
   "cell_type": "code",
   "execution_count": 4,
   "metadata": {
    "colab": {
     "base_uri": "https://localhost:8080/"
    },
    "id": "OXVgOrxem0sU",
    "outputId": "cf0c656f-53ec-4b66-a61d-acc4908948b3"
   },
   "outputs": [
    {
     "data": {
      "text/plain": [
       "Unnamed: 0       0\n",
       "gender           0\n",
       "car              0\n",
       "reality          0\n",
       "child_num        0\n",
       "income_total     0\n",
       "income_type      0\n",
       "edu_type         0\n",
       "family_type      0\n",
       "house_type       0\n",
       "days_birth       0\n",
       "days_employed    0\n",
       "work_phone       0\n",
       "home_phone       0\n",
       "email            0\n",
       "occup_type       0\n",
       "family_size      0\n",
       "begin_month      0\n",
       "credit           0\n",
       "dtype: int64"
      ]
     },
     "execution_count": 4,
     "metadata": {},
     "output_type": "execute_result"
    }
   ],
   "source": [
    "train_df.isnull().sum()"
   ]
  },
  {
   "cell_type": "code",
   "execution_count": 5,
   "metadata": {
    "colab": {
     "base_uri": "https://localhost:8080/"
    },
    "id": "fgdbWI_NsMNk",
    "outputId": "f1103727-c82b-4c36-db77-f2d61d902e05"
   },
   "outputs": [
    {
     "name": "stdout",
     "output_type": "stream",
     "text": [
      "<class 'pandas.core.frame.DataFrame'>\n",
      "RangeIndex: 23392 entries, 0 to 23391\n",
      "Data columns (total 18 columns):\n",
      " #   Column         Non-Null Count  Dtype  \n",
      "---  ------         --------------  -----  \n",
      " 0   gender         23392 non-null  object \n",
      " 1   car            23392 non-null  object \n",
      " 2   reality        23392 non-null  object \n",
      " 3   child_num      23392 non-null  int64  \n",
      " 4   income_total   23392 non-null  float64\n",
      " 5   income_type    23392 non-null  object \n",
      " 6   edu_type       23392 non-null  object \n",
      " 7   family_type    23392 non-null  object \n",
      " 8   house_type     23392 non-null  object \n",
      " 9   days_birth     23392 non-null  int64  \n",
      " 10  days_employed  23392 non-null  int64  \n",
      " 11  work_phone     23392 non-null  int64  \n",
      " 12  home_phone     23392 non-null  int64  \n",
      " 13  email          23392 non-null  int64  \n",
      " 14  occup_type     23392 non-null  object \n",
      " 15  family_size    23392 non-null  float64\n",
      " 16  begin_month    23392 non-null  int64  \n",
      " 17  credit         23392 non-null  float64\n",
      "dtypes: float64(3), int64(7), object(8)\n",
      "memory usage: 3.2+ MB\n"
     ]
    }
   ],
   "source": [
    "train_df.drop(['Unnamed: 0'], axis=1, inplace=True)\n",
    "train_df.info()"
   ]
  },
  {
   "cell_type": "code",
   "execution_count": 6,
   "metadata": {
    "id": "BxlFqgWQ8AwE"
   },
   "outputs": [],
   "source": [
    "train_df['credit'] = train_df['credit'].astype('category')"
   ]
  },
  {
   "cell_type": "code",
   "execution_count": 7,
   "metadata": {
    "colab": {
     "base_uri": "https://localhost:8080/"
    },
    "id": "VAYhDlauoroR",
    "outputId": "feeb3d8f-ccc7-405d-d49d-96ded82870cc"
   },
   "outputs": [
    {
     "name": "stdout",
     "output_type": "stream",
     "text": [
      "<class 'pandas.core.frame.DataFrame'>\n",
      "RangeIndex: 23392 entries, 0 to 23391\n",
      "Data columns (total 18 columns):\n",
      " #   Column         Non-Null Count  Dtype   \n",
      "---  ------         --------------  -----   \n",
      " 0   gender         23392 non-null  object  \n",
      " 1   car            23392 non-null  object  \n",
      " 2   reality        23392 non-null  object  \n",
      " 3   child_num      23392 non-null  int64   \n",
      " 4   income_total   23392 non-null  float64 \n",
      " 5   income_type    23392 non-null  object  \n",
      " 6   edu_type       23392 non-null  object  \n",
      " 7   family_type    23392 non-null  object  \n",
      " 8   house_type     23392 non-null  object  \n",
      " 9   days_birth     23392 non-null  int64   \n",
      " 10  days_employed  23392 non-null  int64   \n",
      " 11  work_phone     23392 non-null  int64   \n",
      " 12  home_phone     23392 non-null  int64   \n",
      " 13  email          23392 non-null  int64   \n",
      " 14  occup_type     23392 non-null  object  \n",
      " 15  family_size    23392 non-null  float64 \n",
      " 16  begin_month    23392 non-null  int64   \n",
      " 17  credit         23392 non-null  category\n",
      "dtypes: category(1), float64(2), int64(7), object(8)\n",
      "memory usage: 3.1+ MB\n"
     ]
    }
   ],
   "source": [
    "train_df_copy = train_df.copy()\n",
    "test_df_copy = test_df.copy()\n",
    "train_df.info()"
   ]
  },
  {
   "cell_type": "markdown",
   "metadata": {
    "id": "r9hTUn8ervni"
   },
   "source": [
    "## Numerical Data: Scaling"
   ]
  },
  {
   "cell_type": "code",
   "execution_count": 8,
   "metadata": {
    "colab": {
     "base_uri": "https://localhost:8080/"
    },
    "id": "JOCJcaoRq-nc",
    "outputId": "ca552094-2b1d-473e-8c1b-830649a940ed"
   },
   "outputs": [
    {
     "data": {
      "text/plain": [
       "((23392, 6), (10000, 6))"
      ]
     },
     "execution_count": 8,
     "metadata": {},
     "output_type": "execute_result"
    }
   ],
   "source": [
    "from sklearn.preprocessing import StandardScaler\n",
    "\n",
    "scaling_cols = ['child_num','income_total','days_birth','days_employed','family_size','begin_month']\n",
    "\n",
    "std_scaler = StandardScaler()\n",
    "std_scaler.fit(train_df[scaling_cols])\n",
    "\n",
    "train_scaled = std_scaler.transform(train_df[scaling_cols])\n",
    "test_scaled = std_scaler.transform(test_df[scaling_cols]) # Apply to the test set using the scaler that was fitted with train data!!\n",
    "\n",
    "train_scaled = pd.DataFrame(train_scaled, columns=scaling_cols)\n",
    "test_scaled = pd.DataFrame(test_scaled, columns=scaling_cols)\n",
    "\n",
    "train_scaled.shape, test_scaled.shape"
   ]
  },
  {
   "cell_type": "markdown",
   "metadata": {
    "id": "T_3E4WtfuClv"
   },
   "source": [
    "## Categorical Data: One-hot Encoding"
   ]
  },
  {
   "cell_type": "code",
   "execution_count": 9,
   "metadata": {
    "id": "ds9E6jUgtI_5"
   },
   "outputs": [],
   "source": [
    "onehot_cols = ['gender','car','reality','income_type','edu_type','family_type','house_type','occup_type','work_phone','home_phone','email']\n",
    "data = pd.concat([train_df[onehot_cols], test_df[onehot_cols]]) # One-hot encoding using the combination of train and test data"
   ]
  },
  {
   "cell_type": "code",
   "execution_count": 10,
   "metadata": {
    "colab": {
     "base_uri": "https://localhost:8080/",
     "height": 317
    },
    "id": "zog4a5_gvR5H",
    "outputId": "b9c284bb-8f28-40f5-947f-f3c87142f054"
   },
   "outputs": [
    {
     "data": {
      "text/html": [
       "<div>\n",
       "<style scoped>\n",
       "    .dataframe tbody tr th:only-of-type {\n",
       "        vertical-align: middle;\n",
       "    }\n",
       "\n",
       "    .dataframe tbody tr th {\n",
       "        vertical-align: top;\n",
       "    }\n",
       "\n",
       "    .dataframe thead th {\n",
       "        text-align: right;\n",
       "    }\n",
       "</style>\n",
       "<table border=\"1\" class=\"dataframe\">\n",
       "  <thead>\n",
       "    <tr style=\"text-align: right;\">\n",
       "      <th></th>\n",
       "      <th>work_phone</th>\n",
       "      <th>home_phone</th>\n",
       "      <th>email</th>\n",
       "      <th>gender_F</th>\n",
       "      <th>gender_M</th>\n",
       "      <th>car_N</th>\n",
       "      <th>car_Y</th>\n",
       "      <th>reality_N</th>\n",
       "      <th>reality_Y</th>\n",
       "      <th>income_type_Commercial associate</th>\n",
       "      <th>...</th>\n",
       "      <th>occup_type_Low-skill Laborers</th>\n",
       "      <th>occup_type_Managers</th>\n",
       "      <th>occup_type_Medicine staff</th>\n",
       "      <th>occup_type_No job</th>\n",
       "      <th>occup_type_Private service staff</th>\n",
       "      <th>occup_type_Realty agents</th>\n",
       "      <th>occup_type_Sales staff</th>\n",
       "      <th>occup_type_Secretaries</th>\n",
       "      <th>occup_type_Security staff</th>\n",
       "      <th>occup_type_Waiters/barmen staff</th>\n",
       "    </tr>\n",
       "  </thead>\n",
       "  <tbody>\n",
       "    <tr>\n",
       "      <th>0</th>\n",
       "      <td>0</td>\n",
       "      <td>0</td>\n",
       "      <td>0</td>\n",
       "      <td>1</td>\n",
       "      <td>0</td>\n",
       "      <td>1</td>\n",
       "      <td>0</td>\n",
       "      <td>1</td>\n",
       "      <td>0</td>\n",
       "      <td>1</td>\n",
       "      <td>...</td>\n",
       "      <td>0</td>\n",
       "      <td>0</td>\n",
       "      <td>0</td>\n",
       "      <td>1</td>\n",
       "      <td>0</td>\n",
       "      <td>0</td>\n",
       "      <td>0</td>\n",
       "      <td>0</td>\n",
       "      <td>0</td>\n",
       "      <td>0</td>\n",
       "    </tr>\n",
       "    <tr>\n",
       "      <th>1</th>\n",
       "      <td>0</td>\n",
       "      <td>1</td>\n",
       "      <td>0</td>\n",
       "      <td>1</td>\n",
       "      <td>0</td>\n",
       "      <td>1</td>\n",
       "      <td>0</td>\n",
       "      <td>0</td>\n",
       "      <td>1</td>\n",
       "      <td>1</td>\n",
       "      <td>...</td>\n",
       "      <td>0</td>\n",
       "      <td>0</td>\n",
       "      <td>0</td>\n",
       "      <td>0</td>\n",
       "      <td>0</td>\n",
       "      <td>0</td>\n",
       "      <td>1</td>\n",
       "      <td>0</td>\n",
       "      <td>0</td>\n",
       "      <td>0</td>\n",
       "    </tr>\n",
       "    <tr>\n",
       "      <th>2</th>\n",
       "      <td>0</td>\n",
       "      <td>0</td>\n",
       "      <td>0</td>\n",
       "      <td>1</td>\n",
       "      <td>0</td>\n",
       "      <td>0</td>\n",
       "      <td>1</td>\n",
       "      <td>0</td>\n",
       "      <td>1</td>\n",
       "      <td>0</td>\n",
       "      <td>...</td>\n",
       "      <td>0</td>\n",
       "      <td>1</td>\n",
       "      <td>0</td>\n",
       "      <td>0</td>\n",
       "      <td>0</td>\n",
       "      <td>0</td>\n",
       "      <td>0</td>\n",
       "      <td>0</td>\n",
       "      <td>0</td>\n",
       "      <td>0</td>\n",
       "    </tr>\n",
       "    <tr>\n",
       "      <th>3</th>\n",
       "      <td>0</td>\n",
       "      <td>0</td>\n",
       "      <td>1</td>\n",
       "      <td>1</td>\n",
       "      <td>0</td>\n",
       "      <td>1</td>\n",
       "      <td>0</td>\n",
       "      <td>0</td>\n",
       "      <td>1</td>\n",
       "      <td>0</td>\n",
       "      <td>...</td>\n",
       "      <td>0</td>\n",
       "      <td>0</td>\n",
       "      <td>0</td>\n",
       "      <td>0</td>\n",
       "      <td>0</td>\n",
       "      <td>0</td>\n",
       "      <td>0</td>\n",
       "      <td>0</td>\n",
       "      <td>0</td>\n",
       "      <td>0</td>\n",
       "    </tr>\n",
       "    <tr>\n",
       "      <th>4</th>\n",
       "      <td>0</td>\n",
       "      <td>0</td>\n",
       "      <td>1</td>\n",
       "      <td>1</td>\n",
       "      <td>0</td>\n",
       "      <td>1</td>\n",
       "      <td>0</td>\n",
       "      <td>1</td>\n",
       "      <td>0</td>\n",
       "      <td>0</td>\n",
       "      <td>...</td>\n",
       "      <td>0</td>\n",
       "      <td>0</td>\n",
       "      <td>0</td>\n",
       "      <td>0</td>\n",
       "      <td>0</td>\n",
       "      <td>0</td>\n",
       "      <td>0</td>\n",
       "      <td>0</td>\n",
       "      <td>0</td>\n",
       "      <td>0</td>\n",
       "    </tr>\n",
       "  </tbody>\n",
       "</table>\n",
       "<p>5 rows × 49 columns</p>\n",
       "</div>"
      ],
      "text/plain": [
       "   work_phone  home_phone  email  gender_F  gender_M  car_N  car_Y  reality_N  \\\n",
       "0           0           0      0         1         0      1      0          1   \n",
       "1           0           1      0         1         0      1      0          0   \n",
       "2           0           0      0         1         0      0      1          0   \n",
       "3           0           0      1         1         0      1      0          0   \n",
       "4           0           0      1         1         0      1      0          1   \n",
       "\n",
       "   reality_Y  income_type_Commercial associate  ...  \\\n",
       "0          0                                 1  ...   \n",
       "1          1                                 1  ...   \n",
       "2          1                                 0  ...   \n",
       "3          1                                 0  ...   \n",
       "4          0                                 0  ...   \n",
       "\n",
       "   occup_type_Low-skill Laborers  occup_type_Managers  \\\n",
       "0                              0                    0   \n",
       "1                              0                    0   \n",
       "2                              0                    1   \n",
       "3                              0                    0   \n",
       "4                              0                    0   \n",
       "\n",
       "   occup_type_Medicine staff  occup_type_No job  \\\n",
       "0                          0                  1   \n",
       "1                          0                  0   \n",
       "2                          0                  0   \n",
       "3                          0                  0   \n",
       "4                          0                  0   \n",
       "\n",
       "   occup_type_Private service staff  occup_type_Realty agents  \\\n",
       "0                                 0                         0   \n",
       "1                                 0                         0   \n",
       "2                                 0                         0   \n",
       "3                                 0                         0   \n",
       "4                                 0                         0   \n",
       "\n",
       "   occup_type_Sales staff  occup_type_Secretaries  occup_type_Security staff  \\\n",
       "0                       0                       0                          0   \n",
       "1                       1                       0                          0   \n",
       "2                       0                       0                          0   \n",
       "3                       0                       0                          0   \n",
       "4                       0                       0                          0   \n",
       "\n",
       "   occup_type_Waiters/barmen staff  \n",
       "0                                0  \n",
       "1                                0  \n",
       "2                                0  \n",
       "3                                0  \n",
       "4                                0  \n",
       "\n",
       "[5 rows x 49 columns]"
      ]
     },
     "execution_count": 10,
     "metadata": {},
     "output_type": "execute_result"
    }
   ],
   "source": [
    "data = pd.get_dummies(data)\n",
    "data.head()"
   ]
  },
  {
   "cell_type": "code",
   "execution_count": 11,
   "metadata": {
    "colab": {
     "base_uri": "https://localhost:8080/"
    },
    "id": "HomFgMTvvgLo",
    "outputId": "14988b5f-72fe-4624-9e1a-d86e6444c362"
   },
   "outputs": [
    {
     "data": {
      "text/plain": [
       "((23392, 49), (10000, 49))"
      ]
     },
     "execution_count": 11,
     "metadata": {},
     "output_type": "execute_result"
    }
   ],
   "source": [
    "# data separation\n",
    "data = data.reset_index(drop=True)\n",
    "train_encoded = data.loc[:23391]\n",
    "test_encoded = data.loc[23392:]\n",
    "test_encoded = test_encoded.reset_index(drop=True)\n",
    "train_encoded.shape, test_encoded.shape"
   ]
  },
  {
   "cell_type": "markdown",
   "metadata": {
    "id": "mf-bSBzDw2lA"
   },
   "source": [
    "## Merge scaled numerical data with encoded categorical data"
   ]
  },
  {
   "cell_type": "code",
   "execution_count": 12,
   "metadata": {
    "colab": {
     "base_uri": "https://localhost:8080/"
    },
    "id": "5ES6Rc1jv-sK",
    "outputId": "8e9551b9-d2ce-4f70-aecb-12beee6c8239"
   },
   "outputs": [
    {
     "data": {
      "text/plain": [
       "((23392, 56), (10000, 55))"
      ]
     },
     "execution_count": 12,
     "metadata": {},
     "output_type": "execute_result"
    }
   ],
   "source": [
    "Train = pd.concat([train_scaled,train_encoded],axis=1)\n",
    "Train = pd.concat([Train,train_df['credit']],axis=1)\n",
    "\n",
    "Test = pd.concat([test_scaled,test_encoded],axis=1)\n",
    "\n",
    "Train.shape, Test.shape"
   ]
  },
  {
   "cell_type": "code",
   "execution_count": 13,
   "metadata": {
    "colab": {
     "base_uri": "https://localhost:8080/"
    },
    "id": "CxamJiCCxA6i",
    "outputId": "c63cffad-8ae8-42ba-d6a7-053313bac5de"
   },
   "outputs": [
    {
     "data": {
      "text/plain": [
       "Index(['child_num', 'income_total', 'days_birth', 'days_employed',\n",
       "       'family_size', 'begin_month', 'work_phone', 'home_phone', 'email',\n",
       "       'gender_F', 'gender_M', 'car_N', 'car_Y', 'reality_N', 'reality_Y',\n",
       "       'income_type_Commercial associate', 'income_type_Pensioner',\n",
       "       'income_type_State servant', 'income_type_Student',\n",
       "       'income_type_Working', 'edu_type_Academic degree',\n",
       "       'edu_type_Higher education', 'edu_type_Incomplete higher',\n",
       "       'edu_type_Lower secondary', 'edu_type_Secondary / secondary special',\n",
       "       'family_type_Civil marriage', 'family_type_Married',\n",
       "       'family_type_Separated', 'family_type_Single / not married',\n",
       "       'family_type_Widow', 'house_type_Co-op apartment',\n",
       "       'house_type_House / apartment', 'house_type_Municipal apartment',\n",
       "       'house_type_Office apartment', 'house_type_Rented apartment',\n",
       "       'house_type_With parents', 'occup_type_Accountants',\n",
       "       'occup_type_Cleaning staff', 'occup_type_Cooking staff',\n",
       "       'occup_type_Core staff', 'occup_type_Drivers', 'occup_type_HR staff',\n",
       "       'occup_type_High skill tech staff', 'occup_type_IT staff',\n",
       "       'occup_type_Laborers', 'occup_type_Low-skill Laborers',\n",
       "       'occup_type_Managers', 'occup_type_Medicine staff', 'occup_type_No job',\n",
       "       'occup_type_Private service staff', 'occup_type_Realty agents',\n",
       "       'occup_type_Sales staff', 'occup_type_Secretaries',\n",
       "       'occup_type_Security staff', 'occup_type_Waiters/barmen staff',\n",
       "       'credit'],\n",
       "      dtype='object')"
      ]
     },
     "execution_count": 13,
     "metadata": {},
     "output_type": "execute_result"
    }
   ],
   "source": [
    "Train.columns"
   ]
  },
  {
   "cell_type": "markdown",
   "metadata": {
    "id": "KdTBwKwaxLX2"
   },
   "source": [
    "## Create validation data"
   ]
  },
  {
   "cell_type": "code",
   "execution_count": 14,
   "metadata": {
    "id": "H-trNJhfxHPb"
   },
   "outputs": [],
   "source": [
    "x_data = Train.drop(['credit'], axis=1)\n",
    "y_data = Train['credit']"
   ]
  },
  {
   "cell_type": "code",
   "execution_count": 15,
   "metadata": {
    "id": "_8bgzvAGxZPo"
   },
   "outputs": [],
   "source": [
    "#from sklearn.model_selection import train_test_split\n",
    "#x_train, x_test, y_train, y_test = train_test_split(x_data, y_data, test_size=0.3, random_state=777)"
   ]
  },
  {
   "cell_type": "markdown",
   "metadata": {
    "id": "UNiOysaqxdAG"
   },
   "source": [
    "## Pycaret"
   ]
  },
  {
   "cell_type": "code",
   "execution_count": 16,
   "metadata": {
    "id": "yHSI_k9Q75Pc"
   },
   "outputs": [],
   "source": [
    "#!pip uninstall scikit-learn\n",
    "#!pip install scikit-learn==0.23.2\n",
    "#!pip uninstall numpy\n",
    "#!pip install numpy==1.20.0\n"
   ]
  },
  {
   "cell_type": "code",
   "execution_count": 17,
   "metadata": {
    "id": "aRklu9Dp8Jgt"
   },
   "outputs": [],
   "source": [
    "#!pip install scikit-learn==0.23.2\n",
    "\n",
    "#sklearn.__version__"
   ]
  },
  {
   "cell_type": "code",
   "execution_count": 18,
   "metadata": {
    "id": "wr6okeW-GXIe"
   },
   "outputs": [],
   "source": [
    "#!pip uninstall sklearn\n",
    "#!pip install scikit-learn==0.23.2\n",
    "#!pip install imbalanced-learn==0.7.0"
   ]
  },
  {
   "cell_type": "code",
   "execution_count": 19,
   "metadata": {
    "id": "1Pk944c-GgpJ"
   },
   "outputs": [],
   "source": [
    "#from pycaret.utils import enable_colab\n",
    "#enable_colab()\n",
    "#!pip install pycaret"
   ]
  },
  {
   "cell_type": "code",
   "execution_count": 20,
   "metadata": {
    "colab": {
     "base_uri": "https://localhost:8080/",
     "height": 821
    },
    "id": "7Hr0mPn7xxpo",
    "outputId": "34486099-8f55-415f-b70e-106bdf38d322"
   },
   "outputs": [
    {
     "data": {
      "text/html": [
       "<style type=\"text/css\">\n",
       "#T_631c2_row44_col1 {\n",
       "  background-color: lightgreen;\n",
       "}\n",
       "</style>\n",
       "<table id=\"T_631c2\">\n",
       "  <thead>\n",
       "    <tr>\n",
       "      <th class=\"blank level0\" >&nbsp;</th>\n",
       "      <th id=\"T_631c2_level0_col0\" class=\"col_heading level0 col0\" >Description</th>\n",
       "      <th id=\"T_631c2_level0_col1\" class=\"col_heading level0 col1\" >Value</th>\n",
       "    </tr>\n",
       "  </thead>\n",
       "  <tbody>\n",
       "    <tr>\n",
       "      <th id=\"T_631c2_level0_row0\" class=\"row_heading level0 row0\" >0</th>\n",
       "      <td id=\"T_631c2_row0_col0\" class=\"data row0 col0\" >session_id</td>\n",
       "      <td id=\"T_631c2_row0_col1\" class=\"data row0 col1\" >2073</td>\n",
       "    </tr>\n",
       "    <tr>\n",
       "      <th id=\"T_631c2_level0_row1\" class=\"row_heading level0 row1\" >1</th>\n",
       "      <td id=\"T_631c2_row1_col0\" class=\"data row1 col0\" >Target</td>\n",
       "      <td id=\"T_631c2_row1_col1\" class=\"data row1 col1\" >credit</td>\n",
       "    </tr>\n",
       "    <tr>\n",
       "      <th id=\"T_631c2_level0_row2\" class=\"row_heading level0 row2\" >2</th>\n",
       "      <td id=\"T_631c2_row2_col0\" class=\"data row2 col0\" >Target Type</td>\n",
       "      <td id=\"T_631c2_row2_col1\" class=\"data row2 col1\" >Multiclass</td>\n",
       "    </tr>\n",
       "    <tr>\n",
       "      <th id=\"T_631c2_level0_row3\" class=\"row_heading level0 row3\" >3</th>\n",
       "      <td id=\"T_631c2_row3_col0\" class=\"data row3 col0\" >Label Encoded</td>\n",
       "      <td id=\"T_631c2_row3_col1\" class=\"data row3 col1\" >0.0: 0, 1.0: 1, 2.0: 2</td>\n",
       "    </tr>\n",
       "    <tr>\n",
       "      <th id=\"T_631c2_level0_row4\" class=\"row_heading level0 row4\" >4</th>\n",
       "      <td id=\"T_631c2_row4_col0\" class=\"data row4 col0\" >Original Data</td>\n",
       "      <td id=\"T_631c2_row4_col1\" class=\"data row4 col1\" >(23392, 56)</td>\n",
       "    </tr>\n",
       "    <tr>\n",
       "      <th id=\"T_631c2_level0_row5\" class=\"row_heading level0 row5\" >5</th>\n",
       "      <td id=\"T_631c2_row5_col0\" class=\"data row5 col0\" >Missing Values</td>\n",
       "      <td id=\"T_631c2_row5_col1\" class=\"data row5 col1\" >False</td>\n",
       "    </tr>\n",
       "    <tr>\n",
       "      <th id=\"T_631c2_level0_row6\" class=\"row_heading level0 row6\" >6</th>\n",
       "      <td id=\"T_631c2_row6_col0\" class=\"data row6 col0\" >Numeric Features</td>\n",
       "      <td id=\"T_631c2_row6_col1\" class=\"data row6 col1\" >52</td>\n",
       "    </tr>\n",
       "    <tr>\n",
       "      <th id=\"T_631c2_level0_row7\" class=\"row_heading level0 row7\" >7</th>\n",
       "      <td id=\"T_631c2_row7_col0\" class=\"data row7 col0\" >Categorical Features</td>\n",
       "      <td id=\"T_631c2_row7_col1\" class=\"data row7 col1\" >3</td>\n",
       "    </tr>\n",
       "    <tr>\n",
       "      <th id=\"T_631c2_level0_row8\" class=\"row_heading level0 row8\" >8</th>\n",
       "      <td id=\"T_631c2_row8_col0\" class=\"data row8 col0\" >Ordinal Features</td>\n",
       "      <td id=\"T_631c2_row8_col1\" class=\"data row8 col1\" >False</td>\n",
       "    </tr>\n",
       "    <tr>\n",
       "      <th id=\"T_631c2_level0_row9\" class=\"row_heading level0 row9\" >9</th>\n",
       "      <td id=\"T_631c2_row9_col0\" class=\"data row9 col0\" >High Cardinality Features</td>\n",
       "      <td id=\"T_631c2_row9_col1\" class=\"data row9 col1\" >False</td>\n",
       "    </tr>\n",
       "    <tr>\n",
       "      <th id=\"T_631c2_level0_row10\" class=\"row_heading level0 row10\" >10</th>\n",
       "      <td id=\"T_631c2_row10_col0\" class=\"data row10 col0\" >High Cardinality Method</td>\n",
       "      <td id=\"T_631c2_row10_col1\" class=\"data row10 col1\" >None</td>\n",
       "    </tr>\n",
       "    <tr>\n",
       "      <th id=\"T_631c2_level0_row11\" class=\"row_heading level0 row11\" >11</th>\n",
       "      <td id=\"T_631c2_row11_col0\" class=\"data row11 col0\" >Transformed Train Set</td>\n",
       "      <td id=\"T_631c2_row11_col1\" class=\"data row11 col1\" >(18713, 52)</td>\n",
       "    </tr>\n",
       "    <tr>\n",
       "      <th id=\"T_631c2_level0_row12\" class=\"row_heading level0 row12\" >12</th>\n",
       "      <td id=\"T_631c2_row12_col0\" class=\"data row12 col0\" >Transformed Test Set</td>\n",
       "      <td id=\"T_631c2_row12_col1\" class=\"data row12 col1\" >(4679, 52)</td>\n",
       "    </tr>\n",
       "    <tr>\n",
       "      <th id=\"T_631c2_level0_row13\" class=\"row_heading level0 row13\" >13</th>\n",
       "      <td id=\"T_631c2_row13_col0\" class=\"data row13 col0\" >Shuffle Train-Test</td>\n",
       "      <td id=\"T_631c2_row13_col1\" class=\"data row13 col1\" >True</td>\n",
       "    </tr>\n",
       "    <tr>\n",
       "      <th id=\"T_631c2_level0_row14\" class=\"row_heading level0 row14\" >14</th>\n",
       "      <td id=\"T_631c2_row14_col0\" class=\"data row14 col0\" >Stratify Train-Test</td>\n",
       "      <td id=\"T_631c2_row14_col1\" class=\"data row14 col1\" >False</td>\n",
       "    </tr>\n",
       "    <tr>\n",
       "      <th id=\"T_631c2_level0_row15\" class=\"row_heading level0 row15\" >15</th>\n",
       "      <td id=\"T_631c2_row15_col0\" class=\"data row15 col0\" >Fold Generator</td>\n",
       "      <td id=\"T_631c2_row15_col1\" class=\"data row15 col1\" >StratifiedKFold</td>\n",
       "    </tr>\n",
       "    <tr>\n",
       "      <th id=\"T_631c2_level0_row16\" class=\"row_heading level0 row16\" >16</th>\n",
       "      <td id=\"T_631c2_row16_col0\" class=\"data row16 col0\" >Fold Number</td>\n",
       "      <td id=\"T_631c2_row16_col1\" class=\"data row16 col1\" >5</td>\n",
       "    </tr>\n",
       "    <tr>\n",
       "      <th id=\"T_631c2_level0_row17\" class=\"row_heading level0 row17\" >17</th>\n",
       "      <td id=\"T_631c2_row17_col0\" class=\"data row17 col0\" >CPU Jobs</td>\n",
       "      <td id=\"T_631c2_row17_col1\" class=\"data row17 col1\" >-1</td>\n",
       "    </tr>\n",
       "    <tr>\n",
       "      <th id=\"T_631c2_level0_row18\" class=\"row_heading level0 row18\" >18</th>\n",
       "      <td id=\"T_631c2_row18_col0\" class=\"data row18 col0\" >Use GPU</td>\n",
       "      <td id=\"T_631c2_row18_col1\" class=\"data row18 col1\" >False</td>\n",
       "    </tr>\n",
       "    <tr>\n",
       "      <th id=\"T_631c2_level0_row19\" class=\"row_heading level0 row19\" >19</th>\n",
       "      <td id=\"T_631c2_row19_col0\" class=\"data row19 col0\" >Log Experiment</td>\n",
       "      <td id=\"T_631c2_row19_col1\" class=\"data row19 col1\" >False</td>\n",
       "    </tr>\n",
       "    <tr>\n",
       "      <th id=\"T_631c2_level0_row20\" class=\"row_heading level0 row20\" >20</th>\n",
       "      <td id=\"T_631c2_row20_col0\" class=\"data row20 col0\" >Experiment Name</td>\n",
       "      <td id=\"T_631c2_row20_col1\" class=\"data row20 col1\" >clf-default-name</td>\n",
       "    </tr>\n",
       "    <tr>\n",
       "      <th id=\"T_631c2_level0_row21\" class=\"row_heading level0 row21\" >21</th>\n",
       "      <td id=\"T_631c2_row21_col0\" class=\"data row21 col0\" >USI</td>\n",
       "      <td id=\"T_631c2_row21_col1\" class=\"data row21 col1\" >c091</td>\n",
       "    </tr>\n",
       "    <tr>\n",
       "      <th id=\"T_631c2_level0_row22\" class=\"row_heading level0 row22\" >22</th>\n",
       "      <td id=\"T_631c2_row22_col0\" class=\"data row22 col0\" >Imputation Type</td>\n",
       "      <td id=\"T_631c2_row22_col1\" class=\"data row22 col1\" >simple</td>\n",
       "    </tr>\n",
       "    <tr>\n",
       "      <th id=\"T_631c2_level0_row23\" class=\"row_heading level0 row23\" >23</th>\n",
       "      <td id=\"T_631c2_row23_col0\" class=\"data row23 col0\" >Iterative Imputation Iteration</td>\n",
       "      <td id=\"T_631c2_row23_col1\" class=\"data row23 col1\" >None</td>\n",
       "    </tr>\n",
       "    <tr>\n",
       "      <th id=\"T_631c2_level0_row24\" class=\"row_heading level0 row24\" >24</th>\n",
       "      <td id=\"T_631c2_row24_col0\" class=\"data row24 col0\" >Numeric Imputer</td>\n",
       "      <td id=\"T_631c2_row24_col1\" class=\"data row24 col1\" >mean</td>\n",
       "    </tr>\n",
       "    <tr>\n",
       "      <th id=\"T_631c2_level0_row25\" class=\"row_heading level0 row25\" >25</th>\n",
       "      <td id=\"T_631c2_row25_col0\" class=\"data row25 col0\" >Iterative Imputation Numeric Model</td>\n",
       "      <td id=\"T_631c2_row25_col1\" class=\"data row25 col1\" >None</td>\n",
       "    </tr>\n",
       "    <tr>\n",
       "      <th id=\"T_631c2_level0_row26\" class=\"row_heading level0 row26\" >26</th>\n",
       "      <td id=\"T_631c2_row26_col0\" class=\"data row26 col0\" >Categorical Imputer</td>\n",
       "      <td id=\"T_631c2_row26_col1\" class=\"data row26 col1\" >constant</td>\n",
       "    </tr>\n",
       "    <tr>\n",
       "      <th id=\"T_631c2_level0_row27\" class=\"row_heading level0 row27\" >27</th>\n",
       "      <td id=\"T_631c2_row27_col0\" class=\"data row27 col0\" >Iterative Imputation Categorical Model</td>\n",
       "      <td id=\"T_631c2_row27_col1\" class=\"data row27 col1\" >None</td>\n",
       "    </tr>\n",
       "    <tr>\n",
       "      <th id=\"T_631c2_level0_row28\" class=\"row_heading level0 row28\" >28</th>\n",
       "      <td id=\"T_631c2_row28_col0\" class=\"data row28 col0\" >Unknown Categoricals Handling</td>\n",
       "      <td id=\"T_631c2_row28_col1\" class=\"data row28 col1\" >least_frequent</td>\n",
       "    </tr>\n",
       "    <tr>\n",
       "      <th id=\"T_631c2_level0_row29\" class=\"row_heading level0 row29\" >29</th>\n",
       "      <td id=\"T_631c2_row29_col0\" class=\"data row29 col0\" >Normalize</td>\n",
       "      <td id=\"T_631c2_row29_col1\" class=\"data row29 col1\" >False</td>\n",
       "    </tr>\n",
       "    <tr>\n",
       "      <th id=\"T_631c2_level0_row30\" class=\"row_heading level0 row30\" >30</th>\n",
       "      <td id=\"T_631c2_row30_col0\" class=\"data row30 col0\" >Normalize Method</td>\n",
       "      <td id=\"T_631c2_row30_col1\" class=\"data row30 col1\" >None</td>\n",
       "    </tr>\n",
       "    <tr>\n",
       "      <th id=\"T_631c2_level0_row31\" class=\"row_heading level0 row31\" >31</th>\n",
       "      <td id=\"T_631c2_row31_col0\" class=\"data row31 col0\" >Transformation</td>\n",
       "      <td id=\"T_631c2_row31_col1\" class=\"data row31 col1\" >False</td>\n",
       "    </tr>\n",
       "    <tr>\n",
       "      <th id=\"T_631c2_level0_row32\" class=\"row_heading level0 row32\" >32</th>\n",
       "      <td id=\"T_631c2_row32_col0\" class=\"data row32 col0\" >Transformation Method</td>\n",
       "      <td id=\"T_631c2_row32_col1\" class=\"data row32 col1\" >None</td>\n",
       "    </tr>\n",
       "    <tr>\n",
       "      <th id=\"T_631c2_level0_row33\" class=\"row_heading level0 row33\" >33</th>\n",
       "      <td id=\"T_631c2_row33_col0\" class=\"data row33 col0\" >PCA</td>\n",
       "      <td id=\"T_631c2_row33_col1\" class=\"data row33 col1\" >False</td>\n",
       "    </tr>\n",
       "    <tr>\n",
       "      <th id=\"T_631c2_level0_row34\" class=\"row_heading level0 row34\" >34</th>\n",
       "      <td id=\"T_631c2_row34_col0\" class=\"data row34 col0\" >PCA Method</td>\n",
       "      <td id=\"T_631c2_row34_col1\" class=\"data row34 col1\" >None</td>\n",
       "    </tr>\n",
       "    <tr>\n",
       "      <th id=\"T_631c2_level0_row35\" class=\"row_heading level0 row35\" >35</th>\n",
       "      <td id=\"T_631c2_row35_col0\" class=\"data row35 col0\" >PCA Components</td>\n",
       "      <td id=\"T_631c2_row35_col1\" class=\"data row35 col1\" >None</td>\n",
       "    </tr>\n",
       "    <tr>\n",
       "      <th id=\"T_631c2_level0_row36\" class=\"row_heading level0 row36\" >36</th>\n",
       "      <td id=\"T_631c2_row36_col0\" class=\"data row36 col0\" >Ignore Low Variance</td>\n",
       "      <td id=\"T_631c2_row36_col1\" class=\"data row36 col1\" >False</td>\n",
       "    </tr>\n",
       "    <tr>\n",
       "      <th id=\"T_631c2_level0_row37\" class=\"row_heading level0 row37\" >37</th>\n",
       "      <td id=\"T_631c2_row37_col0\" class=\"data row37 col0\" >Combine Rare Levels</td>\n",
       "      <td id=\"T_631c2_row37_col1\" class=\"data row37 col1\" >False</td>\n",
       "    </tr>\n",
       "    <tr>\n",
       "      <th id=\"T_631c2_level0_row38\" class=\"row_heading level0 row38\" >38</th>\n",
       "      <td id=\"T_631c2_row38_col0\" class=\"data row38 col0\" >Rare Level Threshold</td>\n",
       "      <td id=\"T_631c2_row38_col1\" class=\"data row38 col1\" >None</td>\n",
       "    </tr>\n",
       "    <tr>\n",
       "      <th id=\"T_631c2_level0_row39\" class=\"row_heading level0 row39\" >39</th>\n",
       "      <td id=\"T_631c2_row39_col0\" class=\"data row39 col0\" >Numeric Binning</td>\n",
       "      <td id=\"T_631c2_row39_col1\" class=\"data row39 col1\" >False</td>\n",
       "    </tr>\n",
       "    <tr>\n",
       "      <th id=\"T_631c2_level0_row40\" class=\"row_heading level0 row40\" >40</th>\n",
       "      <td id=\"T_631c2_row40_col0\" class=\"data row40 col0\" >Remove Outliers</td>\n",
       "      <td id=\"T_631c2_row40_col1\" class=\"data row40 col1\" >False</td>\n",
       "    </tr>\n",
       "    <tr>\n",
       "      <th id=\"T_631c2_level0_row41\" class=\"row_heading level0 row41\" >41</th>\n",
       "      <td id=\"T_631c2_row41_col0\" class=\"data row41 col0\" >Outliers Threshold</td>\n",
       "      <td id=\"T_631c2_row41_col1\" class=\"data row41 col1\" >None</td>\n",
       "    </tr>\n",
       "    <tr>\n",
       "      <th id=\"T_631c2_level0_row42\" class=\"row_heading level0 row42\" >42</th>\n",
       "      <td id=\"T_631c2_row42_col0\" class=\"data row42 col0\" >Remove Multicollinearity</td>\n",
       "      <td id=\"T_631c2_row42_col1\" class=\"data row42 col1\" >False</td>\n",
       "    </tr>\n",
       "    <tr>\n",
       "      <th id=\"T_631c2_level0_row43\" class=\"row_heading level0 row43\" >43</th>\n",
       "      <td id=\"T_631c2_row43_col0\" class=\"data row43 col0\" >Multicollinearity Threshold</td>\n",
       "      <td id=\"T_631c2_row43_col1\" class=\"data row43 col1\" >None</td>\n",
       "    </tr>\n",
       "    <tr>\n",
       "      <th id=\"T_631c2_level0_row44\" class=\"row_heading level0 row44\" >44</th>\n",
       "      <td id=\"T_631c2_row44_col0\" class=\"data row44 col0\" >Remove Perfect Collinearity</td>\n",
       "      <td id=\"T_631c2_row44_col1\" class=\"data row44 col1\" >True</td>\n",
       "    </tr>\n",
       "    <tr>\n",
       "      <th id=\"T_631c2_level0_row45\" class=\"row_heading level0 row45\" >45</th>\n",
       "      <td id=\"T_631c2_row45_col0\" class=\"data row45 col0\" >Clustering</td>\n",
       "      <td id=\"T_631c2_row45_col1\" class=\"data row45 col1\" >False</td>\n",
       "    </tr>\n",
       "    <tr>\n",
       "      <th id=\"T_631c2_level0_row46\" class=\"row_heading level0 row46\" >46</th>\n",
       "      <td id=\"T_631c2_row46_col0\" class=\"data row46 col0\" >Clustering Iteration</td>\n",
       "      <td id=\"T_631c2_row46_col1\" class=\"data row46 col1\" >None</td>\n",
       "    </tr>\n",
       "    <tr>\n",
       "      <th id=\"T_631c2_level0_row47\" class=\"row_heading level0 row47\" >47</th>\n",
       "      <td id=\"T_631c2_row47_col0\" class=\"data row47 col0\" >Polynomial Features</td>\n",
       "      <td id=\"T_631c2_row47_col1\" class=\"data row47 col1\" >False</td>\n",
       "    </tr>\n",
       "    <tr>\n",
       "      <th id=\"T_631c2_level0_row48\" class=\"row_heading level0 row48\" >48</th>\n",
       "      <td id=\"T_631c2_row48_col0\" class=\"data row48 col0\" >Polynomial Degree</td>\n",
       "      <td id=\"T_631c2_row48_col1\" class=\"data row48 col1\" >None</td>\n",
       "    </tr>\n",
       "    <tr>\n",
       "      <th id=\"T_631c2_level0_row49\" class=\"row_heading level0 row49\" >49</th>\n",
       "      <td id=\"T_631c2_row49_col0\" class=\"data row49 col0\" >Trignometry Features</td>\n",
       "      <td id=\"T_631c2_row49_col1\" class=\"data row49 col1\" >False</td>\n",
       "    </tr>\n",
       "    <tr>\n",
       "      <th id=\"T_631c2_level0_row50\" class=\"row_heading level0 row50\" >50</th>\n",
       "      <td id=\"T_631c2_row50_col0\" class=\"data row50 col0\" >Polynomial Threshold</td>\n",
       "      <td id=\"T_631c2_row50_col1\" class=\"data row50 col1\" >None</td>\n",
       "    </tr>\n",
       "    <tr>\n",
       "      <th id=\"T_631c2_level0_row51\" class=\"row_heading level0 row51\" >51</th>\n",
       "      <td id=\"T_631c2_row51_col0\" class=\"data row51 col0\" >Group Features</td>\n",
       "      <td id=\"T_631c2_row51_col1\" class=\"data row51 col1\" >False</td>\n",
       "    </tr>\n",
       "    <tr>\n",
       "      <th id=\"T_631c2_level0_row52\" class=\"row_heading level0 row52\" >52</th>\n",
       "      <td id=\"T_631c2_row52_col0\" class=\"data row52 col0\" >Feature Selection</td>\n",
       "      <td id=\"T_631c2_row52_col1\" class=\"data row52 col1\" >False</td>\n",
       "    </tr>\n",
       "    <tr>\n",
       "      <th id=\"T_631c2_level0_row53\" class=\"row_heading level0 row53\" >53</th>\n",
       "      <td id=\"T_631c2_row53_col0\" class=\"data row53 col0\" >Feature Selection Method</td>\n",
       "      <td id=\"T_631c2_row53_col1\" class=\"data row53 col1\" >classic</td>\n",
       "    </tr>\n",
       "    <tr>\n",
       "      <th id=\"T_631c2_level0_row54\" class=\"row_heading level0 row54\" >54</th>\n",
       "      <td id=\"T_631c2_row54_col0\" class=\"data row54 col0\" >Features Selection Threshold</td>\n",
       "      <td id=\"T_631c2_row54_col1\" class=\"data row54 col1\" >None</td>\n",
       "    </tr>\n",
       "    <tr>\n",
       "      <th id=\"T_631c2_level0_row55\" class=\"row_heading level0 row55\" >55</th>\n",
       "      <td id=\"T_631c2_row55_col0\" class=\"data row55 col0\" >Feature Interaction</td>\n",
       "      <td id=\"T_631c2_row55_col1\" class=\"data row55 col1\" >False</td>\n",
       "    </tr>\n",
       "    <tr>\n",
       "      <th id=\"T_631c2_level0_row56\" class=\"row_heading level0 row56\" >56</th>\n",
       "      <td id=\"T_631c2_row56_col0\" class=\"data row56 col0\" >Feature Ratio</td>\n",
       "      <td id=\"T_631c2_row56_col1\" class=\"data row56 col1\" >False</td>\n",
       "    </tr>\n",
       "    <tr>\n",
       "      <th id=\"T_631c2_level0_row57\" class=\"row_heading level0 row57\" >57</th>\n",
       "      <td id=\"T_631c2_row57_col0\" class=\"data row57 col0\" >Interaction Threshold</td>\n",
       "      <td id=\"T_631c2_row57_col1\" class=\"data row57 col1\" >None</td>\n",
       "    </tr>\n",
       "    <tr>\n",
       "      <th id=\"T_631c2_level0_row58\" class=\"row_heading level0 row58\" >58</th>\n",
       "      <td id=\"T_631c2_row58_col0\" class=\"data row58 col0\" >Fix Imbalance</td>\n",
       "      <td id=\"T_631c2_row58_col1\" class=\"data row58 col1\" >False</td>\n",
       "    </tr>\n",
       "    <tr>\n",
       "      <th id=\"T_631c2_level0_row59\" class=\"row_heading level0 row59\" >59</th>\n",
       "      <td id=\"T_631c2_row59_col0\" class=\"data row59 col0\" >Fix Imbalance Method</td>\n",
       "      <td id=\"T_631c2_row59_col1\" class=\"data row59 col1\" >SMOTE</td>\n",
       "    </tr>\n",
       "  </tbody>\n",
       "</table>\n"
      ],
      "text/plain": [
       "<pandas.io.formats.style.Styler at 0x7fefa2065880>"
      ]
     },
     "metadata": {},
     "output_type": "display_data"
    }
   ],
   "source": [
    "from pycaret.utils import enable_colab\n",
    "from pycaret.classification import *\n",
    "\n",
    "# setup\n",
    "pycaret_model = setup(Train, target = 'credit', train_size = 0.8, fold = 5, fold_shuffle=True)"
   ]
  },
  {
   "cell_type": "code",
   "execution_count": 21,
   "metadata": {
    "id": "pC-19izt6sxF"
   },
   "outputs": [
    {
     "data": {
      "text/plain": [
       "Name                                                           LogLoss\n",
       "Display Name                                                   LogLoss\n",
       "Score Function                   <function log_loss at 0x7fefbe9430d0>\n",
       "Scorer               make_scorer(log_loss, greater_is_better=False,...\n",
       "Target                                                      pred_proba\n",
       "Args                                                                {}\n",
       "Greater is Better                                                False\n",
       "Multiclass                                                        True\n",
       "Custom                                                            True\n",
       "Name: logloss, dtype: object"
      ]
     },
     "execution_count": 21,
     "metadata": {},
     "output_type": "execute_result"
    }
   ],
   "source": [
    "# Add metric\n",
    "from sklearn.metrics import log_loss\n",
    "add_metric('logloss', 'LogLoss', log_loss, greater_is_better=False, target=\"pred_proba\")"
   ]
  },
  {
   "cell_type": "code",
   "execution_count": 24,
   "metadata": {
    "id": "byvQ1-cz_xMJ"
   },
   "outputs": [
    {
     "data": {
      "text/html": [
       "<style type=\"text/css\">\n",
       "#T_58aa2 th {\n",
       "  text-align: left;\n",
       "}\n",
       "#T_58aa2_row0_col0, #T_58aa2_row0_col1, #T_58aa2_row0_col2, #T_58aa2_row0_col3, #T_58aa2_row0_col4, #T_58aa2_row0_col5, #T_58aa2_row0_col6, #T_58aa2_row0_col7, #T_58aa2_row1_col0, #T_58aa2_row1_col1, #T_58aa2_row1_col2, #T_58aa2_row1_col3, #T_58aa2_row1_col4, #T_58aa2_row1_col5, #T_58aa2_row1_col6, #T_58aa2_row1_col7, #T_58aa2_row2_col0, #T_58aa2_row2_col1, #T_58aa2_row2_col2, #T_58aa2_row2_col3, #T_58aa2_row2_col5, #T_58aa2_row2_col6, #T_58aa2_row2_col7, #T_58aa2_row2_col8, #T_58aa2_row3_col0, #T_58aa2_row3_col1, #T_58aa2_row3_col2, #T_58aa2_row3_col3, #T_58aa2_row3_col4, #T_58aa2_row3_col5, #T_58aa2_row3_col6, #T_58aa2_row3_col7, #T_58aa2_row3_col8, #T_58aa2_row4_col0, #T_58aa2_row4_col1, #T_58aa2_row4_col2, #T_58aa2_row4_col3, #T_58aa2_row4_col4, #T_58aa2_row4_col5, #T_58aa2_row4_col6, #T_58aa2_row4_col7, #T_58aa2_row4_col8, #T_58aa2_row5_col0, #T_58aa2_row5_col1, #T_58aa2_row5_col2, #T_58aa2_row5_col3, #T_58aa2_row5_col4, #T_58aa2_row5_col5, #T_58aa2_row5_col6, #T_58aa2_row5_col7, #T_58aa2_row5_col8, #T_58aa2_row6_col0, #T_58aa2_row6_col1, #T_58aa2_row6_col2, #T_58aa2_row6_col3, #T_58aa2_row6_col4, #T_58aa2_row6_col5, #T_58aa2_row6_col6, #T_58aa2_row6_col7, #T_58aa2_row6_col8, #T_58aa2_row7_col0, #T_58aa2_row7_col4, #T_58aa2_row7_col8, #T_58aa2_row8_col0, #T_58aa2_row8_col1, #T_58aa2_row8_col2, #T_58aa2_row8_col3, #T_58aa2_row8_col4, #T_58aa2_row8_col5, #T_58aa2_row8_col6, #T_58aa2_row8_col7, #T_58aa2_row8_col8, #T_58aa2_row9_col0, #T_58aa2_row9_col1, #T_58aa2_row9_col2, #T_58aa2_row9_col3, #T_58aa2_row9_col4, #T_58aa2_row9_col5, #T_58aa2_row9_col6, #T_58aa2_row9_col7, #T_58aa2_row9_col8, #T_58aa2_row10_col0, #T_58aa2_row10_col1, #T_58aa2_row10_col2, #T_58aa2_row10_col3, #T_58aa2_row10_col4, #T_58aa2_row10_col5, #T_58aa2_row10_col6, #T_58aa2_row10_col7, #T_58aa2_row10_col8, #T_58aa2_row11_col0, #T_58aa2_row11_col1, #T_58aa2_row11_col2, #T_58aa2_row11_col3, #T_58aa2_row11_col4, #T_58aa2_row11_col5, #T_58aa2_row11_col6, #T_58aa2_row11_col7, #T_58aa2_row11_col8, #T_58aa2_row12_col0, #T_58aa2_row12_col1, #T_58aa2_row12_col2, #T_58aa2_row12_col3, #T_58aa2_row12_col4, #T_58aa2_row12_col5, #T_58aa2_row12_col6, #T_58aa2_row12_col7, #T_58aa2_row12_col8, #T_58aa2_row13_col0, #T_58aa2_row13_col1, #T_58aa2_row13_col2, #T_58aa2_row13_col3, #T_58aa2_row13_col4, #T_58aa2_row13_col5, #T_58aa2_row13_col6, #T_58aa2_row13_col7, #T_58aa2_row13_col8 {\n",
       "  text-align: left;\n",
       "}\n",
       "#T_58aa2_row0_col8, #T_58aa2_row1_col8, #T_58aa2_row2_col4, #T_58aa2_row7_col1, #T_58aa2_row7_col2, #T_58aa2_row7_col3, #T_58aa2_row7_col5, #T_58aa2_row7_col6, #T_58aa2_row7_col7 {\n",
       "  text-align: left;\n",
       "  background-color: yellow;\n",
       "}\n",
       "#T_58aa2_row0_col9, #T_58aa2_row1_col9, #T_58aa2_row2_col9, #T_58aa2_row3_col9, #T_58aa2_row4_col9, #T_58aa2_row5_col9, #T_58aa2_row7_col9, #T_58aa2_row8_col9, #T_58aa2_row9_col9, #T_58aa2_row10_col9, #T_58aa2_row11_col9, #T_58aa2_row12_col9, #T_58aa2_row13_col9 {\n",
       "  text-align: left;\n",
       "  background-color: lightgrey;\n",
       "}\n",
       "#T_58aa2_row6_col9 {\n",
       "  text-align: left;\n",
       "  background-color: yellow;\n",
       "  background-color: lightgrey;\n",
       "}\n",
       "</style>\n",
       "<table id=\"T_58aa2\">\n",
       "  <thead>\n",
       "    <tr>\n",
       "      <th class=\"blank level0\" >&nbsp;</th>\n",
       "      <th id=\"T_58aa2_level0_col0\" class=\"col_heading level0 col0\" >Model</th>\n",
       "      <th id=\"T_58aa2_level0_col1\" class=\"col_heading level0 col1\" >Accuracy</th>\n",
       "      <th id=\"T_58aa2_level0_col2\" class=\"col_heading level0 col2\" >AUC</th>\n",
       "      <th id=\"T_58aa2_level0_col3\" class=\"col_heading level0 col3\" >Recall</th>\n",
       "      <th id=\"T_58aa2_level0_col4\" class=\"col_heading level0 col4\" >Prec.</th>\n",
       "      <th id=\"T_58aa2_level0_col5\" class=\"col_heading level0 col5\" >F1</th>\n",
       "      <th id=\"T_58aa2_level0_col6\" class=\"col_heading level0 col6\" >Kappa</th>\n",
       "      <th id=\"T_58aa2_level0_col7\" class=\"col_heading level0 col7\" >MCC</th>\n",
       "      <th id=\"T_58aa2_level0_col8\" class=\"col_heading level0 col8\" >LogLoss</th>\n",
       "      <th id=\"T_58aa2_level0_col9\" class=\"col_heading level0 col9\" >TT (Sec)</th>\n",
       "    </tr>\n",
       "  </thead>\n",
       "  <tbody>\n",
       "    <tr>\n",
       "      <th id=\"T_58aa2_level0_row0\" class=\"row_heading level0 row0\" >svm</th>\n",
       "      <td id=\"T_58aa2_row0_col0\" class=\"data row0 col0\" >SVM - Linear Kernel</td>\n",
       "      <td id=\"T_58aa2_row0_col1\" class=\"data row0 col1\" >0.6513</td>\n",
       "      <td id=\"T_58aa2_row0_col2\" class=\"data row0 col2\" >0.0000</td>\n",
       "      <td id=\"T_58aa2_row0_col3\" class=\"data row0 col3\" >0.3333</td>\n",
       "      <td id=\"T_58aa2_row0_col4\" class=\"data row0 col4\" >0.4242</td>\n",
       "      <td id=\"T_58aa2_row0_col5\" class=\"data row0 col5\" >0.5138</td>\n",
       "      <td id=\"T_58aa2_row0_col6\" class=\"data row0 col6\" >-0.0000</td>\n",
       "      <td id=\"T_58aa2_row0_col7\" class=\"data row0 col7\" >-0.0004</td>\n",
       "      <td id=\"T_58aa2_row0_col8\" class=\"data row0 col8\" >0.0000</td>\n",
       "      <td id=\"T_58aa2_row0_col9\" class=\"data row0 col9\" >0.2500</td>\n",
       "    </tr>\n",
       "    <tr>\n",
       "      <th id=\"T_58aa2_level0_row1\" class=\"row_heading level0 row1\" >ridge</th>\n",
       "      <td id=\"T_58aa2_row1_col0\" class=\"data row1 col0\" >Ridge Classifier</td>\n",
       "      <td id=\"T_58aa2_row1_col1\" class=\"data row1 col1\" >0.6522</td>\n",
       "      <td id=\"T_58aa2_row1_col2\" class=\"data row1 col2\" >0.0000</td>\n",
       "      <td id=\"T_58aa2_row1_col3\" class=\"data row1 col3\" >0.3362</td>\n",
       "      <td id=\"T_58aa2_row1_col4\" class=\"data row1 col4\" >0.5518</td>\n",
       "      <td id=\"T_58aa2_row1_col5\" class=\"data row1 col5\" >0.5191</td>\n",
       "      <td id=\"T_58aa2_row1_col6\" class=\"data row1 col6\" >0.0084</td>\n",
       "      <td id=\"T_58aa2_row1_col7\" class=\"data row1 col7\" >0.0422</td>\n",
       "      <td id=\"T_58aa2_row1_col8\" class=\"data row1 col8\" >0.0000</td>\n",
       "      <td id=\"T_58aa2_row1_col9\" class=\"data row1 col9\" >0.0360</td>\n",
       "    </tr>\n",
       "    <tr>\n",
       "      <th id=\"T_58aa2_level0_row2\" class=\"row_heading level0 row2\" >lightgbm</th>\n",
       "      <td id=\"T_58aa2_row2_col0\" class=\"data row2 col0\" >Light Gradient Boosting Machine</td>\n",
       "      <td id=\"T_58aa2_row2_col1\" class=\"data row2 col1\" >0.7082</td>\n",
       "      <td id=\"T_58aa2_row2_col2\" class=\"data row2 col2\" >0.7018</td>\n",
       "      <td id=\"T_58aa2_row2_col3\" class=\"data row2 col3\" >0.4300</td>\n",
       "      <td id=\"T_58aa2_row2_col4\" class=\"data row2 col4\" >0.6980</td>\n",
       "      <td id=\"T_58aa2_row2_col5\" class=\"data row2 col5\" >0.6355</td>\n",
       "      <td id=\"T_58aa2_row2_col6\" class=\"data row2 col6\" >0.2492</td>\n",
       "      <td id=\"T_58aa2_row2_col7\" class=\"data row2 col7\" >0.3288</td>\n",
       "      <td id=\"T_58aa2_row2_col8\" class=\"data row2 col8\" >0.7536</td>\n",
       "      <td id=\"T_58aa2_row2_col9\" class=\"data row2 col9\" >0.2140</td>\n",
       "    </tr>\n",
       "    <tr>\n",
       "      <th id=\"T_58aa2_level0_row3\" class=\"row_heading level0 row3\" >gbc</th>\n",
       "      <td id=\"T_58aa2_row3_col0\" class=\"data row3 col0\" >Gradient Boosting Classifier</td>\n",
       "      <td id=\"T_58aa2_row3_col1\" class=\"data row3 col1\" >0.7016</td>\n",
       "      <td id=\"T_58aa2_row3_col2\" class=\"data row3 col2\" >0.6588</td>\n",
       "      <td id=\"T_58aa2_row3_col3\" class=\"data row3 col3\" >0.4131</td>\n",
       "      <td id=\"T_58aa2_row3_col4\" class=\"data row3 col4\" >0.6573</td>\n",
       "      <td id=\"T_58aa2_row3_col5\" class=\"data row3 col5\" >0.6204</td>\n",
       "      <td id=\"T_58aa2_row3_col6\" class=\"data row3 col6\" >0.2202</td>\n",
       "      <td id=\"T_58aa2_row3_col7\" class=\"data row3 col7\" >0.3068</td>\n",
       "      <td id=\"T_58aa2_row3_col8\" class=\"data row3 col8\" >0.7799</td>\n",
       "      <td id=\"T_58aa2_row3_col9\" class=\"data row3 col9\" >2.1280</td>\n",
       "    </tr>\n",
       "    <tr>\n",
       "      <th id=\"T_58aa2_level0_row4\" class=\"row_heading level0 row4\" >lr</th>\n",
       "      <td id=\"T_58aa2_row4_col0\" class=\"data row4 col0\" >Logistic Regression</td>\n",
       "      <td id=\"T_58aa2_row4_col1\" class=\"data row4 col1\" >0.6530</td>\n",
       "      <td id=\"T_58aa2_row4_col2\" class=\"data row4 col2\" >0.6126</td>\n",
       "      <td id=\"T_58aa2_row4_col3\" class=\"data row4 col3\" >0.3379</td>\n",
       "      <td id=\"T_58aa2_row4_col4\" class=\"data row4 col4\" >0.5496</td>\n",
       "      <td id=\"T_58aa2_row4_col5\" class=\"data row4 col5\" >0.5220</td>\n",
       "      <td id=\"T_58aa2_row4_col6\" class=\"data row4 col6\" >0.0139</td>\n",
       "      <td id=\"T_58aa2_row4_col7\" class=\"data row4 col7\" >0.0558</td>\n",
       "      <td id=\"T_58aa2_row4_col8\" class=\"data row4 col8\" >0.8477</td>\n",
       "      <td id=\"T_58aa2_row4_col9\" class=\"data row4 col9\" >0.6620</td>\n",
       "    </tr>\n",
       "    <tr>\n",
       "      <th id=\"T_58aa2_level0_row5\" class=\"row_heading level0 row5\" >lda</th>\n",
       "      <td id=\"T_58aa2_row5_col0\" class=\"data row5 col0\" >Linear Discriminant Analysis</td>\n",
       "      <td id=\"T_58aa2_row5_col1\" class=\"data row5 col1\" >0.6517</td>\n",
       "      <td id=\"T_58aa2_row5_col2\" class=\"data row5 col2\" >0.6123</td>\n",
       "      <td id=\"T_58aa2_row5_col3\" class=\"data row5 col3\" >0.3381</td>\n",
       "      <td id=\"T_58aa2_row5_col4\" class=\"data row5 col4\" >0.5600</td>\n",
       "      <td id=\"T_58aa2_row5_col5\" class=\"data row5 col5\" >0.5228</td>\n",
       "      <td id=\"T_58aa2_row5_col6\" class=\"data row5 col6\" >0.0142</td>\n",
       "      <td id=\"T_58aa2_row5_col7\" class=\"data row5 col7\" >0.0477</td>\n",
       "      <td id=\"T_58aa2_row5_col8\" class=\"data row5 col8\" >0.8479</td>\n",
       "      <td id=\"T_58aa2_row5_col9\" class=\"data row5 col9\" >0.0960</td>\n",
       "    </tr>\n",
       "    <tr>\n",
       "      <th id=\"T_58aa2_level0_row6\" class=\"row_heading level0 row6\" >dummy</th>\n",
       "      <td id=\"T_58aa2_row6_col0\" class=\"data row6 col0\" >Dummy Classifier</td>\n",
       "      <td id=\"T_58aa2_row6_col1\" class=\"data row6 col1\" >0.6513</td>\n",
       "      <td id=\"T_58aa2_row6_col2\" class=\"data row6 col2\" >0.5000</td>\n",
       "      <td id=\"T_58aa2_row6_col3\" class=\"data row6 col3\" >0.3333</td>\n",
       "      <td id=\"T_58aa2_row6_col4\" class=\"data row6 col4\" >0.4242</td>\n",
       "      <td id=\"T_58aa2_row6_col5\" class=\"data row6 col5\" >0.5138</td>\n",
       "      <td id=\"T_58aa2_row6_col6\" class=\"data row6 col6\" >0.0000</td>\n",
       "      <td id=\"T_58aa2_row6_col7\" class=\"data row6 col7\" >0.0000</td>\n",
       "      <td id=\"T_58aa2_row6_col8\" class=\"data row6 col8\" >0.8686</td>\n",
       "      <td id=\"T_58aa2_row6_col9\" class=\"data row6 col9\" >0.0160</td>\n",
       "    </tr>\n",
       "    <tr>\n",
       "      <th id=\"T_58aa2_level0_row7\" class=\"row_heading level0 row7\" >rf</th>\n",
       "      <td id=\"T_58aa2_row7_col0\" class=\"data row7 col0\" >Random Forest Classifier</td>\n",
       "      <td id=\"T_58aa2_row7_col1\" class=\"data row7 col1\" >0.7084</td>\n",
       "      <td id=\"T_58aa2_row7_col2\" class=\"data row7 col2\" >0.7470</td>\n",
       "      <td id=\"T_58aa2_row7_col3\" class=\"data row7 col3\" >0.5269</td>\n",
       "      <td id=\"T_58aa2_row7_col4\" class=\"data row7 col4\" >0.6829</td>\n",
       "      <td id=\"T_58aa2_row7_col5\" class=\"data row7 col5\" >0.6876</td>\n",
       "      <td id=\"T_58aa2_row7_col6\" class=\"data row7 col6\" >0.3648</td>\n",
       "      <td id=\"T_58aa2_row7_col7\" class=\"data row7 col7\" >0.3743</td>\n",
       "      <td id=\"T_58aa2_row7_col8\" class=\"data row7 col8\" >0.8735</td>\n",
       "      <td id=\"T_58aa2_row7_col9\" class=\"data row7 col9\" >0.6500</td>\n",
       "    </tr>\n",
       "    <tr>\n",
       "      <th id=\"T_58aa2_level0_row8\" class=\"row_heading level0 row8\" >ada</th>\n",
       "      <td id=\"T_58aa2_row8_col0\" class=\"data row8 col0\" >Ada Boost Classifier</td>\n",
       "      <td id=\"T_58aa2_row8_col1\" class=\"data row8 col1\" >0.7014</td>\n",
       "      <td id=\"T_58aa2_row8_col2\" class=\"data row8 col2\" >0.6312</td>\n",
       "      <td id=\"T_58aa2_row8_col3\" class=\"data row8 col3\" >0.4084</td>\n",
       "      <td id=\"T_58aa2_row8_col4\" class=\"data row8 col4\" >0.6361</td>\n",
       "      <td id=\"T_58aa2_row8_col5\" class=\"data row8 col5\" >0.6162</td>\n",
       "      <td id=\"T_58aa2_row8_col6\" class=\"data row8 col6\" >0.2111</td>\n",
       "      <td id=\"T_58aa2_row8_col7\" class=\"data row8 col7\" >0.3083</td>\n",
       "      <td id=\"T_58aa2_row8_col8\" class=\"data row8 col8\" >1.0778</td>\n",
       "      <td id=\"T_58aa2_row8_col9\" class=\"data row8 col9\" >0.2360</td>\n",
       "    </tr>\n",
       "    <tr>\n",
       "      <th id=\"T_58aa2_level0_row9\" class=\"row_heading level0 row9\" >et</th>\n",
       "      <td id=\"T_58aa2_row9_col0\" class=\"data row9 col0\" >Extra Trees Classifier</td>\n",
       "      <td id=\"T_58aa2_row9_col1\" class=\"data row9 col1\" >0.6782</td>\n",
       "      <td id=\"T_58aa2_row9_col2\" class=\"data row9 col2\" >0.7097</td>\n",
       "      <td id=\"T_58aa2_row9_col3\" class=\"data row9 col3\" >0.5042</td>\n",
       "      <td id=\"T_58aa2_row9_col4\" class=\"data row9 col4\" >0.6527</td>\n",
       "      <td id=\"T_58aa2_row9_col5\" class=\"data row9 col5\" >0.6595</td>\n",
       "      <td id=\"T_58aa2_row9_col6\" class=\"data row9 col6\" >0.3068</td>\n",
       "      <td id=\"T_58aa2_row9_col7\" class=\"data row9 col7\" >0.3132</td>\n",
       "      <td id=\"T_58aa2_row9_col8\" class=\"data row9 col8\" >1.4008</td>\n",
       "      <td id=\"T_58aa2_row9_col9\" class=\"data row9 col9\" >0.6100</td>\n",
       "    </tr>\n",
       "    <tr>\n",
       "      <th id=\"T_58aa2_level0_row10\" class=\"row_heading level0 row10\" >knn</th>\n",
       "      <td id=\"T_58aa2_row10_col0\" class=\"data row10 col0\" >K Neighbors Classifier</td>\n",
       "      <td id=\"T_58aa2_row10_col1\" class=\"data row10 col1\" >0.6199</td>\n",
       "      <td id=\"T_58aa2_row10_col2\" class=\"data row10 col2\" >0.6373</td>\n",
       "      <td id=\"T_58aa2_row10_col3\" class=\"data row10 col3\" >0.4346</td>\n",
       "      <td id=\"T_58aa2_row10_col4\" class=\"data row10 col4\" >0.5868</td>\n",
       "      <td id=\"T_58aa2_row10_col5\" class=\"data row10 col5\" >0.5986</td>\n",
       "      <td id=\"T_58aa2_row10_col6\" class=\"data row10 col6\" >0.1827</td>\n",
       "      <td id=\"T_58aa2_row10_col7\" class=\"data row10 col7\" >0.1864</td>\n",
       "      <td id=\"T_58aa2_row10_col8\" class=\"data row10 col8\" >3.9659</td>\n",
       "      <td id=\"T_58aa2_row10_col9\" class=\"data row10 col9\" >1.2160</td>\n",
       "    </tr>\n",
       "    <tr>\n",
       "      <th id=\"T_58aa2_level0_row11\" class=\"row_heading level0 row11\" >nb</th>\n",
       "      <td id=\"T_58aa2_row11_col0\" class=\"data row11 col0\" >Naive Bayes</td>\n",
       "      <td id=\"T_58aa2_row11_col1\" class=\"data row11 col1\" >0.1309</td>\n",
       "      <td id=\"T_58aa2_row11_col2\" class=\"data row11 col2\" >0.5436</td>\n",
       "      <td id=\"T_58aa2_row11_col3\" class=\"data row11 col3\" >0.3366</td>\n",
       "      <td id=\"T_58aa2_row11_col4\" class=\"data row11 col4\" >0.5595</td>\n",
       "      <td id=\"T_58aa2_row11_col5\" class=\"data row11 col5\" >0.0602</td>\n",
       "      <td id=\"T_58aa2_row11_col6\" class=\"data row11 col6\" >0.0032</td>\n",
       "      <td id=\"T_58aa2_row11_col7\" class=\"data row11 col7\" >0.0150</td>\n",
       "      <td id=\"T_58aa2_row11_col8\" class=\"data row11 col8\" >9.9754</td>\n",
       "      <td id=\"T_58aa2_row11_col9\" class=\"data row11 col9\" >0.0420</td>\n",
       "    </tr>\n",
       "    <tr>\n",
       "      <th id=\"T_58aa2_level0_row12\" class=\"row_heading level0 row12\" >dt</th>\n",
       "      <td id=\"T_58aa2_row12_col0\" class=\"data row12 col0\" >Decision Tree Classifier</td>\n",
       "      <td id=\"T_58aa2_row12_col1\" class=\"data row12 col1\" >0.6088</td>\n",
       "      <td id=\"T_58aa2_row12_col2\" class=\"data row12 col2\" >0.6290</td>\n",
       "      <td id=\"T_58aa2_row12_col3\" class=\"data row12 col3\" >0.4812</td>\n",
       "      <td id=\"T_58aa2_row12_col4\" class=\"data row12 col4\" >0.6167</td>\n",
       "      <td id=\"T_58aa2_row12_col5\" class=\"data row12 col5\" >0.6125</td>\n",
       "      <td id=\"T_58aa2_row12_col6\" class=\"data row12 col6\" >0.2439</td>\n",
       "      <td id=\"T_58aa2_row12_col7\" class=\"data row12 col7\" >0.2440</td>\n",
       "      <td id=\"T_58aa2_row12_col8\" class=\"data row12 col8\" >13.5124</td>\n",
       "      <td id=\"T_58aa2_row12_col9\" class=\"data row12 col9\" >0.0980</td>\n",
       "    </tr>\n",
       "    <tr>\n",
       "      <th id=\"T_58aa2_level0_row13\" class=\"row_heading level0 row13\" >qda</th>\n",
       "      <td id=\"T_58aa2_row13_col0\" class=\"data row13 col0\" >Quadratic Discriminant Analysis</td>\n",
       "      <td id=\"T_58aa2_row13_col1\" class=\"data row13 col1\" >0.4996</td>\n",
       "      <td id=\"T_58aa2_row13_col2\" class=\"data row13 col2\" >0.5017</td>\n",
       "      <td id=\"T_58aa2_row13_col3\" class=\"data row13 col3\" >0.3336</td>\n",
       "      <td id=\"T_58aa2_row13_col4\" class=\"data row13 col4\" >0.4963</td>\n",
       "      <td id=\"T_58aa2_row13_col5\" class=\"data row13 col5\" >0.4800</td>\n",
       "      <td id=\"T_58aa2_row13_col6\" class=\"data row13 col6\" >0.0034</td>\n",
       "      <td id=\"T_58aa2_row13_col7\" class=\"data row13 col7\" >0.0043</td>\n",
       "      <td id=\"T_58aa2_row13_col8\" class=\"data row13 col8\" >17.2847</td>\n",
       "      <td id=\"T_58aa2_row13_col9\" class=\"data row13 col9\" >0.0860</td>\n",
       "    </tr>\n",
       "  </tbody>\n",
       "</table>\n"
      ],
      "text/plain": [
       "<pandas.io.formats.style.Styler at 0x7fef91211190>"
      ]
     },
     "metadata": {},
     "output_type": "display_data"
    }
   ],
   "source": [
    "# Performance Comparison\n",
    "best5 = compare_models(fold = 5, n_select = 5, sort = 'LogLoss')"
   ]
  },
  {
   "cell_type": "markdown",
   "metadata": {},
   "source": [
    "## Parameter Tuning"
   ]
  },
  {
   "cell_type": "code",
   "execution_count": 25,
   "metadata": {},
   "outputs": [
    {
     "data": {
      "text/html": [
       "<style type=\"text/css\">\n",
       "#T_da3c1_row5_col0, #T_da3c1_row5_col1, #T_da3c1_row5_col2, #T_da3c1_row5_col3, #T_da3c1_row5_col4, #T_da3c1_row5_col5, #T_da3c1_row5_col6, #T_da3c1_row5_col7 {\n",
       "  background: yellow;\n",
       "}\n",
       "</style>\n",
       "<table id=\"T_da3c1\">\n",
       "  <thead>\n",
       "    <tr>\n",
       "      <th class=\"blank level0\" >&nbsp;</th>\n",
       "      <th id=\"T_da3c1_level0_col0\" class=\"col_heading level0 col0\" >Accuracy</th>\n",
       "      <th id=\"T_da3c1_level0_col1\" class=\"col_heading level0 col1\" >AUC</th>\n",
       "      <th id=\"T_da3c1_level0_col2\" class=\"col_heading level0 col2\" >Recall</th>\n",
       "      <th id=\"T_da3c1_level0_col3\" class=\"col_heading level0 col3\" >Prec.</th>\n",
       "      <th id=\"T_da3c1_level0_col4\" class=\"col_heading level0 col4\" >F1</th>\n",
       "      <th id=\"T_da3c1_level0_col5\" class=\"col_heading level0 col5\" >Kappa</th>\n",
       "      <th id=\"T_da3c1_level0_col6\" class=\"col_heading level0 col6\" >MCC</th>\n",
       "      <th id=\"T_da3c1_level0_col7\" class=\"col_heading level0 col7\" >LogLoss</th>\n",
       "    </tr>\n",
       "    <tr>\n",
       "      <th class=\"index_name level0\" >Fold</th>\n",
       "      <th class=\"blank col0\" >&nbsp;</th>\n",
       "      <th class=\"blank col1\" >&nbsp;</th>\n",
       "      <th class=\"blank col2\" >&nbsp;</th>\n",
       "      <th class=\"blank col3\" >&nbsp;</th>\n",
       "      <th class=\"blank col4\" >&nbsp;</th>\n",
       "      <th class=\"blank col5\" >&nbsp;</th>\n",
       "      <th class=\"blank col6\" >&nbsp;</th>\n",
       "      <th class=\"blank col7\" >&nbsp;</th>\n",
       "    </tr>\n",
       "  </thead>\n",
       "  <tbody>\n",
       "    <tr>\n",
       "      <th id=\"T_da3c1_level0_row0\" class=\"row_heading level0 row0\" >0</th>\n",
       "      <td id=\"T_da3c1_row0_col0\" class=\"data row0 col0\" >0.7075</td>\n",
       "      <td id=\"T_da3c1_row0_col1\" class=\"data row0 col1\" >0.6924</td>\n",
       "      <td id=\"T_da3c1_row0_col2\" class=\"data row0 col2\" >0.4223</td>\n",
       "      <td id=\"T_da3c1_row0_col3\" class=\"data row0 col3\" >0.7000</td>\n",
       "      <td id=\"T_da3c1_row0_col4\" class=\"data row0 col4\" >0.6296</td>\n",
       "      <td id=\"T_da3c1_row0_col5\" class=\"data row0 col5\" >0.2403</td>\n",
       "      <td id=\"T_da3c1_row0_col6\" class=\"data row0 col6\" >0.3268</td>\n",
       "      <td id=\"T_da3c1_row0_col7\" class=\"data row0 col7\" >0.7661</td>\n",
       "    </tr>\n",
       "    <tr>\n",
       "      <th id=\"T_da3c1_level0_row1\" class=\"row_heading level0 row1\" >1</th>\n",
       "      <td id=\"T_da3c1_row1_col0\" class=\"data row1 col0\" >0.7091</td>\n",
       "      <td id=\"T_da3c1_row1_col1\" class=\"data row1 col1\" >0.6849</td>\n",
       "      <td id=\"T_da3c1_row1_col2\" class=\"data row1 col2\" >0.4243</td>\n",
       "      <td id=\"T_da3c1_row1_col3\" class=\"data row1 col3\" >0.7296</td>\n",
       "      <td id=\"T_da3c1_row1_col4\" class=\"data row1 col4\" >0.6315</td>\n",
       "      <td id=\"T_da3c1_row1_col5\" class=\"data row1 col5\" >0.2395</td>\n",
       "      <td id=\"T_da3c1_row1_col6\" class=\"data row1 col6\" >0.3339</td>\n",
       "      <td id=\"T_da3c1_row1_col7\" class=\"data row1 col7\" >0.7637</td>\n",
       "    </tr>\n",
       "    <tr>\n",
       "      <th id=\"T_da3c1_level0_row2\" class=\"row_heading level0 row2\" >2</th>\n",
       "      <td id=\"T_da3c1_row2_col0\" class=\"data row2 col0\" >0.7013</td>\n",
       "      <td id=\"T_da3c1_row2_col1\" class=\"data row2 col1\" >0.6915</td>\n",
       "      <td id=\"T_da3c1_row2_col2\" class=\"data row2 col2\" >0.4119</td>\n",
       "      <td id=\"T_da3c1_row2_col3\" class=\"data row2 col3\" >0.6596</td>\n",
       "      <td id=\"T_da3c1_row2_col4\" class=\"data row2 col4\" >0.6195</td>\n",
       "      <td id=\"T_da3c1_row2_col5\" class=\"data row2 col5\" >0.2198</td>\n",
       "      <td id=\"T_da3c1_row2_col6\" class=\"data row2 col6\" >0.3054</td>\n",
       "      <td id=\"T_da3c1_row2_col7\" class=\"data row2 col7\" >0.7649</td>\n",
       "    </tr>\n",
       "    <tr>\n",
       "      <th id=\"T_da3c1_level0_row3\" class=\"row_heading level0 row3\" >3</th>\n",
       "      <td id=\"T_da3c1_row3_col0\" class=\"data row3 col0\" >0.7084</td>\n",
       "      <td id=\"T_da3c1_row3_col1\" class=\"data row3 col1\" >0.7028</td>\n",
       "      <td id=\"T_da3c1_row3_col2\" class=\"data row3 col2\" >0.4203</td>\n",
       "      <td id=\"T_da3c1_row3_col3\" class=\"data row3 col3\" >0.6744</td>\n",
       "      <td id=\"T_da3c1_row3_col4\" class=\"data row3 col4\" >0.6288</td>\n",
       "      <td id=\"T_da3c1_row3_col5\" class=\"data row3 col5\" >0.2393</td>\n",
       "      <td id=\"T_da3c1_row3_col6\" class=\"data row3 col6\" >0.3312</td>\n",
       "      <td id=\"T_da3c1_row3_col7\" class=\"data row3 col7\" >0.7572</td>\n",
       "    </tr>\n",
       "    <tr>\n",
       "      <th id=\"T_da3c1_level0_row4\" class=\"row_heading level0 row4\" >4</th>\n",
       "      <td id=\"T_da3c1_row4_col0\" class=\"data row4 col0\" >0.7012</td>\n",
       "      <td id=\"T_da3c1_row4_col1\" class=\"data row4 col1\" >0.6869</td>\n",
       "      <td id=\"T_da3c1_row4_col2\" class=\"data row4 col2\" >0.4122</td>\n",
       "      <td id=\"T_da3c1_row4_col3\" class=\"data row4 col3\" >0.7270</td>\n",
       "      <td id=\"T_da3c1_row4_col4\" class=\"data row4 col4\" >0.6185</td>\n",
       "      <td id=\"T_da3c1_row4_col5\" class=\"data row4 col5\" >0.2137</td>\n",
       "      <td id=\"T_da3c1_row4_col6\" class=\"data row4 col6\" >0.3073</td>\n",
       "      <td id=\"T_da3c1_row4_col7\" class=\"data row4 col7\" >0.7680</td>\n",
       "    </tr>\n",
       "    <tr>\n",
       "      <th id=\"T_da3c1_level0_row5\" class=\"row_heading level0 row5\" >Mean</th>\n",
       "      <td id=\"T_da3c1_row5_col0\" class=\"data row5 col0\" >0.7055</td>\n",
       "      <td id=\"T_da3c1_row5_col1\" class=\"data row5 col1\" >0.6917</td>\n",
       "      <td id=\"T_da3c1_row5_col2\" class=\"data row5 col2\" >0.4182</td>\n",
       "      <td id=\"T_da3c1_row5_col3\" class=\"data row5 col3\" >0.6981</td>\n",
       "      <td id=\"T_da3c1_row5_col4\" class=\"data row5 col4\" >0.6256</td>\n",
       "      <td id=\"T_da3c1_row5_col5\" class=\"data row5 col5\" >0.2305</td>\n",
       "      <td id=\"T_da3c1_row5_col6\" class=\"data row5 col6\" >0.3209</td>\n",
       "      <td id=\"T_da3c1_row5_col7\" class=\"data row5 col7\" >0.7640</td>\n",
       "    </tr>\n",
       "    <tr>\n",
       "      <th id=\"T_da3c1_level0_row6\" class=\"row_heading level0 row6\" >Std</th>\n",
       "      <td id=\"T_da3c1_row6_col0\" class=\"data row6 col0\" >0.0035</td>\n",
       "      <td id=\"T_da3c1_row6_col1\" class=\"data row6 col1\" >0.0062</td>\n",
       "      <td id=\"T_da3c1_row6_col2\" class=\"data row6 col2\" >0.0052</td>\n",
       "      <td id=\"T_da3c1_row6_col3\" class=\"data row6 col3\" >0.0278</td>\n",
       "      <td id=\"T_da3c1_row6_col4\" class=\"data row6 col4\" >0.0054</td>\n",
       "      <td id=\"T_da3c1_row6_col5\" class=\"data row6 col5\" >0.0114</td>\n",
       "      <td id=\"T_da3c1_row6_col6\" class=\"data row6 col6\" >0.0121</td>\n",
       "      <td id=\"T_da3c1_row6_col7\" class=\"data row6 col7\" >0.0037</td>\n",
       "    </tr>\n",
       "  </tbody>\n",
       "</table>\n"
      ],
      "text/plain": [
       "<pandas.io.formats.style.Styler at 0x7fef91211130>"
      ]
     },
     "metadata": {},
     "output_type": "display_data"
    }
   ],
   "source": [
    "lgbm = create_model('lightgbm')\n",
    "lgbm_tuned = tune_model(lgbm, optimize = 'LogLoss')"
   ]
  },
  {
   "cell_type": "code",
   "execution_count": 26,
   "metadata": {},
   "outputs": [
    {
     "data": {
      "text/plain": [
       "LGBMClassifier(bagging_fraction=0.7, bagging_freq=5, boosting_type='gbdt',\n",
       "               class_weight=None, colsample_bytree=1.0, feature_fraction=0.4,\n",
       "               importance_type='split', learning_rate=0.05, max_depth=-1,\n",
       "               min_child_samples=46, min_child_weight=0.001, min_split_gain=0.2,\n",
       "               n_estimators=110, n_jobs=-1, num_leaves=80, objective=None,\n",
       "               random_state=2073, reg_alpha=0.001, reg_lambda=0.15,\n",
       "               silent='warn', subsample=1.0, subsample_for_bin=200000,\n",
       "               subsample_freq=0)"
      ]
     },
     "execution_count": 26,
     "metadata": {},
     "output_type": "execute_result"
    }
   ],
   "source": [
    "lgbm_tuned"
   ]
  },
  {
   "cell_type": "code",
   "execution_count": 27,
   "metadata": {},
   "outputs": [
    {
     "ename": "ValueError",
     "evalue": "Number of features of the model must match the input. Model n_features_ is 52 and input n_features is 55",
     "output_type": "error",
     "traceback": [
      "\u001b[0;31m---------------------------------------------------------------------------\u001b[0m",
      "\u001b[0;31mValueError\u001b[0m                                Traceback (most recent call last)",
      "Cell \u001b[0;32mIn[27], line 1\u001b[0m\n\u001b[0;32m----> 1\u001b[0m \u001b[43mlgbm_tuned\u001b[49m\u001b[38;5;241;43m.\u001b[39;49m\u001b[43mpredict\u001b[49m\u001b[43m(\u001b[49m\u001b[43mTest\u001b[49m\u001b[43m)\u001b[49m\n",
      "File \u001b[0;32m~/opt/anaconda3/envs/new1/lib/python3.8/site-packages/lightgbm/sklearn.py:984\u001b[0m, in \u001b[0;36mLGBMClassifier.predict\u001b[0;34m(self, X, raw_score, start_iteration, num_iteration, pred_leaf, pred_contrib, **kwargs)\u001b[0m\n\u001b[1;32m    981\u001b[0m \u001b[38;5;28;01mdef\u001b[39;00m \u001b[38;5;21mpredict\u001b[39m(\u001b[38;5;28mself\u001b[39m, X, raw_score\u001b[38;5;241m=\u001b[39m\u001b[38;5;28;01mFalse\u001b[39;00m, start_iteration\u001b[38;5;241m=\u001b[39m\u001b[38;5;241m0\u001b[39m, num_iteration\u001b[38;5;241m=\u001b[39m\u001b[38;5;28;01mNone\u001b[39;00m,\n\u001b[1;32m    982\u001b[0m             pred_leaf\u001b[38;5;241m=\u001b[39m\u001b[38;5;28;01mFalse\u001b[39;00m, pred_contrib\u001b[38;5;241m=\u001b[39m\u001b[38;5;28;01mFalse\u001b[39;00m, \u001b[38;5;241m*\u001b[39m\u001b[38;5;241m*\u001b[39mkwargs):\n\u001b[1;32m    983\u001b[0m     \u001b[38;5;124;03m\"\"\"Docstring is inherited from the LGBMModel.\"\"\"\u001b[39;00m\n\u001b[0;32m--> 984\u001b[0m     result \u001b[38;5;241m=\u001b[39m \u001b[38;5;28;43mself\u001b[39;49m\u001b[38;5;241;43m.\u001b[39;49m\u001b[43mpredict_proba\u001b[49m\u001b[43m(\u001b[49m\u001b[43mX\u001b[49m\u001b[43m,\u001b[49m\u001b[43m \u001b[49m\u001b[43mraw_score\u001b[49m\u001b[43m,\u001b[49m\u001b[43m \u001b[49m\u001b[43mstart_iteration\u001b[49m\u001b[43m,\u001b[49m\u001b[43m \u001b[49m\u001b[43mnum_iteration\u001b[49m\u001b[43m,\u001b[49m\n\u001b[1;32m    985\u001b[0m \u001b[43m                                \u001b[49m\u001b[43mpred_leaf\u001b[49m\u001b[43m,\u001b[49m\u001b[43m \u001b[49m\u001b[43mpred_contrib\u001b[49m\u001b[43m,\u001b[49m\u001b[43m \u001b[49m\u001b[38;5;241;43m*\u001b[39;49m\u001b[38;5;241;43m*\u001b[39;49m\u001b[43mkwargs\u001b[49m\u001b[43m)\u001b[49m\n\u001b[1;32m    986\u001b[0m     \u001b[38;5;28;01mif\u001b[39;00m callable(\u001b[38;5;28mself\u001b[39m\u001b[38;5;241m.\u001b[39m_objective) \u001b[38;5;129;01mor\u001b[39;00m raw_score \u001b[38;5;129;01mor\u001b[39;00m pred_leaf \u001b[38;5;129;01mor\u001b[39;00m pred_contrib:\n\u001b[1;32m    987\u001b[0m         \u001b[38;5;28;01mreturn\u001b[39;00m result\n",
      "File \u001b[0;32m~/opt/anaconda3/envs/new1/lib/python3.8/site-packages/lightgbm/sklearn.py:997\u001b[0m, in \u001b[0;36mLGBMClassifier.predict_proba\u001b[0;34m(self, X, raw_score, start_iteration, num_iteration, pred_leaf, pred_contrib, **kwargs)\u001b[0m\n\u001b[1;32m    994\u001b[0m \u001b[38;5;28;01mdef\u001b[39;00m \u001b[38;5;21mpredict_proba\u001b[39m(\u001b[38;5;28mself\u001b[39m, X, raw_score\u001b[38;5;241m=\u001b[39m\u001b[38;5;28;01mFalse\u001b[39;00m, start_iteration\u001b[38;5;241m=\u001b[39m\u001b[38;5;241m0\u001b[39m, num_iteration\u001b[38;5;241m=\u001b[39m\u001b[38;5;28;01mNone\u001b[39;00m,\n\u001b[1;32m    995\u001b[0m                   pred_leaf\u001b[38;5;241m=\u001b[39m\u001b[38;5;28;01mFalse\u001b[39;00m, pred_contrib\u001b[38;5;241m=\u001b[39m\u001b[38;5;28;01mFalse\u001b[39;00m, \u001b[38;5;241m*\u001b[39m\u001b[38;5;241m*\u001b[39mkwargs):\n\u001b[1;32m    996\u001b[0m     \u001b[38;5;124;03m\"\"\"Docstring is set after definition, using a template.\"\"\"\u001b[39;00m\n\u001b[0;32m--> 997\u001b[0m     result \u001b[38;5;241m=\u001b[39m \u001b[38;5;28;43msuper\u001b[39;49m\u001b[43m(\u001b[49m\u001b[43m)\u001b[49m\u001b[38;5;241;43m.\u001b[39;49m\u001b[43mpredict\u001b[49m\u001b[43m(\u001b[49m\u001b[43mX\u001b[49m\u001b[43m,\u001b[49m\u001b[43m \u001b[49m\u001b[43mraw_score\u001b[49m\u001b[43m,\u001b[49m\u001b[43m \u001b[49m\u001b[43mstart_iteration\u001b[49m\u001b[43m,\u001b[49m\u001b[43m \u001b[49m\u001b[43mnum_iteration\u001b[49m\u001b[43m,\u001b[49m\u001b[43m \u001b[49m\u001b[43mpred_leaf\u001b[49m\u001b[43m,\u001b[49m\u001b[43m \u001b[49m\u001b[43mpred_contrib\u001b[49m\u001b[43m,\u001b[49m\u001b[43m \u001b[49m\u001b[38;5;241;43m*\u001b[39;49m\u001b[38;5;241;43m*\u001b[39;49m\u001b[43mkwargs\u001b[49m\u001b[43m)\u001b[49m\n\u001b[1;32m    998\u001b[0m     \u001b[38;5;28;01mif\u001b[39;00m callable(\u001b[38;5;28mself\u001b[39m\u001b[38;5;241m.\u001b[39m_objective) \u001b[38;5;129;01mand\u001b[39;00m \u001b[38;5;129;01mnot\u001b[39;00m (raw_score \u001b[38;5;129;01mor\u001b[39;00m pred_leaf \u001b[38;5;129;01mor\u001b[39;00m pred_contrib):\n\u001b[1;32m    999\u001b[0m         _log_warning(\u001b[38;5;124m\"\u001b[39m\u001b[38;5;124mCannot compute class probabilities or labels \u001b[39m\u001b[38;5;124m\"\u001b[39m\n\u001b[1;32m   1000\u001b[0m                      \u001b[38;5;124m\"\u001b[39m\u001b[38;5;124mdue to the usage of customized objective function.\u001b[39m\u001b[38;5;130;01m\\n\u001b[39;00m\u001b[38;5;124m\"\u001b[39m\n\u001b[1;32m   1001\u001b[0m                      \u001b[38;5;124m\"\u001b[39m\u001b[38;5;124mReturning raw scores instead.\u001b[39m\u001b[38;5;124m\"\u001b[39m)\n",
      "File \u001b[0;32m~/opt/anaconda3/envs/new1/lib/python3.8/site-packages/lightgbm/sklearn.py:800\u001b[0m, in \u001b[0;36mLGBMModel.predict\u001b[0;34m(self, X, raw_score, start_iteration, num_iteration, pred_leaf, pred_contrib, **kwargs)\u001b[0m\n\u001b[1;32m    798\u001b[0m n_features \u001b[38;5;241m=\u001b[39m X\u001b[38;5;241m.\u001b[39mshape[\u001b[38;5;241m1\u001b[39m]\n\u001b[1;32m    799\u001b[0m \u001b[38;5;28;01mif\u001b[39;00m \u001b[38;5;28mself\u001b[39m\u001b[38;5;241m.\u001b[39m_n_features \u001b[38;5;241m!=\u001b[39m n_features:\n\u001b[0;32m--> 800\u001b[0m     \u001b[38;5;28;01mraise\u001b[39;00m \u001b[38;5;167;01mValueError\u001b[39;00m(\u001b[38;5;124m\"\u001b[39m\u001b[38;5;124mNumber of features of the model must \u001b[39m\u001b[38;5;124m\"\u001b[39m\n\u001b[1;32m    801\u001b[0m                      \u001b[38;5;124mf\u001b[39m\u001b[38;5;124m\"\u001b[39m\u001b[38;5;124mmatch the input. Model n_features_ is \u001b[39m\u001b[38;5;132;01m{\u001b[39;00m\u001b[38;5;28mself\u001b[39m\u001b[38;5;241m.\u001b[39m_n_features\u001b[38;5;132;01m}\u001b[39;00m\u001b[38;5;124m and \u001b[39m\u001b[38;5;124m\"\u001b[39m\n\u001b[1;32m    802\u001b[0m                      \u001b[38;5;124mf\u001b[39m\u001b[38;5;124m\"\u001b[39m\u001b[38;5;124minput n_features is \u001b[39m\u001b[38;5;132;01m{\u001b[39;00mn_features\u001b[38;5;132;01m}\u001b[39;00m\u001b[38;5;124m\"\u001b[39m)\n\u001b[1;32m    803\u001b[0m \u001b[38;5;28;01mreturn\u001b[39;00m \u001b[38;5;28mself\u001b[39m\u001b[38;5;241m.\u001b[39m_Booster\u001b[38;5;241m.\u001b[39mpredict(X, raw_score\u001b[38;5;241m=\u001b[39mraw_score, start_iteration\u001b[38;5;241m=\u001b[39mstart_iteration, num_iteration\u001b[38;5;241m=\u001b[39mnum_iteration,\n\u001b[1;32m    804\u001b[0m                              pred_leaf\u001b[38;5;241m=\u001b[39mpred_leaf, pred_contrib\u001b[38;5;241m=\u001b[39mpred_contrib, \u001b[38;5;241m*\u001b[39m\u001b[38;5;241m*\u001b[39mkwargs)\n",
      "\u001b[0;31mValueError\u001b[0m: Number of features of the model must match the input. Model n_features_ is 52 and input n_features is 55"
     ]
    }
   ],
   "source": [
    "lgbm_tuned.predict(Test)"
   ]
  },
  {
   "cell_type": "code",
   "execution_count": null,
   "metadata": {},
   "outputs": [],
   "source": []
  }
 ],
 "metadata": {
  "colab": {
   "provenance": []
  },
  "kernelspec": {
   "display_name": "Python 3 (ipykernel)",
   "language": "python",
   "name": "python3"
  },
  "language_info": {
   "codemirror_mode": {
    "name": "ipython",
    "version": 3
   },
   "file_extension": ".py",
   "mimetype": "text/x-python",
   "name": "python",
   "nbconvert_exporter": "python",
   "pygments_lexer": "ipython3",
   "version": "3.8.0"
  }
 },
 "nbformat": 4,
 "nbformat_minor": 4
}
