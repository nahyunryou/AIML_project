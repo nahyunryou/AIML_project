{
  "cells": [
    {
      "cell_type": "markdown",
      "metadata": {
        "id": "b0-XWJx5fbiW"
      },
      "source": [
        "# Stacking Ensemble - CODE"
      ]
    },
    {
      "cell_type": "code",
      "source": [
        "from google.colab import drive\n",
        "drive.mount('/content/drive')"
      ],
      "metadata": {
        "colab": {
          "base_uri": "https://localhost:8080/"
        },
        "id": "zOwaEZbgffUm",
        "outputId": "9fbc4bdf-2264-4a6f-a1f5-7f8dbbd4b8cb"
      },
      "execution_count": 1,
      "outputs": [
        {
          "output_type": "stream",
          "name": "stdout",
          "text": [
            "Mounted at /content/drive\n"
          ]
        }
      ]
    },
    {
      "cell_type": "code",
      "source": [
        "!pip install catboost\n",
        "!pip install optuna"
      ],
      "metadata": {
        "colab": {
          "base_uri": "https://localhost:8080/"
        },
        "id": "iW7Xm4_Sfifl",
        "outputId": "2250146b-985c-4975-cc33-5835ab60f406"
      },
      "execution_count": 2,
      "outputs": [
        {
          "output_type": "stream",
          "name": "stdout",
          "text": [
            "Looking in indexes: https://pypi.org/simple, https://us-python.pkg.dev/colab-wheels/public/simple/\n",
            "Collecting catboost\n",
            "  Downloading catboost-1.1.1-cp38-none-manylinux1_x86_64.whl (76.6 MB)\n",
            "\u001b[K     |████████████████████████████████| 76.6 MB 1.1 MB/s \n",
            "\u001b[?25hRequirement already satisfied: six in /usr/local/lib/python3.8/dist-packages (from catboost) (1.15.0)\n",
            "Requirement already satisfied: matplotlib in /usr/local/lib/python3.8/dist-packages (from catboost) (3.2.2)\n",
            "Requirement already satisfied: pandas>=0.24.0 in /usr/local/lib/python3.8/dist-packages (from catboost) (1.3.5)\n",
            "Requirement already satisfied: graphviz in /usr/local/lib/python3.8/dist-packages (from catboost) (0.10.1)\n",
            "Requirement already satisfied: plotly in /usr/local/lib/python3.8/dist-packages (from catboost) (5.5.0)\n",
            "Requirement already satisfied: scipy in /usr/local/lib/python3.8/dist-packages (from catboost) (1.7.3)\n",
            "Requirement already satisfied: numpy>=1.16.0 in /usr/local/lib/python3.8/dist-packages (from catboost) (1.21.6)\n",
            "Requirement already satisfied: python-dateutil>=2.7.3 in /usr/local/lib/python3.8/dist-packages (from pandas>=0.24.0->catboost) (2.8.2)\n",
            "Requirement already satisfied: pytz>=2017.3 in /usr/local/lib/python3.8/dist-packages (from pandas>=0.24.0->catboost) (2022.6)\n",
            "Requirement already satisfied: cycler>=0.10 in /usr/local/lib/python3.8/dist-packages (from matplotlib->catboost) (0.11.0)\n",
            "Requirement already satisfied: pyparsing!=2.0.4,!=2.1.2,!=2.1.6,>=2.0.1 in /usr/local/lib/python3.8/dist-packages (from matplotlib->catboost) (3.0.9)\n",
            "Requirement already satisfied: kiwisolver>=1.0.1 in /usr/local/lib/python3.8/dist-packages (from matplotlib->catboost) (1.4.4)\n",
            "Requirement already satisfied: tenacity>=6.2.0 in /usr/local/lib/python3.8/dist-packages (from plotly->catboost) (8.1.0)\n",
            "Installing collected packages: catboost\n",
            "Successfully installed catboost-1.1.1\n",
            "Looking in indexes: https://pypi.org/simple, https://us-python.pkg.dev/colab-wheels/public/simple/\n",
            "Collecting optuna\n",
            "  Downloading optuna-3.0.5-py3-none-any.whl (348 kB)\n",
            "\u001b[K     |████████████████████████████████| 348 kB 36.6 MB/s \n",
            "\u001b[?25hCollecting importlib-metadata<5.0.0\n",
            "  Downloading importlib_metadata-4.13.0-py3-none-any.whl (23 kB)\n",
            "Collecting cmaes>=0.8.2\n",
            "  Downloading cmaes-0.9.0-py3-none-any.whl (23 kB)\n",
            "Requirement already satisfied: scipy<1.9.0,>=1.7.0 in /usr/local/lib/python3.8/dist-packages (from optuna) (1.7.3)\n",
            "Requirement already satisfied: sqlalchemy>=1.3.0 in /usr/local/lib/python3.8/dist-packages (from optuna) (1.4.45)\n",
            "Collecting cliff\n",
            "  Downloading cliff-4.1.0-py3-none-any.whl (81 kB)\n",
            "\u001b[K     |████████████████████████████████| 81 kB 10.4 MB/s \n",
            "\u001b[?25hRequirement already satisfied: PyYAML in /usr/local/lib/python3.8/dist-packages (from optuna) (6.0)\n",
            "Collecting colorlog\n",
            "  Downloading colorlog-6.7.0-py2.py3-none-any.whl (11 kB)\n",
            "Collecting alembic>=1.5.0\n",
            "  Downloading alembic-1.9.0-py3-none-any.whl (210 kB)\n",
            "\u001b[K     |████████████████████████████████| 210 kB 72.1 MB/s \n",
            "\u001b[?25hRequirement already satisfied: numpy in /usr/local/lib/python3.8/dist-packages (from optuna) (1.21.6)\n",
            "Requirement already satisfied: packaging>=20.0 in /usr/local/lib/python3.8/dist-packages (from optuna) (21.3)\n",
            "Requirement already satisfied: tqdm in /usr/local/lib/python3.8/dist-packages (from optuna) (4.64.1)\n",
            "Requirement already satisfied: importlib-resources in /usr/local/lib/python3.8/dist-packages (from alembic>=1.5.0->optuna) (5.10.1)\n",
            "Collecting Mako\n",
            "  Downloading Mako-1.2.4-py3-none-any.whl (78 kB)\n",
            "\u001b[K     |████████████████████████████████| 78 kB 8.8 MB/s \n",
            "\u001b[?25hRequirement already satisfied: zipp>=0.5 in /usr/local/lib/python3.8/dist-packages (from importlib-metadata<5.0.0->optuna) (3.11.0)\n",
            "Requirement already satisfied: pyparsing!=3.0.5,>=2.0.2 in /usr/local/lib/python3.8/dist-packages (from packaging>=20.0->optuna) (3.0.9)\n",
            "Requirement already satisfied: greenlet!=0.4.17 in /usr/local/lib/python3.8/dist-packages (from sqlalchemy>=1.3.0->optuna) (2.0.1)\n",
            "Collecting stevedore>=2.0.1\n",
            "  Downloading stevedore-4.1.1-py3-none-any.whl (50 kB)\n",
            "\u001b[K     |████████████████████████████████| 50 kB 8.0 MB/s \n",
            "\u001b[?25hCollecting autopage>=0.4.0\n",
            "  Downloading autopage-0.5.1-py3-none-any.whl (29 kB)\n",
            "Requirement already satisfied: PrettyTable>=0.7.2 in /usr/local/lib/python3.8/dist-packages (from cliff->optuna) (3.5.0)\n",
            "Collecting cmd2>=1.0.0\n",
            "  Downloading cmd2-2.4.2-py3-none-any.whl (147 kB)\n",
            "\u001b[K     |████████████████████████████████| 147 kB 55.2 MB/s \n",
            "\u001b[?25hCollecting pyperclip>=1.6\n",
            "  Downloading pyperclip-1.8.2.tar.gz (20 kB)\n",
            "Requirement already satisfied: wcwidth>=0.1.7 in /usr/local/lib/python3.8/dist-packages (from cmd2>=1.0.0->cliff->optuna) (0.2.5)\n",
            "Requirement already satisfied: attrs>=16.3.0 in /usr/local/lib/python3.8/dist-packages (from cmd2>=1.0.0->cliff->optuna) (22.1.0)\n",
            "Collecting pbr!=2.1.0,>=2.0.0\n",
            "  Downloading pbr-5.11.0-py2.py3-none-any.whl (112 kB)\n",
            "\u001b[K     |████████████████████████████████| 112 kB 97.7 MB/s \n",
            "\u001b[?25hRequirement already satisfied: MarkupSafe>=0.9.2 in /usr/local/lib/python3.8/dist-packages (from Mako->alembic>=1.5.0->optuna) (2.0.1)\n",
            "Building wheels for collected packages: pyperclip\n",
            "  Building wheel for pyperclip (setup.py) ... \u001b[?25l\u001b[?25hdone\n",
            "  Created wheel for pyperclip: filename=pyperclip-1.8.2-py3-none-any.whl size=11136 sha256=8a3161f98f3adc040df9f12b69a9bd4590b6e8fdd2eea55ae8518240e8afbebe\n",
            "  Stored in directory: /root/.cache/pip/wheels/7f/1a/65/84ff8c386bec21fca6d220ea1f5498a0367883a78dd5ba6122\n",
            "Successfully built pyperclip\n",
            "Installing collected packages: pyperclip, pbr, stevedore, Mako, importlib-metadata, cmd2, autopage, colorlog, cmaes, cliff, alembic, optuna\n",
            "  Attempting uninstall: importlib-metadata\n",
            "    Found existing installation: importlib-metadata 5.1.0\n",
            "    Uninstalling importlib-metadata-5.1.0:\n",
            "      Successfully uninstalled importlib-metadata-5.1.0\n",
            "Successfully installed Mako-1.2.4 alembic-1.9.0 autopage-0.5.1 cliff-4.1.0 cmaes-0.9.0 cmd2-2.4.2 colorlog-6.7.0 importlib-metadata-4.13.0 optuna-3.0.5 pbr-5.11.0 pyperclip-1.8.2 stevedore-4.1.1\n"
          ]
        }
      ]
    },
    {
      "cell_type": "markdown",
      "metadata": {
        "id": "slTZ2kSifbia"
      },
      "source": [
        "## Setup"
      ]
    },
    {
      "cell_type": "code",
      "execution_count": 3,
      "metadata": {
        "id": "YiXBhDTTfbib"
      },
      "outputs": [],
      "source": [
        "from typing import Dict, Tuple, Union, List\n",
        "from tqdm import tqdm\n",
        "import pandas as pd\n",
        "import numpy as np\n",
        "from tqdm import tqdm\n",
        "import matplotlib.pyplot as plt\n",
        "import seaborn as sns\n",
        "import os, glob, warnings\n",
        "from itertools import combinations\n",
        "from sklearn.preprocessing import OneHotEncoder\n",
        "from sklearn.model_selection import StratifiedKFold\n",
        "from sklearn.metrics import log_loss, accuracy_score\n",
        "from sklearn.preprocessing import StandardScaler\n",
        "from sklearn.model_selection import cross_val_score\n",
        "from sklearn.ensemble import RandomForestClassifier\n",
        "from lightgbm import LGBMClassifier\n",
        "from sklearn.svm import SVC\n",
        "from catboost import CatBoostClassifier\n",
        "from sklearn.ensemble import StackingClassifier\n",
        "from xgboost import XGBClassifier\n",
        "import lightgbm as lgb\n",
        "from sklearn.model_selection import RepeatedStratifiedKFold\n",
        "import optuna\n",
        "import sklearn"
      ]
    },
    {
      "cell_type": "code",
      "execution_count": 4,
      "metadata": {
        "id": "hBQ2_mbkfbid"
      },
      "outputs": [],
      "source": [
        "train = pd.read_csv(\"../data/new_train.csv\")\n",
        "train = train.drop(['Unnamed: 0'], axis=1)\n",
        "\n",
        "test = pd.read_csv(\"../data/new_test.csv\")\n",
        "test = test.drop(['index'],axis=1)"
      ]
    },
    {
      "cell_type": "code",
      "execution_count": 5,
      "metadata": {
        "colab": {
          "base_uri": "https://localhost:8080/"
        },
        "id": "qyMsWtdkfbid",
        "outputId": "59473800-f084-44ae-9ae2-c05d1e3dd8b7"
      },
      "outputs": [
        {
          "output_type": "stream",
          "name": "stdout",
          "text": [
            "<class 'pandas.core.frame.DataFrame'>\n",
            "RangeIndex: 23392 entries, 0 to 23391\n",
            "Data columns (total 27 columns):\n",
            " #   Column             Non-Null Count  Dtype  \n",
            "---  ------             --------------  -----  \n",
            " 0   gender             23392 non-null  object \n",
            " 1   car                23392 non-null  object \n",
            " 2   reality            23392 non-null  object \n",
            " 3   income_total       23392 non-null  float64\n",
            " 4   income_type        23392 non-null  object \n",
            " 5   edu_type           23392 non-null  object \n",
            " 6   family_type        23392 non-null  object \n",
            " 7   house_type         23392 non-null  object \n",
            " 8   work_phone         23392 non-null  int64  \n",
            " 9   home_phone         23392 non-null  int64  \n",
            " 10  email              23392 non-null  int64  \n",
            " 11  occup_type         23392 non-null  object \n",
            " 12  family_size        23392 non-null  float64\n",
            " 13  begin_month        23392 non-null  int64  \n",
            " 14  credit             23392 non-null  float64\n",
            " 15  days_unemployed    23392 non-null  int64  \n",
            " 16  income_unemployed  23392 non-null  float64\n",
            " 17  Age                23392 non-null  int64  \n",
            " 18  birth_month        23392 non-null  float64\n",
            " 19  birth_week         23392 non-null  float64\n",
            " 20  ages_employed      23392 non-null  int64  \n",
            " 21  employ_month       23392 non-null  float64\n",
            " 22  employ_week        23392 non-null  float64\n",
            " 23  ages_unemployed    23392 non-null  int64  \n",
            " 24  unemploy_month     23392 non-null  float64\n",
            " 25  unemploy_week      23392 non-null  float64\n",
            " 26  income_family      23392 non-null  float64\n",
            "dtypes: float64(11), int64(8), object(8)\n",
            "memory usage: 4.8+ MB\n"
          ]
        }
      ],
      "source": [
        "train.info()"
      ]
    },
    {
      "cell_type": "markdown",
      "metadata": {
        "id": "1qGYd8PMfbie"
      },
      "source": [
        "## Numerical Scaling"
      ]
    },
    {
      "cell_type": "code",
      "execution_count": 6,
      "metadata": {
        "id": "cDY_Xy5Tfbif"
      },
      "outputs": [],
      "source": [
        "# Standard Scaler\n",
        "num_col = train.dtypes[train.dtypes != \"object\"].index.tolist()\n",
        "num_col.remove('credit')\n",
        "\n",
        "scaler = StandardScaler()\n",
        "train[num_col] = scaler.fit_transform(train[num_col])\n",
        "test[num_col] = scaler.transform(test[num_col])"
      ]
    },
    {
      "cell_type": "markdown",
      "metadata": {
        "id": "4dFJQUJ_fbif"
      },
      "source": [
        "## Categorical Encoding"
      ]
    },
    {
      "cell_type": "code",
      "execution_count": 7,
      "metadata": {
        "id": "GWPP5aXbfbig"
      },
      "outputs": [],
      "source": [
        "# OrdinalEncoding\n",
        "from sklearn.preprocessing import OrdinalEncoder\n",
        "cat_col = train.dtypes[train.dtypes == \"object\"].index.tolist()\n",
        "\n",
        "Encoder = OrdinalEncoder()\n",
        "train[cat_col] = Encoder.fit_transform(train[cat_col], train['credit'])\n",
        "test[cat_col] = Encoder.transform(test[cat_col])"
      ]
    },
    {
      "cell_type": "markdown",
      "metadata": {
        "id": "Ud-ORpBwfbih"
      },
      "source": [
        "## Train Model - Stacking Ensemble"
      ]
    },
    {
      "cell_type": "code",
      "execution_count": 8,
      "metadata": {
        "id": "23U4yNHQfbih"
      },
      "outputs": [],
      "source": [
        "\"\"\"\n",
        " THIS HYPERPARAMETERS ARE NOT USED:\n",
        "\n",
        "lgb_best = {'objective': 'multiclass',\n",
        "            'boosting_type': 'gbdt',\n",
        "            'eval_metric' : 'logloss',    \n",
        "            'n_estimators': 10000,\n",
        "            'early_stopping_round': 100, \n",
        "            'max_depth': -1,\n",
        "            'max_bin': 255,\n",
        "            'boost_from_average' : False,\n",
        "            'bagging_freq' : 1,\n",
        "            'min_data_in_leaf': 40,    \n",
        "            'learning_rate': 0.02272,    \n",
        "            'num_leaves': 64,    \n",
        "            'feature_fraction': 0.89387,\n",
        "            'bagging_fraction': 0.76326,        \n",
        "            'seed': 2018,\n",
        "            'verbose': -1,\n",
        "            'n_jobs': -1,  \n",
        "            }\n",
        "\"\"\"\n",
        "\n",
        "# This hyperparameters are from the executions of each algorithms. \n",
        "#\n",
        "# Catboost -> Optuna \n",
        "# RF, LGB -> Manual\n",
        "rf_best = {\"criterion\": \"entropy\",\n",
        "            \"n_estimators\": 300,\n",
        "            \"min_samples_split\": 10,\n",
        "            \"min_samples_leaf\": 2,\n",
        "            \"max_features\": \"sqrt\",\n",
        "            \"oob_score\": True,\n",
        "            \"random_state\": 42,\n",
        "            \"n_jobs\": -1,\n",
        "            }"
      ]
    },
    {
      "cell_type": "code",
      "execution_count": 9,
      "metadata": {
        "id": "ORT9LeK1fbii"
      },
      "outputs": [],
      "source": [
        "X = train.drop(\"credit\", axis=1)\n",
        "y = train[\"credit\"]\n",
        "X_test = test.copy()"
      ]
    },
    {
      "cell_type": "code",
      "execution_count": 10,
      "metadata": {
        "id": "RXlPZr_Nfbii"
      },
      "outputs": [],
      "source": [
        "def stratified_kfold_cv(model, n_fold, X, y, X_test):\n",
        "    # Declaring Stratified K-Fold:\n",
        "    folds = StratifiedKFold(n_splits=n_fold, shuffle=True, random_state=42)\n",
        "    splits = folds.split(X, y)\n",
        "    \n",
        "    # Initializing arrays:\n",
        "    rf_oof = np.zeros((X.shape[0], 3))\n",
        "    rf_preds = np.zeros((X_test.shape[0], 3))\n",
        "\n",
        "    # Main loop:\n",
        "    for fold, (train_idx, valid_idx) in enumerate(splits):\n",
        "        print(f\"============ Fold {fold} ============\")\n",
        "        \n",
        "        X_train, X_valid = X.iloc[train_idx], X.iloc[valid_idx]\n",
        "        y_train, y_valid = y.iloc[train_idx], y.iloc[valid_idx]\n",
        "        \n",
        "        # Model fit:\n",
        "        model.fit(X_train, y_train)\n",
        "\n",
        "        rf_oof[valid_idx] = model.predict_proba(X_valid) # Infers the class probability of train dataset\n",
        "        rf_preds += model.predict_proba(X_test) / n_fold # Infers the class probability of test dataset\n",
        "        print(f\"Log Loss Score: {log_loss(y_valid, rf_oof[valid_idx]):.5f}\")\n",
        "\n",
        "    log_score = log_loss(y, rf_oof)\n",
        "    print(f\"\\nLog Loss Score: {log_score:.5f}\")\n",
        "\n",
        "    return rf_oof, rf_preds"
      ]
    },
    {
      "cell_type": "code",
      "execution_count": 12,
      "metadata": {
        "id": "hKtVa9Cpfbij",
        "outputId": "5c8e999f-5b4f-48ac-a4b3-9a6d54700e33",
        "colab": {
          "base_uri": "https://localhost:8080/"
        }
      },
      "outputs": [
        {
          "output_type": "stream",
          "name": "stdout",
          "text": [
            "============ Fold 0 ============\n",
            "Log Loss Score: 0.67848\n",
            "============ Fold 1 ============\n",
            "Log Loss Score: 0.67854\n",
            "============ Fold 2 ============\n",
            "Log Loss Score: 0.65776\n",
            "============ Fold 3 ============\n",
            "Log Loss Score: 0.65436\n",
            "============ Fold 4 ============\n",
            "Log Loss Score: 0.68177\n",
            "============ Fold 5 ============\n",
            "Log Loss Score: 0.66122\n",
            "============ Fold 6 ============\n",
            "Log Loss Score: 0.69934\n",
            "============ Fold 7 ============\n",
            "Log Loss Score: 0.67799\n",
            "============ Fold 8 ============\n",
            "Log Loss Score: 0.67192\n",
            "============ Fold 9 ============\n",
            "Log Loss Score: 0.68849\n",
            "\n",
            "Log Loss Score: 0.67499\n"
          ]
        }
      ],
      "source": [
        "from sklearn.linear_model import LogisticRegression\n",
        "\n",
        "# Extra models\n",
        "from sklearn.ensemble import GradientBoostingClassifier\n",
        "\n",
        "# Setting up the estimators\n",
        "estimators = [\n",
        "    (\"rf\", RandomForestClassifier(**rf_best)),\n",
        "    (\"lgb\", LGBMClassifier()),\n",
        "    (\"LR\", LogisticRegression(max_iter=4000)),\n",
        "]\n",
        "\n",
        "# Stacking classifier\n",
        "clf = StackingClassifier(\n",
        "    estimators=estimators, final_estimator=XGBClassifier()\n",
        ")\n",
        "\n",
        "# Apply stratified K-Fold\n",
        "oof, preds = stratified_kfold_cv(clf, n_fold=10, X=X, y=y, X_test=test)"
      ]
    },
    {
      "cell_type": "code",
      "source": [],
      "metadata": {
        "id": "Hwg-U7ZenYSC"
      },
      "execution_count": null,
      "outputs": []
    }
  ],
  "metadata": {
    "kernelspec": {
      "display_name": "Python 3",
      "language": "python",
      "name": "python3"
    },
    "language_info": {
      "codemirror_mode": {
        "name": "ipython",
        "version": 3
      },
      "file_extension": ".py",
      "mimetype": "text/x-python",
      "name": "python",
      "nbconvert_exporter": "python",
      "pygments_lexer": "ipython3",
      "version": "3.7.15"
    },
    "orig_nbformat": 4,
    "vscode": {
      "interpreter": {
        "hash": "2a4dfbbce39adc43d48e377c7349f6e8cca7dc359eb4d4a2e2eda43203f7d1c2"
      }
    },
    "colab": {
      "provenance": []
    }
  },
  "nbformat": 4,
  "nbformat_minor": 0
}