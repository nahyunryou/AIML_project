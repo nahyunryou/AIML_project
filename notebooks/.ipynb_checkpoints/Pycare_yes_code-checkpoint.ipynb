{
 "cells": [
  {
   "cell_type": "markdown",
   "metadata": {
    "id": "d_u2UqRwr0qH"
   },
   "source": [
    "# Pycaret with cleaned data"
   ]
  },
  {
   "cell_type": "markdown",
   "metadata": {
    "id": "oCDpNNMa2RuZ"
   },
   "source": [
    "## Virtual environment (to prevent version conflict)"
   ]
  },
  {
   "cell_type": "raw",
   "metadata": {
    "colab": {
     "base_uri": "https://localhost:8080/"
    },
    "id": "zXB_70rI2ybN",
    "outputId": "81097b23-d40f-47bc-ae86-adf57d03d05d"
   },
   "source": [
    "!which python # should return /usr/local/bin/python\n",
    "!python --version"
   ]
  },
  {
   "cell_type": "raw",
   "metadata": {
    "colab": {
     "base_uri": "https://localhost:8080/"
    },
    "id": "rtwH_Jvs20MX",
    "outputId": "5c7b6fb3-9760-4cb2-b1fe-946ee55036cf"
   },
   "source": [
    "!echo $PYTHONPATH # /env/python"
   ]
  },
  {
   "cell_type": "raw",
   "metadata": {
    "colab": {
     "base_uri": "https://localhost:8080/"
    },
    "id": "Q0HEQxuE20N-",
    "outputId": "a325a2f7-e6b8-4f7a-938d-d04f6ec00af8"
   },
   "source": [
    "%env PYTHONPATH="
   ]
  },
  {
   "cell_type": "raw",
   "metadata": {
    "colab": {
     "base_uri": "https://localhost:8080/"
    },
    "id": "pS0Iy24V20Pn",
    "outputId": "8996a2e5-1108-4ac2-f752-cd78c0815bc8"
   },
   "source": [
    "################################################################################\n",
    "# INSTALL CONDA ON GOOGLE COLAB\n",
    "################################################################################\n",
    "! wget https://repo.anaconda.com/miniconda/Miniconda3-py37_4.9.2-Linux-x86_64.sh\n",
    "! chmod +x Miniconda3-py37_4.9.2-Linux-x86_64.sh\n",
    "! bash ./Miniconda3-py37_4.9.2-Linux-x86_64.sh -b -f -p /usr/local\n",
    "import sys\n",
    "sys.path.append('/usr/local/lib/python3.7/site-packages/')\n",
    "!which conda  # should return /usr/local/bin/conda\n",
    "!conda --version"
   ]
  },
  {
   "cell_type": "raw",
   "metadata": {
    "colab": {
     "base_uri": "https://localhost:8080/"
    },
    "id": "pJX3BT8c20TW",
    "outputId": "33911c0a-9602-4da5-fea5-34c59b116455"
   },
   "source": [
    "!conda create -n new11 python==3.8"
   ]
  },
  {
   "cell_type": "raw",
   "metadata": {
    "colab": {
     "base_uri": "https://localhost:8080/"
    },
    "id": "GyETsJzt3DmP",
    "outputId": "3c884eef-0f19-4d3a-b1a4-eb32a015a299"
   },
   "source": [
    "!source activate new11 && conda env list"
   ]
  },
  {
   "cell_type": "raw",
   "metadata": {
    "colab": {
     "base_uri": "https://localhost:8080/"
    },
    "id": "h4IqMgVv3dN1",
    "outputId": "30b69247-f9ae-4009-f707-b92b03f2f910"
   },
   "source": [
    "#!conda uninstall scikit-learn\n",
    "#!conda install scikit-learn==0.23.2\n",
    "!pip install pip install imbalanced-learn==0.7.0 \n",
    "!pip install pycaret==2.3.10\n",
    "\n",
    "\n",
    "#!pip install pandas==1.2.4\n",
    "#!pip install numpy==1.19.5\n",
    "\n",
    "# --use-feature=2020-resolver # Even if there is an error, you can just proceed.\n"
   ]
  },
  {
   "cell_type": "code",
   "execution_count": 1,
   "metadata": {
    "id": "YL2g4a5xDCL5"
   },
   "outputs": [
    {
     "name": "stdout",
     "output_type": "stream",
     "text": [
      "Requirement already satisfied: pycaret in /Users/ojoo/opt/anaconda3/envs/new1/lib/python3.8/site-packages (2.3.10)\n",
      "Requirement already satisfied: plotly>=4.4.1 in /Users/ojoo/opt/anaconda3/envs/new1/lib/python3.8/site-packages (from pycaret) (5.11.0)\n",
      "Requirement already satisfied: spacy<2.4.0 in /Users/ojoo/opt/anaconda3/envs/new1/lib/python3.8/site-packages (from pycaret) (2.3.8)\n",
      "Requirement already satisfied: pyod in /Users/ojoo/opt/anaconda3/envs/new1/lib/python3.8/site-packages (from pycaret) (1.0.6)\n",
      "Requirement already satisfied: pandas-profiling>=2.8.0 in /Users/ojoo/opt/anaconda3/envs/new1/lib/python3.8/site-packages (from pycaret) (3.5.0)\n",
      "Requirement already satisfied: mlflow in /Users/ojoo/opt/anaconda3/envs/new1/lib/python3.8/site-packages (from pycaret) (2.0.1)\n",
      "Requirement already satisfied: numba<0.55 in /Users/ojoo/opt/anaconda3/envs/new1/lib/python3.8/site-packages (from pycaret) (0.54.1)\n",
      "Requirement already satisfied: Boruta in /Users/ojoo/opt/anaconda3/envs/new1/lib/python3.8/site-packages (from pycaret) (0.3)\n",
      "Requirement already satisfied: scipy<=1.5.4 in /Users/ojoo/opt/anaconda3/envs/new1/lib/python3.8/site-packages (from pycaret) (1.5.4)\n",
      "Requirement already satisfied: cufflinks>=0.17.0 in /Users/ojoo/opt/anaconda3/envs/new1/lib/python3.8/site-packages (from pycaret) (0.17.3)\n",
      "Requirement already satisfied: matplotlib in /Users/ojoo/opt/anaconda3/envs/new1/lib/python3.8/site-packages (from pycaret) (3.6.2)\n",
      "Requirement already satisfied: nltk in /Users/ojoo/opt/anaconda3/envs/new1/lib/python3.8/site-packages (from pycaret) (3.7)\n",
      "Requirement already satisfied: gensim<4.0.0 in /Users/ojoo/opt/anaconda3/envs/new1/lib/python3.8/site-packages (from pycaret) (3.8.3)\n",
      "Requirement already satisfied: yellowbrick>=1.0.1 in /Users/ojoo/opt/anaconda3/envs/new1/lib/python3.8/site-packages (from pycaret) (1.2.1)\n",
      "Requirement already satisfied: wordcloud in /Users/ojoo/opt/anaconda3/envs/new1/lib/python3.8/site-packages (from pycaret) (1.8.2.2)\n",
      "Requirement already satisfied: pandas in /Users/ojoo/opt/anaconda3/envs/new1/lib/python3.8/site-packages (from pycaret) (1.5.2)\n",
      "Requirement already satisfied: scikit-learn==0.23.2 in /Users/ojoo/opt/anaconda3/envs/new1/lib/python3.8/site-packages (from pycaret) (0.23.2)\n",
      "Requirement already satisfied: pyyaml<6.0.0 in /Users/ojoo/opt/anaconda3/envs/new1/lib/python3.8/site-packages (from pycaret) (5.4.1)\n",
      "Requirement already satisfied: pyLDAvis in /Users/ojoo/opt/anaconda3/envs/new1/lib/python3.8/site-packages (from pycaret) (3.3.1)\n",
      "Requirement already satisfied: umap-learn in /Users/ojoo/opt/anaconda3/envs/new1/lib/python3.8/site-packages (from pycaret) (0.5.3)\n",
      "Requirement already satisfied: seaborn in /Users/ojoo/opt/anaconda3/envs/new1/lib/python3.8/site-packages (from pycaret) (0.12.1)\n",
      "Requirement already satisfied: mlxtend>=0.17.0 in /Users/ojoo/opt/anaconda3/envs/new1/lib/python3.8/site-packages (from pycaret) (0.19.0)\n",
      "Requirement already satisfied: imbalanced-learn==0.7.0 in /Users/ojoo/opt/anaconda3/envs/new1/lib/python3.8/site-packages (from pycaret) (0.7.0)\n",
      "Requirement already satisfied: IPython in /Users/ojoo/opt/anaconda3/envs/new1/lib/python3.8/site-packages (from pycaret) (8.7.0)\n",
      "Requirement already satisfied: textblob in /Users/ojoo/opt/anaconda3/envs/new1/lib/python3.8/site-packages (from pycaret) (0.17.1)\n",
      "Requirement already satisfied: ipywidgets in /Users/ojoo/opt/anaconda3/envs/new1/lib/python3.8/site-packages (from pycaret) (8.0.2)\n",
      "Requirement already satisfied: lightgbm>=2.3.1 in /Users/ojoo/opt/anaconda3/envs/new1/lib/python3.8/site-packages (from pycaret) (3.3.3)\n",
      "Requirement already satisfied: joblib in /Users/ojoo/opt/anaconda3/envs/new1/lib/python3.8/site-packages (from pycaret) (1.2.0)\n",
      "Requirement already satisfied: scikit-plot in /Users/ojoo/opt/anaconda3/envs/new1/lib/python3.8/site-packages (from pycaret) (0.3.7)\n",
      "Requirement already satisfied: kmodes>=0.10.1 in /Users/ojoo/opt/anaconda3/envs/new1/lib/python3.8/site-packages (from pycaret) (0.12.2)\n",
      "Requirement already satisfied: numpy>=1.13.3 in /Users/ojoo/opt/anaconda3/envs/new1/lib/python3.8/site-packages (from imbalanced-learn==0.7.0->pycaret) (1.20.3)\n",
      "Requirement already satisfied: threadpoolctl>=2.0.0 in /Users/ojoo/opt/anaconda3/envs/new1/lib/python3.8/site-packages (from scikit-learn==0.23.2->pycaret) (3.1.0)\n",
      "Requirement already satisfied: setuptools>=34.4.1 in /Users/ojoo/opt/anaconda3/envs/new1/lib/python3.8/site-packages (from cufflinks>=0.17.0->pycaret) (65.5.0)\n",
      "Requirement already satisfied: six>=1.9.0 in /Users/ojoo/opt/anaconda3/envs/new1/lib/python3.8/site-packages (from cufflinks>=0.17.0->pycaret) (1.16.0)\n",
      "Requirement already satisfied: colorlover>=0.2.1 in /Users/ojoo/opt/anaconda3/envs/new1/lib/python3.8/site-packages (from cufflinks>=0.17.0->pycaret) (0.3.0)\n",
      "Requirement already satisfied: smart-open>=1.8.1 in /Users/ojoo/opt/anaconda3/envs/new1/lib/python3.8/site-packages (from gensim<4.0.0->pycaret) (6.2.0)\n",
      "Requirement already satisfied: pygments>=2.4.0 in /Users/ojoo/opt/anaconda3/envs/new1/lib/python3.8/site-packages (from IPython->pycaret) (2.13.0)\n",
      "Requirement already satisfied: prompt-toolkit<3.1.0,>=3.0.11 in /Users/ojoo/opt/anaconda3/envs/new1/lib/python3.8/site-packages (from IPython->pycaret) (3.0.33)\n",
      "Requirement already satisfied: jedi>=0.16 in /Users/ojoo/opt/anaconda3/envs/new1/lib/python3.8/site-packages (from IPython->pycaret) (0.18.2)\n",
      "Requirement already satisfied: decorator in /Users/ojoo/opt/anaconda3/envs/new1/lib/python3.8/site-packages (from IPython->pycaret) (5.1.1)\n",
      "Requirement already satisfied: pexpect>4.3 in /Users/ojoo/opt/anaconda3/envs/new1/lib/python3.8/site-packages (from IPython->pycaret) (4.8.0)\n",
      "Requirement already satisfied: traitlets>=5 in /Users/ojoo/opt/anaconda3/envs/new1/lib/python3.8/site-packages (from IPython->pycaret) (5.6.0)\n",
      "Requirement already satisfied: appnope in /Users/ojoo/opt/anaconda3/envs/new1/lib/python3.8/site-packages (from IPython->pycaret) (0.1.3)\n",
      "Requirement already satisfied: pickleshare in /Users/ojoo/opt/anaconda3/envs/new1/lib/python3.8/site-packages (from IPython->pycaret) (0.7.5)\n",
      "Requirement already satisfied: stack-data in /Users/ojoo/opt/anaconda3/envs/new1/lib/python3.8/site-packages (from IPython->pycaret) (0.6.2)\n",
      "Requirement already satisfied: matplotlib-inline in /Users/ojoo/opt/anaconda3/envs/new1/lib/python3.8/site-packages (from IPython->pycaret) (0.1.6)\n",
      "Requirement already satisfied: backcall in /Users/ojoo/opt/anaconda3/envs/new1/lib/python3.8/site-packages (from IPython->pycaret) (0.2.0)\n",
      "Requirement already satisfied: widgetsnbextension~=4.0 in /Users/ojoo/opt/anaconda3/envs/new1/lib/python3.8/site-packages (from ipywidgets->pycaret) (4.0.3)\n",
      "Requirement already satisfied: ipykernel>=4.5.1 in /Users/ojoo/opt/anaconda3/envs/new1/lib/python3.8/site-packages (from ipywidgets->pycaret) (6.17.1)\n",
      "Requirement already satisfied: jupyterlab-widgets~=3.0 in /Users/ojoo/opt/anaconda3/envs/new1/lib/python3.8/site-packages (from ipywidgets->pycaret) (3.0.3)\n",
      "Requirement already satisfied: wheel in /Users/ojoo/opt/anaconda3/envs/new1/lib/python3.8/site-packages (from lightgbm>=2.3.1->pycaret) (0.37.1)\n",
      "Requirement already satisfied: pyparsing>=2.2.1 in /Users/ojoo/opt/anaconda3/envs/new1/lib/python3.8/site-packages (from matplotlib->pycaret) (3.0.9)\n",
      "Requirement already satisfied: kiwisolver>=1.0.1 in /Users/ojoo/opt/anaconda3/envs/new1/lib/python3.8/site-packages (from matplotlib->pycaret) (1.4.4)\n",
      "Requirement already satisfied: pillow>=6.2.0 in /Users/ojoo/opt/anaconda3/envs/new1/lib/python3.8/site-packages (from matplotlib->pycaret) (9.3.0)\n",
      "Requirement already satisfied: fonttools>=4.22.0 in /Users/ojoo/opt/anaconda3/envs/new1/lib/python3.8/site-packages (from matplotlib->pycaret) (4.38.0)\n",
      "Requirement already satisfied: contourpy>=1.0.1 in /Users/ojoo/opt/anaconda3/envs/new1/lib/python3.8/site-packages (from matplotlib->pycaret) (1.0.6)\n",
      "Requirement already satisfied: packaging>=20.0 in /Users/ojoo/opt/anaconda3/envs/new1/lib/python3.8/site-packages (from matplotlib->pycaret) (21.3)\n",
      "Requirement already satisfied: cycler>=0.10 in /Users/ojoo/opt/anaconda3/envs/new1/lib/python3.8/site-packages (from matplotlib->pycaret) (0.11.0)\n",
      "Requirement already satisfied: python-dateutil>=2.7 in /Users/ojoo/opt/anaconda3/envs/new1/lib/python3.8/site-packages (from matplotlib->pycaret) (2.8.2)\n",
      "Requirement already satisfied: llvmlite<0.38,>=0.37.0rc1 in /Users/ojoo/opt/anaconda3/envs/new1/lib/python3.8/site-packages (from numba<0.55->pycaret) (0.37.0)\n",
      "Requirement already satisfied: pytz>=2020.1 in /Users/ojoo/opt/anaconda3/envs/new1/lib/python3.8/site-packages (from pandas->pycaret) (2022.6)\n",
      "Requirement already satisfied: visions[type_image_path]==0.7.5 in /Users/ojoo/opt/anaconda3/envs/new1/lib/python3.8/site-packages (from pandas-profiling>=2.8.0->pycaret) (0.7.5)\n",
      "Requirement already satisfied: typeguard<2.14,>=2.13.2 in /Users/ojoo/opt/anaconda3/envs/new1/lib/python3.8/site-packages (from pandas-profiling>=2.8.0->pycaret) (2.13.3)\n",
      "Requirement already satisfied: htmlmin==0.1.12 in /Users/ojoo/opt/anaconda3/envs/new1/lib/python3.8/site-packages (from pandas-profiling>=2.8.0->pycaret) (0.1.12)\n",
      "Requirement already satisfied: statsmodels<0.14,>=0.13.2 in /Users/ojoo/opt/anaconda3/envs/new1/lib/python3.8/site-packages (from pandas-profiling>=2.8.0->pycaret) (0.13.5)\n",
      "Requirement already satisfied: pydantic<1.11,>=1.8.1 in /Users/ojoo/opt/anaconda3/envs/new1/lib/python3.8/site-packages (from pandas-profiling>=2.8.0->pycaret) (1.10.2)\n",
      "Requirement already satisfied: phik<0.13,>=0.11.1 in /Users/ojoo/opt/anaconda3/envs/new1/lib/python3.8/site-packages (from pandas-profiling>=2.8.0->pycaret) (0.12.2)\n",
      "Requirement already satisfied: requests<2.29,>=2.24.0 in /Users/ojoo/opt/anaconda3/envs/new1/lib/python3.8/site-packages (from pandas-profiling>=2.8.0->pycaret) (2.28.1)\n",
      "Requirement already satisfied: multimethod<1.10,>=1.4 in /Users/ojoo/opt/anaconda3/envs/new1/lib/python3.8/site-packages (from pandas-profiling>=2.8.0->pycaret) (1.9)\n",
      "Requirement already satisfied: jinja2<3.2,>=2.11.1 in /Users/ojoo/opt/anaconda3/envs/new1/lib/python3.8/site-packages (from pandas-profiling>=2.8.0->pycaret) (3.1.2)\n",
      "Requirement already satisfied: tqdm<4.65,>=4.48.2 in /Users/ojoo/opt/anaconda3/envs/new1/lib/python3.8/site-packages (from pandas-profiling>=2.8.0->pycaret) (4.64.1)\n",
      "Requirement already satisfied: attrs>=19.3.0 in /Users/ojoo/opt/anaconda3/envs/new1/lib/python3.8/site-packages (from visions[type_image_path]==0.7.5->pandas-profiling>=2.8.0->pycaret) (22.1.0)\n",
      "Requirement already satisfied: networkx>=2.4 in /Users/ojoo/opt/anaconda3/envs/new1/lib/python3.8/site-packages (from visions[type_image_path]==0.7.5->pandas-profiling>=2.8.0->pycaret) (2.8.8)\n",
      "Requirement already satisfied: tangled-up-in-unicode>=0.0.4 in /Users/ojoo/opt/anaconda3/envs/new1/lib/python3.8/site-packages (from visions[type_image_path]==0.7.5->pandas-profiling>=2.8.0->pycaret) (0.2.0)\n",
      "Requirement already satisfied: imagehash in /Users/ojoo/opt/anaconda3/envs/new1/lib/python3.8/site-packages (from visions[type_image_path]==0.7.5->pandas-profiling>=2.8.0->pycaret) (4.3.1)\n",
      "Requirement already satisfied: tenacity>=6.2.0 in /Users/ojoo/opt/anaconda3/envs/new1/lib/python3.8/site-packages (from plotly>=4.4.1->pycaret) (8.1.0)\n",
      "Requirement already satisfied: wasabi<1.1.0,>=0.4.0 in /Users/ojoo/opt/anaconda3/envs/new1/lib/python3.8/site-packages (from spacy<2.4.0->pycaret) (0.10.1)\n",
      "Requirement already satisfied: catalogue<1.1.0,>=0.0.7 in /Users/ojoo/opt/anaconda3/envs/new1/lib/python3.8/site-packages (from spacy<2.4.0->pycaret) (1.0.2)\n",
      "Requirement already satisfied: thinc<7.5.0,>=7.4.1 in /Users/ojoo/opt/anaconda3/envs/new1/lib/python3.8/site-packages (from spacy<2.4.0->pycaret) (7.4.6)\n",
      "Requirement already satisfied: preshed<3.1.0,>=3.0.2 in /Users/ojoo/opt/anaconda3/envs/new1/lib/python3.8/site-packages (from spacy<2.4.0->pycaret) (3.0.8)\n",
      "Requirement already satisfied: srsly<1.1.0,>=1.0.2 in /Users/ojoo/opt/anaconda3/envs/new1/lib/python3.8/site-packages (from spacy<2.4.0->pycaret) (1.0.6)\n",
      "Requirement already satisfied: cymem<2.1.0,>=2.0.2 in /Users/ojoo/opt/anaconda3/envs/new1/lib/python3.8/site-packages (from spacy<2.4.0->pycaret) (2.0.7)\n",
      "Requirement already satisfied: murmurhash<1.1.0,>=0.28.0 in /Users/ojoo/opt/anaconda3/envs/new1/lib/python3.8/site-packages (from spacy<2.4.0->pycaret) (1.0.9)\n",
      "Requirement already satisfied: blis<0.8.0,>=0.4.0 in /Users/ojoo/opt/anaconda3/envs/new1/lib/python3.8/site-packages (from spacy<2.4.0->pycaret) (0.7.9)\n",
      "Requirement already satisfied: plac<1.2.0,>=0.9.6 in /Users/ojoo/opt/anaconda3/envs/new1/lib/python3.8/site-packages (from spacy<2.4.0->pycaret) (1.1.3)\n",
      "Requirement already satisfied: Flask<3 in /Users/ojoo/opt/anaconda3/envs/new1/lib/python3.8/site-packages (from mlflow->pycaret) (2.2.2)\n",
      "Requirement already satisfied: markdown<4,>=3.3 in /Users/ojoo/opt/anaconda3/envs/new1/lib/python3.8/site-packages (from mlflow->pycaret) (3.4.1)\n",
      "Requirement already satisfied: docker<7,>=4.0.0 in /Users/ojoo/opt/anaconda3/envs/new1/lib/python3.8/site-packages (from mlflow->pycaret) (6.0.1)\n",
      "Requirement already satisfied: sqlparse<1,>=0.4.0 in /Users/ojoo/opt/anaconda3/envs/new1/lib/python3.8/site-packages (from mlflow->pycaret) (0.4.3)\n",
      "Requirement already satisfied: protobuf<5,>=3.12.0 in /Users/ojoo/opt/anaconda3/envs/new1/lib/python3.8/site-packages (from mlflow->pycaret) (4.21.9)\n",
      "Requirement already satisfied: alembic<2 in /Users/ojoo/opt/anaconda3/envs/new1/lib/python3.8/site-packages (from mlflow->pycaret) (1.8.1)\n",
      "Requirement already satisfied: click<9,>=7.0 in /Users/ojoo/opt/anaconda3/envs/new1/lib/python3.8/site-packages (from mlflow->pycaret) (8.1.3)\n",
      "Requirement already satisfied: gunicorn<21 in /Users/ojoo/opt/anaconda3/envs/new1/lib/python3.8/site-packages (from mlflow->pycaret) (20.1.0)\n",
      "Requirement already satisfied: entrypoints<1 in /Users/ojoo/opt/anaconda3/envs/new1/lib/python3.8/site-packages (from mlflow->pycaret) (0.4)\n",
      "Requirement already satisfied: gitpython<4,>=2.1.0 in /Users/ojoo/opt/anaconda3/envs/new1/lib/python3.8/site-packages (from mlflow->pycaret) (3.1.29)\n",
      "Requirement already satisfied: querystring-parser<2 in /Users/ojoo/opt/anaconda3/envs/new1/lib/python3.8/site-packages (from mlflow->pycaret) (1.2.4)\n",
      "Requirement already satisfied: importlib-metadata!=4.7.0,<6,>=3.7.0 in /Users/ojoo/opt/anaconda3/envs/new1/lib/python3.8/site-packages (from mlflow->pycaret) (5.1.0)\n",
      "Requirement already satisfied: pyarrow<11,>=4.0.0 in /Users/ojoo/opt/anaconda3/envs/new1/lib/python3.8/site-packages (from mlflow->pycaret) (10.0.1)\n",
      "Requirement already satisfied: databricks-cli<1,>=0.8.7 in /Users/ojoo/opt/anaconda3/envs/new1/lib/python3.8/site-packages (from mlflow->pycaret) (0.17.3)\n",
      "Requirement already satisfied: sqlalchemy<2,>=1.4.0 in /Users/ojoo/opt/anaconda3/envs/new1/lib/python3.8/site-packages (from mlflow->pycaret) (1.4.44)\n",
      "Requirement already satisfied: shap<1,>=0.40 in /Users/ojoo/opt/anaconda3/envs/new1/lib/python3.8/site-packages (from mlflow->pycaret) (0.41.0)\n",
      "Requirement already satisfied: cloudpickle<3 in /Users/ojoo/opt/anaconda3/envs/new1/lib/python3.8/site-packages (from mlflow->pycaret) (2.2.0)\n",
      "Requirement already satisfied: regex>=2021.8.3 in /Users/ojoo/opt/anaconda3/envs/new1/lib/python3.8/site-packages (from nltk->pycaret) (2022.10.31)\n",
      "Requirement already satisfied: numexpr in /Users/ojoo/opt/anaconda3/envs/new1/lib/python3.8/site-packages (from pyLDAvis->pycaret) (2.8.4)\n",
      "Requirement already satisfied: sklearn in /Users/ojoo/opt/anaconda3/envs/new1/lib/python3.8/site-packages (from pyLDAvis->pycaret) (0.0.post1)\n",
      "Requirement already satisfied: future in /Users/ojoo/opt/anaconda3/envs/new1/lib/python3.8/site-packages (from pyLDAvis->pycaret) (0.18.2)\n",
      "Requirement already satisfied: funcy in /Users/ojoo/opt/anaconda3/envs/new1/lib/python3.8/site-packages (from pyLDAvis->pycaret) (1.17)\n",
      "Requirement already satisfied: pynndescent>=0.5 in /Users/ojoo/opt/anaconda3/envs/new1/lib/python3.8/site-packages (from umap-learn->pycaret) (0.5.8)\n",
      "Requirement already satisfied: Mako in /Users/ojoo/opt/anaconda3/envs/new1/lib/python3.8/site-packages (from alembic<2->mlflow->pycaret) (1.2.4)\n",
      "Requirement already satisfied: importlib-resources in /Users/ojoo/opt/anaconda3/envs/new1/lib/python3.8/site-packages (from alembic<2->mlflow->pycaret) (5.10.0)\n",
      "Requirement already satisfied: oauthlib>=3.1.0 in /Users/ojoo/opt/anaconda3/envs/new1/lib/python3.8/site-packages (from databricks-cli<1,>=0.8.7->mlflow->pycaret) (3.2.2)\n",
      "Requirement already satisfied: pyjwt>=1.7.0 in /Users/ojoo/opt/anaconda3/envs/new1/lib/python3.8/site-packages (from databricks-cli<1,>=0.8.7->mlflow->pycaret) (2.6.0)\n",
      "Requirement already satisfied: tabulate>=0.7.7 in /Users/ojoo/opt/anaconda3/envs/new1/lib/python3.8/site-packages (from databricks-cli<1,>=0.8.7->mlflow->pycaret) (0.9.0)\n",
      "Requirement already satisfied: websocket-client>=0.32.0 in /Users/ojoo/opt/anaconda3/envs/new1/lib/python3.8/site-packages (from docker<7,>=4.0.0->mlflow->pycaret) (1.4.2)\n",
      "Requirement already satisfied: urllib3>=1.26.0 in /Users/ojoo/opt/anaconda3/envs/new1/lib/python3.8/site-packages (from docker<7,>=4.0.0->mlflow->pycaret) (1.26.13)\n",
      "Requirement already satisfied: Werkzeug>=2.2.2 in /Users/ojoo/opt/anaconda3/envs/new1/lib/python3.8/site-packages (from Flask<3->mlflow->pycaret) (2.2.2)\n",
      "Requirement already satisfied: itsdangerous>=2.0 in /Users/ojoo/opt/anaconda3/envs/new1/lib/python3.8/site-packages (from Flask<3->mlflow->pycaret) (2.1.2)\n",
      "Requirement already satisfied: gitdb<5,>=4.0.1 in /Users/ojoo/opt/anaconda3/envs/new1/lib/python3.8/site-packages (from gitpython<4,>=2.1.0->mlflow->pycaret) (4.0.10)\n",
      "Requirement already satisfied: zipp>=0.5 in /Users/ojoo/opt/anaconda3/envs/new1/lib/python3.8/site-packages (from importlib-metadata!=4.7.0,<6,>=3.7.0->mlflow->pycaret) (3.11.0)\n",
      "Requirement already satisfied: pyzmq>=17 in /Users/ojoo/opt/anaconda3/envs/new1/lib/python3.8/site-packages (from ipykernel>=4.5.1->ipywidgets->pycaret) (24.0.1)\n",
      "Requirement already satisfied: psutil in /Users/ojoo/opt/anaconda3/envs/new1/lib/python3.8/site-packages (from ipykernel>=4.5.1->ipywidgets->pycaret) (5.9.4)\n",
      "Requirement already satisfied: tornado>=6.1 in /Users/ojoo/opt/anaconda3/envs/new1/lib/python3.8/site-packages (from ipykernel>=4.5.1->ipywidgets->pycaret) (6.2)\n",
      "Requirement already satisfied: debugpy>=1.0 in /Users/ojoo/opt/anaconda3/envs/new1/lib/python3.8/site-packages (from ipykernel>=4.5.1->ipywidgets->pycaret) (1.6.4)\n",
      "Requirement already satisfied: nest-asyncio in /Users/ojoo/opt/anaconda3/envs/new1/lib/python3.8/site-packages (from ipykernel>=4.5.1->ipywidgets->pycaret) (1.5.6)\n",
      "Requirement already satisfied: jupyter-client>=6.1.12 in /Users/ojoo/opt/anaconda3/envs/new1/lib/python3.8/site-packages (from ipykernel>=4.5.1->ipywidgets->pycaret) (7.4.7)\n",
      "Requirement already satisfied: parso<0.9.0,>=0.8.0 in /Users/ojoo/opt/anaconda3/envs/new1/lib/python3.8/site-packages (from jedi>=0.16->IPython->pycaret) (0.8.3)\n",
      "Requirement already satisfied: MarkupSafe>=2.0 in /Users/ojoo/opt/anaconda3/envs/new1/lib/python3.8/site-packages (from jinja2<3.2,>=2.11.1->pandas-profiling>=2.8.0->pycaret) (2.1.1)\n",
      "Requirement already satisfied: ptyprocess>=0.5 in /Users/ojoo/opt/anaconda3/envs/new1/lib/python3.8/site-packages (from pexpect>4.3->IPython->pycaret) (0.7.0)\n",
      "Requirement already satisfied: wcwidth in /Users/ojoo/opt/anaconda3/envs/new1/lib/python3.8/site-packages (from prompt-toolkit<3.1.0,>=3.0.11->IPython->pycaret) (0.2.5)\n",
      "Requirement already satisfied: typing-extensions>=4.1.0 in /Users/ojoo/opt/anaconda3/envs/new1/lib/python3.8/site-packages (from pydantic<1.11,>=1.8.1->pandas-profiling>=2.8.0->pycaret) (4.4.0)\n",
      "Requirement already satisfied: charset-normalizer<3,>=2 in /Users/ojoo/opt/anaconda3/envs/new1/lib/python3.8/site-packages (from requests<2.29,>=2.24.0->pandas-profiling>=2.8.0->pycaret) (2.1.1)\n",
      "Requirement already satisfied: certifi>=2017.4.17 in /Users/ojoo/opt/anaconda3/envs/new1/lib/python3.8/site-packages (from requests<2.29,>=2.24.0->pandas-profiling>=2.8.0->pycaret) (2022.9.24)\n",
      "Requirement already satisfied: idna<4,>=2.5 in /Users/ojoo/opt/anaconda3/envs/new1/lib/python3.8/site-packages (from requests<2.29,>=2.24.0->pandas-profiling>=2.8.0->pycaret) (3.4)\n",
      "Requirement already satisfied: slicer==0.0.7 in /Users/ojoo/opt/anaconda3/envs/new1/lib/python3.8/site-packages (from shap<1,>=0.40->mlflow->pycaret) (0.0.7)\n",
      "Requirement already satisfied: greenlet!=0.4.17 in /Users/ojoo/opt/anaconda3/envs/new1/lib/python3.8/site-packages (from sqlalchemy<2,>=1.4.0->mlflow->pycaret) (2.0.1)\n",
      "Requirement already satisfied: patsy>=0.5.2 in /Users/ojoo/opt/anaconda3/envs/new1/lib/python3.8/site-packages (from statsmodels<0.14,>=0.13.2->pandas-profiling>=2.8.0->pycaret) (0.5.3)\n",
      "Requirement already satisfied: executing>=1.2.0 in /Users/ojoo/opt/anaconda3/envs/new1/lib/python3.8/site-packages (from stack-data->IPython->pycaret) (1.2.0)\n",
      "Requirement already satisfied: pure-eval in /Users/ojoo/opt/anaconda3/envs/new1/lib/python3.8/site-packages (from stack-data->IPython->pycaret) (0.2.2)\n",
      "Requirement already satisfied: asttokens>=2.1.0 in /Users/ojoo/opt/anaconda3/envs/new1/lib/python3.8/site-packages (from stack-data->IPython->pycaret) (2.2.0)\n",
      "Requirement already satisfied: smmap<6,>=3.0.1 in /Users/ojoo/opt/anaconda3/envs/new1/lib/python3.8/site-packages (from gitdb<5,>=4.0.1->gitpython<4,>=2.1.0->mlflow->pycaret) (5.0.0)\n",
      "Requirement already satisfied: jupyter-core>=4.9.2 in /Users/ojoo/opt/anaconda3/envs/new1/lib/python3.8/site-packages (from jupyter-client>=6.1.12->ipykernel>=4.5.1->ipywidgets->pycaret) (5.1.0)\n",
      "Requirement already satisfied: PyWavelets in /Users/ojoo/opt/anaconda3/envs/new1/lib/python3.8/site-packages (from imagehash->visions[type_image_path]==0.7.5->pandas-profiling>=2.8.0->pycaret) (1.4.1)\n",
      "Requirement already satisfied: platformdirs>=2.5 in /Users/ojoo/opt/anaconda3/envs/new1/lib/python3.8/site-packages (from jupyter-core>=4.9.2->jupyter-client>=6.1.12->ipykernel>=4.5.1->ipywidgets->pycaret) (2.5.4)\n"
     ]
    }
   ],
   "source": [
    "!pip install pycaret"
   ]
  },
  {
   "cell_type": "markdown",
   "metadata": {
    "id": "1HMftmxf5Xzs"
   },
   "source": [
    "## Data"
   ]
  },
  {
   "cell_type": "code",
   "execution_count": 2,
   "metadata": {
    "id": "4tKOXLwR20cP"
   },
   "outputs": [],
   "source": [
    "import pandas as pd"
   ]
  },
  {
   "cell_type": "code",
   "execution_count": 3,
   "metadata": {
    "colab": {
     "base_uri": "https://localhost:8080/",
     "height": 478
    },
    "id": "iN94SXVqmtTm",
    "outputId": "649b3613-dc7a-4e2a-98c7-755e5ba6048d"
   },
   "outputs": [
    {
     "data": {
      "text/html": [
       "<div>\n",
       "<style scoped>\n",
       "    .dataframe tbody tr th:only-of-type {\n",
       "        vertical-align: middle;\n",
       "    }\n",
       "\n",
       "    .dataframe tbody tr th {\n",
       "        vertical-align: top;\n",
       "    }\n",
       "\n",
       "    .dataframe thead th {\n",
       "        text-align: right;\n",
       "    }\n",
       "</style>\n",
       "<table border=\"1\" class=\"dataframe\">\n",
       "  <thead>\n",
       "    <tr style=\"text-align: right;\">\n",
       "      <th></th>\n",
       "      <th>Unnamed: 0</th>\n",
       "      <th>gender</th>\n",
       "      <th>car</th>\n",
       "      <th>reality</th>\n",
       "      <th>child_num</th>\n",
       "      <th>income_total</th>\n",
       "      <th>income_type</th>\n",
       "      <th>edu_type</th>\n",
       "      <th>family_type</th>\n",
       "      <th>house_type</th>\n",
       "      <th>days_birth</th>\n",
       "      <th>days_employed</th>\n",
       "      <th>work_phone</th>\n",
       "      <th>home_phone</th>\n",
       "      <th>email</th>\n",
       "      <th>occup_type</th>\n",
       "      <th>family_size</th>\n",
       "      <th>begin_month</th>\n",
       "      <th>credit</th>\n",
       "    </tr>\n",
       "  </thead>\n",
       "  <tbody>\n",
       "    <tr>\n",
       "      <th>0</th>\n",
       "      <td>0</td>\n",
       "      <td>F</td>\n",
       "      <td>N</td>\n",
       "      <td>N</td>\n",
       "      <td>0</td>\n",
       "      <td>202500.0</td>\n",
       "      <td>Commercial associate</td>\n",
       "      <td>Higher education</td>\n",
       "      <td>Married</td>\n",
       "      <td>Municipal apartment</td>\n",
       "      <td>13899</td>\n",
       "      <td>4709</td>\n",
       "      <td>0</td>\n",
       "      <td>0</td>\n",
       "      <td>0</td>\n",
       "      <td>No job</td>\n",
       "      <td>2.0</td>\n",
       "      <td>6</td>\n",
       "      <td>1.0</td>\n",
       "    </tr>\n",
       "    <tr>\n",
       "      <th>1</th>\n",
       "      <td>1</td>\n",
       "      <td>F</td>\n",
       "      <td>N</td>\n",
       "      <td>Y</td>\n",
       "      <td>0</td>\n",
       "      <td>202500.0</td>\n",
       "      <td>Commercial associate</td>\n",
       "      <td>Secondary / secondary special</td>\n",
       "      <td>Married</td>\n",
       "      <td>House / apartment</td>\n",
       "      <td>15088</td>\n",
       "      <td>2092</td>\n",
       "      <td>0</td>\n",
       "      <td>1</td>\n",
       "      <td>0</td>\n",
       "      <td>Sales staff</td>\n",
       "      <td>2.0</td>\n",
       "      <td>37</td>\n",
       "      <td>0.0</td>\n",
       "    </tr>\n",
       "    <tr>\n",
       "      <th>2</th>\n",
       "      <td>2</td>\n",
       "      <td>F</td>\n",
       "      <td>Y</td>\n",
       "      <td>Y</td>\n",
       "      <td>0</td>\n",
       "      <td>157500.0</td>\n",
       "      <td>State servant</td>\n",
       "      <td>Higher education</td>\n",
       "      <td>Married</td>\n",
       "      <td>House / apartment</td>\n",
       "      <td>15037</td>\n",
       "      <td>2105</td>\n",
       "      <td>0</td>\n",
       "      <td>0</td>\n",
       "      <td>0</td>\n",
       "      <td>Managers</td>\n",
       "      <td>2.0</td>\n",
       "      <td>26</td>\n",
       "      <td>2.0</td>\n",
       "    </tr>\n",
       "    <tr>\n",
       "      <th>3</th>\n",
       "      <td>3</td>\n",
       "      <td>F</td>\n",
       "      <td>N</td>\n",
       "      <td>Y</td>\n",
       "      <td>2</td>\n",
       "      <td>270000.0</td>\n",
       "      <td>Working</td>\n",
       "      <td>Secondary / secondary special</td>\n",
       "      <td>Married</td>\n",
       "      <td>House / apartment</td>\n",
       "      <td>13413</td>\n",
       "      <td>4996</td>\n",
       "      <td>0</td>\n",
       "      <td>0</td>\n",
       "      <td>1</td>\n",
       "      <td>High skill tech staff</td>\n",
       "      <td>4.0</td>\n",
       "      <td>18</td>\n",
       "      <td>1.0</td>\n",
       "    </tr>\n",
       "    <tr>\n",
       "      <th>4</th>\n",
       "      <td>4</td>\n",
       "      <td>F</td>\n",
       "      <td>N</td>\n",
       "      <td>N</td>\n",
       "      <td>0</td>\n",
       "      <td>315000.0</td>\n",
       "      <td>Working</td>\n",
       "      <td>Secondary / secondary special</td>\n",
       "      <td>Separated</td>\n",
       "      <td>House / apartment</td>\n",
       "      <td>17570</td>\n",
       "      <td>1978</td>\n",
       "      <td>0</td>\n",
       "      <td>0</td>\n",
       "      <td>1</td>\n",
       "      <td>Core staff</td>\n",
       "      <td>1.0</td>\n",
       "      <td>41</td>\n",
       "      <td>2.0</td>\n",
       "    </tr>\n",
       "  </tbody>\n",
       "</table>\n",
       "</div>"
      ],
      "text/plain": [
       "   Unnamed: 0 gender car reality  child_num  income_total  \\\n",
       "0           0      F   N       N          0      202500.0   \n",
       "1           1      F   N       Y          0      202500.0   \n",
       "2           2      F   Y       Y          0      157500.0   \n",
       "3           3      F   N       Y          2      270000.0   \n",
       "4           4      F   N       N          0      315000.0   \n",
       "\n",
       "            income_type                       edu_type family_type  \\\n",
       "0  Commercial associate               Higher education     Married   \n",
       "1  Commercial associate  Secondary / secondary special     Married   \n",
       "2         State servant               Higher education     Married   \n",
       "3               Working  Secondary / secondary special     Married   \n",
       "4               Working  Secondary / secondary special   Separated   \n",
       "\n",
       "            house_type  days_birth  days_employed  work_phone  home_phone  \\\n",
       "0  Municipal apartment       13899           4709           0           0   \n",
       "1    House / apartment       15088           2092           0           1   \n",
       "2    House / apartment       15037           2105           0           0   \n",
       "3    House / apartment       13413           4996           0           0   \n",
       "4    House / apartment       17570           1978           0           0   \n",
       "\n",
       "   email             occup_type  family_size  begin_month  credit  \n",
       "0      0                 No job          2.0            6     1.0  \n",
       "1      0            Sales staff          2.0           37     0.0  \n",
       "2      0               Managers          2.0           26     2.0  \n",
       "3      1  High skill tech staff          4.0           18     1.0  \n",
       "4      1             Core staff          1.0           41     2.0  "
      ]
     },
     "execution_count": 3,
     "metadata": {},
     "output_type": "execute_result"
    }
   ],
   "source": [
    "train_df=pd.read_csv(\"../data/cleaned_train.csv\")\n",
    "test_df=pd.read_csv(\"../data/cleaned_test.csv\")\n",
    "\n",
    "train_df.head()"
   ]
  },
  {
   "cell_type": "code",
   "execution_count": 4,
   "metadata": {
    "colab": {
     "base_uri": "https://localhost:8080/"
    },
    "id": "OXVgOrxem0sU",
    "outputId": "cf0c656f-53ec-4b66-a61d-acc4908948b3"
   },
   "outputs": [
    {
     "data": {
      "text/plain": [
       "Unnamed: 0       0\n",
       "gender           0\n",
       "car              0\n",
       "reality          0\n",
       "child_num        0\n",
       "income_total     0\n",
       "income_type      0\n",
       "edu_type         0\n",
       "family_type      0\n",
       "house_type       0\n",
       "days_birth       0\n",
       "days_employed    0\n",
       "work_phone       0\n",
       "home_phone       0\n",
       "email            0\n",
       "occup_type       0\n",
       "family_size      0\n",
       "begin_month      0\n",
       "credit           0\n",
       "dtype: int64"
      ]
     },
     "execution_count": 4,
     "metadata": {},
     "output_type": "execute_result"
    }
   ],
   "source": [
    "train_df.isnull().sum()"
   ]
  },
  {
   "cell_type": "code",
   "execution_count": 5,
   "metadata": {
    "colab": {
     "base_uri": "https://localhost:8080/"
    },
    "id": "fgdbWI_NsMNk",
    "outputId": "f1103727-c82b-4c36-db77-f2d61d902e05"
   },
   "outputs": [
    {
     "name": "stdout",
     "output_type": "stream",
     "text": [
      "<class 'pandas.core.frame.DataFrame'>\n",
      "RangeIndex: 23392 entries, 0 to 23391\n",
      "Data columns (total 18 columns):\n",
      " #   Column         Non-Null Count  Dtype  \n",
      "---  ------         --------------  -----  \n",
      " 0   gender         23392 non-null  object \n",
      " 1   car            23392 non-null  object \n",
      " 2   reality        23392 non-null  object \n",
      " 3   child_num      23392 non-null  int64  \n",
      " 4   income_total   23392 non-null  float64\n",
      " 5   income_type    23392 non-null  object \n",
      " 6   edu_type       23392 non-null  object \n",
      " 7   family_type    23392 non-null  object \n",
      " 8   house_type     23392 non-null  object \n",
      " 9   days_birth     23392 non-null  int64  \n",
      " 10  days_employed  23392 non-null  int64  \n",
      " 11  work_phone     23392 non-null  int64  \n",
      " 12  home_phone     23392 non-null  int64  \n",
      " 13  email          23392 non-null  int64  \n",
      " 14  occup_type     23392 non-null  object \n",
      " 15  family_size    23392 non-null  float64\n",
      " 16  begin_month    23392 non-null  int64  \n",
      " 17  credit         23392 non-null  float64\n",
      "dtypes: float64(3), int64(7), object(8)\n",
      "memory usage: 3.2+ MB\n"
     ]
    }
   ],
   "source": [
    "train_df.drop(['Unnamed: 0'], axis=1, inplace=True)\n",
    "train_df.info()"
   ]
  },
  {
   "cell_type": "code",
   "execution_count": 6,
   "metadata": {
    "id": "BxlFqgWQ8AwE"
   },
   "outputs": [],
   "source": [
    "def to_category(df, colnames):\n",
    "    for colname in colnames:\n",
    "        df[colname] = df[colname].astype('category')"
   ]
  },
  {
   "cell_type": "code",
   "execution_count": 7,
   "metadata": {},
   "outputs": [
    {
     "ename": "KeyError",
     "evalue": "'CODE'",
     "output_type": "error",
     "traceback": [
      "\u001b[0;31m---------------------------------------------------------------------------\u001b[0m",
      "\u001b[0;31mKeyError\u001b[0m                                  Traceback (most recent call last)",
      "File \u001b[0;32m~/opt/anaconda3/envs/new1/lib/python3.8/site-packages/pandas/core/indexes/base.py:3803\u001b[0m, in \u001b[0;36mIndex.get_loc\u001b[0;34m(self, key, method, tolerance)\u001b[0m\n\u001b[1;32m   3802\u001b[0m \u001b[38;5;28;01mtry\u001b[39;00m:\n\u001b[0;32m-> 3803\u001b[0m     \u001b[38;5;28;01mreturn\u001b[39;00m \u001b[38;5;28;43mself\u001b[39;49m\u001b[38;5;241;43m.\u001b[39;49m\u001b[43m_engine\u001b[49m\u001b[38;5;241;43m.\u001b[39;49m\u001b[43mget_loc\u001b[49m\u001b[43m(\u001b[49m\u001b[43mcasted_key\u001b[49m\u001b[43m)\u001b[49m\n\u001b[1;32m   3804\u001b[0m \u001b[38;5;28;01mexcept\u001b[39;00m \u001b[38;5;167;01mKeyError\u001b[39;00m \u001b[38;5;28;01mas\u001b[39;00m err:\n",
      "File \u001b[0;32m~/opt/anaconda3/envs/new1/lib/python3.8/site-packages/pandas/_libs/index.pyx:138\u001b[0m, in \u001b[0;36mpandas._libs.index.IndexEngine.get_loc\u001b[0;34m()\u001b[0m\n",
      "File \u001b[0;32m~/opt/anaconda3/envs/new1/lib/python3.8/site-packages/pandas/_libs/index.pyx:165\u001b[0m, in \u001b[0;36mpandas._libs.index.IndexEngine.get_loc\u001b[0;34m()\u001b[0m\n",
      "File \u001b[0;32mpandas/_libs/hashtable_class_helper.pxi:5745\u001b[0m, in \u001b[0;36mpandas._libs.hashtable.PyObjectHashTable.get_item\u001b[0;34m()\u001b[0m\n",
      "File \u001b[0;32mpandas/_libs/hashtable_class_helper.pxi:5753\u001b[0m, in \u001b[0;36mpandas._libs.hashtable.PyObjectHashTable.get_item\u001b[0;34m()\u001b[0m\n",
      "\u001b[0;31mKeyError\u001b[0m: 'CODE'",
      "\nThe above exception was the direct cause of the following exception:\n",
      "\u001b[0;31mKeyError\u001b[0m                                  Traceback (most recent call last)",
      "Cell \u001b[0;32mIn[7], line 3\u001b[0m\n\u001b[1;32m      1\u001b[0m colnames \u001b[38;5;241m=\u001b[39m [\u001b[38;5;124m'\u001b[39m\u001b[38;5;124mgender\u001b[39m\u001b[38;5;124m'\u001b[39m,\u001b[38;5;124m'\u001b[39m\u001b[38;5;124mcar\u001b[39m\u001b[38;5;124m'\u001b[39m,\u001b[38;5;124m'\u001b[39m\u001b[38;5;124mreality\u001b[39m\u001b[38;5;124m'\u001b[39m,\u001b[38;5;124m'\u001b[39m\u001b[38;5;124mincome_type\u001b[39m\u001b[38;5;124m'\u001b[39m,\u001b[38;5;124m'\u001b[39m\u001b[38;5;124medu_type\u001b[39m\u001b[38;5;124m'\u001b[39m,\u001b[38;5;124m'\u001b[39m\u001b[38;5;124mfamily_type\u001b[39m\u001b[38;5;124m'\u001b[39m,\u001b[38;5;124m'\u001b[39m\u001b[38;5;124mhouse_type\u001b[39m\u001b[38;5;124m'\u001b[39m,\u001b[38;5;124m'\u001b[39m\u001b[38;5;124moccup_type\u001b[39m\u001b[38;5;124m'\u001b[39m,\u001b[38;5;124m'\u001b[39m\u001b[38;5;124mwork_phone\u001b[39m\u001b[38;5;124m'\u001b[39m,\u001b[38;5;124m'\u001b[39m\u001b[38;5;124mhome_phone\u001b[39m\u001b[38;5;124m'\u001b[39m,\u001b[38;5;124m'\u001b[39m\u001b[38;5;124memail\u001b[39m\u001b[38;5;124m'\u001b[39m,\u001b[38;5;124m'\u001b[39m\u001b[38;5;124mCODE\u001b[39m\u001b[38;5;124m'\u001b[39m]\n\u001b[0;32m----> 3\u001b[0m \u001b[43mto_category\u001b[49m\u001b[43m(\u001b[49m\u001b[43mtrain_df\u001b[49m\u001b[43m,\u001b[49m\u001b[43m \u001b[49m\u001b[43mcolnames\u001b[49m\u001b[43m)\u001b[49m\n",
      "Cell \u001b[0;32mIn[6], line 3\u001b[0m, in \u001b[0;36mto_category\u001b[0;34m(df, colnames)\u001b[0m\n\u001b[1;32m      1\u001b[0m \u001b[38;5;28;01mdef\u001b[39;00m \u001b[38;5;21mto_category\u001b[39m(df, colnames):\n\u001b[1;32m      2\u001b[0m     \u001b[38;5;28;01mfor\u001b[39;00m colname \u001b[38;5;129;01min\u001b[39;00m colnames:\n\u001b[0;32m----> 3\u001b[0m         df[colname] \u001b[38;5;241m=\u001b[39m \u001b[43mdf\u001b[49m\u001b[43m[\u001b[49m\u001b[43mcolname\u001b[49m\u001b[43m]\u001b[49m\u001b[38;5;241m.\u001b[39mastype(\u001b[38;5;124m'\u001b[39m\u001b[38;5;124mcategory\u001b[39m\u001b[38;5;124m'\u001b[39m)\n",
      "File \u001b[0;32m~/opt/anaconda3/envs/new1/lib/python3.8/site-packages/pandas/core/frame.py:3805\u001b[0m, in \u001b[0;36mDataFrame.__getitem__\u001b[0;34m(self, key)\u001b[0m\n\u001b[1;32m   3803\u001b[0m \u001b[38;5;28;01mif\u001b[39;00m \u001b[38;5;28mself\u001b[39m\u001b[38;5;241m.\u001b[39mcolumns\u001b[38;5;241m.\u001b[39mnlevels \u001b[38;5;241m>\u001b[39m \u001b[38;5;241m1\u001b[39m:\n\u001b[1;32m   3804\u001b[0m     \u001b[38;5;28;01mreturn\u001b[39;00m \u001b[38;5;28mself\u001b[39m\u001b[38;5;241m.\u001b[39m_getitem_multilevel(key)\n\u001b[0;32m-> 3805\u001b[0m indexer \u001b[38;5;241m=\u001b[39m \u001b[38;5;28;43mself\u001b[39;49m\u001b[38;5;241;43m.\u001b[39;49m\u001b[43mcolumns\u001b[49m\u001b[38;5;241;43m.\u001b[39;49m\u001b[43mget_loc\u001b[49m\u001b[43m(\u001b[49m\u001b[43mkey\u001b[49m\u001b[43m)\u001b[49m\n\u001b[1;32m   3806\u001b[0m \u001b[38;5;28;01mif\u001b[39;00m is_integer(indexer):\n\u001b[1;32m   3807\u001b[0m     indexer \u001b[38;5;241m=\u001b[39m [indexer]\n",
      "File \u001b[0;32m~/opt/anaconda3/envs/new1/lib/python3.8/site-packages/pandas/core/indexes/base.py:3805\u001b[0m, in \u001b[0;36mIndex.get_loc\u001b[0;34m(self, key, method, tolerance)\u001b[0m\n\u001b[1;32m   3803\u001b[0m     \u001b[38;5;28;01mreturn\u001b[39;00m \u001b[38;5;28mself\u001b[39m\u001b[38;5;241m.\u001b[39m_engine\u001b[38;5;241m.\u001b[39mget_loc(casted_key)\n\u001b[1;32m   3804\u001b[0m \u001b[38;5;28;01mexcept\u001b[39;00m \u001b[38;5;167;01mKeyError\u001b[39;00m \u001b[38;5;28;01mas\u001b[39;00m err:\n\u001b[0;32m-> 3805\u001b[0m     \u001b[38;5;28;01mraise\u001b[39;00m \u001b[38;5;167;01mKeyError\u001b[39;00m(key) \u001b[38;5;28;01mfrom\u001b[39;00m \u001b[38;5;21;01merr\u001b[39;00m\n\u001b[1;32m   3806\u001b[0m \u001b[38;5;28;01mexcept\u001b[39;00m \u001b[38;5;167;01mTypeError\u001b[39;00m:\n\u001b[1;32m   3807\u001b[0m     \u001b[38;5;66;03m# If we have a listlike key, _check_indexing_error will raise\u001b[39;00m\n\u001b[1;32m   3808\u001b[0m     \u001b[38;5;66;03m#  InvalidIndexError. Otherwise we fall through and re-raise\u001b[39;00m\n\u001b[1;32m   3809\u001b[0m     \u001b[38;5;66;03m#  the TypeError.\u001b[39;00m\n\u001b[1;32m   3810\u001b[0m     \u001b[38;5;28mself\u001b[39m\u001b[38;5;241m.\u001b[39m_check_indexing_error(key)\n",
      "\u001b[0;31mKeyError\u001b[0m: 'CODE'"
     ]
    }
   ],
   "source": [
    "colnames = ['gender','car','reality','income_type','edu_type','family_type','house_type','occup_type','work_phone','home_phone','email','CODE']\n",
    "\n",
    "to_category(train_df, colnames)"
   ]
  },
  {
   "cell_type": "code",
   "execution_count": null,
   "metadata": {
    "colab": {
     "base_uri": "https://localhost:8080/"
    },
    "id": "VAYhDlauoroR",
    "outputId": "feeb3d8f-ccc7-405d-d49d-96ded82870cc"
   },
   "outputs": [],
   "source": [
    "train_df_copy = train_df.copy()\n",
    "test_df_copy = test_df.copy()\n",
    "train_df.info()"
   ]
  },
  {
   "cell_type": "markdown",
   "metadata": {
    "id": "r9hTUn8ervni"
   },
   "source": [
    "## Numerical Data: Scaling"
   ]
  },
  {
   "cell_type": "code",
   "execution_count": null,
   "metadata": {
    "colab": {
     "base_uri": "https://localhost:8080/"
    },
    "id": "JOCJcaoRq-nc",
    "outputId": "ca552094-2b1d-473e-8c1b-830649a940ed"
   },
   "outputs": [],
   "source": [
    "from sklearn.preprocessing import StandardScaler\n",
    "\n",
    "scaling_cols = ['child_num','income_total','days_birth','days_employed','family_size','begin_month']\n",
    "\n",
    "std_scaler = StandardScaler()\n",
    "std_scaler.fit(train_df[scaling_cols])\n",
    "\n",
    "train_scaled = std_scaler.transform(train_df[scaling_cols])\n",
    "test_scaled = std_scaler.transform(test_df[scaling_cols]) # Apply to the test set using the scaler that was fitted with train data!!\n",
    "\n",
    "train_scaled = pd.DataFrame(train_scaled, columns=scaling_cols)\n",
    "test_scaled = pd.DataFrame(test_scaled, columns=scaling_cols)\n",
    "\n",
    "train_scaled.shape, test_scaled.shape"
   ]
  },
  {
   "cell_type": "markdown",
   "metadata": {
    "id": "T_3E4WtfuClv"
   },
   "source": [
    "## Categorical Data: One-hot Encoding"
   ]
  },
  {
   "cell_type": "raw",
   "metadata": {
    "id": "ds9E6jUgtI_5"
   },
   "source": [
    "onehot_cols = ['gender','car','reality','income_type','edu_type','family_type','house_type','occup_type','work_phone','home_phone','email']\n",
    "data = pd.concat([train_df[onehot_cols], test_df[onehot_cols]]) # One-hot encoding using the combination of train and test data"
   ]
  },
  {
   "cell_type": "raw",
   "metadata": {
    "colab": {
     "base_uri": "https://localhost:8080/",
     "height": 317
    },
    "id": "zog4a5_gvR5H",
    "outputId": "b9c284bb-8f28-40f5-947f-f3c87142f054"
   },
   "source": [
    "data = pd.get_dummies(data)\n",
    "data.head()"
   ]
  },
  {
   "cell_type": "raw",
   "metadata": {
    "colab": {
     "base_uri": "https://localhost:8080/"
    },
    "id": "HomFgMTvvgLo",
    "outputId": "14988b5f-72fe-4624-9e1a-d86e6444c362"
   },
   "source": [
    "# data separation\n",
    "data = data.reset_index(drop=True)\n",
    "train_encoded = data.loc[:23391]\n",
    "test_encoded = data.loc[23392:]\n",
    "test_encoded = test_encoded.reset_index(drop=True)\n",
    "train_encoded.shape, test_encoded.shape"
   ]
  },
  {
   "cell_type": "markdown",
   "metadata": {
    "id": "mf-bSBzDw2lA"
   },
   "source": [
    "## Merge scaled numerical data with encoded categorical data"
   ]
  },
  {
   "cell_type": "code",
   "execution_count": null,
   "metadata": {
    "colab": {
     "base_uri": "https://localhost:8080/"
    },
    "id": "5ES6Rc1jv-sK",
    "outputId": "8e9551b9-d2ce-4f70-aecb-12beee6c8239"
   },
   "outputs": [],
   "source": [
    "Train = pd.concat([train_scaled,train_df[colnames]],axis=1) # 원래 train_encoded\n",
    "Train = pd.concat([Train,train_df['credit']],axis=1)\n",
    "\n",
    "Test = pd.concat([test_scaled,test_df[colnames]],axis=1)\n",
    "\n",
    "Train.shape, Test.shape"
   ]
  },
  {
   "cell_type": "code",
   "execution_count": null,
   "metadata": {
    "colab": {
     "base_uri": "https://localhost:8080/"
    },
    "id": "CxamJiCCxA6i",
    "outputId": "c63cffad-8ae8-42ba-d6a7-053313bac5de"
   },
   "outputs": [],
   "source": [
    "Train.columns"
   ]
  },
  {
   "cell_type": "markdown",
   "metadata": {
    "id": "KdTBwKwaxLX2"
   },
   "source": [
    "## Create validation data"
   ]
  },
  {
   "cell_type": "code",
   "execution_count": null,
   "metadata": {
    "id": "H-trNJhfxHPb"
   },
   "outputs": [],
   "source": [
    "x_data = Train.drop(['credit'], axis=1)\n",
    "y_data = Train['credit']"
   ]
  },
  {
   "cell_type": "code",
   "execution_count": null,
   "metadata": {
    "id": "_8bgzvAGxZPo"
   },
   "outputs": [],
   "source": [
    "#from sklearn.model_selection import train_test_split\n",
    "#x_train, x_test, y_train, y_test = train_test_split(x_data, y_data, test_size=0.3, random_state=777)"
   ]
  },
  {
   "cell_type": "markdown",
   "metadata": {
    "id": "UNiOysaqxdAG"
   },
   "source": [
    "## Pycaret"
   ]
  },
  {
   "cell_type": "code",
   "execution_count": null,
   "metadata": {
    "id": "yHSI_k9Q75Pc"
   },
   "outputs": [],
   "source": [
    "#!pip uninstall scikit-learn\n",
    "#!pip install scikit-learn==0.23.2\n",
    "#!pip uninstall numpy\n",
    "#!pip install numpy==1.20.0\n"
   ]
  },
  {
   "cell_type": "code",
   "execution_count": null,
   "metadata": {
    "id": "aRklu9Dp8Jgt"
   },
   "outputs": [],
   "source": [
    "#!pip install scikit-learn==0.23.2\n",
    "\n",
    "#sklearn.__version__"
   ]
  },
  {
   "cell_type": "code",
   "execution_count": null,
   "metadata": {
    "id": "wr6okeW-GXIe"
   },
   "outputs": [],
   "source": [
    "#!pip uninstall sklearn\n",
    "#!pip install scikit-learn==0.23.2\n",
    "#!pip install imbalanced-learn==0.7.0"
   ]
  },
  {
   "cell_type": "code",
   "execution_count": null,
   "metadata": {
    "id": "1Pk944c-GgpJ"
   },
   "outputs": [],
   "source": [
    "#from pycaret.utils import enable_colab\n",
    "#enable_colab()\n",
    "#!pip install pycaret"
   ]
  },
  {
   "cell_type": "code",
   "execution_count": null,
   "metadata": {
    "colab": {
     "base_uri": "https://localhost:8080/",
     "height": 821
    },
    "id": "7Hr0mPn7xxpo",
    "outputId": "34486099-8f55-415f-b70e-106bdf38d322"
   },
   "outputs": [],
   "source": [
    "from pycaret.utils import enable_colab\n",
    "from pycaret.classification import *\n",
    "\n",
    "# setup\n",
    "pycaret_model = setup(Train, target = 'credit', train_size = 0.8, fold = 5, fold_shuffle=True)"
   ]
  },
  {
   "cell_type": "code",
   "execution_count": null,
   "metadata": {
    "id": "pC-19izt6sxF"
   },
   "outputs": [],
   "source": [
    "# Add metric\n",
    "from sklearn.metrics import log_loss\n",
    "add_metric('logloss', 'LogLoss', log_loss, greater_is_better=False, target=\"pred_proba\")"
   ]
  },
  {
   "cell_type": "code",
   "execution_count": null,
   "metadata": {
    "id": "byvQ1-cz_xMJ"
   },
   "outputs": [],
   "source": [
    "# Performance Comparison\n",
    "best5 = compare_models(fold = 5, n_select = 5, sort = 'LogLoss')"
   ]
  },
  {
   "cell_type": "markdown",
   "metadata": {},
   "source": [
    "## Parameter Tuning"
   ]
  },
  {
   "cell_type": "code",
   "execution_count": null,
   "metadata": {},
   "outputs": [],
   "source": [
    "lgbm = create_model('lightgbm')\n",
    "lgbm_tuned = tune_model(lgbm, optimize = 'LogLoss')"
   ]
  },
  {
   "cell_type": "code",
   "execution_count": null,
   "metadata": {},
   "outputs": [],
   "source": [
    "lgbm_tuned"
   ]
  },
  {
   "cell_type": "code",
   "execution_count": null,
   "metadata": {},
   "outputs": [],
   "source": [
    "lgbm_tuned.predict(Test)"
   ]
  },
  {
   "cell_type": "code",
   "execution_count": null,
   "metadata": {},
   "outputs": [],
   "source": []
  }
 ],
 "metadata": {
  "colab": {
   "provenance": []
  },
  "kernelspec": {
   "display_name": "Python 3 (ipykernel)",
   "language": "python",
   "name": "python3"
  },
  "language_info": {
   "codemirror_mode": {
    "name": "ipython",
    "version": 3
   },
   "file_extension": ".py",
   "mimetype": "text/x-python",
   "name": "python",
   "nbconvert_exporter": "python",
   "pygments_lexer": "ipython3",
   "version": "3.8.0"
  }
 },
 "nbformat": 4,
 "nbformat_minor": 4
}
