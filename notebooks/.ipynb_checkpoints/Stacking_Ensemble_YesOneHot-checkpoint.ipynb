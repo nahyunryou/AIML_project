{
  "cells": [
    {
      "cell_type": "markdown",
      "id": "3bb0d1f7-fdb4-48b6-9fcd-f7d9f579c99a",
      "metadata": {
        "id": "3bb0d1f7-fdb4-48b6-9fcd-f7d9f579c99a"
      },
      "source": [
        "# Stacking Ensemble"
      ]
    },
    {
      "cell_type": "code",
      "source": [
        "from google.colab import drive\n",
        "drive.mount('/content/drive')"
      ],
      "metadata": {
        "colab": {
          "base_uri": "https://localhost:8080/"
        },
        "id": "-ew1clGI3SaH",
        "outputId": "51144f90-911e-455c-b5a5-5d7ecc609362"
      },
      "id": "-ew1clGI3SaH",
      "execution_count": 1,
      "outputs": [
        {
          "output_type": "stream",
          "name": "stdout",
          "text": [
            "Mounted at /content/drive\n"
          ]
        }
      ]
    },
    {
      "cell_type": "code",
      "source": [
        "!pip install catboost\n",
        "!pip install optuna"
      ],
      "metadata": {
        "colab": {
          "base_uri": "https://localhost:8080/"
        },
        "id": "NU6xgdke3c8p",
        "outputId": "c7ce3667-2fe9-4136-cfb6-1de5930c1ff0"
      },
      "id": "NU6xgdke3c8p",
      "execution_count": 2,
      "outputs": [
        {
          "output_type": "stream",
          "name": "stdout",
          "text": [
            "Looking in indexes: https://pypi.org/simple, https://us-python.pkg.dev/colab-wheels/public/simple/\n",
            "Collecting catboost\n",
            "  Downloading catboost-1.1.1-cp38-none-manylinux1_x86_64.whl (76.6 MB)\n",
            "\u001b[K     |████████████████████████████████| 76.6 MB 1.2 MB/s \n",
            "\u001b[?25hRequirement already satisfied: six in /usr/local/lib/python3.8/dist-packages (from catboost) (1.15.0)\n",
            "Requirement already satisfied: pandas>=0.24.0 in /usr/local/lib/python3.8/dist-packages (from catboost) (1.3.5)\n",
            "Requirement already satisfied: numpy>=1.16.0 in /usr/local/lib/python3.8/dist-packages (from catboost) (1.21.6)\n",
            "Requirement already satisfied: graphviz in /usr/local/lib/python3.8/dist-packages (from catboost) (0.10.1)\n",
            "Requirement already satisfied: plotly in /usr/local/lib/python3.8/dist-packages (from catboost) (5.5.0)\n",
            "Requirement already satisfied: scipy in /usr/local/lib/python3.8/dist-packages (from catboost) (1.7.3)\n",
            "Requirement already satisfied: matplotlib in /usr/local/lib/python3.8/dist-packages (from catboost) (3.2.2)\n",
            "Requirement already satisfied: pytz>=2017.3 in /usr/local/lib/python3.8/dist-packages (from pandas>=0.24.0->catboost) (2022.6)\n",
            "Requirement already satisfied: python-dateutil>=2.7.3 in /usr/local/lib/python3.8/dist-packages (from pandas>=0.24.0->catboost) (2.8.2)\n",
            "Requirement already satisfied: kiwisolver>=1.0.1 in /usr/local/lib/python3.8/dist-packages (from matplotlib->catboost) (1.4.4)\n",
            "Requirement already satisfied: pyparsing!=2.0.4,!=2.1.2,!=2.1.6,>=2.0.1 in /usr/local/lib/python3.8/dist-packages (from matplotlib->catboost) (3.0.9)\n",
            "Requirement already satisfied: cycler>=0.10 in /usr/local/lib/python3.8/dist-packages (from matplotlib->catboost) (0.11.0)\n",
            "Requirement already satisfied: tenacity>=6.2.0 in /usr/local/lib/python3.8/dist-packages (from plotly->catboost) (8.1.0)\n",
            "Installing collected packages: catboost\n",
            "Successfully installed catboost-1.1.1\n",
            "Looking in indexes: https://pypi.org/simple, https://us-python.pkg.dev/colab-wheels/public/simple/\n",
            "Collecting optuna\n",
            "  Downloading optuna-3.0.4-py3-none-any.whl (348 kB)\n",
            "\u001b[K     |████████████████████████████████| 348 kB 5.4 MB/s \n",
            "\u001b[?25hCollecting cliff\n",
            "  Downloading cliff-4.1.0-py3-none-any.whl (81 kB)\n",
            "\u001b[K     |████████████████████████████████| 81 kB 8.5 MB/s \n",
            "\u001b[?25hCollecting cmaes>=0.8.2\n",
            "  Downloading cmaes-0.9.0-py3-none-any.whl (23 kB)\n",
            "Collecting alembic>=1.5.0\n",
            "  Downloading alembic-1.8.1-py3-none-any.whl (209 kB)\n",
            "\u001b[K     |████████████████████████████████| 209 kB 19.0 MB/s \n",
            "\u001b[?25hRequirement already satisfied: tqdm in /usr/local/lib/python3.8/dist-packages (from optuna) (4.64.1)\n",
            "Requirement already satisfied: PyYAML in /usr/local/lib/python3.8/dist-packages (from optuna) (6.0)\n",
            "Requirement already satisfied: packaging>=20.0 in /usr/local/lib/python3.8/dist-packages (from optuna) (21.3)\n",
            "Requirement already satisfied: importlib-metadata<5.0.0 in /usr/local/lib/python3.8/dist-packages (from optuna) (4.13.0)\n",
            "Collecting colorlog\n",
            "  Downloading colorlog-6.7.0-py2.py3-none-any.whl (11 kB)\n",
            "Requirement already satisfied: sqlalchemy>=1.3.0 in /usr/local/lib/python3.8/dist-packages (from optuna) (1.4.44)\n",
            "Requirement already satisfied: numpy in /usr/local/lib/python3.8/dist-packages (from optuna) (1.21.6)\n",
            "Requirement already satisfied: scipy<1.9.0,>=1.7.0 in /usr/local/lib/python3.8/dist-packages (from optuna) (1.7.3)\n",
            "Requirement already satisfied: importlib-resources in /usr/local/lib/python3.8/dist-packages (from alembic>=1.5.0->optuna) (5.10.0)\n",
            "Collecting Mako\n",
            "  Downloading Mako-1.2.4-py3-none-any.whl (78 kB)\n",
            "\u001b[K     |████████████████████████████████| 78 kB 7.0 MB/s \n",
            "\u001b[?25hRequirement already satisfied: zipp>=0.5 in /usr/local/lib/python3.8/dist-packages (from importlib-metadata<5.0.0->optuna) (3.11.0)\n",
            "Requirement already satisfied: pyparsing!=3.0.5,>=2.0.2 in /usr/local/lib/python3.8/dist-packages (from packaging>=20.0->optuna) (3.0.9)\n",
            "Requirement already satisfied: greenlet!=0.4.17 in /usr/local/lib/python3.8/dist-packages (from sqlalchemy>=1.3.0->optuna) (2.0.1)\n",
            "Collecting autopage>=0.4.0\n",
            "  Downloading autopage-0.5.1-py3-none-any.whl (29 kB)\n",
            "Collecting cmd2>=1.0.0\n",
            "  Downloading cmd2-2.4.2-py3-none-any.whl (147 kB)\n",
            "\u001b[K     |████████████████████████████████| 147 kB 56.2 MB/s \n",
            "\u001b[?25hRequirement already satisfied: PrettyTable>=0.7.2 in /usr/local/lib/python3.8/dist-packages (from cliff->optuna) (3.5.0)\n",
            "Collecting stevedore>=2.0.1\n",
            "  Downloading stevedore-4.1.1-py3-none-any.whl (50 kB)\n",
            "\u001b[K     |████████████████████████████████| 50 kB 5.1 MB/s \n",
            "\u001b[?25hRequirement already satisfied: attrs>=16.3.0 in /usr/local/lib/python3.8/dist-packages (from cmd2>=1.0.0->cliff->optuna) (22.1.0)\n",
            "Collecting pyperclip>=1.6\n",
            "  Downloading pyperclip-1.8.2.tar.gz (20 kB)\n",
            "Requirement already satisfied: wcwidth>=0.1.7 in /usr/local/lib/python3.8/dist-packages (from cmd2>=1.0.0->cliff->optuna) (0.2.5)\n",
            "Collecting pbr!=2.1.0,>=2.0.0\n",
            "  Downloading pbr-5.11.0-py2.py3-none-any.whl (112 kB)\n",
            "\u001b[K     |████████████████████████████████| 112 kB 33.4 MB/s \n",
            "\u001b[?25hRequirement already satisfied: MarkupSafe>=0.9.2 in /usr/local/lib/python3.8/dist-packages (from Mako->alembic>=1.5.0->optuna) (2.0.1)\n",
            "Building wheels for collected packages: pyperclip\n",
            "  Building wheel for pyperclip (setup.py) ... \u001b[?25l\u001b[?25hdone\n",
            "  Created wheel for pyperclip: filename=pyperclip-1.8.2-py3-none-any.whl size=11136 sha256=85d560e89ec32ffc1b241e838c2e7055bcf490a38551df9fbf4aab08c41d4d81\n",
            "  Stored in directory: /root/.cache/pip/wheels/7f/1a/65/84ff8c386bec21fca6d220ea1f5498a0367883a78dd5ba6122\n",
            "Successfully built pyperclip\n",
            "Installing collected packages: pyperclip, pbr, stevedore, Mako, cmd2, autopage, colorlog, cmaes, cliff, alembic, optuna\n",
            "Successfully installed Mako-1.2.4 alembic-1.8.1 autopage-0.5.1 cliff-4.1.0 cmaes-0.9.0 cmd2-2.4.2 colorlog-6.7.0 optuna-3.0.4 pbr-5.11.0 pyperclip-1.8.2 stevedore-4.1.1\n"
          ]
        }
      ]
    },
    {
      "cell_type": "markdown",
      "id": "6e728b35-a6dd-4327-9715-8bfa8f5c5996",
      "metadata": {
        "id": "6e728b35-a6dd-4327-9715-8bfa8f5c5996"
      },
      "source": [
        "## Data"
      ]
    },
    {
      "cell_type": "code",
      "execution_count": 3,
      "id": "f83ce26c-3dfd-40e2-be26-4c8779413f21",
      "metadata": {
        "id": "f83ce26c-3dfd-40e2-be26-4c8779413f21"
      },
      "outputs": [],
      "source": [
        "from typing import Dict, Tuple, Union, List\n",
        "from tqdm import tqdm\n",
        "import pandas as pd\n",
        "import numpy as np\n",
        "from tqdm import tqdm\n",
        "import matplotlib.pyplot as plt\n",
        "import seaborn as sns\n",
        "import os, glob, warnings\n",
        "from itertools import combinations\n",
        "from sklearn.preprocessing import OneHotEncoder\n",
        "from sklearn.model_selection import StratifiedKFold\n",
        "from sklearn.metrics import log_loss, accuracy_score\n",
        "from sklearn.preprocessing import StandardScaler\n",
        "from sklearn.model_selection import cross_val_score\n",
        "from sklearn.ensemble import RandomForestClassifier\n",
        "from lightgbm import LGBMClassifier\n",
        "from sklearn.svm import SVC\n",
        "from catboost import CatBoostClassifier\n",
        "from sklearn.ensemble import StackingClassifier\n",
        "import lightgbm as lgb\n",
        "from sklearn.model_selection import RepeatedStratifiedKFold\n",
        "import optuna\n",
        "import sklearn\n",
        "warnings.filterwarnings('ignore')"
      ]
    },
    {
      "cell_type": "code",
      "execution_count": 4,
      "id": "5996df80-8d54-4e82-bc40-61b2199a8304",
      "metadata": {
        "colab": {
          "base_uri": "https://localhost:8080/",
          "height": 461
        },
        "id": "5996df80-8d54-4e82-bc40-61b2199a8304",
        "outputId": "81cc301b-319b-4fb1-9441-a188fbf4a81c"
      },
      "outputs": [
        {
          "output_type": "execute_result",
          "data": {
            "text/plain": [
              "   Unnamed: 0 gender car reality  child_num  income_total  \\\n",
              "0           0      F   N       N          0      202500.0   \n",
              "1           1      F   N       Y          1      247500.0   \n",
              "2           2      M   Y       Y          0      450000.0   \n",
              "3           3      F   N       Y          0      202500.0   \n",
              "4           4      F   Y       Y          0      157500.0   \n",
              "\n",
              "            income_type                       edu_type     family_type  \\\n",
              "0  Commercial associate               Higher education         Married   \n",
              "1  Commercial associate  Secondary / secondary special  Civil marriage   \n",
              "2               Working               Higher education         Married   \n",
              "3  Commercial associate  Secondary / secondary special         Married   \n",
              "4         State servant               Higher education         Married   \n",
              "\n",
              "            house_type  days_birth  days_employed  work_phone  home_phone  \\\n",
              "0  Municipal apartment       13899           4709           0           0   \n",
              "1    House / apartment       11380           1540           0           0   \n",
              "2    House / apartment       19087           4434           0           1   \n",
              "3    House / apartment       15088           2092           0           1   \n",
              "4    House / apartment       15037           2105           0           0   \n",
              "\n",
              "   email   occup_type  family_size  begin_month  credit  \\\n",
              "0      0       No job          2.0            6     1.0   \n",
              "1      1     Laborers          3.0            5     1.0   \n",
              "2      0     Managers          2.0           22     2.0   \n",
              "3      0  Sales staff          2.0           37     0.0   \n",
              "4      0     Managers          2.0           26     2.0   \n",
              "\n",
              "                                  CODE  \n",
              "0  F-13899202500.0Commercial associate  \n",
              "1  F-11380247500.0Commercial associate  \n",
              "2               M-19087450000.0Working  \n",
              "3  F-15088202500.0Commercial associate  \n",
              "4         F-15037157500.0State servant  "
            ],
            "text/html": [
              "\n",
              "  <div id=\"df-6d7ac432-0d4f-4bcc-a766-95fd4a90c841\">\n",
              "    <div class=\"colab-df-container\">\n",
              "      <div>\n",
              "<style scoped>\n",
              "    .dataframe tbody tr th:only-of-type {\n",
              "        vertical-align: middle;\n",
              "    }\n",
              "\n",
              "    .dataframe tbody tr th {\n",
              "        vertical-align: top;\n",
              "    }\n",
              "\n",
              "    .dataframe thead th {\n",
              "        text-align: right;\n",
              "    }\n",
              "</style>\n",
              "<table border=\"1\" class=\"dataframe\">\n",
              "  <thead>\n",
              "    <tr style=\"text-align: right;\">\n",
              "      <th></th>\n",
              "      <th>Unnamed: 0</th>\n",
              "      <th>gender</th>\n",
              "      <th>car</th>\n",
              "      <th>reality</th>\n",
              "      <th>child_num</th>\n",
              "      <th>income_total</th>\n",
              "      <th>income_type</th>\n",
              "      <th>edu_type</th>\n",
              "      <th>family_type</th>\n",
              "      <th>house_type</th>\n",
              "      <th>days_birth</th>\n",
              "      <th>days_employed</th>\n",
              "      <th>work_phone</th>\n",
              "      <th>home_phone</th>\n",
              "      <th>email</th>\n",
              "      <th>occup_type</th>\n",
              "      <th>family_size</th>\n",
              "      <th>begin_month</th>\n",
              "      <th>credit</th>\n",
              "      <th>CODE</th>\n",
              "    </tr>\n",
              "  </thead>\n",
              "  <tbody>\n",
              "    <tr>\n",
              "      <th>0</th>\n",
              "      <td>0</td>\n",
              "      <td>F</td>\n",
              "      <td>N</td>\n",
              "      <td>N</td>\n",
              "      <td>0</td>\n",
              "      <td>202500.0</td>\n",
              "      <td>Commercial associate</td>\n",
              "      <td>Higher education</td>\n",
              "      <td>Married</td>\n",
              "      <td>Municipal apartment</td>\n",
              "      <td>13899</td>\n",
              "      <td>4709</td>\n",
              "      <td>0</td>\n",
              "      <td>0</td>\n",
              "      <td>0</td>\n",
              "      <td>No job</td>\n",
              "      <td>2.0</td>\n",
              "      <td>6</td>\n",
              "      <td>1.0</td>\n",
              "      <td>F-13899202500.0Commercial associate</td>\n",
              "    </tr>\n",
              "    <tr>\n",
              "      <th>1</th>\n",
              "      <td>1</td>\n",
              "      <td>F</td>\n",
              "      <td>N</td>\n",
              "      <td>Y</td>\n",
              "      <td>1</td>\n",
              "      <td>247500.0</td>\n",
              "      <td>Commercial associate</td>\n",
              "      <td>Secondary / secondary special</td>\n",
              "      <td>Civil marriage</td>\n",
              "      <td>House / apartment</td>\n",
              "      <td>11380</td>\n",
              "      <td>1540</td>\n",
              "      <td>0</td>\n",
              "      <td>0</td>\n",
              "      <td>1</td>\n",
              "      <td>Laborers</td>\n",
              "      <td>3.0</td>\n",
              "      <td>5</td>\n",
              "      <td>1.0</td>\n",
              "      <td>F-11380247500.0Commercial associate</td>\n",
              "    </tr>\n",
              "    <tr>\n",
              "      <th>2</th>\n",
              "      <td>2</td>\n",
              "      <td>M</td>\n",
              "      <td>Y</td>\n",
              "      <td>Y</td>\n",
              "      <td>0</td>\n",
              "      <td>450000.0</td>\n",
              "      <td>Working</td>\n",
              "      <td>Higher education</td>\n",
              "      <td>Married</td>\n",
              "      <td>House / apartment</td>\n",
              "      <td>19087</td>\n",
              "      <td>4434</td>\n",
              "      <td>0</td>\n",
              "      <td>1</td>\n",
              "      <td>0</td>\n",
              "      <td>Managers</td>\n",
              "      <td>2.0</td>\n",
              "      <td>22</td>\n",
              "      <td>2.0</td>\n",
              "      <td>M-19087450000.0Working</td>\n",
              "    </tr>\n",
              "    <tr>\n",
              "      <th>3</th>\n",
              "      <td>3</td>\n",
              "      <td>F</td>\n",
              "      <td>N</td>\n",
              "      <td>Y</td>\n",
              "      <td>0</td>\n",
              "      <td>202500.0</td>\n",
              "      <td>Commercial associate</td>\n",
              "      <td>Secondary / secondary special</td>\n",
              "      <td>Married</td>\n",
              "      <td>House / apartment</td>\n",
              "      <td>15088</td>\n",
              "      <td>2092</td>\n",
              "      <td>0</td>\n",
              "      <td>1</td>\n",
              "      <td>0</td>\n",
              "      <td>Sales staff</td>\n",
              "      <td>2.0</td>\n",
              "      <td>37</td>\n",
              "      <td>0.0</td>\n",
              "      <td>F-15088202500.0Commercial associate</td>\n",
              "    </tr>\n",
              "    <tr>\n",
              "      <th>4</th>\n",
              "      <td>4</td>\n",
              "      <td>F</td>\n",
              "      <td>Y</td>\n",
              "      <td>Y</td>\n",
              "      <td>0</td>\n",
              "      <td>157500.0</td>\n",
              "      <td>State servant</td>\n",
              "      <td>Higher education</td>\n",
              "      <td>Married</td>\n",
              "      <td>House / apartment</td>\n",
              "      <td>15037</td>\n",
              "      <td>2105</td>\n",
              "      <td>0</td>\n",
              "      <td>0</td>\n",
              "      <td>0</td>\n",
              "      <td>Managers</td>\n",
              "      <td>2.0</td>\n",
              "      <td>26</td>\n",
              "      <td>2.0</td>\n",
              "      <td>F-15037157500.0State servant</td>\n",
              "    </tr>\n",
              "  </tbody>\n",
              "</table>\n",
              "</div>\n",
              "      <button class=\"colab-df-convert\" onclick=\"convertToInteractive('df-6d7ac432-0d4f-4bcc-a766-95fd4a90c841')\"\n",
              "              title=\"Convert this dataframe to an interactive table.\"\n",
              "              style=\"display:none;\">\n",
              "        \n",
              "  <svg xmlns=\"http://www.w3.org/2000/svg\" height=\"24px\"viewBox=\"0 0 24 24\"\n",
              "       width=\"24px\">\n",
              "    <path d=\"M0 0h24v24H0V0z\" fill=\"none\"/>\n",
              "    <path d=\"M18.56 5.44l.94 2.06.94-2.06 2.06-.94-2.06-.94-.94-2.06-.94 2.06-2.06.94zm-11 1L8.5 8.5l.94-2.06 2.06-.94-2.06-.94L8.5 2.5l-.94 2.06-2.06.94zm10 10l.94 2.06.94-2.06 2.06-.94-2.06-.94-.94-2.06-.94 2.06-2.06.94z\"/><path d=\"M17.41 7.96l-1.37-1.37c-.4-.4-.92-.59-1.43-.59-.52 0-1.04.2-1.43.59L10.3 9.45l-7.72 7.72c-.78.78-.78 2.05 0 2.83L4 21.41c.39.39.9.59 1.41.59.51 0 1.02-.2 1.41-.59l7.78-7.78 2.81-2.81c.8-.78.8-2.07 0-2.86zM5.41 20L4 18.59l7.72-7.72 1.47 1.35L5.41 20z\"/>\n",
              "  </svg>\n",
              "      </button>\n",
              "      \n",
              "  <style>\n",
              "    .colab-df-container {\n",
              "      display:flex;\n",
              "      flex-wrap:wrap;\n",
              "      gap: 12px;\n",
              "    }\n",
              "\n",
              "    .colab-df-convert {\n",
              "      background-color: #E8F0FE;\n",
              "      border: none;\n",
              "      border-radius: 50%;\n",
              "      cursor: pointer;\n",
              "      display: none;\n",
              "      fill: #1967D2;\n",
              "      height: 32px;\n",
              "      padding: 0 0 0 0;\n",
              "      width: 32px;\n",
              "    }\n",
              "\n",
              "    .colab-df-convert:hover {\n",
              "      background-color: #E2EBFA;\n",
              "      box-shadow: 0px 1px 2px rgba(60, 64, 67, 0.3), 0px 1px 3px 1px rgba(60, 64, 67, 0.15);\n",
              "      fill: #174EA6;\n",
              "    }\n",
              "\n",
              "    [theme=dark] .colab-df-convert {\n",
              "      background-color: #3B4455;\n",
              "      fill: #D2E3FC;\n",
              "    }\n",
              "\n",
              "    [theme=dark] .colab-df-convert:hover {\n",
              "      background-color: #434B5C;\n",
              "      box-shadow: 0px 1px 3px 1px rgba(0, 0, 0, 0.15);\n",
              "      filter: drop-shadow(0px 1px 2px rgba(0, 0, 0, 0.3));\n",
              "      fill: #FFFFFF;\n",
              "    }\n",
              "  </style>\n",
              "\n",
              "      <script>\n",
              "        const buttonEl =\n",
              "          document.querySelector('#df-6d7ac432-0d4f-4bcc-a766-95fd4a90c841 button.colab-df-convert');\n",
              "        buttonEl.style.display =\n",
              "          google.colab.kernel.accessAllowed ? 'block' : 'none';\n",
              "\n",
              "        async function convertToInteractive(key) {\n",
              "          const element = document.querySelector('#df-6d7ac432-0d4f-4bcc-a766-95fd4a90c841');\n",
              "          const dataTable =\n",
              "            await google.colab.kernel.invokeFunction('convertToInteractive',\n",
              "                                                     [key], {});\n",
              "          if (!dataTable) return;\n",
              "\n",
              "          const docLinkHtml = 'Like what you see? Visit the ' +\n",
              "            '<a target=\"_blank\" href=https://colab.research.google.com/notebooks/data_table.ipynb>data table notebook</a>'\n",
              "            + ' to learn more about interactive tables.';\n",
              "          element.innerHTML = '';\n",
              "          dataTable['output_type'] = 'display_data';\n",
              "          await google.colab.output.renderOutput(dataTable, element);\n",
              "          const docLink = document.createElement('div');\n",
              "          docLink.innerHTML = docLinkHtml;\n",
              "          element.appendChild(docLink);\n",
              "        }\n",
              "      </script>\n",
              "    </div>\n",
              "  </div>\n",
              "  "
            ]
          },
          "metadata": {},
          "execution_count": 4
        }
      ],
      "source": [
        "train_df=pd.read_csv(\"/content/drive/MyDrive/MLforAI_proj/data/cleaned_train.csv\")\n",
        "test_df=pd.read_csv(\"/content/drive/MyDrive/MLforAI_proj/data/cleaned_test.csv\")\n",
        "\n",
        "train_df.head()"
      ]
    },
    {
      "cell_type": "markdown",
      "id": "3153ab41-bd52-4f6b-b942-bddacc461c0b",
      "metadata": {
        "id": "3153ab41-bd52-4f6b-b942-bddacc461c0b"
      },
      "source": [
        "## Preprocessing"
      ]
    },
    {
      "cell_type": "markdown",
      "id": "c6beb9b5-1f99-43e7-95da-b1aa2e3f4984",
      "metadata": {
        "id": "c6beb9b5-1f99-43e7-95da-b1aa2e3f4984"
      },
      "source": [
        "### Numerical Data: Scaling"
      ]
    },
    {
      "cell_type": "code",
      "execution_count": 5,
      "id": "d9ecd7f4-7d09-4121-9beb-6a6113cc3a1e",
      "metadata": {
        "id": "d9ecd7f4-7d09-4121-9beb-6a6113cc3a1e"
      },
      "outputs": [],
      "source": [
        "def num_data_scale(train_df, test_df, scaling_cols=None):\n",
        "    \n",
        "    scaling_cols = ['child_num','income_total','days_birth','days_employed','family_size','begin_month']\n",
        "\n",
        "    std_scaler = StandardScaler()\n",
        "    std_scaler.fit(train_df[scaling_cols])\n",
        "\n",
        "    train_scaled = std_scaler.transform(train_df[scaling_cols])\n",
        "    test_scaled = std_scaler.transform(test_df[scaling_cols]) # Apply to the test set using the scaler that was fitted with train data!!\n",
        "\n",
        "    train_scaled = pd.DataFrame(train_scaled, columns=scaling_cols)\n",
        "    test_scaled = pd.DataFrame(test_scaled, columns=scaling_cols)\n",
        "\n",
        "    train_scaled.shape, test_scaled.shape\n",
        "    \n",
        "    return train_scaled, test_scaled"
      ]
    },
    {
      "cell_type": "code",
      "execution_count": 6,
      "id": "a40509c9-b9a2-483e-b7de-2a42a47f0a99",
      "metadata": {
        "id": "a40509c9-b9a2-483e-b7de-2a42a47f0a99"
      },
      "outputs": [],
      "source": [
        "train_scaled, test_scaled = num_data_scale(train_df, test_df)"
      ]
    },
    {
      "cell_type": "markdown",
      "id": "5d7082e6-5b3b-47b5-836e-1fab433a3caa",
      "metadata": {
        "id": "5d7082e6-5b3b-47b5-836e-1fab433a3caa"
      },
      "source": [
        "### Categorical Data"
      ]
    },
    {
      "cell_type": "code",
      "source": [
        "train_df.dtypes"
      ],
      "metadata": {
        "colab": {
          "base_uri": "https://localhost:8080/"
        },
        "id": "lhDx_Ay8_7XY",
        "outputId": "9d90a5bd-ce74-4387-fdb6-36063e42d567"
      },
      "id": "lhDx_Ay8_7XY",
      "execution_count": 11,
      "outputs": [
        {
          "output_type": "execute_result",
          "data": {
            "text/plain": [
              "Unnamed: 0          int64\n",
              "gender           category\n",
              "car              category\n",
              "reality          category\n",
              "child_num           int64\n",
              "income_total      float64\n",
              "income_type      category\n",
              "edu_type         category\n",
              "family_type      category\n",
              "house_type       category\n",
              "days_birth          int64\n",
              "days_employed       int64\n",
              "work_phone       category\n",
              "home_phone       category\n",
              "email            category\n",
              "occup_type       category\n",
              "family_size       float64\n",
              "begin_month         int64\n",
              "credit            float64\n",
              "CODE               object\n",
              "dtype: object"
            ]
          },
          "metadata": {},
          "execution_count": 11
        }
      ]
    },
    {
      "cell_type": "code",
      "source": [
        "cat_cols = ['gender','car','reality','income_type','edu_type','family_type','house_type','occup_type','work_phone','home_phone','email']\n",
        "\n",
        "train_df[cat_cols] = train_df[cat_cols].astype('category')\n",
        "test_df[cat_cols] = test_df[cat_cols].astype('category')\n",
        "train_df.dtypes"
      ],
      "metadata": {
        "colab": {
          "base_uri": "https://localhost:8080/"
        },
        "id": "ZTTYQfT5_hKF",
        "outputId": "762be7d7-df21-4837-8643-a85261d3eaa1"
      },
      "id": "ZTTYQfT5_hKF",
      "execution_count": 12,
      "outputs": [
        {
          "output_type": "execute_result",
          "data": {
            "text/plain": [
              "Unnamed: 0          int64\n",
              "gender           category\n",
              "car              category\n",
              "reality          category\n",
              "child_num           int64\n",
              "income_total      float64\n",
              "income_type      category\n",
              "edu_type         category\n",
              "family_type      category\n",
              "house_type       category\n",
              "days_birth          int64\n",
              "days_employed       int64\n",
              "work_phone       category\n",
              "home_phone       category\n",
              "email            category\n",
              "occup_type       category\n",
              "family_size       float64\n",
              "begin_month         int64\n",
              "credit            float64\n",
              "CODE               object\n",
              "dtype: object"
            ]
          },
          "metadata": {},
          "execution_count": 12
        }
      ]
    },
    {
      "cell_type": "markdown",
      "id": "31be44a5-9009-426b-85e3-794722ec960b",
      "metadata": {
        "id": "31be44a5-9009-426b-85e3-794722ec960b"
      },
      "source": [
        "### Merge scaled numerical data with categorical data"
      ]
    },
    {
      "cell_type": "code",
      "execution_count": 13,
      "id": "69f1fb29-0810-4ac7-b4d9-343a68ac191b",
      "metadata": {
        "id": "69f1fb29-0810-4ac7-b4d9-343a68ac191b"
      },
      "outputs": [],
      "source": [
        "def merge_scaled_cat(cat_cols, train_scaled, test_scaled, train, test):\n",
        "    \n",
        "    Train = pd.concat([train_scaled,train[cat_cols]],axis=1)\n",
        "    Train = pd.concat([Train,train_df['credit']],axis=1)\n",
        "\n",
        "    Test = pd.concat([test_scaled,test[cat_cols]],axis=1)\n",
        "\n",
        "    Train.shape, Test.shape\n",
        "    \n",
        "    return Train, Test"
      ]
    },
    {
      "cell_type": "code",
      "execution_count": 14,
      "id": "0e80a91d-a145-46f8-810d-3c027739f6b5",
      "metadata": {
        "id": "0e80a91d-a145-46f8-810d-3c027739f6b5"
      },
      "outputs": [],
      "source": [
        "Train, Test = merge_scaled_cat(cat_cols, train_scaled, test_scaled, train_df, test_df)"
      ]
    },
    {
      "cell_type": "markdown",
      "id": "570651c1-6d02-483e-952c-90fabd5a5f7a",
      "metadata": {
        "id": "570651c1-6d02-483e-952c-90fabd5a5f7a"
      },
      "source": [
        "## Split Training and Validation set"
      ]
    },
    {
      "cell_type": "code",
      "execution_count": 15,
      "id": "c4783507-8f94-4764-b221-a80c55f126cd",
      "metadata": {
        "id": "c4783507-8f94-4764-b221-a80c55f126cd"
      },
      "outputs": [],
      "source": [
        "x = Train.drop(['credit'], axis=1)\n",
        "y = Train['credit']"
      ]
    },
    {
      "cell_type": "code",
      "execution_count": 16,
      "id": "0e017752-d0fd-452f-9e97-cb36a49f5117",
      "metadata": {
        "id": "0e017752-d0fd-452f-9e97-cb36a49f5117"
      },
      "outputs": [],
      "source": [
        "from sklearn.model_selection import train_test_split\n",
        "train_x, valid_x, train_y, valid_y = train_test_split(x, y, test_size=0.25)"
      ]
    },
    {
      "cell_type": "markdown",
      "id": "79bb01c1-70b9-4f72-8a16-26c4e60c03b6",
      "metadata": {
        "id": "79bb01c1-70b9-4f72-8a16-26c4e60c03b6"
      },
      "source": [
        "## Model Train\n"
      ]
    },
    {
      "cell_type": "markdown",
      "id": "023b752b-666e-4927-913a-bbdaca1e23aa",
      "metadata": {
        "id": "023b752b-666e-4927-913a-bbdaca1e23aa"
      },
      "source": [
        "### CatBoost"
      ]
    },
    {
      "cell_type": "code",
      "source": [
        "train_x.dtypes"
      ],
      "metadata": {
        "colab": {
          "base_uri": "https://localhost:8080/"
        },
        "id": "1SaKGNmXAp8Q",
        "outputId": "ed431ba8-65f1-414b-d577-7a82ee8277cd"
      },
      "id": "1SaKGNmXAp8Q",
      "execution_count": 19,
      "outputs": [
        {
          "output_type": "execute_result",
          "data": {
            "text/plain": [
              "child_num         float64\n",
              "income_total      float64\n",
              "days_birth        float64\n",
              "days_employed     float64\n",
              "family_size       float64\n",
              "begin_month       float64\n",
              "gender           category\n",
              "car              category\n",
              "reality          category\n",
              "income_type      category\n",
              "edu_type         category\n",
              "family_type      category\n",
              "house_type       category\n",
              "occup_type       category\n",
              "work_phone       category\n",
              "home_phone       category\n",
              "email            category\n",
              "dtype: object"
            ]
          },
          "metadata": {},
          "execution_count": 19
        }
      ]
    },
    {
      "cell_type": "code",
      "source": [
        "# FYI: Objective functions can take additional arguments\n",
        "# (https://optuna.readthedocs.io/en/stable/faq.html#objective-func-additional-args).\n",
        "\n",
        "from sklearn.metrics import log_loss\n",
        "\n",
        "def objective(trial):\n",
        "    param = {\n",
        "      \"random_state\":42,\n",
        "      'learning_rate' : trial.suggest_loguniform('learning_rate', 0.01, 0.3),\n",
        "      'bagging_temperature' :trial.suggest_loguniform('bagging_temperature', 0.01, 100.00),\n",
        "      \"n_estimators\":trial.suggest_int(\"n_estimators\", 1000, 10000),\n",
        "      \"max_depth\":trial.suggest_int(\"max_depth\", 4, 16),\n",
        "      'random_strength' :trial.suggest_int('random_strength', 0, 100),\n",
        "      \"colsample_bylevel\":trial.suggest_float(\"colsample_bylevel\", 0.4, 1.0),\n",
        "      \"l2_leaf_reg\":trial.suggest_float(\"l2_leaf_reg\",1e-5,3e-3),\n",
        "      \"min_child_samples\": trial.suggest_int(\"min_child_samples\", 5, 100),\n",
        "      \"max_bin\": trial.suggest_int(\"max_bin\", 200, 500),\n",
        "      'od_type': trial.suggest_categorical('od_type', ['IncToDec', 'Iter']),\n",
        "  }\n",
        "    cat_features = [6, 7, 8, 9, 10, 11, 12, 13, 14, 15, 16]\n",
        "\n",
        "    cat = CatBoostClassifier(**param)\n",
        "    cat.fit(train_x, train_y,\n",
        "          eval_set=[(train_x, train_y), (valid_x,valid_y)],\n",
        "          early_stopping_rounds=35,cat_features=cat_features,\n",
        "          verbose=100)\n",
        "    preds = cat.predict_proba(valid_x)\n",
        "    log_score = log_loss(valid_y, preds)\n",
        "    # pred_labels = []\n",
        "    # for i in range(0,len(preds)):\n",
        "    #     pred_labels.append(np.argmax(preds[i]))\n",
        "    # accuracy = cal_acc(valid_y_label, pred_labels)\n",
        "    return log_score\n",
        "\n",
        "# def cal_acc(true, pred):\n",
        "#     return np.mean(true==pred)\n",
        "\n",
        "study = optuna.create_study(direction=\"minimize\")\n",
        "study.optimize(objective, n_trials=10)\n",
        "\n",
        "print(\"Number of finished trials: {}\".format(len(study.trials)))\n",
        "\n",
        "print(\"Best trial:\")\n",
        "trial = study.best_trial\n",
        "\n",
        "print(\"  Value: {}\".format(trial.value))\n",
        "\n",
        "print(\"  Params: \")\n",
        "for key, value in trial.params.items():\n",
        "    print(\"    {}: {}\".format(key, value))"
      ],
      "metadata": {
        "colab": {
          "base_uri": "https://localhost:8080/"
        },
        "id": "TWuEHHQIPdZ4",
        "outputId": "0eea2efb-c8c5-4218-91c7-b82e221e29b6"
      },
      "id": "TWuEHHQIPdZ4",
      "execution_count": null,
      "outputs": [
        {
          "output_type": "stream",
          "name": "stderr",
          "text": [
            "\u001b[32m[I 2022-12-15 09:01:19,468]\u001b[0m A new study created in memory with name: no-name-46236ca7-038a-4cbb-9efa-4d85ea5ead66\u001b[0m\n"
          ]
        },
        {
          "output_type": "stream",
          "name": "stdout",
          "text": [
            "0:\tlearn: 1.0747225\ttest: 1.0748358\ttest1: 1.0745157\tbest: 1.0745157 (0)\ttotal: 211ms\tremaining: 28m 59s\n",
            "100:\tlearn: 0.8665462\ttest: 0.8684931\ttest1: 0.8697610\tbest: 0.8697610 (100)\ttotal: 5.04s\tremaining: 6m 47s\n",
            "200:\tlearn: 0.8532648\ttest: 0.8571620\ttest1: 0.8587115\tbest: 0.8587115 (200)\ttotal: 9.31s\tremaining: 6m 13s\n",
            "300:\tlearn: 0.8215971\ttest: 0.8273457\ttest1: 0.8269112\tbest: 0.8269112 (300)\ttotal: 14.3s\tremaining: 6m 17s\n",
            "400:\tlearn: 0.7403102\ttest: 0.7677367\ttest1: 0.7914191\tbest: 0.7914191 (400)\ttotal: 27.3s\tremaining: 8m 54s\n",
            "500:\tlearn: 0.6556579\ttest: 0.7053579\ttest1: 0.7750862\tbest: 0.7750862 (500)\ttotal: 40.3s\tremaining: 10m 24s\n",
            "600:\tlearn: 0.5911548\ttest: 0.6591186\ttest1: 0.7669315\tbest: 0.7668563 (593)\ttotal: 55.4s\tremaining: 11m 46s\n",
            "700:\tlearn: 0.5386620\ttest: 0.6247401\ttest1: 0.7638085\tbest: 0.7636277 (695)\ttotal: 1m 9s\tremaining: 12m 27s\n",
            "800:\tlearn: 0.4922801\ttest: 0.5941861\ttest1: 0.7615665\tbest: 0.7615238 (796)\ttotal: 1m 21s\tremaining: 12m 41s\n",
            "Stopped by overfitting detector  (35 iterations wait)\n",
            "\n",
            "bestTest = 0.7605703818\n",
            "bestIteration = 862\n",
            "\n",
            "Shrink model to first 863 iterations.\n"
          ]
        },
        {
          "output_type": "stream",
          "name": "stderr",
          "text": [
            "\u001b[32m[I 2022-12-15 09:02:54,691]\u001b[0m Trial 0 finished with value: 0.7605703817791983 and parameters: {'learning_rate': 0.04212185911801781, 'bagging_temperature': 0.5963546389342657, 'n_estimators': 8261, 'max_depth': 9, 'random_strength': 84, 'colsample_bylevel': 0.7405507762072601, 'l2_leaf_reg': 0.0002431668606338835, 'min_child_samples': 46, 'max_bin': 316, 'od_type': 'Iter'}. Best is trial 0 with value: 0.7605703817791983.\u001b[0m\n"
          ]
        },
        {
          "output_type": "stream",
          "name": "stdout",
          "text": [
            "0:\tlearn: 1.0178769\ttest: 1.0179777\ttest1: 1.0184203\tbest: 1.0184203 (0)\ttotal: 65.5ms\tremaining: 5m 10s\n",
            "100:\tlearn: 0.7726167\ttest: 0.7834648\ttest1: 0.8006542\tbest: 0.8006542 (100)\ttotal: 5.15s\tremaining: 3m 56s\n",
            "200:\tlearn: 0.6893879\ttest: 0.7219367\ttest1: 0.7864073\tbest: 0.7864029 (199)\ttotal: 12s\tremaining: 4m 32s\n",
            "300:\tlearn: 0.6278075\ttest: 0.6758098\ttest1: 0.7801557\tbest: 0.7792458 (284)\ttotal: 18.9s\tremaining: 4m 39s\n"
          ]
        },
        {
          "output_type": "stream",
          "name": "stderr",
          "text": [
            "\u001b[32m[I 2022-12-15 09:03:15,102]\u001b[0m Trial 1 finished with value: 0.779245821989022 and parameters: {'learning_rate': 0.20583945177809734, 'bagging_temperature': 0.9519006511129131, 'n_estimators': 4742, 'max_depth': 6, 'random_strength': 98, 'colsample_bylevel': 0.8676689145631035, 'l2_leaf_reg': 0.0002673630579368639, 'min_child_samples': 62, 'max_bin': 364, 'od_type': 'IncToDec'}. Best is trial 0 with value: 0.7605703817791983.\u001b[0m\n"
          ]
        },
        {
          "output_type": "stream",
          "name": "stdout",
          "text": [
            "Stopped by overfitting detector  (35 iterations wait)\n",
            "\n",
            "bestTest = 0.779245822\n",
            "bestIteration = 284\n",
            "\n",
            "Shrink model to first 285 iterations.\n",
            "0:\tlearn: 1.0747848\ttest: 1.0747859\ttest1: 1.0744499\tbest: 1.0744499 (0)\ttotal: 78.2ms\tremaining: 7m 48s\n",
            "100:\tlearn: 0.8659139\ttest: 0.8690301\ttest1: 0.8703743\tbest: 0.8703743 (100)\ttotal: 4.88s\tremaining: 4m 44s\n",
            "200:\tlearn: 0.8489524\ttest: 0.8544092\ttest1: 0.8563951\tbest: 0.8563951 (200)\ttotal: 11.1s\tremaining: 5m 20s\n",
            "300:\tlearn: 0.8148272\ttest: 0.8223172\ttest1: 0.8216089\tbest: 0.8216089 (300)\ttotal: 17.7s\tremaining: 5m 35s\n",
            "400:\tlearn: 0.7070431\ttest: 0.7477065\ttest1: 0.7864464\tbest: 0.7864464 (400)\ttotal: 34s\tremaining: 7m 54s\n",
            "500:\tlearn: 0.5952889\ttest: 0.6718993\ttest1: 0.7680001\tbest: 0.7679799 (498)\ttotal: 53.2s\tremaining: 9m 43s\n",
            "600:\tlearn: 0.5202988\ttest: 0.6276632\ttest1: 0.7619192\tbest: 0.7617988 (598)\ttotal: 1m 12s\tremaining: 10m 48s\n"
          ]
        },
        {
          "output_type": "stream",
          "name": "stderr",
          "text": [
            "\u001b[32m[I 2022-12-15 09:04:42,669]\u001b[0m Trial 2 finished with value: 0.760166296469151 and parameters: {'learning_rate': 0.042160387747143833, 'bagging_temperature': 0.3282090502235695, 'n_estimators': 5995, 'max_depth': 10, 'random_strength': 85, 'colsample_bylevel': 0.7796209312442455, 'l2_leaf_reg': 0.0028771201813585943, 'min_child_samples': 67, 'max_bin': 488, 'od_type': 'Iter'}. Best is trial 2 with value: 0.760166296469151.\u001b[0m\n"
          ]
        },
        {
          "output_type": "stream",
          "name": "stdout",
          "text": [
            "Stopped by overfitting detector  (35 iterations wait)\n",
            "\n",
            "bestTest = 0.7601662965\n",
            "bestIteration = 645\n",
            "\n",
            "Shrink model to first 646 iterations.\n",
            "0:\tlearn: 1.0809051\ttest: 1.0809076\ttest1: 1.0806593\tbest: 1.0806593 (0)\ttotal: 65.4ms\tremaining: 5m 45s\n",
            "100:\tlearn: 0.8447053\ttest: 0.8457491\ttest1: 0.8436279\tbest: 0.8436279 (100)\ttotal: 3.45s\tremaining: 2m 57s\n",
            "200:\tlearn: 0.8321535\ttest: 0.8347087\ttest1: 0.8328437\tbest: 0.8328437 (200)\ttotal: 7.26s\tremaining: 3m 3s\n",
            "300:\tlearn: 0.8243905\ttest: 0.8284974\ttest1: 0.8271610\tbest: 0.8271610 (300)\ttotal: 10.9s\tremaining: 3m\n",
            "400:\tlearn: 0.8086160\ttest: 0.8159727\ttest1: 0.8158511\tbest: 0.8158488 (399)\ttotal: 15.4s\tremaining: 3m 7s\n",
            "500:\tlearn: 0.7893002\ttest: 0.8011113\ttest1: 0.8074885\tbest: 0.8074885 (500)\ttotal: 23.1s\tremaining: 3m 40s\n",
            "600:\tlearn: 0.7737559\ttest: 0.7889121\ttest1: 0.8021619\tbest: 0.8021619 (600)\ttotal: 29.2s\tremaining: 3m 47s\n",
            "700:\tlearn: 0.7600924\ttest: 0.7783321\ttest1: 0.7986764\tbest: 0.7986764 (700)\ttotal: 35.3s\tremaining: 3m 50s\n",
            "800:\tlearn: 0.7472928\ttest: 0.7693880\ttest1: 0.7962428\tbest: 0.7962428 (800)\ttotal: 44s\tremaining: 4m 6s\n",
            "900:\tlearn: 0.7349083\ttest: 0.7609906\ttest1: 0.7941379\tbest: 0.7941379 (900)\ttotal: 51.4s\tremaining: 4m 10s\n",
            "1000:\tlearn: 0.7232910\ttest: 0.7525611\ttest1: 0.7924143\tbest: 0.7923871 (997)\ttotal: 57.4s\tremaining: 4m 5s\n",
            "1100:\tlearn: 0.7124912\ttest: 0.7450136\ttest1: 0.7907582\tbest: 0.7907582 (1100)\ttotal: 1m 3s\tremaining: 4m 1s\n",
            "1200:\tlearn: 0.7014802\ttest: 0.7367066\ttest1: 0.7888101\tbest: 0.7888101 (1200)\ttotal: 1m 9s\tremaining: 3m 56s\n",
            "1300:\tlearn: 0.6912801\ttest: 0.7290828\ttest1: 0.7870708\tbest: 0.7870708 (1300)\ttotal: 1m 15s\tremaining: 3m 51s\n",
            "1400:\tlearn: 0.6815509\ttest: 0.7224779\ttest1: 0.7853078\tbest: 0.7853078 (1400)\ttotal: 1m 21s\tremaining: 3m 46s\n",
            "1500:\tlearn: 0.6722772\ttest: 0.7161556\ttest1: 0.7845061\tbest: 0.7844991 (1485)\ttotal: 1m 27s\tremaining: 3m 41s\n",
            "1600:\tlearn: 0.6631825\ttest: 0.7094578\ttest1: 0.7836440\tbest: 0.7836025 (1598)\ttotal: 1m 34s\tremaining: 3m 37s\n",
            "1700:\tlearn: 0.6549746\ttest: 0.7034199\ttest1: 0.7827801\tbest: 0.7827557 (1697)\ttotal: 1m 40s\tremaining: 3m 31s\n",
            "1800:\tlearn: 0.6461226\ttest: 0.6967400\ttest1: 0.7816432\tbest: 0.7816432 (1800)\ttotal: 1m 46s\tremaining: 3m 26s\n",
            "1900:\tlearn: 0.6385242\ttest: 0.6912989\ttest1: 0.7806581\tbest: 0.7806581 (1900)\ttotal: 1m 52s\tremaining: 3m 20s\n",
            "2000:\tlearn: 0.6308797\ttest: 0.6861835\ttest1: 0.7799398\tbest: 0.7799398 (2000)\ttotal: 1m 58s\tremaining: 3m 14s\n",
            "2100:\tlearn: 0.6233384\ttest: 0.6806948\ttest1: 0.7794858\tbest: 0.7794858 (2100)\ttotal: 2m 4s\tremaining: 3m 9s\n",
            "2200:\tlearn: 0.6163080\ttest: 0.6757768\ttest1: 0.7789221\tbest: 0.7789221 (2200)\ttotal: 2m 11s\tremaining: 3m 3s\n",
            "2300:\tlearn: 0.6089787\ttest: 0.6704364\ttest1: 0.7780942\tbest: 0.7780888 (2299)\ttotal: 2m 17s\tremaining: 2m 58s\n",
            "2400:\tlearn: 0.6015036\ttest: 0.6648891\ttest1: 0.7776502\tbest: 0.7776502 (2400)\ttotal: 2m 23s\tremaining: 2m 52s\n",
            "2500:\tlearn: 0.5946704\ttest: 0.6600165\ttest1: 0.7770430\tbest: 0.7770210 (2496)\ttotal: 2m 29s\tremaining: 2m 46s\n",
            "2600:\tlearn: 0.5878338\ttest: 0.6546827\ttest1: 0.7764689\tbest: 0.7764689 (2600)\ttotal: 2m 36s\tremaining: 2m 41s\n",
            "Stopped by overfitting detector  (35 iterations wait)\n",
            "\n",
            "bestTest = 0.7762976336\n",
            "bestIteration = 2633\n",
            "\n",
            "Shrink model to first 2634 iterations.\n"
          ]
        },
        {
          "output_type": "stream",
          "name": "stderr",
          "text": [
            "\u001b[32m[I 2022-12-15 09:07:23,836]\u001b[0m Trial 3 finished with value: 0.7762976336112879 and parameters: {'learning_rate': 0.03114882015721375, 'bagging_temperature': 2.981449898451019, 'n_estimators': 5285, 'max_depth': 6, 'random_strength': 43, 'colsample_bylevel': 0.7329428615842708, 'l2_leaf_reg': 0.00234784655898025, 'min_child_samples': 74, 'max_bin': 474, 'od_type': 'Iter'}. Best is trial 2 with value: 0.760166296469151.\u001b[0m\n"
          ]
        },
        {
          "output_type": "stream",
          "name": "stdout",
          "text": [
            "0:\tlearn: 1.0166621\ttest: 1.0167322\ttest1: 1.0171347\tbest: 1.0171347 (0)\ttotal: 49.2ms\tremaining: 5m 17s\n",
            "100:\tlearn: 0.3702532\ttest: 0.5709848\ttest1: 0.8021272\tbest: 0.7911285 (78)\ttotal: 30.8s\tremaining: 32m 20s\n"
          ]
        },
        {
          "output_type": "stream",
          "name": "stderr",
          "text": [
            "\u001b[32m[I 2022-12-15 09:08:02,471]\u001b[0m Trial 4 finished with value: 0.7911284547411661 and parameters: {'learning_rate': 0.20904345011637007, 'bagging_temperature': 0.02614236942498587, 'n_estimators': 6456, 'max_depth': 13, 'random_strength': 36, 'colsample_bylevel': 0.5446018002886834, 'l2_leaf_reg': 0.001636961416057921, 'min_child_samples': 23, 'max_bin': 392, 'od_type': 'IncToDec'}. Best is trial 2 with value: 0.760166296469151.\u001b[0m\n"
          ]
        },
        {
          "output_type": "stream",
          "name": "stdout",
          "text": [
            "Stopped by overfitting detector  (35 iterations wait)\n",
            "\n",
            "bestTest = 0.7911284547\n",
            "bestIteration = 78\n",
            "\n",
            "Shrink model to first 79 iterations.\n",
            "0:\tlearn: 1.0799761\ttest: 1.0799824\ttest1: 1.0800829\tbest: 1.0800829 (0)\ttotal: 62.6ms\tremaining: 8m 28s\n",
            "100:\tlearn: 0.8731217\ttest: 0.8755229\ttest1: 0.8776226\tbest: 0.8776226 (100)\ttotal: 4.2s\tremaining: 5m 34s\n",
            "200:\tlearn: 0.8607280\ttest: 0.8656677\ttest1: 0.8686864\tbest: 0.8686864 (200)\ttotal: 8.35s\tremaining: 5m 29s\n",
            "300:\tlearn: 0.8086970\ttest: 0.8170288\ttest1: 0.8168891\tbest: 0.8168891 (300)\ttotal: 14.9s\tremaining: 6m 27s\n",
            "400:\tlearn: 0.6887110\ttest: 0.7418937\ttest1: 0.7863391\tbest: 0.7863391 (400)\ttotal: 30s\tremaining: 9m 38s\n",
            "500:\tlearn: 0.5680148\ttest: 0.6564798\ttest1: 0.7689968\tbest: 0.7689866 (499)\ttotal: 44.5s\tremaining: 11m 16s\n",
            "600:\tlearn: 0.4879204\ttest: 0.6059334\ttest1: 0.7640892\tbest: 0.7639021 (591)\ttotal: 58s\tremaining: 12m 5s\n"
          ]
        },
        {
          "output_type": "stream",
          "name": "stderr",
          "text": [
            "\u001b[32m[I 2022-12-15 09:09:04,439]\u001b[0m Trial 5 finished with value: 0.7639020716200046 and parameters: {'learning_rate': 0.043430148172493674, 'bagging_temperature': 0.7746066626329725, 'n_estimators': 8124, 'max_depth': 10, 'random_strength': 63, 'colsample_bylevel': 0.5607273434957483, 'l2_leaf_reg': 0.002309105432525371, 'min_child_samples': 98, 'max_bin': 280, 'od_type': 'IncToDec'}. Best is trial 2 with value: 0.760166296469151.\u001b[0m\n"
          ]
        },
        {
          "output_type": "stream",
          "name": "stdout",
          "text": [
            "Stopped by overfitting detector  (35 iterations wait)\n",
            "\n",
            "bestTest = 0.7639020716\n",
            "bestIteration = 591\n",
            "\n",
            "Shrink model to first 592 iterations.\n",
            "0:\tlearn: 1.0551871\ttest: 1.0551871\ttest1: 1.0554343\tbest: 1.0554343 (0)\ttotal: 17.4ms\tremaining: 2m 7s\n"
          ]
        },
        {
          "output_type": "stream",
          "name": "stderr",
          "text": [
            "\u001b[32m[I 2022-12-15 09:09:05,639]\u001b[0m Trial 6 finished with value: 0.8885146715108054 and parameters: {'learning_rate': 0.10470315375758248, 'bagging_temperature': 98.23276759571633, 'n_estimators': 7349, 'max_depth': 7, 'random_strength': 6, 'colsample_bylevel': 0.8707569184081829, 'l2_leaf_reg': 2.3268442027372277e-05, 'min_child_samples': 29, 'max_bin': 274, 'od_type': 'Iter'}. Best is trial 2 with value: 0.760166296469151.\u001b[0m\n"
          ]
        },
        {
          "output_type": "stream",
          "name": "stdout",
          "text": [
            "Stopped by overfitting detector  (35 iterations wait)\n",
            "\n",
            "bestTest = 0.8885146715\n",
            "bestIteration = 53\n",
            "\n",
            "Shrink model to first 54 iterations.\n",
            "0:\tlearn: 1.0421444\ttest: 1.0421444\ttest1: 1.0460092\tbest: 1.0460092 (0)\ttotal: 154ms\tremaining: 5m 50s\n"
          ]
        },
        {
          "output_type": "stream",
          "name": "stderr",
          "text": [
            "\u001b[32m[I 2022-12-15 09:09:21,443]\u001b[0m Trial 7 finished with value: 0.8068412322890036 and parameters: {'learning_rate': 0.1223926463396039, 'bagging_temperature': 22.56887283223947, 'n_estimators': 2277, 'max_depth': 10, 'random_strength': 34, 'colsample_bylevel': 0.8537899528686694, 'l2_leaf_reg': 0.002865478025907042, 'min_child_samples': 67, 'max_bin': 284, 'od_type': 'IncToDec'}. Best is trial 2 with value: 0.760166296469151.\u001b[0m\n"
          ]
        },
        {
          "output_type": "stream",
          "name": "stdout",
          "text": [
            "Stopped by overfitting detector  (35 iterations wait)\n",
            "\n",
            "bestTest = 0.8068412323\n",
            "bestIteration = 57\n",
            "\n",
            "Shrink model to first 58 iterations.\n",
            "0:\tlearn: 1.0892216\ttest: 1.0892216\ttest1: 1.0907973\tbest: 1.0907973 (0)\ttotal: 992ms\tremaining: 2h 11m 18s\n",
            "100:\tlearn: 0.7340187\ttest: 0.7810950\ttest1: 0.8341137\tbest: 0.8341137 (100)\ttotal: 1m 14s\tremaining: 1h 36m 46s\n"
          ]
        }
      ]
    },
    {
      "cell_type": "code",
      "execution_count": null,
      "id": "9518bf4a-1320-4187-89e0-93b3e129b277",
      "metadata": {
        "id": "9518bf4a-1320-4187-89e0-93b3e129b277",
        "colab": {
          "base_uri": "https://localhost:8080/"
        },
        "outputId": "57b507cc-8adb-4bb2-de53-89ee17f1a0b1"
      },
      "outputs": [
        {
          "output_type": "execute_result",
          "data": {
            "text/plain": [
              "{'learning_rate': 0.15362257723138087,\n",
              " 'bagging_temperature': 3.273339035163163,\n",
              " 'n_estimators': 7334,\n",
              " 'max_depth': 9,\n",
              " 'random_strength': 40,\n",
              " 'colsample_bylevel': 0.6926796188277347,\n",
              " 'l2_leaf_reg': 0.0001443758305860141,\n",
              " 'min_child_samples': 49,\n",
              " 'max_bin': 396,\n",
              " 'od_type': 'IncToDec'}"
            ]
          },
          "metadata": {},
          "execution_count": 37
        }
      ],
      "source": [
        "ctb_best = study.best_params\n",
        "ctb_best"
      ]
    },
    {
      "cell_type": "markdown",
      "id": "cd6891f2-194f-4c50-80eb-434a9e6683cf",
      "metadata": {
        "id": "cd6891f2-194f-4c50-80eb-434a9e6683cf"
      },
      "source": [
        "### Random Forest"
      ]
    },
    {
      "cell_type": "code",
      "execution_count": null,
      "id": "bf49ac27-05fa-450c-9b07-ae007a2a368f",
      "metadata": {
        "id": "bf49ac27-05fa-450c-9b07-ae007a2a368f",
        "colab": {
          "base_uri": "https://localhost:8080/"
        },
        "outputId": "7af564cb-06e9-4aca-cc67-41a9c5652d6f"
      },
      "outputs": [
        {
          "output_type": "stream",
          "name": "stderr",
          "text": [
            "\u001b[32m[I 2022-12-13 15:57:27,781]\u001b[0m A new study created in memory with name: no-name-7c326310-0a1d-4ca6-bd33-44c5f2b1b586\u001b[0m\n",
            "\u001b[32m[I 2022-12-13 15:57:28,167]\u001b[0m Trial 0 finished with value: 0.6537717601547389 and parameters: {'max_depth': 2}. Best is trial 0 with value: 0.6537717601547389.\u001b[0m\n",
            "\u001b[32m[I 2022-12-13 15:57:28,893]\u001b[0m Trial 1 finished with value: 0.6890178379540082 and parameters: {'max_depth': 11}. Best is trial 1 with value: 0.6890178379540082.\u001b[0m\n",
            "\u001b[32m[I 2022-12-13 15:57:29,098]\u001b[0m Trial 2 finished with value: 0.6385665162260907 and parameters: {'max_depth': 2}. Best is trial 1 with value: 0.6890178379540082.\u001b[0m\n",
            "\u001b[32m[I 2022-12-13 15:57:29,759]\u001b[0m Trial 3 finished with value: 0.6752632710079519 and parameters: {'max_depth': 24}. Best is trial 1 with value: 0.6890178379540082.\u001b[0m\n",
            "\u001b[32m[I 2022-12-13 15:57:30,065]\u001b[0m Trial 4 finished with value: 0.6803675048355898 and parameters: {'max_depth': 7}. Best is trial 1 with value: 0.6890178379540082.\u001b[0m\n",
            "\u001b[32m[I 2022-12-13 15:57:30,382]\u001b[0m Trial 5 finished with value: 0.6833763163550398 and parameters: {'max_depth': 7}. Best is trial 1 with value: 0.6890178379540082.\u001b[0m\n",
            "\u001b[32m[I 2022-12-13 15:57:30,642]\u001b[0m Trial 6 finished with value: 0.677036320653342 and parameters: {'max_depth': 4}. Best is trial 1 with value: 0.6890178379540082.\u001b[0m\n",
            "\u001b[32m[I 2022-12-13 15:57:31,004]\u001b[0m Trial 7 finished with value: 0.6875671609714162 and parameters: {'max_depth': 9}. Best is trial 1 with value: 0.6890178379540082.\u001b[0m\n",
            "\u001b[32m[I 2022-12-13 15:57:31,282]\u001b[0m Trial 8 finished with value: 0.6644100580270792 and parameters: {'max_depth': 5}. Best is trial 1 with value: 0.6890178379540082.\u001b[0m\n",
            "\u001b[32m[I 2022-12-13 15:57:31,509]\u001b[0m Trial 9 finished with value: 0.6553836234687299 and parameters: {'max_depth': 2}. Best is trial 1 with value: 0.6890178379540082.\u001b[0m\n",
            "\u001b[32m[I 2022-12-13 15:57:32,067]\u001b[0m Trial 10 finished with value: 0.6860627552116915 and parameters: {'max_depth': 18}. Best is trial 1 with value: 0.6890178379540082.\u001b[0m\n",
            "\u001b[32m[I 2022-12-13 15:57:32,504]\u001b[0m Trial 11 finished with value: 0.6872447883086181 and parameters: {'max_depth': 12}. Best is trial 1 with value: 0.6890178379540082.\u001b[0m\n",
            "\u001b[32m[I 2022-12-13 15:57:32,916]\u001b[0m Trial 12 finished with value: 0.6885880077369438 and parameters: {'max_depth': 12}. Best is trial 1 with value: 0.6890178379540082.\u001b[0m\n",
            "\u001b[32m[I 2022-12-13 15:57:33,413]\u001b[0m Trial 13 finished with value: 0.6893939393939394 and parameters: {'max_depth': 16}. Best is trial 13 with value: 0.6893939393939394.\u001b[0m\n",
            "\u001b[32m[I 2022-12-13 15:57:34,106]\u001b[0m Trial 14 finished with value: 0.6569954867827208 and parameters: {'max_depth': 32}. Best is trial 13 with value: 0.6893939393939394.\u001b[0m\n",
            "\u001b[32m[I 2022-12-13 15:57:34,636]\u001b[0m Trial 15 finished with value: 0.6847732645604987 and parameters: {'max_depth': 18}. Best is trial 13 with value: 0.6893939393939394.\u001b[0m\n",
            "\u001b[32m[I 2022-12-13 15:57:35,060]\u001b[0m Trial 16 finished with value: 0.6899312271652698 and parameters: {'max_depth': 13}. Best is trial 16 with value: 0.6899312271652698.\u001b[0m\n",
            "\u001b[32m[I 2022-12-13 15:57:35,581]\u001b[0m Trial 17 finished with value: 0.6875671609714162 and parameters: {'max_depth': 17}. Best is trial 16 with value: 0.6899312271652698.\u001b[0m\n",
            "\u001b[32m[I 2022-12-13 15:57:35,839]\u001b[0m Trial 18 finished with value: 0.6678486997635934 and parameters: {'max_depth': 4}. Best is trial 16 with value: 0.6899312271652698.\u001b[0m\n",
            "\u001b[32m[I 2022-12-13 15:57:36,510]\u001b[0m Trial 19 finished with value: 0.6647324306898774 and parameters: {'max_depth': 30}. Best is trial 16 with value: 0.6899312271652698.\u001b[0m\n",
            "\u001b[32m[I 2022-12-13 15:57:37,004]\u001b[0m Trial 20 finished with value: 0.6886417365140769 and parameters: {'max_depth': 16}. Best is trial 16 with value: 0.6899312271652698.\u001b[0m\n",
            "\u001b[32m[I 2022-12-13 15:57:37,386]\u001b[0m Trial 21 finished with value: 0.6885880077369438 and parameters: {'max_depth': 11}. Best is trial 16 with value: 0.6899312271652698.\u001b[0m\n",
            "\u001b[32m[I 2022-12-13 15:57:37,744]\u001b[0m Trial 22 finished with value: 0.6799914033956588 and parameters: {'max_depth': 9}. Best is trial 16 with value: 0.6899312271652698.\u001b[0m\n",
            "\u001b[32m[I 2022-12-13 15:57:38,332]\u001b[0m Trial 23 finished with value: 0.6810122501611863 and parameters: {'max_depth': 22}. Best is trial 16 with value: 0.6899312271652698.\u001b[0m\n",
            "\u001b[32m[I 2022-12-13 15:57:38,821]\u001b[0m Trial 24 finished with value: 0.6872985170857512 and parameters: {'max_depth': 14}. Best is trial 16 with value: 0.6899312271652698.\u001b[0m\n",
            "\u001b[32m[I 2022-12-13 15:57:39,176]\u001b[0m Trial 25 finished with value: 0.6876208897485494 and parameters: {'max_depth': 10}. Best is trial 16 with value: 0.6899312271652698.\u001b[0m\n",
            "\u001b[32m[I 2022-12-13 15:57:39,811]\u001b[0m Trial 26 finished with value: 0.6742424242424242 and parameters: {'max_depth': 24}. Best is trial 16 with value: 0.6899312271652698.\u001b[0m\n",
            "\u001b[32m[I 2022-12-13 15:57:40,096]\u001b[0m Trial 27 finished with value: 0.6801525897270578 and parameters: {'max_depth': 6}. Best is trial 16 with value: 0.6899312271652698.\u001b[0m\n",
            "\u001b[32m[I 2022-12-13 15:57:40,550]\u001b[0m Trial 28 finished with value: 0.6906297012679992 and parameters: {'max_depth': 14}. Best is trial 28 with value: 0.6906297012679992.\u001b[0m\n",
            "\u001b[32m[I 2022-12-13 15:57:40,999]\u001b[0m Trial 29 finished with value: 0.6884268214055448 and parameters: {'max_depth': 14}. Best is trial 28 with value: 0.6906297012679992.\u001b[0m\n",
            "\u001b[32m[I 2022-12-13 15:57:41,328]\u001b[0m Trial 30 finished with value: 0.6842897055663014 and parameters: {'max_depth': 8}. Best is trial 28 with value: 0.6906297012679992.\u001b[0m\n",
            "\u001b[32m[I 2022-12-13 15:57:41,790]\u001b[0m Trial 31 finished with value: 0.6884268214055448 and parameters: {'max_depth': 14}. Best is trial 28 with value: 0.6906297012679992.\u001b[0m\n",
            "\u001b[32m[I 2022-12-13 15:57:42,369]\u001b[0m Trial 32 finished with value: 0.6781646249731357 and parameters: {'max_depth': 21}. Best is trial 28 with value: 0.6906297012679992.\u001b[0m\n",
            "\u001b[32m[I 2022-12-13 15:57:42,792]\u001b[0m Trial 33 finished with value: 0.6879432624113475 and parameters: {'max_depth': 12}. Best is trial 28 with value: 0.6906297012679992.\u001b[0m\n",
            "\u001b[32m[I 2022-12-13 15:57:43,267]\u001b[0m Trial 34 finished with value: 0.6868686868686869 and parameters: {'max_depth': 15}. Best is trial 28 with value: 0.6906297012679992.\u001b[0m\n",
            "\u001b[32m[I 2022-12-13 15:57:43,849]\u001b[0m Trial 35 finished with value: 0.6825703846980442 and parameters: {'max_depth': 20}. Best is trial 28 with value: 0.6906297012679992.\u001b[0m\n",
            "\u001b[32m[I 2022-12-13 15:57:44,509]\u001b[0m Trial 36 finished with value: 0.6691919191919191 and parameters: {'max_depth': 27}. Best is trial 28 with value: 0.6906297012679992.\u001b[0m\n",
            "\u001b[32m[I 2022-12-13 15:57:44,907]\u001b[0m Trial 37 finished with value: 0.6862239415430905 and parameters: {'max_depth': 10}. Best is trial 28 with value: 0.6906297012679992.\u001b[0m\n",
            "\u001b[32m[I 2022-12-13 15:57:45,234]\u001b[0m Trial 38 finished with value: 0.6872985170857512 and parameters: {'max_depth': 8}. Best is trial 28 with value: 0.6906297012679992.\u001b[0m\n",
            "\u001b[32m[I 2022-12-13 15:57:45,524]\u001b[0m Trial 39 finished with value: 0.6814958091553837 and parameters: {'max_depth': 6}. Best is trial 28 with value: 0.6906297012679992.\u001b[0m\n",
            "\u001b[32m[I 2022-12-13 15:57:45,764]\u001b[0m Trial 40 finished with value: 0.670373952288846 and parameters: {'max_depth': 3}. Best is trial 28 with value: 0.6906297012679992.\u001b[0m\n",
            "\u001b[32m[I 2022-12-13 15:57:46,272]\u001b[0m Trial 41 finished with value: 0.6891252955082742 and parameters: {'max_depth': 16}. Best is trial 28 with value: 0.6906297012679992.\u001b[0m\n",
            "\u001b[32m[I 2022-12-13 15:57:46,706]\u001b[0m Trial 42 finished with value: 0.6862239415430905 and parameters: {'max_depth': 13}. Best is trial 28 with value: 0.6906297012679992.\u001b[0m\n",
            "\u001b[32m[I 2022-12-13 15:57:47,265]\u001b[0m Trial 43 finished with value: 0.6874059746400172 and parameters: {'max_depth': 19}. Best is trial 28 with value: 0.6906297012679992.\u001b[0m\n",
            "\u001b[32m[I 2022-12-13 15:57:47,753]\u001b[0m Trial 44 finished with value: 0.6880507199656135 and parameters: {'max_depth': 16}. Best is trial 28 with value: 0.6906297012679992.\u001b[0m\n",
            "\u001b[32m[I 2022-12-13 15:57:48,409]\u001b[0m Trial 45 finished with value: 0.6683322587577907 and parameters: {'max_depth': 25}. Best is trial 28 with value: 0.6906297012679992.\u001b[0m\n",
            "\u001b[32m[I 2022-12-13 15:57:48,799]\u001b[0m Trial 46 finished with value: 0.6873522458628841 and parameters: {'max_depth': 11}. Best is trial 28 with value: 0.6906297012679992.\u001b[0m\n",
            "\u001b[32m[I 2022-12-13 15:57:49,157]\u001b[0m Trial 47 finished with value: 0.6864388566516225 and parameters: {'max_depth': 9}. Best is trial 28 with value: 0.6906297012679992.\u001b[0m\n",
            "\u001b[32m[I 2022-12-13 15:57:49,710]\u001b[0m Trial 48 finished with value: 0.6874597034171502 and parameters: {'max_depth': 18}. Best is trial 28 with value: 0.6906297012679992.\u001b[0m\n",
            "\u001b[32m[I 2022-12-13 15:57:50,159]\u001b[0m Trial 49 finished with value: 0.6884268214055448 and parameters: {'max_depth': 13}. Best is trial 28 with value: 0.6906297012679992.\u001b[0m\n",
            "\u001b[32m[I 2022-12-13 15:57:50,571]\u001b[0m Trial 50 finished with value: 0.6876746185256822 and parameters: {'max_depth': 11}. Best is trial 28 with value: 0.6906297012679992.\u001b[0m\n",
            "\u001b[32m[I 2022-12-13 15:57:51,080]\u001b[0m Trial 51 finished with value: 0.6911132602621964 and parameters: {'max_depth': 16}. Best is trial 51 with value: 0.6911132602621964.\u001b[0m\n",
            "\u001b[32m[I 2022-12-13 15:57:51,597]\u001b[0m Trial 52 finished with value: 0.6872447883086181 and parameters: {'max_depth': 17}. Best is trial 51 with value: 0.6911132602621964.\u001b[0m\n",
            "\u001b[32m[I 2022-12-13 15:57:52,072]\u001b[0m Trial 53 finished with value: 0.6911132602621964 and parameters: {'max_depth': 15}. Best is trial 51 with value: 0.6911132602621964.\u001b[0m\n",
            "\u001b[32m[I 2022-12-13 15:57:52,686]\u001b[0m Trial 54 finished with value: 0.6783258113045347 and parameters: {'max_depth': 22}. Best is trial 51 with value: 0.6911132602621964.\u001b[0m\n",
            "\u001b[32m[I 2022-12-13 15:57:53,167]\u001b[0m Trial 55 finished with value: 0.6874059746400172 and parameters: {'max_depth': 15}. Best is trial 51 with value: 0.6911132602621964.\u001b[0m\n",
            "\u001b[32m[I 2022-12-13 15:57:53,725]\u001b[0m Trial 56 finished with value: 0.6843971631205674 and parameters: {'max_depth': 19}. Best is trial 51 with value: 0.6911132602621964.\u001b[0m\n",
            "\u001b[32m[I 2022-12-13 15:57:54,399]\u001b[0m Trial 57 finished with value: 0.6684934450891897 and parameters: {'max_depth': 27}. Best is trial 51 with value: 0.6911132602621964.\u001b[0m\n",
            "\u001b[32m[I 2022-12-13 15:57:54,813]\u001b[0m Trial 58 finished with value: 0.6885342789598109 and parameters: {'max_depth': 12}. Best is trial 51 with value: 0.6911132602621964.\u001b[0m\n",
            "\u001b[32m[I 2022-12-13 15:57:55,327]\u001b[0m Trial 59 finished with value: 0.6872447883086181 and parameters: {'max_depth': 16}. Best is trial 51 with value: 0.6911132602621964.\u001b[0m\n",
            "\u001b[32m[I 2022-12-13 15:57:55,934]\u001b[0m Trial 60 finished with value: 0.6800988609499248 and parameters: {'max_depth': 22}. Best is trial 51 with value: 0.6911132602621964.\u001b[0m\n",
            "\u001b[32m[I 2022-12-13 15:57:56,310]\u001b[0m Trial 61 finished with value: 0.6880507199656135 and parameters: {'max_depth': 10}. Best is trial 51 with value: 0.6911132602621964.\u001b[0m\n",
            "\u001b[32m[I 2022-12-13 15:57:56,749]\u001b[0m Trial 62 finished with value: 0.6873522458628841 and parameters: {'max_depth': 13}. Best is trial 51 with value: 0.6911132602621964.\u001b[0m\n",
            "\u001b[32m[I 2022-12-13 15:57:57,223]\u001b[0m Trial 63 finished with value: 0.690414786159467 and parameters: {'max_depth': 15}. Best is trial 51 with value: 0.6911132602621964.\u001b[0m\n",
            "\u001b[32m[I 2022-12-13 15:57:57,738]\u001b[0m Trial 64 finished with value: 0.6858478401031592 and parameters: {'max_depth': 17}. Best is trial 51 with value: 0.6911132602621964.\u001b[0m\n",
            "\u001b[32m[I 2022-12-13 15:57:58,222]\u001b[0m Trial 65 finished with value: 0.6888029228454761 and parameters: {'max_depth': 15}. Best is trial 51 with value: 0.6911132602621964.\u001b[0m\n",
            "\u001b[32m[I 2022-12-13 15:57:58,796]\u001b[0m Trial 66 finished with value: 0.6823017408123792 and parameters: {'max_depth': 20}. Best is trial 51 with value: 0.6911132602621964.\u001b[0m\n",
            "\u001b[32m[I 2022-12-13 15:57:59,255]\u001b[0m Trial 67 finished with value: 0.6877820760799485 and parameters: {'max_depth': 14}. Best is trial 51 with value: 0.6911132602621964.\u001b[0m\n",
            "\u001b[32m[I 2022-12-13 15:57:59,794]\u001b[0m Trial 68 finished with value: 0.687029873200086 and parameters: {'max_depth': 18}. Best is trial 51 with value: 0.6911132602621964.\u001b[0m\n",
            "\u001b[32m[I 2022-12-13 15:58:00,278]\u001b[0m Trial 69 finished with value: 0.6884805501826778 and parameters: {'max_depth': 13}. Best is trial 51 with value: 0.6911132602621964.\u001b[0m\n",
            "\u001b[32m[I 2022-12-13 15:58:00,768]\u001b[0m Trial 70 finished with value: 0.6889641091768751 and parameters: {'max_depth': 16}. Best is trial 51 with value: 0.6911132602621964.\u001b[0m\n",
            "\u001b[32m[I 2022-12-13 15:58:01,162]\u001b[0m Trial 71 finished with value: 0.6864925854287556 and parameters: {'max_depth': 11}. Best is trial 51 with value: 0.6911132602621964.\u001b[0m\n",
            "\u001b[32m[I 2022-12-13 15:58:01,625]\u001b[0m Trial 72 finished with value: 0.6884805501826778 and parameters: {'max_depth': 14}. Best is trial 51 with value: 0.6911132602621964.\u001b[0m\n",
            "\u001b[32m[I 2022-12-13 15:58:01,966]\u001b[0m Trial 73 finished with value: 0.6860090264345583 and parameters: {'max_depth': 8}. Best is trial 51 with value: 0.6911132602621964.\u001b[0m\n",
            "\u001b[32m[I 2022-12-13 15:58:02,395]\u001b[0m Trial 74 finished with value: 0.6872985170857512 and parameters: {'max_depth': 12}. Best is trial 51 with value: 0.6911132602621964.\u001b[0m\n",
            "\u001b[32m[I 2022-12-13 15:58:02,869]\u001b[0m Trial 75 finished with value: 0.6885342789598109 and parameters: {'max_depth': 15}. Best is trial 51 with value: 0.6911132602621964.\u001b[0m\n",
            "\u001b[32m[I 2022-12-13 15:58:03,234]\u001b[0m Trial 76 finished with value: 0.6875134321942834 and parameters: {'max_depth': 10}. Best is trial 51 with value: 0.6911132602621964.\u001b[0m\n",
            "\u001b[32m[I 2022-12-13 15:58:03,765]\u001b[0m Trial 77 finished with value: 0.6876208897485494 and parameters: {'max_depth': 17}. Best is trial 51 with value: 0.6911132602621964.\u001b[0m\n",
            "\u001b[32m[I 2022-12-13 15:58:04,340]\u001b[0m Trial 78 finished with value: 0.6818719105953148 and parameters: {'max_depth': 20}. Best is trial 51 with value: 0.6911132602621964.\u001b[0m\n",
            "\u001b[32m[I 2022-12-13 15:58:04,581]\u001b[0m Trial 79 finished with value: 0.642381259402536 and parameters: {'max_depth': 3}. Best is trial 51 with value: 0.6911132602621964.\u001b[0m\n",
            "\u001b[32m[I 2022-12-13 15:58:04,932]\u001b[0m Trial 80 finished with value: 0.6869761444229529 and parameters: {'max_depth': 9}. Best is trial 51 with value: 0.6911132602621964.\u001b[0m\n",
            "\u001b[32m[I 2022-12-13 15:58:05,436]\u001b[0m Trial 81 finished with value: 0.6877283473028154 and parameters: {'max_depth': 16}. Best is trial 51 with value: 0.6911132602621964.\u001b[0m\n",
            "\u001b[32m[I 2022-12-13 15:58:05,869]\u001b[0m Trial 82 finished with value: 0.6890715667311413 and parameters: {'max_depth': 13}. Best is trial 51 with value: 0.6911132602621964.\u001b[0m\n",
            "\u001b[32m[I 2022-12-13 15:58:06,304]\u001b[0m Trial 83 finished with value: 0.6898237696110036 and parameters: {'max_depth': 13}. Best is trial 51 with value: 0.6911132602621964.\u001b[0m\n",
            "\u001b[32m[I 2022-12-13 15:58:06,753]\u001b[0m Trial 84 finished with value: 0.6869761444229529 and parameters: {'max_depth': 13}. Best is trial 51 with value: 0.6911132602621964.\u001b[0m\n",
            "\u001b[32m[I 2022-12-13 15:58:07,369]\u001b[0m Trial 85 finished with value: 0.677197506984741 and parameters: {'max_depth': 24}. Best is trial 51 with value: 0.6911132602621964.\u001b[0m\n",
            "\u001b[32m[I 2022-12-13 15:58:07,776]\u001b[0m Trial 86 finished with value: 0.6875134321942832 and parameters: {'max_depth': 12}. Best is trial 51 with value: 0.6911132602621964.\u001b[0m\n",
            "\u001b[32m[I 2022-12-13 15:58:08,250]\u001b[0m Trial 87 finished with value: 0.6897700408338706 and parameters: {'max_depth': 15}. Best is trial 51 with value: 0.6911132602621964.\u001b[0m\n",
            "\u001b[32m[I 2022-12-13 15:58:08,817]\u001b[0m Trial 88 finished with value: 0.6857403825488931 and parameters: {'max_depth': 19}. Best is trial 51 with value: 0.6911132602621964.\u001b[0m\n",
            "\u001b[32m[I 2022-12-13 15:58:09,258]\u001b[0m Trial 89 finished with value: 0.6883193638512788 and parameters: {'max_depth': 14}. Best is trial 51 with value: 0.6911132602621964.\u001b[0m\n",
            "\u001b[32m[I 2022-12-13 15:58:09,660]\u001b[0m Trial 90 finished with value: 0.6881581775198796 and parameters: {'max_depth': 11}. Best is trial 51 with value: 0.6911132602621964.\u001b[0m\n",
            "\u001b[32m[I 2022-12-13 15:58:10,137]\u001b[0m Trial 91 finished with value: 0.6879969911884807 and parameters: {'max_depth': 15}. Best is trial 51 with value: 0.6911132602621964.\u001b[0m\n",
            "\u001b[32m[I 2022-12-13 15:58:10,705]\u001b[0m Trial 92 finished with value: 0.68869546529121 and parameters: {'max_depth': 18}. Best is trial 51 with value: 0.6911132602621964.\u001b[0m\n",
            "\u001b[32m[I 2022-12-13 15:58:11,113]\u001b[0m Trial 93 finished with value: 0.6875134321942832 and parameters: {'max_depth': 12}. Best is trial 51 with value: 0.6911132602621964.\u001b[0m\n",
            "\u001b[32m[I 2022-12-13 15:58:11,598]\u001b[0m Trial 94 finished with value: 0.6864925854287556 and parameters: {'max_depth': 15}. Best is trial 51 with value: 0.6911132602621964.\u001b[0m\n",
            "\u001b[32m[I 2022-12-13 15:58:12,068]\u001b[0m Trial 95 finished with value: 0.6891790242854072 and parameters: {'max_depth': 14}. Best is trial 51 with value: 0.6911132602621964.\u001b[0m\n",
            "\u001b[32m[I 2022-12-13 15:58:12,585]\u001b[0m Trial 96 finished with value: 0.6863313990973565 and parameters: {'max_depth': 17}. Best is trial 51 with value: 0.6911132602621964.\u001b[0m\n",
            "\u001b[32m[I 2022-12-13 15:58:13,188]\u001b[0m Trial 97 finished with value: 0.6784869976359338 and parameters: {'max_depth': 22}. Best is trial 51 with value: 0.6911132602621964.\u001b[0m\n",
            "\u001b[32m[I 2022-12-13 15:58:13,641]\u001b[0m Trial 98 finished with value: 0.6897163120567376 and parameters: {'max_depth': 14}. Best is trial 51 with value: 0.6911132602621964.\u001b[0m\n",
            "\u001b[32m[I 2022-12-13 15:58:14,085]\u001b[0m Trial 99 finished with value: 0.6893402106168064 and parameters: {'max_depth': 14}. Best is trial 51 with value: 0.6911132602621964.\u001b[0m\n"
          ]
        },
        {
          "output_type": "stream",
          "name": "stdout",
          "text": [
            "Number of finished trials: 100\n",
            "Best trial:\n",
            "  Value: 0.6911132602621964\n",
            "  Params: \n",
            "    max_depth: 16\n"
          ]
        }
      ],
      "source": [
        "def objective(trial):\n",
        "\n",
        "    rf_max_depth = trial.suggest_int(\"max_depth\", 2, 32, log=True)\n",
        "    classifier_obj = sklearn.ensemble.RandomForestClassifier(\n",
        "        max_depth=rf_max_depth, n_estimators=10)\n",
        "    score = sklearn.model_selection.cross_val_score(classifier_obj, train_x, train_y, n_jobs=-1, cv=5, scoring=\"neg_log_loss\")\n",
        "    log_score = score.mean()\n",
        "    return log_score\n",
        "\n",
        "study = optuna.create_study(direction=\"maximize\")\n",
        "study.optimize(objective, n_trials=10)\n",
        "\n",
        "print(\"Number of finished trials: {}\".format(len(study.trials)))\n",
        "\n",
        "print(\"Best trial:\")\n",
        "trial = study.best_trial\n",
        "\n",
        "print(\"  Value: {}\".format(trial.value))\n",
        "\n",
        "print(\"  Params: \")\n",
        "for key, value in trial.params.items():\n",
        "    print(\"    {}: {}\".format(key, value))"
      ]
    },
    {
      "cell_type": "code",
      "execution_count": null,
      "id": "958a85ae-a31c-48e8-b3a2-62c94af560e0",
      "metadata": {
        "id": "958a85ae-a31c-48e8-b3a2-62c94af560e0",
        "colab": {
          "base_uri": "https://localhost:8080/"
        },
        "outputId": "e7490092-6fde-4b58-aaf1-eaf261f84e62"
      },
      "outputs": [
        {
          "output_type": "execute_result",
          "data": {
            "text/plain": [
              "{'max_depth': 16}"
            ]
          },
          "metadata": {},
          "execution_count": 21
        }
      ],
      "source": [
        "rf_best = study.best_params\n",
        "rf_best"
      ]
    },
    {
      "cell_type": "markdown",
      "id": "2e0a65a9-cd01-47ad-82ac-15a710dbc1df",
      "metadata": {
        "id": "2e0a65a9-cd01-47ad-82ac-15a710dbc1df"
      },
      "source": [
        "### LightGBM"
      ]
    },
    {
      "cell_type": "code",
      "execution_count": null,
      "id": "0421ee24-94d7-4df3-abd5-ca7866fa1bc0",
      "metadata": {
        "id": "0421ee24-94d7-4df3-abd5-ca7866fa1bc0",
        "colab": {
          "base_uri": "https://localhost:8080/"
        },
        "outputId": "4d844a40-3614-485a-e629-e5c13da3ccf6"
      },
      "outputs": [
        {
          "output_type": "stream",
          "name": "stderr",
          "text": [
            "\u001b[32m[I 2022-12-13 16:02:08,426]\u001b[0m A new study created in memory with name: no-name-7678162d-436e-4543-ba5c-3e8bedebaa25\u001b[0m\n",
            "\u001b[32m[I 2022-12-13 16:02:10,729]\u001b[0m Trial 0 finished with value: 0.6947622884770347 and parameters: {'lambda_l1': 0.000672386109576347, 'lambda_l2': 0.003911605020195198, 'num_leaves': 170, 'feature_fraction': 0.7629632098420547, 'bagging_fraction': 0.6538077486248648, 'bagging_freq': 7, 'min_child_samples': 98}. Best is trial 0 with value: 0.6947622884770347.\u001b[0m\n",
            "\u001b[32m[I 2022-12-13 16:02:12,818]\u001b[0m Trial 1 finished with value: 0.6941176470588235 and parameters: {'lambda_l1': 2.4973271220780686e-06, 'lambda_l2': 0.015059099097131313, 'num_leaves': 125, 'feature_fraction': 0.8151449041489158, 'bagging_fraction': 0.48508906707181626, 'bagging_freq': 2, 'min_child_samples': 75}. Best is trial 0 with value: 0.6947622884770347.\u001b[0m\n",
            "\u001b[32m[I 2022-12-13 16:02:15,666]\u001b[0m Trial 2 finished with value: 0.6910556003223207 and parameters: {'lambda_l1': 2.7286948180801577e-05, 'lambda_l2': 1.4402992752399815e-05, 'num_leaves': 225, 'feature_fraction': 0.9632152614431506, 'bagging_fraction': 0.6771180541606406, 'bagging_freq': 3, 'min_child_samples': 73}. Best is trial 0 with value: 0.6947622884770347.\u001b[0m\n",
            "\u001b[32m[I 2022-12-13 16:02:17,021]\u001b[0m Trial 3 finished with value: 0.6928283642224012 and parameters: {'lambda_l1': 1.0010982949697811e-06, 'lambda_l2': 0.00013910529964732412, 'num_leaves': 39, 'feature_fraction': 0.5087323649843389, 'bagging_fraction': 0.9283643825535131, 'bagging_freq': 3, 'min_child_samples': 77}. Best is trial 0 with value: 0.6947622884770347.\u001b[0m\n",
            "\u001b[32m[I 2022-12-13 16:02:19,630]\u001b[0m Trial 4 finished with value: 0.6915390813859791 and parameters: {'lambda_l1': 5.1525661554845235e-08, 'lambda_l2': 0.0003639948652799116, 'num_leaves': 150, 'feature_fraction': 0.692035891573323, 'bagging_fraction': 0.5303439701695264, 'bagging_freq': 2, 'min_child_samples': 51}. Best is trial 0 with value: 0.6947622884770347.\u001b[0m\n",
            "\u001b[32m[I 2022-12-13 16:02:23,632]\u001b[0m Trial 5 finished with value: 0.6905721192586624 and parameters: {'lambda_l1': 0.00026809184633576805, 'lambda_l2': 5.316583983782111e-05, 'num_leaves': 220, 'feature_fraction': 0.7453361256931887, 'bagging_fraction': 0.8942245497849979, 'bagging_freq': 7, 'min_child_samples': 39}. Best is trial 0 with value: 0.6947622884770347.\u001b[0m\n",
            "\u001b[32m[I 2022-12-13 16:02:26,277]\u001b[0m Trial 6 finished with value: 0.692344883158743 and parameters: {'lambda_l1': 9.152447645613145e-08, 'lambda_l2': 8.09025119237706e-08, 'num_leaves': 129, 'feature_fraction': 0.9631883934496698, 'bagging_fraction': 0.9223570874864543, 'bagging_freq': 1, 'min_child_samples': 97}. Best is trial 0 with value: 0.6947622884770347.\u001b[0m\n",
            "\u001b[32m[I 2022-12-13 16:02:29,381]\u001b[0m Trial 7 finished with value: 0.6931506849315069 and parameters: {'lambda_l1': 0.0002509257976475176, 'lambda_l2': 0.0002783401029495935, 'num_leaves': 237, 'feature_fraction': 0.6296871752305232, 'bagging_fraction': 0.6283335703778554, 'bagging_freq': 6, 'min_child_samples': 44}. Best is trial 0 with value: 0.6947622884770347.\u001b[0m\n",
            "\u001b[32m[I 2022-12-13 16:02:31,128]\u001b[0m Trial 8 finished with value: 0.6960515713134569 and parameters: {'lambda_l1': 3.677676802985004e-05, 'lambda_l2': 2.81526962393142e-05, 'num_leaves': 87, 'feature_fraction': 0.5382154422245208, 'bagging_fraction': 0.6355249557376207, 'bagging_freq': 4, 'min_child_samples': 13}. Best is trial 8 with value: 0.6960515713134569.\u001b[0m\n",
            "\u001b[32m[I 2022-12-13 16:02:33,868]\u001b[0m Trial 9 finished with value: 0.6954069298952458 and parameters: {'lambda_l1': 0.8072746263231738, 'lambda_l2': 2.8649832053482065e-08, 'num_leaves': 161, 'feature_fraction': 0.5537957134864615, 'bagging_fraction': 0.8070144269770927, 'bagging_freq': 3, 'min_child_samples': 22}. Best is trial 8 with value: 0.6960515713134569.\u001b[0m\n",
            "\u001b[32m[I 2022-12-13 16:02:34,984]\u001b[0m Trial 10 finished with value: 0.6926672038678485 and parameters: {'lambda_l1': 0.06217404808904603, 'lambda_l2': 3.0432724223758356, 'num_leaves': 42, 'feature_fraction': 0.4236405265692925, 'bagging_fraction': 0.4108038483639589, 'bagging_freq': 5, 'min_child_samples': 6}. Best is trial 8 with value: 0.6960515713134569.\u001b[0m\n",
            "\u001b[32m[I 2022-12-13 16:02:36,459]\u001b[0m Trial 11 finished with value: 0.688638195004029 and parameters: {'lambda_l1': 9.737121312186027, 'lambda_l2': 1.0989890239751667e-08, 'num_leaves': 82, 'feature_fraction': 0.5514818644261817, 'bagging_fraction': 0.7919480425049465, 'bagging_freq': 4, 'min_child_samples': 12}. Best is trial 8 with value: 0.6960515713134569.\u001b[0m\n",
            "\u001b[32m[I 2022-12-13 16:02:38,401]\u001b[0m Trial 12 finished with value: 0.6968573730862208 and parameters: {'lambda_l1': 0.05131139625797561, 'lambda_l2': 6.875248372837643e-07, 'num_leaves': 98, 'feature_fraction': 0.4158307409451479, 'bagging_fraction': 0.8069146876343612, 'bagging_freq': 4, 'min_child_samples': 22}. Best is trial 12 with value: 0.6968573730862208.\u001b[0m\n",
            "\u001b[32m[I 2022-12-13 16:02:40,208]\u001b[0m Trial 13 finished with value: 0.695245769540693 and parameters: {'lambda_l1': 0.014187416800427382, 'lambda_l2': 1.085928313791458e-06, 'num_leaves': 84, 'feature_fraction': 0.4037504121595282, 'bagging_fraction': 0.7675783718264496, 'bagging_freq': 5, 'min_child_samples': 27}. Best is trial 12 with value: 0.6968573730862208.\u001b[0m\n",
            "\u001b[32m[I 2022-12-13 16:02:40,730]\u001b[0m Trial 14 finished with value: 0.6884770346494762 and parameters: {'lambda_l1': 0.007136191307359688, 'lambda_l2': 3.68849370137366e-06, 'num_leaves': 5, 'feature_fraction': 0.49229726023938647, 'bagging_fraction': 0.582191043534689, 'bagging_freq': 5, 'min_child_samples': 27}. Best is trial 12 with value: 0.6968573730862208.\u001b[0m\n",
            "\u001b[32m[I 2022-12-13 16:02:42,658]\u001b[0m Trial 15 finished with value: 0.6955680902497986 and parameters: {'lambda_l1': 0.4008140553488272, 'lambda_l2': 5.27268997934708e-07, 'num_leaves': 85, 'feature_fraction': 0.6232611799891656, 'bagging_fraction': 0.741929925044509, 'bagging_freq': 4, 'min_child_samples': 18}. Best is trial 12 with value: 0.6968573730862208.\u001b[0m\n",
            "\u001b[32m[I 2022-12-13 16:02:44,889]\u001b[0m Trial 16 finished with value: 0.6949234488315874 and parameters: {'lambda_l1': 5.27374776746447e-06, 'lambda_l2': 3.0101837262060087e-07, 'num_leaves': 106, 'feature_fraction': 0.46837673111960015, 'bagging_fraction': 0.8528189477521602, 'bagging_freq': 4, 'min_child_samples': 37}. Best is trial 12 with value: 0.6968573730862208.\u001b[0m\n",
            "\u001b[32m[I 2022-12-13 16:02:46,649]\u001b[0m Trial 17 finished with value: 0.6905721192586624 and parameters: {'lambda_l1': 0.0026156167892973574, 'lambda_l2': 0.009525896746987086, 'num_leaves': 53, 'feature_fraction': 0.6095708936965635, 'bagging_fraction': 0.9850843658800651, 'bagging_freq': 6, 'min_child_samples': 6}. Best is trial 12 with value: 0.6968573730862208.\u001b[0m\n",
            "\u001b[32m[I 2022-12-13 16:02:51,017]\u001b[0m Trial 18 finished with value: 0.6960515713134569 and parameters: {'lambda_l1': 2.0330005351250896e-05, 'lambda_l2': 0.619003593871213, 'num_leaves': 186, 'feature_fraction': 0.4438292506824133, 'bagging_fraction': 0.7106888857427571, 'bagging_freq': 2, 'min_child_samples': 63}. Best is trial 12 with value: 0.6968573730862208.\u001b[0m\n",
            "\u001b[32m[I 2022-12-13 16:02:53,905]\u001b[0m Trial 19 finished with value: 0.6928283642224012 and parameters: {'lambda_l1': 0.21763077613998605, 'lambda_l2': 5.866980191066145, 'num_leaves': 200, 'feature_fraction': 0.8723040769582344, 'bagging_fraction': 0.7299802743149504, 'bagging_freq': 1, 'min_child_samples': 64}. Best is trial 12 with value: 0.6968573730862208.\u001b[0m\n",
            "\u001b[32m[I 2022-12-13 16:02:56,040]\u001b[0m Trial 20 finished with value: 0.6915390813859791 and parameters: {'lambda_l1': 4.576120105636756, 'lambda_l2': 0.22100366038945954, 'num_leaves': 183, 'feature_fraction': 0.446740754214683, 'bagging_fraction': 0.8376090758345884, 'bagging_freq': 2, 'min_child_samples': 60}. Best is trial 12 with value: 0.6968573730862208.\u001b[0m\n",
            "\u001b[32m[I 2022-12-13 16:02:59,038]\u001b[0m Trial 21 finished with value: 0.6942788074133763 and parameters: {'lambda_l1': 4.5487823996749346e-05, 'lambda_l2': 1.3063060721422841e-05, 'num_leaves': 131, 'feature_fraction': 0.5351835239173153, 'bagging_fraction': 0.697912901208663, 'bagging_freq': 3, 'min_child_samples': 32}. Best is trial 12 with value: 0.6968573730862208.\u001b[0m\n",
            "\u001b[32m[I 2022-12-13 16:03:02,083]\u001b[0m Trial 22 finished with value: 0.6979854955680902 and parameters: {'lambda_l1': 3.3929244433226426e-05, 'lambda_l2': 0.28234873883550426, 'num_leaves': 256, 'feature_fraction': 0.4132529794883537, 'bagging_fraction': 0.5736835257318109, 'bagging_freq': 5, 'min_child_samples': 50}. Best is trial 22 with value: 0.6979854955680902.\u001b[0m\n",
            "\u001b[32m[I 2022-12-13 16:03:03,940]\u001b[0m Trial 23 finished with value: 0.6941176470588235 and parameters: {'lambda_l1': 3.7112970451054816e-07, 'lambda_l2': 0.460418571215042, 'num_leaves': 256, 'feature_fraction': 0.4024438850387189, 'bagging_fraction': 0.5758108900339793, 'bagging_freq': 6, 'min_child_samples': 86}. Best is trial 22 with value: 0.6979854955680902.\u001b[0m\n",
            "\u001b[32m[I 2022-12-13 16:03:06,351]\u001b[0m Trial 24 finished with value: 0.695245769540693 and parameters: {'lambda_l1': 1.1912221180054939e-08, 'lambda_l2': 0.07280038130955571, 'num_leaves': 197, 'feature_fraction': 0.46933442601550535, 'bagging_fraction': 0.5732429693739266, 'bagging_freq': 5, 'min_child_samples': 52}. Best is trial 22 with value: 0.6979854955680902.\u001b[0m\n",
            "\u001b[32m[I 2022-12-13 16:03:08,129]\u001b[0m Trial 25 finished with value: 0.6931506849315069 and parameters: {'lambda_l1': 1.1164502792933007e-05, 'lambda_l2': 1.2930754387791057, 'num_leaves': 254, 'feature_fraction': 0.4535834514956915, 'bagging_fraction': 0.46344260647868163, 'bagging_freq': 2, 'min_child_samples': 69}. Best is trial 22 with value: 0.6979854955680902.\u001b[0m\n",
            "\u001b[32m[I 2022-12-13 16:03:11,076]\u001b[0m Trial 26 finished with value: 0.6918614020950846 and parameters: {'lambda_l1': 0.00127112841615615, 'lambda_l2': 0.0022614102225093596, 'num_leaves': 212, 'feature_fraction': 0.5936487994196766, 'bagging_fraction': 0.717797050584627, 'bagging_freq': 6, 'min_child_samples': 59}. Best is trial 22 with value: 0.6979854955680902.\u001b[0m\n",
            "\u001b[32m[I 2022-12-13 16:03:13,634]\u001b[0m Trial 27 finished with value: 0.6936341659951651 and parameters: {'lambda_l1': 0.00018559942384477682, 'lambda_l2': 0.07944512657113945, 'num_leaves': 148, 'feature_fraction': 0.6731899451122597, 'bagging_fraction': 0.8484906398165439, 'bagging_freq': 1, 'min_child_samples': 48}. Best is trial 22 with value: 0.6979854955680902.\u001b[0m\n",
            "\u001b[32m[I 2022-12-13 16:03:15,396]\u001b[0m Trial 28 finished with value: 0.694439967767929 and parameters: {'lambda_l1': 0.0364638968233718, 'lambda_l2': 0.0011790800663997517, 'num_leaves': 182, 'feature_fraction': 0.5066546878662785, 'bagging_fraction': 0.5144869952310553, 'bagging_freq': 4, 'min_child_samples': 84}. Best is trial 22 with value: 0.6979854955680902.\u001b[0m\n",
            "\u001b[32m[I 2022-12-13 16:03:17,595]\u001b[0m Trial 29 finished with value: 0.6976631748589847 and parameters: {'lambda_l1': 0.001108665530834933, 'lambda_l2': 0.02714484899202425, 'num_leaves': 111, 'feature_fraction': 0.43211637678171777, 'bagging_fraction': 0.653058363339959, 'bagging_freq': 7, 'min_child_samples': 57}. Best is trial 22 with value: 0.6979854955680902.\u001b[0m\n",
            "\u001b[32m[I 2022-12-13 16:03:19,348]\u001b[0m Trial 30 finished with value: 0.6931506849315069 and parameters: {'lambda_l1': 0.004772304975361761, 'lambda_l2': 0.025356260909852067, 'num_leaves': 65, 'feature_fraction': 0.5701732104083503, 'bagging_fraction': 0.6539566196005872, 'bagging_freq': 7, 'min_child_samples': 42}. Best is trial 22 with value: 0.6979854955680902.\u001b[0m\n",
            "\u001b[32m[I 2022-12-13 16:03:21,508]\u001b[0m Trial 31 finished with value: 0.6965350523771152 and parameters: {'lambda_l1': 0.0010647121372769248, 'lambda_l2': 0.48092322125608344, 'num_leaves': 112, 'feature_fraction': 0.43172930940341764, 'bagging_fraction': 0.6179597734513724, 'bagging_freq': 7, 'min_child_samples': 58}. Best is trial 22 with value: 0.6979854955680902.\u001b[0m\n",
            "\u001b[32m[I 2022-12-13 16:03:23,646]\u001b[0m Trial 32 finished with value: 0.696696212731668 and parameters: {'lambda_l1': 0.0013462854761070286, 'lambda_l2': 0.14772397527759815, 'num_leaves': 110, 'feature_fraction': 0.40477111790463877, 'bagging_fraction': 0.6082615547809567, 'bagging_freq': 7, 'min_child_samples': 56}. Best is trial 22 with value: 0.6979854955680902.\u001b[0m\n",
            "\u001b[32m[I 2022-12-13 16:03:25,713]\u001b[0m Trial 33 finished with value: 0.6939564867042708 and parameters: {'lambda_l1': 0.00010075253185349454, 'lambda_l2': 0.07360166420793773, 'num_leaves': 115, 'feature_fraction': 0.48957829145475995, 'bagging_fraction': 0.5406849517635084, 'bagging_freq': 7, 'min_child_samples': 69}. Best is trial 22 with value: 0.6979854955680902.\u001b[0m\n",
            "\u001b[32m[I 2022-12-13 16:03:27,735]\u001b[0m Trial 34 finished with value: 0.6957292506043513 and parameters: {'lambda_l1': 0.0010583419832608232, 'lambda_l2': 0.005989366112878253, 'num_leaves': 98, 'feature_fraction': 0.40392427338136494, 'bagging_fraction': 0.665162371229818, 'bagging_freq': 6, 'min_child_samples': 46}. Best is trial 22 with value: 0.6979854955680902.\u001b[0m\n",
            "\u001b[32m[I 2022-12-13 16:03:30,599]\u001b[0m Trial 35 finished with value: 0.6913779210314263 and parameters: {'lambda_l1': 0.02139970083696312, 'lambda_l2': 0.000935149748204589, 'num_leaves': 147, 'feature_fraction': 0.8040686308504397, 'bagging_fraction': 0.6010557155718703, 'bagging_freq': 7, 'min_child_samples': 54}. Best is trial 22 with value: 0.6979854955680902.\u001b[0m\n",
            "\u001b[32m[I 2022-12-13 16:03:32,183]\u001b[0m Trial 36 finished with value: 0.6934730056406124 and parameters: {'lambda_l1': 0.09185835557651234, 'lambda_l2': 9.610859455603032, 'num_leaves': 64, 'feature_fraction': 0.48008074907954745, 'bagging_fraction': 0.4929493066383745, 'bagging_freq': 5, 'min_child_samples': 35}. Best is trial 22 with value: 0.6979854955680902.\u001b[0m\n",
            "\u001b[32m[I 2022-12-13 16:03:34,062]\u001b[0m Trial 37 finished with value: 0.6915390813859791 and parameters: {'lambda_l1': 1.3132450437055614, 'lambda_l2': 0.030847450623192482, 'num_leaves': 138, 'feature_fraction': 0.5092815335552509, 'bagging_fraction': 0.6795191403458828, 'bagging_freq': 7, 'min_child_samples': 83}. Best is trial 22 with value: 0.6979854955680902.\u001b[0m\n",
            "\u001b[32m[I 2022-12-13 16:03:35,910]\u001b[0m Trial 38 finished with value: 0.6921837228041902 and parameters: {'lambda_l1': 0.00040980849071994445, 'lambda_l2': 1.5024988701100654, 'num_leaves': 122, 'feature_fraction': 0.43376565992533034, 'bagging_fraction': 0.5510231082327495, 'bagging_freq': 6, 'min_child_samples': 78}. Best is trial 22 with value: 0.6979854955680902.\u001b[0m\n",
            "\u001b[32m[I 2022-12-13 16:03:37,960]\u001b[0m Trial 39 finished with value: 0.6904109589041096 and parameters: {'lambda_l1': 2.0202659037123603e-06, 'lambda_l2': 0.004495351157163762, 'num_leaves': 164, 'feature_fraction': 0.8878041352740758, 'bagging_fraction': 0.44762151319434995, 'bagging_freq': 6, 'min_child_samples': 69}. Best is trial 22 with value: 0.6979854955680902.\u001b[0m\n",
            "\u001b[32m[I 2022-12-13 16:03:38,810]\u001b[0m Trial 40 finished with value: 0.6891216760676874 and parameters: {'lambda_l1': 6.72202226632452e-05, 'lambda_l2': 0.18443205914348004, 'num_leaves': 17, 'feature_fraction': 0.5138986057368444, 'bagging_fraction': 0.6444319047226883, 'bagging_freq': 3, 'min_child_samples': 54}. Best is trial 22 with value: 0.6979854955680902.\u001b[0m\n",
            "\u001b[32m[I 2022-12-13 16:03:40,856]\u001b[0m Trial 41 finished with value: 0.6965350523771152 and parameters: {'lambda_l1': 0.0023819068608478757, 'lambda_l2': 0.27590750630631977, 'num_leaves': 98, 'feature_fraction': 0.4298119310900507, 'bagging_fraction': 0.6156528164420856, 'bagging_freq': 7, 'min_child_samples': 57}. Best is trial 22 with value: 0.6979854955680902.\u001b[0m\n",
            "\u001b[32m[I 2022-12-13 16:03:42,768]\u001b[0m Trial 42 finished with value: 0.6912167606768735 and parameters: {'lambda_l1': 0.006893342032231434, 'lambda_l2': 0.016352957705525785, 'num_leaves': 94, 'feature_fraction': 0.40014519844138036, 'bagging_fraction': 0.5980216326896297, 'bagging_freq': 7, 'min_child_samples': 48}. Best is trial 22 with value: 0.6979854955680902.\u001b[0m\n",
            "\u001b[32m[I 2022-12-13 16:03:44,937]\u001b[0m Trial 43 finished with value: 0.6941176470588235 and parameters: {'lambda_l1': 0.0006247573605882456, 'lambda_l2': 0.9942131434723536, 'num_leaves': 110, 'feature_fraction': 0.4577929577429925, 'bagging_fraction': 0.6243995466408243, 'bagging_freq': 7, 'min_child_samples': 65}. Best is trial 22 with value: 0.6979854955680902.\u001b[0m\n",
            "\u001b[32m[I 2022-12-13 16:03:46,768]\u001b[0m Trial 44 finished with value: 0.6931506849315069 and parameters: {'lambda_l1': 0.0026005424373413246, 'lambda_l2': 0.00010391857966314756, 'num_leaves': 75, 'feature_fraction': 0.43199371488187294, 'bagging_fraction': 0.7648706273545427, 'bagging_freq': 6, 'min_child_samples': 56}. Best is trial 22 with value: 0.6979854955680902.\u001b[0m\n",
            "\u001b[32m[I 2022-12-13 16:03:49,033]\u001b[0m Trial 45 finished with value: 0.6949234488315874 and parameters: {'lambda_l1': 0.00018922514486302718, 'lambda_l2': 0.18713074584811354, 'num_leaves': 95, 'feature_fraction': 0.7127513765204846, 'bagging_fraction': 0.6769208455912825, 'bagging_freq': 7, 'min_child_samples': 92}. Best is trial 22 with value: 0.6979854955680902.\u001b[0m\n",
            "\u001b[32m[I 2022-12-13 16:03:51,267]\u001b[0m Trial 46 finished with value: 0.6957292506043513 and parameters: {'lambda_l1': 0.012949681498822073, 'lambda_l2': 4.102837632224005, 'num_leaves': 133, 'feature_fraction': 0.4227745435184136, 'bagging_fraction': 0.5559273299425519, 'bagging_freq': 5, 'min_child_samples': 41}. Best is trial 22 with value: 0.6979854955680902.\u001b[0m\n",
            "\u001b[32m[I 2022-12-13 16:03:53,028]\u001b[0m Trial 47 finished with value: 0.692344883158743 and parameters: {'lambda_l1': 0.002635759102704067, 'lambda_l2': 0.04819444996602371, 'num_leaves': 72, 'feature_fraction': 0.526279828047152, 'bagging_fraction': 0.520003969343958, 'bagging_freq': 7, 'min_child_samples': 73}. Best is trial 22 with value: 0.6979854955680902.\u001b[0m\n",
            "\u001b[32m[I 2022-12-13 16:03:54,430]\u001b[0m Trial 48 finished with value: 0.6946011281224819 and parameters: {'lambda_l1': 0.10324272899396986, 'lambda_l2': 0.0004578300178965891, 'num_leaves': 48, 'feature_fraction': 0.4788230008891709, 'bagging_fraction': 0.6019584926478876, 'bagging_freq': 5, 'min_child_samples': 51}. Best is trial 22 with value: 0.6979854955680902.\u001b[0m\n",
            "\u001b[32m[I 2022-12-13 16:03:56,959]\u001b[0m Trial 49 finished with value: 0.6962127316680097 and parameters: {'lambda_l1': 1.0684142318236858e-05, 'lambda_l2': 6.934915620394433e-06, 'num_leaves': 124, 'feature_fraction': 0.5611780707691378, 'bagging_fraction': 0.800810799454647, 'bagging_freq': 3, 'min_child_samples': 28}. Best is trial 22 with value: 0.6979854955680902.\u001b[0m\n",
            "\u001b[32m[I 2022-12-13 16:03:58,091]\u001b[0m Trial 50 finished with value: 0.6917002417405318 and parameters: {'lambda_l1': 0.00013997284414039063, 'lambda_l2': 2.30198143042009, 'num_leaves': 25, 'feature_fraction': 0.9885715729725054, 'bagging_fraction': 0.8798371756426832, 'bagging_freq': 4, 'min_child_samples': 18}. Best is trial 22 with value: 0.6979854955680902.\u001b[0m\n",
            "\u001b[32m[I 2022-12-13 16:04:00,134]\u001b[0m Trial 51 finished with value: 0.6958904109589041 and parameters: {'lambda_l1': 0.0006280003105418111, 'lambda_l2': 0.4411410988877726, 'num_leaves': 103, 'feature_fraction': 0.42203200573069866, 'bagging_fraction': 0.6230634705160892, 'bagging_freq': 7, 'min_child_samples': 58}. Best is trial 22 with value: 0.6979854955680902.\u001b[0m\n",
            "\u001b[32m[I 2022-12-13 16:04:02,373]\u001b[0m Trial 52 finished with value: 0.6955680902497986 and parameters: {'lambda_l1': 0.001287498399816342, 'lambda_l2': 0.24071732958648392, 'num_leaves': 112, 'feature_fraction': 0.4484879036228638, 'bagging_fraction': 0.6183536445188096, 'bagging_freq': 6, 'min_child_samples': 61}. Best is trial 22 with value: 0.6979854955680902.\u001b[0m\n",
            "\u001b[32m[I 2022-12-13 16:04:04,615]\u001b[0m Trial 53 finished with value: 0.6950846091861402 and parameters: {'lambda_l1': 0.027550610171909858, 'lambda_l2': 1.0987043324120143e-07, 'num_leaves': 118, 'feature_fraction': 0.4264395378806222, 'bagging_fraction': 0.6949760097064802, 'bagging_freq': 7, 'min_child_samples': 49}. Best is trial 22 with value: 0.6979854955680902.\u001b[0m\n",
            "\u001b[32m[I 2022-12-13 16:04:06,569]\u001b[0m Trial 54 finished with value: 0.6920225624496373 and parameters: {'lambda_l1': 0.004501252484923075, 'lambda_l2': 0.7781063701444048, 'num_leaves': 91, 'feature_fraction': 0.4603870070895731, 'bagging_fraction': 0.5714023263661732, 'bagging_freq': 7, 'min_child_samples': 44}. Best is trial 22 with value: 0.6979854955680902.\u001b[0m\n",
            "\u001b[32m[I 2022-12-13 16:04:09,165]\u001b[0m Trial 55 finished with value: 0.6955680902497986 and parameters: {'lambda_l1': 0.00031996777224260124, 'lambda_l2': 0.10384126063906322, 'num_leaves': 140, 'feature_fraction': 0.48307482212719843, 'bagging_fraction': 0.638669832572816, 'bagging_freq': 6, 'min_child_samples': 56}. Best is trial 22 with value: 0.6979854955680902.\u001b[0m\n",
            "\u001b[32m[I 2022-12-13 16:04:12,287]\u001b[0m Trial 56 finished with value: 0.6950846091861402 and parameters: {'lambda_l1': 2.7251189653369158e-05, 'lambda_l2': 1.5947965653067804e-06, 'num_leaves': 103, 'feature_fraction': 0.41799221901060196, 'bagging_fraction': 0.593837525687026, 'bagging_freq': 7, 'min_child_samples': 66}. Best is trial 22 with value: 0.6979854955680902.\u001b[0m\n",
            "\u001b[32m[I 2022-12-13 16:04:15,535]\u001b[0m Trial 57 finished with value: 0.6931506849315069 and parameters: {'lambda_l1': 0.010137396824426149, 'lambda_l2': 0.4215440634318483, 'num_leaves': 156, 'feature_fraction': 0.6549763936844409, 'bagging_fraction': 0.9507823589523291, 'bagging_freq': 4, 'min_child_samples': 73}. Best is trial 22 with value: 0.6979854955680902.\u001b[0m\n",
            "\u001b[32m[I 2022-12-13 16:04:18,872]\u001b[0m Trial 58 finished with value: 0.6946011281224819 and parameters: {'lambda_l1': 0.0022788675400132806, 'lambda_l2': 0.010321644076908557, 'num_leaves': 231, 'feature_fraction': 0.4467170807659708, 'bagging_fraction': 0.7447269890916098, 'bagging_freq': 6, 'min_child_samples': 38}. Best is trial 22 with value: 0.6979854955680902.\u001b[0m\n",
            "\u001b[32m[I 2022-12-13 16:04:20,680]\u001b[0m Trial 59 finished with value: 0.6954069298952458 and parameters: {'lambda_l1': 0.24601780438826792, 'lambda_l2': 2.2950170057614283, 'num_leaves': 80, 'feature_fraction': 0.4950469392863843, 'bagging_fraction': 0.6762651970862313, 'bagging_freq': 7, 'min_child_samples': 12}. Best is trial 22 with value: 0.6979854955680902.\u001b[0m\n",
            "\u001b[32m[I 2022-12-13 16:04:22,605]\u001b[0m Trial 60 finished with value: 0.696696212731668 and parameters: {'lambda_l1': 3.696721137026859e-07, 'lambda_l2': 0.039358724610987765, 'num_leaves': 127, 'feature_fraction': 0.4046430314469951, 'bagging_fraction': 0.4921999104104784, 'bagging_freq': 5, 'min_child_samples': 62}. Best is trial 22 with value: 0.6979854955680902.\u001b[0m\n",
            "\u001b[32m[I 2022-12-13 16:04:24,320]\u001b[0m Trial 61 finished with value: 0.6941176470588235 and parameters: {'lambda_l1': 2.7060421973903795e-07, 'lambda_l2': 0.1541937030687382, 'num_leaves': 129, 'feature_fraction': 0.40130064541637417, 'bagging_fraction': 0.4031748112186662, 'bagging_freq': 5, 'min_child_samples': 63}. Best is trial 22 with value: 0.6979854955680902.\u001b[0m\n",
            "\u001b[32m[I 2022-12-13 16:04:27,659]\u001b[0m Trial 62 finished with value: 0.6958904109589041 and parameters: {'lambda_l1': 2.744212402450732e-08, 'lambda_l2': 0.03680022448244532, 'num_leaves': 107, 'feature_fraction': 0.4646381229557235, 'bagging_fraction': 0.49740789447847444, 'bagging_freq': 4, 'min_child_samples': 58}. Best is trial 22 with value: 0.6979854955680902.\u001b[0m\n",
            "\u001b[32m[I 2022-12-13 16:04:31,037]\u001b[0m Trial 63 finished with value: 0.6955680902497986 and parameters: {'lambda_l1': 1.950409408245646e-07, 'lambda_l2': 0.019171986628992322, 'num_leaves': 120, 'feature_fraction': 0.441455428999487, 'bagging_fraction': 0.45421671273994935, 'bagging_freq': 5, 'min_child_samples': 61}. Best is trial 22 with value: 0.6979854955680902.\u001b[0m\n",
            "\u001b[32m[I 2022-12-13 16:04:35,264]\u001b[0m Trial 64 finished with value: 0.6929895245769541 and parameters: {'lambda_l1': 6.607089565408832e-07, 'lambda_l2': 0.10532832998635785, 'num_leaves': 86, 'feature_fraction': 0.41711645181759627, 'bagging_fraction': 0.5625388222886257, 'bagging_freq': 3, 'min_child_samples': 52}. Best is trial 22 with value: 0.6979854955680902.\u001b[0m\n",
            "\u001b[32m[I 2022-12-13 16:04:37,444]\u001b[0m Trial 65 finished with value: 0.6962127316680097 and parameters: {'lambda_l1': 2.0670968906994387e-06, 'lambda_l2': 0.33931505154466557, 'num_leaves': 174, 'feature_fraction': 0.44178191500607256, 'bagging_fraction': 0.6542997076498569, 'bagging_freq': 4, 'min_child_samples': 77}. Best is trial 22 with value: 0.6979854955680902.\u001b[0m\n",
            "\u001b[32m[I 2022-12-13 16:04:39,351]\u001b[0m Trial 66 finished with value: 0.693795326349718 and parameters: {'lambda_l1': 6.42930106884187e-08, 'lambda_l2': 0.0017537147166873227, 'num_leaves': 100, 'feature_fraction': 0.4654088557973805, 'bagging_fraction': 0.4771971256655502, 'bagging_freq': 6, 'min_child_samples': 68}. Best is trial 22 with value: 0.6979854955680902.\u001b[0m\n",
            "\u001b[32m[I 2022-12-13 16:04:41,549]\u001b[0m Trial 67 finished with value: 0.6958904109589041 and parameters: {'lambda_l1': 4.442197252786974e-06, 'lambda_l2': 0.05045659746653006, 'num_leaves': 141, 'feature_fraction': 0.4173785285766943, 'bagging_fraction': 0.5242795659521127, 'bagging_freq': 7, 'min_child_samples': 55}. Best is trial 22 with value: 0.6979854955680902.\u001b[0m\n",
            "\u001b[32m[I 2022-12-13 16:04:43,165]\u001b[0m Trial 68 finished with value: 0.6955680902497986 and parameters: {'lambda_l1': 7.397781583045374e-05, 'lambda_l2': 1.1025602558972849e-08, 'num_leaves': 60, 'feature_fraction': 0.4974289967600536, 'bagging_fraction': 0.6132473565240149, 'bagging_freq': 5, 'min_child_samples': 32}. Best is trial 22 with value: 0.6979854955680902.\u001b[0m\n",
            "\u001b[32m[I 2022-12-13 16:04:45,490]\u001b[0m Trial 69 finished with value: 0.6957292506043513 and parameters: {'lambda_l1': 0.0009713828742539919, 'lambda_l2': 4.986216887359594e-05, 'num_leaves': 112, 'feature_fraction': 0.5897331979974575, 'bagging_fraction': 0.5417215739854022, 'bagging_freq': 4, 'min_child_samples': 45}. Best is trial 22 with value: 0.6979854955680902.\u001b[0m\n",
            "\u001b[32m[I 2022-12-13 16:04:48,796]\u001b[0m Trial 70 finished with value: 0.6920225624496373 and parameters: {'lambda_l1': 0.0005008765014977528, 'lambda_l2': 0.00671507834693395, 'num_leaves': 153, 'feature_fraction': 0.7811652463435289, 'bagging_fraction': 0.8251829650042218, 'bagging_freq': 7, 'min_child_samples': 49}. Best is trial 22 with value: 0.6979854955680902.\u001b[0m\n",
            "\u001b[32m[I 2022-12-13 16:04:51,041]\u001b[0m Trial 71 finished with value: 0.6955680902497986 and parameters: {'lambda_l1': 1.0438195806148328e-06, 'lambda_l2': 0.3380620660670367, 'num_leaves': 211, 'feature_fraction': 0.4519550527438912, 'bagging_fraction': 0.655318818772816, 'bagging_freq': 4, 'min_child_samples': 77}. Best is trial 22 with value: 0.6979854955680902.\u001b[0m\n",
            "\u001b[32m[I 2022-12-13 16:04:53,611]\u001b[0m Trial 72 finished with value: 0.6949234488315874 and parameters: {'lambda_l1': 1.7492744766640687e-05, 'lambda_l2': 9.307179828900683e-06, 'num_leaves': 128, 'feature_fraction': 0.5653297333565794, 'bagging_fraction': 0.7836049916231759, 'bagging_freq': 3, 'min_child_samples': 26}. Best is trial 22 with value: 0.6979854955680902.\u001b[0m\n",
            "\u001b[32m[I 2022-12-13 16:04:56,018]\u001b[0m Trial 73 finished with value: 0.6929895245769541 and parameters: {'lambda_l1': 4.167037892930763e-06, 'lambda_l2': 3.7327739826822844e-07, 'num_leaves': 125, 'feature_fraction': 0.523556628298749, 'bagging_fraction': 0.5832944573647382, 'bagging_freq': 2, 'min_child_samples': 20}. Best is trial 22 with value: 0.6979854955680902.\u001b[0m\n",
            "\u001b[32m[I 2022-12-13 16:04:59,099]\u001b[0m Trial 74 finished with value: 0.6949234488315874 and parameters: {'lambda_l1': 4.9075144560652335e-05, 'lambda_l2': 1.5102663653968864e-06, 'num_leaves': 116, 'feature_fraction': 0.5444106809743472, 'bagging_fraction': 0.4325488982245345, 'bagging_freq': 3, 'min_child_samples': 24}. Best is trial 22 with value: 0.6979854955680902.\u001b[0m\n",
            "\u001b[32m[I 2022-12-13 16:05:01,480]\u001b[0m Trial 75 finished with value: 0.6950846091861402 and parameters: {'lambda_l1': 1.2168058251015647e-05, 'lambda_l2': 2.054602986323464e-07, 'num_leaves': 93, 'feature_fraction': 0.408547271138011, 'bagging_fraction': 0.8040132657007424, 'bagging_freq': 3, 'min_child_samples': 16}. Best is trial 22 with value: 0.6979854955680902.\u001b[0m\n",
            "\u001b[32m[I 2022-12-13 16:05:03,512]\u001b[0m Trial 76 finished with value: 0.6962127316680097 and parameters: {'lambda_l1': 9.667787541166305e-07, 'lambda_l2': 0.9250828079698667, 'num_leaves': 194, 'feature_fraction': 0.43551861948164233, 'bagging_fraction': 0.6391213224314578, 'bagging_freq': 4, 'min_child_samples': 91}. Best is trial 22 with value: 0.6979854955680902.\u001b[0m\n",
            "\u001b[32m[I 2022-12-13 16:05:05,641]\u001b[0m Trial 77 finished with value: 0.6934730056406124 and parameters: {'lambda_l1': 1.1263907173593896e-07, 'lambda_l2': 1.3627426490054297, 'num_leaves': 249, 'feature_fraction': 0.43865488960783267, 'bagging_fraction': 0.7063462583172408, 'bagging_freq': 4, 'min_child_samples': 99}. Best is trial 22 with value: 0.6979854955680902.\u001b[0m\n",
            "\u001b[32m[I 2022-12-13 16:05:08,300]\u001b[0m Trial 78 finished with value: 0.6958904109589041 and parameters: {'lambda_l1': 0.05227265621101893, 'lambda_l2': 4.721891080021621e-06, 'num_leaves': 135, 'feature_fraction': 0.4774170979929018, 'bagging_fraction': 0.7361478314475631, 'bagging_freq': 6, 'min_child_samples': 32}. Best is trial 22 with value: 0.6979854955680902.\u001b[0m\n",
            "\u001b[32m[I 2022-12-13 16:05:10,297]\u001b[0m Trial 79 finished with value: 0.6936341659951651 and parameters: {'lambda_l1': 5.641831558779739e-07, 'lambda_l2': 0.8045621606036022, 'num_leaves': 203, 'feature_fraction': 0.4318109275871566, 'bagging_fraction': 0.6348022964262222, 'bagging_freq': 5, 'min_child_samples': 87}. Best is trial 22 with value: 0.6979854955680902.\u001b[0m\n",
            "\u001b[32m[I 2022-12-13 16:05:12,512]\u001b[0m Trial 80 finished with value: 0.695245769540693 and parameters: {'lambda_l1': 0.00451841607862721, 'lambda_l2': 0.2973792108783959, 'num_leaves': 243, 'feature_fraction': 0.4001341873578469, 'bagging_fraction': 0.6526407187198753, 'bagging_freq': 7, 'min_child_samples': 71}. Best is trial 22 with value: 0.6979854955680902.\u001b[0m\n",
            "\u001b[32m[I 2022-12-13 16:05:14,887]\u001b[0m Trial 81 finished with value: 0.6934730056406124 and parameters: {'lambda_l1': 9.531256963547223e-06, 'lambda_l2': 0.13791228215682066, 'num_leaves': 124, 'feature_fraction': 0.42851240368593, 'bagging_fraction': 0.6897945903968963, 'bagging_freq': 3, 'min_child_samples': 29}. Best is trial 22 with value: 0.6979854955680902.\u001b[0m\n",
            "\u001b[32m[I 2022-12-13 16:05:17,557]\u001b[0m Trial 82 finished with value: 0.6934730056406124 and parameters: {'lambda_l1': 1.9134241974303543e-06, 'lambda_l2': 6.5430900092918725, 'num_leaves': 78, 'feature_fraction': 0.8642802060485363, 'bagging_fraction': 0.6674982772009257, 'bagging_freq': 4, 'min_child_samples': 95}. Best is trial 22 with value: 0.6979854955680902.\u001b[0m\n",
            "\u001b[32m[I 2022-12-13 16:05:19,902]\u001b[0m Trial 83 finished with value: 0.6950846091861402 and parameters: {'lambda_l1': 0.00029397375705931557, 'lambda_l2': 6.519759945070082e-07, 'num_leaves': 147, 'feature_fraction': 0.47118555916602667, 'bagging_fraction': 0.6109681877313468, 'bagging_freq': 7, 'min_child_samples': 81}. Best is trial 22 with value: 0.6979854955680902.\u001b[0m\n",
            "\u001b[32m[I 2022-12-13 16:05:22,641]\u001b[0m Trial 84 finished with value: 0.6926672038678485 and parameters: {'lambda_l1': 7.196865858733039e-06, 'lambda_l2': 0.5373489442398194, 'num_leaves': 89, 'feature_fraction': 0.4149939580085584, 'bagging_fraction': 0.5864673581164734, 'bagging_freq': 3, 'min_child_samples': 10}. Best is trial 22 with value: 0.6979854955680902.\u001b[0m\n",
            "\u001b[32m[I 2022-12-13 16:05:25,628]\u001b[0m Trial 85 finished with value: 0.695245769540693 and parameters: {'lambda_l1': 1.0339086167470325e-06, 'lambda_l2': 0.061676391151694, 'num_leaves': 187, 'feature_fraction': 0.4426675396052835, 'bagging_fraction': 0.6321564948912217, 'bagging_freq': 4, 'min_child_samples': 90}. Best is trial 22 with value: 0.6979854955680902.\u001b[0m\n",
            "\u001b[32m[I 2022-12-13 16:05:28,053]\u001b[0m Trial 86 finished with value: 0.6946011281224819 and parameters: {'lambda_l1': 2.947007793765912e-06, 'lambda_l2': 5.8962018267344166e-08, 'num_leaves': 107, 'feature_fraction': 0.45714400673457506, 'bagging_fraction': 0.7635072320254748, 'bagging_freq': 5, 'min_child_samples': 66}. Best is trial 22 with value: 0.6979854955680902.\u001b[0m\n",
            "\u001b[32m[I 2022-12-13 16:05:34,745]\u001b[0m Trial 87 finished with value: 0.695245769540693 and parameters: {'lambda_l1': 0.00012573642026823147, 'lambda_l2': 3.7230657885653224, 'num_leaves': 218, 'feature_fraction': 0.43295313974122074, 'bagging_fraction': 0.6052821880884265, 'bagging_freq': 4, 'min_child_samples': 80}. Best is trial 22 with value: 0.6979854955680902.\u001b[0m\n",
            "\u001b[32m[I 2022-12-13 16:05:37,784]\u001b[0m Trial 88 finished with value: 0.6963738920225625 and parameters: {'lambda_l1': 0.001204375711102616, 'lambda_l2': 0.00023657402528762676, 'num_leaves': 164, 'feature_fraction': 0.4148125770823935, 'bagging_fraction': 0.8811421873230205, 'bagging_freq': 6, 'min_child_samples': 57}. Best is trial 22 with value: 0.6979854955680902.\u001b[0m\n",
            "\u001b[32m[I 2022-12-13 16:05:40,787]\u001b[0m Trial 89 finished with value: 0.6965350523771152 and parameters: {'lambda_l1': 1.9189863072542201, 'lambda_l2': 2.2873264461300094e-05, 'num_leaves': 99, 'feature_fraction': 0.41881562871430333, 'bagging_fraction': 0.9051036777928697, 'bagging_freq': 6, 'min_child_samples': 63}. Best is trial 22 with value: 0.6979854955680902.\u001b[0m\n",
            "\u001b[32m[I 2022-12-13 16:05:44,150]\u001b[0m Trial 90 finished with value: 0.6947622884770347 and parameters: {'lambda_l1': 0.8855167333745083, 'lambda_l2': 0.0002825182336961744, 'num_leaves': 99, 'feature_fraction': 0.41276040651300344, 'bagging_fraction': 0.9056669157894708, 'bagging_freq': 6, 'min_child_samples': 62}. Best is trial 22 with value: 0.6979854955680902.\u001b[0m\n",
            "\u001b[32m[I 2022-12-13 16:05:46,148]\u001b[0m Trial 91 finished with value: 0.6939564867042708 and parameters: {'lambda_l1': 3.9938396265061193, 'lambda_l2': 1.81725801908329e-05, 'num_leaves': 110, 'feature_fraction': 0.4133214143399582, 'bagging_fraction': 0.9445148435073875, 'bagging_freq': 7, 'min_child_samples': 58}. Best is trial 22 with value: 0.6979854955680902.\u001b[0m\n",
            "\u001b[32m[I 2022-12-13 16:05:55,120]\u001b[0m Trial 92 finished with value: 0.693795326349718 and parameters: {'lambda_l1': 0.0016394662819493471, 'lambda_l2': 0.00015320106458121288, 'num_leaves': 190, 'feature_fraction': 0.40042011422007495, 'bagging_fraction': 0.8700787693015681, 'bagging_freq': 6, 'min_child_samples': 56}. Best is trial 22 with value: 0.6979854955680902.\u001b[0m\n",
            "\u001b[32m[I 2022-12-13 16:06:00,699]\u001b[0m Trial 93 finished with value: 0.6946011281224819 and parameters: {'lambda_l1': 0.008238594149241173, 'lambda_l2': 3.1615201630504e-05, 'num_leaves': 174, 'feature_fraction': 0.4267565311075735, 'bagging_fraction': 0.9312119685132618, 'bagging_freq': 7, 'min_child_samples': 60}. Best is trial 22 with value: 0.6979854955680902.\u001b[0m\n",
            "\u001b[32m[I 2022-12-13 16:06:04,512]\u001b[0m Trial 94 finished with value: 0.6962127316680097 and parameters: {'lambda_l1': 0.0007331821727562117, 'lambda_l2': 0.003399882507636278, 'num_leaves': 165, 'feature_fraction': 0.4541178902528604, 'bagging_fraction': 0.9155382834529556, 'bagging_freq': 6, 'min_child_samples': 53}. Best is trial 22 with value: 0.6979854955680902.\u001b[0m\n",
            "\u001b[32m[I 2022-12-13 16:06:07,023]\u001b[0m Trial 95 finished with value: 0.6950846091861402 and parameters: {'lambda_l1': 0.0007863348766505847, 'lambda_l2': 0.0006582391558731872, 'num_leaves': 117, 'feature_fraction': 0.4600787781355827, 'bagging_fraction': 0.9796380869511507, 'bagging_freq': 6, 'min_child_samples': 53}. Best is trial 22 with value: 0.6979854955680902.\u001b[0m\n",
            "\u001b[32m[I 2022-12-13 16:06:09,134]\u001b[0m Trial 96 finished with value: 0.6920225624496373 and parameters: {'lambda_l1': 3.7024304711918554, 'lambda_l2': 0.031775796293499636, 'num_leaves': 73, 'feature_fraction': 0.7370308969415149, 'bagging_fraction': 0.8656432702391664, 'bagging_freq': 5, 'min_child_samples': 64}. Best is trial 22 with value: 0.6979854955680902.\u001b[0m\n",
            "\u001b[32m[I 2022-12-13 16:06:12,769]\u001b[0m Trial 97 finished with value: 0.6939564867042708 and parameters: {'lambda_l1': 0.001827220959621985, 'lambda_l2': 0.0022108001314173277, 'num_leaves': 168, 'feature_fraction': 0.48676296720006257, 'bagging_fraction': 0.8958826594351466, 'bagging_freq': 6, 'min_child_samples': 50}. Best is trial 22 with value: 0.6979854955680902.\u001b[0m\n",
            "\u001b[32m[I 2022-12-13 16:06:14,689]\u001b[0m Trial 98 finished with value: 0.6955680902497986 and parameters: {'lambda_l1': 0.021577631708349417, 'lambda_l2': 0.000142829833502076, 'num_leaves': 83, 'feature_fraction': 0.43084895772873366, 'bagging_fraction': 0.7214185303654441, 'bagging_freq': 7, 'min_child_samples': 47}. Best is trial 22 with value: 0.6979854955680902.\u001b[0m\n",
            "\u001b[32m[I 2022-12-13 16:06:17,441]\u001b[0m Trial 99 finished with value: 0.6931506849315069 and parameters: {'lambda_l1': 0.003911682818637421, 'lambda_l2': 0.09314093268867087, 'num_leaves': 176, 'feature_fraction': 0.5006665985923037, 'bagging_fraction': 0.5657018629679007, 'bagging_freq': 7, 'min_child_samples': 67}. Best is trial 22 with value: 0.6979854955680902.\u001b[0m\n"
          ]
        },
        {
          "output_type": "stream",
          "name": "stdout",
          "text": [
            "Number of finished trials: 100\n",
            "Best trial:\n",
            "  Value: 0.6979854955680902\n",
            "  Params: \n",
            "    lambda_l1: 3.3929244433226426e-05\n",
            "    lambda_l2: 0.28234873883550426\n",
            "    num_leaves: 256\n",
            "    feature_fraction: 0.4132529794883537\n",
            "    bagging_fraction: 0.5736835257318109\n",
            "    bagging_freq: 5\n",
            "    min_child_samples: 50\n"
          ]
        }
      ],
      "source": [
        "\n",
        "\n",
        "train_y_label = train_y\n",
        "valid_y_label = valid_y\n",
        "dtrain = lgb.Dataset(train_x, label=train_y_label)\n",
        "\n",
        "# FYI: Objective functions can take additional arguments\n",
        "# (https://optuna.readthedocs.io/en/stable/faq.html#objective-func-additional-args).\n",
        "def objective(trial):\n",
        "    param = {\n",
        "        \"objective\": \"multiclass\",\n",
        "        \"metric\": \"multi_logloss\",\n",
        "        \"verbosity\": -1,\n",
        "        \"boosting_type\": \"gbdt\",\n",
        "        \"lambda_l1\": trial.suggest_float(\"lambda_l1\", 1e-8, 10.0, log=True),\n",
        "        \"lambda_l2\": trial.suggest_float(\"lambda_l2\", 1e-8, 10.0, log=True),\n",
        "        \"num_leaves\": trial.suggest_int(\"num_leaves\", 2, 256),\n",
        "        \"feature_fraction\": trial.suggest_float(\"feature_fraction\", 0.4, 1.0),\n",
        "        \"bagging_fraction\": trial.suggest_float(\"bagging_fraction\", 0.4, 1.0),\n",
        "        \"bagging_freq\": trial.suggest_int(\"bagging_freq\", 1, 7),\n",
        "        \"min_child_samples\": trial.suggest_int(\"min_child_samples\", 5, 100),\n",
        "        'num_class': 3,\n",
        "    }\n",
        "\n",
        "    gbm = lgb.train(param, dtrain)\n",
        "    preds = gbm.predict(valid_x)\n",
        "    pred_labels = []\n",
        "    for i in range(0,len(preds)):\n",
        "        pred_labels.append(np.argmax(preds[i]))\n",
        "    accuracy = cal_acc(valid_y_label, pred_labels)\n",
        "    return accuracy\n",
        "\n",
        "def cal_acc(true, pred):\n",
        "    return np.mean(true==pred)\n",
        "\n",
        "study = optuna.create_study(direction=\"maximize\")\n",
        "study.optimize(objective, n_trials=100)\n",
        "\n",
        "print(\"Number of finished trials: {}\".format(len(study.trials)))\n",
        "\n",
        "print(\"Best trial:\")\n",
        "trial = study.best_trial\n",
        "\n",
        "print(\"  Value: {}\".format(trial.value))\n",
        "\n",
        "print(\"  Params: \")\n",
        "for key, value in trial.params.items():\n",
        "    print(\"    {}: {}\".format(key, value))"
      ]
    },
    {
      "cell_type": "code",
      "execution_count": null,
      "id": "e421edf6-11b4-4bdf-9a0f-c9355562997b",
      "metadata": {
        "id": "e421edf6-11b4-4bdf-9a0f-c9355562997b",
        "colab": {
          "base_uri": "https://localhost:8080/"
        },
        "outputId": "d40a72bd-7f7b-445f-b9ae-3adce31a7301"
      },
      "outputs": [
        {
          "output_type": "execute_result",
          "data": {
            "text/plain": [
              "{'lambda_l1': 3.3929244433226426e-05,\n",
              " 'lambda_l2': 0.28234873883550426,\n",
              " 'num_leaves': 256,\n",
              " 'feature_fraction': 0.4132529794883537,\n",
              " 'bagging_fraction': 0.5736835257318109,\n",
              " 'bagging_freq': 5,\n",
              " 'min_child_samples': 50}"
            ]
          },
          "metadata": {},
          "execution_count": 28
        }
      ],
      "source": [
        "lgb_best = study.best_params\n",
        "lgb_best"
      ]
    },
    {
      "cell_type": "markdown",
      "id": "21325b47-7c44-403c-a0d1-bd1b14ec4217",
      "metadata": {
        "id": "21325b47-7c44-403c-a0d1-bd1b14ec4217"
      },
      "source": [
        "### Stacking Ensemble"
      ]
    },
    {
      "cell_type": "code",
      "source": [
        "\n",
        "ctb_best = {'learning_rate': 0.15362257723138087,\n",
        "            'bagging_temperature': 3.273339035163163,\n",
        "            'n_estimators': 7334,\n",
        "            'max_depth': 9,\n",
        "            'random_strength': 40,\n",
        "            'colsample_bylevel': 0.6926796188277347,\n",
        "            'l2_leaf_reg': 0.0001443758305860141,\n",
        "            'min_child_samples': 49,\n",
        "            'max_bin': 396,\n",
        "            'od_type': 'IncToDec'}\n",
        "\n",
        "rf_best = {'max_depth': 16}\n",
        "\n",
        "lgb_best = {'lambda_l1': 3.3929244433226426e-05,\n",
        "            'lambda_l2': 0.28234873883550426,\n",
        "            'num_leaves': 256,\n",
        "            'feature_fraction': 0.4132529794883537,\n",
        "            'bagging_fraction': 0.5736835257318109,\n",
        "            'bagging_freq': 5,\n",
        "            'min_child_samples': 50}"
      ],
      "metadata": {
        "id": "OamRsI9E195g"
      },
      "id": "OamRsI9E195g",
      "execution_count": null,
      "outputs": []
    },
    {
      "cell_type": "code",
      "execution_count": null,
      "id": "472c2d85-4391-4234-9e3f-328af240758d",
      "metadata": {
        "id": "472c2d85-4391-4234-9e3f-328af240758d"
      },
      "outputs": [],
      "source": [
        "from sklearn.linear_model import LogisticRegression\n",
        "\n",
        "# get a stacking ensemble of models\n",
        "def get_stacking():\n",
        "\t# define the base models\n",
        "\tlevel0 = list()\n",
        "\tlevel0.append(('cat', CatBoostClassifier(**ctb_best)))\n",
        "\tlevel0.append(('rf', sklearn.ensemble.RandomForestClassifier(**rf_best)))\n",
        "\tlevel0.append(('lgb', lgb.LGBMClassifier(**lgb_best)))\n",
        "\t# define meta learner model\n",
        "\tlevel1 = LogisticRegression(max_iter=4000)\n",
        "\t# define the stacking ensemble\n",
        "\tmodel = StackingClassifier(estimators=level0, final_estimator=level1, cv=5)\n",
        "\treturn model\n",
        " \n",
        "# get a list of models to evaluate\n",
        "def get_models():\n",
        "\tmodels = dict()\n",
        "\t#models['svc'] = CatBoostClassifier(**ctb_best)\n",
        "\t#models['rf'] = sklearn.ensemble.RandomForestClassifier(**rf_best)\n",
        "\t#models['lgb'] = lgb.LGBMClassifier(**lgb_best)\n",
        "\tmodels['stacking'] = get_stacking()\n",
        "\treturn models\n",
        " \n",
        "# evaluate a give model using cross-validation\n",
        "def evaluate_model(model, x, y):\n",
        "\tcv = RepeatedStratifiedKFold(n_splits=5, n_repeats=3, random_state=1)\n",
        "\tscores = cross_val_score(model, x, y, scoring='neg_log_loss', cv=cv, n_jobs=-1)\n",
        "\treturn scores\n",
        " \n",
        "# get the models to evaluate\n",
        "models = get_models()\n",
        "\n",
        "# evaluate the models and store results\n",
        "results, names = list(), list()\n",
        "for name, model in models.items():\n",
        "\tscores = evaluate_model(model, x, y)\n",
        "\tresults.append(scores)\n",
        "\tnames.append(name)\n",
        "\tprint('>%s %.3f (%.3f)' % (name, np.mean(scores), np.std(scores)))\n"
      ]
    },
    {
      "cell_type": "code",
      "execution_count": null,
      "id": "2a4f6a5c-424f-405f-a5ff-aeeefe887d0a",
      "metadata": {
        "id": "2a4f6a5c-424f-405f-a5ff-aeeefe887d0a"
      },
      "outputs": [],
      "source": []
    },
    {
      "cell_type": "code",
      "execution_count": null,
      "id": "d7313cad-6a4d-457b-a811-491be980d810",
      "metadata": {
        "id": "d7313cad-6a4d-457b-a811-491be980d810"
      },
      "outputs": [],
      "source": []
    },
    {
      "cell_type": "code",
      "execution_count": null,
      "id": "5c692eea-426f-42d6-8441-ed589c3d97ce",
      "metadata": {
        "id": "5c692eea-426f-42d6-8441-ed589c3d97ce"
      },
      "outputs": [],
      "source": []
    },
    {
      "cell_type": "markdown",
      "id": "7e9e7698-f8cc-4ff3-baa6-69e7e3a88a9e",
      "metadata": {
        "id": "7e9e7698-f8cc-4ff3-baa6-69e7e3a88a9e"
      },
      "source": [
        "# plot model performance for comparison\n",
        "pyplot.boxplot(results, labels=names, showmeans=True)\n",
        "pyplot.show()"
      ]
    }
  ],
  "metadata": {
    "colab": {
      "provenance": []
    },
    "kernelspec": {
      "display_name": "Python 3 (ipykernel)",
      "language": "python",
      "name": "python3"
    },
    "language_info": {
      "codemirror_mode": {
        "name": "ipython",
        "version": 3
      },
      "file_extension": ".py",
      "mimetype": "text/x-python",
      "name": "python",
      "nbconvert_exporter": "python",
      "pygments_lexer": "ipython3",
      "version": "3.8.0"
    }
  },
  "nbformat": 4,
  "nbformat_minor": 5
}