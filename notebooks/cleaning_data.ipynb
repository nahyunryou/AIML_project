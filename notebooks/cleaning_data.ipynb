{
  "cells": [
    {
      "cell_type": "markdown",
      "metadata": {
        "id": "pR2n4d9gZ9Ei"
      },
      "source": [
        "# **Cleaning data**\n",
        "\n",
        "This notebook contains all the code from the first data cleaning performed to the raw datasets."
      ]
    },
    {
      "cell_type": "markdown",
      "metadata": {
        "id": "8WCDGK6KadEO"
      },
      "source": [
        "## **Setup**"
      ]
    },
    {
      "cell_type": "code",
      "execution_count": 23,
      "metadata": {
        "colab": {
          "base_uri": "https://localhost:8080/"
        },
        "id": "1s97lVOyaA_D",
        "outputId": "c264bf5f-9d50-46d5-abfb-bbf5e4b062b7"
      },
      "outputs": [
        {
          "name": "stdout",
          "output_type": "stream",
          "text": [
            "Cloning into 'AIML_project'...\n",
            "remote: Enumerating objects: 44, done.\u001b[K\n",
            "remote: Counting objects: 100% (44/44), done.\u001b[K\n",
            "remote: Compressing objects: 100% (40/40), done.\u001b[K\n",
            "remote: Total 44 (delta 14), reused 10 (delta 1), pack-reused 0\u001b[K\n",
            "Unpacking objects: 100% (44/44), done.\n"
          ]
        }
      ],
      "source": [
        "!git clone https://github.com/yeray142/AIML_project"
      ]
    },
    {
      "cell_type": "code",
      "execution_count": 24,
      "metadata": {
        "colab": {
          "base_uri": "https://localhost:8080/"
        },
        "id": "hiCwPruNahrh",
        "outputId": "5cd0660a-095a-49b3-b3c7-e7ae6bf84e5b"
      },
      "outputs": [
        {
          "name": "stdout",
          "output_type": "stream",
          "text": [
            "/content/AIML_project/AIML_project\n"
          ]
        }
      ],
      "source": [
        "cd AIML_project"
      ]
    },
    {
      "cell_type": "code",
      "execution_count": 1,
      "metadata": {
        "colab": {
          "base_uri": "https://localhost:8080/",
          "height": 458
        },
        "id": "z8yDf2nLail-",
        "outputId": "9c866d11-44a3-4b3d-c46c-d9337a04fdb5"
      },
      "outputs": [
        {
          "data": {
            "text/html": [
              "<div>\n",
              "<style scoped>\n",
              "    .dataframe tbody tr th:only-of-type {\n",
              "        vertical-align: middle;\n",
              "    }\n",
              "\n",
              "    .dataframe tbody tr th {\n",
              "        vertical-align: top;\n",
              "    }\n",
              "\n",
              "    .dataframe thead th {\n",
              "        text-align: right;\n",
              "    }\n",
              "</style>\n",
              "<table border=\"1\" class=\"dataframe\">\n",
              "  <thead>\n",
              "    <tr style=\"text-align: right;\">\n",
              "      <th></th>\n",
              "      <th>gender</th>\n",
              "      <th>car</th>\n",
              "      <th>reality</th>\n",
              "      <th>child_num</th>\n",
              "      <th>income_total</th>\n",
              "      <th>income_type</th>\n",
              "      <th>edu_type</th>\n",
              "      <th>family_type</th>\n",
              "      <th>house_type</th>\n",
              "      <th>DAYS_BIRTH</th>\n",
              "      <th>DAYS_EMPLOYED</th>\n",
              "      <th>FLAG_MOBIL</th>\n",
              "      <th>work_phone</th>\n",
              "      <th>phone</th>\n",
              "      <th>email</th>\n",
              "      <th>occyp_type</th>\n",
              "      <th>family_size</th>\n",
              "      <th>begin_month</th>\n",
              "      <th>credit</th>\n",
              "    </tr>\n",
              "    <tr>\n",
              "      <th>index</th>\n",
              "      <th></th>\n",
              "      <th></th>\n",
              "      <th></th>\n",
              "      <th></th>\n",
              "      <th></th>\n",
              "      <th></th>\n",
              "      <th></th>\n",
              "      <th></th>\n",
              "      <th></th>\n",
              "      <th></th>\n",
              "      <th></th>\n",
              "      <th></th>\n",
              "      <th></th>\n",
              "      <th></th>\n",
              "      <th></th>\n",
              "      <th></th>\n",
              "      <th></th>\n",
              "      <th></th>\n",
              "      <th></th>\n",
              "    </tr>\n",
              "  </thead>\n",
              "  <tbody>\n",
              "    <tr>\n",
              "      <th>0</th>\n",
              "      <td>F</td>\n",
              "      <td>N</td>\n",
              "      <td>N</td>\n",
              "      <td>0</td>\n",
              "      <td>202500.0</td>\n",
              "      <td>Commercial associate</td>\n",
              "      <td>Higher education</td>\n",
              "      <td>Married</td>\n",
              "      <td>Municipal apartment</td>\n",
              "      <td>-13899</td>\n",
              "      <td>-4709</td>\n",
              "      <td>1</td>\n",
              "      <td>0</td>\n",
              "      <td>0</td>\n",
              "      <td>0</td>\n",
              "      <td>NaN</td>\n",
              "      <td>2.0</td>\n",
              "      <td>-6.0</td>\n",
              "      <td>1.0</td>\n",
              "    </tr>\n",
              "    <tr>\n",
              "      <th>1</th>\n",
              "      <td>F</td>\n",
              "      <td>N</td>\n",
              "      <td>Y</td>\n",
              "      <td>1</td>\n",
              "      <td>247500.0</td>\n",
              "      <td>Commercial associate</td>\n",
              "      <td>Secondary / secondary special</td>\n",
              "      <td>Civil marriage</td>\n",
              "      <td>House / apartment</td>\n",
              "      <td>-11380</td>\n",
              "      <td>-1540</td>\n",
              "      <td>1</td>\n",
              "      <td>0</td>\n",
              "      <td>0</td>\n",
              "      <td>1</td>\n",
              "      <td>Laborers</td>\n",
              "      <td>3.0</td>\n",
              "      <td>-5.0</td>\n",
              "      <td>1.0</td>\n",
              "    </tr>\n",
              "    <tr>\n",
              "      <th>2</th>\n",
              "      <td>M</td>\n",
              "      <td>Y</td>\n",
              "      <td>Y</td>\n",
              "      <td>0</td>\n",
              "      <td>450000.0</td>\n",
              "      <td>Working</td>\n",
              "      <td>Higher education</td>\n",
              "      <td>Married</td>\n",
              "      <td>House / apartment</td>\n",
              "      <td>-19087</td>\n",
              "      <td>-4434</td>\n",
              "      <td>1</td>\n",
              "      <td>0</td>\n",
              "      <td>1</td>\n",
              "      <td>0</td>\n",
              "      <td>Managers</td>\n",
              "      <td>2.0</td>\n",
              "      <td>-22.0</td>\n",
              "      <td>2.0</td>\n",
              "    </tr>\n",
              "    <tr>\n",
              "      <th>3</th>\n",
              "      <td>F</td>\n",
              "      <td>N</td>\n",
              "      <td>Y</td>\n",
              "      <td>0</td>\n",
              "      <td>202500.0</td>\n",
              "      <td>Commercial associate</td>\n",
              "      <td>Secondary / secondary special</td>\n",
              "      <td>Married</td>\n",
              "      <td>House / apartment</td>\n",
              "      <td>-15088</td>\n",
              "      <td>-2092</td>\n",
              "      <td>1</td>\n",
              "      <td>0</td>\n",
              "      <td>1</td>\n",
              "      <td>0</td>\n",
              "      <td>Sales staff</td>\n",
              "      <td>2.0</td>\n",
              "      <td>-37.0</td>\n",
              "      <td>0.0</td>\n",
              "    </tr>\n",
              "    <tr>\n",
              "      <th>4</th>\n",
              "      <td>F</td>\n",
              "      <td>Y</td>\n",
              "      <td>Y</td>\n",
              "      <td>0</td>\n",
              "      <td>157500.0</td>\n",
              "      <td>State servant</td>\n",
              "      <td>Higher education</td>\n",
              "      <td>Married</td>\n",
              "      <td>House / apartment</td>\n",
              "      <td>-15037</td>\n",
              "      <td>-2105</td>\n",
              "      <td>1</td>\n",
              "      <td>0</td>\n",
              "      <td>0</td>\n",
              "      <td>0</td>\n",
              "      <td>Managers</td>\n",
              "      <td>2.0</td>\n",
              "      <td>-26.0</td>\n",
              "      <td>2.0</td>\n",
              "    </tr>\n",
              "  </tbody>\n",
              "</table>\n",
              "</div>"
            ],
            "text/plain": [
              "      gender car reality  child_num  income_total           income_type  \\\n",
              "index                                                                     \n",
              "0          F   N       N          0      202500.0  Commercial associate   \n",
              "1          F   N       Y          1      247500.0  Commercial associate   \n",
              "2          M   Y       Y          0      450000.0               Working   \n",
              "3          F   N       Y          0      202500.0  Commercial associate   \n",
              "4          F   Y       Y          0      157500.0         State servant   \n",
              "\n",
              "                            edu_type     family_type           house_type  \\\n",
              "index                                                                       \n",
              "0                   Higher education         Married  Municipal apartment   \n",
              "1      Secondary / secondary special  Civil marriage    House / apartment   \n",
              "2                   Higher education         Married    House / apartment   \n",
              "3      Secondary / secondary special         Married    House / apartment   \n",
              "4                   Higher education         Married    House / apartment   \n",
              "\n",
              "       DAYS_BIRTH  DAYS_EMPLOYED  FLAG_MOBIL  work_phone  phone  email  \\\n",
              "index                                                                    \n",
              "0          -13899          -4709           1           0      0      0   \n",
              "1          -11380          -1540           1           0      0      1   \n",
              "2          -19087          -4434           1           0      1      0   \n",
              "3          -15088          -2092           1           0      1      0   \n",
              "4          -15037          -2105           1           0      0      0   \n",
              "\n",
              "        occyp_type  family_size  begin_month  credit  \n",
              "index                                                 \n",
              "0              NaN          2.0         -6.0     1.0  \n",
              "1         Laborers          3.0         -5.0     1.0  \n",
              "2         Managers          2.0        -22.0     2.0  \n",
              "3      Sales staff          2.0        -37.0     0.0  \n",
              "4         Managers          2.0        -26.0     2.0  "
            ]
          },
          "execution_count": 1,
          "metadata": {},
          "output_type": "execute_result"
        }
      ],
      "source": [
        "import pandas as pd\n",
        "import numpy as np\n",
        "\n",
        "train = pd.read_csv(\"../data/archive/train.csv\", index_col=0)\n",
        "test = pd.read_csv(\"../data/archive/test.csv\", index_col=0)\n",
        "train.head()"
      ]
    },
    {
      "cell_type": "markdown",
      "metadata": {
        "id": "bwSp1wFfarus"
      },
      "source": [
        "## **Basic cleaning**"
      ]
    },
    {
      "cell_type": "markdown",
      "metadata": {
        "id": "vraTLiugbCyX"
      },
      "source": [
        "We will rename some columns just to standarize their names:"
      ]
    },
    {
      "cell_type": "code",
      "execution_count": 2,
      "metadata": {
        "colab": {
          "base_uri": "https://localhost:8080/"
        },
        "id": "asS4lPxeawiP",
        "outputId": "703f3bc2-ea57-4b69-e273-906a69167acf"
      },
      "outputs": [
        {
          "data": {
            "text/plain": [
              "Index(['gender', 'car', 'reality', 'child_num', 'income_total', 'income_type',\n",
              "       'edu_type', 'family_type', 'house_type', 'days_birth', 'days_employed',\n",
              "       'mobile_phone', 'work_phone', 'home_phone', 'email', 'occup_type',\n",
              "       'family_size', 'begin_month', 'credit'],\n",
              "      dtype='object')"
            ]
          },
          "execution_count": 2,
          "metadata": {},
          "output_type": "execute_result"
        }
      ],
      "source": [
        "train.rename(columns={\n",
        "    \"DAYS_BIRTH\": \"days_birth\", \n",
        "    \"DAYS_EMPLOYED\": \"days_employed\",\n",
        "    \"FLAG_MOBIL\": \"mobile_phone\",\n",
        "    \"phone\": \"home_phone\",\n",
        "    \"occyp_type\": \"occup_type\"\n",
        "    }, inplace=True)\n",
        "\n",
        "train.columns"
      ]
    },
    {
      "cell_type": "code",
      "execution_count": 3,
      "metadata": {
        "colab": {
          "base_uri": "https://localhost:8080/"
        },
        "id": "_2ux_NxKpu7b",
        "outputId": "745ed531-c2b6-4518-ff26-1ec6c1f63b5f"
      },
      "outputs": [
        {
          "data": {
            "text/plain": [
              "Index(['gender', 'car', 'reality', 'child_num', 'income_total', 'income_type',\n",
              "       'edu_type', 'family_type', 'house_type', 'days_birth', 'days_employed',\n",
              "       'mobile_phone', 'work_phone', 'home_phone', 'email', 'occup_type',\n",
              "       'family_size', 'begin_month'],\n",
              "      dtype='object')"
            ]
          },
          "execution_count": 3,
          "metadata": {},
          "output_type": "execute_result"
        }
      ],
      "source": [
        "test.rename(columns={\n",
        "    \"DAYS_BIRTH\": \"days_birth\", \n",
        "    \"DAYS_EMPLOYED\": \"days_employed\",\n",
        "    \"FLAG_MOBIL\": \"mobile_phone\",\n",
        "    \"phone\": \"home_phone\",\n",
        "    \"occyp_type\": \"occup_type\"\n",
        "    }, inplace=True)\n",
        "\n",
        "test.columns"
      ]
    },
    {
      "cell_type": "markdown",
      "metadata": {
        "id": "fAZeE367c1fV"
      },
      "source": [
        "As the only variable with null values is occup_type, let's fill these null values with \"No job\"."
      ]
    },
    {
      "cell_type": "code",
      "execution_count": 4,
      "metadata": {
        "colab": {
          "base_uri": "https://localhost:8080/"
        },
        "id": "2h8delUgcdXj",
        "outputId": "d34f90b2-e0d2-48ea-cfc4-672e2c1458d5"
      },
      "outputs": [
        {
          "name": "stdout",
          "output_type": "stream",
          "text": [
            "<class 'pandas.core.frame.DataFrame'>\n",
            "Int64Index: 26457 entries, 0 to 26456\n",
            "Data columns (total 19 columns):\n",
            " #   Column         Non-Null Count  Dtype  \n",
            "---  ------         --------------  -----  \n",
            " 0   gender         26457 non-null  object \n",
            " 1   car            26457 non-null  object \n",
            " 2   reality        26457 non-null  object \n",
            " 3   child_num      26457 non-null  int64  \n",
            " 4   income_total   26457 non-null  float64\n",
            " 5   income_type    26457 non-null  object \n",
            " 6   edu_type       26457 non-null  object \n",
            " 7   family_type    26457 non-null  object \n",
            " 8   house_type     26457 non-null  object \n",
            " 9   days_birth     26457 non-null  int64  \n",
            " 10  days_employed  26457 non-null  int64  \n",
            " 11  mobile_phone   26457 non-null  int64  \n",
            " 12  work_phone     26457 non-null  int64  \n",
            " 13  home_phone     26457 non-null  int64  \n",
            " 14  email          26457 non-null  int64  \n",
            " 15  occup_type     26457 non-null  object \n",
            " 16  family_size    26457 non-null  float64\n",
            " 17  begin_month    26457 non-null  float64\n",
            " 18  credit         26457 non-null  float64\n",
            "dtypes: float64(4), int64(7), object(8)\n",
            "memory usage: 4.0+ MB\n"
          ]
        }
      ],
      "source": [
        "train.fillna(\"No job\", inplace=True)\n",
        "train.info()"
      ]
    },
    {
      "cell_type": "code",
      "execution_count": 5,
      "metadata": {
        "colab": {
          "base_uri": "https://localhost:8080/"
        },
        "id": "HKTQ3p1Cp2Ne",
        "outputId": "86d05414-fc07-42a8-8a03-62a1a7629487"
      },
      "outputs": [
        {
          "name": "stdout",
          "output_type": "stream",
          "text": [
            "<class 'pandas.core.frame.DataFrame'>\n",
            "Int64Index: 10000 entries, 26457 to 36456\n",
            "Data columns (total 18 columns):\n",
            " #   Column         Non-Null Count  Dtype  \n",
            "---  ------         --------------  -----  \n",
            " 0   gender         10000 non-null  object \n",
            " 1   car            10000 non-null  object \n",
            " 2   reality        10000 non-null  object \n",
            " 3   child_num      10000 non-null  int64  \n",
            " 4   income_total   10000 non-null  float64\n",
            " 5   income_type    10000 non-null  object \n",
            " 6   edu_type       10000 non-null  object \n",
            " 7   family_type    10000 non-null  object \n",
            " 8   house_type     10000 non-null  object \n",
            " 9   days_birth     10000 non-null  int64  \n",
            " 10  days_employed  10000 non-null  int64  \n",
            " 11  mobile_phone   10000 non-null  int64  \n",
            " 12  work_phone     10000 non-null  int64  \n",
            " 13  home_phone     10000 non-null  int64  \n",
            " 14  email          10000 non-null  int64  \n",
            " 15  occup_type     10000 non-null  object \n",
            " 16  family_size    10000 non-null  float64\n",
            " 17  begin_month    10000 non-null  float64\n",
            "dtypes: float64(3), int64(7), object(8)\n",
            "memory usage: 1.4+ MB\n"
          ]
        }
      ],
      "source": [
        "test.fillna(\"No job\", inplace=True)\n",
        "test.info()"
      ]
    },
    {
      "cell_type": "markdown",
      "metadata": {
        "id": "vi_ZtiYwdJW_"
      },
      "source": [
        "Removing mobile_phone, as everyone has a mobile phone, so this variable is redundant:"
      ]
    },
    {
      "cell_type": "code",
      "execution_count": 6,
      "metadata": {
        "colab": {
          "base_uri": "https://localhost:8080/"
        },
        "id": "__vaLGUBdIBR",
        "outputId": "66cb1176-cab8-4110-903a-622558a54226"
      },
      "outputs": [
        {
          "name": "stdout",
          "output_type": "stream",
          "text": [
            "Index(['gender', 'car', 'reality', 'child_num', 'income_total', 'income_type',\n",
            "       'edu_type', 'family_type', 'house_type', 'days_birth', 'days_employed',\n",
            "       'work_phone', 'home_phone', 'email', 'occup_type', 'family_size',\n",
            "       'begin_month', 'credit'],\n",
            "      dtype='object')\n",
            "Index(['gender', 'car', 'reality', 'child_num', 'income_total', 'income_type',\n",
            "       'edu_type', 'family_type', 'house_type', 'days_birth', 'days_employed',\n",
            "       'work_phone', 'home_phone', 'email', 'occup_type', 'family_size',\n",
            "       'begin_month'],\n",
            "      dtype='object')\n"
          ]
        }
      ],
      "source": [
        "try:\n",
        "  train.pop(\"mobile_phone\")\n",
        "  test.pop(\"mobile_phone\")\n",
        "except:\n",
        "  print(\"mobile_phone is already removed.\")\n",
        "\n",
        "print(train.columns)\n",
        "print(test.columns)"
      ]
    },
    {
      "cell_type": "markdown",
      "metadata": {
        "id": "Phc7wBVte4DD"
      },
      "source": [
        "Let's normalize the days_employed variable:"
      ]
    },
    {
      "cell_type": "code",
      "execution_count": 7,
      "metadata": {
        "colab": {
          "base_uri": "https://localhost:8080/",
          "height": 145
        },
        "id": "fWzWUoWMeE-s",
        "outputId": "7751adfb-4618-4e8b-c0fd-e77cb48404cc"
      },
      "outputs": [
        {
          "data": {
            "text/html": [
              "<div>\n",
              "<style scoped>\n",
              "    .dataframe tbody tr th:only-of-type {\n",
              "        vertical-align: middle;\n",
              "    }\n",
              "\n",
              "    .dataframe tbody tr th {\n",
              "        vertical-align: top;\n",
              "    }\n",
              "\n",
              "    .dataframe thead th {\n",
              "        text-align: right;\n",
              "    }\n",
              "</style>\n",
              "<table border=\"1\" class=\"dataframe\">\n",
              "  <thead>\n",
              "    <tr style=\"text-align: right;\">\n",
              "      <th></th>\n",
              "      <th>gender</th>\n",
              "      <th>car</th>\n",
              "      <th>reality</th>\n",
              "      <th>child_num</th>\n",
              "      <th>income_total</th>\n",
              "      <th>income_type</th>\n",
              "      <th>edu_type</th>\n",
              "      <th>family_type</th>\n",
              "      <th>house_type</th>\n",
              "      <th>days_birth</th>\n",
              "      <th>days_employed</th>\n",
              "      <th>work_phone</th>\n",
              "      <th>home_phone</th>\n",
              "      <th>email</th>\n",
              "      <th>occup_type</th>\n",
              "      <th>family_size</th>\n",
              "      <th>begin_month</th>\n",
              "      <th>credit</th>\n",
              "    </tr>\n",
              "    <tr>\n",
              "      <th>index</th>\n",
              "      <th></th>\n",
              "      <th></th>\n",
              "      <th></th>\n",
              "      <th></th>\n",
              "      <th></th>\n",
              "      <th></th>\n",
              "      <th></th>\n",
              "      <th></th>\n",
              "      <th></th>\n",
              "      <th></th>\n",
              "      <th></th>\n",
              "      <th></th>\n",
              "      <th></th>\n",
              "      <th></th>\n",
              "      <th></th>\n",
              "      <th></th>\n",
              "      <th></th>\n",
              "      <th></th>\n",
              "    </tr>\n",
              "  </thead>\n",
              "  <tbody>\n",
              "  </tbody>\n",
              "</table>\n",
              "</div>"
            ],
            "text/plain": [
              "Empty DataFrame\n",
              "Columns: [gender, car, reality, child_num, income_total, income_type, edu_type, family_type, house_type, days_birth, days_employed, work_phone, home_phone, email, occup_type, family_size, begin_month, credit]\n",
              "Index: []"
            ]
          },
          "execution_count": 7,
          "metadata": {},
          "output_type": "execute_result"
        }
      ],
      "source": [
        "train.loc[(train.days_employed) >= 0,'days_employed'] = 0 # Some values are greater than 0, and this is impossible so we will change it into 0.\n",
        "train[train['days_employed'] > 0].head()"
      ]
    },
    {
      "cell_type": "code",
      "execution_count": 8,
      "metadata": {
        "colab": {
          "base_uri": "https://localhost:8080/",
          "height": 145
        },
        "id": "ADTwl-c1qP4k",
        "outputId": "d0064c70-52a1-40f4-b004-ac390632722f"
      },
      "outputs": [
        {
          "data": {
            "text/html": [
              "<div>\n",
              "<style scoped>\n",
              "    .dataframe tbody tr th:only-of-type {\n",
              "        vertical-align: middle;\n",
              "    }\n",
              "\n",
              "    .dataframe tbody tr th {\n",
              "        vertical-align: top;\n",
              "    }\n",
              "\n",
              "    .dataframe thead th {\n",
              "        text-align: right;\n",
              "    }\n",
              "</style>\n",
              "<table border=\"1\" class=\"dataframe\">\n",
              "  <thead>\n",
              "    <tr style=\"text-align: right;\">\n",
              "      <th></th>\n",
              "      <th>gender</th>\n",
              "      <th>car</th>\n",
              "      <th>reality</th>\n",
              "      <th>child_num</th>\n",
              "      <th>income_total</th>\n",
              "      <th>income_type</th>\n",
              "      <th>edu_type</th>\n",
              "      <th>family_type</th>\n",
              "      <th>house_type</th>\n",
              "      <th>days_birth</th>\n",
              "      <th>days_employed</th>\n",
              "      <th>work_phone</th>\n",
              "      <th>home_phone</th>\n",
              "      <th>email</th>\n",
              "      <th>occup_type</th>\n",
              "      <th>family_size</th>\n",
              "      <th>begin_month</th>\n",
              "    </tr>\n",
              "    <tr>\n",
              "      <th>index</th>\n",
              "      <th></th>\n",
              "      <th></th>\n",
              "      <th></th>\n",
              "      <th></th>\n",
              "      <th></th>\n",
              "      <th></th>\n",
              "      <th></th>\n",
              "      <th></th>\n",
              "      <th></th>\n",
              "      <th></th>\n",
              "      <th></th>\n",
              "      <th></th>\n",
              "      <th></th>\n",
              "      <th></th>\n",
              "      <th></th>\n",
              "      <th></th>\n",
              "      <th></th>\n",
              "    </tr>\n",
              "  </thead>\n",
              "  <tbody>\n",
              "  </tbody>\n",
              "</table>\n",
              "</div>"
            ],
            "text/plain": [
              "Empty DataFrame\n",
              "Columns: [gender, car, reality, child_num, income_total, income_type, edu_type, family_type, house_type, days_birth, days_employed, work_phone, home_phone, email, occup_type, family_size, begin_month]\n",
              "Index: []"
            ]
          },
          "execution_count": 8,
          "metadata": {},
          "output_type": "execute_result"
        }
      ],
      "source": [
        "test.loc[(test.days_employed) >= 0,'days_employed'] = 0\n",
        "test[test['days_employed'] > 0].head()"
      ]
    },
    {
      "cell_type": "markdown",
      "metadata": {
        "id": "ht-dRKR5fzQb"
      },
      "source": [
        "We will have to delete the following indices as the number of children in the family is equal or greater than the family size:"
      ]
    },
    {
      "cell_type": "code",
      "execution_count": 9,
      "metadata": {
        "colab": {
          "base_uri": "https://localhost:8080/",
          "height": 562
        },
        "id": "VodyD2KFejHW",
        "outputId": "dcd9590c-91f7-4a86-e810-4058f5e7f574"
      },
      "outputs": [
        {
          "data": {
            "text/html": [
              "<div>\n",
              "<style scoped>\n",
              "    .dataframe tbody tr th:only-of-type {\n",
              "        vertical-align: middle;\n",
              "    }\n",
              "\n",
              "    .dataframe tbody tr th {\n",
              "        vertical-align: top;\n",
              "    }\n",
              "\n",
              "    .dataframe thead th {\n",
              "        text-align: right;\n",
              "    }\n",
              "</style>\n",
              "<table border=\"1\" class=\"dataframe\">\n",
              "  <thead>\n",
              "    <tr style=\"text-align: right;\">\n",
              "      <th></th>\n",
              "      <th>gender</th>\n",
              "      <th>car</th>\n",
              "      <th>reality</th>\n",
              "      <th>child_num</th>\n",
              "      <th>income_total</th>\n",
              "      <th>income_type</th>\n",
              "      <th>edu_type</th>\n",
              "      <th>family_type</th>\n",
              "      <th>house_type</th>\n",
              "      <th>days_birth</th>\n",
              "      <th>days_employed</th>\n",
              "      <th>work_phone</th>\n",
              "      <th>home_phone</th>\n",
              "      <th>email</th>\n",
              "      <th>occup_type</th>\n",
              "      <th>family_size</th>\n",
              "      <th>begin_month</th>\n",
              "      <th>credit</th>\n",
              "    </tr>\n",
              "    <tr>\n",
              "      <th>index</th>\n",
              "      <th></th>\n",
              "      <th></th>\n",
              "      <th></th>\n",
              "      <th></th>\n",
              "      <th></th>\n",
              "      <th></th>\n",
              "      <th></th>\n",
              "      <th></th>\n",
              "      <th></th>\n",
              "      <th></th>\n",
              "      <th></th>\n",
              "      <th></th>\n",
              "      <th></th>\n",
              "      <th></th>\n",
              "      <th></th>\n",
              "      <th></th>\n",
              "      <th></th>\n",
              "      <th></th>\n",
              "    </tr>\n",
              "  </thead>\n",
              "  <tbody>\n",
              "    <tr>\n",
              "      <th>5825</th>\n",
              "      <td>M</td>\n",
              "      <td>Y</td>\n",
              "      <td>Y</td>\n",
              "      <td>1</td>\n",
              "      <td>450000.0</td>\n",
              "      <td>Commercial associate</td>\n",
              "      <td>Secondary / secondary special</td>\n",
              "      <td>Single / not married</td>\n",
              "      <td>House / apartment</td>\n",
              "      <td>-18173</td>\n",
              "      <td>-678</td>\n",
              "      <td>0</td>\n",
              "      <td>1</td>\n",
              "      <td>1</td>\n",
              "      <td>Core staff</td>\n",
              "      <td>1.0</td>\n",
              "      <td>-16.0</td>\n",
              "      <td>2.0</td>\n",
              "    </tr>\n",
              "    <tr>\n",
              "      <th>14900</th>\n",
              "      <td>M</td>\n",
              "      <td>Y</td>\n",
              "      <td>N</td>\n",
              "      <td>2</td>\n",
              "      <td>225000.0</td>\n",
              "      <td>Working</td>\n",
              "      <td>Secondary / secondary special</td>\n",
              "      <td>Married</td>\n",
              "      <td>House / apartment</td>\n",
              "      <td>-14776</td>\n",
              "      <td>-2212</td>\n",
              "      <td>0</td>\n",
              "      <td>0</td>\n",
              "      <td>0</td>\n",
              "      <td>Drivers</td>\n",
              "      <td>1.0</td>\n",
              "      <td>-30.0</td>\n",
              "      <td>2.0</td>\n",
              "    </tr>\n",
              "    <tr>\n",
              "      <th>16110</th>\n",
              "      <td>F</td>\n",
              "      <td>N</td>\n",
              "      <td>Y</td>\n",
              "      <td>1</td>\n",
              "      <td>108000.0</td>\n",
              "      <td>Working</td>\n",
              "      <td>Secondary / secondary special</td>\n",
              "      <td>Single / not married</td>\n",
              "      <td>House / apartment</td>\n",
              "      <td>-12723</td>\n",
              "      <td>-1132</td>\n",
              "      <td>1</td>\n",
              "      <td>1</td>\n",
              "      <td>0</td>\n",
              "      <td>Sales staff</td>\n",
              "      <td>1.0</td>\n",
              "      <td>-48.0</td>\n",
              "      <td>2.0</td>\n",
              "    </tr>\n",
              "    <tr>\n",
              "      <th>16791</th>\n",
              "      <td>F</td>\n",
              "      <td>N</td>\n",
              "      <td>Y</td>\n",
              "      <td>1</td>\n",
              "      <td>126000.0</td>\n",
              "      <td>Working</td>\n",
              "      <td>Secondary / secondary special</td>\n",
              "      <td>Married</td>\n",
              "      <td>House / apartment</td>\n",
              "      <td>-12140</td>\n",
              "      <td>-779</td>\n",
              "      <td>0</td>\n",
              "      <td>0</td>\n",
              "      <td>0</td>\n",
              "      <td>Core staff</td>\n",
              "      <td>1.0</td>\n",
              "      <td>-37.0</td>\n",
              "      <td>2.0</td>\n",
              "    </tr>\n",
              "    <tr>\n",
              "      <th>18879</th>\n",
              "      <td>M</td>\n",
              "      <td>N</td>\n",
              "      <td>Y</td>\n",
              "      <td>1</td>\n",
              "      <td>126000.0</td>\n",
              "      <td>Commercial associate</td>\n",
              "      <td>Secondary / secondary special</td>\n",
              "      <td>Civil marriage</td>\n",
              "      <td>House / apartment</td>\n",
              "      <td>-12755</td>\n",
              "      <td>-2105</td>\n",
              "      <td>0</td>\n",
              "      <td>0</td>\n",
              "      <td>0</td>\n",
              "      <td>No job</td>\n",
              "      <td>1.0</td>\n",
              "      <td>-39.0</td>\n",
              "      <td>2.0</td>\n",
              "    </tr>\n",
              "  </tbody>\n",
              "</table>\n",
              "</div>"
            ],
            "text/plain": [
              "      gender car reality  child_num  income_total           income_type  \\\n",
              "index                                                                     \n",
              "5825       M   Y       Y          1      450000.0  Commercial associate   \n",
              "14900      M   Y       N          2      225000.0               Working   \n",
              "16110      F   N       Y          1      108000.0               Working   \n",
              "16791      F   N       Y          1      126000.0               Working   \n",
              "18879      M   N       Y          1      126000.0  Commercial associate   \n",
              "\n",
              "                            edu_type           family_type         house_type  \\\n",
              "index                                                                           \n",
              "5825   Secondary / secondary special  Single / not married  House / apartment   \n",
              "14900  Secondary / secondary special               Married  House / apartment   \n",
              "16110  Secondary / secondary special  Single / not married  House / apartment   \n",
              "16791  Secondary / secondary special               Married  House / apartment   \n",
              "18879  Secondary / secondary special        Civil marriage  House / apartment   \n",
              "\n",
              "       days_birth  days_employed  work_phone  home_phone  email   occup_type  \\\n",
              "index                                                                          \n",
              "5825       -18173           -678           0           1      1   Core staff   \n",
              "14900      -14776          -2212           0           0      0      Drivers   \n",
              "16110      -12723          -1132           1           1      0  Sales staff   \n",
              "16791      -12140           -779           0           0      0   Core staff   \n",
              "18879      -12755          -2105           0           0      0       No job   \n",
              "\n",
              "       family_size  begin_month  credit  \n",
              "index                                    \n",
              "5825           1.0        -16.0     2.0  \n",
              "14900          1.0        -30.0     2.0  \n",
              "16110          1.0        -48.0     2.0  \n",
              "16791          1.0        -37.0     2.0  \n",
              "18879          1.0        -39.0     2.0  "
            ]
          },
          "execution_count": 9,
          "metadata": {},
          "output_type": "execute_result"
        }
      ],
      "source": [
        "train[train['child_num'] >= train[\"family_size\"]].head()"
      ]
    },
    {
      "cell_type": "code",
      "execution_count": 10,
      "metadata": {
        "id": "GMP1X7hQgebD"
      },
      "outputs": [],
      "source": [
        "train.drop(train.loc[(train.child_num) >= (train.family_size)].index, inplace=True)"
      ]
    },
    {
      "cell_type": "code",
      "execution_count": 11,
      "metadata": {
        "colab": {
          "base_uri": "https://localhost:8080/",
          "height": 145
        },
        "id": "eQLPZrftg6DE",
        "outputId": "45d38be7-eef9-4855-dcac-1ef726d81536"
      },
      "outputs": [
        {
          "data": {
            "text/html": [
              "<div>\n",
              "<style scoped>\n",
              "    .dataframe tbody tr th:only-of-type {\n",
              "        vertical-align: middle;\n",
              "    }\n",
              "\n",
              "    .dataframe tbody tr th {\n",
              "        vertical-align: top;\n",
              "    }\n",
              "\n",
              "    .dataframe thead th {\n",
              "        text-align: right;\n",
              "    }\n",
              "</style>\n",
              "<table border=\"1\" class=\"dataframe\">\n",
              "  <thead>\n",
              "    <tr style=\"text-align: right;\">\n",
              "      <th></th>\n",
              "      <th>gender</th>\n",
              "      <th>car</th>\n",
              "      <th>reality</th>\n",
              "      <th>child_num</th>\n",
              "      <th>income_total</th>\n",
              "      <th>income_type</th>\n",
              "      <th>edu_type</th>\n",
              "      <th>family_type</th>\n",
              "      <th>house_type</th>\n",
              "      <th>days_birth</th>\n",
              "      <th>days_employed</th>\n",
              "      <th>work_phone</th>\n",
              "      <th>home_phone</th>\n",
              "      <th>email</th>\n",
              "      <th>occup_type</th>\n",
              "      <th>family_size</th>\n",
              "      <th>begin_month</th>\n",
              "      <th>credit</th>\n",
              "    </tr>\n",
              "    <tr>\n",
              "      <th>index</th>\n",
              "      <th></th>\n",
              "      <th></th>\n",
              "      <th></th>\n",
              "      <th></th>\n",
              "      <th></th>\n",
              "      <th></th>\n",
              "      <th></th>\n",
              "      <th></th>\n",
              "      <th></th>\n",
              "      <th></th>\n",
              "      <th></th>\n",
              "      <th></th>\n",
              "      <th></th>\n",
              "      <th></th>\n",
              "      <th></th>\n",
              "      <th></th>\n",
              "      <th></th>\n",
              "      <th></th>\n",
              "    </tr>\n",
              "  </thead>\n",
              "  <tbody>\n",
              "  </tbody>\n",
              "</table>\n",
              "</div>"
            ],
            "text/plain": [
              "Empty DataFrame\n",
              "Columns: [gender, car, reality, child_num, income_total, income_type, edu_type, family_type, house_type, days_birth, days_employed, work_phone, home_phone, email, occup_type, family_size, begin_month, credit]\n",
              "Index: []"
            ]
          },
          "execution_count": 11,
          "metadata": {},
          "output_type": "execute_result"
        }
      ],
      "source": [
        "train[train['child_num'] >= train[\"family_size\"]].head()"
      ]
    },
    {
      "cell_type": "markdown",
      "metadata": {
        "id": "Cbhran4Thfgb"
      },
      "source": [
        "## **Handling duplicated values**"
      ]
    },
    {
      "cell_type": "markdown",
      "metadata": {},
      "source": [
        "We will create a CODE variable to handle with the data of the same person."
      ]
    },
    {
      "cell_type": "code",
      "execution_count": 12,
      "metadata": {},
      "outputs": [],
      "source": [
        "train['CODE'] = train['gender']+train['days_birth'].apply(str)+train['income_total'].apply(str)+train['income_type'].apply(str)\n",
        "test['CODE'] = test['gender']+test['days_birth'].apply(str)+test['income_total'].apply(str)+test['income_type'].apply(str)"
      ]
    },
    {
      "cell_type": "markdown",
      "metadata": {
        "id": "Vvd2x3hvi5PO"
      },
      "source": [
        "We have some duplicated values (including the credit variable), let's drop them:"
      ]
    },
    {
      "cell_type": "code",
      "execution_count": 14,
      "metadata": {
        "colab": {
          "base_uri": "https://localhost:8080/"
        },
        "id": "tTl8ZIAkhFaM",
        "outputId": "79ab7bdd-cb16-4c5f-dda2-093678498a2f"
      },
      "outputs": [
        {
          "data": {
            "text/plain": [
              "(1634, 19)"
            ]
          },
          "execution_count": 14,
          "metadata": {},
          "output_type": "execute_result"
        }
      ],
      "source": [
        "train[train.duplicated()].shape"
      ]
    },
    {
      "cell_type": "code",
      "execution_count": 15,
      "metadata": {
        "colab": {
          "base_uri": "https://localhost:8080/"
        },
        "id": "sKKmW0WBiRFX",
        "outputId": "ccb136e3-7df5-40df-e84c-4737884f16a8"
      },
      "outputs": [
        {
          "data": {
            "text/plain": [
              "(0, 19)"
            ]
          },
          "execution_count": 15,
          "metadata": {},
          "output_type": "execute_result"
        }
      ],
      "source": [
        "train.drop_duplicates(keep=\"first\", inplace=True)\n",
        "train[train.duplicated()].shape"
      ]
    },
    {
      "cell_type": "markdown",
      "metadata": {
        "id": "1f54ufzFkF1O"
      },
      "source": [
        "(DEPRECATED) Excluding the credit variable, we also have some duplicated values with different credit score. So, let's remove all of them: (DEPRECATED)"
      ]
    },
    {
      "cell_type": "code",
      "execution_count": 18,
      "metadata": {
        "colab": {
          "base_uri": "https://localhost:8080/"
        },
        "id": "Lm1Lds7wjeVi",
        "outputId": "1e5735dd-cfde-45f9-9ab3-ccc6b93c8de1"
      },
      "outputs": [
        {
          "data": {
            "text/plain": [
              "(1425, 19)"
            ]
          },
          "execution_count": 18,
          "metadata": {},
          "output_type": "execute_result"
        }
      ],
      "source": [
        "#train[train.duplicated(train.loc[:, train.columns != \"credit\"].columns, keep=False)].shape"
      ]
    },
    {
      "cell_type": "code",
      "execution_count": 115,
      "metadata": {
        "id": "TGp0gtekkTeB"
      },
      "outputs": [],
      "source": [
        "#train.drop_duplicates(train.loc[:, train.columns != \"credit\"].columns, keep=False, inplace=True)"
      ]
    },
    {
      "cell_type": "code",
      "execution_count": 116,
      "metadata": {
        "colab": {
          "base_uri": "https://localhost:8080/"
        },
        "id": "ic_dZ2pekg72",
        "outputId": "606b5105-92eb-494d-cb03-84202bc12d8b"
      },
      "outputs": [
        {
          "data": {
            "text/plain": [
              "(0, 18)"
            ]
          },
          "execution_count": 116,
          "metadata": {},
          "output_type": "execute_result"
        }
      ],
      "source": [
        "#train[train.duplicated(train.loc[:, train.columns != \"credit\"].columns, keep=False)].shape"
      ]
    },
    {
      "cell_type": "markdown",
      "metadata": {},
      "source": [
        "Just reseting index:"
      ]
    },
    {
      "cell_type": "code",
      "execution_count": 16,
      "metadata": {
        "colab": {
          "base_uri": "https://localhost:8080/"
        },
        "id": "ygJJpfq2lurv",
        "outputId": "91fb6712-80d0-4057-b159-b6a000ab205f"
      },
      "outputs": [
        {
          "data": {
            "text/plain": [
              "RangeIndex(start=0, stop=24817, step=1)"
            ]
          },
          "execution_count": 16,
          "metadata": {},
          "output_type": "execute_result"
        }
      ],
      "source": [
        "train.reset_index(drop=True, inplace=True)\n",
        "train.index"
      ]
    },
    {
      "cell_type": "code",
      "execution_count": 17,
      "metadata": {
        "colab": {
          "base_uri": "https://localhost:8080/",
          "height": 461
        },
        "id": "X2uT88nkntEx",
        "outputId": "5112920d-4055-451f-a7a1-2fbaa112a53f"
      },
      "outputs": [
        {
          "data": {
            "text/html": [
              "<div>\n",
              "<style scoped>\n",
              "    .dataframe tbody tr th:only-of-type {\n",
              "        vertical-align: middle;\n",
              "    }\n",
              "\n",
              "    .dataframe tbody tr th {\n",
              "        vertical-align: top;\n",
              "    }\n",
              "\n",
              "    .dataframe thead th {\n",
              "        text-align: right;\n",
              "    }\n",
              "</style>\n",
              "<table border=\"1\" class=\"dataframe\">\n",
              "  <thead>\n",
              "    <tr style=\"text-align: right;\">\n",
              "      <th></th>\n",
              "      <th>gender</th>\n",
              "      <th>car</th>\n",
              "      <th>reality</th>\n",
              "      <th>child_num</th>\n",
              "      <th>income_total</th>\n",
              "      <th>income_type</th>\n",
              "      <th>edu_type</th>\n",
              "      <th>family_type</th>\n",
              "      <th>house_type</th>\n",
              "      <th>days_birth</th>\n",
              "      <th>days_employed</th>\n",
              "      <th>work_phone</th>\n",
              "      <th>home_phone</th>\n",
              "      <th>email</th>\n",
              "      <th>occup_type</th>\n",
              "      <th>family_size</th>\n",
              "      <th>begin_month</th>\n",
              "      <th>credit</th>\n",
              "      <th>CODE</th>\n",
              "    </tr>\n",
              "  </thead>\n",
              "  <tbody>\n",
              "    <tr>\n",
              "      <th>0</th>\n",
              "      <td>F</td>\n",
              "      <td>N</td>\n",
              "      <td>N</td>\n",
              "      <td>0</td>\n",
              "      <td>202500.0</td>\n",
              "      <td>Commercial associate</td>\n",
              "      <td>Higher education</td>\n",
              "      <td>Married</td>\n",
              "      <td>Municipal apartment</td>\n",
              "      <td>-13899</td>\n",
              "      <td>-4709</td>\n",
              "      <td>0</td>\n",
              "      <td>0</td>\n",
              "      <td>0</td>\n",
              "      <td>No job</td>\n",
              "      <td>2.0</td>\n",
              "      <td>-6.0</td>\n",
              "      <td>1.0</td>\n",
              "      <td>F-13899202500.0Commercial associate</td>\n",
              "    </tr>\n",
              "    <tr>\n",
              "      <th>1</th>\n",
              "      <td>F</td>\n",
              "      <td>N</td>\n",
              "      <td>Y</td>\n",
              "      <td>1</td>\n",
              "      <td>247500.0</td>\n",
              "      <td>Commercial associate</td>\n",
              "      <td>Secondary / secondary special</td>\n",
              "      <td>Civil marriage</td>\n",
              "      <td>House / apartment</td>\n",
              "      <td>-11380</td>\n",
              "      <td>-1540</td>\n",
              "      <td>0</td>\n",
              "      <td>0</td>\n",
              "      <td>1</td>\n",
              "      <td>Laborers</td>\n",
              "      <td>3.0</td>\n",
              "      <td>-5.0</td>\n",
              "      <td>1.0</td>\n",
              "      <td>F-11380247500.0Commercial associate</td>\n",
              "    </tr>\n",
              "    <tr>\n",
              "      <th>2</th>\n",
              "      <td>M</td>\n",
              "      <td>Y</td>\n",
              "      <td>Y</td>\n",
              "      <td>0</td>\n",
              "      <td>450000.0</td>\n",
              "      <td>Working</td>\n",
              "      <td>Higher education</td>\n",
              "      <td>Married</td>\n",
              "      <td>House / apartment</td>\n",
              "      <td>-19087</td>\n",
              "      <td>-4434</td>\n",
              "      <td>0</td>\n",
              "      <td>1</td>\n",
              "      <td>0</td>\n",
              "      <td>Managers</td>\n",
              "      <td>2.0</td>\n",
              "      <td>-22.0</td>\n",
              "      <td>2.0</td>\n",
              "      <td>M-19087450000.0Working</td>\n",
              "    </tr>\n",
              "    <tr>\n",
              "      <th>3</th>\n",
              "      <td>F</td>\n",
              "      <td>N</td>\n",
              "      <td>Y</td>\n",
              "      <td>0</td>\n",
              "      <td>202500.0</td>\n",
              "      <td>Commercial associate</td>\n",
              "      <td>Secondary / secondary special</td>\n",
              "      <td>Married</td>\n",
              "      <td>House / apartment</td>\n",
              "      <td>-15088</td>\n",
              "      <td>-2092</td>\n",
              "      <td>0</td>\n",
              "      <td>1</td>\n",
              "      <td>0</td>\n",
              "      <td>Sales staff</td>\n",
              "      <td>2.0</td>\n",
              "      <td>-37.0</td>\n",
              "      <td>0.0</td>\n",
              "      <td>F-15088202500.0Commercial associate</td>\n",
              "    </tr>\n",
              "    <tr>\n",
              "      <th>4</th>\n",
              "      <td>F</td>\n",
              "      <td>Y</td>\n",
              "      <td>Y</td>\n",
              "      <td>0</td>\n",
              "      <td>157500.0</td>\n",
              "      <td>State servant</td>\n",
              "      <td>Higher education</td>\n",
              "      <td>Married</td>\n",
              "      <td>House / apartment</td>\n",
              "      <td>-15037</td>\n",
              "      <td>-2105</td>\n",
              "      <td>0</td>\n",
              "      <td>0</td>\n",
              "      <td>0</td>\n",
              "      <td>Managers</td>\n",
              "      <td>2.0</td>\n",
              "      <td>-26.0</td>\n",
              "      <td>2.0</td>\n",
              "      <td>F-15037157500.0State servant</td>\n",
              "    </tr>\n",
              "  </tbody>\n",
              "</table>\n",
              "</div>"
            ],
            "text/plain": [
              "  gender car reality  child_num  income_total           income_type  \\\n",
              "0      F   N       N          0      202500.0  Commercial associate   \n",
              "1      F   N       Y          1      247500.0  Commercial associate   \n",
              "2      M   Y       Y          0      450000.0               Working   \n",
              "3      F   N       Y          0      202500.0  Commercial associate   \n",
              "4      F   Y       Y          0      157500.0         State servant   \n",
              "\n",
              "                        edu_type     family_type           house_type  \\\n",
              "0               Higher education         Married  Municipal apartment   \n",
              "1  Secondary / secondary special  Civil marriage    House / apartment   \n",
              "2               Higher education         Married    House / apartment   \n",
              "3  Secondary / secondary special         Married    House / apartment   \n",
              "4               Higher education         Married    House / apartment   \n",
              "\n",
              "   days_birth  days_employed  work_phone  home_phone  email   occup_type  \\\n",
              "0      -13899          -4709           0           0      0       No job   \n",
              "1      -11380          -1540           0           0      1     Laborers   \n",
              "2      -19087          -4434           0           1      0     Managers   \n",
              "3      -15088          -2092           0           1      0  Sales staff   \n",
              "4      -15037          -2105           0           0      0     Managers   \n",
              "\n",
              "   family_size  begin_month  credit                                 CODE  \n",
              "0          2.0         -6.0     1.0  F-13899202500.0Commercial associate  \n",
              "1          3.0         -5.0     1.0  F-11380247500.0Commercial associate  \n",
              "2          2.0        -22.0     2.0               M-19087450000.0Working  \n",
              "3          2.0        -37.0     0.0  F-15088202500.0Commercial associate  \n",
              "4          2.0        -26.0     2.0         F-15037157500.0State servant  "
            ]
          },
          "execution_count": 17,
          "metadata": {},
          "output_type": "execute_result"
        }
      ],
      "source": [
        "train.head()"
      ]
    },
    {
      "cell_type": "markdown",
      "metadata": {
        "id": "a6BQUBLzopxa"
      },
      "source": [
        "## **Absolute values for some of the columns**"
      ]
    },
    {
      "cell_type": "code",
      "execution_count": 19,
      "metadata": {
        "colab": {
          "base_uri": "https://localhost:8080/",
          "height": 461
        },
        "id": "UBh2SRPToupN",
        "outputId": "5502227c-9e87-423c-9fb9-b8fa80654e31"
      },
      "outputs": [
        {
          "data": {
            "text/html": [
              "<div>\n",
              "<style scoped>\n",
              "    .dataframe tbody tr th:only-of-type {\n",
              "        vertical-align: middle;\n",
              "    }\n",
              "\n",
              "    .dataframe tbody tr th {\n",
              "        vertical-align: top;\n",
              "    }\n",
              "\n",
              "    .dataframe thead th {\n",
              "        text-align: right;\n",
              "    }\n",
              "</style>\n",
              "<table border=\"1\" class=\"dataframe\">\n",
              "  <thead>\n",
              "    <tr style=\"text-align: right;\">\n",
              "      <th></th>\n",
              "      <th>gender</th>\n",
              "      <th>car</th>\n",
              "      <th>reality</th>\n",
              "      <th>child_num</th>\n",
              "      <th>income_total</th>\n",
              "      <th>income_type</th>\n",
              "      <th>edu_type</th>\n",
              "      <th>family_type</th>\n",
              "      <th>house_type</th>\n",
              "      <th>days_birth</th>\n",
              "      <th>days_employed</th>\n",
              "      <th>work_phone</th>\n",
              "      <th>home_phone</th>\n",
              "      <th>email</th>\n",
              "      <th>occup_type</th>\n",
              "      <th>family_size</th>\n",
              "      <th>begin_month</th>\n",
              "      <th>credit</th>\n",
              "      <th>CODE</th>\n",
              "    </tr>\n",
              "  </thead>\n",
              "  <tbody>\n",
              "    <tr>\n",
              "      <th>0</th>\n",
              "      <td>F</td>\n",
              "      <td>N</td>\n",
              "      <td>N</td>\n",
              "      <td>0</td>\n",
              "      <td>202500.0</td>\n",
              "      <td>Commercial associate</td>\n",
              "      <td>Higher education</td>\n",
              "      <td>Married</td>\n",
              "      <td>Municipal apartment</td>\n",
              "      <td>13899</td>\n",
              "      <td>4709</td>\n",
              "      <td>0</td>\n",
              "      <td>0</td>\n",
              "      <td>0</td>\n",
              "      <td>No job</td>\n",
              "      <td>2.0</td>\n",
              "      <td>6</td>\n",
              "      <td>1.0</td>\n",
              "      <td>F-13899202500.0Commercial associate</td>\n",
              "    </tr>\n",
              "    <tr>\n",
              "      <th>1</th>\n",
              "      <td>F</td>\n",
              "      <td>N</td>\n",
              "      <td>Y</td>\n",
              "      <td>1</td>\n",
              "      <td>247500.0</td>\n",
              "      <td>Commercial associate</td>\n",
              "      <td>Secondary / secondary special</td>\n",
              "      <td>Civil marriage</td>\n",
              "      <td>House / apartment</td>\n",
              "      <td>11380</td>\n",
              "      <td>1540</td>\n",
              "      <td>0</td>\n",
              "      <td>0</td>\n",
              "      <td>1</td>\n",
              "      <td>Laborers</td>\n",
              "      <td>3.0</td>\n",
              "      <td>5</td>\n",
              "      <td>1.0</td>\n",
              "      <td>F-11380247500.0Commercial associate</td>\n",
              "    </tr>\n",
              "    <tr>\n",
              "      <th>2</th>\n",
              "      <td>M</td>\n",
              "      <td>Y</td>\n",
              "      <td>Y</td>\n",
              "      <td>0</td>\n",
              "      <td>450000.0</td>\n",
              "      <td>Working</td>\n",
              "      <td>Higher education</td>\n",
              "      <td>Married</td>\n",
              "      <td>House / apartment</td>\n",
              "      <td>19087</td>\n",
              "      <td>4434</td>\n",
              "      <td>0</td>\n",
              "      <td>1</td>\n",
              "      <td>0</td>\n",
              "      <td>Managers</td>\n",
              "      <td>2.0</td>\n",
              "      <td>22</td>\n",
              "      <td>2.0</td>\n",
              "      <td>M-19087450000.0Working</td>\n",
              "    </tr>\n",
              "    <tr>\n",
              "      <th>3</th>\n",
              "      <td>F</td>\n",
              "      <td>N</td>\n",
              "      <td>Y</td>\n",
              "      <td>0</td>\n",
              "      <td>202500.0</td>\n",
              "      <td>Commercial associate</td>\n",
              "      <td>Secondary / secondary special</td>\n",
              "      <td>Married</td>\n",
              "      <td>House / apartment</td>\n",
              "      <td>15088</td>\n",
              "      <td>2092</td>\n",
              "      <td>0</td>\n",
              "      <td>1</td>\n",
              "      <td>0</td>\n",
              "      <td>Sales staff</td>\n",
              "      <td>2.0</td>\n",
              "      <td>37</td>\n",
              "      <td>0.0</td>\n",
              "      <td>F-15088202500.0Commercial associate</td>\n",
              "    </tr>\n",
              "    <tr>\n",
              "      <th>4</th>\n",
              "      <td>F</td>\n",
              "      <td>Y</td>\n",
              "      <td>Y</td>\n",
              "      <td>0</td>\n",
              "      <td>157500.0</td>\n",
              "      <td>State servant</td>\n",
              "      <td>Higher education</td>\n",
              "      <td>Married</td>\n",
              "      <td>House / apartment</td>\n",
              "      <td>15037</td>\n",
              "      <td>2105</td>\n",
              "      <td>0</td>\n",
              "      <td>0</td>\n",
              "      <td>0</td>\n",
              "      <td>Managers</td>\n",
              "      <td>2.0</td>\n",
              "      <td>26</td>\n",
              "      <td>2.0</td>\n",
              "      <td>F-15037157500.0State servant</td>\n",
              "    </tr>\n",
              "  </tbody>\n",
              "</table>\n",
              "</div>"
            ],
            "text/plain": [
              "  gender car reality  child_num  income_total           income_type  \\\n",
              "0      F   N       N          0      202500.0  Commercial associate   \n",
              "1      F   N       Y          1      247500.0  Commercial associate   \n",
              "2      M   Y       Y          0      450000.0               Working   \n",
              "3      F   N       Y          0      202500.0  Commercial associate   \n",
              "4      F   Y       Y          0      157500.0         State servant   \n",
              "\n",
              "                        edu_type     family_type           house_type  \\\n",
              "0               Higher education         Married  Municipal apartment   \n",
              "1  Secondary / secondary special  Civil marriage    House / apartment   \n",
              "2               Higher education         Married    House / apartment   \n",
              "3  Secondary / secondary special         Married    House / apartment   \n",
              "4               Higher education         Married    House / apartment   \n",
              "\n",
              "   days_birth  days_employed  work_phone  home_phone  email   occup_type  \\\n",
              "0       13899           4709           0           0      0       No job   \n",
              "1       11380           1540           0           0      1     Laborers   \n",
              "2       19087           4434           0           1      0     Managers   \n",
              "3       15088           2092           0           1      0  Sales staff   \n",
              "4       15037           2105           0           0      0     Managers   \n",
              "\n",
              "   family_size  begin_month  credit                                 CODE  \n",
              "0          2.0            6     1.0  F-13899202500.0Commercial associate  \n",
              "1          3.0            5     1.0  F-11380247500.0Commercial associate  \n",
              "2          2.0           22     2.0               M-19087450000.0Working  \n",
              "3          2.0           37     0.0  F-15088202500.0Commercial associate  \n",
              "4          2.0           26     2.0         F-15037157500.0State servant  "
            ]
          },
          "execution_count": 19,
          "metadata": {},
          "output_type": "execute_result"
        }
      ],
      "source": [
        "train[\"days_employed\"] = np.abs(train[\"days_employed\"])\n",
        "train[\"days_birth\"] = np.abs(train[\"days_birth\"])\n",
        "train[\"begin_month\"] = np.abs(train[\"begin_month\"]).astype(int)\n",
        "train.head()"
      ]
    },
    {
      "cell_type": "code",
      "execution_count": 20,
      "metadata": {
        "colab": {
          "base_uri": "https://localhost:8080/",
          "height": 492
        },
        "id": "zvEjsC_HqxEx",
        "outputId": "1a8c7fa8-b8a2-4132-d032-1a087d7ce524"
      },
      "outputs": [
        {
          "data": {
            "text/html": [
              "<div>\n",
              "<style scoped>\n",
              "    .dataframe tbody tr th:only-of-type {\n",
              "        vertical-align: middle;\n",
              "    }\n",
              "\n",
              "    .dataframe tbody tr th {\n",
              "        vertical-align: top;\n",
              "    }\n",
              "\n",
              "    .dataframe thead th {\n",
              "        text-align: right;\n",
              "    }\n",
              "</style>\n",
              "<table border=\"1\" class=\"dataframe\">\n",
              "  <thead>\n",
              "    <tr style=\"text-align: right;\">\n",
              "      <th></th>\n",
              "      <th>gender</th>\n",
              "      <th>car</th>\n",
              "      <th>reality</th>\n",
              "      <th>child_num</th>\n",
              "      <th>income_total</th>\n",
              "      <th>income_type</th>\n",
              "      <th>edu_type</th>\n",
              "      <th>family_type</th>\n",
              "      <th>house_type</th>\n",
              "      <th>days_birth</th>\n",
              "      <th>days_employed</th>\n",
              "      <th>work_phone</th>\n",
              "      <th>home_phone</th>\n",
              "      <th>email</th>\n",
              "      <th>occup_type</th>\n",
              "      <th>family_size</th>\n",
              "      <th>begin_month</th>\n",
              "      <th>CODE</th>\n",
              "    </tr>\n",
              "    <tr>\n",
              "      <th>index</th>\n",
              "      <th></th>\n",
              "      <th></th>\n",
              "      <th></th>\n",
              "      <th></th>\n",
              "      <th></th>\n",
              "      <th></th>\n",
              "      <th></th>\n",
              "      <th></th>\n",
              "      <th></th>\n",
              "      <th></th>\n",
              "      <th></th>\n",
              "      <th></th>\n",
              "      <th></th>\n",
              "      <th></th>\n",
              "      <th></th>\n",
              "      <th></th>\n",
              "      <th></th>\n",
              "      <th></th>\n",
              "    </tr>\n",
              "  </thead>\n",
              "  <tbody>\n",
              "    <tr>\n",
              "      <th>26457</th>\n",
              "      <td>M</td>\n",
              "      <td>Y</td>\n",
              "      <td>N</td>\n",
              "      <td>0</td>\n",
              "      <td>112500.0</td>\n",
              "      <td>Pensioner</td>\n",
              "      <td>Secondary / secondary special</td>\n",
              "      <td>Civil marriage</td>\n",
              "      <td>House / apartment</td>\n",
              "      <td>21990</td>\n",
              "      <td>0</td>\n",
              "      <td>0</td>\n",
              "      <td>1</td>\n",
              "      <td>0</td>\n",
              "      <td>No job</td>\n",
              "      <td>2.0</td>\n",
              "      <td>60</td>\n",
              "      <td>M-21990112500.0Pensioner</td>\n",
              "    </tr>\n",
              "    <tr>\n",
              "      <th>26458</th>\n",
              "      <td>F</td>\n",
              "      <td>N</td>\n",
              "      <td>Y</td>\n",
              "      <td>0</td>\n",
              "      <td>135000.0</td>\n",
              "      <td>State servant</td>\n",
              "      <td>Higher education</td>\n",
              "      <td>Married</td>\n",
              "      <td>House / apartment</td>\n",
              "      <td>18964</td>\n",
              "      <td>8671</td>\n",
              "      <td>0</td>\n",
              "      <td>1</td>\n",
              "      <td>0</td>\n",
              "      <td>Core staff</td>\n",
              "      <td>2.0</td>\n",
              "      <td>36</td>\n",
              "      <td>F-18964135000.0State servant</td>\n",
              "    </tr>\n",
              "    <tr>\n",
              "      <th>26459</th>\n",
              "      <td>F</td>\n",
              "      <td>N</td>\n",
              "      <td>Y</td>\n",
              "      <td>0</td>\n",
              "      <td>69372.0</td>\n",
              "      <td>Working</td>\n",
              "      <td>Secondary / secondary special</td>\n",
              "      <td>Married</td>\n",
              "      <td>House / apartment</td>\n",
              "      <td>15887</td>\n",
              "      <td>217</td>\n",
              "      <td>1</td>\n",
              "      <td>1</td>\n",
              "      <td>0</td>\n",
              "      <td>Laborers</td>\n",
              "      <td>2.0</td>\n",
              "      <td>40</td>\n",
              "      <td>F-1588769372.0Working</td>\n",
              "    </tr>\n",
              "    <tr>\n",
              "      <th>26460</th>\n",
              "      <td>M</td>\n",
              "      <td>Y</td>\n",
              "      <td>N</td>\n",
              "      <td>0</td>\n",
              "      <td>112500.0</td>\n",
              "      <td>Commercial associate</td>\n",
              "      <td>Secondary / secondary special</td>\n",
              "      <td>Married</td>\n",
              "      <td>House / apartment</td>\n",
              "      <td>19270</td>\n",
              "      <td>2531</td>\n",
              "      <td>1</td>\n",
              "      <td>0</td>\n",
              "      <td>0</td>\n",
              "      <td>Drivers</td>\n",
              "      <td>2.0</td>\n",
              "      <td>41</td>\n",
              "      <td>M-19270112500.0Commercial associate</td>\n",
              "    </tr>\n",
              "    <tr>\n",
              "      <th>26461</th>\n",
              "      <td>F</td>\n",
              "      <td>Y</td>\n",
              "      <td>Y</td>\n",
              "      <td>0</td>\n",
              "      <td>225000.0</td>\n",
              "      <td>State servant</td>\n",
              "      <td>Higher education</td>\n",
              "      <td>Married</td>\n",
              "      <td>House / apartment</td>\n",
              "      <td>17822</td>\n",
              "      <td>9385</td>\n",
              "      <td>1</td>\n",
              "      <td>0</td>\n",
              "      <td>0</td>\n",
              "      <td>Managers</td>\n",
              "      <td>2.0</td>\n",
              "      <td>8</td>\n",
              "      <td>F-17822225000.0State servant</td>\n",
              "    </tr>\n",
              "  </tbody>\n",
              "</table>\n",
              "</div>"
            ],
            "text/plain": [
              "      gender car reality  child_num  income_total           income_type  \\\n",
              "index                                                                     \n",
              "26457      M   Y       N          0      112500.0             Pensioner   \n",
              "26458      F   N       Y          0      135000.0         State servant   \n",
              "26459      F   N       Y          0       69372.0               Working   \n",
              "26460      M   Y       N          0      112500.0  Commercial associate   \n",
              "26461      F   Y       Y          0      225000.0         State servant   \n",
              "\n",
              "                            edu_type     family_type         house_type  \\\n",
              "index                                                                     \n",
              "26457  Secondary / secondary special  Civil marriage  House / apartment   \n",
              "26458               Higher education         Married  House / apartment   \n",
              "26459  Secondary / secondary special         Married  House / apartment   \n",
              "26460  Secondary / secondary special         Married  House / apartment   \n",
              "26461               Higher education         Married  House / apartment   \n",
              "\n",
              "       days_birth  days_employed  work_phone  home_phone  email  occup_type  \\\n",
              "index                                                                         \n",
              "26457       21990              0           0           1      0      No job   \n",
              "26458       18964           8671           0           1      0  Core staff   \n",
              "26459       15887            217           1           1      0    Laborers   \n",
              "26460       19270           2531           1           0      0     Drivers   \n",
              "26461       17822           9385           1           0      0    Managers   \n",
              "\n",
              "       family_size  begin_month                                 CODE  \n",
              "index                                                                 \n",
              "26457          2.0           60             M-21990112500.0Pensioner  \n",
              "26458          2.0           36         F-18964135000.0State servant  \n",
              "26459          2.0           40                F-1588769372.0Working  \n",
              "26460          2.0           41  M-19270112500.0Commercial associate  \n",
              "26461          2.0            8         F-17822225000.0State servant  "
            ]
          },
          "execution_count": 20,
          "metadata": {},
          "output_type": "execute_result"
        }
      ],
      "source": [
        "test[\"days_employed\"] = np.abs(test[\"days_employed\"])\n",
        "test[\"days_birth\"] = np.abs(test[\"days_birth\"])\n",
        "test[\"begin_month\"] = np.abs(test[\"begin_month\"]).astype(int)\n",
        "test.head()"
      ]
    },
    {
      "cell_type": "markdown",
      "metadata": {
        "id": "mg4sjigQq9kI"
      },
      "source": [
        "## **Save cleaned datasets**"
      ]
    },
    {
      "cell_type": "code",
      "execution_count": 21,
      "metadata": {
        "id": "UKxOr28ZrCM7"
      },
      "outputs": [],
      "source": [
        "train.to_csv(\"../data/cleaned_train.csv\", index=True)\n",
        "test.to_csv(\"../data/cleaned_test.csv\", index=True)"
      ]
    }
  ],
  "metadata": {
    "colab": {
      "provenance": []
    },
    "kernelspec": {
      "display_name": "Python 3.10.8 64-bit (microsoft store)",
      "language": "python",
      "name": "python3"
    },
    "language_info": {
      "codemirror_mode": {
        "name": "ipython",
        "version": 3
      },
      "file_extension": ".py",
      "mimetype": "text/x-python",
      "name": "python",
      "nbconvert_exporter": "python",
      "pygments_lexer": "ipython3",
      "version": "3.10.8"
    },
    "vscode": {
      "interpreter": {
        "hash": "2df53de82fe139b23b9a340061c8527273b7fa86551030a1983ff618b17018eb"
      }
    }
  },
  "nbformat": 4,
  "nbformat_minor": 0
}
